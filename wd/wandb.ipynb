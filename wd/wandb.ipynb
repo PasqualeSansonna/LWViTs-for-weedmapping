{
 "cells": [
  {
   "cell_type": "code",
   "execution_count": 1,
   "outputs": [],
   "source": [
    "import numpy as np\n",
    "import pandas as pd\n",
    "import wandb\n",
    "from wd.utils.utilities import mlflow_linearize"
   ],
   "metadata": {
    "collapsed": false,
    "pycharm": {
     "name": "#%%\n"
    }
   }
  },
  {
   "cell_type": "code",
   "execution_count": 2,
   "outputs": [],
   "source": [
    "from IPython.core.display_functions import display\n",
    "\n",
    "\n",
    "def get_runs(run_filters):\n",
    "    # Project is specified by <entity/project-name>\n",
    "    runs = api.runs(\"pasqualedem/weeddetection\", filters=run_filters)\n",
    "\n",
    "    summary_list, config_list, name_list = [], [], []\n",
    "    for run in runs:\n",
    "        # .summary contains the output keys/values for metrics like accuracy.\n",
    "        #  We call ._json_dict to omit large files\n",
    "        summary_list.append(run.summary._json_dict)\n",
    "\n",
    "        # .config contains the hyperparameters.\n",
    "        #  We remove special values that start with _.\n",
    "        config_list.append(\n",
    "            {k: v for k,v in run.config.items()\n",
    "              if not k.startswith('_')})\n",
    "\n",
    "        # .name is the human-readable name of the run.\n",
    "        name_list.append(run.name)\n",
    "    df = pd.DataFrame([{**mlflow_linearize(dc), **mlflow_linearize(ds)} for dc, ds in zip(config_list, summary_list)])\n",
    "    return df\n",
    "\n",
    "def remove_hyp(df):\n",
    "    to_delete = filter(lambda x: x.startswith('hyper_params'), df.columns)\n",
    "    display(list(to_delete))\n",
    "    for l in to_delete:\n",
    "        df.drop(l, inplace=True)\n",
    "\n",
    "def rename_values(df: pd.DataFrame, vrenamings: dict):\n",
    "    for column, values in vrenamings.items():\n",
    "        if column in df.columns:\n",
    "            df[column] = df[column].replace(values)"
   ],
   "metadata": {
    "collapsed": false,
    "pycharm": {
     "name": "#%%\n"
    }
   }
  },
  {
   "cell_type": "code",
   "execution_count": 3,
   "outputs": [],
   "source": [
    "api = wandb.Api()"
   ],
   "metadata": {
    "collapsed": false,
    "pycharm": {
     "name": "#%%\n"
    }
   }
  },
  {
   "cell_type": "code",
   "execution_count": 4,
   "outputs": [],
   "source": [
    "renamings = {\n",
    "    'in_params.dataset.channels': 'Channels',\n",
    "    'in_params.train_params.optimizer_params.weight_decay': \"Weight Decay\",\n",
    "    'in_params.train_params.initial_lr': 'LR',\n",
    "    'in_params.model.name': 'Model',\n",
    "    'in_params.model.params.backbone': 'Backbone',\n",
    "    'in_params.train_params.freeze_pretrained': 'Strategy',\n",
    "    'in_params.model.params.main_pretrained': 'Used Weights',\n",
    "    'train_WrapF1': 'Train F1',\n",
    "    'f1': 'F1',\n",
    "    'in_params.dataset.batch_size': 'Batch Size',\n",
    "    'precision': 'Precision',\n",
    "    'in_params.train_params.loss.params.gamma': 'Gamma',\n",
    "    'in_params.model.params.fusion_type': 'DropPath',\n",
    "    'recall': 'Recall'\n",
    "}\n",
    "value_renamings = {\n",
    "    'Strategy': {True: 'Freeze', False: 'Fine-Tuning'},\n",
    "    'DropPath': {'conv_sum_drop': 'Yes', 'conv_sum': 'No'}\n",
    "}\n",
    "channels_ordering = {\n",
    "    \"G, NDVI, NIR, R, RE\" : 1,\n",
    "    \"R, G, NIR, RE\": 2,\n",
    "    \"R, G, RE, NIR\": 2,\n",
    "    \"R, G, RE\": 3,\n",
    "    \"G, NIR, R\": 3,\n",
    "    \"R, G, NIR\": 4,\n",
    "    \"R, G, NDVI\": 5,\n",
    "    \"R, G\": 6,\n",
    "    \"CIR\": 7,\n",
    "    \"NDVI\": 8,\n",
    "\n",
    "    'Fine-Tuning': 1,\n",
    "    'Freeze': 2,\n",
    "\n",
    "    'R': 1,\n",
    "    'G': 2,\n",
    "    'RGB': 2.5,\n",
    "    'G, G, R': 3,\n",
    "    'R, G, G, G': 4,\n",
    "\n",
    "    'MiT-B0': 0,\n",
    "    'MiT-B1': 1,\n",
    "    'lawin': 0,\n",
    "    'laweed': 1,\n",
    "    'doublelawin': 2,\n",
    "    'doublelaweed': 3,\n",
    "}"
   ],
   "metadata": {
    "collapsed": false,
    "pycharm": {
     "name": "#%%\n"
    }
   }
  },
  {
   "cell_type": "markdown",
   "source": [],
   "metadata": {
    "collapsed": false,
    "pycharm": {
     "name": "#%% md\n"
    }
   }
  },
  {
   "cell_type": "markdown",
   "source": [
    "## Lawin"
   ],
   "metadata": {
    "collapsed": false,
    "pycharm": {
     "name": "#%% md\n"
    }
   }
  },
  {
   "cell_type": "code",
   "execution_count": 34,
   "outputs": [],
   "source": [
    "filters = {\n",
    "    'group': 'Lawin', 'config.in_params.model.params.backbone': 'MiT-B0'\n",
    "}\n",
    "selected_cols = [\n",
    "    'in_params.dataset.channels',\n",
    "    'in_params.train_params.optimizer_params.weight_decay',\n",
    "    'in_params.train_params.initial_lr',\n",
    "    # 'in_params.model.name',\n",
    "    'f1',\n",
    "    'precision',\n",
    "    'recall'\n",
    "]\n",
    "roundings = ['F1', 'Precision', 'Recall']"
   ],
   "metadata": {
    "collapsed": false,
    "pycharm": {
     "name": "#%%\n"
    }
   }
  },
  {
   "cell_type": "code",
   "execution_count": 35,
   "outputs": [
    {
     "data": {
      "text/plain": "['hyper_params.arch_params.schema',\n 'hyper_params.arch_params.sync_bn',\n 'hyper_params.arch_params.backbone',\n 'hyper_params.arch_params.in_channels',\n 'hyper_params.arch_params.num_classes',\n 'hyper_params.arch_params.out_channels',\n 'hyper_params.arch_params.input_channels',\n 'hyper_params.arch_params.output_channels',\n 'hyper_params.dataset_params.root',\n 'hyper_params.dataset_params.size',\n 'hyper_params.dataset_params.schema',\n 'hyper_params.dataset_params.s3_link',\n 'hyper_params.dataset_params.channels',\n 'hyper_params.dataset_params.hor_flip',\n 'hyper_params.dataset_params.ver_flip',\n 'hyper_params.dataset_params.crop_size',\n 'hyper_params.dataset_params.batch_size',\n 'hyper_params.dataset_params.dataset_dir',\n 'hyper_params.dataset_params.num_classes',\n 'hyper_params.dataset_params.num_workers',\n 'hyper_params.dataset_params.return_path',\n 'hyper_params.dataset_params.test_folders',\n 'hyper_params.dataset_params.train_folders',\n 'hyper_params.dataset_params.val_batch_size',\n 'hyper_params.dataset_params.test_batch_size',\n 'hyper_params.additional_log_items.multi_gpu',\n 'hyper_params.additional_log_items.initial_LR',\n 'hyper_params.additional_log_items.device_type',\n 'hyper_params.additional_log_items.num_devices',\n 'hyper_params.additional_log_items.installed_packages',\n 'hyper_params.training_hyperparams.ema',\n 'hyper_params.training_hyperparams.loss',\n 'hyper_params.training_hyperparams.seed',\n 'hyper_params.training_hyperparams.schema.if.properties.lr_mode.const',\n 'hyper_params.training_hyperparams.schema.then.required',\n 'hyper_params.training_hyperparams.schema.type',\n 'hyper_params.training_hyperparams.schema.required',\n 'hyper_params.training_hyperparams.schema.properties.initial_lr.type',\n 'hyper_params.training_hyperparams.schema.properties.initial_lr.maximum',\n 'hyper_params.training_hyperparams.schema.properties.initial_lr.exclusiveMinimum',\n 'hyper_params.training_hyperparams.schema.properties.max_epochs.type',\n 'hyper_params.training_hyperparams.schema.properties.max_epochs.minimum',\n 'hyper_params.training_hyperparams.schema.properties.lr_decay_factor.type',\n 'hyper_params.training_hyperparams.schema.properties.lr_decay_factor.maximum',\n 'hyper_params.training_hyperparams.schema.properties.lr_decay_factor.minimum',\n 'hyper_params.training_hyperparams.schema.properties.lr_warmup_epochs.type',\n 'hyper_params.training_hyperparams.schema.properties.lr_warmup_epochs.maximum',\n 'hyper_params.training_hyperparams.schema.properties.lr_warmup_epochs.minimum',\n 'hyper_params.training_hyperparams.lr_mode',\n 'hyper_params.training_hyperparams.optimizer',\n 'hyper_params.training_hyperparams.sg_logger',\n 'hyper_params.training_hyperparams.initial_lr',\n 'hyper_params.training_hyperparams.lr_updates',\n 'hyper_params.training_hyperparams.max_epochs',\n 'hyper_params.training_hyperparams.precise_bn',\n 'hyper_params.training_hyperparams.save_model',\n 'hyper_params.training_hyperparams.silent_mode',\n 'hyper_params.training_hyperparams.warmup_mode',\n 'hyper_params.training_hyperparams.load_opt_params',\n 'hyper_params.training_hyperparams.metric_to_watch',\n 'hyper_params.training_hyperparams.mixed_precision',\n 'hyper_params.training_hyperparams.phase_callbacks',\n 'hyper_params.training_hyperparams.batch_accumulate',\n 'hyper_params.training_hyperparams.lr_warmup_epochs',\n 'hyper_params.training_hyperparams.optimizer_params.weight_decay',\n 'hyper_params.training_hyperparams.sg_logger_params.tags',\n 'hyper_params.training_hyperparams.sg_logger_params.entity',\n 'hyper_params.training_hyperparams.sg_logger_params.project_name',\n 'hyper_params.training_hyperparams.sg_logger_params.save_logs_remote',\n 'hyper_params.training_hyperparams.sg_logger_params.tensorboard_port',\n 'hyper_params.training_hyperparams.sg_logger_params.launch_tensorboard',\n 'hyper_params.training_hyperparams.sg_logger_params.tb_files_user_prompt',\n 'hyper_params.training_hyperparams.sg_logger_params.save_checkpoints_remote',\n 'hyper_params.training_hyperparams.sg_logger_params.save_tensorboard_remote',\n 'hyper_params.training_hyperparams.tensorboard_port',\n 'hyper_params.training_hyperparams.warmup_initial_lr',\n 'hyper_params.training_hyperparams.dataset_statistics',\n 'hyper_params.training_hyperparams.launch_tensorboard',\n 'hyper_params.training_hyperparams.train_metrics_list',\n 'hyper_params.training_hyperparams.valid_metrics_list',\n 'hyper_params.training_hyperparams.average_best_models',\n 'hyper_params.training_hyperparams.run_validation_freq',\n 'hyper_params.training_hyperparams.save_full_train_log',\n 'hyper_params.training_hyperparams.step_lr_update_freq',\n 'hyper_params.training_hyperparams.lr_schedule_function',\n 'hyper_params.training_hyperparams.save_ckpt_epoch_list',\n 'hyper_params.training_hyperparams.tb_files_user_prompt',\n 'hyper_params.training_hyperparams.cosine_final_lr_ratio',\n 'hyper_params.training_hyperparams.precise_bn_batch_size',\n 'hyper_params.training_hyperparams.log_installed_packages',\n 'hyper_params.training_hyperparams.save_tensorboard_to_s3',\n 'hyper_params.training_hyperparams.loss_logging_items_names',\n 'hyper_params.training_hyperparams.zero_weight_decay_on_bias_and_bn',\n 'hyper_params.training_hyperparams.greater_metric_to_watch_is_better']"
     },
     "metadata": {},
     "output_type": "display_data"
    }
   ],
   "source": [
    "runs_df = get_runs(filters)\n",
    "remove_hyp(runs_df)"
   ],
   "metadata": {
    "collapsed": false,
    "pycharm": {
     "name": "#%%\n"
    }
   }
  },
  {
   "cell_type": "code",
   "execution_count": 36,
   "outputs": [
    {
     "data": {
      "text/plain": "   in_params.tags in_params.model.name in_params.model.params.backbone  \\\n0      [crop, B0]                lawin                          MiT-B0   \n1      [crop, B0]                lawin                          MiT-B0   \n2      [crop, B0]                lawin                          MiT-B0   \n3      [crop, B0]                lawin                          MiT-B0   \n4      [crop, B0]                lawin                          MiT-B0   \n5      [crop, B0]                lawin                          MiT-B0   \n6      [crop, B0]                lawin                          MiT-B0   \n7      [crop, B0]                lawin                          MiT-B0   \n8      [crop, B0]                lawin                          MiT-B0   \n9      [crop, B0]                lawin                          MiT-B0   \n10     [crop, B0]                lawin                          MiT-B0   \n11     [crop, B0]                lawin                          MiT-B0   \n12     [crop, B0]                lawin                          MiT-B0   \n13     [crop, B0]                lawin                          MiT-B0   \n14     [crop, B0]                lawin                          MiT-B0   \n15     [crop, B0]                lawin                          MiT-B0   \n16     [crop, B0]                lawin                          MiT-B0   \n17     [crop, B0]                lawin                          MiT-B0   \n18     [crop, B0]                lawin                          MiT-B0   \n19     [crop, B0]                lawin                          MiT-B0   \n20     [crop, B0]                lawin                          MiT-B0   \n21     [crop, B0]                lawin                          MiT-B0   \n22     [crop, B0]                lawin                          MiT-B0   \n23     [crop, B0]                lawin                          MiT-B0   \n\n   in_params.phases     in_params.dataset.root in_params.dataset.size  \\\n0     [train, test]  dataset/processed/Sequoia                   same   \n1     [train, test]  dataset/processed/Sequoia                   same   \n2     [train, test]  dataset/processed/Sequoia                   same   \n3     [train, test]  dataset/processed/Sequoia                   same   \n4     [train, test]  dataset/processed/Sequoia                   same   \n5     [train, test]  dataset/processed/Sequoia                   same   \n6     [train, test]  dataset/processed/Sequoia                   same   \n7     [train, test]  dataset/processed/Sequoia                   same   \n8     [train, test]  dataset/processed/Sequoia                   same   \n9     [train, test]  dataset/processed/Sequoia                   same   \n10    [train, test]  dataset/processed/Sequoia                   same   \n11    [train, test]  dataset/processed/Sequoia                   same   \n12    [train, test]  dataset/processed/Sequoia                   same   \n13    [train, test]  dataset/processed/Sequoia                   same   \n14    [train, test]  dataset/processed/Sequoia                   same   \n15    [train, test]  dataset/processed/Sequoia                   same   \n16    [train, test]  dataset/processed/Sequoia                   same   \n17    [train, test]  dataset/processed/Sequoia                   same   \n18    [train, test]  dataset/processed/Sequoia                   same   \n19    [train, test]  dataset/processed/Sequoia                   same   \n20    [train, test]  dataset/processed/Sequoia                   same   \n21    [train, test]  dataset/processed/Sequoia                   same   \n22    [train, test]  dataset/processed/Sequoia                   same   \n23    [train, test]  dataset/processed/Sequoia                   same   \n\n   in_params.dataset.channels  in_params.dataset.hor_flip  \\\n0       [G, NDVI, NIR, R, RE]                        True   \n1             [R, G, RE, NIR]                        True   \n2                 [G, NIR, R]                        True   \n3                         CIR                        True   \n4                      [NDVI]                        True   \n5                      [R, G]                        True   \n6       [G, NDVI, NIR, R, RE]                        True   \n7             [R, G, RE, NIR]                        True   \n8                 [G, NIR, R]                        True   \n9                         CIR                        True   \n10                     [NDVI]                        True   \n11                     [R, G]                        True   \n12      [G, NDVI, NIR, R, RE]                        True   \n13            [R, G, RE, NIR]                        True   \n14                [G, NIR, R]                        True   \n15                        CIR                        True   \n16                     [NDVI]                        True   \n17                     [R, G]                        True   \n18      [G, NDVI, NIR, R, RE]                        True   \n19            [R, G, RE, NIR]                        True   \n20                [G, NIR, R]                        True   \n21                        CIR                        True   \n22                     [NDVI]                        True   \n23                     [R, G]                        True   \n\n    in_params.dataset.ver_flip in_params.dataset.crop_size  ...  \\\n0                         True                  [256, 256]  ...   \n1                         True                  [256, 256]  ...   \n2                         True                  [256, 256]  ...   \n3                         True                  [256, 256]  ...   \n4                         True                  [256, 256]  ...   \n5                         True                  [256, 256]  ...   \n6                         True                  [256, 256]  ...   \n7                         True                  [256, 256]  ...   \n8                         True                  [256, 256]  ...   \n9                         True                  [256, 256]  ...   \n10                        True                  [256, 256]  ...   \n11                        True                  [256, 256]  ...   \n12                        True                  [256, 256]  ...   \n13                        True                  [256, 256]  ...   \n14                        True                  [256, 256]  ...   \n15                        True                  [256, 256]  ...   \n16                        True                  [256, 256]  ...   \n17                        True                  [256, 256]  ...   \n18                        True                  [256, 256]  ...   \n19                        True                  [256, 256]  ...   \n20                        True                  [256, 256]  ...   \n21                        True                  [256, 256]  ...   \n22                        True                  [256, 256]  ...   \n23                        True                  [256, 256]  ...   \n\n    007_frame0224.png.masks.ground_truth.size  \\\n0                                         141   \n1                                         141   \n2                                         141   \n3                                         141   \n4                                         141   \n5                                         141   \n6                                         141   \n7                                         141   \n8                                         141   \n9                                         141   \n10                                        141   \n11                                        141   \n12                                        141   \n13                                        141   \n14                                        141   \n15                                        141   \n16                                        141   \n17                                        141   \n18                                        141   \n19                                        141   \n20                                        141   \n21                                        141   \n22                                        141   \n23                                        141   \n\n    007_frame0224.png.masks.ground_truth._type  \\\n0                                         mask   \n1                                         mask   \n2                                         mask   \n3                                         mask   \n4                                         mask   \n5                                         mask   \n6                                         mask   \n7                                         mask   \n8                                         mask   \n9                                         mask   \n10                                        mask   \n11                                        mask   \n12                                        mask   \n13                                        mask   \n14                                        mask   \n15                                        mask   \n16                                        mask   \n17                                        mask   \n18                                        mask   \n19                                        mask   \n20                                        mask   \n21                                        mask   \n22                                        mask   \n23                                        mask   \n\n          007_frame0224.png.masks.ground_truth.sha256  \\\n0   39962cd5bc9f4f0446341d3e6e0c6c37336ddeb2e026a1...   \n1   39962cd5bc9f4f0446341d3e6e0c6c37336ddeb2e026a1...   \n2   39962cd5bc9f4f0446341d3e6e0c6c37336ddeb2e026a1...   \n3   39962cd5bc9f4f0446341d3e6e0c6c37336ddeb2e026a1...   \n4   39962cd5bc9f4f0446341d3e6e0c6c37336ddeb2e026a1...   \n5   39962cd5bc9f4f0446341d3e6e0c6c37336ddeb2e026a1...   \n6   39962cd5bc9f4f0446341d3e6e0c6c37336ddeb2e026a1...   \n7   39962cd5bc9f4f0446341d3e6e0c6c37336ddeb2e026a1...   \n8   39962cd5bc9f4f0446341d3e6e0c6c37336ddeb2e026a1...   \n9   39962cd5bc9f4f0446341d3e6e0c6c37336ddeb2e026a1...   \n10  39962cd5bc9f4f0446341d3e6e0c6c37336ddeb2e026a1...   \n11  39962cd5bc9f4f0446341d3e6e0c6c37336ddeb2e026a1...   \n12  39962cd5bc9f4f0446341d3e6e0c6c37336ddeb2e026a1...   \n13  39962cd5bc9f4f0446341d3e6e0c6c37336ddeb2e026a1...   \n14  39962cd5bc9f4f0446341d3e6e0c6c37336ddeb2e026a1...   \n15  39962cd5bc9f4f0446341d3e6e0c6c37336ddeb2e026a1...   \n16  39962cd5bc9f4f0446341d3e6e0c6c37336ddeb2e026a1...   \n17  39962cd5bc9f4f0446341d3e6e0c6c37336ddeb2e026a1...   \n18  39962cd5bc9f4f0446341d3e6e0c6c37336ddeb2e026a1...   \n19  39962cd5bc9f4f0446341d3e6e0c6c37336ddeb2e026a1...   \n20  39962cd5bc9f4f0446341d3e6e0c6c37336ddeb2e026a1...   \n21  39962cd5bc9f4f0446341d3e6e0c6c37336ddeb2e026a1...   \n22  39962cd5bc9f4f0446341d3e6e0c6c37336ddeb2e026a1...   \n23  39962cd5bc9f4f0446341d3e6e0c6c37336ddeb2e026a1...   \n\n    007_frame0224.png.width 007_frame0224.png.format 007_frame0224.png.height  \\\n0                       256                      png                      256   \n1                       256                      png                      256   \n2                       256                      png                      256   \n3                       256                      png                      256   \n4                       256                      png                      256   \n5                       256                      png                      256   \n6                       256                      png                      256   \n7                       256                      png                      256   \n8                       256                      png                      256   \n9                       256                      png                      256   \n10                      256                      png                      256   \n11                      256                      png                      256   \n12                      256                      png                      256   \n13                      256                      png                      256   \n14                      256                      png                      256   \n15                      256                      png                      256   \n16                      256                      png                      256   \n17                      256                      png                      256   \n18                      256                      png                      256   \n19                      256                      png                      256   \n20                      256                      png                      256   \n21                      256                      png                      256   \n22                      256                      png                      256   \n23                      256                      png                      256   \n\n                             007_frame0224.png.sha256  \\\n0   a6d5fb43ee3baf3d7f2ef0e06a1aece5bd258e21ba7a02...   \n1   2137b194d2162e5303bf568673ec3118873ecad024d696...   \n2   9a5d5ee3049b51823c6d0af5050c8aab0b7e00cc591c91...   \n3   8c2f5fe9bed274427150af87cbf48f8f1fe9742446d140...   \n4   28b17ef56e139825bcae61e46abd75146ecd879c06ada7...   \n5   cb6c162ec21fc98edfa0d1f9f5fd014f9d9577c58350d0...   \n6   e456d7936d57391fa660c4f09de40f3774ba566daf4bce...   \n7   6c1064c8c3fd1789174988abcd4f161f3fde4f526a87cf...   \n8   d7db98a58cc99bfa04872df5de61901d5090b22a2c0abf...   \n9   8c2f5fe9bed274427150af87cbf48f8f1fe9742446d140...   \n10  1faa5d0df0d84d21f019fc11261a71e65bbad39d312b5b...   \n11  cb6c162ec21fc98edfa0d1f9f5fd014f9d9577c58350d0...   \n12  99373cbf0cc98489ebe6e3358804c1a68d5bedeaa6b633...   \n13  4b75573dae838195ed498a7d4c512e90a9bf281ec0029b...   \n14  cc9ad50b265cfba7bdb4b2fd639673c966b1285df89f8f...   \n15  0d9127b4c566ab0a60354be63de4f1cbfdc3178b11f554...   \n16  969da907896a90c6296b556c9680040c9818269e202384...   \n17  a10279e5754af47dd452056311f6bda6499995003d2c5d...   \n18  06b4ede5bd0c7568b1801184ac3d55fa208ec9bddf0806...   \n19  af2de52d4b10b03e0ab4698111e1df705a71c178c8423e...   \n20  a1e871205c823c54294e676f57f59d7fe2600c1f00d1bb...   \n21  cc42c94e5a3df227dacab408d92efd2c02af6fb15d9092...   \n22  769f7a2fe810c104528865a18b582c6162dcd1754fba65...   \n23  a5faef1464688e5d4c512c098303350b8e08620948ff81...   \n\n                               007_frame0224.png.path 007_frame0224.png.size  \\\n0   media/images/007_frame0224.png_290_a6d5fb43ee3...                  88038   \n1   media/images/007_frame0224.png_528_2137b194d21...                  74508   \n2   media/images/007_frame0224.png_766_9a5d5ee3049...                  87554   \n3   media/images/007_frame0224.png_584_8c2f5fe9bed...                  84858   \n4   media/images/007_frame0224.png_528_28b17ef56e1...                  38943   \n5   media/images/007_frame0224.png_584_cb6c162ec21...                  73829   \n6   media/images/007_frame0224.png_682_e456d7936d5...                  64605   \n7   media/images/007_frame0224.png_668_6c1064c8c3f...                  88112   \n8   media/images/007_frame0224.png_682_d7db98a58cc...                  61664   \n9   media/images/007_frame0224.png_584_8c2f5fe9bed...                  84858   \n10  media/images/007_frame0224.png_458_1faa5d0df0d...                  32987   \n11  media/images/007_frame0224.png_584_cb6c162ec21...                  73829   \n12  media/images/007_frame0224.png_416_99373cbf0cc...                  82373   \n13  media/images/007_frame0224.png_304_4b75573dae8...                  37502   \n14  media/images/007_frame0224.png_304_cc9ad50b265...                  36882   \n15  media/images/007_frame0224.png_374_0d9127b4c56...                  84985   \n16  media/images/007_frame0224.png_304_969da907896...                  21766   \n17  media/images/007_frame0224.png_332_a10279e5754...                  72993   \n18  media/images/007_frame0224.png_584_06b4ede5bd0...                  85649   \n19  media/images/007_frame0224.png_332_af2de52d4b1...                  85764   \n20  media/images/007_frame0224.png_416_a1e871205c8...                  80976   \n21  media/images/007_frame0224.png_416_cc42c94e5a3...                  81027   \n22  media/images/007_frame0224.png_290_769f7a2fe81...                  44003   \n23  media/images/007_frame0224.png_318_a5faef14646...                  74639   \n\n   007_frame0224.png._type  \n0               image-file  \n1               image-file  \n2               image-file  \n3               image-file  \n4               image-file  \n5               image-file  \n6               image-file  \n7               image-file  \n8               image-file  \n9               image-file  \n10              image-file  \n11              image-file  \n12              image-file  \n13              image-file  \n14              image-file  \n15              image-file  \n16              image-file  \n17              image-file  \n18              image-file  \n19              image-file  \n20              image-file  \n21              image-file  \n22              image-file  \n23              image-file  \n\n[24 rows x 385 columns]",
      "text/html": "<div>\n<style scoped>\n    .dataframe tbody tr th:only-of-type {\n        vertical-align: middle;\n    }\n\n    .dataframe tbody tr th {\n        vertical-align: top;\n    }\n\n    .dataframe thead th {\n        text-align: right;\n    }\n</style>\n<table border=\"1\" class=\"dataframe\">\n  <thead>\n    <tr style=\"text-align: right;\">\n      <th></th>\n      <th>in_params.tags</th>\n      <th>in_params.model.name</th>\n      <th>in_params.model.params.backbone</th>\n      <th>in_params.phases</th>\n      <th>in_params.dataset.root</th>\n      <th>in_params.dataset.size</th>\n      <th>in_params.dataset.channels</th>\n      <th>in_params.dataset.hor_flip</th>\n      <th>in_params.dataset.ver_flip</th>\n      <th>in_params.dataset.crop_size</th>\n      <th>...</th>\n      <th>007_frame0224.png.masks.ground_truth.size</th>\n      <th>007_frame0224.png.masks.ground_truth._type</th>\n      <th>007_frame0224.png.masks.ground_truth.sha256</th>\n      <th>007_frame0224.png.width</th>\n      <th>007_frame0224.png.format</th>\n      <th>007_frame0224.png.height</th>\n      <th>007_frame0224.png.sha256</th>\n      <th>007_frame0224.png.path</th>\n      <th>007_frame0224.png.size</th>\n      <th>007_frame0224.png._type</th>\n    </tr>\n  </thead>\n  <tbody>\n    <tr>\n      <th>0</th>\n      <td>[crop, B0]</td>\n      <td>lawin</td>\n      <td>MiT-B0</td>\n      <td>[train, test]</td>\n      <td>dataset/processed/Sequoia</td>\n      <td>same</td>\n      <td>[G, NDVI, NIR, R, RE]</td>\n      <td>True</td>\n      <td>True</td>\n      <td>[256, 256]</td>\n      <td>...</td>\n      <td>141</td>\n      <td>mask</td>\n      <td>39962cd5bc9f4f0446341d3e6e0c6c37336ddeb2e026a1...</td>\n      <td>256</td>\n      <td>png</td>\n      <td>256</td>\n      <td>a6d5fb43ee3baf3d7f2ef0e06a1aece5bd258e21ba7a02...</td>\n      <td>media/images/007_frame0224.png_290_a6d5fb43ee3...</td>\n      <td>88038</td>\n      <td>image-file</td>\n    </tr>\n    <tr>\n      <th>1</th>\n      <td>[crop, B0]</td>\n      <td>lawin</td>\n      <td>MiT-B0</td>\n      <td>[train, test]</td>\n      <td>dataset/processed/Sequoia</td>\n      <td>same</td>\n      <td>[R, G, RE, NIR]</td>\n      <td>True</td>\n      <td>True</td>\n      <td>[256, 256]</td>\n      <td>...</td>\n      <td>141</td>\n      <td>mask</td>\n      <td>39962cd5bc9f4f0446341d3e6e0c6c37336ddeb2e026a1...</td>\n      <td>256</td>\n      <td>png</td>\n      <td>256</td>\n      <td>2137b194d2162e5303bf568673ec3118873ecad024d696...</td>\n      <td>media/images/007_frame0224.png_528_2137b194d21...</td>\n      <td>74508</td>\n      <td>image-file</td>\n    </tr>\n    <tr>\n      <th>2</th>\n      <td>[crop, B0]</td>\n      <td>lawin</td>\n      <td>MiT-B0</td>\n      <td>[train, test]</td>\n      <td>dataset/processed/Sequoia</td>\n      <td>same</td>\n      <td>[G, NIR, R]</td>\n      <td>True</td>\n      <td>True</td>\n      <td>[256, 256]</td>\n      <td>...</td>\n      <td>141</td>\n      <td>mask</td>\n      <td>39962cd5bc9f4f0446341d3e6e0c6c37336ddeb2e026a1...</td>\n      <td>256</td>\n      <td>png</td>\n      <td>256</td>\n      <td>9a5d5ee3049b51823c6d0af5050c8aab0b7e00cc591c91...</td>\n      <td>media/images/007_frame0224.png_766_9a5d5ee3049...</td>\n      <td>87554</td>\n      <td>image-file</td>\n    </tr>\n    <tr>\n      <th>3</th>\n      <td>[crop, B0]</td>\n      <td>lawin</td>\n      <td>MiT-B0</td>\n      <td>[train, test]</td>\n      <td>dataset/processed/Sequoia</td>\n      <td>same</td>\n      <td>CIR</td>\n      <td>True</td>\n      <td>True</td>\n      <td>[256, 256]</td>\n      <td>...</td>\n      <td>141</td>\n      <td>mask</td>\n      <td>39962cd5bc9f4f0446341d3e6e0c6c37336ddeb2e026a1...</td>\n      <td>256</td>\n      <td>png</td>\n      <td>256</td>\n      <td>8c2f5fe9bed274427150af87cbf48f8f1fe9742446d140...</td>\n      <td>media/images/007_frame0224.png_584_8c2f5fe9bed...</td>\n      <td>84858</td>\n      <td>image-file</td>\n    </tr>\n    <tr>\n      <th>4</th>\n      <td>[crop, B0]</td>\n      <td>lawin</td>\n      <td>MiT-B0</td>\n      <td>[train, test]</td>\n      <td>dataset/processed/Sequoia</td>\n      <td>same</td>\n      <td>[NDVI]</td>\n      <td>True</td>\n      <td>True</td>\n      <td>[256, 256]</td>\n      <td>...</td>\n      <td>141</td>\n      <td>mask</td>\n      <td>39962cd5bc9f4f0446341d3e6e0c6c37336ddeb2e026a1...</td>\n      <td>256</td>\n      <td>png</td>\n      <td>256</td>\n      <td>28b17ef56e139825bcae61e46abd75146ecd879c06ada7...</td>\n      <td>media/images/007_frame0224.png_528_28b17ef56e1...</td>\n      <td>38943</td>\n      <td>image-file</td>\n    </tr>\n    <tr>\n      <th>5</th>\n      <td>[crop, B0]</td>\n      <td>lawin</td>\n      <td>MiT-B0</td>\n      <td>[train, test]</td>\n      <td>dataset/processed/Sequoia</td>\n      <td>same</td>\n      <td>[R, G]</td>\n      <td>True</td>\n      <td>True</td>\n      <td>[256, 256]</td>\n      <td>...</td>\n      <td>141</td>\n      <td>mask</td>\n      <td>39962cd5bc9f4f0446341d3e6e0c6c37336ddeb2e026a1...</td>\n      <td>256</td>\n      <td>png</td>\n      <td>256</td>\n      <td>cb6c162ec21fc98edfa0d1f9f5fd014f9d9577c58350d0...</td>\n      <td>media/images/007_frame0224.png_584_cb6c162ec21...</td>\n      <td>73829</td>\n      <td>image-file</td>\n    </tr>\n    <tr>\n      <th>6</th>\n      <td>[crop, B0]</td>\n      <td>lawin</td>\n      <td>MiT-B0</td>\n      <td>[train, test]</td>\n      <td>dataset/processed/Sequoia</td>\n      <td>same</td>\n      <td>[G, NDVI, NIR, R, RE]</td>\n      <td>True</td>\n      <td>True</td>\n      <td>[256, 256]</td>\n      <td>...</td>\n      <td>141</td>\n      <td>mask</td>\n      <td>39962cd5bc9f4f0446341d3e6e0c6c37336ddeb2e026a1...</td>\n      <td>256</td>\n      <td>png</td>\n      <td>256</td>\n      <td>e456d7936d57391fa660c4f09de40f3774ba566daf4bce...</td>\n      <td>media/images/007_frame0224.png_682_e456d7936d5...</td>\n      <td>64605</td>\n      <td>image-file</td>\n    </tr>\n    <tr>\n      <th>7</th>\n      <td>[crop, B0]</td>\n      <td>lawin</td>\n      <td>MiT-B0</td>\n      <td>[train, test]</td>\n      <td>dataset/processed/Sequoia</td>\n      <td>same</td>\n      <td>[R, G, RE, NIR]</td>\n      <td>True</td>\n      <td>True</td>\n      <td>[256, 256]</td>\n      <td>...</td>\n      <td>141</td>\n      <td>mask</td>\n      <td>39962cd5bc9f4f0446341d3e6e0c6c37336ddeb2e026a1...</td>\n      <td>256</td>\n      <td>png</td>\n      <td>256</td>\n      <td>6c1064c8c3fd1789174988abcd4f161f3fde4f526a87cf...</td>\n      <td>media/images/007_frame0224.png_668_6c1064c8c3f...</td>\n      <td>88112</td>\n      <td>image-file</td>\n    </tr>\n    <tr>\n      <th>8</th>\n      <td>[crop, B0]</td>\n      <td>lawin</td>\n      <td>MiT-B0</td>\n      <td>[train, test]</td>\n      <td>dataset/processed/Sequoia</td>\n      <td>same</td>\n      <td>[G, NIR, R]</td>\n      <td>True</td>\n      <td>True</td>\n      <td>[256, 256]</td>\n      <td>...</td>\n      <td>141</td>\n      <td>mask</td>\n      <td>39962cd5bc9f4f0446341d3e6e0c6c37336ddeb2e026a1...</td>\n      <td>256</td>\n      <td>png</td>\n      <td>256</td>\n      <td>d7db98a58cc99bfa04872df5de61901d5090b22a2c0abf...</td>\n      <td>media/images/007_frame0224.png_682_d7db98a58cc...</td>\n      <td>61664</td>\n      <td>image-file</td>\n    </tr>\n    <tr>\n      <th>9</th>\n      <td>[crop, B0]</td>\n      <td>lawin</td>\n      <td>MiT-B0</td>\n      <td>[train, test]</td>\n      <td>dataset/processed/Sequoia</td>\n      <td>same</td>\n      <td>CIR</td>\n      <td>True</td>\n      <td>True</td>\n      <td>[256, 256]</td>\n      <td>...</td>\n      <td>141</td>\n      <td>mask</td>\n      <td>39962cd5bc9f4f0446341d3e6e0c6c37336ddeb2e026a1...</td>\n      <td>256</td>\n      <td>png</td>\n      <td>256</td>\n      <td>8c2f5fe9bed274427150af87cbf48f8f1fe9742446d140...</td>\n      <td>media/images/007_frame0224.png_584_8c2f5fe9bed...</td>\n      <td>84858</td>\n      <td>image-file</td>\n    </tr>\n    <tr>\n      <th>10</th>\n      <td>[crop, B0]</td>\n      <td>lawin</td>\n      <td>MiT-B0</td>\n      <td>[train, test]</td>\n      <td>dataset/processed/Sequoia</td>\n      <td>same</td>\n      <td>[NDVI]</td>\n      <td>True</td>\n      <td>True</td>\n      <td>[256, 256]</td>\n      <td>...</td>\n      <td>141</td>\n      <td>mask</td>\n      <td>39962cd5bc9f4f0446341d3e6e0c6c37336ddeb2e026a1...</td>\n      <td>256</td>\n      <td>png</td>\n      <td>256</td>\n      <td>1faa5d0df0d84d21f019fc11261a71e65bbad39d312b5b...</td>\n      <td>media/images/007_frame0224.png_458_1faa5d0df0d...</td>\n      <td>32987</td>\n      <td>image-file</td>\n    </tr>\n    <tr>\n      <th>11</th>\n      <td>[crop, B0]</td>\n      <td>lawin</td>\n      <td>MiT-B0</td>\n      <td>[train, test]</td>\n      <td>dataset/processed/Sequoia</td>\n      <td>same</td>\n      <td>[R, G]</td>\n      <td>True</td>\n      <td>True</td>\n      <td>[256, 256]</td>\n      <td>...</td>\n      <td>141</td>\n      <td>mask</td>\n      <td>39962cd5bc9f4f0446341d3e6e0c6c37336ddeb2e026a1...</td>\n      <td>256</td>\n      <td>png</td>\n      <td>256</td>\n      <td>cb6c162ec21fc98edfa0d1f9f5fd014f9d9577c58350d0...</td>\n      <td>media/images/007_frame0224.png_584_cb6c162ec21...</td>\n      <td>73829</td>\n      <td>image-file</td>\n    </tr>\n    <tr>\n      <th>12</th>\n      <td>[crop, B0]</td>\n      <td>lawin</td>\n      <td>MiT-B0</td>\n      <td>[train, test]</td>\n      <td>dataset/processed/Sequoia</td>\n      <td>same</td>\n      <td>[G, NDVI, NIR, R, RE]</td>\n      <td>True</td>\n      <td>True</td>\n      <td>[256, 256]</td>\n      <td>...</td>\n      <td>141</td>\n      <td>mask</td>\n      <td>39962cd5bc9f4f0446341d3e6e0c6c37336ddeb2e026a1...</td>\n      <td>256</td>\n      <td>png</td>\n      <td>256</td>\n      <td>99373cbf0cc98489ebe6e3358804c1a68d5bedeaa6b633...</td>\n      <td>media/images/007_frame0224.png_416_99373cbf0cc...</td>\n      <td>82373</td>\n      <td>image-file</td>\n    </tr>\n    <tr>\n      <th>13</th>\n      <td>[crop, B0]</td>\n      <td>lawin</td>\n      <td>MiT-B0</td>\n      <td>[train, test]</td>\n      <td>dataset/processed/Sequoia</td>\n      <td>same</td>\n      <td>[R, G, RE, NIR]</td>\n      <td>True</td>\n      <td>True</td>\n      <td>[256, 256]</td>\n      <td>...</td>\n      <td>141</td>\n      <td>mask</td>\n      <td>39962cd5bc9f4f0446341d3e6e0c6c37336ddeb2e026a1...</td>\n      <td>256</td>\n      <td>png</td>\n      <td>256</td>\n      <td>4b75573dae838195ed498a7d4c512e90a9bf281ec0029b...</td>\n      <td>media/images/007_frame0224.png_304_4b75573dae8...</td>\n      <td>37502</td>\n      <td>image-file</td>\n    </tr>\n    <tr>\n      <th>14</th>\n      <td>[crop, B0]</td>\n      <td>lawin</td>\n      <td>MiT-B0</td>\n      <td>[train, test]</td>\n      <td>dataset/processed/Sequoia</td>\n      <td>same</td>\n      <td>[G, NIR, R]</td>\n      <td>True</td>\n      <td>True</td>\n      <td>[256, 256]</td>\n      <td>...</td>\n      <td>141</td>\n      <td>mask</td>\n      <td>39962cd5bc9f4f0446341d3e6e0c6c37336ddeb2e026a1...</td>\n      <td>256</td>\n      <td>png</td>\n      <td>256</td>\n      <td>cc9ad50b265cfba7bdb4b2fd639673c966b1285df89f8f...</td>\n      <td>media/images/007_frame0224.png_304_cc9ad50b265...</td>\n      <td>36882</td>\n      <td>image-file</td>\n    </tr>\n    <tr>\n      <th>15</th>\n      <td>[crop, B0]</td>\n      <td>lawin</td>\n      <td>MiT-B0</td>\n      <td>[train, test]</td>\n      <td>dataset/processed/Sequoia</td>\n      <td>same</td>\n      <td>CIR</td>\n      <td>True</td>\n      <td>True</td>\n      <td>[256, 256]</td>\n      <td>...</td>\n      <td>141</td>\n      <td>mask</td>\n      <td>39962cd5bc9f4f0446341d3e6e0c6c37336ddeb2e026a1...</td>\n      <td>256</td>\n      <td>png</td>\n      <td>256</td>\n      <td>0d9127b4c566ab0a60354be63de4f1cbfdc3178b11f554...</td>\n      <td>media/images/007_frame0224.png_374_0d9127b4c56...</td>\n      <td>84985</td>\n      <td>image-file</td>\n    </tr>\n    <tr>\n      <th>16</th>\n      <td>[crop, B0]</td>\n      <td>lawin</td>\n      <td>MiT-B0</td>\n      <td>[train, test]</td>\n      <td>dataset/processed/Sequoia</td>\n      <td>same</td>\n      <td>[NDVI]</td>\n      <td>True</td>\n      <td>True</td>\n      <td>[256, 256]</td>\n      <td>...</td>\n      <td>141</td>\n      <td>mask</td>\n      <td>39962cd5bc9f4f0446341d3e6e0c6c37336ddeb2e026a1...</td>\n      <td>256</td>\n      <td>png</td>\n      <td>256</td>\n      <td>969da907896a90c6296b556c9680040c9818269e202384...</td>\n      <td>media/images/007_frame0224.png_304_969da907896...</td>\n      <td>21766</td>\n      <td>image-file</td>\n    </tr>\n    <tr>\n      <th>17</th>\n      <td>[crop, B0]</td>\n      <td>lawin</td>\n      <td>MiT-B0</td>\n      <td>[train, test]</td>\n      <td>dataset/processed/Sequoia</td>\n      <td>same</td>\n      <td>[R, G]</td>\n      <td>True</td>\n      <td>True</td>\n      <td>[256, 256]</td>\n      <td>...</td>\n      <td>141</td>\n      <td>mask</td>\n      <td>39962cd5bc9f4f0446341d3e6e0c6c37336ddeb2e026a1...</td>\n      <td>256</td>\n      <td>png</td>\n      <td>256</td>\n      <td>a10279e5754af47dd452056311f6bda6499995003d2c5d...</td>\n      <td>media/images/007_frame0224.png_332_a10279e5754...</td>\n      <td>72993</td>\n      <td>image-file</td>\n    </tr>\n    <tr>\n      <th>18</th>\n      <td>[crop, B0]</td>\n      <td>lawin</td>\n      <td>MiT-B0</td>\n      <td>[train, test]</td>\n      <td>dataset/processed/Sequoia</td>\n      <td>same</td>\n      <td>[G, NDVI, NIR, R, RE]</td>\n      <td>True</td>\n      <td>True</td>\n      <td>[256, 256]</td>\n      <td>...</td>\n      <td>141</td>\n      <td>mask</td>\n      <td>39962cd5bc9f4f0446341d3e6e0c6c37336ddeb2e026a1...</td>\n      <td>256</td>\n      <td>png</td>\n      <td>256</td>\n      <td>06b4ede5bd0c7568b1801184ac3d55fa208ec9bddf0806...</td>\n      <td>media/images/007_frame0224.png_584_06b4ede5bd0...</td>\n      <td>85649</td>\n      <td>image-file</td>\n    </tr>\n    <tr>\n      <th>19</th>\n      <td>[crop, B0]</td>\n      <td>lawin</td>\n      <td>MiT-B0</td>\n      <td>[train, test]</td>\n      <td>dataset/processed/Sequoia</td>\n      <td>same</td>\n      <td>[R, G, RE, NIR]</td>\n      <td>True</td>\n      <td>True</td>\n      <td>[256, 256]</td>\n      <td>...</td>\n      <td>141</td>\n      <td>mask</td>\n      <td>39962cd5bc9f4f0446341d3e6e0c6c37336ddeb2e026a1...</td>\n      <td>256</td>\n      <td>png</td>\n      <td>256</td>\n      <td>af2de52d4b10b03e0ab4698111e1df705a71c178c8423e...</td>\n      <td>media/images/007_frame0224.png_332_af2de52d4b1...</td>\n      <td>85764</td>\n      <td>image-file</td>\n    </tr>\n    <tr>\n      <th>20</th>\n      <td>[crop, B0]</td>\n      <td>lawin</td>\n      <td>MiT-B0</td>\n      <td>[train, test]</td>\n      <td>dataset/processed/Sequoia</td>\n      <td>same</td>\n      <td>[G, NIR, R]</td>\n      <td>True</td>\n      <td>True</td>\n      <td>[256, 256]</td>\n      <td>...</td>\n      <td>141</td>\n      <td>mask</td>\n      <td>39962cd5bc9f4f0446341d3e6e0c6c37336ddeb2e026a1...</td>\n      <td>256</td>\n      <td>png</td>\n      <td>256</td>\n      <td>a1e871205c823c54294e676f57f59d7fe2600c1f00d1bb...</td>\n      <td>media/images/007_frame0224.png_416_a1e871205c8...</td>\n      <td>80976</td>\n      <td>image-file</td>\n    </tr>\n    <tr>\n      <th>21</th>\n      <td>[crop, B0]</td>\n      <td>lawin</td>\n      <td>MiT-B0</td>\n      <td>[train, test]</td>\n      <td>dataset/processed/Sequoia</td>\n      <td>same</td>\n      <td>CIR</td>\n      <td>True</td>\n      <td>True</td>\n      <td>[256, 256]</td>\n      <td>...</td>\n      <td>141</td>\n      <td>mask</td>\n      <td>39962cd5bc9f4f0446341d3e6e0c6c37336ddeb2e026a1...</td>\n      <td>256</td>\n      <td>png</td>\n      <td>256</td>\n      <td>cc42c94e5a3df227dacab408d92efd2c02af6fb15d9092...</td>\n      <td>media/images/007_frame0224.png_416_cc42c94e5a3...</td>\n      <td>81027</td>\n      <td>image-file</td>\n    </tr>\n    <tr>\n      <th>22</th>\n      <td>[crop, B0]</td>\n      <td>lawin</td>\n      <td>MiT-B0</td>\n      <td>[train, test]</td>\n      <td>dataset/processed/Sequoia</td>\n      <td>same</td>\n      <td>[NDVI]</td>\n      <td>True</td>\n      <td>True</td>\n      <td>[256, 256]</td>\n      <td>...</td>\n      <td>141</td>\n      <td>mask</td>\n      <td>39962cd5bc9f4f0446341d3e6e0c6c37336ddeb2e026a1...</td>\n      <td>256</td>\n      <td>png</td>\n      <td>256</td>\n      <td>769f7a2fe810c104528865a18b582c6162dcd1754fba65...</td>\n      <td>media/images/007_frame0224.png_290_769f7a2fe81...</td>\n      <td>44003</td>\n      <td>image-file</td>\n    </tr>\n    <tr>\n      <th>23</th>\n      <td>[crop, B0]</td>\n      <td>lawin</td>\n      <td>MiT-B0</td>\n      <td>[train, test]</td>\n      <td>dataset/processed/Sequoia</td>\n      <td>same</td>\n      <td>[R, G]</td>\n      <td>True</td>\n      <td>True</td>\n      <td>[256, 256]</td>\n      <td>...</td>\n      <td>141</td>\n      <td>mask</td>\n      <td>39962cd5bc9f4f0446341d3e6e0c6c37336ddeb2e026a1...</td>\n      <td>256</td>\n      <td>png</td>\n      <td>256</td>\n      <td>a5faef1464688e5d4c512c098303350b8e08620948ff81...</td>\n      <td>media/images/007_frame0224.png_318_a5faef14646...</td>\n      <td>74639</td>\n      <td>image-file</td>\n    </tr>\n  </tbody>\n</table>\n<p>24 rows × 385 columns</p>\n</div>"
     },
     "execution_count": 36,
     "metadata": {},
     "output_type": "execute_result"
    }
   ],
   "source": [
    "runs_df"
   ],
   "metadata": {
    "collapsed": false,
    "pycharm": {
     "name": "#%%\n"
    }
   }
  },
  {
   "cell_type": "code",
   "execution_count": 37,
   "outputs": [],
   "source": [
    "projected_runs = runs_df[\n",
    "    selected_cols\n",
    "]"
   ],
   "metadata": {
    "collapsed": false,
    "pycharm": {
     "name": "#%%\n"
    }
   }
  },
  {
   "cell_type": "code",
   "execution_count": 38,
   "outputs": [],
   "source": [
    "# selected_runs = projected_runs[projected_runs['in_params.model.params.backbone'] == 'MiT-B0']\n",
    "selected_runs = projected_runs"
   ],
   "metadata": {
    "collapsed": false,
    "pycharm": {
     "name": "#%%\n"
    }
   }
  },
  {
   "cell_type": "code",
   "execution_count": 39,
   "outputs": [
    {
     "data": {
      "text/plain": "   in_params.dataset.channels  \\\n0       [G, NDVI, NIR, R, RE]   \n1             [R, G, RE, NIR]   \n2                 [G, NIR, R]   \n3                         CIR   \n4                      [NDVI]   \n5                      [R, G]   \n6       [G, NDVI, NIR, R, RE]   \n7             [R, G, RE, NIR]   \n8                 [G, NIR, R]   \n9                         CIR   \n10                     [NDVI]   \n11                     [R, G]   \n12      [G, NDVI, NIR, R, RE]   \n13            [R, G, RE, NIR]   \n14                [G, NIR, R]   \n15                        CIR   \n16                     [NDVI]   \n17                     [R, G]   \n18      [G, NDVI, NIR, R, RE]   \n19            [R, G, RE, NIR]   \n20                [G, NIR, R]   \n21                        CIR   \n22                     [NDVI]   \n23                     [R, G]   \n\n    in_params.train_params.optimizer_params.weight_decay  \\\n0                                              0.0005      \n1                                              0.0005      \n2                                              0.0005      \n3                                              0.0005      \n4                                              0.0005      \n5                                              0.0005      \n6                                              0.0000      \n7                                              0.0000      \n8                                              0.0000      \n9                                              0.0000      \n10                                             0.0000      \n11                                             0.0000      \n12                                             0.0005      \n13                                             0.0005      \n14                                             0.0005      \n15                                             0.0005      \n16                                             0.0005      \n17                                             0.0005      \n18                                             0.0000      \n19                                             0.0000      \n20                                             0.0000      \n21                                             0.0000      \n22                                             0.0000      \n23                                             0.0000      \n\n    in_params.train_params.initial_lr        f1  precision    recall  \n0                              0.0001  0.326794   0.345053  0.465314  \n1                              0.0001  0.377526   0.705026  0.357784  \n2                              0.0001  0.357331   0.499817  0.348049  \n3                              0.0001  0.404106   0.428261  0.403309  \n4                              0.0001  0.331022   0.338566  0.456207  \n5                              0.0001  0.356745   0.390026  0.434191  \n6                              0.0001  0.338468   0.390821  0.496304  \n7                              0.0001  0.372336   0.573994  0.355982  \n8                              0.0001  0.371983   0.444056  0.481801  \n9                              0.0001  0.369274   0.399371  0.358478  \n10                             0.0001  0.325224   0.355304  0.529422  \n11                             0.0001  0.387183   0.509588  0.494369  \n12                             0.0010  0.336833   0.427961  0.511803  \n13                             0.0010  0.378040   0.416440  0.369071  \n14                             0.0010  0.399803   0.542601  0.377764  \n15                             0.0010  0.326359   0.340781  0.450325  \n16                             0.0010  0.328708   0.339060  0.501390  \n17                             0.0010  0.388022   0.483523  0.405587  \n18                             0.0010  0.339523   0.370072  0.506148  \n19                             0.0010  0.483167   0.484136  0.575876  \n20                             0.0010  0.381551   0.491686  0.452986  \n21                             0.0010  0.341725   0.380184  0.484049  \n22                             0.0010  0.331372   0.334582  0.409402  \n23                             0.0010  0.436855   0.414089  0.623098  ",
      "text/html": "<div>\n<style scoped>\n    .dataframe tbody tr th:only-of-type {\n        vertical-align: middle;\n    }\n\n    .dataframe tbody tr th {\n        vertical-align: top;\n    }\n\n    .dataframe thead th {\n        text-align: right;\n    }\n</style>\n<table border=\"1\" class=\"dataframe\">\n  <thead>\n    <tr style=\"text-align: right;\">\n      <th></th>\n      <th>in_params.dataset.channels</th>\n      <th>in_params.train_params.optimizer_params.weight_decay</th>\n      <th>in_params.train_params.initial_lr</th>\n      <th>f1</th>\n      <th>precision</th>\n      <th>recall</th>\n    </tr>\n  </thead>\n  <tbody>\n    <tr>\n      <th>0</th>\n      <td>[G, NDVI, NIR, R, RE]</td>\n      <td>0.0005</td>\n      <td>0.0001</td>\n      <td>0.326794</td>\n      <td>0.345053</td>\n      <td>0.465314</td>\n    </tr>\n    <tr>\n      <th>1</th>\n      <td>[R, G, RE, NIR]</td>\n      <td>0.0005</td>\n      <td>0.0001</td>\n      <td>0.377526</td>\n      <td>0.705026</td>\n      <td>0.357784</td>\n    </tr>\n    <tr>\n      <th>2</th>\n      <td>[G, NIR, R]</td>\n      <td>0.0005</td>\n      <td>0.0001</td>\n      <td>0.357331</td>\n      <td>0.499817</td>\n      <td>0.348049</td>\n    </tr>\n    <tr>\n      <th>3</th>\n      <td>CIR</td>\n      <td>0.0005</td>\n      <td>0.0001</td>\n      <td>0.404106</td>\n      <td>0.428261</td>\n      <td>0.403309</td>\n    </tr>\n    <tr>\n      <th>4</th>\n      <td>[NDVI]</td>\n      <td>0.0005</td>\n      <td>0.0001</td>\n      <td>0.331022</td>\n      <td>0.338566</td>\n      <td>0.456207</td>\n    </tr>\n    <tr>\n      <th>5</th>\n      <td>[R, G]</td>\n      <td>0.0005</td>\n      <td>0.0001</td>\n      <td>0.356745</td>\n      <td>0.390026</td>\n      <td>0.434191</td>\n    </tr>\n    <tr>\n      <th>6</th>\n      <td>[G, NDVI, NIR, R, RE]</td>\n      <td>0.0000</td>\n      <td>0.0001</td>\n      <td>0.338468</td>\n      <td>0.390821</td>\n      <td>0.496304</td>\n    </tr>\n    <tr>\n      <th>7</th>\n      <td>[R, G, RE, NIR]</td>\n      <td>0.0000</td>\n      <td>0.0001</td>\n      <td>0.372336</td>\n      <td>0.573994</td>\n      <td>0.355982</td>\n    </tr>\n    <tr>\n      <th>8</th>\n      <td>[G, NIR, R]</td>\n      <td>0.0000</td>\n      <td>0.0001</td>\n      <td>0.371983</td>\n      <td>0.444056</td>\n      <td>0.481801</td>\n    </tr>\n    <tr>\n      <th>9</th>\n      <td>CIR</td>\n      <td>0.0000</td>\n      <td>0.0001</td>\n      <td>0.369274</td>\n      <td>0.399371</td>\n      <td>0.358478</td>\n    </tr>\n    <tr>\n      <th>10</th>\n      <td>[NDVI]</td>\n      <td>0.0000</td>\n      <td>0.0001</td>\n      <td>0.325224</td>\n      <td>0.355304</td>\n      <td>0.529422</td>\n    </tr>\n    <tr>\n      <th>11</th>\n      <td>[R, G]</td>\n      <td>0.0000</td>\n      <td>0.0001</td>\n      <td>0.387183</td>\n      <td>0.509588</td>\n      <td>0.494369</td>\n    </tr>\n    <tr>\n      <th>12</th>\n      <td>[G, NDVI, NIR, R, RE]</td>\n      <td>0.0005</td>\n      <td>0.0010</td>\n      <td>0.336833</td>\n      <td>0.427961</td>\n      <td>0.511803</td>\n    </tr>\n    <tr>\n      <th>13</th>\n      <td>[R, G, RE, NIR]</td>\n      <td>0.0005</td>\n      <td>0.0010</td>\n      <td>0.378040</td>\n      <td>0.416440</td>\n      <td>0.369071</td>\n    </tr>\n    <tr>\n      <th>14</th>\n      <td>[G, NIR, R]</td>\n      <td>0.0005</td>\n      <td>0.0010</td>\n      <td>0.399803</td>\n      <td>0.542601</td>\n      <td>0.377764</td>\n    </tr>\n    <tr>\n      <th>15</th>\n      <td>CIR</td>\n      <td>0.0005</td>\n      <td>0.0010</td>\n      <td>0.326359</td>\n      <td>0.340781</td>\n      <td>0.450325</td>\n    </tr>\n    <tr>\n      <th>16</th>\n      <td>[NDVI]</td>\n      <td>0.0005</td>\n      <td>0.0010</td>\n      <td>0.328708</td>\n      <td>0.339060</td>\n      <td>0.501390</td>\n    </tr>\n    <tr>\n      <th>17</th>\n      <td>[R, G]</td>\n      <td>0.0005</td>\n      <td>0.0010</td>\n      <td>0.388022</td>\n      <td>0.483523</td>\n      <td>0.405587</td>\n    </tr>\n    <tr>\n      <th>18</th>\n      <td>[G, NDVI, NIR, R, RE]</td>\n      <td>0.0000</td>\n      <td>0.0010</td>\n      <td>0.339523</td>\n      <td>0.370072</td>\n      <td>0.506148</td>\n    </tr>\n    <tr>\n      <th>19</th>\n      <td>[R, G, RE, NIR]</td>\n      <td>0.0000</td>\n      <td>0.0010</td>\n      <td>0.483167</td>\n      <td>0.484136</td>\n      <td>0.575876</td>\n    </tr>\n    <tr>\n      <th>20</th>\n      <td>[G, NIR, R]</td>\n      <td>0.0000</td>\n      <td>0.0010</td>\n      <td>0.381551</td>\n      <td>0.491686</td>\n      <td>0.452986</td>\n    </tr>\n    <tr>\n      <th>21</th>\n      <td>CIR</td>\n      <td>0.0000</td>\n      <td>0.0010</td>\n      <td>0.341725</td>\n      <td>0.380184</td>\n      <td>0.484049</td>\n    </tr>\n    <tr>\n      <th>22</th>\n      <td>[NDVI]</td>\n      <td>0.0000</td>\n      <td>0.0010</td>\n      <td>0.331372</td>\n      <td>0.334582</td>\n      <td>0.409402</td>\n    </tr>\n    <tr>\n      <th>23</th>\n      <td>[R, G]</td>\n      <td>0.0000</td>\n      <td>0.0010</td>\n      <td>0.436855</td>\n      <td>0.414089</td>\n      <td>0.623098</td>\n    </tr>\n  </tbody>\n</table>\n</div>"
     },
     "execution_count": 39,
     "metadata": {},
     "output_type": "execute_result"
    }
   ],
   "source": [
    "selected_runs"
   ],
   "metadata": {
    "collapsed": false,
    "pycharm": {
     "name": "#%%\n"
    }
   }
  },
  {
   "cell_type": "code",
   "execution_count": 40,
   "outputs": [
    {
     "name": "stderr",
     "output_type": "stream",
     "text": [
      "C:\\Users\\pasqu\\AppData\\Local\\Temp\\ipykernel_1588\\2582322293.py:1: SettingWithCopyWarning: \n",
      "A value is trying to be set on a copy of a slice from a DataFrame\n",
      "\n",
      "See the caveats in the documentation: https://pandas.pydata.org/pandas-docs/stable/user_guide/indexing.html#returning-a-view-versus-a-copy\n",
      "  selected_runs.rename(columns=renamings, inplace=True)\n",
      "C:\\Users\\pasqu\\AppData\\Local\\Temp\\ipykernel_1588\\2582322293.py:2: SettingWithCopyWarning: \n",
      "A value is trying to be set on a copy of a slice from a DataFrame.\n",
      "Try using .loc[row_indexer,col_indexer] = value instead\n",
      "\n",
      "See the caveats in the documentation: https://pandas.pydata.org/pandas-docs/stable/user_guide/indexing.html#returning-a-view-versus-a-copy\n",
      "  selected_runs[roundings] = selected_runs[roundings].round(3)\n"
     ]
    }
   ],
   "source": [
    "selected_runs.rename(columns=renamings, inplace=True)\n",
    "selected_runs[roundings] = selected_runs[roundings].round(3)\n",
    "selected_runs = selected_runs.applymap(lambda x: ', '.join(x) if isinstance(x, list) else x)"
   ],
   "metadata": {
    "collapsed": false,
    "pycharm": {
     "name": "#%%\n"
    }
   }
  },
  {
   "cell_type": "code",
   "execution_count": 41,
   "outputs": [
    {
     "name": "stderr",
     "output_type": "stream",
     "text": [
      "C:\\Users\\pasqu\\AppData\\Local\\Temp\\ipykernel_1588\\1057191433.py:3: SettingWithCopyWarning: \n",
      "A value is trying to be set on a copy of a slice from a DataFrame\n",
      "\n",
      "See the caveats in the documentation: https://pandas.pydata.org/pandas-docs/stable/user_guide/indexing.html#returning-a-view-versus-a-copy\n",
      "  best_runs.sort_values(by=\"Channels\", key=lambda x: x.apply(lambda k: channels_ordering[k]), inplace=True)\n"
     ]
    }
   ],
   "source": [
    "idx = selected_runs.groupby(by='Channels')['F1'].transform(max) == selected_runs['F1']\n",
    "best_runs = selected_runs[idx]\n",
    "best_runs.sort_values(by=\"Channels\", key=lambda x: x.apply(lambda k: channels_ordering[k]), inplace=True)"
   ],
   "metadata": {
    "collapsed": false,
    "pycharm": {
     "name": "#%%\n"
    }
   }
  },
  {
   "cell_type": "code",
   "execution_count": 42,
   "outputs": [
    {
     "data": {
      "text/plain": "               Channels  Weight Decay      LR     F1  Precision  Recall\n0   G, NDVI, NIR, R, RE        0.0005  0.0001  0.327      0.345   0.465\n1         R, G, RE, NIR        0.0005  0.0001  0.378      0.705   0.358\n2             G, NIR, R        0.0005  0.0001  0.357      0.500   0.348\n3                   CIR        0.0005  0.0001  0.404      0.428   0.403\n4                  NDVI        0.0005  0.0001  0.331      0.339   0.456\n5                  R, G        0.0005  0.0001  0.357      0.390   0.434\n6   G, NDVI, NIR, R, RE        0.0000  0.0001  0.338      0.391   0.496\n7         R, G, RE, NIR        0.0000  0.0001  0.372      0.574   0.356\n8             G, NIR, R        0.0000  0.0001  0.372      0.444   0.482\n9                   CIR        0.0000  0.0001  0.369      0.399   0.358\n10                 NDVI        0.0000  0.0001  0.325      0.355   0.529\n11                 R, G        0.0000  0.0001  0.387      0.510   0.494\n12  G, NDVI, NIR, R, RE        0.0005  0.0010  0.337      0.428   0.512\n13        R, G, RE, NIR        0.0005  0.0010  0.378      0.416   0.369\n14            G, NIR, R        0.0005  0.0010  0.400      0.543   0.378\n15                  CIR        0.0005  0.0010  0.326      0.341   0.450\n16                 NDVI        0.0005  0.0010  0.329      0.339   0.501\n17                 R, G        0.0005  0.0010  0.388      0.484   0.406\n18  G, NDVI, NIR, R, RE        0.0000  0.0010  0.340      0.370   0.506\n19        R, G, RE, NIR        0.0000  0.0010  0.483      0.484   0.576\n20            G, NIR, R        0.0000  0.0010  0.382      0.492   0.453\n21                  CIR        0.0000  0.0010  0.342      0.380   0.484\n22                 NDVI        0.0000  0.0010  0.331      0.335   0.409\n23                 R, G        0.0000  0.0010  0.437      0.414   0.623",
      "text/html": "<div>\n<style scoped>\n    .dataframe tbody tr th:only-of-type {\n        vertical-align: middle;\n    }\n\n    .dataframe tbody tr th {\n        vertical-align: top;\n    }\n\n    .dataframe thead th {\n        text-align: right;\n    }\n</style>\n<table border=\"1\" class=\"dataframe\">\n  <thead>\n    <tr style=\"text-align: right;\">\n      <th></th>\n      <th>Channels</th>\n      <th>Weight Decay</th>\n      <th>LR</th>\n      <th>F1</th>\n      <th>Precision</th>\n      <th>Recall</th>\n    </tr>\n  </thead>\n  <tbody>\n    <tr>\n      <th>0</th>\n      <td>G, NDVI, NIR, R, RE</td>\n      <td>0.0005</td>\n      <td>0.0001</td>\n      <td>0.327</td>\n      <td>0.345</td>\n      <td>0.465</td>\n    </tr>\n    <tr>\n      <th>1</th>\n      <td>R, G, RE, NIR</td>\n      <td>0.0005</td>\n      <td>0.0001</td>\n      <td>0.378</td>\n      <td>0.705</td>\n      <td>0.358</td>\n    </tr>\n    <tr>\n      <th>2</th>\n      <td>G, NIR, R</td>\n      <td>0.0005</td>\n      <td>0.0001</td>\n      <td>0.357</td>\n      <td>0.500</td>\n      <td>0.348</td>\n    </tr>\n    <tr>\n      <th>3</th>\n      <td>CIR</td>\n      <td>0.0005</td>\n      <td>0.0001</td>\n      <td>0.404</td>\n      <td>0.428</td>\n      <td>0.403</td>\n    </tr>\n    <tr>\n      <th>4</th>\n      <td>NDVI</td>\n      <td>0.0005</td>\n      <td>0.0001</td>\n      <td>0.331</td>\n      <td>0.339</td>\n      <td>0.456</td>\n    </tr>\n    <tr>\n      <th>5</th>\n      <td>R, G</td>\n      <td>0.0005</td>\n      <td>0.0001</td>\n      <td>0.357</td>\n      <td>0.390</td>\n      <td>0.434</td>\n    </tr>\n    <tr>\n      <th>6</th>\n      <td>G, NDVI, NIR, R, RE</td>\n      <td>0.0000</td>\n      <td>0.0001</td>\n      <td>0.338</td>\n      <td>0.391</td>\n      <td>0.496</td>\n    </tr>\n    <tr>\n      <th>7</th>\n      <td>R, G, RE, NIR</td>\n      <td>0.0000</td>\n      <td>0.0001</td>\n      <td>0.372</td>\n      <td>0.574</td>\n      <td>0.356</td>\n    </tr>\n    <tr>\n      <th>8</th>\n      <td>G, NIR, R</td>\n      <td>0.0000</td>\n      <td>0.0001</td>\n      <td>0.372</td>\n      <td>0.444</td>\n      <td>0.482</td>\n    </tr>\n    <tr>\n      <th>9</th>\n      <td>CIR</td>\n      <td>0.0000</td>\n      <td>0.0001</td>\n      <td>0.369</td>\n      <td>0.399</td>\n      <td>0.358</td>\n    </tr>\n    <tr>\n      <th>10</th>\n      <td>NDVI</td>\n      <td>0.0000</td>\n      <td>0.0001</td>\n      <td>0.325</td>\n      <td>0.355</td>\n      <td>0.529</td>\n    </tr>\n    <tr>\n      <th>11</th>\n      <td>R, G</td>\n      <td>0.0000</td>\n      <td>0.0001</td>\n      <td>0.387</td>\n      <td>0.510</td>\n      <td>0.494</td>\n    </tr>\n    <tr>\n      <th>12</th>\n      <td>G, NDVI, NIR, R, RE</td>\n      <td>0.0005</td>\n      <td>0.0010</td>\n      <td>0.337</td>\n      <td>0.428</td>\n      <td>0.512</td>\n    </tr>\n    <tr>\n      <th>13</th>\n      <td>R, G, RE, NIR</td>\n      <td>0.0005</td>\n      <td>0.0010</td>\n      <td>0.378</td>\n      <td>0.416</td>\n      <td>0.369</td>\n    </tr>\n    <tr>\n      <th>14</th>\n      <td>G, NIR, R</td>\n      <td>0.0005</td>\n      <td>0.0010</td>\n      <td>0.400</td>\n      <td>0.543</td>\n      <td>0.378</td>\n    </tr>\n    <tr>\n      <th>15</th>\n      <td>CIR</td>\n      <td>0.0005</td>\n      <td>0.0010</td>\n      <td>0.326</td>\n      <td>0.341</td>\n      <td>0.450</td>\n    </tr>\n    <tr>\n      <th>16</th>\n      <td>NDVI</td>\n      <td>0.0005</td>\n      <td>0.0010</td>\n      <td>0.329</td>\n      <td>0.339</td>\n      <td>0.501</td>\n    </tr>\n    <tr>\n      <th>17</th>\n      <td>R, G</td>\n      <td>0.0005</td>\n      <td>0.0010</td>\n      <td>0.388</td>\n      <td>0.484</td>\n      <td>0.406</td>\n    </tr>\n    <tr>\n      <th>18</th>\n      <td>G, NDVI, NIR, R, RE</td>\n      <td>0.0000</td>\n      <td>0.0010</td>\n      <td>0.340</td>\n      <td>0.370</td>\n      <td>0.506</td>\n    </tr>\n    <tr>\n      <th>19</th>\n      <td>R, G, RE, NIR</td>\n      <td>0.0000</td>\n      <td>0.0010</td>\n      <td>0.483</td>\n      <td>0.484</td>\n      <td>0.576</td>\n    </tr>\n    <tr>\n      <th>20</th>\n      <td>G, NIR, R</td>\n      <td>0.0000</td>\n      <td>0.0010</td>\n      <td>0.382</td>\n      <td>0.492</td>\n      <td>0.453</td>\n    </tr>\n    <tr>\n      <th>21</th>\n      <td>CIR</td>\n      <td>0.0000</td>\n      <td>0.0010</td>\n      <td>0.342</td>\n      <td>0.380</td>\n      <td>0.484</td>\n    </tr>\n    <tr>\n      <th>22</th>\n      <td>NDVI</td>\n      <td>0.0000</td>\n      <td>0.0010</td>\n      <td>0.331</td>\n      <td>0.335</td>\n      <td>0.409</td>\n    </tr>\n    <tr>\n      <th>23</th>\n      <td>R, G</td>\n      <td>0.0000</td>\n      <td>0.0010</td>\n      <td>0.437</td>\n      <td>0.414</td>\n      <td>0.623</td>\n    </tr>\n  </tbody>\n</table>\n</div>"
     },
     "execution_count": 42,
     "metadata": {},
     "output_type": "execute_result"
    }
   ],
   "source": [
    "selected_runs"
   ],
   "metadata": {
    "collapsed": false,
    "pycharm": {
     "name": "#%%\n"
    }
   }
  },
  {
   "cell_type": "code",
   "execution_count": 43,
   "outputs": [
    {
     "data": {
      "text/plain": "               Channels  Weight Decay      LR     F1  Precision  Recall\n18  G, NDVI, NIR, R, RE        0.0000  0.0010  0.340      0.370   0.506\n19        R, G, RE, NIR        0.0000  0.0010  0.483      0.484   0.576\n14            G, NIR, R        0.0005  0.0010  0.400      0.543   0.378\n23                 R, G        0.0000  0.0010  0.437      0.414   0.623\n3                   CIR        0.0005  0.0001  0.404      0.428   0.403\n4                  NDVI        0.0005  0.0001  0.331      0.339   0.456\n22                 NDVI        0.0000  0.0010  0.331      0.335   0.409",
      "text/html": "<div>\n<style scoped>\n    .dataframe tbody tr th:only-of-type {\n        vertical-align: middle;\n    }\n\n    .dataframe tbody tr th {\n        vertical-align: top;\n    }\n\n    .dataframe thead th {\n        text-align: right;\n    }\n</style>\n<table border=\"1\" class=\"dataframe\">\n  <thead>\n    <tr style=\"text-align: right;\">\n      <th></th>\n      <th>Channels</th>\n      <th>Weight Decay</th>\n      <th>LR</th>\n      <th>F1</th>\n      <th>Precision</th>\n      <th>Recall</th>\n    </tr>\n  </thead>\n  <tbody>\n    <tr>\n      <th>18</th>\n      <td>G, NDVI, NIR, R, RE</td>\n      <td>0.0000</td>\n      <td>0.0010</td>\n      <td>0.340</td>\n      <td>0.370</td>\n      <td>0.506</td>\n    </tr>\n    <tr>\n      <th>19</th>\n      <td>R, G, RE, NIR</td>\n      <td>0.0000</td>\n      <td>0.0010</td>\n      <td>0.483</td>\n      <td>0.484</td>\n      <td>0.576</td>\n    </tr>\n    <tr>\n      <th>14</th>\n      <td>G, NIR, R</td>\n      <td>0.0005</td>\n      <td>0.0010</td>\n      <td>0.400</td>\n      <td>0.543</td>\n      <td>0.378</td>\n    </tr>\n    <tr>\n      <th>23</th>\n      <td>R, G</td>\n      <td>0.0000</td>\n      <td>0.0010</td>\n      <td>0.437</td>\n      <td>0.414</td>\n      <td>0.623</td>\n    </tr>\n    <tr>\n      <th>3</th>\n      <td>CIR</td>\n      <td>0.0005</td>\n      <td>0.0001</td>\n      <td>0.404</td>\n      <td>0.428</td>\n      <td>0.403</td>\n    </tr>\n    <tr>\n      <th>4</th>\n      <td>NDVI</td>\n      <td>0.0005</td>\n      <td>0.0001</td>\n      <td>0.331</td>\n      <td>0.339</td>\n      <td>0.456</td>\n    </tr>\n    <tr>\n      <th>22</th>\n      <td>NDVI</td>\n      <td>0.0000</td>\n      <td>0.0010</td>\n      <td>0.331</td>\n      <td>0.335</td>\n      <td>0.409</td>\n    </tr>\n  </tbody>\n</table>\n</div>"
     },
     "execution_count": 43,
     "metadata": {},
     "output_type": "execute_result"
    }
   ],
   "source": [
    "best_runs"
   ],
   "metadata": {
    "collapsed": false,
    "pycharm": {
     "name": "#%%\n"
    }
   }
  },
  {
   "cell_type": "code",
   "execution_count": 44,
   "outputs": [],
   "source": [
    "best_runs.to_csv(\"../../exps/lawin.csv\")"
   ],
   "metadata": {
    "collapsed": false,
    "pycharm": {
     "name": "#%%\n"
    }
   }
  },
  {
   "cell_type": "code",
   "execution_count": 45,
   "outputs": [],
   "source": [
    "selected_runs.to_csv(\"../../exps/lawin-complete.csv\")"
   ],
   "metadata": {
    "collapsed": false,
    "pycharm": {
     "name": "#%%\n"
    }
   }
  },
  {
   "cell_type": "markdown",
   "source": [
    "## Lawin Aug"
   ],
   "metadata": {
    "collapsed": false,
    "pycharm": {
     "name": "#%% md\n"
    }
   }
  },
  {
   "cell_type": "code",
   "execution_count": null,
   "outputs": [],
   "source": [
    "filters = {\n",
    "    'group': 'LawinAugPatience'\n",
    "}\n",
    "selected_cols = [\n",
    "    'in_params.dataset.channels',\n",
    "    'in_params.train_params.optimizer_params.weight_decay',\n",
    "    'in_params.train_params.initial_lr',\n",
    "    'f1',\n",
    "    'precision',\n",
    "    'recall'\n",
    "]\n",
    "roundings = ['F1', 'Precision', 'Recall']"
   ],
   "metadata": {
    "collapsed": false,
    "pycharm": {
     "name": "#%%\n"
    }
   }
  },
  {
   "cell_type": "code",
   "execution_count": null,
   "outputs": [],
   "source": [
    "runs_df = get_runs(filters)\n",
    "remove_hyp(runs_df)"
   ],
   "metadata": {
    "collapsed": false,
    "pycharm": {
     "name": "#%%\n"
    }
   }
  },
  {
   "cell_type": "code",
   "execution_count": null,
   "outputs": [],
   "source": [
    "runs_df"
   ],
   "metadata": {
    "collapsed": false,
    "pycharm": {
     "name": "#%%\n"
    }
   }
  },
  {
   "cell_type": "code",
   "execution_count": null,
   "outputs": [],
   "source": [
    "projected_runs = runs_df[\n",
    "    selected_cols\n",
    "]\n",
    "# selected_runs = projected_runs[projected_runs['in_params.model.params.backbone'] == 'MiT-B0']\n",
    "selected_runs = projected_runs"
   ],
   "metadata": {
    "collapsed": false,
    "pycharm": {
     "name": "#%%\n"
    }
   }
  },
  {
   "cell_type": "code",
   "execution_count": null,
   "outputs": [],
   "source": [
    "selected_runs.rename(columns=renamings, inplace=True)\n",
    "selected_runs[roundings] = selected_runs[roundings].round(3)\n",
    "selected_runs = selected_runs.applymap(lambda x: ', '.join(x) if isinstance(x, list) else x)"
   ],
   "metadata": {
    "collapsed": false,
    "pycharm": {
     "name": "#%%\n"
    }
   }
  },
  {
   "cell_type": "code",
   "execution_count": null,
   "outputs": [],
   "source": [
    "idx = selected_runs.groupby(by='Channels')['F1'].transform(max) == selected_runs['F1']\n",
    "best_runs = selected_runs[idx]\n",
    "best_runs.sort_values(by=\"Channels\", key=lambda x: x.apply(lambda k: channels_ordering[k]), inplace=True)"
   ],
   "metadata": {
    "collapsed": false,
    "pycharm": {
     "name": "#%%\n"
    }
   }
  },
  {
   "cell_type": "code",
   "execution_count": null,
   "outputs": [],
   "source": [
    "best_runs.to_csv(\"../../exps/lawin_aug.csv\")"
   ],
   "metadata": {
    "collapsed": false,
    "pycharm": {
     "name": "#%%\n"
    }
   }
  },
  {
   "cell_type": "code",
   "execution_count": null,
   "outputs": [],
   "source": [
    "selected_runs.to_csv(\"../../exps/lawin_aug-complete.csv\")"
   ],
   "metadata": {
    "collapsed": false,
    "pycharm": {
     "name": "#%%\n"
    }
   }
  },
  {
   "cell_type": "markdown",
   "source": [
    "## Lawin Pretrained"
   ],
   "metadata": {
    "collapsed": false,
    "pycharm": {
     "name": "#%% md\n"
    }
   }
  },
  {
   "cell_type": "code",
   "execution_count": null,
   "outputs": [],
   "source": [
    "filters = {\n",
    "    '$or': [{'group': 'LawinPretrained'}, {'group': 'LawinFrozen'}]\n",
    "}\n",
    "selected_cols = [\n",
    "    'in_params.dataset.channels',\n",
    "    'in_params.train_params.optimizer_params.weight_decay',\n",
    "    'in_params.train_params.initial_lr',\n",
    "    'in_params.train_params.freeze_pretrained',\n",
    "    'in_params.model.params.backbone',\n",
    "    'f1',\n",
    "    'precision',\n",
    "    'recall'\n",
    "]\n",
    "roundings = ['F1', 'Precision', 'Recall']"
   ],
   "metadata": {
    "collapsed": false,
    "pycharm": {
     "name": "#%%\n"
    }
   }
  },
  {
   "cell_type": "code",
   "execution_count": null,
   "outputs": [],
   "source": [
    "runs_df = get_runs(filters)\n",
    "remove_hyp(runs_df)"
   ],
   "metadata": {
    "collapsed": false,
    "pycharm": {
     "name": "#%%\n"
    }
   }
  },
  {
   "cell_type": "code",
   "execution_count": null,
   "outputs": [],
   "source": [
    "runs_df"
   ],
   "metadata": {
    "collapsed": false,
    "pycharm": {
     "name": "#%%\n"
    }
   }
  },
  {
   "cell_type": "code",
   "execution_count": null,
   "outputs": [],
   "source": [
    "projected_runs = runs_df[\n",
    "    selected_cols\n",
    "]\n",
    "# selected_runs = projected_runs[projected_runs['in_params.model.params.backbone'] == 'MiT-B0']\n",
    "selected_runs = projected_runs"
   ],
   "metadata": {
    "collapsed": false,
    "pycharm": {
     "name": "#%%\n"
    }
   }
  },
  {
   "cell_type": "code",
   "execution_count": null,
   "outputs": [],
   "source": [
    "selected_runs.rename(columns=renamings, inplace=True)\n",
    "rename_values(selected_runs, value_renamings)\n",
    "selected_runs[roundings] = selected_runs[roundings].round(5)\n",
    "selected_runs = selected_runs.applymap(lambda x: ', '.join(x) if isinstance(x, list) else x)"
   ],
   "metadata": {
    "collapsed": false,
    "pycharm": {
     "name": "#%%\n"
    }
   }
  },
  {
   "cell_type": "code",
   "execution_count": null,
   "outputs": [],
   "source": [
    "idx = selected_runs.groupby(by=['Channels', 'Strategy'])['F1'].transform(max) == selected_runs['F1']\n",
    "best_runs = selected_runs[idx]\n",
    "best_runs.sort_values(by=['Strategy', 'Channels'], key=lambda x: x.apply(lambda k: channels_ordering[k]), inplace=True)\n",
    "best_runs[roundings] = best_runs[roundings].round(3)\n",
    "selected_runs[roundings] = selected_runs[roundings].round(3)"
   ],
   "metadata": {
    "collapsed": false,
    "pycharm": {
     "name": "#%%\n"
    }
   }
  },
  {
   "cell_type": "code",
   "execution_count": null,
   "outputs": [],
   "source": [
    "best_runs"
   ],
   "metadata": {
    "collapsed": false,
    "pycharm": {
     "name": "#%%\n"
    }
   }
  },
  {
   "cell_type": "code",
   "execution_count": null,
   "outputs": [],
   "source": [
    "best_runs.to_csv(\"../../exps/lawin_pretrained.csv\")\n",
    "selected_runs.to_csv(\"../../exps/lawin_pretrained-complete.csv\")"
   ],
   "metadata": {
    "collapsed": false,
    "pycharm": {
     "name": "#%%\n"
    }
   }
  },
  {
   "cell_type": "markdown",
   "source": [
    "## Focal"
   ],
   "metadata": {
    "collapsed": false,
    "pycharm": {
     "name": "#%% md\n"
    }
   }
  },
  {
   "cell_type": "code",
   "execution_count": null,
   "outputs": [],
   "source": [
    "filters = {\n",
    "    'group': 'Focal'\n",
    "}\n",
    "selected_cols = [\n",
    "    'in_params.dataset.channels',\n",
    "    'in_params.train_params.freeze_pretrained',\n",
    "    'in_params.train_params.loss.params.gamma',\n",
    "    'in_params.model.params.backbone',\n",
    "    'f1',\n",
    "    'precision',\n",
    "    'recall'\n",
    "]\n",
    "roundings = ['F1', 'Precision', 'Recall']"
   ],
   "metadata": {
    "collapsed": false,
    "pycharm": {
     "name": "#%%\n"
    }
   }
  },
  {
   "cell_type": "code",
   "execution_count": null,
   "outputs": [],
   "source": [
    "runs_df = get_runs(filters)\n",
    "remove_hyp(runs_df)"
   ],
   "metadata": {
    "collapsed": false,
    "pycharm": {
     "name": "#%%\n"
    }
   }
  },
  {
   "cell_type": "code",
   "execution_count": null,
   "outputs": [],
   "source": [
    "projected_runs = runs_df[\n",
    "    selected_cols\n",
    "]\n",
    "# selected_runs = projected_runs[projected_runs['in_params.model.params.backbone'] == 'MiT-B0']\n",
    "selected_runs = projected_runs"
   ],
   "metadata": {
    "collapsed": false,
    "pycharm": {
     "name": "#%%\n"
    }
   }
  },
  {
   "cell_type": "code",
   "execution_count": null,
   "outputs": [],
   "source": [
    "selected_runs.rename(columns=renamings, inplace=True)\n",
    "rename_values(selected_runs, value_renamings)\n",
    "selected_runs[roundings] = selected_runs[roundings].round(5)\n",
    "selected_runs = selected_runs.applymap(lambda x: ', '.join(x) if isinstance(x, list) else x)"
   ],
   "metadata": {
    "collapsed": false,
    "pycharm": {
     "name": "#%%\n"
    }
   }
  },
  {
   "cell_type": "code",
   "execution_count": null,
   "outputs": [],
   "source": [
    "idx = selected_runs.groupby(by=['Channels', 'Strategy'])['F1'].transform(max) == selected_runs['F1']\n",
    "best_runs = selected_runs[idx]\n",
    "best_runs.sort_values(by=['Strategy', 'Channels'], key=lambda x: x.apply(lambda k: channels_ordering[k]), inplace=True)\n",
    "best_runs[roundings] = best_runs[roundings].round(3)\n",
    "selected_runs[roundings] = selected_runs[roundings].round(3)"
   ],
   "metadata": {
    "collapsed": false,
    "pycharm": {
     "name": "#%%\n"
    }
   }
  },
  {
   "cell_type": "code",
   "execution_count": null,
   "outputs": [],
   "source": [
    "best_runs"
   ],
   "metadata": {
    "collapsed": false,
    "pycharm": {
     "name": "#%%\n"
    }
   }
  },
  {
   "cell_type": "code",
   "execution_count": null,
   "outputs": [],
   "source": [
    "best_runs.to_csv(\"../../exps/focal.csv\")\n",
    "selected_runs.to_csv(\"../../exps/focal-complete.csv\")"
   ],
   "metadata": {
    "collapsed": false,
    "pycharm": {
     "name": "#%%\n"
    }
   }
  },
  {
   "cell_type": "markdown",
   "source": [
    "## SRR"
   ],
   "metadata": {
    "collapsed": false,
    "pycharm": {
     "name": "#%% md\n"
    }
   }
  },
  {
   "cell_type": "code",
   "execution_count": null,
   "outputs": [],
   "source": [
    "filters = {\n",
    "    'group': 'RandomRotation'\n",
    "}\n",
    "selected_cols = [\n",
    "    'in_params.dataset.channels',\n",
    "    'in_params.train_params.freeze_pretrained',\n",
    "    'in_params.train_params.loss.params.gamma',\n",
    "    'in_params.model.params.backbone',\n",
    "    'f1',\n",
    "    'precision',\n",
    "    'recall'\n",
    "]\n",
    "roundings = ['F1', 'Precision', 'Recall']"
   ],
   "metadata": {
    "collapsed": false,
    "pycharm": {
     "name": "#%%\n"
    }
   }
  },
  {
   "cell_type": "code",
   "execution_count": null,
   "outputs": [],
   "source": [
    "runs_df = get_runs(filters)\n",
    "remove_hyp(runs_df)"
   ],
   "metadata": {
    "collapsed": false,
    "pycharm": {
     "name": "#%%\n"
    }
   }
  },
  {
   "cell_type": "code",
   "execution_count": null,
   "outputs": [],
   "source": [
    "projected_runs = runs_df[\n",
    "    selected_cols\n",
    "]\n",
    "# selected_runs = projected_runs[projected_runs['in_params.model.params.backbone'] == 'MiT-B0']\n",
    "selected_runs = projected_runs\n",
    "selected_runs.fillna(\"\", inplace=True)"
   ],
   "metadata": {
    "collapsed": false,
    "pycharm": {
     "name": "#%%\n"
    }
   }
  },
  {
   "cell_type": "code",
   "execution_count": null,
   "outputs": [],
   "source": [
    "selected_runs.rename(columns=renamings, inplace=True)\n",
    "rename_values(selected_runs, value_renamings)\n",
    "selected_runs[roundings] = selected_runs[roundings].round(5)\n",
    "selected_runs = selected_runs.applymap(lambda x: ', '.join(x) if isinstance(x, list) else x)\n",
    "idx = selected_runs.groupby(by=['Channels', 'Strategy'])['F1'].transform(max) == selected_runs['F1']\n",
    "best_runs = selected_runs[idx]\n",
    "best_runs.sort_values(by=['Strategy', 'Channels'], key=lambda x: x.apply(lambda k: channels_ordering[k]), inplace=True)\n",
    "best_runs[roundings] = best_runs[roundings].round(3)\n",
    "selected_runs[roundings] = selected_runs[roundings].round(3)"
   ],
   "metadata": {
    "collapsed": false,
    "pycharm": {
     "name": "#%%\n"
    }
   }
  },
  {
   "cell_type": "code",
   "execution_count": null,
   "outputs": [],
   "source": [
    "best_runs"
   ],
   "metadata": {
    "collapsed": false,
    "pycharm": {
     "name": "#%%\n"
    }
   }
  },
  {
   "cell_type": "code",
   "execution_count": null,
   "outputs": [],
   "source": [
    "best_runs.to_csv(\"../../exps/rotation.csv\")\n",
    "selected_runs.to_csv(\"../../exps/rotation-complete.csv\")"
   ],
   "metadata": {
    "collapsed": false,
    "pycharm": {
     "name": "#%%\n"
    }
   }
  },
  {
   "cell_type": "markdown",
   "source": [
    "## Double Encoder"
   ],
   "metadata": {
    "collapsed": false,
    "pycharm": {
     "name": "#%% md\n"
    }
   }
  },
  {
   "cell_type": "code",
   "execution_count": null,
   "outputs": [],
   "source": [
    "filters = {\n",
    "    'group': 'DoubleLawin'\n",
    "}\n",
    "selected_cols = [\n",
    "    'in_params.dataset.channels',\n",
    "    'in_params.train_params.freeze_pretrained',\n",
    "    'in_params.train_params.loss.params.gamma',\n",
    "    'f1',\n",
    "    'precision',\n",
    "    'recall'\n",
    "]\n",
    "roundings = ['F1', 'Precision', 'Recall']"
   ],
   "metadata": {
    "collapsed": false,
    "pycharm": {
     "name": "#%%\n"
    }
   }
  },
  {
   "cell_type": "code",
   "execution_count": null,
   "outputs": [],
   "source": [
    "runs_df = get_runs(filters)\n",
    "remove_hyp(runs_df)"
   ],
   "metadata": {
    "collapsed": false,
    "pycharm": {
     "name": "#%%\n"
    }
   }
  },
  {
   "cell_type": "code",
   "execution_count": null,
   "outputs": [],
   "source": [
    "runs_df"
   ],
   "metadata": {
    "collapsed": false,
    "pycharm": {
     "name": "#%%\n"
    }
   }
  },
  {
   "cell_type": "code",
   "execution_count": null,
   "outputs": [],
   "source": [
    "projected_runs = runs_df[\n",
    "    selected_cols\n",
    "]\n",
    "# selected_runs = projected_runs[projected_runs['in_params.model.params.backbone'] == 'MiT-B0']\n",
    "selected_runs = projected_runs\n",
    "selected_runs.fillna(\"\", inplace=True)"
   ],
   "metadata": {
    "collapsed": false,
    "pycharm": {
     "name": "#%%\n"
    }
   }
  },
  {
   "cell_type": "code",
   "execution_count": null,
   "outputs": [],
   "source": [
    "selected_runs.rename(columns=renamings, inplace=True)\n",
    "rename_values(selected_runs, value_renamings)\n",
    "selected_runs[roundings] = selected_runs[roundings].round(5)\n",
    "selected_runs = selected_runs.applymap(lambda x: ', '.join(x) if isinstance(x, list) else x)\n",
    "idx = selected_runs.groupby(by=['Channels', 'Strategy'])['F1'].transform(max) == selected_runs['F1']\n",
    "best_runs = selected_runs[idx]\n",
    "best_runs.sort_values(by=['Strategy', 'Channels'], key=lambda x: x.apply(lambda k: channels_ordering[k]), inplace=True)\n",
    "best_runs[roundings] = best_runs[roundings].round(3)\n",
    "selected_runs[roundings] = selected_runs[roundings].round(3)"
   ],
   "metadata": {
    "collapsed": false,
    "pycharm": {
     "name": "#%%\n"
    }
   }
  },
  {
   "cell_type": "code",
   "execution_count": null,
   "outputs": [],
   "source": [
    "best_runs"
   ],
   "metadata": {
    "collapsed": false,
    "pycharm": {
     "name": "#%%\n"
    }
   }
  },
  {
   "cell_type": "code",
   "execution_count": null,
   "outputs": [],
   "source": [
    "best_runs.to_csv(\"../../exps/doublelawin.csv\")\n",
    "selected_runs.to_csv(\"../../exps/doublelawin-complete.csv\")"
   ],
   "metadata": {
    "collapsed": false,
    "pycharm": {
     "name": "#%%\n"
    }
   }
  },
  {
   "cell_type": "markdown",
   "source": [
    "## Double Encoder Pre-Trained"
   ],
   "metadata": {
    "collapsed": false,
    "pycharm": {
     "name": "#%% md\n"
    }
   }
  },
  {
   "cell_type": "code",
   "execution_count": 49,
   "outputs": [],
   "source": [
    "filters = {\n",
    "    'group': 'DoubleLawinPretrained'\n",
    "}\n",
    "selected_cols = [\n",
    "    'in_params.dataset.channels',\n",
    "    'in_params.train_params.loss.params.gamma',\n",
    "    'train_WrapF1',\n",
    "    'f1',\n",
    "    'precision',\n",
    "    'recall'\n",
    "]\n",
    "roundings = ['Train F1', 'F1', 'Precision', 'Recall']"
   ],
   "metadata": {
    "collapsed": false,
    "pycharm": {
     "name": "#%%\n"
    }
   }
  },
  {
   "cell_type": "code",
   "execution_count": 41,
   "outputs": [
    {
     "data": {
      "text/plain": "['hyper_params.arch_params.schema',\n 'hyper_params.arch_params.sync_bn',\n 'hyper_params.arch_params.backbone',\n 'hyper_params.arch_params.in_channels',\n 'hyper_params.arch_params.num_classes',\n 'hyper_params.arch_params.out_channels',\n 'hyper_params.arch_params.main_channels',\n 'hyper_params.arch_params.input_channels',\n 'hyper_params.arch_params.output_channels',\n 'hyper_params.arch_params.side_pretrained',\n 'hyper_params.arch_params.backbone_pretrained',\n 'hyper_params.dataset_params.root',\n 'hyper_params.dataset_params.size',\n 'hyper_params.dataset_params.schema',\n 'hyper_params.dataset_params.s3_link',\n 'hyper_params.dataset_params.channels',\n 'hyper_params.dataset_params.hor_flip',\n 'hyper_params.dataset_params.ver_flip',\n 'hyper_params.dataset_params.crop_size',\n 'hyper_params.dataset_params.batch_size',\n 'hyper_params.dataset_params.dataset_dir',\n 'hyper_params.dataset_params.num_classes',\n 'hyper_params.dataset_params.num_workers',\n 'hyper_params.dataset_params.return_path',\n 'hyper_params.dataset_params.test_folders',\n 'hyper_params.dataset_params.train_folders',\n 'hyper_params.dataset_params.val_batch_size',\n 'hyper_params.dataset_params.test_batch_size',\n 'hyper_params.additional_log_items.multi_gpu',\n 'hyper_params.additional_log_items.initial_LR',\n 'hyper_params.additional_log_items.device_type',\n 'hyper_params.additional_log_items.num_devices',\n 'hyper_params.additional_log_items.installed_packages',\n 'hyper_params.training_hyperparams.ema',\n 'hyper_params.training_hyperparams.loss',\n 'hyper_params.training_hyperparams.seed',\n 'hyper_params.training_hyperparams.schema.if.properties.lr_mode.const',\n 'hyper_params.training_hyperparams.schema.then.required',\n 'hyper_params.training_hyperparams.schema.type',\n 'hyper_params.training_hyperparams.schema.required',\n 'hyper_params.training_hyperparams.schema.properties.initial_lr.type',\n 'hyper_params.training_hyperparams.schema.properties.initial_lr.maximum',\n 'hyper_params.training_hyperparams.schema.properties.initial_lr.exclusiveMinimum',\n 'hyper_params.training_hyperparams.schema.properties.max_epochs.type',\n 'hyper_params.training_hyperparams.schema.properties.max_epochs.minimum',\n 'hyper_params.training_hyperparams.schema.properties.lr_decay_factor.type',\n 'hyper_params.training_hyperparams.schema.properties.lr_decay_factor.maximum',\n 'hyper_params.training_hyperparams.schema.properties.lr_decay_factor.minimum',\n 'hyper_params.training_hyperparams.schema.properties.lr_warmup_epochs.type',\n 'hyper_params.training_hyperparams.schema.properties.lr_warmup_epochs.maximum',\n 'hyper_params.training_hyperparams.schema.properties.lr_warmup_epochs.minimum',\n 'hyper_params.training_hyperparams.lr_mode',\n 'hyper_params.training_hyperparams.optimizer',\n 'hyper_params.training_hyperparams.sg_logger',\n 'hyper_params.training_hyperparams.initial_lr',\n 'hyper_params.training_hyperparams.lr_updates',\n 'hyper_params.training_hyperparams.max_epochs',\n 'hyper_params.training_hyperparams.precise_bn',\n 'hyper_params.training_hyperparams.save_model',\n 'hyper_params.training_hyperparams.silent_mode',\n 'hyper_params.training_hyperparams.warmup_mode',\n 'hyper_params.training_hyperparams.load_opt_params',\n 'hyper_params.training_hyperparams.metric_to_watch',\n 'hyper_params.training_hyperparams.mixed_precision',\n 'hyper_params.training_hyperparams.phase_callbacks',\n 'hyper_params.training_hyperparams.batch_accumulate',\n 'hyper_params.training_hyperparams.lr_warmup_epochs',\n 'hyper_params.training_hyperparams.optimizer_params.weight_decay',\n 'hyper_params.training_hyperparams.sg_logger_params.tags',\n 'hyper_params.training_hyperparams.sg_logger_params.entity',\n 'hyper_params.training_hyperparams.sg_logger_params.project_name',\n 'hyper_params.training_hyperparams.sg_logger_params.save_logs_remote',\n 'hyper_params.training_hyperparams.sg_logger_params.tensorboard_port',\n 'hyper_params.training_hyperparams.sg_logger_params.launch_tensorboard',\n 'hyper_params.training_hyperparams.sg_logger_params.tb_files_user_prompt',\n 'hyper_params.training_hyperparams.sg_logger_params.save_checkpoints_remote',\n 'hyper_params.training_hyperparams.sg_logger_params.save_tensorboard_remote',\n 'hyper_params.training_hyperparams.tensorboard_port',\n 'hyper_params.training_hyperparams.freeze_pretrained',\n 'hyper_params.training_hyperparams.warmup_initial_lr',\n 'hyper_params.training_hyperparams.dataset_statistics',\n 'hyper_params.training_hyperparams.launch_tensorboard',\n 'hyper_params.training_hyperparams.train_metrics_list',\n 'hyper_params.training_hyperparams.valid_metrics_list',\n 'hyper_params.training_hyperparams.average_best_models',\n 'hyper_params.training_hyperparams.run_validation_freq',\n 'hyper_params.training_hyperparams.save_full_train_log',\n 'hyper_params.training_hyperparams.step_lr_update_freq',\n 'hyper_params.training_hyperparams.lr_schedule_function',\n 'hyper_params.training_hyperparams.save_ckpt_epoch_list',\n 'hyper_params.training_hyperparams.tb_files_user_prompt',\n 'hyper_params.training_hyperparams.cosine_final_lr_ratio',\n 'hyper_params.training_hyperparams.precise_bn_batch_size',\n 'hyper_params.training_hyperparams.log_installed_packages',\n 'hyper_params.training_hyperparams.save_tensorboard_to_s3',\n 'hyper_params.training_hyperparams.loss_logging_items_names',\n 'hyper_params.training_hyperparams.zero_weight_decay_on_bias_and_bn',\n 'hyper_params.training_hyperparams.greater_metric_to_watch_is_better']"
     },
     "metadata": {},
     "output_type": "display_data"
    }
   ],
   "source": [
    "runs_df = get_runs(filters)\n",
    "remove_hyp(runs_df)"
   ],
   "metadata": {
    "collapsed": false,
    "pycharm": {
     "name": "#%%\n"
    }
   }
  },
  {
   "cell_type": "code",
   "execution_count": 68,
   "outputs": [],
   "source": [
    "projected_runs = runs_df[\n",
    "    selected_cols\n",
    "]\n",
    "# selected_runs = projected_runs[projected_runs['in_params.model.params.backbone'] == 'MiT-B0']\n",
    "selected_runs = projected_runs"
   ],
   "metadata": {
    "collapsed": false,
    "pycharm": {
     "name": "#%%\n"
    }
   }
  },
  {
   "cell_type": "code",
   "execution_count": 69,
   "outputs": [
    {
     "name": "stderr",
     "output_type": "stream",
     "text": [
      "C:\\Users\\pasqu\\AppData\\Local\\Temp\\ipykernel_24360\\1898580816.py:1: SettingWithCopyWarning: \n",
      "A value is trying to be set on a copy of a slice from a DataFrame\n",
      "\n",
      "See the caveats in the documentation: https://pandas.pydata.org/pandas-docs/stable/user_guide/indexing.html#returning-a-view-versus-a-copy\n",
      "  selected_runs.fillna(0, inplace=True)\n",
      "C:\\Users\\pasqu\\AppData\\Local\\Temp\\ipykernel_24360\\1898580816.py:2: SettingWithCopyWarning: \n",
      "A value is trying to be set on a copy of a slice from a DataFrame\n",
      "\n",
      "See the caveats in the documentation: https://pandas.pydata.org/pandas-docs/stable/user_guide/indexing.html#returning-a-view-versus-a-copy\n",
      "  selected_runs.rename(columns=renamings, inplace=True)\n",
      "C:\\Users\\pasqu\\AppData\\Local\\Temp\\ipykernel_24360\\1898580816.py:4: SettingWithCopyWarning: \n",
      "A value is trying to be set on a copy of a slice from a DataFrame.\n",
      "Try using .loc[row_indexer,col_indexer] = value instead\n",
      "\n",
      "See the caveats in the documentation: https://pandas.pydata.org/pandas-docs/stable/user_guide/indexing.html#returning-a-view-versus-a-copy\n",
      "  selected_runs[roundings] = selected_runs[roundings].round(5)\n"
     ]
    }
   ],
   "source": [
    "selected_runs.fillna(0, inplace=True)\n",
    "selected_runs.rename(columns=renamings, inplace=True)\n",
    "rename_values(selected_runs, value_renamings)\n",
    "selected_runs[roundings] = selected_runs[roundings].round(5)\n",
    "selected_runs = selected_runs.applymap(lambda x: ', '.join(x) if isinstance(x, list) else x)\n",
    "selected_runs['Gamma'] = selected_runs['Gamma'].astype(float).astype(int)"
   ],
   "metadata": {
    "collapsed": false,
    "pycharm": {
     "name": "#%%\n"
    }
   }
  },
  {
   "cell_type": "code",
   "execution_count": 70,
   "outputs": [
    {
     "data": {
      "text/plain": "         Channels  Gamma  Train F1       F1  Precision   Recall\n0   R, G, NIR, RE      2   0.82694  0.42325    0.65734  0.38692\n1        R, G, RE      2   0.79732  0.47719    0.62841  0.46428\n2      R, G, NDVI      2   0.79944  0.49919    0.68519  0.45200\n3       R, G, NIR      2   0.79872  0.47249    0.62196  0.43518\n4   R, G, NIR, RE      0   0.72349  0.54724    0.59197  0.55625\n5        R, G, RE      0   0.72777  0.56554    0.55958  0.71598\n6      R, G, NDVI      0   0.75601  0.55531    0.48353  0.86702\n7       R, G, NIR      0   0.70393  0.47226    0.57277  0.52975\n8   R, G, NIR, RE      2   0.81546  0.45437    0.66062  0.41898\n9        R, G, RE      2   0.80911  0.47035    0.64726  0.43482\n10     R, G, NDVI      2   0.82937  0.60111    0.56234  0.67370\n11      R, G, NIR      2   0.83429  0.42824    0.61787  0.40716\n12  R, G, NIR, RE      0   0.71593  0.49274    0.61444  0.48708\n13       R, G, RE      0   0.68819  0.56004    0.53816  0.72676\n14     R, G, NDVI      0   0.70721  0.54797    0.49072  0.91684\n15      R, G, NIR      0   0.72735  0.51915    0.57686  0.57119",
      "text/html": "<div>\n<style scoped>\n    .dataframe tbody tr th:only-of-type {\n        vertical-align: middle;\n    }\n\n    .dataframe tbody tr th {\n        vertical-align: top;\n    }\n\n    .dataframe thead th {\n        text-align: right;\n    }\n</style>\n<table border=\"1\" class=\"dataframe\">\n  <thead>\n    <tr style=\"text-align: right;\">\n      <th></th>\n      <th>Channels</th>\n      <th>Gamma</th>\n      <th>Train F1</th>\n      <th>F1</th>\n      <th>Precision</th>\n      <th>Recall</th>\n    </tr>\n  </thead>\n  <tbody>\n    <tr>\n      <th>0</th>\n      <td>R, G, NIR, RE</td>\n      <td>2</td>\n      <td>0.82694</td>\n      <td>0.42325</td>\n      <td>0.65734</td>\n      <td>0.38692</td>\n    </tr>\n    <tr>\n      <th>1</th>\n      <td>R, G, RE</td>\n      <td>2</td>\n      <td>0.79732</td>\n      <td>0.47719</td>\n      <td>0.62841</td>\n      <td>0.46428</td>\n    </tr>\n    <tr>\n      <th>2</th>\n      <td>R, G, NDVI</td>\n      <td>2</td>\n      <td>0.79944</td>\n      <td>0.49919</td>\n      <td>0.68519</td>\n      <td>0.45200</td>\n    </tr>\n    <tr>\n      <th>3</th>\n      <td>R, G, NIR</td>\n      <td>2</td>\n      <td>0.79872</td>\n      <td>0.47249</td>\n      <td>0.62196</td>\n      <td>0.43518</td>\n    </tr>\n    <tr>\n      <th>4</th>\n      <td>R, G, NIR, RE</td>\n      <td>0</td>\n      <td>0.72349</td>\n      <td>0.54724</td>\n      <td>0.59197</td>\n      <td>0.55625</td>\n    </tr>\n    <tr>\n      <th>5</th>\n      <td>R, G, RE</td>\n      <td>0</td>\n      <td>0.72777</td>\n      <td>0.56554</td>\n      <td>0.55958</td>\n      <td>0.71598</td>\n    </tr>\n    <tr>\n      <th>6</th>\n      <td>R, G, NDVI</td>\n      <td>0</td>\n      <td>0.75601</td>\n      <td>0.55531</td>\n      <td>0.48353</td>\n      <td>0.86702</td>\n    </tr>\n    <tr>\n      <th>7</th>\n      <td>R, G, NIR</td>\n      <td>0</td>\n      <td>0.70393</td>\n      <td>0.47226</td>\n      <td>0.57277</td>\n      <td>0.52975</td>\n    </tr>\n    <tr>\n      <th>8</th>\n      <td>R, G, NIR, RE</td>\n      <td>2</td>\n      <td>0.81546</td>\n      <td>0.45437</td>\n      <td>0.66062</td>\n      <td>0.41898</td>\n    </tr>\n    <tr>\n      <th>9</th>\n      <td>R, G, RE</td>\n      <td>2</td>\n      <td>0.80911</td>\n      <td>0.47035</td>\n      <td>0.64726</td>\n      <td>0.43482</td>\n    </tr>\n    <tr>\n      <th>10</th>\n      <td>R, G, NDVI</td>\n      <td>2</td>\n      <td>0.82937</td>\n      <td>0.60111</td>\n      <td>0.56234</td>\n      <td>0.67370</td>\n    </tr>\n    <tr>\n      <th>11</th>\n      <td>R, G, NIR</td>\n      <td>2</td>\n      <td>0.83429</td>\n      <td>0.42824</td>\n      <td>0.61787</td>\n      <td>0.40716</td>\n    </tr>\n    <tr>\n      <th>12</th>\n      <td>R, G, NIR, RE</td>\n      <td>0</td>\n      <td>0.71593</td>\n      <td>0.49274</td>\n      <td>0.61444</td>\n      <td>0.48708</td>\n    </tr>\n    <tr>\n      <th>13</th>\n      <td>R, G, RE</td>\n      <td>0</td>\n      <td>0.68819</td>\n      <td>0.56004</td>\n      <td>0.53816</td>\n      <td>0.72676</td>\n    </tr>\n    <tr>\n      <th>14</th>\n      <td>R, G, NDVI</td>\n      <td>0</td>\n      <td>0.70721</td>\n      <td>0.54797</td>\n      <td>0.49072</td>\n      <td>0.91684</td>\n    </tr>\n    <tr>\n      <th>15</th>\n      <td>R, G, NIR</td>\n      <td>0</td>\n      <td>0.72735</td>\n      <td>0.51915</td>\n      <td>0.57686</td>\n      <td>0.57119</td>\n    </tr>\n  </tbody>\n</table>\n</div>"
     },
     "execution_count": 70,
     "metadata": {},
     "output_type": "execute_result"
    }
   ],
   "source": [
    "selected_runs"
   ],
   "metadata": {
    "collapsed": false,
    "pycharm": {
     "name": "#%%\n"
    }
   }
  },
  {
   "cell_type": "code",
   "execution_count": 71,
   "outputs": [
    {
     "name": "stderr",
     "output_type": "stream",
     "text": [
      "C:\\Users\\pasqu\\AppData\\Local\\Temp\\ipykernel_24360\\2396384400.py:3: SettingWithCopyWarning: \n",
      "A value is trying to be set on a copy of a slice from a DataFrame\n",
      "\n",
      "See the caveats in the documentation: https://pandas.pydata.org/pandas-docs/stable/user_guide/indexing.html#returning-a-view-versus-a-copy\n",
      "  best_runs.sort_values(by=['Channels'], key=lambda x: x.apply(lambda k: channels_ordering[k]), inplace=True)\n",
      "C:\\Users\\pasqu\\AppData\\Local\\Temp\\ipykernel_24360\\2396384400.py:4: SettingWithCopyWarning: \n",
      "A value is trying to be set on a copy of a slice from a DataFrame.\n",
      "Try using .loc[row_indexer,col_indexer] = value instead\n",
      "\n",
      "See the caveats in the documentation: https://pandas.pydata.org/pandas-docs/stable/user_guide/indexing.html#returning-a-view-versus-a-copy\n",
      "  best_runs[roundings] = best_runs[roundings].round(3)\n"
     ]
    }
   ],
   "source": [
    "idx = selected_runs.groupby(by=['Channels'])['F1'].transform(max) == selected_runs['F1']\n",
    "best_runs = selected_runs[idx]\n",
    "best_runs.sort_values(by=['Channels'], key=lambda x: x.apply(lambda k: channels_ordering[k]), inplace=True)\n",
    "best_runs[roundings] = best_runs[roundings].round(3)\n",
    "selected_runs[roundings] = selected_runs[roundings].round(3)"
   ],
   "metadata": {
    "collapsed": false,
    "pycharm": {
     "name": "#%%\n"
    }
   }
  },
  {
   "cell_type": "code",
   "execution_count": 72,
   "outputs": [
    {
     "data": {
      "text/plain": "         Channels  Gamma  Train F1     F1  Precision  Recall\n4   R, G, NIR, RE      0     0.723  0.547      0.592   0.556\n5        R, G, RE      0     0.728  0.566      0.560   0.716\n15      R, G, NIR      0     0.727  0.519      0.577   0.571\n10     R, G, NDVI      2     0.829  0.601      0.562   0.674",
      "text/html": "<div>\n<style scoped>\n    .dataframe tbody tr th:only-of-type {\n        vertical-align: middle;\n    }\n\n    .dataframe tbody tr th {\n        vertical-align: top;\n    }\n\n    .dataframe thead th {\n        text-align: right;\n    }\n</style>\n<table border=\"1\" class=\"dataframe\">\n  <thead>\n    <tr style=\"text-align: right;\">\n      <th></th>\n      <th>Channels</th>\n      <th>Gamma</th>\n      <th>Train F1</th>\n      <th>F1</th>\n      <th>Precision</th>\n      <th>Recall</th>\n    </tr>\n  </thead>\n  <tbody>\n    <tr>\n      <th>4</th>\n      <td>R, G, NIR, RE</td>\n      <td>0</td>\n      <td>0.723</td>\n      <td>0.547</td>\n      <td>0.592</td>\n      <td>0.556</td>\n    </tr>\n    <tr>\n      <th>5</th>\n      <td>R, G, RE</td>\n      <td>0</td>\n      <td>0.728</td>\n      <td>0.566</td>\n      <td>0.560</td>\n      <td>0.716</td>\n    </tr>\n    <tr>\n      <th>15</th>\n      <td>R, G, NIR</td>\n      <td>0</td>\n      <td>0.727</td>\n      <td>0.519</td>\n      <td>0.577</td>\n      <td>0.571</td>\n    </tr>\n    <tr>\n      <th>10</th>\n      <td>R, G, NDVI</td>\n      <td>2</td>\n      <td>0.829</td>\n      <td>0.601</td>\n      <td>0.562</td>\n      <td>0.674</td>\n    </tr>\n  </tbody>\n</table>\n</div>"
     },
     "execution_count": 72,
     "metadata": {},
     "output_type": "execute_result"
    }
   ],
   "source": [
    "best_runs"
   ],
   "metadata": {
    "collapsed": false,
    "pycharm": {
     "name": "#%%\n"
    }
   }
  },
  {
   "cell_type": "code",
   "execution_count": 78,
   "outputs": [
    {
     "name": "stderr",
     "output_type": "stream",
     "text": [
      "C:\\Users\\pasqu\\AppData\\Local\\Temp\\ipykernel_24360\\560937940.py:1: FutureWarning: Dropping of nuisance columns in DataFrame reductions (with 'numeric_only=None') is deprecated; in a future version this will raise TypeError.  Select only valid columns before calling the reduction.\n",
      "  selected_runs.mean()\n"
     ]
    },
    {
     "data": {
      "text/plain": "Gamma        1.000000\nTrain F1     0.766125\nF1           0.505250\nPrecision    0.594313\nRecall       0.565250\ndtype: float64"
     },
     "execution_count": 78,
     "metadata": {},
     "output_type": "execute_result"
    }
   ],
   "source": [
    "selected_runs.mean()"
   ],
   "metadata": {
    "collapsed": false,
    "pycharm": {
     "name": "#%%\n"
    }
   }
  },
  {
   "cell_type": "code",
   "execution_count": 77,
   "outputs": [
    {
     "data": {
      "text/plain": "       Train F1      F1  Precision    Recall\nGamma                                       \n0      0.718625  0.5325   0.553625  0.671375\n2      0.813625  0.4780   0.635000  0.459125",
      "text/html": "<div>\n<style scoped>\n    .dataframe tbody tr th:only-of-type {\n        vertical-align: middle;\n    }\n\n    .dataframe tbody tr th {\n        vertical-align: top;\n    }\n\n    .dataframe thead th {\n        text-align: right;\n    }\n</style>\n<table border=\"1\" class=\"dataframe\">\n  <thead>\n    <tr style=\"text-align: right;\">\n      <th></th>\n      <th>Train F1</th>\n      <th>F1</th>\n      <th>Precision</th>\n      <th>Recall</th>\n    </tr>\n    <tr>\n      <th>Gamma</th>\n      <th></th>\n      <th></th>\n      <th></th>\n      <th></th>\n    </tr>\n  </thead>\n  <tbody>\n    <tr>\n      <th>0</th>\n      <td>0.718625</td>\n      <td>0.5325</td>\n      <td>0.553625</td>\n      <td>0.671375</td>\n    </tr>\n    <tr>\n      <th>2</th>\n      <td>0.813625</td>\n      <td>0.4780</td>\n      <td>0.635000</td>\n      <td>0.459125</td>\n    </tr>\n  </tbody>\n</table>\n</div>"
     },
     "execution_count": 77,
     "metadata": {},
     "output_type": "execute_result"
    }
   ],
   "source": [
    "selected_runs.groupby(by=['Gamma']).mean()"
   ],
   "metadata": {
    "collapsed": false,
    "pycharm": {
     "name": "#%%\n"
    }
   }
  },
  {
   "cell_type": "code",
   "execution_count": null,
   "outputs": [],
   "source": [
    "selected_runs.to_csv(\"../../exps/doublelawinpretrained-complete.csv\")\n",
    "best_runs.to_csv(\"../../exps/doublelawinpretrained.csv\")"
   ],
   "metadata": {
    "collapsed": false,
    "pycharm": {
     "name": "#%%\n"
    }
   }
  },
  {
   "cell_type": "markdown",
   "source": [
    "## Double Encoder Pre-Trained Drop"
   ],
   "metadata": {
    "collapsed": false,
    "pycharm": {
     "name": "#%% md\n"
    }
   }
  },
  {
   "cell_type": "code",
   "execution_count": 97,
   "outputs": [],
   "source": [
    "filters = {\n",
    "    'group': 'DLPretrainedDrop'\n",
    "}\n",
    "selected_cols = [\n",
    "    'in_params.dataset.channels',\n",
    "    'in_params.model.params.backbone',\n",
    "    'in_params.train_params.loss.params.gamma',\n",
    "    'train_WrapF1',\n",
    "    'f1',\n",
    "    'precision',\n",
    "    'recall'\n",
    "]\n",
    "roundings = ['F1', 'Precision', 'Recall', 'Train F1']"
   ],
   "metadata": {
    "collapsed": false,
    "pycharm": {
     "name": "#%%\n"
    }
   }
  },
  {
   "cell_type": "code",
   "execution_count": 98,
   "outputs": [
    {
     "data": {
      "text/plain": "['hyper_params.arch_params.schema',\n 'hyper_params.arch_params.sync_bn',\n 'hyper_params.arch_params.backbone',\n 'hyper_params.arch_params.fusion_type',\n 'hyper_params.arch_params.in_channels',\n 'hyper_params.arch_params.num_classes',\n 'hyper_params.arch_params.out_channels',\n 'hyper_params.arch_params.main_channels',\n 'hyper_params.arch_params.input_channels',\n 'hyper_params.arch_params.output_channels',\n 'hyper_params.arch_params.side_pretrained',\n 'hyper_params.arch_params.backbone_pretrained',\n 'hyper_params.dataset_params.root',\n 'hyper_params.dataset_params.size',\n 'hyper_params.dataset_params.schema',\n 'hyper_params.dataset_params.s3_link',\n 'hyper_params.dataset_params.channels',\n 'hyper_params.dataset_params.hor_flip',\n 'hyper_params.dataset_params.ver_flip',\n 'hyper_params.dataset_params.crop_size',\n 'hyper_params.dataset_params.batch_size',\n 'hyper_params.dataset_params.dataset_dir',\n 'hyper_params.dataset_params.num_classes',\n 'hyper_params.dataset_params.num_workers',\n 'hyper_params.dataset_params.return_path',\n 'hyper_params.dataset_params.test_folders',\n 'hyper_params.dataset_params.train_folders',\n 'hyper_params.dataset_params.val_batch_size',\n 'hyper_params.dataset_params.test_batch_size',\n 'hyper_params.additional_log_items.multi_gpu',\n 'hyper_params.additional_log_items.initial_LR',\n 'hyper_params.additional_log_items.device_type',\n 'hyper_params.additional_log_items.num_devices',\n 'hyper_params.additional_log_items.installed_packages',\n 'hyper_params.training_hyperparams.ema',\n 'hyper_params.training_hyperparams.loss',\n 'hyper_params.training_hyperparams.seed',\n 'hyper_params.training_hyperparams.schema.if.properties.lr_mode.const',\n 'hyper_params.training_hyperparams.schema.then.required',\n 'hyper_params.training_hyperparams.schema.type',\n 'hyper_params.training_hyperparams.schema.required',\n 'hyper_params.training_hyperparams.schema.properties.initial_lr.type',\n 'hyper_params.training_hyperparams.schema.properties.initial_lr.maximum',\n 'hyper_params.training_hyperparams.schema.properties.initial_lr.exclusiveMinimum',\n 'hyper_params.training_hyperparams.schema.properties.max_epochs.type',\n 'hyper_params.training_hyperparams.schema.properties.max_epochs.minimum',\n 'hyper_params.training_hyperparams.schema.properties.lr_decay_factor.type',\n 'hyper_params.training_hyperparams.schema.properties.lr_decay_factor.maximum',\n 'hyper_params.training_hyperparams.schema.properties.lr_decay_factor.minimum',\n 'hyper_params.training_hyperparams.schema.properties.lr_warmup_epochs.type',\n 'hyper_params.training_hyperparams.schema.properties.lr_warmup_epochs.maximum',\n 'hyper_params.training_hyperparams.schema.properties.lr_warmup_epochs.minimum',\n 'hyper_params.training_hyperparams.lr_mode',\n 'hyper_params.training_hyperparams.optimizer',\n 'hyper_params.training_hyperparams.sg_logger',\n 'hyper_params.training_hyperparams.initial_lr',\n 'hyper_params.training_hyperparams.lr_updates',\n 'hyper_params.training_hyperparams.max_epochs',\n 'hyper_params.training_hyperparams.precise_bn',\n 'hyper_params.training_hyperparams.save_model',\n 'hyper_params.training_hyperparams.silent_mode',\n 'hyper_params.training_hyperparams.warmup_mode',\n 'hyper_params.training_hyperparams.load_opt_params',\n 'hyper_params.training_hyperparams.metric_to_watch',\n 'hyper_params.training_hyperparams.mixed_precision',\n 'hyper_params.training_hyperparams.phase_callbacks',\n 'hyper_params.training_hyperparams.batch_accumulate',\n 'hyper_params.training_hyperparams.lr_warmup_epochs',\n 'hyper_params.training_hyperparams.optimizer_params.weight_decay',\n 'hyper_params.training_hyperparams.sg_logger_params.tags',\n 'hyper_params.training_hyperparams.sg_logger_params.entity',\n 'hyper_params.training_hyperparams.sg_logger_params.project_name',\n 'hyper_params.training_hyperparams.sg_logger_params.save_logs_remote',\n 'hyper_params.training_hyperparams.sg_logger_params.tensorboard_port',\n 'hyper_params.training_hyperparams.sg_logger_params.launch_tensorboard',\n 'hyper_params.training_hyperparams.sg_logger_params.tb_files_user_prompt',\n 'hyper_params.training_hyperparams.sg_logger_params.save_checkpoints_remote',\n 'hyper_params.training_hyperparams.sg_logger_params.save_tensorboard_remote',\n 'hyper_params.training_hyperparams.tensorboard_port',\n 'hyper_params.training_hyperparams.freeze_pretrained',\n 'hyper_params.training_hyperparams.warmup_initial_lr',\n 'hyper_params.training_hyperparams.dataset_statistics',\n 'hyper_params.training_hyperparams.launch_tensorboard',\n 'hyper_params.training_hyperparams.train_metrics_list',\n 'hyper_params.training_hyperparams.valid_metrics_list',\n 'hyper_params.training_hyperparams.average_best_models',\n 'hyper_params.training_hyperparams.run_validation_freq',\n 'hyper_params.training_hyperparams.save_full_train_log',\n 'hyper_params.training_hyperparams.step_lr_update_freq',\n 'hyper_params.training_hyperparams.lr_schedule_function',\n 'hyper_params.training_hyperparams.save_ckpt_epoch_list',\n 'hyper_params.training_hyperparams.tb_files_user_prompt',\n 'hyper_params.training_hyperparams.cosine_final_lr_ratio',\n 'hyper_params.training_hyperparams.precise_bn_batch_size',\n 'hyper_params.training_hyperparams.log_installed_packages',\n 'hyper_params.training_hyperparams.save_tensorboard_to_s3',\n 'hyper_params.training_hyperparams.loss_logging_items_names',\n 'hyper_params.training_hyperparams.zero_weight_decay_on_bias_and_bn',\n 'hyper_params.training_hyperparams.greater_metric_to_watch_is_better']"
     },
     "metadata": {},
     "output_type": "display_data"
    }
   ],
   "source": [
    "runs_df = get_runs(filters)\n",
    "remove_hyp(runs_df)"
   ],
   "metadata": {
    "collapsed": false,
    "pycharm": {
     "name": "#%%\n"
    }
   }
  },
  {
   "cell_type": "code",
   "execution_count": 99,
   "outputs": [],
   "source": [
    "projected_runs = runs_df[\n",
    "    selected_cols\n",
    "]\n",
    "# selected_runs = projected_runs[projected_runs['in_params.model.params.backbone'] == 'MiT-B0']\n",
    "selected_runs = projected_runs"
   ],
   "metadata": {
    "collapsed": false,
    "pycharm": {
     "name": "#%%\n"
    }
   }
  },
  {
   "cell_type": "code",
   "execution_count": 100,
   "outputs": [
    {
     "name": "stderr",
     "output_type": "stream",
     "text": [
      "C:\\Users\\pasqu\\AppData\\Local\\Temp\\ipykernel_24360\\1566115742.py:1: SettingWithCopyWarning: \n",
      "A value is trying to be set on a copy of a slice from a DataFrame\n",
      "\n",
      "See the caveats in the documentation: https://pandas.pydata.org/pandas-docs/stable/user_guide/indexing.html#returning-a-view-versus-a-copy\n",
      "  selected_runs.fillna(\"\", inplace=True)\n",
      "C:\\Users\\pasqu\\AppData\\Local\\Temp\\ipykernel_24360\\1566115742.py:2: SettingWithCopyWarning: \n",
      "A value is trying to be set on a copy of a slice from a DataFrame\n",
      "\n",
      "See the caveats in the documentation: https://pandas.pydata.org/pandas-docs/stable/user_guide/indexing.html#returning-a-view-versus-a-copy\n",
      "  selected_runs.rename(columns=renamings, inplace=True)\n",
      "C:\\Users\\pasqu\\AppData\\Local\\Temp\\ipykernel_24360\\1566115742.py:4: SettingWithCopyWarning: \n",
      "A value is trying to be set on a copy of a slice from a DataFrame.\n",
      "Try using .loc[row_indexer,col_indexer] = value instead\n",
      "\n",
      "See the caveats in the documentation: https://pandas.pydata.org/pandas-docs/stable/user_guide/indexing.html#returning-a-view-versus-a-copy\n",
      "  selected_runs[roundings] = selected_runs[roundings].round(5)\n"
     ]
    }
   ],
   "source": [
    "selected_runs.fillna(\"\", inplace=True)\n",
    "selected_runs.rename(columns=renamings, inplace=True)\n",
    "rename_values(selected_runs, value_renamings)\n",
    "selected_runs[roundings] = selected_runs[roundings].round(5)\n",
    "selected_runs = selected_runs.applymap(lambda x: ', '.join(x) if isinstance(x, list) else x)"
   ],
   "metadata": {
    "collapsed": false,
    "pycharm": {
     "name": "#%%\n"
    }
   }
  },
  {
   "cell_type": "code",
   "execution_count": 104,
   "outputs": [
    {
     "data": {
      "text/plain": "         Channels Backbone Gamma  Train F1     F1  Precision  Recall\n0   R, G, NIR, RE   MiT-B1   2.0     0.772  0.406      0.658   0.375\n1        R, G, RE   MiT-B1   2.0     0.734  0.433      0.650   0.393\n2      R, G, NDVI   MiT-B1   2.0     0.778  0.580      0.644   0.545\n3       R, G, NIR   MiT-B1   2.0     0.756  0.482      0.631   0.435\n4   R, G, NIR, RE   MiT-B1           0.637  0.559      0.578   0.660\n5        R, G, RE   MiT-B1           0.620  0.541      0.521   0.728\n6      R, G, NDVI   MiT-B1           0.674  0.595      0.526   0.895\n7       R, G, NIR   MiT-B1           0.606  0.510      0.502   0.747\n8   R, G, NIR, RE   MiT-B0   2.0     0.746  0.430      0.651   0.391\n9        R, G, RE   MiT-B0   2.0     0.770  0.458      0.667   0.415\n10     R, G, NDVI   MiT-B0   2.0     0.776  0.540      0.600   0.688\n11      R, G, NIR   MiT-B0   2.0     0.736  0.404      0.612   0.396\n12  R, G, NIR, RE   MiT-B0           0.629  0.560      0.534   0.643\n13       R, G, RE   MiT-B0           0.612  0.535      0.530   0.772\n14     R, G, NDVI   MiT-B0           0.672  0.504      0.493   0.798\n15      R, G, NIR   MiT-B0           0.604  0.481      0.540   0.698",
      "text/html": "<div>\n<style scoped>\n    .dataframe tbody tr th:only-of-type {\n        vertical-align: middle;\n    }\n\n    .dataframe tbody tr th {\n        vertical-align: top;\n    }\n\n    .dataframe thead th {\n        text-align: right;\n    }\n</style>\n<table border=\"1\" class=\"dataframe\">\n  <thead>\n    <tr style=\"text-align: right;\">\n      <th></th>\n      <th>Channels</th>\n      <th>Backbone</th>\n      <th>Gamma</th>\n      <th>Train F1</th>\n      <th>F1</th>\n      <th>Precision</th>\n      <th>Recall</th>\n    </tr>\n  </thead>\n  <tbody>\n    <tr>\n      <th>0</th>\n      <td>R, G, NIR, RE</td>\n      <td>MiT-B1</td>\n      <td>2.0</td>\n      <td>0.772</td>\n      <td>0.406</td>\n      <td>0.658</td>\n      <td>0.375</td>\n    </tr>\n    <tr>\n      <th>1</th>\n      <td>R, G, RE</td>\n      <td>MiT-B1</td>\n      <td>2.0</td>\n      <td>0.734</td>\n      <td>0.433</td>\n      <td>0.650</td>\n      <td>0.393</td>\n    </tr>\n    <tr>\n      <th>2</th>\n      <td>R, G, NDVI</td>\n      <td>MiT-B1</td>\n      <td>2.0</td>\n      <td>0.778</td>\n      <td>0.580</td>\n      <td>0.644</td>\n      <td>0.545</td>\n    </tr>\n    <tr>\n      <th>3</th>\n      <td>R, G, NIR</td>\n      <td>MiT-B1</td>\n      <td>2.0</td>\n      <td>0.756</td>\n      <td>0.482</td>\n      <td>0.631</td>\n      <td>0.435</td>\n    </tr>\n    <tr>\n      <th>4</th>\n      <td>R, G, NIR, RE</td>\n      <td>MiT-B1</td>\n      <td></td>\n      <td>0.637</td>\n      <td>0.559</td>\n      <td>0.578</td>\n      <td>0.660</td>\n    </tr>\n    <tr>\n      <th>5</th>\n      <td>R, G, RE</td>\n      <td>MiT-B1</td>\n      <td></td>\n      <td>0.620</td>\n      <td>0.541</td>\n      <td>0.521</td>\n      <td>0.728</td>\n    </tr>\n    <tr>\n      <th>6</th>\n      <td>R, G, NDVI</td>\n      <td>MiT-B1</td>\n      <td></td>\n      <td>0.674</td>\n      <td>0.595</td>\n      <td>0.526</td>\n      <td>0.895</td>\n    </tr>\n    <tr>\n      <th>7</th>\n      <td>R, G, NIR</td>\n      <td>MiT-B1</td>\n      <td></td>\n      <td>0.606</td>\n      <td>0.510</td>\n      <td>0.502</td>\n      <td>0.747</td>\n    </tr>\n    <tr>\n      <th>8</th>\n      <td>R, G, NIR, RE</td>\n      <td>MiT-B0</td>\n      <td>2.0</td>\n      <td>0.746</td>\n      <td>0.430</td>\n      <td>0.651</td>\n      <td>0.391</td>\n    </tr>\n    <tr>\n      <th>9</th>\n      <td>R, G, RE</td>\n      <td>MiT-B0</td>\n      <td>2.0</td>\n      <td>0.770</td>\n      <td>0.458</td>\n      <td>0.667</td>\n      <td>0.415</td>\n    </tr>\n    <tr>\n      <th>10</th>\n      <td>R, G, NDVI</td>\n      <td>MiT-B0</td>\n      <td>2.0</td>\n      <td>0.776</td>\n      <td>0.540</td>\n      <td>0.600</td>\n      <td>0.688</td>\n    </tr>\n    <tr>\n      <th>11</th>\n      <td>R, G, NIR</td>\n      <td>MiT-B0</td>\n      <td>2.0</td>\n      <td>0.736</td>\n      <td>0.404</td>\n      <td>0.612</td>\n      <td>0.396</td>\n    </tr>\n    <tr>\n      <th>12</th>\n      <td>R, G, NIR, RE</td>\n      <td>MiT-B0</td>\n      <td></td>\n      <td>0.629</td>\n      <td>0.560</td>\n      <td>0.534</td>\n      <td>0.643</td>\n    </tr>\n    <tr>\n      <th>13</th>\n      <td>R, G, RE</td>\n      <td>MiT-B0</td>\n      <td></td>\n      <td>0.612</td>\n      <td>0.535</td>\n      <td>0.530</td>\n      <td>0.772</td>\n    </tr>\n    <tr>\n      <th>14</th>\n      <td>R, G, NDVI</td>\n      <td>MiT-B0</td>\n      <td></td>\n      <td>0.672</td>\n      <td>0.504</td>\n      <td>0.493</td>\n      <td>0.798</td>\n    </tr>\n    <tr>\n      <th>15</th>\n      <td>R, G, NIR</td>\n      <td>MiT-B0</td>\n      <td></td>\n      <td>0.604</td>\n      <td>0.481</td>\n      <td>0.540</td>\n      <td>0.698</td>\n    </tr>\n  </tbody>\n</table>\n</div>"
     },
     "execution_count": 104,
     "metadata": {},
     "output_type": "execute_result"
    }
   ],
   "source": [
    "selected_runs"
   ],
   "metadata": {
    "collapsed": false,
    "pycharm": {
     "name": "#%%\n"
    }
   }
  },
  {
   "cell_type": "code",
   "execution_count": 105,
   "outputs": [
    {
     "name": "stderr",
     "output_type": "stream",
     "text": [
      "C:\\Users\\pasqu\\AppData\\Local\\Temp\\ipykernel_24360\\2396384400.py:3: SettingWithCopyWarning: \n",
      "A value is trying to be set on a copy of a slice from a DataFrame\n",
      "\n",
      "See the caveats in the documentation: https://pandas.pydata.org/pandas-docs/stable/user_guide/indexing.html#returning-a-view-versus-a-copy\n",
      "  best_runs.sort_values(by=['Channels'], key=lambda x: x.apply(lambda k: channels_ordering[k]), inplace=True)\n",
      "C:\\Users\\pasqu\\AppData\\Local\\Temp\\ipykernel_24360\\2396384400.py:4: SettingWithCopyWarning: \n",
      "A value is trying to be set on a copy of a slice from a DataFrame.\n",
      "Try using .loc[row_indexer,col_indexer] = value instead\n",
      "\n",
      "See the caveats in the documentation: https://pandas.pydata.org/pandas-docs/stable/user_guide/indexing.html#returning-a-view-versus-a-copy\n",
      "  best_runs[roundings] = best_runs[roundings].round(3)\n"
     ]
    }
   ],
   "source": [
    "idx = selected_runs.groupby(by=['Channels'])['F1'].transform(max) == selected_runs['F1']\n",
    "best_runs = selected_runs[idx]\n",
    "best_runs.sort_values(by=['Channels'], key=lambda x: x.apply(lambda k: channels_ordering[k]), inplace=True)\n",
    "best_runs[roundings] = best_runs[roundings].round(3)\n",
    "selected_runs[roundings] = selected_runs[roundings].round(3)"
   ],
   "metadata": {
    "collapsed": false,
    "pycharm": {
     "name": "#%%\n"
    }
   }
  },
  {
   "cell_type": "code",
   "execution_count": 106,
   "outputs": [
    {
     "data": {
      "text/plain": "         Channels Backbone Gamma  Train F1     F1  Precision  Recall\n12  R, G, NIR, RE   MiT-B0           0.629  0.560      0.534   0.643\n5        R, G, RE   MiT-B1           0.620  0.541      0.521   0.728\n7       R, G, NIR   MiT-B1           0.606  0.510      0.502   0.747\n6      R, G, NDVI   MiT-B1           0.674  0.595      0.526   0.895",
      "text/html": "<div>\n<style scoped>\n    .dataframe tbody tr th:only-of-type {\n        vertical-align: middle;\n    }\n\n    .dataframe tbody tr th {\n        vertical-align: top;\n    }\n\n    .dataframe thead th {\n        text-align: right;\n    }\n</style>\n<table border=\"1\" class=\"dataframe\">\n  <thead>\n    <tr style=\"text-align: right;\">\n      <th></th>\n      <th>Channels</th>\n      <th>Backbone</th>\n      <th>Gamma</th>\n      <th>Train F1</th>\n      <th>F1</th>\n      <th>Precision</th>\n      <th>Recall</th>\n    </tr>\n  </thead>\n  <tbody>\n    <tr>\n      <th>12</th>\n      <td>R, G, NIR, RE</td>\n      <td>MiT-B0</td>\n      <td></td>\n      <td>0.629</td>\n      <td>0.560</td>\n      <td>0.534</td>\n      <td>0.643</td>\n    </tr>\n    <tr>\n      <th>5</th>\n      <td>R, G, RE</td>\n      <td>MiT-B1</td>\n      <td></td>\n      <td>0.620</td>\n      <td>0.541</td>\n      <td>0.521</td>\n      <td>0.728</td>\n    </tr>\n    <tr>\n      <th>7</th>\n      <td>R, G, NIR</td>\n      <td>MiT-B1</td>\n      <td></td>\n      <td>0.606</td>\n      <td>0.510</td>\n      <td>0.502</td>\n      <td>0.747</td>\n    </tr>\n    <tr>\n      <th>6</th>\n      <td>R, G, NDVI</td>\n      <td>MiT-B1</td>\n      <td></td>\n      <td>0.674</td>\n      <td>0.595</td>\n      <td>0.526</td>\n      <td>0.895</td>\n    </tr>\n  </tbody>\n</table>\n</div>"
     },
     "execution_count": 106,
     "metadata": {},
     "output_type": "execute_result"
    }
   ],
   "source": [
    "best_runs"
   ],
   "metadata": {
    "collapsed": false,
    "pycharm": {
     "name": "#%%\n"
    }
   }
  },
  {
   "cell_type": "code",
   "execution_count": 109,
   "outputs": [
    {
     "data": {
      "text/plain": "       Train F1        F1  Precision    Recall\nGamma                                         \n        0.63175  0.535625   0.528000  0.742625\n2.0     0.75850  0.466625   0.639125  0.454750",
      "text/html": "<div>\n<style scoped>\n    .dataframe tbody tr th:only-of-type {\n        vertical-align: middle;\n    }\n\n    .dataframe tbody tr th {\n        vertical-align: top;\n    }\n\n    .dataframe thead th {\n        text-align: right;\n    }\n</style>\n<table border=\"1\" class=\"dataframe\">\n  <thead>\n    <tr style=\"text-align: right;\">\n      <th></th>\n      <th>Train F1</th>\n      <th>F1</th>\n      <th>Precision</th>\n      <th>Recall</th>\n    </tr>\n    <tr>\n      <th>Gamma</th>\n      <th></th>\n      <th></th>\n      <th></th>\n      <th></th>\n    </tr>\n  </thead>\n  <tbody>\n    <tr>\n      <th></th>\n      <td>0.63175</td>\n      <td>0.535625</td>\n      <td>0.528000</td>\n      <td>0.742625</td>\n    </tr>\n    <tr>\n      <th>2.0</th>\n      <td>0.75850</td>\n      <td>0.466625</td>\n      <td>0.639125</td>\n      <td>0.454750</td>\n    </tr>\n  </tbody>\n</table>\n</div>"
     },
     "execution_count": 109,
     "metadata": {},
     "output_type": "execute_result"
    }
   ],
   "source": [
    "selected_runs.groupby(by=['Gamma']).mean()"
   ],
   "metadata": {
    "collapsed": false,
    "pycharm": {
     "name": "#%%\n"
    }
   }
  },
  {
   "cell_type": "code",
   "execution_count": 108,
   "outputs": [
    {
     "name": "stderr",
     "output_type": "stream",
     "text": [
      "C:\\Users\\pasqu\\AppData\\Local\\Temp\\ipykernel_24360\\560937940.py:1: FutureWarning: Dropping of nuisance columns in DataFrame reductions (with 'numeric_only=None') is deprecated; in a future version this will raise TypeError.  Select only valid columns before calling the reduction.\n",
      "  selected_runs.mean()\n"
     ]
    },
    {
     "data": {
      "text/plain": "Train F1     0.695125\nF1           0.501125\nPrecision    0.583562\nRecall       0.598688\ndtype: float64"
     },
     "execution_count": 108,
     "metadata": {},
     "output_type": "execute_result"
    }
   ],
   "source": [
    "selected_runs.mean()"
   ],
   "metadata": {
    "collapsed": false,
    "pycharm": {
     "name": "#%%\n"
    }
   }
  },
  {
   "cell_type": "code",
   "execution_count": 107,
   "outputs": [],
   "source": [
    "selected_runs.to_csv(\"../../exps/dlpretraineddrop-complete.csv\")\n",
    "best_runs.to_csv(\"../../exps/dlpretraineddrop.csv\")"
   ],
   "metadata": {
    "collapsed": false,
    "pycharm": {
     "name": "#%%\n"
    }
   }
  },
  {
   "cell_type": "code",
   "execution_count": null,
   "outputs": [],
   "source": [],
   "metadata": {
    "collapsed": false,
    "pycharm": {
     "name": "#%%\n"
    }
   }
  },
  {
   "cell_type": "markdown",
   "source": [
    "## RGB Weights"
   ],
   "metadata": {
    "collapsed": false,
    "pycharm": {
     "name": "#%% md\n"
    }
   }
  },
  {
   "cell_type": "code",
   "execution_count": 5,
   "outputs": [],
   "source": [
    "filters = {\n",
    "    'group': 'RedEdge'\n",
    "}\n",
    "selected_cols = [\n",
    "    'in_params.dataset.channels',\n",
    "    'in_params.model.params.backbone',\n",
    "    'in_params.train_params.freeze_pretrained',\n",
    "    'in_params.train_params.loss.params.gamma',\n",
    "    'in_params.model.params.main_pretrained',\n",
    "    'f1',\n",
    "    'precision',\n",
    "    'recall'\n",
    "]\n",
    "roundings = ['F1', 'Precision', 'Recall']"
   ],
   "metadata": {
    "collapsed": false,
    "pycharm": {
     "name": "#%%\n"
    }
   }
  },
  {
   "cell_type": "code",
   "execution_count": 6,
   "outputs": [
    {
     "data": {
      "text/plain": "['hyper_params.arch_params.schema',\n 'hyper_params.arch_params.sync_bn',\n 'hyper_params.arch_params.backbone',\n 'hyper_params.arch_params.in_channels',\n 'hyper_params.arch_params.num_classes',\n 'hyper_params.arch_params.out_channels',\n 'hyper_params.arch_params.main_channels',\n 'hyper_params.arch_params.input_channels',\n 'hyper_params.arch_params.main_pretrained',\n 'hyper_params.arch_params.output_channels',\n 'hyper_params.arch_params.side_pretrained',\n 'hyper_params.arch_params.backbone_pretrained',\n 'hyper_params.dataset_params.root',\n 'hyper_params.dataset_params.size',\n 'hyper_params.dataset_params.schema',\n 'hyper_params.dataset_params.s3_link',\n 'hyper_params.dataset_params.channels',\n 'hyper_params.dataset_params.hor_flip',\n 'hyper_params.dataset_params.ver_flip',\n 'hyper_params.dataset_params.crop_size',\n 'hyper_params.dataset_params.batch_size',\n 'hyper_params.dataset_params.dataset_dir',\n 'hyper_params.dataset_params.num_classes',\n 'hyper_params.dataset_params.num_workers',\n 'hyper_params.dataset_params.return_path',\n 'hyper_params.dataset_params.test_folders',\n 'hyper_params.dataset_params.train_folders',\n 'hyper_params.dataset_params.val_batch_size',\n 'hyper_params.dataset_params.test_batch_size',\n 'hyper_params.additional_log_items.multi_gpu',\n 'hyper_params.additional_log_items.initial_LR',\n 'hyper_params.additional_log_items.device_type',\n 'hyper_params.additional_log_items.num_devices',\n 'hyper_params.additional_log_items.installed_packages',\n 'hyper_params.training_hyperparams.ema',\n 'hyper_params.training_hyperparams.loss',\n 'hyper_params.training_hyperparams.seed',\n 'hyper_params.training_hyperparams.schema.if.properties.lr_mode.const',\n 'hyper_params.training_hyperparams.schema.then.required',\n 'hyper_params.training_hyperparams.schema.type',\n 'hyper_params.training_hyperparams.schema.required',\n 'hyper_params.training_hyperparams.schema.properties.initial_lr.type',\n 'hyper_params.training_hyperparams.schema.properties.initial_lr.maximum',\n 'hyper_params.training_hyperparams.schema.properties.initial_lr.exclusiveMinimum',\n 'hyper_params.training_hyperparams.schema.properties.max_epochs.type',\n 'hyper_params.training_hyperparams.schema.properties.max_epochs.minimum',\n 'hyper_params.training_hyperparams.schema.properties.lr_decay_factor.type',\n 'hyper_params.training_hyperparams.schema.properties.lr_decay_factor.maximum',\n 'hyper_params.training_hyperparams.schema.properties.lr_decay_factor.minimum',\n 'hyper_params.training_hyperparams.schema.properties.lr_warmup_epochs.type',\n 'hyper_params.training_hyperparams.schema.properties.lr_warmup_epochs.maximum',\n 'hyper_params.training_hyperparams.schema.properties.lr_warmup_epochs.minimum',\n 'hyper_params.training_hyperparams.lr_mode',\n 'hyper_params.training_hyperparams.optimizer',\n 'hyper_params.training_hyperparams.sg_logger',\n 'hyper_params.training_hyperparams.initial_lr',\n 'hyper_params.training_hyperparams.lr_updates',\n 'hyper_params.training_hyperparams.max_epochs',\n 'hyper_params.training_hyperparams.precise_bn',\n 'hyper_params.training_hyperparams.save_model',\n 'hyper_params.training_hyperparams.silent_mode',\n 'hyper_params.training_hyperparams.warmup_mode',\n 'hyper_params.training_hyperparams.load_opt_params',\n 'hyper_params.training_hyperparams.metric_to_watch',\n 'hyper_params.training_hyperparams.mixed_precision',\n 'hyper_params.training_hyperparams.phase_callbacks',\n 'hyper_params.training_hyperparams.batch_accumulate',\n 'hyper_params.training_hyperparams.lr_warmup_epochs',\n 'hyper_params.training_hyperparams.optimizer_params.weight_decay',\n 'hyper_params.training_hyperparams.sg_logger_params.tags',\n 'hyper_params.training_hyperparams.sg_logger_params.entity',\n 'hyper_params.training_hyperparams.sg_logger_params.project_name',\n 'hyper_params.training_hyperparams.sg_logger_params.save_logs_remote',\n 'hyper_params.training_hyperparams.sg_logger_params.tensorboard_port',\n 'hyper_params.training_hyperparams.sg_logger_params.launch_tensorboard',\n 'hyper_params.training_hyperparams.sg_logger_params.tb_files_user_prompt',\n 'hyper_params.training_hyperparams.sg_logger_params.save_checkpoints_remote',\n 'hyper_params.training_hyperparams.sg_logger_params.save_tensorboard_remote',\n 'hyper_params.training_hyperparams.tensorboard_port',\n 'hyper_params.training_hyperparams.freeze_pretrained',\n 'hyper_params.training_hyperparams.warmup_initial_lr',\n 'hyper_params.training_hyperparams.dataset_statistics',\n 'hyper_params.training_hyperparams.launch_tensorboard',\n 'hyper_params.training_hyperparams.train_metrics_list',\n 'hyper_params.training_hyperparams.valid_metrics_list',\n 'hyper_params.training_hyperparams.average_best_models',\n 'hyper_params.training_hyperparams.run_validation_freq',\n 'hyper_params.training_hyperparams.save_full_train_log',\n 'hyper_params.training_hyperparams.step_lr_update_freq',\n 'hyper_params.training_hyperparams.lr_schedule_function',\n 'hyper_params.training_hyperparams.save_ckpt_epoch_list',\n 'hyper_params.training_hyperparams.tb_files_user_prompt',\n 'hyper_params.training_hyperparams.cosine_final_lr_ratio',\n 'hyper_params.training_hyperparams.precise_bn_batch_size',\n 'hyper_params.training_hyperparams.log_installed_packages',\n 'hyper_params.training_hyperparams.save_tensorboard_to_s3',\n 'hyper_params.training_hyperparams.loss_logging_items_names',\n 'hyper_params.training_hyperparams.zero_weight_decay_on_bias_and_bn',\n 'hyper_params.training_hyperparams.greater_metric_to_watch_is_better']"
     },
     "metadata": {},
     "output_type": "display_data"
    }
   ],
   "source": [
    "runs_df = get_runs(filters)\n",
    "remove_hyp(runs_df)"
   ],
   "metadata": {
    "collapsed": false,
    "pycharm": {
     "name": "#%%\n"
    }
   }
  },
  {
   "cell_type": "code",
   "execution_count": 7,
   "outputs": [],
   "source": [
    "projected_runs = runs_df[\n",
    "    selected_cols\n",
    "]\n",
    "# selected_runs = projected_runs[projected_runs['in_params.model.params.backbone'] == 'MiT-B0']\n",
    "selected_runs = projected_runs"
   ],
   "metadata": {
    "collapsed": false,
    "pycharm": {
     "name": "#%%\n"
    }
   }
  },
  {
   "cell_type": "code",
   "execution_count": 8,
   "outputs": [
    {
     "name": "stderr",
     "output_type": "stream",
     "text": [
      "C:\\Users\\pasqu\\AppData\\Local\\Temp\\ipykernel_24360\\2093829475.py:1: SettingWithCopyWarning: \n",
      "A value is trying to be set on a copy of a slice from a DataFrame\n",
      "\n",
      "See the caveats in the documentation: https://pandas.pydata.org/pandas-docs/stable/user_guide/indexing.html#returning-a-view-versus-a-copy\n",
      "  selected_runs.fillna(0, inplace=True)\n",
      "C:\\Users\\pasqu\\AppData\\Local\\Temp\\ipykernel_24360\\2093829475.py:2: SettingWithCopyWarning: \n",
      "A value is trying to be set on a copy of a slice from a DataFrame\n",
      "\n",
      "See the caveats in the documentation: https://pandas.pydata.org/pandas-docs/stable/user_guide/indexing.html#returning-a-view-versus-a-copy\n",
      "  selected_runs.rename(columns=renamings, inplace=True)\n",
      "C:\\Users\\pasqu\\AppData\\Local\\Temp\\ipykernel_24360\\2093829475.py:3: SettingWithCopyWarning: \n",
      "A value is trying to be set on a copy of a slice from a DataFrame.\n",
      "Try using .loc[row_indexer,col_indexer] = value instead\n",
      "\n",
      "See the caveats in the documentation: https://pandas.pydata.org/pandas-docs/stable/user_guide/indexing.html#returning-a-view-versus-a-copy\n",
      "  selected_runs['Gamma'] = selected_runs['Gamma'].astype(float).astype(int)\n",
      "C:\\Users\\pasqu\\AppData\\Local\\Temp\\ipykernel_24360\\2999623128.py:34: SettingWithCopyWarning: \n",
      "A value is trying to be set on a copy of a slice from a DataFrame.\n",
      "Try using .loc[row_indexer,col_indexer] = value instead\n",
      "\n",
      "See the caveats in the documentation: https://pandas.pydata.org/pandas-docs/stable/user_guide/indexing.html#returning-a-view-versus-a-copy\n",
      "  df[column] = df[column].replace(values)\n",
      "C:\\Users\\pasqu\\AppData\\Local\\Temp\\ipykernel_24360\\2093829475.py:5: SettingWithCopyWarning: \n",
      "A value is trying to be set on a copy of a slice from a DataFrame.\n",
      "Try using .loc[row_indexer,col_indexer] = value instead\n",
      "\n",
      "See the caveats in the documentation: https://pandas.pydata.org/pandas-docs/stable/user_guide/indexing.html#returning-a-view-versus-a-copy\n",
      "  selected_runs[roundings] = selected_runs[roundings].round(5)\n"
     ]
    }
   ],
   "source": [
    "selected_runs.fillna(0, inplace=True)\n",
    "selected_runs.rename(columns=renamings, inplace=True)\n",
    "selected_runs['Gamma'] = selected_runs['Gamma'].astype(float).astype(int)\n",
    "rename_values(selected_runs, value_renamings)\n",
    "selected_runs[roundings] = selected_runs[roundings].round(5)\n",
    "selected_runs = selected_runs.applymap(lambda x: ', '.join(x) if isinstance(x, list) else x)\n",
    "selected_runs[roundings] = selected_runs[roundings].round(3)\n",
    "selected_runs.sort_values(by=['Backbone', 'Channels', 'Strategy', 'Used Weights'], key=lambda x: x.apply(lambda k: channels_ordering[k]), inplace=True)"
   ],
   "metadata": {
    "collapsed": false,
    "pycharm": {
     "name": "#%%\n"
    }
   }
  },
  {
   "cell_type": "code",
   "execution_count": 9,
   "outputs": [
    {
     "data": {
      "text/plain": "         Channels Backbone     Strategy  Gamma Used Weights     F1  Precision  \\\n20  R, G, NIR, RE   MiT-B0  Fine-Tuning      2   R, G, G, G  0.447      0.711   \n22  R, G, NIR, RE   MiT-B0  Fine-Tuning      0   R, G, G, G  0.616      0.653   \n21  R, G, NIR, RE   MiT-B0       Freeze      2   R, G, G, G  0.499      0.612   \n23  R, G, NIR, RE   MiT-B0       Freeze      0   R, G, G, G  0.534      0.496   \n16            CIR   MiT-B0  Fine-Tuning      2      G, G, R  0.525      0.640   \n17            CIR   MiT-B0  Fine-Tuning      0      G, G, R  0.603      0.589   \n12            CIR   MiT-B0       Freeze      2      G, G, R  0.527      0.629   \n13            CIR   MiT-B0       Freeze      0      G, G, R  0.545      0.517   \n18           NDVI   MiT-B0  Fine-Tuning      2            G  0.572      0.607   \n19           NDVI   MiT-B0  Fine-Tuning      0            G  0.577      0.503   \n14           NDVI   MiT-B0       Freeze      2            G  0.646      0.614   \n15           NDVI   MiT-B0       Freeze      0            G  0.487      0.438   \n0   R, G, NIR, RE   MiT-B1  Fine-Tuning      2   R, G, G, G  0.476      0.727   \n2   R, G, NIR, RE   MiT-B1  Fine-Tuning      0   R, G, G, G  0.611      0.621   \n1   R, G, NIR, RE   MiT-B1       Freeze      2   R, G, G, G  0.493      0.610   \n3   R, G, NIR, RE   MiT-B1       Freeze      0   R, G, G, G  0.514      0.471   \n4             CIR   MiT-B1  Fine-Tuning      2      G, G, R  0.582      0.644   \n6             CIR   MiT-B1  Fine-Tuning      0      G, G, R  0.669      0.606   \n5             CIR   MiT-B1       Freeze      2      G, G, R  0.494      0.605   \n7             CIR   MiT-B1       Freeze      0      G, G, R  0.524      0.497   \n8            NDVI   MiT-B1  Fine-Tuning      2            G  0.645      0.636   \n10           NDVI   MiT-B1  Fine-Tuning      0            G  0.575      0.497   \n9            NDVI   MiT-B1       Freeze      2            G  0.656      0.595   \n11           NDVI   MiT-B1       Freeze      0            G  0.490      0.440   \n\n    Recall  \n20   0.433  \n22   0.697  \n21   0.452  \n23   0.753  \n16   0.510  \n17   0.756  \n12   0.481  \n13   0.767  \n18   0.634  \n19   0.923  \n14   0.698  \n15   0.927  \n0    0.428  \n2    0.750  \n1    0.446  \n3    0.651  \n4    0.582  \n6    0.787  \n5    0.448  \n7    0.689  \n8    0.699  \n10   0.863  \n9    0.817  \n11   0.924  ",
      "text/html": "<div>\n<style scoped>\n    .dataframe tbody tr th:only-of-type {\n        vertical-align: middle;\n    }\n\n    .dataframe tbody tr th {\n        vertical-align: top;\n    }\n\n    .dataframe thead th {\n        text-align: right;\n    }\n</style>\n<table border=\"1\" class=\"dataframe\">\n  <thead>\n    <tr style=\"text-align: right;\">\n      <th></th>\n      <th>Channels</th>\n      <th>Backbone</th>\n      <th>Strategy</th>\n      <th>Gamma</th>\n      <th>Used Weights</th>\n      <th>F1</th>\n      <th>Precision</th>\n      <th>Recall</th>\n    </tr>\n  </thead>\n  <tbody>\n    <tr>\n      <th>20</th>\n      <td>R, G, NIR, RE</td>\n      <td>MiT-B0</td>\n      <td>Fine-Tuning</td>\n      <td>2</td>\n      <td>R, G, G, G</td>\n      <td>0.447</td>\n      <td>0.711</td>\n      <td>0.433</td>\n    </tr>\n    <tr>\n      <th>22</th>\n      <td>R, G, NIR, RE</td>\n      <td>MiT-B0</td>\n      <td>Fine-Tuning</td>\n      <td>0</td>\n      <td>R, G, G, G</td>\n      <td>0.616</td>\n      <td>0.653</td>\n      <td>0.697</td>\n    </tr>\n    <tr>\n      <th>21</th>\n      <td>R, G, NIR, RE</td>\n      <td>MiT-B0</td>\n      <td>Freeze</td>\n      <td>2</td>\n      <td>R, G, G, G</td>\n      <td>0.499</td>\n      <td>0.612</td>\n      <td>0.452</td>\n    </tr>\n    <tr>\n      <th>23</th>\n      <td>R, G, NIR, RE</td>\n      <td>MiT-B0</td>\n      <td>Freeze</td>\n      <td>0</td>\n      <td>R, G, G, G</td>\n      <td>0.534</td>\n      <td>0.496</td>\n      <td>0.753</td>\n    </tr>\n    <tr>\n      <th>16</th>\n      <td>CIR</td>\n      <td>MiT-B0</td>\n      <td>Fine-Tuning</td>\n      <td>2</td>\n      <td>G, G, R</td>\n      <td>0.525</td>\n      <td>0.640</td>\n      <td>0.510</td>\n    </tr>\n    <tr>\n      <th>17</th>\n      <td>CIR</td>\n      <td>MiT-B0</td>\n      <td>Fine-Tuning</td>\n      <td>0</td>\n      <td>G, G, R</td>\n      <td>0.603</td>\n      <td>0.589</td>\n      <td>0.756</td>\n    </tr>\n    <tr>\n      <th>12</th>\n      <td>CIR</td>\n      <td>MiT-B0</td>\n      <td>Freeze</td>\n      <td>2</td>\n      <td>G, G, R</td>\n      <td>0.527</td>\n      <td>0.629</td>\n      <td>0.481</td>\n    </tr>\n    <tr>\n      <th>13</th>\n      <td>CIR</td>\n      <td>MiT-B0</td>\n      <td>Freeze</td>\n      <td>0</td>\n      <td>G, G, R</td>\n      <td>0.545</td>\n      <td>0.517</td>\n      <td>0.767</td>\n    </tr>\n    <tr>\n      <th>18</th>\n      <td>NDVI</td>\n      <td>MiT-B0</td>\n      <td>Fine-Tuning</td>\n      <td>2</td>\n      <td>G</td>\n      <td>0.572</td>\n      <td>0.607</td>\n      <td>0.634</td>\n    </tr>\n    <tr>\n      <th>19</th>\n      <td>NDVI</td>\n      <td>MiT-B0</td>\n      <td>Fine-Tuning</td>\n      <td>0</td>\n      <td>G</td>\n      <td>0.577</td>\n      <td>0.503</td>\n      <td>0.923</td>\n    </tr>\n    <tr>\n      <th>14</th>\n      <td>NDVI</td>\n      <td>MiT-B0</td>\n      <td>Freeze</td>\n      <td>2</td>\n      <td>G</td>\n      <td>0.646</td>\n      <td>0.614</td>\n      <td>0.698</td>\n    </tr>\n    <tr>\n      <th>15</th>\n      <td>NDVI</td>\n      <td>MiT-B0</td>\n      <td>Freeze</td>\n      <td>0</td>\n      <td>G</td>\n      <td>0.487</td>\n      <td>0.438</td>\n      <td>0.927</td>\n    </tr>\n    <tr>\n      <th>0</th>\n      <td>R, G, NIR, RE</td>\n      <td>MiT-B1</td>\n      <td>Fine-Tuning</td>\n      <td>2</td>\n      <td>R, G, G, G</td>\n      <td>0.476</td>\n      <td>0.727</td>\n      <td>0.428</td>\n    </tr>\n    <tr>\n      <th>2</th>\n      <td>R, G, NIR, RE</td>\n      <td>MiT-B1</td>\n      <td>Fine-Tuning</td>\n      <td>0</td>\n      <td>R, G, G, G</td>\n      <td>0.611</td>\n      <td>0.621</td>\n      <td>0.750</td>\n    </tr>\n    <tr>\n      <th>1</th>\n      <td>R, G, NIR, RE</td>\n      <td>MiT-B1</td>\n      <td>Freeze</td>\n      <td>2</td>\n      <td>R, G, G, G</td>\n      <td>0.493</td>\n      <td>0.610</td>\n      <td>0.446</td>\n    </tr>\n    <tr>\n      <th>3</th>\n      <td>R, G, NIR, RE</td>\n      <td>MiT-B1</td>\n      <td>Freeze</td>\n      <td>0</td>\n      <td>R, G, G, G</td>\n      <td>0.514</td>\n      <td>0.471</td>\n      <td>0.651</td>\n    </tr>\n    <tr>\n      <th>4</th>\n      <td>CIR</td>\n      <td>MiT-B1</td>\n      <td>Fine-Tuning</td>\n      <td>2</td>\n      <td>G, G, R</td>\n      <td>0.582</td>\n      <td>0.644</td>\n      <td>0.582</td>\n    </tr>\n    <tr>\n      <th>6</th>\n      <td>CIR</td>\n      <td>MiT-B1</td>\n      <td>Fine-Tuning</td>\n      <td>0</td>\n      <td>G, G, R</td>\n      <td>0.669</td>\n      <td>0.606</td>\n      <td>0.787</td>\n    </tr>\n    <tr>\n      <th>5</th>\n      <td>CIR</td>\n      <td>MiT-B1</td>\n      <td>Freeze</td>\n      <td>2</td>\n      <td>G, G, R</td>\n      <td>0.494</td>\n      <td>0.605</td>\n      <td>0.448</td>\n    </tr>\n    <tr>\n      <th>7</th>\n      <td>CIR</td>\n      <td>MiT-B1</td>\n      <td>Freeze</td>\n      <td>0</td>\n      <td>G, G, R</td>\n      <td>0.524</td>\n      <td>0.497</td>\n      <td>0.689</td>\n    </tr>\n    <tr>\n      <th>8</th>\n      <td>NDVI</td>\n      <td>MiT-B1</td>\n      <td>Fine-Tuning</td>\n      <td>2</td>\n      <td>G</td>\n      <td>0.645</td>\n      <td>0.636</td>\n      <td>0.699</td>\n    </tr>\n    <tr>\n      <th>10</th>\n      <td>NDVI</td>\n      <td>MiT-B1</td>\n      <td>Fine-Tuning</td>\n      <td>0</td>\n      <td>G</td>\n      <td>0.575</td>\n      <td>0.497</td>\n      <td>0.863</td>\n    </tr>\n    <tr>\n      <th>9</th>\n      <td>NDVI</td>\n      <td>MiT-B1</td>\n      <td>Freeze</td>\n      <td>2</td>\n      <td>G</td>\n      <td>0.656</td>\n      <td>0.595</td>\n      <td>0.817</td>\n    </tr>\n    <tr>\n      <th>11</th>\n      <td>NDVI</td>\n      <td>MiT-B1</td>\n      <td>Freeze</td>\n      <td>0</td>\n      <td>G</td>\n      <td>0.490</td>\n      <td>0.440</td>\n      <td>0.924</td>\n    </tr>\n  </tbody>\n</table>\n</div>"
     },
     "execution_count": 9,
     "metadata": {},
     "output_type": "execute_result"
    }
   ],
   "source": [
    "selected_runs"
   ],
   "metadata": {
    "collapsed": false,
    "pycharm": {
     "name": "#%%\n"
    }
   }
  },
  {
   "cell_type": "code",
   "execution_count": 268,
   "outputs": [],
   "source": [
    "selected_runs.to_csv(\"../../exps/rgb_weights-complete.csv\")"
   ],
   "metadata": {
    "collapsed": false,
    "pycharm": {
     "name": "#%%\n"
    }
   }
  },
  {
   "cell_type": "code",
   "execution_count": 59,
   "outputs": [],
   "source": [
    "filters = {\n",
    "    '$or': [{'group': 'RedEdge'}, {'group': 'RandomRotation'}]\n",
    "}\n",
    "selected_cols = [\n",
    "    'in_params.dataset.channels',\n",
    "    'in_params.model.params.backbone',\n",
    "    'in_params.train_params.freeze_pretrained',\n",
    "    'in_params.model.params.main_pretrained',\n",
    "    'f1',\n",
    "]\n",
    "roundings = ['F1']"
   ],
   "metadata": {
    "collapsed": false,
    "pycharm": {
     "name": "#%%\n"
    }
   }
  },
  {
   "cell_type": "code",
   "execution_count": 60,
   "outputs": [
    {
     "data": {
      "text/plain": "['hyper_params.arch_params.schema',\n 'hyper_params.arch_params.sync_bn',\n 'hyper_params.arch_params.backbone',\n 'hyper_params.arch_params.in_channels',\n 'hyper_params.arch_params.num_classes',\n 'hyper_params.arch_params.out_channels',\n 'hyper_params.arch_params.main_channels',\n 'hyper_params.arch_params.input_channels',\n 'hyper_params.arch_params.main_pretrained',\n 'hyper_params.arch_params.output_channels',\n 'hyper_params.arch_params.side_pretrained',\n 'hyper_params.arch_params.backbone_pretrained',\n 'hyper_params.dataset_params.root',\n 'hyper_params.dataset_params.size',\n 'hyper_params.dataset_params.schema',\n 'hyper_params.dataset_params.s3_link',\n 'hyper_params.dataset_params.channels',\n 'hyper_params.dataset_params.hor_flip',\n 'hyper_params.dataset_params.ver_flip',\n 'hyper_params.dataset_params.crop_size',\n 'hyper_params.dataset_params.batch_size',\n 'hyper_params.dataset_params.dataset_dir',\n 'hyper_params.dataset_params.num_classes',\n 'hyper_params.dataset_params.num_workers',\n 'hyper_params.dataset_params.return_path',\n 'hyper_params.dataset_params.test_folders',\n 'hyper_params.dataset_params.train_folders',\n 'hyper_params.dataset_params.val_batch_size',\n 'hyper_params.dataset_params.test_batch_size',\n 'hyper_params.additional_log_items.multi_gpu',\n 'hyper_params.additional_log_items.initial_LR',\n 'hyper_params.additional_log_items.device_type',\n 'hyper_params.additional_log_items.num_devices',\n 'hyper_params.additional_log_items.installed_packages',\n 'hyper_params.training_hyperparams.ema',\n 'hyper_params.training_hyperparams.loss',\n 'hyper_params.training_hyperparams.seed',\n 'hyper_params.training_hyperparams.schema.if.properties.lr_mode.const',\n 'hyper_params.training_hyperparams.schema.then.required',\n 'hyper_params.training_hyperparams.schema.type',\n 'hyper_params.training_hyperparams.schema.required',\n 'hyper_params.training_hyperparams.schema.properties.initial_lr.type',\n 'hyper_params.training_hyperparams.schema.properties.initial_lr.maximum',\n 'hyper_params.training_hyperparams.schema.properties.initial_lr.exclusiveMinimum',\n 'hyper_params.training_hyperparams.schema.properties.max_epochs.type',\n 'hyper_params.training_hyperparams.schema.properties.max_epochs.minimum',\n 'hyper_params.training_hyperparams.schema.properties.lr_decay_factor.type',\n 'hyper_params.training_hyperparams.schema.properties.lr_decay_factor.maximum',\n 'hyper_params.training_hyperparams.schema.properties.lr_decay_factor.minimum',\n 'hyper_params.training_hyperparams.schema.properties.lr_warmup_epochs.type',\n 'hyper_params.training_hyperparams.schema.properties.lr_warmup_epochs.maximum',\n 'hyper_params.training_hyperparams.schema.properties.lr_warmup_epochs.minimum',\n 'hyper_params.training_hyperparams.lr_mode',\n 'hyper_params.training_hyperparams.optimizer',\n 'hyper_params.training_hyperparams.sg_logger',\n 'hyper_params.training_hyperparams.initial_lr',\n 'hyper_params.training_hyperparams.lr_updates',\n 'hyper_params.training_hyperparams.max_epochs',\n 'hyper_params.training_hyperparams.precise_bn',\n 'hyper_params.training_hyperparams.save_model',\n 'hyper_params.training_hyperparams.silent_mode',\n 'hyper_params.training_hyperparams.warmup_mode',\n 'hyper_params.training_hyperparams.load_opt_params',\n 'hyper_params.training_hyperparams.metric_to_watch',\n 'hyper_params.training_hyperparams.mixed_precision',\n 'hyper_params.training_hyperparams.phase_callbacks',\n 'hyper_params.training_hyperparams.batch_accumulate',\n 'hyper_params.training_hyperparams.lr_warmup_epochs',\n 'hyper_params.training_hyperparams.optimizer_params.weight_decay',\n 'hyper_params.training_hyperparams.sg_logger_params.tags',\n 'hyper_params.training_hyperparams.sg_logger_params.entity',\n 'hyper_params.training_hyperparams.sg_logger_params.project_name',\n 'hyper_params.training_hyperparams.sg_logger_params.save_logs_remote',\n 'hyper_params.training_hyperparams.sg_logger_params.tensorboard_port',\n 'hyper_params.training_hyperparams.sg_logger_params.launch_tensorboard',\n 'hyper_params.training_hyperparams.sg_logger_params.tb_files_user_prompt',\n 'hyper_params.training_hyperparams.sg_logger_params.save_checkpoints_remote',\n 'hyper_params.training_hyperparams.sg_logger_params.save_tensorboard_remote',\n 'hyper_params.training_hyperparams.tensorboard_port',\n 'hyper_params.training_hyperparams.freeze_pretrained',\n 'hyper_params.training_hyperparams.warmup_initial_lr',\n 'hyper_params.training_hyperparams.dataset_statistics',\n 'hyper_params.training_hyperparams.launch_tensorboard',\n 'hyper_params.training_hyperparams.train_metrics_list',\n 'hyper_params.training_hyperparams.valid_metrics_list',\n 'hyper_params.training_hyperparams.average_best_models',\n 'hyper_params.training_hyperparams.run_validation_freq',\n 'hyper_params.training_hyperparams.save_full_train_log',\n 'hyper_params.training_hyperparams.step_lr_update_freq',\n 'hyper_params.training_hyperparams.lr_schedule_function',\n 'hyper_params.training_hyperparams.save_ckpt_epoch_list',\n 'hyper_params.training_hyperparams.tb_files_user_prompt',\n 'hyper_params.training_hyperparams.cosine_final_lr_ratio',\n 'hyper_params.training_hyperparams.precise_bn_batch_size',\n 'hyper_params.training_hyperparams.log_installed_packages',\n 'hyper_params.training_hyperparams.save_tensorboard_to_s3',\n 'hyper_params.training_hyperparams.loss_logging_items_names',\n 'hyper_params.training_hyperparams.zero_weight_decay_on_bias_and_bn',\n 'hyper_params.training_hyperparams.greater_metric_to_watch_is_better']"
     },
     "metadata": {},
     "output_type": "display_data"
    }
   ],
   "source": [
    "runs_df = get_runs(filters)\n",
    "remove_hyp(runs_df)\n",
    "projected_runs = runs_df[\n",
    "    selected_cols\n",
    "]\n",
    "selected_runs = projected_runs"
   ],
   "metadata": {
    "collapsed": false,
    "pycharm": {
     "name": "#%%\n"
    }
   }
  },
  {
   "cell_type": "code",
   "execution_count": 61,
   "outputs": [
    {
     "name": "stderr",
     "output_type": "stream",
     "text": [
      "C:\\Users\\pasqu\\AppData\\Local\\Temp\\ipykernel_1588\\1874336447.py:1: SettingWithCopyWarning: \n",
      "A value is trying to be set on a copy of a slice from a DataFrame\n",
      "\n",
      "See the caveats in the documentation: https://pandas.pydata.org/pandas-docs/stable/user_guide/indexing.html#returning-a-view-versus-a-copy\n",
      "  selected_runs.rename(columns=renamings, inplace=True)\n",
      "C:\\Users\\pasqu\\AppData\\Local\\Temp\\ipykernel_1588\\1874336447.py:4: SettingWithCopyWarning: \n",
      "A value is trying to be set on a copy of a slice from a DataFrame\n",
      "\n",
      "See the caveats in the documentation: https://pandas.pydata.org/pandas-docs/stable/user_guide/indexing.html#returning-a-view-versus-a-copy\n",
      "  selected_runs.drop(selected_runs[selected_runs['Channels'].isin([['R', 'G']])].index, inplace=True)\n"
     ]
    }
   ],
   "source": [
    "selected_runs.rename(columns=renamings, inplace=True)\n",
    "selected_runs.loc[(selected_runs['Channels'] == 'CIR') & selected_runs['Used Weights'].isna(), 'Used Weights'] = 'RGB'\n",
    "selected_runs.loc[(selected_runs['Channels'].isin([['NDVI']])) & selected_runs['Used Weights'].isna(), 'Used Weights'] = 'R'\n",
    "selected_runs.drop(selected_runs[selected_runs['Channels'].isin([['R', 'G']])].index, inplace=True)"
   ],
   "metadata": {
    "collapsed": false,
    "pycharm": {
     "name": "#%%\n"
    }
   }
  },
  {
   "cell_type": "code",
   "execution_count": 62,
   "outputs": [
    {
     "name": "stderr",
     "output_type": "stream",
     "text": [
      "C:\\Users\\pasqu\\AppData\\Local\\Temp\\ipykernel_1588\\2999623128.py:34: SettingWithCopyWarning: \n",
      "A value is trying to be set on a copy of a slice from a DataFrame.\n",
      "Try using .loc[row_indexer,col_indexer] = value instead\n",
      "\n",
      "See the caveats in the documentation: https://pandas.pydata.org/pandas-docs/stable/user_guide/indexing.html#returning-a-view-versus-a-copy\n",
      "  df[column] = df[column].replace(values)\n",
      "C:\\Users\\pasqu\\AppData\\Local\\Temp\\ipykernel_1588\\3723124597.py:2: SettingWithCopyWarning: \n",
      "A value is trying to be set on a copy of a slice from a DataFrame.\n",
      "Try using .loc[row_indexer,col_indexer] = value instead\n",
      "\n",
      "See the caveats in the documentation: https://pandas.pydata.org/pandas-docs/stable/user_guide/indexing.html#returning-a-view-versus-a-copy\n",
      "  selected_runs[roundings] = selected_runs[roundings].round(5)\n"
     ]
    }
   ],
   "source": [
    "rename_values(selected_runs, value_renamings)\n",
    "selected_runs[roundings] = selected_runs[roundings].round(5)\n",
    "selected_runs = selected_runs.applymap(lambda x: ', '.join(x) if isinstance(x, list) else x)\n",
    "selected_runs[roundings] = selected_runs[roundings].round(3)\n",
    "selected_runs.sort_values(by=['Backbone', 'Channels', 'Used Weights'],\n",
    "                          key=lambda x: x.apply(lambda k: channels_ordering[k]), inplace=True)"
   ],
   "metadata": {
    "collapsed": false,
    "pycharm": {
     "name": "#%%\n"
    }
   }
  },
  {
   "cell_type": "code",
   "execution_count": 63,
   "outputs": [
    {
     "name": "stderr",
     "output_type": "stream",
     "text": [
      "C:\\Users\\pasqu\\AppData\\Local\\Temp\\ipykernel_1588\\3340784096.py:3: SettingWithCopyWarning: \n",
      "A value is trying to be set on a copy of a slice from a DataFrame\n",
      "\n",
      "See the caveats in the documentation: https://pandas.pydata.org/pandas-docs/stable/user_guide/indexing.html#returning-a-view-versus-a-copy\n",
      "  best_runs.sort_values(by=['Channels', 'Strategy'], key=lambda x: x.apply(lambda k: channels_ordering[k]), inplace=True)\n",
      "C:\\Users\\pasqu\\AppData\\Local\\Temp\\ipykernel_1588\\3340784096.py:4: SettingWithCopyWarning: \n",
      "A value is trying to be set on a copy of a slice from a DataFrame.\n",
      "Try using .loc[row_indexer,col_indexer] = value instead\n",
      "\n",
      "See the caveats in the documentation: https://pandas.pydata.org/pandas-docs/stable/user_guide/indexing.html#returning-a-view-versus-a-copy\n",
      "  best_runs[roundings] = best_runs[roundings].round(3)\n"
     ]
    }
   ],
   "source": [
    "idx = selected_runs.groupby(by=['Channels', 'Strategy', 'Used Weights'])['F1'].transform(max) == selected_runs['F1']\n",
    "best_runs = selected_runs[idx]\n",
    "best_runs.sort_values(by=['Channels', 'Strategy'], key=lambda x: x.apply(lambda k: channels_ordering[k]), inplace=True)\n",
    "best_runs[roundings] = best_runs[roundings].round(3)"
   ],
   "metadata": {
    "collapsed": false,
    "pycharm": {
     "name": "#%%\n"
    }
   }
  },
  {
   "cell_type": "code",
   "execution_count": 15,
   "outputs": [
    {
     "data": {
      "text/plain": "         Channels Backbone     Strategy Used Weights     F1\n22  R, G, NIR, RE   MiT-B0  Fine-Tuning   R, G, G, G  0.616\n23  R, G, NIR, RE   MiT-B0       Freeze   R, G, G, G  0.534\n30            CIR   MiT-B1  Fine-Tuning          RGB  0.650\n6             CIR   MiT-B1  Fine-Tuning      G, G, R  0.669\n13            CIR   MiT-B0       Freeze      G, G, R  0.545\n27            CIR   MiT-B1       Freeze          RGB  0.602\n37           NDVI   MiT-B0  Fine-Tuning            R  0.594\n8            NDVI   MiT-B1  Fine-Tuning            G  0.645\n28           NDVI   MiT-B1       Freeze            R  0.685\n9            NDVI   MiT-B1       Freeze            G  0.656",
      "text/html": "<div>\n<style scoped>\n    .dataframe tbody tr th:only-of-type {\n        vertical-align: middle;\n    }\n\n    .dataframe tbody tr th {\n        vertical-align: top;\n    }\n\n    .dataframe thead th {\n        text-align: right;\n    }\n</style>\n<table border=\"1\" class=\"dataframe\">\n  <thead>\n    <tr style=\"text-align: right;\">\n      <th></th>\n      <th>Channels</th>\n      <th>Backbone</th>\n      <th>Strategy</th>\n      <th>Used Weights</th>\n      <th>F1</th>\n    </tr>\n  </thead>\n  <tbody>\n    <tr>\n      <th>22</th>\n      <td>R, G, NIR, RE</td>\n      <td>MiT-B0</td>\n      <td>Fine-Tuning</td>\n      <td>R, G, G, G</td>\n      <td>0.616</td>\n    </tr>\n    <tr>\n      <th>23</th>\n      <td>R, G, NIR, RE</td>\n      <td>MiT-B0</td>\n      <td>Freeze</td>\n      <td>R, G, G, G</td>\n      <td>0.534</td>\n    </tr>\n    <tr>\n      <th>30</th>\n      <td>CIR</td>\n      <td>MiT-B1</td>\n      <td>Fine-Tuning</td>\n      <td>RGB</td>\n      <td>0.650</td>\n    </tr>\n    <tr>\n      <th>6</th>\n      <td>CIR</td>\n      <td>MiT-B1</td>\n      <td>Fine-Tuning</td>\n      <td>G, G, R</td>\n      <td>0.669</td>\n    </tr>\n    <tr>\n      <th>13</th>\n      <td>CIR</td>\n      <td>MiT-B0</td>\n      <td>Freeze</td>\n      <td>G, G, R</td>\n      <td>0.545</td>\n    </tr>\n    <tr>\n      <th>27</th>\n      <td>CIR</td>\n      <td>MiT-B1</td>\n      <td>Freeze</td>\n      <td>RGB</td>\n      <td>0.602</td>\n    </tr>\n    <tr>\n      <th>37</th>\n      <td>NDVI</td>\n      <td>MiT-B0</td>\n      <td>Fine-Tuning</td>\n      <td>R</td>\n      <td>0.594</td>\n    </tr>\n    <tr>\n      <th>8</th>\n      <td>NDVI</td>\n      <td>MiT-B1</td>\n      <td>Fine-Tuning</td>\n      <td>G</td>\n      <td>0.645</td>\n    </tr>\n    <tr>\n      <th>28</th>\n      <td>NDVI</td>\n      <td>MiT-B1</td>\n      <td>Freeze</td>\n      <td>R</td>\n      <td>0.685</td>\n    </tr>\n    <tr>\n      <th>9</th>\n      <td>NDVI</td>\n      <td>MiT-B1</td>\n      <td>Freeze</td>\n      <td>G</td>\n      <td>0.656</td>\n    </tr>\n  </tbody>\n</table>\n</div>"
     },
     "execution_count": 15,
     "metadata": {},
     "output_type": "execute_result"
    }
   ],
   "source": [
    "best_runs"
   ],
   "metadata": {
    "collapsed": false,
    "pycharm": {
     "name": "#%%\n"
    }
   }
  },
  {
   "cell_type": "code",
   "execution_count": 321,
   "outputs": [
    {
     "data": {
      "text/plain": "   Channels Backbone_x     Strategy Used Weights_x   F1_x Backbone_y  \\\n3       CIR     MiT-B1  Fine-Tuning            RGB  0.650     MiT-B1   \n8       CIR     MiT-B1       Freeze            RGB  0.602     MiT-B0   \n11     NDVI     MiT-B0  Fine-Tuning              R  0.594     MiT-B1   \n15     NDVI     MiT-B1       Freeze              R  0.685     MiT-B1   \n\n   Used Weights_y   F1_y  \n3         G, G, R  0.669  \n8         G, G, R  0.545  \n11              G  0.645  \n15              G  0.656  ",
      "text/html": "<div>\n<style scoped>\n    .dataframe tbody tr th:only-of-type {\n        vertical-align: middle;\n    }\n\n    .dataframe tbody tr th {\n        vertical-align: top;\n    }\n\n    .dataframe thead th {\n        text-align: right;\n    }\n</style>\n<table border=\"1\" class=\"dataframe\">\n  <thead>\n    <tr style=\"text-align: right;\">\n      <th></th>\n      <th>Channels</th>\n      <th>Backbone_x</th>\n      <th>Strategy</th>\n      <th>Used Weights_x</th>\n      <th>F1_x</th>\n      <th>Backbone_y</th>\n      <th>Used Weights_y</th>\n      <th>F1_y</th>\n    </tr>\n  </thead>\n  <tbody>\n    <tr>\n      <th>3</th>\n      <td>CIR</td>\n      <td>MiT-B1</td>\n      <td>Fine-Tuning</td>\n      <td>RGB</td>\n      <td>0.650</td>\n      <td>MiT-B1</td>\n      <td>G, G, R</td>\n      <td>0.669</td>\n    </tr>\n    <tr>\n      <th>8</th>\n      <td>CIR</td>\n      <td>MiT-B1</td>\n      <td>Freeze</td>\n      <td>RGB</td>\n      <td>0.602</td>\n      <td>MiT-B0</td>\n      <td>G, G, R</td>\n      <td>0.545</td>\n    </tr>\n    <tr>\n      <th>11</th>\n      <td>NDVI</td>\n      <td>MiT-B0</td>\n      <td>Fine-Tuning</td>\n      <td>R</td>\n      <td>0.594</td>\n      <td>MiT-B1</td>\n      <td>G</td>\n      <td>0.645</td>\n    </tr>\n    <tr>\n      <th>15</th>\n      <td>NDVI</td>\n      <td>MiT-B1</td>\n      <td>Freeze</td>\n      <td>R</td>\n      <td>0.685</td>\n      <td>MiT-B1</td>\n      <td>G</td>\n      <td>0.656</td>\n    </tr>\n  </tbody>\n</table>\n</div>"
     },
     "execution_count": 321,
     "metadata": {},
     "output_type": "execute_result"
    }
   ],
   "source": [
    "compare_runs = best_runs.merge(best_runs, on=['Channels', 'Strategy'])\n",
    "compare_runs.drop(compare_runs[compare_runs['Used Weights_x'] == compare_runs['Used Weights_y']].index, inplace=True)\n",
    "compare_runs.drop(compare_runs[compare_runs['Used Weights_x'] == 'G, G, R'].index, inplace=True)\n",
    "compare_runs.drop(compare_runs[compare_runs['Used Weights_x'] == 'G'].index, inplace=True)\n",
    "compare_runs"
   ],
   "metadata": {
    "collapsed": false,
    "pycharm": {
     "name": "#%%\n"
    }
   }
  },
  {
   "cell_type": "code",
   "execution_count": 322,
   "outputs": [
    {
     "name": "stderr",
     "output_type": "stream",
     "text": [
      "C:\\Users\\pasqu\\AppData\\Local\\Temp\\ipykernel_11100\\4110542001.py:2: SettingWithCopyWarning: \n",
      "A value is trying to be set on a copy of a slice from a DataFrame\n",
      "\n",
      "See the caveats in the documentation: https://pandas.pydata.org/pandas-docs/stable/user_guide/indexing.html#returning-a-view-versus-a-copy\n",
      "  complete.rename(columns={'Gamma': 'Gamma_y', 'F1': 'F1_y', 'Used Weights': 'Used Weights_y', 'Backbone': 'Backbone_x'}, inplace=True)\n",
      "C:\\Users\\pasqu\\AppData\\Local\\Temp\\ipykernel_11100\\4110542001.py:3: FutureWarning: The frame.append method is deprecated and will be removed from pandas in a future version. Use pandas.concat instead.\n",
      "  compare_runs = compare_runs.append(complete)\n"
     ]
    },
    {
     "data": {
      "text/plain": "         Channels Backbone_x     Strategy Used Weights_x   F1_x Backbone_y  \\\n3             CIR     MiT-B1  Fine-Tuning            RGB   0.65     MiT-B1   \n8             CIR     MiT-B1       Freeze            RGB  0.602     MiT-B0   \n11           NDVI     MiT-B0  Fine-Tuning              R  0.594     MiT-B1   \n15           NDVI     MiT-B1       Freeze              R  0.685     MiT-B1   \n22  R, G, NIR, RE     MiT-B0  Fine-Tuning                                    \n23  R, G, NIR, RE     MiT-B0       Freeze                                    \n\n   Used Weights_y   F1_y  \n3         G, G, R  0.669  \n8         G, G, R  0.545  \n11              G  0.645  \n15              G  0.656  \n22     R, G, G, G  0.616  \n23     R, G, G, G  0.534  ",
      "text/html": "<div>\n<style scoped>\n    .dataframe tbody tr th:only-of-type {\n        vertical-align: middle;\n    }\n\n    .dataframe tbody tr th {\n        vertical-align: top;\n    }\n\n    .dataframe thead th {\n        text-align: right;\n    }\n</style>\n<table border=\"1\" class=\"dataframe\">\n  <thead>\n    <tr style=\"text-align: right;\">\n      <th></th>\n      <th>Channels</th>\n      <th>Backbone_x</th>\n      <th>Strategy</th>\n      <th>Used Weights_x</th>\n      <th>F1_x</th>\n      <th>Backbone_y</th>\n      <th>Used Weights_y</th>\n      <th>F1_y</th>\n    </tr>\n  </thead>\n  <tbody>\n    <tr>\n      <th>3</th>\n      <td>CIR</td>\n      <td>MiT-B1</td>\n      <td>Fine-Tuning</td>\n      <td>RGB</td>\n      <td>0.65</td>\n      <td>MiT-B1</td>\n      <td>G, G, R</td>\n      <td>0.669</td>\n    </tr>\n    <tr>\n      <th>8</th>\n      <td>CIR</td>\n      <td>MiT-B1</td>\n      <td>Freeze</td>\n      <td>RGB</td>\n      <td>0.602</td>\n      <td>MiT-B0</td>\n      <td>G, G, R</td>\n      <td>0.545</td>\n    </tr>\n    <tr>\n      <th>11</th>\n      <td>NDVI</td>\n      <td>MiT-B0</td>\n      <td>Fine-Tuning</td>\n      <td>R</td>\n      <td>0.594</td>\n      <td>MiT-B1</td>\n      <td>G</td>\n      <td>0.645</td>\n    </tr>\n    <tr>\n      <th>15</th>\n      <td>NDVI</td>\n      <td>MiT-B1</td>\n      <td>Freeze</td>\n      <td>R</td>\n      <td>0.685</td>\n      <td>MiT-B1</td>\n      <td>G</td>\n      <td>0.656</td>\n    </tr>\n    <tr>\n      <th>22</th>\n      <td>R, G, NIR, RE</td>\n      <td>MiT-B0</td>\n      <td>Fine-Tuning</td>\n      <td></td>\n      <td></td>\n      <td></td>\n      <td>R, G, G, G</td>\n      <td>0.616</td>\n    </tr>\n    <tr>\n      <th>23</th>\n      <td>R, G, NIR, RE</td>\n      <td>MiT-B0</td>\n      <td>Freeze</td>\n      <td></td>\n      <td></td>\n      <td></td>\n      <td>R, G, G, G</td>\n      <td>0.534</td>\n    </tr>\n  </tbody>\n</table>\n</div>"
     },
     "execution_count": 322,
     "metadata": {},
     "output_type": "execute_result"
    }
   ],
   "source": [
    "complete = best_runs[best_runs['Channels'] == 'R, G, NIR, RE']\n",
    "complete.rename(columns={'Gamma': 'Gamma_y', 'F1': 'F1_y', 'Used Weights': 'Used Weights_y', 'Backbone': 'Backbone_x'}, inplace=True)\n",
    "compare_runs = compare_runs.append(complete)\n",
    "compare_runs.fillna(\"\", inplace=True)\n",
    "compare_runs"
   ],
   "metadata": {
    "collapsed": false,
    "pycharm": {
     "name": "#%%\n"
    }
   }
  },
  {
   "cell_type": "code",
   "execution_count": 324,
   "outputs": [],
   "source": [
    "compare_runs.to_csv(\"../../exps/rgb_weights.csv\")"
   ],
   "metadata": {
    "collapsed": false,
    "pycharm": {
     "name": "#%%\n"
    }
   }
  },
  {
   "cell_type": "code",
   "execution_count": null,
   "outputs": [],
   "source": [],
   "metadata": {
    "collapsed": false,
    "pycharm": {
     "name": "#%%\n"
    }
   }
  },
  {
   "cell_type": "markdown",
   "source": [
    "## Laweed"
   ],
   "metadata": {
    "collapsed": false,
    "pycharm": {
     "name": "#%% md\n"
    }
   }
  },
  {
   "cell_type": "code",
   "execution_count": 46,
   "outputs": [],
   "source": [
    "filters = {\n",
    "    'group': 'Laweed'\n",
    "}\n",
    "selected_cols = [\n",
    "    'in_params.dataset.channels',\n",
    "    'in_params.train_params.loss.params.gamma',\n",
    "    'in_params.train_params.freeze_pretrained',\n",
    "    'in_params.model.params.main_pretrained',\n",
    "    'f1',\n",
    "    'precision',\n",
    "    'recall'\n",
    "]\n",
    "roundings = ['F1', 'Precision', 'Recall']"
   ],
   "metadata": {
    "collapsed": false,
    "pycharm": {
     "name": "#%%\n"
    }
   }
  },
  {
   "cell_type": "code",
   "execution_count": 47,
   "outputs": [
    {
     "data": {
      "text/plain": "['hyper_params.arch_params.schema',\n 'hyper_params.arch_params.sync_bn',\n 'hyper_params.arch_params.backbone',\n 'hyper_params.arch_params.in_channels',\n 'hyper_params.arch_params.num_classes',\n 'hyper_params.arch_params.out_channels',\n 'hyper_params.arch_params.main_channels',\n 'hyper_params.arch_params.input_channels',\n 'hyper_params.arch_params.main_pretrained',\n 'hyper_params.arch_params.output_channels',\n 'hyper_params.arch_params.side_pretrained',\n 'hyper_params.arch_params.backbone_pretrained',\n 'hyper_params.dataset_params.root',\n 'hyper_params.dataset_params.size',\n 'hyper_params.dataset_params.schema',\n 'hyper_params.dataset_params.s3_link',\n 'hyper_params.dataset_params.channels',\n 'hyper_params.dataset_params.hor_flip',\n 'hyper_params.dataset_params.ver_flip',\n 'hyper_params.dataset_params.crop_size',\n 'hyper_params.dataset_params.batch_size',\n 'hyper_params.dataset_params.dataset_dir',\n 'hyper_params.dataset_params.num_classes',\n 'hyper_params.dataset_params.num_workers',\n 'hyper_params.dataset_params.return_path',\n 'hyper_params.dataset_params.test_folders',\n 'hyper_params.dataset_params.train_folders',\n 'hyper_params.dataset_params.val_batch_size',\n 'hyper_params.dataset_params.test_batch_size',\n 'hyper_params.additional_log_items.multi_gpu',\n 'hyper_params.additional_log_items.initial_LR',\n 'hyper_params.additional_log_items.device_type',\n 'hyper_params.additional_log_items.num_devices',\n 'hyper_params.additional_log_items.installed_packages',\n 'hyper_params.training_hyperparams.ema',\n 'hyper_params.training_hyperparams.loss',\n 'hyper_params.training_hyperparams.seed',\n 'hyper_params.training_hyperparams.schema.if.properties.lr_mode.const',\n 'hyper_params.training_hyperparams.schema.then.required',\n 'hyper_params.training_hyperparams.schema.type',\n 'hyper_params.training_hyperparams.schema.required',\n 'hyper_params.training_hyperparams.schema.properties.initial_lr.type',\n 'hyper_params.training_hyperparams.schema.properties.initial_lr.maximum',\n 'hyper_params.training_hyperparams.schema.properties.initial_lr.exclusiveMinimum',\n 'hyper_params.training_hyperparams.schema.properties.max_epochs.type',\n 'hyper_params.training_hyperparams.schema.properties.max_epochs.minimum',\n 'hyper_params.training_hyperparams.schema.properties.lr_decay_factor.type',\n 'hyper_params.training_hyperparams.schema.properties.lr_decay_factor.maximum',\n 'hyper_params.training_hyperparams.schema.properties.lr_decay_factor.minimum',\n 'hyper_params.training_hyperparams.schema.properties.lr_warmup_epochs.type',\n 'hyper_params.training_hyperparams.schema.properties.lr_warmup_epochs.maximum',\n 'hyper_params.training_hyperparams.schema.properties.lr_warmup_epochs.minimum',\n 'hyper_params.training_hyperparams.lr_mode',\n 'hyper_params.training_hyperparams.optimizer',\n 'hyper_params.training_hyperparams.sg_logger',\n 'hyper_params.training_hyperparams.initial_lr',\n 'hyper_params.training_hyperparams.lr_updates',\n 'hyper_params.training_hyperparams.max_epochs',\n 'hyper_params.training_hyperparams.precise_bn',\n 'hyper_params.training_hyperparams.save_model',\n 'hyper_params.training_hyperparams.silent_mode',\n 'hyper_params.training_hyperparams.warmup_mode',\n 'hyper_params.training_hyperparams.load_opt_params',\n 'hyper_params.training_hyperparams.metric_to_watch',\n 'hyper_params.training_hyperparams.mixed_precision',\n 'hyper_params.training_hyperparams.phase_callbacks',\n 'hyper_params.training_hyperparams.batch_accumulate',\n 'hyper_params.training_hyperparams.lr_warmup_epochs',\n 'hyper_params.training_hyperparams.optimizer_params.weight_decay',\n 'hyper_params.training_hyperparams.sg_logger_params.tags',\n 'hyper_params.training_hyperparams.sg_logger_params.entity',\n 'hyper_params.training_hyperparams.sg_logger_params.project_name',\n 'hyper_params.training_hyperparams.sg_logger_params.save_logs_remote',\n 'hyper_params.training_hyperparams.sg_logger_params.tensorboard_port',\n 'hyper_params.training_hyperparams.sg_logger_params.launch_tensorboard',\n 'hyper_params.training_hyperparams.sg_logger_params.tb_files_user_prompt',\n 'hyper_params.training_hyperparams.sg_logger_params.save_checkpoints_remote',\n 'hyper_params.training_hyperparams.sg_logger_params.save_tensorboard_remote',\n 'hyper_params.training_hyperparams.tensorboard_port',\n 'hyper_params.training_hyperparams.freeze_pretrained',\n 'hyper_params.training_hyperparams.warmup_initial_lr',\n 'hyper_params.training_hyperparams.dataset_statistics',\n 'hyper_params.training_hyperparams.launch_tensorboard',\n 'hyper_params.training_hyperparams.train_metrics_list',\n 'hyper_params.training_hyperparams.valid_metrics_list',\n 'hyper_params.training_hyperparams.average_best_models',\n 'hyper_params.training_hyperparams.run_validation_freq',\n 'hyper_params.training_hyperparams.save_full_train_log',\n 'hyper_params.training_hyperparams.step_lr_update_freq',\n 'hyper_params.training_hyperparams.lr_schedule_function',\n 'hyper_params.training_hyperparams.save_ckpt_epoch_list',\n 'hyper_params.training_hyperparams.tb_files_user_prompt',\n 'hyper_params.training_hyperparams.cosine_final_lr_ratio',\n 'hyper_params.training_hyperparams.precise_bn_batch_size',\n 'hyper_params.training_hyperparams.log_installed_packages',\n 'hyper_params.training_hyperparams.save_tensorboard_to_s3',\n 'hyper_params.training_hyperparams.loss_logging_items_names',\n 'hyper_params.training_hyperparams.zero_weight_decay_on_bias_and_bn',\n 'hyper_params.training_hyperparams.greater_metric_to_watch_is_better']"
     },
     "metadata": {},
     "output_type": "display_data"
    }
   ],
   "source": [
    "runs_df = get_runs(filters)\n",
    "remove_hyp(runs_df)"
   ],
   "metadata": {
    "collapsed": false,
    "pycharm": {
     "name": "#%%\n"
    }
   }
  },
  {
   "cell_type": "code",
   "execution_count": 48,
   "outputs": [],
   "source": [
    "projected_runs = runs_df[\n",
    "    selected_cols\n",
    "]\n",
    "# selected_runs = projected_runs[projected_runs['in_params.model.params.backbone'] == 'MiT-B0']\n",
    "selected_runs = projected_runs"
   ],
   "metadata": {
    "collapsed": false,
    "pycharm": {
     "name": "#%%\n"
    }
   }
  },
  {
   "cell_type": "code",
   "execution_count": 49,
   "outputs": [
    {
     "name": "stderr",
     "output_type": "stream",
     "text": [
      "C:\\Users\\pasqu\\AppData\\Local\\Temp\\ipykernel_1588\\1084863829.py:1: SettingWithCopyWarning: \n",
      "A value is trying to be set on a copy of a slice from a DataFrame\n",
      "\n",
      "See the caveats in the documentation: https://pandas.pydata.org/pandas-docs/stable/user_guide/indexing.html#returning-a-view-versus-a-copy\n",
      "  selected_runs.rename(columns=renamings, inplace=True)\n",
      "C:\\Users\\pasqu\\AppData\\Local\\Temp\\ipykernel_1588\\2999623128.py:34: SettingWithCopyWarning: \n",
      "A value is trying to be set on a copy of a slice from a DataFrame.\n",
      "Try using .loc[row_indexer,col_indexer] = value instead\n",
      "\n",
      "See the caveats in the documentation: https://pandas.pydata.org/pandas-docs/stable/user_guide/indexing.html#returning-a-view-versus-a-copy\n",
      "  df[column] = df[column].replace(values)\n",
      "C:\\Users\\pasqu\\AppData\\Local\\Temp\\ipykernel_1588\\1084863829.py:3: SettingWithCopyWarning: \n",
      "A value is trying to be set on a copy of a slice from a DataFrame.\n",
      "Try using .loc[row_indexer,col_indexer] = value instead\n",
      "\n",
      "See the caveats in the documentation: https://pandas.pydata.org/pandas-docs/stable/user_guide/indexing.html#returning-a-view-versus-a-copy\n",
      "  selected_runs[roundings] = selected_runs[roundings].round(5)\n",
      "C:\\Users\\pasqu\\AppData\\Local\\Temp\\ipykernel_1588\\1084863829.py:4: SettingWithCopyWarning: \n",
      "A value is trying to be set on a copy of a slice from a DataFrame\n",
      "\n",
      "See the caveats in the documentation: https://pandas.pydata.org/pandas-docs/stable/user_guide/indexing.html#returning-a-view-versus-a-copy\n",
      "  selected_runs.fillna(0, inplace=True)\n",
      "C:\\Users\\pasqu\\AppData\\Local\\Temp\\ipykernel_1588\\1084863829.py:8: SettingWithCopyWarning: \n",
      "A value is trying to be set on a copy of a slice from a DataFrame\n",
      "\n",
      "See the caveats in the documentation: https://pandas.pydata.org/pandas-docs/stable/user_guide/indexing.html#returning-a-view-versus-a-copy\n",
      "  best_runs.sort_values(by=['Strategy', 'Channels'], key=lambda x: x.apply(lambda k: channels_ordering[k]), inplace=True)\n",
      "C:\\Users\\pasqu\\AppData\\Local\\Temp\\ipykernel_1588\\1084863829.py:9: SettingWithCopyWarning: \n",
      "A value is trying to be set on a copy of a slice from a DataFrame.\n",
      "Try using .loc[row_indexer,col_indexer] = value instead\n",
      "\n",
      "See the caveats in the documentation: https://pandas.pydata.org/pandas-docs/stable/user_guide/indexing.html#returning-a-view-versus-a-copy\n",
      "  best_runs[roundings] = best_runs[roundings].round(3)\n"
     ]
    }
   ],
   "source": [
    "selected_runs.rename(columns=renamings, inplace=True)\n",
    "rename_values(selected_runs, value_renamings)\n",
    "selected_runs[roundings] = selected_runs[roundings].round(5)\n",
    "selected_runs.fillna(0, inplace=True)\n",
    "selected_runs = selected_runs.applymap(lambda x: ', '.join(x) if isinstance(x, list) else x)\n",
    "idx = selected_runs.groupby(by=['Channels', 'Strategy'])['F1'].transform(max) == selected_runs['F1']\n",
    "best_runs = selected_runs[idx]\n",
    "best_runs.sort_values(by=['Strategy', 'Channels'], key=lambda x: x.apply(lambda k: channels_ordering[k]), inplace=True)\n",
    "best_runs[roundings] = best_runs[roundings].round(3)\n",
    "selected_runs[roundings] = selected_runs[roundings].round(3)"
   ],
   "metadata": {
    "collapsed": false,
    "pycharm": {
     "name": "#%%\n"
    }
   }
  },
  {
   "cell_type": "code",
   "execution_count": 50,
   "outputs": [
    {
     "data": {
      "text/plain": "         Channels Gamma     Strategy Used Weights     F1  Precision  Recall\n0            R, G   2.0  Fine-Tuning            0  0.436      0.615   0.420\n1            R, G     2       Freeze            0  0.000      0.000   0.000\n2            R, G     0  Fine-Tuning            0  0.549      0.521   0.776\n3            R, G     0       Freeze            0  0.526      0.504   0.675\n4             CIR   2.0  Fine-Tuning      G, G, R  0.429      0.653   0.458\n5             CIR   2.0       Freeze      G, G, R  0.536      0.613   0.526\n6             CIR     0  Fine-Tuning      G, G, R  0.605      0.563   0.822\n7             CIR     0       Freeze      G, G, R  0.519      0.475   0.824\n8            NDVI   2.0  Fine-Tuning            0  0.507      0.621   0.588\n9            NDVI   2.0       Freeze            0  0.596      0.648   0.587\n10           NDVI     0  Fine-Tuning            0  0.559      0.499   0.914\n11           NDVI     0       Freeze            0  0.545      0.492   0.918\n12  R, G, NIR, RE     2  Fine-Tuning   R, G, G, G  0.444      0.656   0.429\n13  R, G, NIR, RE     2       Freeze   R, G, G, G  0.489      0.616   0.449\n14  R, G, NIR, RE     0  Fine-Tuning   R, G, G, G  0.603      0.593   0.774\n15  R, G, NIR, RE     0       Freeze   R, G, G, G  0.530      0.494   0.773\n16            CIR     2  Fine-Tuning            0  0.512      0.705   0.475\n17            CIR     2       Freeze            0  0.561      0.686   0.502\n18            CIR     0  Fine-Tuning            0  0.622      0.622   0.702\n19            CIR     0       Freeze            0  0.592      0.532   0.817\n20           NDVI     2  Fine-Tuning            G  0.428      0.663   0.472\n21           NDVI     2       Freeze            G  0.567      0.703   0.508\n22           NDVI     0  Fine-Tuning            G  0.587      0.523   0.870\n23           NDVI     0       Freeze            G  0.513      0.480   0.858",
      "text/html": "<div>\n<style scoped>\n    .dataframe tbody tr th:only-of-type {\n        vertical-align: middle;\n    }\n\n    .dataframe tbody tr th {\n        vertical-align: top;\n    }\n\n    .dataframe thead th {\n        text-align: right;\n    }\n</style>\n<table border=\"1\" class=\"dataframe\">\n  <thead>\n    <tr style=\"text-align: right;\">\n      <th></th>\n      <th>Channels</th>\n      <th>Gamma</th>\n      <th>Strategy</th>\n      <th>Used Weights</th>\n      <th>F1</th>\n      <th>Precision</th>\n      <th>Recall</th>\n    </tr>\n  </thead>\n  <tbody>\n    <tr>\n      <th>0</th>\n      <td>R, G</td>\n      <td>2.0</td>\n      <td>Fine-Tuning</td>\n      <td>0</td>\n      <td>0.436</td>\n      <td>0.615</td>\n      <td>0.420</td>\n    </tr>\n    <tr>\n      <th>1</th>\n      <td>R, G</td>\n      <td>2</td>\n      <td>Freeze</td>\n      <td>0</td>\n      <td>0.000</td>\n      <td>0.000</td>\n      <td>0.000</td>\n    </tr>\n    <tr>\n      <th>2</th>\n      <td>R, G</td>\n      <td>0</td>\n      <td>Fine-Tuning</td>\n      <td>0</td>\n      <td>0.549</td>\n      <td>0.521</td>\n      <td>0.776</td>\n    </tr>\n    <tr>\n      <th>3</th>\n      <td>R, G</td>\n      <td>0</td>\n      <td>Freeze</td>\n      <td>0</td>\n      <td>0.526</td>\n      <td>0.504</td>\n      <td>0.675</td>\n    </tr>\n    <tr>\n      <th>4</th>\n      <td>CIR</td>\n      <td>2.0</td>\n      <td>Fine-Tuning</td>\n      <td>G, G, R</td>\n      <td>0.429</td>\n      <td>0.653</td>\n      <td>0.458</td>\n    </tr>\n    <tr>\n      <th>5</th>\n      <td>CIR</td>\n      <td>2.0</td>\n      <td>Freeze</td>\n      <td>G, G, R</td>\n      <td>0.536</td>\n      <td>0.613</td>\n      <td>0.526</td>\n    </tr>\n    <tr>\n      <th>6</th>\n      <td>CIR</td>\n      <td>0</td>\n      <td>Fine-Tuning</td>\n      <td>G, G, R</td>\n      <td>0.605</td>\n      <td>0.563</td>\n      <td>0.822</td>\n    </tr>\n    <tr>\n      <th>7</th>\n      <td>CIR</td>\n      <td>0</td>\n      <td>Freeze</td>\n      <td>G, G, R</td>\n      <td>0.519</td>\n      <td>0.475</td>\n      <td>0.824</td>\n    </tr>\n    <tr>\n      <th>8</th>\n      <td>NDVI</td>\n      <td>2.0</td>\n      <td>Fine-Tuning</td>\n      <td>0</td>\n      <td>0.507</td>\n      <td>0.621</td>\n      <td>0.588</td>\n    </tr>\n    <tr>\n      <th>9</th>\n      <td>NDVI</td>\n      <td>2.0</td>\n      <td>Freeze</td>\n      <td>0</td>\n      <td>0.596</td>\n      <td>0.648</td>\n      <td>0.587</td>\n    </tr>\n    <tr>\n      <th>10</th>\n      <td>NDVI</td>\n      <td>0</td>\n      <td>Fine-Tuning</td>\n      <td>0</td>\n      <td>0.559</td>\n      <td>0.499</td>\n      <td>0.914</td>\n    </tr>\n    <tr>\n      <th>11</th>\n      <td>NDVI</td>\n      <td>0</td>\n      <td>Freeze</td>\n      <td>0</td>\n      <td>0.545</td>\n      <td>0.492</td>\n      <td>0.918</td>\n    </tr>\n    <tr>\n      <th>12</th>\n      <td>R, G, NIR, RE</td>\n      <td>2</td>\n      <td>Fine-Tuning</td>\n      <td>R, G, G, G</td>\n      <td>0.444</td>\n      <td>0.656</td>\n      <td>0.429</td>\n    </tr>\n    <tr>\n      <th>13</th>\n      <td>R, G, NIR, RE</td>\n      <td>2</td>\n      <td>Freeze</td>\n      <td>R, G, G, G</td>\n      <td>0.489</td>\n      <td>0.616</td>\n      <td>0.449</td>\n    </tr>\n    <tr>\n      <th>14</th>\n      <td>R, G, NIR, RE</td>\n      <td>0</td>\n      <td>Fine-Tuning</td>\n      <td>R, G, G, G</td>\n      <td>0.603</td>\n      <td>0.593</td>\n      <td>0.774</td>\n    </tr>\n    <tr>\n      <th>15</th>\n      <td>R, G, NIR, RE</td>\n      <td>0</td>\n      <td>Freeze</td>\n      <td>R, G, G, G</td>\n      <td>0.530</td>\n      <td>0.494</td>\n      <td>0.773</td>\n    </tr>\n    <tr>\n      <th>16</th>\n      <td>CIR</td>\n      <td>2</td>\n      <td>Fine-Tuning</td>\n      <td>0</td>\n      <td>0.512</td>\n      <td>0.705</td>\n      <td>0.475</td>\n    </tr>\n    <tr>\n      <th>17</th>\n      <td>CIR</td>\n      <td>2</td>\n      <td>Freeze</td>\n      <td>0</td>\n      <td>0.561</td>\n      <td>0.686</td>\n      <td>0.502</td>\n    </tr>\n    <tr>\n      <th>18</th>\n      <td>CIR</td>\n      <td>0</td>\n      <td>Fine-Tuning</td>\n      <td>0</td>\n      <td>0.622</td>\n      <td>0.622</td>\n      <td>0.702</td>\n    </tr>\n    <tr>\n      <th>19</th>\n      <td>CIR</td>\n      <td>0</td>\n      <td>Freeze</td>\n      <td>0</td>\n      <td>0.592</td>\n      <td>0.532</td>\n      <td>0.817</td>\n    </tr>\n    <tr>\n      <th>20</th>\n      <td>NDVI</td>\n      <td>2</td>\n      <td>Fine-Tuning</td>\n      <td>G</td>\n      <td>0.428</td>\n      <td>0.663</td>\n      <td>0.472</td>\n    </tr>\n    <tr>\n      <th>21</th>\n      <td>NDVI</td>\n      <td>2</td>\n      <td>Freeze</td>\n      <td>G</td>\n      <td>0.567</td>\n      <td>0.703</td>\n      <td>0.508</td>\n    </tr>\n    <tr>\n      <th>22</th>\n      <td>NDVI</td>\n      <td>0</td>\n      <td>Fine-Tuning</td>\n      <td>G</td>\n      <td>0.587</td>\n      <td>0.523</td>\n      <td>0.870</td>\n    </tr>\n    <tr>\n      <th>23</th>\n      <td>NDVI</td>\n      <td>0</td>\n      <td>Freeze</td>\n      <td>G</td>\n      <td>0.513</td>\n      <td>0.480</td>\n      <td>0.858</td>\n    </tr>\n  </tbody>\n</table>\n</div>"
     },
     "execution_count": 50,
     "metadata": {},
     "output_type": "execute_result"
    }
   ],
   "source": [
    "selected_runs"
   ],
   "metadata": {
    "collapsed": false,
    "pycharm": {
     "name": "#%%\n"
    }
   }
  },
  {
   "cell_type": "code",
   "execution_count": 336,
   "outputs": [
    {
     "data": {
      "text/plain": "         Channels  Gamma     Strategy Used Weights     F1  Precision  Recall\n2   R, G, NIR, RE    0.0  Fine-Tuning   R, G, G, G  0.603      0.593   0.774\n6             CIR    0.0  Fine-Tuning            0  0.622      0.622   0.702\n10           NDVI    0.0  Fine-Tuning            G  0.587      0.523   0.870\n3   R, G, NIR, RE    0.0       Freeze   R, G, G, G  0.530      0.494   0.773\n7             CIR    0.0       Freeze            0  0.592      0.532   0.817\n9            NDVI    2.0       Freeze            G  0.567      0.703   0.508",
      "text/html": "<div>\n<style scoped>\n    .dataframe tbody tr th:only-of-type {\n        vertical-align: middle;\n    }\n\n    .dataframe tbody tr th {\n        vertical-align: top;\n    }\n\n    .dataframe thead th {\n        text-align: right;\n    }\n</style>\n<table border=\"1\" class=\"dataframe\">\n  <thead>\n    <tr style=\"text-align: right;\">\n      <th></th>\n      <th>Channels</th>\n      <th>Gamma</th>\n      <th>Strategy</th>\n      <th>Used Weights</th>\n      <th>F1</th>\n      <th>Precision</th>\n      <th>Recall</th>\n    </tr>\n  </thead>\n  <tbody>\n    <tr>\n      <th>2</th>\n      <td>R, G, NIR, RE</td>\n      <td>0.0</td>\n      <td>Fine-Tuning</td>\n      <td>R, G, G, G</td>\n      <td>0.603</td>\n      <td>0.593</td>\n      <td>0.774</td>\n    </tr>\n    <tr>\n      <th>6</th>\n      <td>CIR</td>\n      <td>0.0</td>\n      <td>Fine-Tuning</td>\n      <td>0</td>\n      <td>0.622</td>\n      <td>0.622</td>\n      <td>0.702</td>\n    </tr>\n    <tr>\n      <th>10</th>\n      <td>NDVI</td>\n      <td>0.0</td>\n      <td>Fine-Tuning</td>\n      <td>G</td>\n      <td>0.587</td>\n      <td>0.523</td>\n      <td>0.870</td>\n    </tr>\n    <tr>\n      <th>3</th>\n      <td>R, G, NIR, RE</td>\n      <td>0.0</td>\n      <td>Freeze</td>\n      <td>R, G, G, G</td>\n      <td>0.530</td>\n      <td>0.494</td>\n      <td>0.773</td>\n    </tr>\n    <tr>\n      <th>7</th>\n      <td>CIR</td>\n      <td>0.0</td>\n      <td>Freeze</td>\n      <td>0</td>\n      <td>0.592</td>\n      <td>0.532</td>\n      <td>0.817</td>\n    </tr>\n    <tr>\n      <th>9</th>\n      <td>NDVI</td>\n      <td>2.0</td>\n      <td>Freeze</td>\n      <td>G</td>\n      <td>0.567</td>\n      <td>0.703</td>\n      <td>0.508</td>\n    </tr>\n  </tbody>\n</table>\n</div>"
     },
     "execution_count": 336,
     "metadata": {},
     "output_type": "execute_result"
    }
   ],
   "source": [
    "best_runs"
   ],
   "metadata": {
    "collapsed": false,
    "pycharm": {
     "name": "#%%\n"
    }
   }
  },
  {
   "cell_type": "code",
   "execution_count": 51,
   "outputs": [],
   "source": [
    "selected_runs.to_csv(\"../../exps/laweed-complete.csv\")"
   ],
   "metadata": {
    "collapsed": false,
    "pycharm": {
     "name": "#%%\n"
    }
   }
  },
  {
   "cell_type": "code",
   "execution_count": 108,
   "outputs": [],
   "source": [
    "filters = {\n",
    "    '$and': [\n",
    "        {'$or': [{'group': 'Laweed'}, {'group': 'RandomRotation'}, {'group': 'RedEdge'}]},\n",
    "        {'config.in_params.model.params.backbone': 'MiT-B0'}\n",
    "    ]\n",
    "}\n",
    "selected_cols = [\n",
    "    'in_params.dataset.channels',\n",
    "    'in_params.train_params.loss.params.gamma',\n",
    "    'in_params.train_params.freeze_pretrained',\n",
    "    'in_params.model.params.main_pretrained',\n",
    "    'in_params.model.name',\n",
    "    'f1',\n",
    "]\n",
    "roundings = ['F1']"
   ],
   "metadata": {
    "collapsed": false,
    "pycharm": {
     "name": "#%%\n"
    }
   }
  },
  {
   "cell_type": "code",
   "execution_count": 109,
   "outputs": [
    {
     "data": {
      "text/plain": "['hyper_params.arch_params.schema',\n 'hyper_params.arch_params.sync_bn',\n 'hyper_params.arch_params.backbone',\n 'hyper_params.arch_params.in_channels',\n 'hyper_params.arch_params.num_classes',\n 'hyper_params.arch_params.out_channels',\n 'hyper_params.arch_params.main_channels',\n 'hyper_params.arch_params.input_channels',\n 'hyper_params.arch_params.main_pretrained',\n 'hyper_params.arch_params.output_channels',\n 'hyper_params.arch_params.side_pretrained',\n 'hyper_params.arch_params.backbone_pretrained',\n 'hyper_params.dataset_params.root',\n 'hyper_params.dataset_params.size',\n 'hyper_params.dataset_params.schema',\n 'hyper_params.dataset_params.s3_link',\n 'hyper_params.dataset_params.channels',\n 'hyper_params.dataset_params.hor_flip',\n 'hyper_params.dataset_params.ver_flip',\n 'hyper_params.dataset_params.crop_size',\n 'hyper_params.dataset_params.batch_size',\n 'hyper_params.dataset_params.dataset_dir',\n 'hyper_params.dataset_params.num_classes',\n 'hyper_params.dataset_params.num_workers',\n 'hyper_params.dataset_params.return_path',\n 'hyper_params.dataset_params.test_folders',\n 'hyper_params.dataset_params.train_folders',\n 'hyper_params.dataset_params.val_batch_size',\n 'hyper_params.dataset_params.test_batch_size',\n 'hyper_params.additional_log_items.multi_gpu',\n 'hyper_params.additional_log_items.initial_LR',\n 'hyper_params.additional_log_items.device_type',\n 'hyper_params.additional_log_items.num_devices',\n 'hyper_params.additional_log_items.installed_packages',\n 'hyper_params.training_hyperparams.ema',\n 'hyper_params.training_hyperparams.loss',\n 'hyper_params.training_hyperparams.seed',\n 'hyper_params.training_hyperparams.schema.if.properties.lr_mode.const',\n 'hyper_params.training_hyperparams.schema.then.required',\n 'hyper_params.training_hyperparams.schema.type',\n 'hyper_params.training_hyperparams.schema.required',\n 'hyper_params.training_hyperparams.schema.properties.initial_lr.type',\n 'hyper_params.training_hyperparams.schema.properties.initial_lr.maximum',\n 'hyper_params.training_hyperparams.schema.properties.initial_lr.exclusiveMinimum',\n 'hyper_params.training_hyperparams.schema.properties.max_epochs.type',\n 'hyper_params.training_hyperparams.schema.properties.max_epochs.minimum',\n 'hyper_params.training_hyperparams.schema.properties.lr_decay_factor.type',\n 'hyper_params.training_hyperparams.schema.properties.lr_decay_factor.maximum',\n 'hyper_params.training_hyperparams.schema.properties.lr_decay_factor.minimum',\n 'hyper_params.training_hyperparams.schema.properties.lr_warmup_epochs.type',\n 'hyper_params.training_hyperparams.schema.properties.lr_warmup_epochs.maximum',\n 'hyper_params.training_hyperparams.schema.properties.lr_warmup_epochs.minimum',\n 'hyper_params.training_hyperparams.lr_mode',\n 'hyper_params.training_hyperparams.optimizer',\n 'hyper_params.training_hyperparams.sg_logger',\n 'hyper_params.training_hyperparams.initial_lr',\n 'hyper_params.training_hyperparams.lr_updates',\n 'hyper_params.training_hyperparams.max_epochs',\n 'hyper_params.training_hyperparams.precise_bn',\n 'hyper_params.training_hyperparams.save_model',\n 'hyper_params.training_hyperparams.silent_mode',\n 'hyper_params.training_hyperparams.warmup_mode',\n 'hyper_params.training_hyperparams.load_opt_params',\n 'hyper_params.training_hyperparams.metric_to_watch',\n 'hyper_params.training_hyperparams.mixed_precision',\n 'hyper_params.training_hyperparams.phase_callbacks',\n 'hyper_params.training_hyperparams.batch_accumulate',\n 'hyper_params.training_hyperparams.lr_warmup_epochs',\n 'hyper_params.training_hyperparams.optimizer_params.weight_decay',\n 'hyper_params.training_hyperparams.sg_logger_params.tags',\n 'hyper_params.training_hyperparams.sg_logger_params.entity',\n 'hyper_params.training_hyperparams.sg_logger_params.project_name',\n 'hyper_params.training_hyperparams.sg_logger_params.save_logs_remote',\n 'hyper_params.training_hyperparams.sg_logger_params.tensorboard_port',\n 'hyper_params.training_hyperparams.sg_logger_params.launch_tensorboard',\n 'hyper_params.training_hyperparams.sg_logger_params.tb_files_user_prompt',\n 'hyper_params.training_hyperparams.sg_logger_params.save_checkpoints_remote',\n 'hyper_params.training_hyperparams.sg_logger_params.save_tensorboard_remote',\n 'hyper_params.training_hyperparams.tensorboard_port',\n 'hyper_params.training_hyperparams.freeze_pretrained',\n 'hyper_params.training_hyperparams.warmup_initial_lr',\n 'hyper_params.training_hyperparams.dataset_statistics',\n 'hyper_params.training_hyperparams.launch_tensorboard',\n 'hyper_params.training_hyperparams.train_metrics_list',\n 'hyper_params.training_hyperparams.valid_metrics_list',\n 'hyper_params.training_hyperparams.average_best_models',\n 'hyper_params.training_hyperparams.run_validation_freq',\n 'hyper_params.training_hyperparams.save_full_train_log',\n 'hyper_params.training_hyperparams.step_lr_update_freq',\n 'hyper_params.training_hyperparams.lr_schedule_function',\n 'hyper_params.training_hyperparams.save_ckpt_epoch_list',\n 'hyper_params.training_hyperparams.tb_files_user_prompt',\n 'hyper_params.training_hyperparams.cosine_final_lr_ratio',\n 'hyper_params.training_hyperparams.precise_bn_batch_size',\n 'hyper_params.training_hyperparams.log_installed_packages',\n 'hyper_params.training_hyperparams.save_tensorboard_to_s3',\n 'hyper_params.training_hyperparams.loss_logging_items_names',\n 'hyper_params.training_hyperparams.zero_weight_decay_on_bias_and_bn',\n 'hyper_params.training_hyperparams.greater_metric_to_watch_is_better']"
     },
     "metadata": {},
     "output_type": "display_data"
    },
    {
     "data": {
      "text/plain": "   in_params.dataset.channels in_params.train_params.loss.params.gamma  \\\n0                      [R, G]                                      2.0   \n1                      [R, G]                                        2   \n2                      [R, G]                                      NaN   \n3                      [R, G]                                      NaN   \n4                         CIR                                      2.0   \n5                         CIR                                      2.0   \n6                         CIR                                      NaN   \n7                         CIR                                      NaN   \n8                      [NDVI]                                      2.0   \n9                      [NDVI]                                      2.0   \n10                     [NDVI]                                      NaN   \n11                     [NDVI]                                      NaN   \n12            [R, G, NIR, RE]                                        2   \n13            [R, G, NIR, RE]                                        2   \n14            [R, G, NIR, RE]                                      NaN   \n15            [R, G, NIR, RE]                                      NaN   \n16                        CIR                                        2   \n17                        CIR                                        2   \n18                        CIR                                      NaN   \n19                        CIR                                      NaN   \n20                     [NDVI]                                        2   \n21                     [NDVI]                                        2   \n22                     [NDVI]                                      NaN   \n23                     [NDVI]                                      NaN   \n24                        CIR                                        2   \n25                        CIR                                      NaN   \n26                     [NDVI]                                        2   \n27                     [NDVI]                                      NaN   \n28                        CIR                                        2   \n29                        CIR                                      NaN   \n30                     [NDVI]                                        2   \n31                     [NDVI]                                      NaN   \n32            [R, G, NIR, RE]                                        2   \n33            [R, G, NIR, RE]                                        2   \n34            [R, G, NIR, RE]                                      NaN   \n35            [R, G, NIR, RE]                                      NaN   \n36                        CIR                                        2   \n37                     [NDVI]                                        2   \n38                     [R, G]                                        2   \n39                        CIR                                        2   \n40                     [NDVI]                                        2   \n41                     [R, G]                                        2   \n42                        CIR                                      NaN   \n43                     [NDVI]                                      NaN   \n44                     [R, G]                                      NaN   \n45                        CIR                                      NaN   \n46                     [NDVI]                                      NaN   \n47                     [R, G]                                      NaN   \n\n    in_params.train_params.freeze_pretrained  \\\n0                                      False   \n1                                       True   \n2                                      False   \n3                                       True   \n4                                      False   \n5                                       True   \n6                                      False   \n7                                       True   \n8                                      False   \n9                                       True   \n10                                     False   \n11                                      True   \n12                                     False   \n13                                      True   \n14                                     False   \n15                                      True   \n16                                     False   \n17                                      True   \n18                                     False   \n19                                      True   \n20                                     False   \n21                                      True   \n22                                     False   \n23                                      True   \n24                                      True   \n25                                      True   \n26                                      True   \n27                                      True   \n28                                     False   \n29                                     False   \n30                                     False   \n31                                     False   \n32                                     False   \n33                                      True   \n34                                     False   \n35                                      True   \n36                                     False   \n37                                     False   \n38                                     False   \n39                                      True   \n40                                      True   \n41                                      True   \n42                                     False   \n43                                     False   \n44                                     False   \n45                                      True   \n46                                      True   \n47                                      True   \n\n   in_params.model.params.main_pretrained in_params.model.name        f1  \n0                                    None               laweed  0.435744  \n1                                    None               laweed       NaN  \n2                                    None               laweed  0.549430  \n3                                    None               laweed  0.526002  \n4                               [G, G, R]               laweed  0.428629  \n5                               [G, G, R]               laweed  0.535704  \n6                               [G, G, R]               laweed  0.605486  \n7                               [G, G, R]               laweed  0.518539  \n8                                    None               laweed  0.507502  \n9                                    None               laweed  0.595838  \n10                                   None               laweed  0.559037  \n11                                   None               laweed  0.544845  \n12                           [R, G, G, G]               laweed  0.444173  \n13                           [R, G, G, G]               laweed  0.488653  \n14                           [R, G, G, G]               laweed  0.603151  \n15                           [R, G, G, G]               laweed  0.529799  \n16                                   None               laweed  0.511587  \n17                                   None               laweed  0.560763  \n18                                   None               laweed  0.622264  \n19                                   None               laweed  0.591754  \n20                                    [G]               laweed  0.428014  \n21                                    [G]               laweed  0.567211  \n22                                    [G]               laweed  0.587268  \n23                                    [G]               laweed  0.512798  \n24                              [G, G, R]                lawin  0.527119  \n25                              [G, G, R]                lawin  0.544998  \n26                                    [G]                lawin  0.646018  \n27                                    [G]                lawin  0.486656  \n28                              [G, G, R]                lawin  0.525054  \n29                              [G, G, R]                lawin  0.603244  \n30                                    [G]                lawin  0.571616  \n31                                    [G]                lawin  0.576701  \n32                           [R, G, G, G]                lawin  0.447201  \n33                           [R, G, G, G]                lawin  0.498682  \n34                           [R, G, G, G]                lawin  0.615653  \n35                           [R, G, G, G]                lawin  0.534063  \n36                                    NaN                lawin  0.624723  \n37                                    NaN                lawin  0.593652  \n38                                    NaN                lawin  0.453551  \n39                                    NaN                lawin  0.555308  \n40                                    NaN                lawin  0.599061  \n41                                    NaN                lawin  0.408118  \n42                                    NaN                lawin  0.511285  \n43                                    NaN                lawin  0.556800  \n44                                    NaN                lawin  0.522574  \n45                                    NaN                lawin  0.594804  \n46                                    NaN                lawin  0.528225  \n47                                    NaN                lawin  0.534817  ",
      "text/html": "<div>\n<style scoped>\n    .dataframe tbody tr th:only-of-type {\n        vertical-align: middle;\n    }\n\n    .dataframe tbody tr th {\n        vertical-align: top;\n    }\n\n    .dataframe thead th {\n        text-align: right;\n    }\n</style>\n<table border=\"1\" class=\"dataframe\">\n  <thead>\n    <tr style=\"text-align: right;\">\n      <th></th>\n      <th>in_params.dataset.channels</th>\n      <th>in_params.train_params.loss.params.gamma</th>\n      <th>in_params.train_params.freeze_pretrained</th>\n      <th>in_params.model.params.main_pretrained</th>\n      <th>in_params.model.name</th>\n      <th>f1</th>\n    </tr>\n  </thead>\n  <tbody>\n    <tr>\n      <th>0</th>\n      <td>[R, G]</td>\n      <td>2.0</td>\n      <td>False</td>\n      <td>None</td>\n      <td>laweed</td>\n      <td>0.435744</td>\n    </tr>\n    <tr>\n      <th>1</th>\n      <td>[R, G]</td>\n      <td>2</td>\n      <td>True</td>\n      <td>None</td>\n      <td>laweed</td>\n      <td>NaN</td>\n    </tr>\n    <tr>\n      <th>2</th>\n      <td>[R, G]</td>\n      <td>NaN</td>\n      <td>False</td>\n      <td>None</td>\n      <td>laweed</td>\n      <td>0.549430</td>\n    </tr>\n    <tr>\n      <th>3</th>\n      <td>[R, G]</td>\n      <td>NaN</td>\n      <td>True</td>\n      <td>None</td>\n      <td>laweed</td>\n      <td>0.526002</td>\n    </tr>\n    <tr>\n      <th>4</th>\n      <td>CIR</td>\n      <td>2.0</td>\n      <td>False</td>\n      <td>[G, G, R]</td>\n      <td>laweed</td>\n      <td>0.428629</td>\n    </tr>\n    <tr>\n      <th>5</th>\n      <td>CIR</td>\n      <td>2.0</td>\n      <td>True</td>\n      <td>[G, G, R]</td>\n      <td>laweed</td>\n      <td>0.535704</td>\n    </tr>\n    <tr>\n      <th>6</th>\n      <td>CIR</td>\n      <td>NaN</td>\n      <td>False</td>\n      <td>[G, G, R]</td>\n      <td>laweed</td>\n      <td>0.605486</td>\n    </tr>\n    <tr>\n      <th>7</th>\n      <td>CIR</td>\n      <td>NaN</td>\n      <td>True</td>\n      <td>[G, G, R]</td>\n      <td>laweed</td>\n      <td>0.518539</td>\n    </tr>\n    <tr>\n      <th>8</th>\n      <td>[NDVI]</td>\n      <td>2.0</td>\n      <td>False</td>\n      <td>None</td>\n      <td>laweed</td>\n      <td>0.507502</td>\n    </tr>\n    <tr>\n      <th>9</th>\n      <td>[NDVI]</td>\n      <td>2.0</td>\n      <td>True</td>\n      <td>None</td>\n      <td>laweed</td>\n      <td>0.595838</td>\n    </tr>\n    <tr>\n      <th>10</th>\n      <td>[NDVI]</td>\n      <td>NaN</td>\n      <td>False</td>\n      <td>None</td>\n      <td>laweed</td>\n      <td>0.559037</td>\n    </tr>\n    <tr>\n      <th>11</th>\n      <td>[NDVI]</td>\n      <td>NaN</td>\n      <td>True</td>\n      <td>None</td>\n      <td>laweed</td>\n      <td>0.544845</td>\n    </tr>\n    <tr>\n      <th>12</th>\n      <td>[R, G, NIR, RE]</td>\n      <td>2</td>\n      <td>False</td>\n      <td>[R, G, G, G]</td>\n      <td>laweed</td>\n      <td>0.444173</td>\n    </tr>\n    <tr>\n      <th>13</th>\n      <td>[R, G, NIR, RE]</td>\n      <td>2</td>\n      <td>True</td>\n      <td>[R, G, G, G]</td>\n      <td>laweed</td>\n      <td>0.488653</td>\n    </tr>\n    <tr>\n      <th>14</th>\n      <td>[R, G, NIR, RE]</td>\n      <td>NaN</td>\n      <td>False</td>\n      <td>[R, G, G, G]</td>\n      <td>laweed</td>\n      <td>0.603151</td>\n    </tr>\n    <tr>\n      <th>15</th>\n      <td>[R, G, NIR, RE]</td>\n      <td>NaN</td>\n      <td>True</td>\n      <td>[R, G, G, G]</td>\n      <td>laweed</td>\n      <td>0.529799</td>\n    </tr>\n    <tr>\n      <th>16</th>\n      <td>CIR</td>\n      <td>2</td>\n      <td>False</td>\n      <td>None</td>\n      <td>laweed</td>\n      <td>0.511587</td>\n    </tr>\n    <tr>\n      <th>17</th>\n      <td>CIR</td>\n      <td>2</td>\n      <td>True</td>\n      <td>None</td>\n      <td>laweed</td>\n      <td>0.560763</td>\n    </tr>\n    <tr>\n      <th>18</th>\n      <td>CIR</td>\n      <td>NaN</td>\n      <td>False</td>\n      <td>None</td>\n      <td>laweed</td>\n      <td>0.622264</td>\n    </tr>\n    <tr>\n      <th>19</th>\n      <td>CIR</td>\n      <td>NaN</td>\n      <td>True</td>\n      <td>None</td>\n      <td>laweed</td>\n      <td>0.591754</td>\n    </tr>\n    <tr>\n      <th>20</th>\n      <td>[NDVI]</td>\n      <td>2</td>\n      <td>False</td>\n      <td>[G]</td>\n      <td>laweed</td>\n      <td>0.428014</td>\n    </tr>\n    <tr>\n      <th>21</th>\n      <td>[NDVI]</td>\n      <td>2</td>\n      <td>True</td>\n      <td>[G]</td>\n      <td>laweed</td>\n      <td>0.567211</td>\n    </tr>\n    <tr>\n      <th>22</th>\n      <td>[NDVI]</td>\n      <td>NaN</td>\n      <td>False</td>\n      <td>[G]</td>\n      <td>laweed</td>\n      <td>0.587268</td>\n    </tr>\n    <tr>\n      <th>23</th>\n      <td>[NDVI]</td>\n      <td>NaN</td>\n      <td>True</td>\n      <td>[G]</td>\n      <td>laweed</td>\n      <td>0.512798</td>\n    </tr>\n    <tr>\n      <th>24</th>\n      <td>CIR</td>\n      <td>2</td>\n      <td>True</td>\n      <td>[G, G, R]</td>\n      <td>lawin</td>\n      <td>0.527119</td>\n    </tr>\n    <tr>\n      <th>25</th>\n      <td>CIR</td>\n      <td>NaN</td>\n      <td>True</td>\n      <td>[G, G, R]</td>\n      <td>lawin</td>\n      <td>0.544998</td>\n    </tr>\n    <tr>\n      <th>26</th>\n      <td>[NDVI]</td>\n      <td>2</td>\n      <td>True</td>\n      <td>[G]</td>\n      <td>lawin</td>\n      <td>0.646018</td>\n    </tr>\n    <tr>\n      <th>27</th>\n      <td>[NDVI]</td>\n      <td>NaN</td>\n      <td>True</td>\n      <td>[G]</td>\n      <td>lawin</td>\n      <td>0.486656</td>\n    </tr>\n    <tr>\n      <th>28</th>\n      <td>CIR</td>\n      <td>2</td>\n      <td>False</td>\n      <td>[G, G, R]</td>\n      <td>lawin</td>\n      <td>0.525054</td>\n    </tr>\n    <tr>\n      <th>29</th>\n      <td>CIR</td>\n      <td>NaN</td>\n      <td>False</td>\n      <td>[G, G, R]</td>\n      <td>lawin</td>\n      <td>0.603244</td>\n    </tr>\n    <tr>\n      <th>30</th>\n      <td>[NDVI]</td>\n      <td>2</td>\n      <td>False</td>\n      <td>[G]</td>\n      <td>lawin</td>\n      <td>0.571616</td>\n    </tr>\n    <tr>\n      <th>31</th>\n      <td>[NDVI]</td>\n      <td>NaN</td>\n      <td>False</td>\n      <td>[G]</td>\n      <td>lawin</td>\n      <td>0.576701</td>\n    </tr>\n    <tr>\n      <th>32</th>\n      <td>[R, G, NIR, RE]</td>\n      <td>2</td>\n      <td>False</td>\n      <td>[R, G, G, G]</td>\n      <td>lawin</td>\n      <td>0.447201</td>\n    </tr>\n    <tr>\n      <th>33</th>\n      <td>[R, G, NIR, RE]</td>\n      <td>2</td>\n      <td>True</td>\n      <td>[R, G, G, G]</td>\n      <td>lawin</td>\n      <td>0.498682</td>\n    </tr>\n    <tr>\n      <th>34</th>\n      <td>[R, G, NIR, RE]</td>\n      <td>NaN</td>\n      <td>False</td>\n      <td>[R, G, G, G]</td>\n      <td>lawin</td>\n      <td>0.615653</td>\n    </tr>\n    <tr>\n      <th>35</th>\n      <td>[R, G, NIR, RE]</td>\n      <td>NaN</td>\n      <td>True</td>\n      <td>[R, G, G, G]</td>\n      <td>lawin</td>\n      <td>0.534063</td>\n    </tr>\n    <tr>\n      <th>36</th>\n      <td>CIR</td>\n      <td>2</td>\n      <td>False</td>\n      <td>NaN</td>\n      <td>lawin</td>\n      <td>0.624723</td>\n    </tr>\n    <tr>\n      <th>37</th>\n      <td>[NDVI]</td>\n      <td>2</td>\n      <td>False</td>\n      <td>NaN</td>\n      <td>lawin</td>\n      <td>0.593652</td>\n    </tr>\n    <tr>\n      <th>38</th>\n      <td>[R, G]</td>\n      <td>2</td>\n      <td>False</td>\n      <td>NaN</td>\n      <td>lawin</td>\n      <td>0.453551</td>\n    </tr>\n    <tr>\n      <th>39</th>\n      <td>CIR</td>\n      <td>2</td>\n      <td>True</td>\n      <td>NaN</td>\n      <td>lawin</td>\n      <td>0.555308</td>\n    </tr>\n    <tr>\n      <th>40</th>\n      <td>[NDVI]</td>\n      <td>2</td>\n      <td>True</td>\n      <td>NaN</td>\n      <td>lawin</td>\n      <td>0.599061</td>\n    </tr>\n    <tr>\n      <th>41</th>\n      <td>[R, G]</td>\n      <td>2</td>\n      <td>True</td>\n      <td>NaN</td>\n      <td>lawin</td>\n      <td>0.408118</td>\n    </tr>\n    <tr>\n      <th>42</th>\n      <td>CIR</td>\n      <td>NaN</td>\n      <td>False</td>\n      <td>NaN</td>\n      <td>lawin</td>\n      <td>0.511285</td>\n    </tr>\n    <tr>\n      <th>43</th>\n      <td>[NDVI]</td>\n      <td>NaN</td>\n      <td>False</td>\n      <td>NaN</td>\n      <td>lawin</td>\n      <td>0.556800</td>\n    </tr>\n    <tr>\n      <th>44</th>\n      <td>[R, G]</td>\n      <td>NaN</td>\n      <td>False</td>\n      <td>NaN</td>\n      <td>lawin</td>\n      <td>0.522574</td>\n    </tr>\n    <tr>\n      <th>45</th>\n      <td>CIR</td>\n      <td>NaN</td>\n      <td>True</td>\n      <td>NaN</td>\n      <td>lawin</td>\n      <td>0.594804</td>\n    </tr>\n    <tr>\n      <th>46</th>\n      <td>[NDVI]</td>\n      <td>NaN</td>\n      <td>True</td>\n      <td>NaN</td>\n      <td>lawin</td>\n      <td>0.528225</td>\n    </tr>\n    <tr>\n      <th>47</th>\n      <td>[R, G]</td>\n      <td>NaN</td>\n      <td>True</td>\n      <td>NaN</td>\n      <td>lawin</td>\n      <td>0.534817</td>\n    </tr>\n  </tbody>\n</table>\n</div>"
     },
     "execution_count": 109,
     "metadata": {},
     "output_type": "execute_result"
    }
   ],
   "source": [
    "runs_df = get_runs(filters)\n",
    "remove_hyp(runs_df)\n",
    "projected_runs = runs_df[\n",
    "    selected_cols\n",
    "]\n",
    "selected_runs = projected_runs\n",
    "selected_runs"
   ],
   "metadata": {
    "collapsed": false,
    "pycharm": {
     "name": "#%%\n"
    }
   }
  },
  {
   "cell_type": "code",
   "execution_count": 110,
   "outputs": [
    {
     "name": "stderr",
     "output_type": "stream",
     "text": [
      "C:\\Users\\pasqu\\AppData\\Local\\Temp\\ipykernel_1588\\618385479.py:1: SettingWithCopyWarning: \n",
      "A value is trying to be set on a copy of a slice from a DataFrame\n",
      "\n",
      "See the caveats in the documentation: https://pandas.pydata.org/pandas-docs/stable/user_guide/indexing.html#returning-a-view-versus-a-copy\n",
      "  selected_runs.rename(columns=renamings, inplace=True)\n",
      "C:\\Users\\pasqu\\AppData\\Local\\Temp\\ipykernel_1588\\2999623128.py:34: SettingWithCopyWarning: \n",
      "A value is trying to be set on a copy of a slice from a DataFrame.\n",
      "Try using .loc[row_indexer,col_indexer] = value instead\n",
      "\n",
      "See the caveats in the documentation: https://pandas.pydata.org/pandas-docs/stable/user_guide/indexing.html#returning-a-view-versus-a-copy\n",
      "  df[column] = df[column].replace(values)\n",
      "C:\\Users\\pasqu\\AppData\\Local\\Temp\\ipykernel_1588\\618385479.py:3: SettingWithCopyWarning: \n",
      "A value is trying to be set on a copy of a slice from a DataFrame.\n",
      "Try using .loc[row_indexer,col_indexer] = value instead\n",
      "\n",
      "See the caveats in the documentation: https://pandas.pydata.org/pandas-docs/stable/user_guide/indexing.html#returning-a-view-versus-a-copy\n",
      "  selected_runs[roundings] = selected_runs[roundings].round(5)\n",
      "C:\\Users\\pasqu\\AppData\\Local\\Temp\\ipykernel_1588\\618385479.py:4: SettingWithCopyWarning: \n",
      "A value is trying to be set on a copy of a slice from a DataFrame\n",
      "\n",
      "See the caveats in the documentation: https://pandas.pydata.org/pandas-docs/stable/user_guide/indexing.html#returning-a-view-versus-a-copy\n",
      "  selected_runs['Gamma'].fillna(0, inplace=True)\n"
     ]
    }
   ],
   "source": [
    "selected_runs.rename(columns=renamings, inplace=True)\n",
    "rename_values(selected_runs, value_renamings)\n",
    "selected_runs[roundings] = selected_runs[roundings].round(5)\n",
    "selected_runs['Gamma'].fillna(0, inplace=True)\n",
    "selected_runs = selected_runs.applymap(lambda x: ', '.join(x) if isinstance(x, list) else x)\n",
    "\n",
    "selected_runs[roundings] = selected_runs[roundings].round(3)\n",
    "selected_runs.sort_values(by=['Channels'],\n",
    "                          key=lambda x: x.apply(lambda k: channels_ordering[k]), inplace=True)\n",
    "selected_runs.loc[(selected_runs['Channels'] == 'CIR') & selected_runs['Used Weights'].isna(), 'Used Weights'] = 'RGB'\n",
    "selected_runs.loc[(selected_runs['Channels'].isin([['NDVI']])) & selected_runs['Used Weights'].isna(), 'Used Weights'] = 'R'"
   ],
   "metadata": {
    "collapsed": false,
    "pycharm": {
     "name": "#%%\n"
    }
   }
  },
  {
   "cell_type": "code",
   "execution_count": 111,
   "outputs": [
    {
     "name": "stderr",
     "output_type": "stream",
     "text": [
      "C:\\Users\\pasqu\\AppData\\Local\\Temp\\ipykernel_1588\\3963619940.py:3: SettingWithCopyWarning: \n",
      "A value is trying to be set on a copy of a slice from a DataFrame\n",
      "\n",
      "See the caveats in the documentation: https://pandas.pydata.org/pandas-docs/stable/user_guide/indexing.html#returning-a-view-versus-a-copy\n",
      "  best_runs.sort_values(by=['Model', 'Channels'], key=lambda x: x.apply(lambda k: channels_ordering[k]), inplace=True)\n",
      "C:\\Users\\pasqu\\AppData\\Local\\Temp\\ipykernel_1588\\3963619940.py:4: SettingWithCopyWarning: \n",
      "A value is trying to be set on a copy of a slice from a DataFrame.\n",
      "Try using .loc[row_indexer,col_indexer] = value instead\n",
      "\n",
      "See the caveats in the documentation: https://pandas.pydata.org/pandas-docs/stable/user_guide/indexing.html#returning-a-view-versus-a-copy\n",
      "  best_runs[roundings] = best_runs[roundings].round(3)\n"
     ]
    },
    {
     "data": {
      "text/plain": "         Channels Gamma     Strategy Used Weights   Model     F1\n34  R, G, NIR, RE     0  Fine-Tuning   R, G, G, G   lawin  0.616\n47           R, G     0       Freeze          NaN   lawin  0.535\n36            CIR     2  Fine-Tuning          RGB   lawin  0.625\n26           NDVI     2       Freeze            G   lawin  0.646\n14  R, G, NIR, RE     0  Fine-Tuning   R, G, G, G  laweed  0.603\n2            R, G     0  Fine-Tuning         None  laweed  0.549\n18            CIR     0  Fine-Tuning          RGB  laweed  0.622\n9            NDVI   2.0       Freeze         None  laweed  0.596",
      "text/html": "<div>\n<style scoped>\n    .dataframe tbody tr th:only-of-type {\n        vertical-align: middle;\n    }\n\n    .dataframe tbody tr th {\n        vertical-align: top;\n    }\n\n    .dataframe thead th {\n        text-align: right;\n    }\n</style>\n<table border=\"1\" class=\"dataframe\">\n  <thead>\n    <tr style=\"text-align: right;\">\n      <th></th>\n      <th>Channels</th>\n      <th>Gamma</th>\n      <th>Strategy</th>\n      <th>Used Weights</th>\n      <th>Model</th>\n      <th>F1</th>\n    </tr>\n  </thead>\n  <tbody>\n    <tr>\n      <th>34</th>\n      <td>R, G, NIR, RE</td>\n      <td>0</td>\n      <td>Fine-Tuning</td>\n      <td>R, G, G, G</td>\n      <td>lawin</td>\n      <td>0.616</td>\n    </tr>\n    <tr>\n      <th>47</th>\n      <td>R, G</td>\n      <td>0</td>\n      <td>Freeze</td>\n      <td>NaN</td>\n      <td>lawin</td>\n      <td>0.535</td>\n    </tr>\n    <tr>\n      <th>36</th>\n      <td>CIR</td>\n      <td>2</td>\n      <td>Fine-Tuning</td>\n      <td>RGB</td>\n      <td>lawin</td>\n      <td>0.625</td>\n    </tr>\n    <tr>\n      <th>26</th>\n      <td>NDVI</td>\n      <td>2</td>\n      <td>Freeze</td>\n      <td>G</td>\n      <td>lawin</td>\n      <td>0.646</td>\n    </tr>\n    <tr>\n      <th>14</th>\n      <td>R, G, NIR, RE</td>\n      <td>0</td>\n      <td>Fine-Tuning</td>\n      <td>R, G, G, G</td>\n      <td>laweed</td>\n      <td>0.603</td>\n    </tr>\n    <tr>\n      <th>2</th>\n      <td>R, G</td>\n      <td>0</td>\n      <td>Fine-Tuning</td>\n      <td>None</td>\n      <td>laweed</td>\n      <td>0.549</td>\n    </tr>\n    <tr>\n      <th>18</th>\n      <td>CIR</td>\n      <td>0</td>\n      <td>Fine-Tuning</td>\n      <td>RGB</td>\n      <td>laweed</td>\n      <td>0.622</td>\n    </tr>\n    <tr>\n      <th>9</th>\n      <td>NDVI</td>\n      <td>2.0</td>\n      <td>Freeze</td>\n      <td>None</td>\n      <td>laweed</td>\n      <td>0.596</td>\n    </tr>\n  </tbody>\n</table>\n</div>"
     },
     "execution_count": 111,
     "metadata": {},
     "output_type": "execute_result"
    }
   ],
   "source": [
    "idx = selected_runs.groupby(by=['Channels', 'Model'])['F1'].transform(max) == selected_runs['F1']\n",
    "best_runs = selected_runs[idx]\n",
    "best_runs.sort_values(by=['Model', 'Channels'], key=lambda x: x.apply(lambda k: channels_ordering[k]), inplace=True)\n",
    "best_runs[roundings] = best_runs[roundings].round(3)\n",
    "best_runs"
   ],
   "metadata": {
    "collapsed": false,
    "pycharm": {
     "name": "#%%\n"
    }
   }
  },
  {
   "cell_type": "code",
   "execution_count": 112,
   "outputs": [
    {
     "data": {
      "text/plain": "         Channels Gamma_x   Strategy_x Used Weights_x Model_x   F1_x Gamma_y  \\\n1   R, G, NIR, RE       0  Fine-Tuning     R, G, G, G   lawin  0.616       0   \n5            R, G       0       Freeze            NaN   lawin  0.535       0   \n9             CIR       2  Fine-Tuning            RGB   lawin  0.625       0   \n13           NDVI       2       Freeze              G   lawin  0.646     2.0   \n\n     Strategy_y Used Weights_y Model_y   F1_y  \n1   Fine-Tuning     R, G, G, G  laweed  0.603  \n5   Fine-Tuning           None  laweed  0.549  \n9   Fine-Tuning            RGB  laweed  0.622  \n13       Freeze           None  laweed  0.596  ",
      "text/html": "<div>\n<style scoped>\n    .dataframe tbody tr th:only-of-type {\n        vertical-align: middle;\n    }\n\n    .dataframe tbody tr th {\n        vertical-align: top;\n    }\n\n    .dataframe thead th {\n        text-align: right;\n    }\n</style>\n<table border=\"1\" class=\"dataframe\">\n  <thead>\n    <tr style=\"text-align: right;\">\n      <th></th>\n      <th>Channels</th>\n      <th>Gamma_x</th>\n      <th>Strategy_x</th>\n      <th>Used Weights_x</th>\n      <th>Model_x</th>\n      <th>F1_x</th>\n      <th>Gamma_y</th>\n      <th>Strategy_y</th>\n      <th>Used Weights_y</th>\n      <th>Model_y</th>\n      <th>F1_y</th>\n    </tr>\n  </thead>\n  <tbody>\n    <tr>\n      <th>1</th>\n      <td>R, G, NIR, RE</td>\n      <td>0</td>\n      <td>Fine-Tuning</td>\n      <td>R, G, G, G</td>\n      <td>lawin</td>\n      <td>0.616</td>\n      <td>0</td>\n      <td>Fine-Tuning</td>\n      <td>R, G, G, G</td>\n      <td>laweed</td>\n      <td>0.603</td>\n    </tr>\n    <tr>\n      <th>5</th>\n      <td>R, G</td>\n      <td>0</td>\n      <td>Freeze</td>\n      <td>NaN</td>\n      <td>lawin</td>\n      <td>0.535</td>\n      <td>0</td>\n      <td>Fine-Tuning</td>\n      <td>None</td>\n      <td>laweed</td>\n      <td>0.549</td>\n    </tr>\n    <tr>\n      <th>9</th>\n      <td>CIR</td>\n      <td>2</td>\n      <td>Fine-Tuning</td>\n      <td>RGB</td>\n      <td>lawin</td>\n      <td>0.625</td>\n      <td>0</td>\n      <td>Fine-Tuning</td>\n      <td>RGB</td>\n      <td>laweed</td>\n      <td>0.622</td>\n    </tr>\n    <tr>\n      <th>13</th>\n      <td>NDVI</td>\n      <td>2</td>\n      <td>Freeze</td>\n      <td>G</td>\n      <td>lawin</td>\n      <td>0.646</td>\n      <td>2.0</td>\n      <td>Freeze</td>\n      <td>None</td>\n      <td>laweed</td>\n      <td>0.596</td>\n    </tr>\n  </tbody>\n</table>\n</div>"
     },
     "execution_count": 112,
     "metadata": {},
     "output_type": "execute_result"
    }
   ],
   "source": [
    "compare_runs = best_runs.merge(best_runs, on=['Channels'])\n",
    "compare_runs.drop(compare_runs[compare_runs['Model_x'] == compare_runs['Model_y']].index, inplace=True)\n",
    "compare_runs.drop(compare_runs[compare_runs['Model_x'] == 'laweed'].index, inplace=True)\n",
    "compare_runs"
   ],
   "metadata": {
    "collapsed": false,
    "pycharm": {
     "name": "#%%\n"
    }
   }
  },
  {
   "cell_type": "code",
   "execution_count": 113,
   "outputs": [
    {
     "data": {
      "text/plain": "         Channels Gamma_x   Strategy_x Used Weights_x   F1_x Gamma_y  \\\n1   R, G, NIR, RE       0  Fine-Tuning     R, G, G, G  0.616       0   \n5            R, G       0       Freeze            NaN  0.535       0   \n9             CIR       2  Fine-Tuning            RGB  0.625       0   \n13           NDVI       2       Freeze              G  0.646     2.0   \n\n     Strategy_y Used Weights_y   F1_y  \n1   Fine-Tuning     R, G, G, G  0.603  \n5   Fine-Tuning           None  0.549  \n9   Fine-Tuning            RGB  0.622  \n13       Freeze           None  0.596  ",
      "text/html": "<div>\n<style scoped>\n    .dataframe tbody tr th:only-of-type {\n        vertical-align: middle;\n    }\n\n    .dataframe tbody tr th {\n        vertical-align: top;\n    }\n\n    .dataframe thead th {\n        text-align: right;\n    }\n</style>\n<table border=\"1\" class=\"dataframe\">\n  <thead>\n    <tr style=\"text-align: right;\">\n      <th></th>\n      <th>Channels</th>\n      <th>Gamma_x</th>\n      <th>Strategy_x</th>\n      <th>Used Weights_x</th>\n      <th>F1_x</th>\n      <th>Gamma_y</th>\n      <th>Strategy_y</th>\n      <th>Used Weights_y</th>\n      <th>F1_y</th>\n    </tr>\n  </thead>\n  <tbody>\n    <tr>\n      <th>1</th>\n      <td>R, G, NIR, RE</td>\n      <td>0</td>\n      <td>Fine-Tuning</td>\n      <td>R, G, G, G</td>\n      <td>0.616</td>\n      <td>0</td>\n      <td>Fine-Tuning</td>\n      <td>R, G, G, G</td>\n      <td>0.603</td>\n    </tr>\n    <tr>\n      <th>5</th>\n      <td>R, G</td>\n      <td>0</td>\n      <td>Freeze</td>\n      <td>NaN</td>\n      <td>0.535</td>\n      <td>0</td>\n      <td>Fine-Tuning</td>\n      <td>None</td>\n      <td>0.549</td>\n    </tr>\n    <tr>\n      <th>9</th>\n      <td>CIR</td>\n      <td>2</td>\n      <td>Fine-Tuning</td>\n      <td>RGB</td>\n      <td>0.625</td>\n      <td>0</td>\n      <td>Fine-Tuning</td>\n      <td>RGB</td>\n      <td>0.622</td>\n    </tr>\n    <tr>\n      <th>13</th>\n      <td>NDVI</td>\n      <td>2</td>\n      <td>Freeze</td>\n      <td>G</td>\n      <td>0.646</td>\n      <td>2.0</td>\n      <td>Freeze</td>\n      <td>None</td>\n      <td>0.596</td>\n    </tr>\n  </tbody>\n</table>\n</div>"
     },
     "execution_count": 113,
     "metadata": {},
     "output_type": "execute_result"
    }
   ],
   "source": [
    "compare_runs.drop(columns=['Model_x', 'Model_y'], inplace=True)\n",
    "compare_runs"
   ],
   "metadata": {
    "collapsed": false,
    "pycharm": {
     "name": "#%%\n"
    }
   }
  },
  {
   "cell_type": "code",
   "execution_count": 102,
   "outputs": [],
   "source": [
    "compare_runs.to_csv(\"../../exps/laweed.csv\")"
   ],
   "metadata": {
    "collapsed": false,
    "pycharm": {
     "name": "#%%\n"
    }
   }
  },
  {
   "cell_type": "code",
   "execution_count": null,
   "outputs": [],
   "source": [],
   "metadata": {
    "collapsed": false,
    "pycharm": {
     "name": "#%%\n"
    }
   }
  },
  {
   "cell_type": "markdown",
   "source": [
    "## Double Laweed"
   ],
   "metadata": {
    "collapsed": false,
    "pycharm": {
     "name": "#%% md\n"
    }
   }
  },
  {
   "cell_type": "code",
   "execution_count": 6,
   "outputs": [],
   "source": [
    "filters = {\n",
    "    '$or': [{'group': 'DoubleLaweedPrBatch'}, {'group': 'DoubleLaweedPrDropBatch'}]\n",
    "}\n",
    "selected_cols = [\n",
    "    'in_params.dataset.channels',\n",
    "    'in_params.train_params.loss.params.gamma',\n",
    "    'in_params.model.params.fusion_type',\n",
    "    'f1',\n",
    "    'precision',\n",
    "    'recall'\n",
    "]\n",
    "roundings = ['F1', 'Precision', 'Recall']"
   ],
   "metadata": {
    "collapsed": false,
    "pycharm": {
     "name": "#%%\n"
    }
   }
  },
  {
   "cell_type": "code",
   "execution_count": 7,
   "outputs": [
    {
     "data": {
      "text/plain": "['hyper_params.arch_params.schema',\n 'hyper_params.arch_params.sync_bn',\n 'hyper_params.arch_params.backbone',\n 'hyper_params.arch_params.fusion_type',\n 'hyper_params.arch_params.in_channels',\n 'hyper_params.arch_params.num_classes',\n 'hyper_params.arch_params.out_channels',\n 'hyper_params.arch_params.main_channels',\n 'hyper_params.arch_params.input_channels',\n 'hyper_params.arch_params.output_channels',\n 'hyper_params.arch_params.side_pretrained',\n 'hyper_params.arch_params.backbone_pretrained',\n 'hyper_params.dataset_params.root',\n 'hyper_params.dataset_params.size',\n 'hyper_params.dataset_params.schema',\n 'hyper_params.dataset_params.s3_link',\n 'hyper_params.dataset_params.channels',\n 'hyper_params.dataset_params.hor_flip',\n 'hyper_params.dataset_params.ver_flip',\n 'hyper_params.dataset_params.crop_size',\n 'hyper_params.dataset_params.batch_size',\n 'hyper_params.dataset_params.dataset_dir',\n 'hyper_params.dataset_params.num_classes',\n 'hyper_params.dataset_params.num_workers',\n 'hyper_params.dataset_params.return_path',\n 'hyper_params.dataset_params.test_folders',\n 'hyper_params.dataset_params.train_folders',\n 'hyper_params.dataset_params.val_batch_size',\n 'hyper_params.dataset_params.test_batch_size',\n 'hyper_params.additional_log_items.multi_gpu',\n 'hyper_params.additional_log_items.initial_LR',\n 'hyper_params.additional_log_items.device_type',\n 'hyper_params.additional_log_items.num_devices',\n 'hyper_params.additional_log_items.installed_packages',\n 'hyper_params.training_hyperparams.ema',\n 'hyper_params.training_hyperparams.loss',\n 'hyper_params.training_hyperparams.seed',\n 'hyper_params.training_hyperparams.schema.if.properties.lr_mode.const',\n 'hyper_params.training_hyperparams.schema.then.required',\n 'hyper_params.training_hyperparams.schema.type',\n 'hyper_params.training_hyperparams.schema.required',\n 'hyper_params.training_hyperparams.schema.properties.initial_lr.type',\n 'hyper_params.training_hyperparams.schema.properties.initial_lr.maximum',\n 'hyper_params.training_hyperparams.schema.properties.initial_lr.exclusiveMinimum',\n 'hyper_params.training_hyperparams.schema.properties.max_epochs.type',\n 'hyper_params.training_hyperparams.schema.properties.max_epochs.minimum',\n 'hyper_params.training_hyperparams.schema.properties.lr_decay_factor.type',\n 'hyper_params.training_hyperparams.schema.properties.lr_decay_factor.maximum',\n 'hyper_params.training_hyperparams.schema.properties.lr_decay_factor.minimum',\n 'hyper_params.training_hyperparams.schema.properties.lr_warmup_epochs.type',\n 'hyper_params.training_hyperparams.schema.properties.lr_warmup_epochs.maximum',\n 'hyper_params.training_hyperparams.schema.properties.lr_warmup_epochs.minimum',\n 'hyper_params.training_hyperparams.lr_mode',\n 'hyper_params.training_hyperparams.optimizer',\n 'hyper_params.training_hyperparams.sg_logger',\n 'hyper_params.training_hyperparams.initial_lr',\n 'hyper_params.training_hyperparams.lr_updates',\n 'hyper_params.training_hyperparams.max_epochs',\n 'hyper_params.training_hyperparams.precise_bn',\n 'hyper_params.training_hyperparams.save_model',\n 'hyper_params.training_hyperparams.silent_mode',\n 'hyper_params.training_hyperparams.warmup_mode',\n 'hyper_params.training_hyperparams.load_opt_params',\n 'hyper_params.training_hyperparams.metric_to_watch',\n 'hyper_params.training_hyperparams.mixed_precision',\n 'hyper_params.training_hyperparams.phase_callbacks',\n 'hyper_params.training_hyperparams.batch_accumulate',\n 'hyper_params.training_hyperparams.lr_warmup_epochs',\n 'hyper_params.training_hyperparams.optimizer_params.weight_decay',\n 'hyper_params.training_hyperparams.sg_logger_params.tags',\n 'hyper_params.training_hyperparams.sg_logger_params.entity',\n 'hyper_params.training_hyperparams.sg_logger_params.project_name',\n 'hyper_params.training_hyperparams.sg_logger_params.save_logs_remote',\n 'hyper_params.training_hyperparams.sg_logger_params.tensorboard_port',\n 'hyper_params.training_hyperparams.sg_logger_params.launch_tensorboard',\n 'hyper_params.training_hyperparams.sg_logger_params.tb_files_user_prompt',\n 'hyper_params.training_hyperparams.sg_logger_params.save_checkpoints_remote',\n 'hyper_params.training_hyperparams.sg_logger_params.save_tensorboard_remote',\n 'hyper_params.training_hyperparams.tensorboard_port',\n 'hyper_params.training_hyperparams.freeze_pretrained',\n 'hyper_params.training_hyperparams.warmup_initial_lr',\n 'hyper_params.training_hyperparams.dataset_statistics',\n 'hyper_params.training_hyperparams.launch_tensorboard',\n 'hyper_params.training_hyperparams.train_metrics_list',\n 'hyper_params.training_hyperparams.valid_metrics_list',\n 'hyper_params.training_hyperparams.average_best_models',\n 'hyper_params.training_hyperparams.run_validation_freq',\n 'hyper_params.training_hyperparams.save_full_train_log',\n 'hyper_params.training_hyperparams.step_lr_update_freq',\n 'hyper_params.training_hyperparams.lr_schedule_function',\n 'hyper_params.training_hyperparams.save_ckpt_epoch_list',\n 'hyper_params.training_hyperparams.tb_files_user_prompt',\n 'hyper_params.training_hyperparams.cosine_final_lr_ratio',\n 'hyper_params.training_hyperparams.precise_bn_batch_size',\n 'hyper_params.training_hyperparams.log_installed_packages',\n 'hyper_params.training_hyperparams.save_tensorboard_to_s3',\n 'hyper_params.training_hyperparams.loss_logging_items_names',\n 'hyper_params.training_hyperparams.zero_weight_decay_on_bias_and_bn',\n 'hyper_params.training_hyperparams.greater_metric_to_watch_is_better']"
     },
     "metadata": {},
     "output_type": "display_data"
    }
   ],
   "source": [
    "runs_df = get_runs(filters)\n",
    "remove_hyp(runs_df)"
   ],
   "metadata": {
    "collapsed": false,
    "pycharm": {
     "name": "#%%\n"
    }
   }
  },
  {
   "cell_type": "code",
   "execution_count": 8,
   "outputs": [],
   "source": [
    "projected_runs = runs_df[\n",
    "    selected_cols\n",
    "]\n",
    "# selected_runs = projected_runs[projected_runs['in_params.model.params.backbone'] == 'MiT-B0']\n",
    "selected_runs = projected_runs"
   ],
   "metadata": {
    "collapsed": false,
    "pycharm": {
     "name": "#%%\n"
    }
   }
  },
  {
   "cell_type": "code",
   "execution_count": 9,
   "outputs": [
    {
     "name": "stderr",
     "output_type": "stream",
     "text": [
      "C:\\Users\\pasqu\\AppData\\Local\\Temp\\ipykernel_29512\\4234819445.py:1: SettingWithCopyWarning: \n",
      "A value is trying to be set on a copy of a slice from a DataFrame\n",
      "\n",
      "See the caveats in the documentation: https://pandas.pydata.org/pandas-docs/stable/user_guide/indexing.html#returning-a-view-versus-a-copy\n",
      "  selected_runs.rename(columns=renamings, inplace=True)\n",
      "C:\\Users\\pasqu\\AppData\\Local\\Temp\\ipykernel_29512\\4234819445.py:2: SettingWithCopyWarning: \n",
      "A value is trying to be set on a copy of a slice from a DataFrame\n",
      "\n",
      "See the caveats in the documentation: https://pandas.pydata.org/pandas-docs/stable/user_guide/indexing.html#returning-a-view-versus-a-copy\n",
      "  selected_runs['DropPath'].fillna('conv_sum', inplace=True)\n",
      "C:\\Users\\pasqu\\AppData\\Local\\Temp\\ipykernel_29512\\2999623128.py:34: SettingWithCopyWarning: \n",
      "A value is trying to be set on a copy of a slice from a DataFrame.\n",
      "Try using .loc[row_indexer,col_indexer] = value instead\n",
      "\n",
      "See the caveats in the documentation: https://pandas.pydata.org/pandas-docs/stable/user_guide/indexing.html#returning-a-view-versus-a-copy\n",
      "  df[column] = df[column].replace(values)\n",
      "C:\\Users\\pasqu\\AppData\\Local\\Temp\\ipykernel_29512\\4234819445.py:4: SettingWithCopyWarning: \n",
      "A value is trying to be set on a copy of a slice from a DataFrame.\n",
      "Try using .loc[row_indexer,col_indexer] = value instead\n",
      "\n",
      "See the caveats in the documentation: https://pandas.pydata.org/pandas-docs/stable/user_guide/indexing.html#returning-a-view-versus-a-copy\n",
      "  selected_runs[roundings] = selected_runs[roundings].round(5)\n",
      "C:\\Users\\pasqu\\AppData\\Local\\Temp\\ipykernel_29512\\4234819445.py:5: SettingWithCopyWarning: \n",
      "A value is trying to be set on a copy of a slice from a DataFrame\n",
      "\n",
      "See the caveats in the documentation: https://pandas.pydata.org/pandas-docs/stable/user_guide/indexing.html#returning-a-view-versus-a-copy\n",
      "  selected_runs['Gamma'].fillna(0, inplace=True)\n",
      "C:\\Users\\pasqu\\AppData\\Local\\Temp\\ipykernel_29512\\4234819445.py:10: SettingWithCopyWarning: \n",
      "A value is trying to be set on a copy of a slice from a DataFrame\n",
      "\n",
      "See the caveats in the documentation: https://pandas.pydata.org/pandas-docs/stable/user_guide/indexing.html#returning-a-view-versus-a-copy\n",
      "  best_runs.sort_values(by=['Channels'], key=lambda x: x.apply(lambda k: channels_ordering[k]), inplace=True)\n",
      "C:\\Users\\pasqu\\AppData\\Local\\Temp\\ipykernel_29512\\4234819445.py:11: SettingWithCopyWarning: \n",
      "A value is trying to be set on a copy of a slice from a DataFrame.\n",
      "Try using .loc[row_indexer,col_indexer] = value instead\n",
      "\n",
      "See the caveats in the documentation: https://pandas.pydata.org/pandas-docs/stable/user_guide/indexing.html#returning-a-view-versus-a-copy\n",
      "  best_runs[roundings] = best_runs[roundings].round(3)\n"
     ]
    }
   ],
   "source": [
    "selected_runs.rename(columns=renamings, inplace=True)\n",
    "selected_runs['DropPath'].fillna('conv_sum', inplace=True)\n",
    "rename_values(selected_runs, value_renamings)\n",
    "selected_runs[roundings] = selected_runs[roundings].round(5)\n",
    "selected_runs['Gamma'].fillna(0, inplace=True)\n",
    "selected_runs = selected_runs.applymap(lambda x: ', '.join(x) if isinstance(x, list) else x)\n",
    "\n",
    "idx = selected_runs.groupby(by=['Channels'])['F1'].transform(max) == selected_runs['F1']\n",
    "best_runs = selected_runs[idx]\n",
    "best_runs.sort_values(by=['Channels'], key=lambda x: x.apply(lambda k: channels_ordering[k]), inplace=True)\n",
    "best_runs[roundings] = best_runs[roundings].round(3)\n",
    "selected_runs[roundings] = selected_runs[roundings].round(3)"
   ],
   "metadata": {
    "collapsed": false,
    "pycharm": {
     "name": "#%%\n"
    }
   }
  },
  {
   "cell_type": "code",
   "execution_count": 12,
   "outputs": [
    {
     "data": {
      "text/plain": "         Channels Gamma DropPath     F1  Precision  Recall\n0        R, G, RE   2.0      Yes  0.481      0.658   0.439\n1      R, G, NDVI   2.0      Yes  0.555      0.662   0.519\n2       R, G, NIR   2.0      Yes  0.459      0.615   0.429\n3   R, G, NIR, RE   2.0      Yes  0.417      0.668   0.382\n4        R, G, RE     0      Yes  0.524      0.551   0.726\n5      R, G, NDVI     0      Yes  0.591      0.537   0.901\n6       R, G, NIR     0      Yes  0.517      0.549   0.593\n7   R, G, NIR, RE     0      Yes  0.593      0.581   0.636\n8        R, G, RE   2.0       No  0.465      0.649   0.445\n9      R, G, NDVI   2.0       No  0.599      0.676   0.563\n10      R, G, NIR   2.0       No  0.409      0.643   0.398\n11  R, G, NIR, RE   2.0       No  0.386      0.651   0.365\n12       R, G, RE     0       No  0.533      0.559   0.696\n13     R, G, NDVI     0       No  0.591      0.525   0.917\n14      R, G, NIR     0       No  0.465      0.543   0.597\n15  R, G, NIR, RE     0       No  0.470      0.582   0.618",
      "text/html": "<div>\n<style scoped>\n    .dataframe tbody tr th:only-of-type {\n        vertical-align: middle;\n    }\n\n    .dataframe tbody tr th {\n        vertical-align: top;\n    }\n\n    .dataframe thead th {\n        text-align: right;\n    }\n</style>\n<table border=\"1\" class=\"dataframe\">\n  <thead>\n    <tr style=\"text-align: right;\">\n      <th></th>\n      <th>Channels</th>\n      <th>Gamma</th>\n      <th>DropPath</th>\n      <th>F1</th>\n      <th>Precision</th>\n      <th>Recall</th>\n    </tr>\n  </thead>\n  <tbody>\n    <tr>\n      <th>0</th>\n      <td>R, G, RE</td>\n      <td>2.0</td>\n      <td>Yes</td>\n      <td>0.481</td>\n      <td>0.658</td>\n      <td>0.439</td>\n    </tr>\n    <tr>\n      <th>1</th>\n      <td>R, G, NDVI</td>\n      <td>2.0</td>\n      <td>Yes</td>\n      <td>0.555</td>\n      <td>0.662</td>\n      <td>0.519</td>\n    </tr>\n    <tr>\n      <th>2</th>\n      <td>R, G, NIR</td>\n      <td>2.0</td>\n      <td>Yes</td>\n      <td>0.459</td>\n      <td>0.615</td>\n      <td>0.429</td>\n    </tr>\n    <tr>\n      <th>3</th>\n      <td>R, G, NIR, RE</td>\n      <td>2.0</td>\n      <td>Yes</td>\n      <td>0.417</td>\n      <td>0.668</td>\n      <td>0.382</td>\n    </tr>\n    <tr>\n      <th>4</th>\n      <td>R, G, RE</td>\n      <td>0</td>\n      <td>Yes</td>\n      <td>0.524</td>\n      <td>0.551</td>\n      <td>0.726</td>\n    </tr>\n    <tr>\n      <th>5</th>\n      <td>R, G, NDVI</td>\n      <td>0</td>\n      <td>Yes</td>\n      <td>0.591</td>\n      <td>0.537</td>\n      <td>0.901</td>\n    </tr>\n    <tr>\n      <th>6</th>\n      <td>R, G, NIR</td>\n      <td>0</td>\n      <td>Yes</td>\n      <td>0.517</td>\n      <td>0.549</td>\n      <td>0.593</td>\n    </tr>\n    <tr>\n      <th>7</th>\n      <td>R, G, NIR, RE</td>\n      <td>0</td>\n      <td>Yes</td>\n      <td>0.593</td>\n      <td>0.581</td>\n      <td>0.636</td>\n    </tr>\n    <tr>\n      <th>8</th>\n      <td>R, G, RE</td>\n      <td>2.0</td>\n      <td>No</td>\n      <td>0.465</td>\n      <td>0.649</td>\n      <td>0.445</td>\n    </tr>\n    <tr>\n      <th>9</th>\n      <td>R, G, NDVI</td>\n      <td>2.0</td>\n      <td>No</td>\n      <td>0.599</td>\n      <td>0.676</td>\n      <td>0.563</td>\n    </tr>\n    <tr>\n      <th>10</th>\n      <td>R, G, NIR</td>\n      <td>2.0</td>\n      <td>No</td>\n      <td>0.409</td>\n      <td>0.643</td>\n      <td>0.398</td>\n    </tr>\n    <tr>\n      <th>11</th>\n      <td>R, G, NIR, RE</td>\n      <td>2.0</td>\n      <td>No</td>\n      <td>0.386</td>\n      <td>0.651</td>\n      <td>0.365</td>\n    </tr>\n    <tr>\n      <th>12</th>\n      <td>R, G, RE</td>\n      <td>0</td>\n      <td>No</td>\n      <td>0.533</td>\n      <td>0.559</td>\n      <td>0.696</td>\n    </tr>\n    <tr>\n      <th>13</th>\n      <td>R, G, NDVI</td>\n      <td>0</td>\n      <td>No</td>\n      <td>0.591</td>\n      <td>0.525</td>\n      <td>0.917</td>\n    </tr>\n    <tr>\n      <th>14</th>\n      <td>R, G, NIR</td>\n      <td>0</td>\n      <td>No</td>\n      <td>0.465</td>\n      <td>0.543</td>\n      <td>0.597</td>\n    </tr>\n    <tr>\n      <th>15</th>\n      <td>R, G, NIR, RE</td>\n      <td>0</td>\n      <td>No</td>\n      <td>0.470</td>\n      <td>0.582</td>\n      <td>0.618</td>\n    </tr>\n  </tbody>\n</table>\n</div>"
     },
     "execution_count": 12,
     "metadata": {},
     "output_type": "execute_result"
    }
   ],
   "source": [
    "selected_runs"
   ],
   "metadata": {
    "collapsed": false,
    "pycharm": {
     "name": "#%%\n"
    }
   }
  },
  {
   "cell_type": "code",
   "execution_count": 13,
   "outputs": [],
   "source": [
    "selected_runs.to_csv(\"../../exps/doublelaweed-complete.csv\")"
   ],
   "metadata": {
    "collapsed": false,
    "pycharm": {
     "name": "#%%\n"
    }
   }
  },
  {
   "cell_type": "code",
   "execution_count": 36,
   "outputs": [
    {
     "data": {
      "text/plain": "['hyper_params.arch_params.schema',\n 'hyper_params.arch_params.sync_bn',\n 'hyper_params.arch_params.backbone',\n 'hyper_params.arch_params.fusion_type',\n 'hyper_params.arch_params.in_channels',\n 'hyper_params.arch_params.num_classes',\n 'hyper_params.arch_params.out_channels',\n 'hyper_params.arch_params.main_channels',\n 'hyper_params.arch_params.input_channels',\n 'hyper_params.arch_params.output_channels',\n 'hyper_params.arch_params.side_pretrained',\n 'hyper_params.arch_params.backbone_pretrained',\n 'hyper_params.dataset_params.root',\n 'hyper_params.dataset_params.size',\n 'hyper_params.dataset_params.schema',\n 'hyper_params.dataset_params.s3_link',\n 'hyper_params.dataset_params.channels',\n 'hyper_params.dataset_params.hor_flip',\n 'hyper_params.dataset_params.ver_flip',\n 'hyper_params.dataset_params.crop_size',\n 'hyper_params.dataset_params.batch_size',\n 'hyper_params.dataset_params.dataset_dir',\n 'hyper_params.dataset_params.num_classes',\n 'hyper_params.dataset_params.num_workers',\n 'hyper_params.dataset_params.return_path',\n 'hyper_params.dataset_params.test_folders',\n 'hyper_params.dataset_params.train_folders',\n 'hyper_params.dataset_params.val_batch_size',\n 'hyper_params.dataset_params.test_batch_size',\n 'hyper_params.additional_log_items.multi_gpu',\n 'hyper_params.additional_log_items.initial_LR',\n 'hyper_params.additional_log_items.device_type',\n 'hyper_params.additional_log_items.num_devices',\n 'hyper_params.additional_log_items.installed_packages',\n 'hyper_params.training_hyperparams.ema',\n 'hyper_params.training_hyperparams.loss',\n 'hyper_params.training_hyperparams.seed',\n 'hyper_params.training_hyperparams.schema.if.properties.lr_mode.const',\n 'hyper_params.training_hyperparams.schema.then.required',\n 'hyper_params.training_hyperparams.schema.type',\n 'hyper_params.training_hyperparams.schema.required',\n 'hyper_params.training_hyperparams.schema.properties.initial_lr.type',\n 'hyper_params.training_hyperparams.schema.properties.initial_lr.maximum',\n 'hyper_params.training_hyperparams.schema.properties.initial_lr.exclusiveMinimum',\n 'hyper_params.training_hyperparams.schema.properties.max_epochs.type',\n 'hyper_params.training_hyperparams.schema.properties.max_epochs.minimum',\n 'hyper_params.training_hyperparams.schema.properties.lr_decay_factor.type',\n 'hyper_params.training_hyperparams.schema.properties.lr_decay_factor.maximum',\n 'hyper_params.training_hyperparams.schema.properties.lr_decay_factor.minimum',\n 'hyper_params.training_hyperparams.schema.properties.lr_warmup_epochs.type',\n 'hyper_params.training_hyperparams.schema.properties.lr_warmup_epochs.maximum',\n 'hyper_params.training_hyperparams.schema.properties.lr_warmup_epochs.minimum',\n 'hyper_params.training_hyperparams.lr_mode',\n 'hyper_params.training_hyperparams.optimizer',\n 'hyper_params.training_hyperparams.sg_logger',\n 'hyper_params.training_hyperparams.initial_lr',\n 'hyper_params.training_hyperparams.lr_updates',\n 'hyper_params.training_hyperparams.max_epochs',\n 'hyper_params.training_hyperparams.precise_bn',\n 'hyper_params.training_hyperparams.save_model',\n 'hyper_params.training_hyperparams.silent_mode',\n 'hyper_params.training_hyperparams.warmup_mode',\n 'hyper_params.training_hyperparams.load_opt_params',\n 'hyper_params.training_hyperparams.metric_to_watch',\n 'hyper_params.training_hyperparams.mixed_precision',\n 'hyper_params.training_hyperparams.phase_callbacks',\n 'hyper_params.training_hyperparams.batch_accumulate',\n 'hyper_params.training_hyperparams.lr_warmup_epochs',\n 'hyper_params.training_hyperparams.optimizer_params.weight_decay',\n 'hyper_params.training_hyperparams.sg_logger_params.tags',\n 'hyper_params.training_hyperparams.sg_logger_params.entity',\n 'hyper_params.training_hyperparams.sg_logger_params.project_name',\n 'hyper_params.training_hyperparams.sg_logger_params.save_logs_remote',\n 'hyper_params.training_hyperparams.sg_logger_params.tensorboard_port',\n 'hyper_params.training_hyperparams.sg_logger_params.launch_tensorboard',\n 'hyper_params.training_hyperparams.sg_logger_params.tb_files_user_prompt',\n 'hyper_params.training_hyperparams.sg_logger_params.save_checkpoints_remote',\n 'hyper_params.training_hyperparams.sg_logger_params.save_tensorboard_remote',\n 'hyper_params.training_hyperparams.tensorboard_port',\n 'hyper_params.training_hyperparams.freeze_pretrained',\n 'hyper_params.training_hyperparams.warmup_initial_lr',\n 'hyper_params.training_hyperparams.dataset_statistics',\n 'hyper_params.training_hyperparams.launch_tensorboard',\n 'hyper_params.training_hyperparams.train_metrics_list',\n 'hyper_params.training_hyperparams.valid_metrics_list',\n 'hyper_params.training_hyperparams.average_best_models',\n 'hyper_params.training_hyperparams.run_validation_freq',\n 'hyper_params.training_hyperparams.save_full_train_log',\n 'hyper_params.training_hyperparams.step_lr_update_freq',\n 'hyper_params.training_hyperparams.lr_schedule_function',\n 'hyper_params.training_hyperparams.save_ckpt_epoch_list',\n 'hyper_params.training_hyperparams.tb_files_user_prompt',\n 'hyper_params.training_hyperparams.cosine_final_lr_ratio',\n 'hyper_params.training_hyperparams.precise_bn_batch_size',\n 'hyper_params.training_hyperparams.log_installed_packages',\n 'hyper_params.training_hyperparams.save_tensorboard_to_s3',\n 'hyper_params.training_hyperparams.loss_logging_items_names',\n 'hyper_params.training_hyperparams.zero_weight_decay_on_bias_and_bn',\n 'hyper_params.training_hyperparams.greater_metric_to_watch_is_better']"
     },
     "metadata": {},
     "output_type": "display_data"
    }
   ],
   "source": [
    "filters = {\n",
    "    '$or': [{'group': 'DoubleLaweedPrBatch'}, {'group': 'DoubleLaweedPrDropBatch'},{'group': 'DLPretrainedDrop'}]\n",
    "}\n",
    "selected_cols = [\n",
    "    'in_params.dataset.channels',\n",
    "    'in_params.train_params.loss.params.gamma',\n",
    "    'in_params.model.params.fusion_type',\n",
    "    'in_params.model.name',\n",
    "    'f1',\n",
    "]\n",
    "roundings = ['F1']\n",
    "runs_df = get_runs(filters)\n",
    "remove_hyp(runs_df)"
   ],
   "metadata": {
    "collapsed": false,
    "pycharm": {
     "name": "#%%\n"
    }
   }
  },
  {
   "cell_type": "code",
   "execution_count": 37,
   "outputs": [],
   "source": [
    "projected_runs = runs_df[\n",
    "    selected_cols\n",
    "]\n",
    "selected_runs = projected_runs"
   ],
   "metadata": {
    "collapsed": false,
    "pycharm": {
     "name": "#%%\n"
    }
   }
  },
  {
   "cell_type": "code",
   "execution_count": 38,
   "outputs": [
    {
     "data": {
      "text/plain": "   in_params.dataset.channels in_params.train_params.loss.params.gamma  \\\n0             [R, G, NIR, RE]                                      2.0   \n1                  [R, G, RE]                                      2.0   \n2                [R, G, NDVI]                                      2.0   \n3                 [R, G, NIR]                                      2.0   \n4             [R, G, NIR, RE]                                      NaN   \n5                  [R, G, RE]                                      NaN   \n6                [R, G, NDVI]                                      NaN   \n7                 [R, G, NIR]                                      NaN   \n8                  [R, G, RE]                                      2.0   \n9                [R, G, NDVI]                                      2.0   \n10                [R, G, NIR]                                      2.0   \n11            [R, G, NIR, RE]                                      2.0   \n12                 [R, G, RE]                                      NaN   \n13               [R, G, NDVI]                                      NaN   \n14                [R, G, NIR]                                      NaN   \n15            [R, G, NIR, RE]                                      NaN   \n16                 [R, G, RE]                                      2.0   \n17               [R, G, NDVI]                                      2.0   \n18                [R, G, NIR]                                      2.0   \n19            [R, G, NIR, RE]                                      2.0   \n20                 [R, G, RE]                                      NaN   \n21               [R, G, NDVI]                                      NaN   \n22                [R, G, NIR]                                      NaN   \n23            [R, G, NIR, RE]                                      NaN   \n24            [R, G, NIR, RE]                                      2.0   \n25                 [R, G, RE]                                      2.0   \n26               [R, G, NDVI]                                      2.0   \n27                [R, G, NIR]                                      2.0   \n28            [R, G, NIR, RE]                                      NaN   \n29                 [R, G, RE]                                      NaN   \n30               [R, G, NDVI]                                      NaN   \n31                [R, G, NIR]                                      NaN   \n\n   in_params.model.params.fusion_type in_params.model.name        f1  \n0                       conv_sum_drop          doublelawin  0.405533  \n1                       conv_sum_drop          doublelawin  0.433094  \n2                       conv_sum_drop          doublelawin  0.579506  \n3                       conv_sum_drop          doublelawin  0.481747  \n4                       conv_sum_drop          doublelawin  0.558757  \n5                       conv_sum_drop          doublelawin  0.540953  \n6                       conv_sum_drop          doublelawin  0.594600  \n7                       conv_sum_drop          doublelawin  0.510344  \n8                       conv_sum_drop         doublelaweed  0.481271  \n9                       conv_sum_drop         doublelaweed  0.555112  \n10                      conv_sum_drop         doublelaweed  0.458942  \n11                      conv_sum_drop         doublelaweed  0.417217  \n12                      conv_sum_drop         doublelaweed  0.524405  \n13                      conv_sum_drop         doublelaweed  0.590582  \n14                      conv_sum_drop         doublelaweed  0.516671  \n15                      conv_sum_drop         doublelaweed  0.593412  \n16                                NaN         doublelaweed  0.465071  \n17                                NaN         doublelaweed  0.599053  \n18                                NaN         doublelaweed  0.408610  \n19                                NaN         doublelaweed  0.385545  \n20                                NaN         doublelaweed  0.532997  \n21                                NaN         doublelaweed  0.590763  \n22                                NaN         doublelaweed  0.464843  \n23                                NaN         doublelaweed  0.469760  \n24                                NaN          doublelawin  0.429655  \n25                                NaN          doublelawin  0.458471  \n26                                NaN          doublelawin  0.539588  \n27                                NaN          doublelawin  0.404478  \n28                                NaN          doublelawin  0.559576  \n29                                NaN          doublelawin  0.534969  \n30                                NaN          doublelawin  0.503574  \n31                                NaN          doublelawin  0.480836  ",
      "text/html": "<div>\n<style scoped>\n    .dataframe tbody tr th:only-of-type {\n        vertical-align: middle;\n    }\n\n    .dataframe tbody tr th {\n        vertical-align: top;\n    }\n\n    .dataframe thead th {\n        text-align: right;\n    }\n</style>\n<table border=\"1\" class=\"dataframe\">\n  <thead>\n    <tr style=\"text-align: right;\">\n      <th></th>\n      <th>in_params.dataset.channels</th>\n      <th>in_params.train_params.loss.params.gamma</th>\n      <th>in_params.model.params.fusion_type</th>\n      <th>in_params.model.name</th>\n      <th>f1</th>\n    </tr>\n  </thead>\n  <tbody>\n    <tr>\n      <th>0</th>\n      <td>[R, G, NIR, RE]</td>\n      <td>2.0</td>\n      <td>conv_sum_drop</td>\n      <td>doublelawin</td>\n      <td>0.405533</td>\n    </tr>\n    <tr>\n      <th>1</th>\n      <td>[R, G, RE]</td>\n      <td>2.0</td>\n      <td>conv_sum_drop</td>\n      <td>doublelawin</td>\n      <td>0.433094</td>\n    </tr>\n    <tr>\n      <th>2</th>\n      <td>[R, G, NDVI]</td>\n      <td>2.0</td>\n      <td>conv_sum_drop</td>\n      <td>doublelawin</td>\n      <td>0.579506</td>\n    </tr>\n    <tr>\n      <th>3</th>\n      <td>[R, G, NIR]</td>\n      <td>2.0</td>\n      <td>conv_sum_drop</td>\n      <td>doublelawin</td>\n      <td>0.481747</td>\n    </tr>\n    <tr>\n      <th>4</th>\n      <td>[R, G, NIR, RE]</td>\n      <td>NaN</td>\n      <td>conv_sum_drop</td>\n      <td>doublelawin</td>\n      <td>0.558757</td>\n    </tr>\n    <tr>\n      <th>5</th>\n      <td>[R, G, RE]</td>\n      <td>NaN</td>\n      <td>conv_sum_drop</td>\n      <td>doublelawin</td>\n      <td>0.540953</td>\n    </tr>\n    <tr>\n      <th>6</th>\n      <td>[R, G, NDVI]</td>\n      <td>NaN</td>\n      <td>conv_sum_drop</td>\n      <td>doublelawin</td>\n      <td>0.594600</td>\n    </tr>\n    <tr>\n      <th>7</th>\n      <td>[R, G, NIR]</td>\n      <td>NaN</td>\n      <td>conv_sum_drop</td>\n      <td>doublelawin</td>\n      <td>0.510344</td>\n    </tr>\n    <tr>\n      <th>8</th>\n      <td>[R, G, RE]</td>\n      <td>2.0</td>\n      <td>conv_sum_drop</td>\n      <td>doublelaweed</td>\n      <td>0.481271</td>\n    </tr>\n    <tr>\n      <th>9</th>\n      <td>[R, G, NDVI]</td>\n      <td>2.0</td>\n      <td>conv_sum_drop</td>\n      <td>doublelaweed</td>\n      <td>0.555112</td>\n    </tr>\n    <tr>\n      <th>10</th>\n      <td>[R, G, NIR]</td>\n      <td>2.0</td>\n      <td>conv_sum_drop</td>\n      <td>doublelaweed</td>\n      <td>0.458942</td>\n    </tr>\n    <tr>\n      <th>11</th>\n      <td>[R, G, NIR, RE]</td>\n      <td>2.0</td>\n      <td>conv_sum_drop</td>\n      <td>doublelaweed</td>\n      <td>0.417217</td>\n    </tr>\n    <tr>\n      <th>12</th>\n      <td>[R, G, RE]</td>\n      <td>NaN</td>\n      <td>conv_sum_drop</td>\n      <td>doublelaweed</td>\n      <td>0.524405</td>\n    </tr>\n    <tr>\n      <th>13</th>\n      <td>[R, G, NDVI]</td>\n      <td>NaN</td>\n      <td>conv_sum_drop</td>\n      <td>doublelaweed</td>\n      <td>0.590582</td>\n    </tr>\n    <tr>\n      <th>14</th>\n      <td>[R, G, NIR]</td>\n      <td>NaN</td>\n      <td>conv_sum_drop</td>\n      <td>doublelaweed</td>\n      <td>0.516671</td>\n    </tr>\n    <tr>\n      <th>15</th>\n      <td>[R, G, NIR, RE]</td>\n      <td>NaN</td>\n      <td>conv_sum_drop</td>\n      <td>doublelaweed</td>\n      <td>0.593412</td>\n    </tr>\n    <tr>\n      <th>16</th>\n      <td>[R, G, RE]</td>\n      <td>2.0</td>\n      <td>NaN</td>\n      <td>doublelaweed</td>\n      <td>0.465071</td>\n    </tr>\n    <tr>\n      <th>17</th>\n      <td>[R, G, NDVI]</td>\n      <td>2.0</td>\n      <td>NaN</td>\n      <td>doublelaweed</td>\n      <td>0.599053</td>\n    </tr>\n    <tr>\n      <th>18</th>\n      <td>[R, G, NIR]</td>\n      <td>2.0</td>\n      <td>NaN</td>\n      <td>doublelaweed</td>\n      <td>0.408610</td>\n    </tr>\n    <tr>\n      <th>19</th>\n      <td>[R, G, NIR, RE]</td>\n      <td>2.0</td>\n      <td>NaN</td>\n      <td>doublelaweed</td>\n      <td>0.385545</td>\n    </tr>\n    <tr>\n      <th>20</th>\n      <td>[R, G, RE]</td>\n      <td>NaN</td>\n      <td>NaN</td>\n      <td>doublelaweed</td>\n      <td>0.532997</td>\n    </tr>\n    <tr>\n      <th>21</th>\n      <td>[R, G, NDVI]</td>\n      <td>NaN</td>\n      <td>NaN</td>\n      <td>doublelaweed</td>\n      <td>0.590763</td>\n    </tr>\n    <tr>\n      <th>22</th>\n      <td>[R, G, NIR]</td>\n      <td>NaN</td>\n      <td>NaN</td>\n      <td>doublelaweed</td>\n      <td>0.464843</td>\n    </tr>\n    <tr>\n      <th>23</th>\n      <td>[R, G, NIR, RE]</td>\n      <td>NaN</td>\n      <td>NaN</td>\n      <td>doublelaweed</td>\n      <td>0.469760</td>\n    </tr>\n    <tr>\n      <th>24</th>\n      <td>[R, G, NIR, RE]</td>\n      <td>2.0</td>\n      <td>NaN</td>\n      <td>doublelawin</td>\n      <td>0.429655</td>\n    </tr>\n    <tr>\n      <th>25</th>\n      <td>[R, G, RE]</td>\n      <td>2.0</td>\n      <td>NaN</td>\n      <td>doublelawin</td>\n      <td>0.458471</td>\n    </tr>\n    <tr>\n      <th>26</th>\n      <td>[R, G, NDVI]</td>\n      <td>2.0</td>\n      <td>NaN</td>\n      <td>doublelawin</td>\n      <td>0.539588</td>\n    </tr>\n    <tr>\n      <th>27</th>\n      <td>[R, G, NIR]</td>\n      <td>2.0</td>\n      <td>NaN</td>\n      <td>doublelawin</td>\n      <td>0.404478</td>\n    </tr>\n    <tr>\n      <th>28</th>\n      <td>[R, G, NIR, RE]</td>\n      <td>NaN</td>\n      <td>NaN</td>\n      <td>doublelawin</td>\n      <td>0.559576</td>\n    </tr>\n    <tr>\n      <th>29</th>\n      <td>[R, G, RE]</td>\n      <td>NaN</td>\n      <td>NaN</td>\n      <td>doublelawin</td>\n      <td>0.534969</td>\n    </tr>\n    <tr>\n      <th>30</th>\n      <td>[R, G, NDVI]</td>\n      <td>NaN</td>\n      <td>NaN</td>\n      <td>doublelawin</td>\n      <td>0.503574</td>\n    </tr>\n    <tr>\n      <th>31</th>\n      <td>[R, G, NIR]</td>\n      <td>NaN</td>\n      <td>NaN</td>\n      <td>doublelawin</td>\n      <td>0.480836</td>\n    </tr>\n  </tbody>\n</table>\n</div>"
     },
     "execution_count": 38,
     "metadata": {},
     "output_type": "execute_result"
    }
   ],
   "source": [
    "selected_runs"
   ],
   "metadata": {
    "collapsed": false,
    "pycharm": {
     "name": "#%%\n"
    }
   }
  },
  {
   "cell_type": "code",
   "execution_count": 39,
   "outputs": [
    {
     "name": "stderr",
     "output_type": "stream",
     "text": [
      "C:\\Users\\pasqu\\AppData\\Local\\Temp\\ipykernel_29512\\2955175917.py:1: SettingWithCopyWarning: \n",
      "A value is trying to be set on a copy of a slice from a DataFrame\n",
      "\n",
      "See the caveats in the documentation: https://pandas.pydata.org/pandas-docs/stable/user_guide/indexing.html#returning-a-view-versus-a-copy\n",
      "  selected_runs.rename(columns=renamings, inplace=True)\n",
      "C:\\Users\\pasqu\\AppData\\Local\\Temp\\ipykernel_29512\\2955175917.py:2: SettingWithCopyWarning: \n",
      "A value is trying to be set on a copy of a slice from a DataFrame\n",
      "\n",
      "See the caveats in the documentation: https://pandas.pydata.org/pandas-docs/stable/user_guide/indexing.html#returning-a-view-versus-a-copy\n",
      "  selected_runs['DropPath'].fillna('conv_sum', inplace=True)\n",
      "C:\\Users\\pasqu\\AppData\\Local\\Temp\\ipykernel_29512\\2999623128.py:34: SettingWithCopyWarning: \n",
      "A value is trying to be set on a copy of a slice from a DataFrame.\n",
      "Try using .loc[row_indexer,col_indexer] = value instead\n",
      "\n",
      "See the caveats in the documentation: https://pandas.pydata.org/pandas-docs/stable/user_guide/indexing.html#returning-a-view-versus-a-copy\n",
      "  df[column] = df[column].replace(values)\n",
      "C:\\Users\\pasqu\\AppData\\Local\\Temp\\ipykernel_29512\\2955175917.py:4: SettingWithCopyWarning: \n",
      "A value is trying to be set on a copy of a slice from a DataFrame.\n",
      "Try using .loc[row_indexer,col_indexer] = value instead\n",
      "\n",
      "See the caveats in the documentation: https://pandas.pydata.org/pandas-docs/stable/user_guide/indexing.html#returning-a-view-versus-a-copy\n",
      "  selected_runs[roundings] = selected_runs[roundings].round(5)\n",
      "C:\\Users\\pasqu\\AppData\\Local\\Temp\\ipykernel_29512\\2955175917.py:5: SettingWithCopyWarning: \n",
      "A value is trying to be set on a copy of a slice from a DataFrame\n",
      "\n",
      "See the caveats in the documentation: https://pandas.pydata.org/pandas-docs/stable/user_guide/indexing.html#returning-a-view-versus-a-copy\n",
      "  selected_runs['Gamma'].fillna(0, inplace=True)\n"
     ]
    }
   ],
   "source": [
    "selected_runs.rename(columns=renamings, inplace=True)\n",
    "selected_runs['DropPath'].fillna('conv_sum', inplace=True)\n",
    "rename_values(selected_runs, value_renamings)\n",
    "selected_runs[roundings] = selected_runs[roundings].round(5)\n",
    "selected_runs['Gamma'].fillna(0, inplace=True)\n",
    "selected_runs = selected_runs.applymap(lambda x: ', '.join(x) if isinstance(x, list) else x)\n",
    "\n",
    "selected_runs[roundings] = selected_runs[roundings].round(3)\n",
    "selected_runs.sort_values(by=['Channels'],\n",
    "                          key=lambda x: x.apply(lambda k: channels_ordering[k]), inplace=True)\n",
    "\n"
   ],
   "metadata": {
    "collapsed": false,
    "pycharm": {
     "name": "#%%\n"
    }
   }
  },
  {
   "cell_type": "code",
   "execution_count": 40,
   "outputs": [
    {
     "name": "stderr",
     "output_type": "stream",
     "text": [
      "C:\\Users\\pasqu\\AppData\\Local\\Temp\\ipykernel_29512\\3963619940.py:3: SettingWithCopyWarning: \n",
      "A value is trying to be set on a copy of a slice from a DataFrame\n",
      "\n",
      "See the caveats in the documentation: https://pandas.pydata.org/pandas-docs/stable/user_guide/indexing.html#returning-a-view-versus-a-copy\n",
      "  best_runs.sort_values(by=['Model', 'Channels'], key=lambda x: x.apply(lambda k: channels_ordering[k]), inplace=True)\n",
      "C:\\Users\\pasqu\\AppData\\Local\\Temp\\ipykernel_29512\\3963619940.py:4: SettingWithCopyWarning: \n",
      "A value is trying to be set on a copy of a slice from a DataFrame.\n",
      "Try using .loc[row_indexer,col_indexer] = value instead\n",
      "\n",
      "See the caveats in the documentation: https://pandas.pydata.org/pandas-docs/stable/user_guide/indexing.html#returning-a-view-versus-a-copy\n",
      "  best_runs[roundings] = best_runs[roundings].round(3)\n"
     ]
    },
    {
     "data": {
      "text/plain": "         Channels Gamma DropPath         Model     F1\n28  R, G, NIR, RE     0       No   doublelawin  0.560\n5        R, G, RE     0      Yes   doublelawin  0.541\n7       R, G, NIR     0      Yes   doublelawin  0.510\n6      R, G, NDVI     0      Yes   doublelawin  0.595\n15  R, G, NIR, RE     0      Yes  doublelaweed  0.593\n20       R, G, RE     0       No  doublelaweed  0.533\n14      R, G, NIR     0      Yes  doublelaweed  0.517\n17     R, G, NDVI   2.0       No  doublelaweed  0.599",
      "text/html": "<div>\n<style scoped>\n    .dataframe tbody tr th:only-of-type {\n        vertical-align: middle;\n    }\n\n    .dataframe tbody tr th {\n        vertical-align: top;\n    }\n\n    .dataframe thead th {\n        text-align: right;\n    }\n</style>\n<table border=\"1\" class=\"dataframe\">\n  <thead>\n    <tr style=\"text-align: right;\">\n      <th></th>\n      <th>Channels</th>\n      <th>Gamma</th>\n      <th>DropPath</th>\n      <th>Model</th>\n      <th>F1</th>\n    </tr>\n  </thead>\n  <tbody>\n    <tr>\n      <th>28</th>\n      <td>R, G, NIR, RE</td>\n      <td>0</td>\n      <td>No</td>\n      <td>doublelawin</td>\n      <td>0.560</td>\n    </tr>\n    <tr>\n      <th>5</th>\n      <td>R, G, RE</td>\n      <td>0</td>\n      <td>Yes</td>\n      <td>doublelawin</td>\n      <td>0.541</td>\n    </tr>\n    <tr>\n      <th>7</th>\n      <td>R, G, NIR</td>\n      <td>0</td>\n      <td>Yes</td>\n      <td>doublelawin</td>\n      <td>0.510</td>\n    </tr>\n    <tr>\n      <th>6</th>\n      <td>R, G, NDVI</td>\n      <td>0</td>\n      <td>Yes</td>\n      <td>doublelawin</td>\n      <td>0.595</td>\n    </tr>\n    <tr>\n      <th>15</th>\n      <td>R, G, NIR, RE</td>\n      <td>0</td>\n      <td>Yes</td>\n      <td>doublelaweed</td>\n      <td>0.593</td>\n    </tr>\n    <tr>\n      <th>20</th>\n      <td>R, G, RE</td>\n      <td>0</td>\n      <td>No</td>\n      <td>doublelaweed</td>\n      <td>0.533</td>\n    </tr>\n    <tr>\n      <th>14</th>\n      <td>R, G, NIR</td>\n      <td>0</td>\n      <td>Yes</td>\n      <td>doublelaweed</td>\n      <td>0.517</td>\n    </tr>\n    <tr>\n      <th>17</th>\n      <td>R, G, NDVI</td>\n      <td>2.0</td>\n      <td>No</td>\n      <td>doublelaweed</td>\n      <td>0.599</td>\n    </tr>\n  </tbody>\n</table>\n</div>"
     },
     "execution_count": 40,
     "metadata": {},
     "output_type": "execute_result"
    }
   ],
   "source": [
    "idx = selected_runs.groupby(by=['Channels', 'Model'])['F1'].transform(max) == selected_runs['F1']\n",
    "best_runs = selected_runs[idx]\n",
    "best_runs.sort_values(by=['Model', 'Channels'], key=lambda x: x.apply(lambda k: channels_ordering[k]), inplace=True)\n",
    "best_runs[roundings] = best_runs[roundings].round(3)\n",
    "best_runs"
   ],
   "metadata": {
    "collapsed": false,
    "pycharm": {
     "name": "#%%\n"
    }
   }
  },
  {
   "cell_type": "code",
   "execution_count": 41,
   "outputs": [],
   "source": [
    "compare_runs = best_runs.merge(best_runs, on=['Channels'])"
   ],
   "metadata": {
    "collapsed": false,
    "pycharm": {
     "name": "#%%\n"
    }
   }
  },
  {
   "cell_type": "code",
   "execution_count": 42,
   "outputs": [
    {
     "data": {
      "text/plain": "         Channels Gamma_x DropPath_x       Model_x   F1_x Gamma_y DropPath_y  \\\n0   R, G, NIR, RE       0         No   doublelawin  0.560       0         No   \n1   R, G, NIR, RE       0         No   doublelawin  0.560       0        Yes   \n2   R, G, NIR, RE       0        Yes  doublelaweed  0.593       0         No   \n3   R, G, NIR, RE       0        Yes  doublelaweed  0.593       0        Yes   \n4        R, G, RE       0        Yes   doublelawin  0.541       0        Yes   \n5        R, G, RE       0        Yes   doublelawin  0.541       0         No   \n6        R, G, RE       0         No  doublelaweed  0.533       0        Yes   \n7        R, G, RE       0         No  doublelaweed  0.533       0         No   \n8       R, G, NIR       0        Yes   doublelawin  0.510       0        Yes   \n9       R, G, NIR       0        Yes   doublelawin  0.510       0        Yes   \n10      R, G, NIR       0        Yes  doublelaweed  0.517       0        Yes   \n11      R, G, NIR       0        Yes  doublelaweed  0.517       0        Yes   \n12     R, G, NDVI       0        Yes   doublelawin  0.595       0        Yes   \n13     R, G, NDVI       0        Yes   doublelawin  0.595     2.0         No   \n14     R, G, NDVI     2.0         No  doublelaweed  0.599       0        Yes   \n15     R, G, NDVI     2.0         No  doublelaweed  0.599     2.0         No   \n\n         Model_y   F1_y  \n0    doublelawin  0.560  \n1   doublelaweed  0.593  \n2    doublelawin  0.560  \n3   doublelaweed  0.593  \n4    doublelawin  0.541  \n5   doublelaweed  0.533  \n6    doublelawin  0.541  \n7   doublelaweed  0.533  \n8    doublelawin  0.510  \n9   doublelaweed  0.517  \n10   doublelawin  0.510  \n11  doublelaweed  0.517  \n12   doublelawin  0.595  \n13  doublelaweed  0.599  \n14   doublelawin  0.595  \n15  doublelaweed  0.599  ",
      "text/html": "<div>\n<style scoped>\n    .dataframe tbody tr th:only-of-type {\n        vertical-align: middle;\n    }\n\n    .dataframe tbody tr th {\n        vertical-align: top;\n    }\n\n    .dataframe thead th {\n        text-align: right;\n    }\n</style>\n<table border=\"1\" class=\"dataframe\">\n  <thead>\n    <tr style=\"text-align: right;\">\n      <th></th>\n      <th>Channels</th>\n      <th>Gamma_x</th>\n      <th>DropPath_x</th>\n      <th>Model_x</th>\n      <th>F1_x</th>\n      <th>Gamma_y</th>\n      <th>DropPath_y</th>\n      <th>Model_y</th>\n      <th>F1_y</th>\n    </tr>\n  </thead>\n  <tbody>\n    <tr>\n      <th>0</th>\n      <td>R, G, NIR, RE</td>\n      <td>0</td>\n      <td>No</td>\n      <td>doublelawin</td>\n      <td>0.560</td>\n      <td>0</td>\n      <td>No</td>\n      <td>doublelawin</td>\n      <td>0.560</td>\n    </tr>\n    <tr>\n      <th>1</th>\n      <td>R, G, NIR, RE</td>\n      <td>0</td>\n      <td>No</td>\n      <td>doublelawin</td>\n      <td>0.560</td>\n      <td>0</td>\n      <td>Yes</td>\n      <td>doublelaweed</td>\n      <td>0.593</td>\n    </tr>\n    <tr>\n      <th>2</th>\n      <td>R, G, NIR, RE</td>\n      <td>0</td>\n      <td>Yes</td>\n      <td>doublelaweed</td>\n      <td>0.593</td>\n      <td>0</td>\n      <td>No</td>\n      <td>doublelawin</td>\n      <td>0.560</td>\n    </tr>\n    <tr>\n      <th>3</th>\n      <td>R, G, NIR, RE</td>\n      <td>0</td>\n      <td>Yes</td>\n      <td>doublelaweed</td>\n      <td>0.593</td>\n      <td>0</td>\n      <td>Yes</td>\n      <td>doublelaweed</td>\n      <td>0.593</td>\n    </tr>\n    <tr>\n      <th>4</th>\n      <td>R, G, RE</td>\n      <td>0</td>\n      <td>Yes</td>\n      <td>doublelawin</td>\n      <td>0.541</td>\n      <td>0</td>\n      <td>Yes</td>\n      <td>doublelawin</td>\n      <td>0.541</td>\n    </tr>\n    <tr>\n      <th>5</th>\n      <td>R, G, RE</td>\n      <td>0</td>\n      <td>Yes</td>\n      <td>doublelawin</td>\n      <td>0.541</td>\n      <td>0</td>\n      <td>No</td>\n      <td>doublelaweed</td>\n      <td>0.533</td>\n    </tr>\n    <tr>\n      <th>6</th>\n      <td>R, G, RE</td>\n      <td>0</td>\n      <td>No</td>\n      <td>doublelaweed</td>\n      <td>0.533</td>\n      <td>0</td>\n      <td>Yes</td>\n      <td>doublelawin</td>\n      <td>0.541</td>\n    </tr>\n    <tr>\n      <th>7</th>\n      <td>R, G, RE</td>\n      <td>0</td>\n      <td>No</td>\n      <td>doublelaweed</td>\n      <td>0.533</td>\n      <td>0</td>\n      <td>No</td>\n      <td>doublelaweed</td>\n      <td>0.533</td>\n    </tr>\n    <tr>\n      <th>8</th>\n      <td>R, G, NIR</td>\n      <td>0</td>\n      <td>Yes</td>\n      <td>doublelawin</td>\n      <td>0.510</td>\n      <td>0</td>\n      <td>Yes</td>\n      <td>doublelawin</td>\n      <td>0.510</td>\n    </tr>\n    <tr>\n      <th>9</th>\n      <td>R, G, NIR</td>\n      <td>0</td>\n      <td>Yes</td>\n      <td>doublelawin</td>\n      <td>0.510</td>\n      <td>0</td>\n      <td>Yes</td>\n      <td>doublelaweed</td>\n      <td>0.517</td>\n    </tr>\n    <tr>\n      <th>10</th>\n      <td>R, G, NIR</td>\n      <td>0</td>\n      <td>Yes</td>\n      <td>doublelaweed</td>\n      <td>0.517</td>\n      <td>0</td>\n      <td>Yes</td>\n      <td>doublelawin</td>\n      <td>0.510</td>\n    </tr>\n    <tr>\n      <th>11</th>\n      <td>R, G, NIR</td>\n      <td>0</td>\n      <td>Yes</td>\n      <td>doublelaweed</td>\n      <td>0.517</td>\n      <td>0</td>\n      <td>Yes</td>\n      <td>doublelaweed</td>\n      <td>0.517</td>\n    </tr>\n    <tr>\n      <th>12</th>\n      <td>R, G, NDVI</td>\n      <td>0</td>\n      <td>Yes</td>\n      <td>doublelawin</td>\n      <td>0.595</td>\n      <td>0</td>\n      <td>Yes</td>\n      <td>doublelawin</td>\n      <td>0.595</td>\n    </tr>\n    <tr>\n      <th>13</th>\n      <td>R, G, NDVI</td>\n      <td>0</td>\n      <td>Yes</td>\n      <td>doublelawin</td>\n      <td>0.595</td>\n      <td>2.0</td>\n      <td>No</td>\n      <td>doublelaweed</td>\n      <td>0.599</td>\n    </tr>\n    <tr>\n      <th>14</th>\n      <td>R, G, NDVI</td>\n      <td>2.0</td>\n      <td>No</td>\n      <td>doublelaweed</td>\n      <td>0.599</td>\n      <td>0</td>\n      <td>Yes</td>\n      <td>doublelawin</td>\n      <td>0.595</td>\n    </tr>\n    <tr>\n      <th>15</th>\n      <td>R, G, NDVI</td>\n      <td>2.0</td>\n      <td>No</td>\n      <td>doublelaweed</td>\n      <td>0.599</td>\n      <td>2.0</td>\n      <td>No</td>\n      <td>doublelaweed</td>\n      <td>0.599</td>\n    </tr>\n  </tbody>\n</table>\n</div>"
     },
     "execution_count": 42,
     "metadata": {},
     "output_type": "execute_result"
    }
   ],
   "source": [
    "compare_runs"
   ],
   "metadata": {
    "collapsed": false,
    "pycharm": {
     "name": "#%%\n"
    }
   }
  },
  {
   "cell_type": "code",
   "execution_count": 47,
   "outputs": [
    {
     "data": {
      "text/plain": "         Channels Gamma_x DropPath_x      Model_x   F1_x Gamma_y DropPath_y  \\\n1   R, G, NIR, RE       0         No  doublelawin  0.560       0        Yes   \n5        R, G, RE       0        Yes  doublelawin  0.541       0         No   \n9       R, G, NIR       0        Yes  doublelawin  0.510       0        Yes   \n13     R, G, NDVI       0        Yes  doublelawin  0.595     2.0         No   \n\n         Model_y   F1_y  \n1   doublelaweed  0.593  \n5   doublelaweed  0.533  \n9   doublelaweed  0.517  \n13  doublelaweed  0.599  ",
      "text/html": "<div>\n<style scoped>\n    .dataframe tbody tr th:only-of-type {\n        vertical-align: middle;\n    }\n\n    .dataframe tbody tr th {\n        vertical-align: top;\n    }\n\n    .dataframe thead th {\n        text-align: right;\n    }\n</style>\n<table border=\"1\" class=\"dataframe\">\n  <thead>\n    <tr style=\"text-align: right;\">\n      <th></th>\n      <th>Channels</th>\n      <th>Gamma_x</th>\n      <th>DropPath_x</th>\n      <th>Model_x</th>\n      <th>F1_x</th>\n      <th>Gamma_y</th>\n      <th>DropPath_y</th>\n      <th>Model_y</th>\n      <th>F1_y</th>\n    </tr>\n  </thead>\n  <tbody>\n    <tr>\n      <th>1</th>\n      <td>R, G, NIR, RE</td>\n      <td>0</td>\n      <td>No</td>\n      <td>doublelawin</td>\n      <td>0.560</td>\n      <td>0</td>\n      <td>Yes</td>\n      <td>doublelaweed</td>\n      <td>0.593</td>\n    </tr>\n    <tr>\n      <th>5</th>\n      <td>R, G, RE</td>\n      <td>0</td>\n      <td>Yes</td>\n      <td>doublelawin</td>\n      <td>0.541</td>\n      <td>0</td>\n      <td>No</td>\n      <td>doublelaweed</td>\n      <td>0.533</td>\n    </tr>\n    <tr>\n      <th>9</th>\n      <td>R, G, NIR</td>\n      <td>0</td>\n      <td>Yes</td>\n      <td>doublelawin</td>\n      <td>0.510</td>\n      <td>0</td>\n      <td>Yes</td>\n      <td>doublelaweed</td>\n      <td>0.517</td>\n    </tr>\n    <tr>\n      <th>13</th>\n      <td>R, G, NDVI</td>\n      <td>0</td>\n      <td>Yes</td>\n      <td>doublelawin</td>\n      <td>0.595</td>\n      <td>2.0</td>\n      <td>No</td>\n      <td>doublelaweed</td>\n      <td>0.599</td>\n    </tr>\n  </tbody>\n</table>\n</div>"
     },
     "execution_count": 47,
     "metadata": {},
     "output_type": "execute_result"
    }
   ],
   "source": [
    "compare_runs.drop(compare_runs[compare_runs['Model_x'] == compare_runs['Model_y']].index, inplace=True)\n",
    "compare_runs.drop(compare_runs[compare_runs['Model_x'] == 'doublelaweed'].index, inplace=True)\n",
    "compare_runs"
   ],
   "metadata": {
    "collapsed": false,
    "pycharm": {
     "name": "#%%\n"
    }
   }
  },
  {
   "cell_type": "code",
   "execution_count": 48,
   "outputs": [],
   "source": [
    "compare_runs.to_csv(\"../../exps/doublelaweed.csv\")"
   ],
   "metadata": {
    "collapsed": false,
    "pycharm": {
     "name": "#%%\n"
    }
   }
  },
  {
   "cell_type": "code",
   "execution_count": null,
   "outputs": [],
   "source": [],
   "metadata": {
    "collapsed": false,
    "pycharm": {
     "name": "#%%\n"
    }
   }
  },
  {
   "cell_type": "markdown",
   "source": [
    "# Final results"
   ],
   "metadata": {
    "collapsed": false,
    "pycharm": {
     "name": "#%% md\n"
    }
   }
  },
  {
   "cell_type": "code",
   "execution_count": 5,
   "outputs": [
    {
     "data": {
      "text/plain": "['hyper_params.arch_params.schema',\n 'hyper_params.arch_params.sync_bn',\n 'hyper_params.arch_params.backbone',\n 'hyper_params.arch_params.in_channels',\n 'hyper_params.arch_params.num_classes',\n 'hyper_params.arch_params.out_channels',\n 'hyper_params.arch_params.main_channels',\n 'hyper_params.arch_params.input_channels',\n 'hyper_params.arch_params.output_channels',\n 'hyper_params.arch_params.backbone_pretrained',\n 'hyper_params.dataset_params.root',\n 'hyper_params.dataset_params.size',\n 'hyper_params.dataset_params.schema',\n 'hyper_params.dataset_params.s3_link',\n 'hyper_params.dataset_params.channels',\n 'hyper_params.dataset_params.hor_flip',\n 'hyper_params.dataset_params.ver_flip',\n 'hyper_params.dataset_params.crop_size',\n 'hyper_params.dataset_params.batch_size',\n 'hyper_params.dataset_params.dataset_dir',\n 'hyper_params.dataset_params.num_classes',\n 'hyper_params.dataset_params.num_workers',\n 'hyper_params.dataset_params.return_path',\n 'hyper_params.dataset_params.test_folders',\n 'hyper_params.dataset_params.train_folders',\n 'hyper_params.dataset_params.val_batch_size',\n 'hyper_params.dataset_params.test_batch_size',\n 'hyper_params.additional_log_items.multi_gpu',\n 'hyper_params.additional_log_items.initial_LR',\n 'hyper_params.additional_log_items.device_type',\n 'hyper_params.additional_log_items.num_devices',\n 'hyper_params.additional_log_items.installed_packages',\n 'hyper_params.training_hyperparams.ema',\n 'hyper_params.training_hyperparams.loss',\n 'hyper_params.training_hyperparams.seed',\n 'hyper_params.training_hyperparams.schema.if.properties.lr_mode.const',\n 'hyper_params.training_hyperparams.schema.then.required',\n 'hyper_params.training_hyperparams.schema.type',\n 'hyper_params.training_hyperparams.schema.required',\n 'hyper_params.training_hyperparams.schema.properties.initial_lr.type',\n 'hyper_params.training_hyperparams.schema.properties.initial_lr.maximum',\n 'hyper_params.training_hyperparams.schema.properties.initial_lr.exclusiveMinimum',\n 'hyper_params.training_hyperparams.schema.properties.max_epochs.type',\n 'hyper_params.training_hyperparams.schema.properties.max_epochs.minimum',\n 'hyper_params.training_hyperparams.schema.properties.lr_decay_factor.type',\n 'hyper_params.training_hyperparams.schema.properties.lr_decay_factor.maximum',\n 'hyper_params.training_hyperparams.schema.properties.lr_decay_factor.minimum',\n 'hyper_params.training_hyperparams.schema.properties.lr_warmup_epochs.type',\n 'hyper_params.training_hyperparams.schema.properties.lr_warmup_epochs.maximum',\n 'hyper_params.training_hyperparams.schema.properties.lr_warmup_epochs.minimum',\n 'hyper_params.training_hyperparams.lr_mode',\n 'hyper_params.training_hyperparams.optimizer',\n 'hyper_params.training_hyperparams.sg_logger',\n 'hyper_params.training_hyperparams.initial_lr',\n 'hyper_params.training_hyperparams.lr_updates',\n 'hyper_params.training_hyperparams.max_epochs',\n 'hyper_params.training_hyperparams.precise_bn',\n 'hyper_params.training_hyperparams.save_model',\n 'hyper_params.training_hyperparams.silent_mode',\n 'hyper_params.training_hyperparams.warmup_mode',\n 'hyper_params.training_hyperparams.load_opt_params',\n 'hyper_params.training_hyperparams.metric_to_watch',\n 'hyper_params.training_hyperparams.mixed_precision',\n 'hyper_params.training_hyperparams.phase_callbacks',\n 'hyper_params.training_hyperparams.batch_accumulate',\n 'hyper_params.training_hyperparams.lr_warmup_epochs',\n 'hyper_params.training_hyperparams.optimizer_params.weight_decay',\n 'hyper_params.training_hyperparams.sg_logger_params.tags',\n 'hyper_params.training_hyperparams.sg_logger_params.entity',\n 'hyper_params.training_hyperparams.sg_logger_params.project_name',\n 'hyper_params.training_hyperparams.sg_logger_params.save_logs_remote',\n 'hyper_params.training_hyperparams.sg_logger_params.tensorboard_port',\n 'hyper_params.training_hyperparams.sg_logger_params.launch_tensorboard',\n 'hyper_params.training_hyperparams.sg_logger_params.tb_files_user_prompt',\n 'hyper_params.training_hyperparams.sg_logger_params.save_checkpoints_remote',\n 'hyper_params.training_hyperparams.sg_logger_params.save_tensorboard_remote',\n 'hyper_params.training_hyperparams.tensorboard_port',\n 'hyper_params.training_hyperparams.freeze_pretrained',\n 'hyper_params.training_hyperparams.warmup_initial_lr',\n 'hyper_params.training_hyperparams.dataset_statistics',\n 'hyper_params.training_hyperparams.launch_tensorboard',\n 'hyper_params.training_hyperparams.train_metrics_list',\n 'hyper_params.training_hyperparams.valid_metrics_list',\n 'hyper_params.training_hyperparams.average_best_models',\n 'hyper_params.training_hyperparams.run_validation_freq',\n 'hyper_params.training_hyperparams.save_full_train_log',\n 'hyper_params.training_hyperparams.step_lr_update_freq',\n 'hyper_params.training_hyperparams.lr_schedule_function',\n 'hyper_params.training_hyperparams.save_ckpt_epoch_list',\n 'hyper_params.training_hyperparams.tb_files_user_prompt',\n 'hyper_params.training_hyperparams.cosine_final_lr_ratio',\n 'hyper_params.training_hyperparams.precise_bn_batch_size',\n 'hyper_params.training_hyperparams.log_installed_packages',\n 'hyper_params.training_hyperparams.save_tensorboard_to_s3',\n 'hyper_params.training_hyperparams.loss_logging_items_names',\n 'hyper_params.training_hyperparams.zero_weight_decay_on_bias_and_bn',\n 'hyper_params.training_hyperparams.greater_metric_to_watch_is_better',\n 'hyper_params.arch_params.main_pretrained',\n 'hyper_params.arch_params.side_pretrained',\n 'hyper_params.arch_params.fusion_type']"
     },
     "metadata": {},
     "output_type": "display_data"
    }
   ],
   "source": [
    "filters = {\n",
    "}\n",
    "selected_cols = [\n",
    "    'in_params.model.name',\n",
    "    'in_params.model.params.backbone',\n",
    "    'f1',\n",
    "]\n",
    "roundings = ['F1']\n",
    "runs_df = get_runs(filters)\n",
    "remove_hyp(runs_df)"
   ],
   "metadata": {
    "collapsed": false,
    "pycharm": {
     "name": "#%%\n"
    }
   }
  },
  {
   "cell_type": "code",
   "execution_count": 6,
   "outputs": [],
   "source": [
    "projected_runs = runs_df[\n",
    "    selected_cols\n",
    "]\n",
    "selected_runs = projected_runs"
   ],
   "metadata": {
    "collapsed": false,
    "pycharm": {
     "name": "#%%\n"
    }
   }
  },
  {
   "cell_type": "code",
   "execution_count": 7,
   "outputs": [
    {
     "name": "stderr",
     "output_type": "stream",
     "text": [
      "C:\\Users\\PasqualeDeMarinis\\AppData\\Local\\Temp\\ipykernel_15836\\1509431000.py:1: SettingWithCopyWarning: \n",
      "A value is trying to be set on a copy of a slice from a DataFrame\n",
      "\n",
      "See the caveats in the documentation: https://pandas.pydata.org/pandas-docs/stable/user_guide/indexing.html#returning-a-view-versus-a-copy\n",
      "  selected_runs.rename(columns=renamings, inplace=True)\n",
      "C:\\Users\\PasqualeDeMarinis\\AppData\\Local\\Temp\\ipykernel_15836\\1509431000.py:3: SettingWithCopyWarning: \n",
      "A value is trying to be set on a copy of a slice from a DataFrame.\n",
      "Try using .loc[row_indexer,col_indexer] = value instead\n",
      "\n",
      "See the caveats in the documentation: https://pandas.pydata.org/pandas-docs/stable/user_guide/indexing.html#returning-a-view-versus-a-copy\n",
      "  selected_runs[roundings] = selected_runs[roundings].round(5)\n",
      "C:\\Users\\PasqualeDeMarinis\\AppData\\Local\\Temp\\ipykernel_15836\\1509431000.py:4: SettingWithCopyWarning: \n",
      "A value is trying to be set on a copy of a slice from a DataFrame\n",
      "\n",
      "See the caveats in the documentation: https://pandas.pydata.org/pandas-docs/stable/user_guide/indexing.html#returning-a-view-versus-a-copy\n",
      "  selected_runs.fillna(0, inplace=True)\n",
      "C:\\Users\\PasqualeDeMarinis\\AppData\\Local\\Temp\\ipykernel_15836\\1509431000.py:8: SettingWithCopyWarning: \n",
      "A value is trying to be set on a copy of a slice from a DataFrame.\n",
      "Try using .loc[row_indexer,col_indexer] = value instead\n",
      "\n",
      "See the caveats in the documentation: https://pandas.pydata.org/pandas-docs/stable/user_guide/indexing.html#returning-a-view-versus-a-copy\n",
      "  best_runs[roundings] = best_runs[roundings].round(3)\n"
     ]
    }
   ],
   "source": [
    "selected_runs.rename(columns=renamings, inplace=True)\n",
    "rename_values(selected_runs, value_renamings)\n",
    "selected_runs[roundings] = selected_runs[roundings].round(5)\n",
    "selected_runs.fillna(0, inplace=True)\n",
    "selected_runs = selected_runs.applymap(lambda x: ', '.join(x) if isinstance(x, list) else x)\n",
    "idx = selected_runs.groupby(by=['Model', 'Backbone'])['F1'].transform(max) == selected_runs['F1']\n",
    "best_runs = selected_runs[idx]\n",
    "best_runs[roundings] = best_runs[roundings].round(3)\n",
    "selected_runs[roundings] = selected_runs[roundings].round(3)"
   ],
   "metadata": {
    "collapsed": false,
    "pycharm": {
     "name": "#%%\n"
    }
   }
  },
  {
   "cell_type": "code",
   "execution_count": 8,
   "outputs": [
    {
     "data": {
      "text/plain": "            Model Backbone     F1\n34    doublelawin   MiT-B1  0.595\n55     splitlawin   MiT-B1  0.663\n89     splitlawin   MiT-B0  0.597\n96    doublelawin   MiT-B0  0.609\n121   splitlaweed   MiT-B0  0.638\n136             0        0  0.000\n151  doublelaweed   MiT-B0  0.599\n180        laweed   MiT-B0  0.622\n188         lawin   MiT-B0  0.646\n238         lawin   MiT-B1  0.685\n405         lawin   MiT-B5  0.482\n425        segnet        0  0.505\n450        random        0  0.172",
      "text/html": "<div>\n<style scoped>\n    .dataframe tbody tr th:only-of-type {\n        vertical-align: middle;\n    }\n\n    .dataframe tbody tr th {\n        vertical-align: top;\n    }\n\n    .dataframe thead th {\n        text-align: right;\n    }\n</style>\n<table border=\"1\" class=\"dataframe\">\n  <thead>\n    <tr style=\"text-align: right;\">\n      <th></th>\n      <th>Model</th>\n      <th>Backbone</th>\n      <th>F1</th>\n    </tr>\n  </thead>\n  <tbody>\n    <tr>\n      <th>34</th>\n      <td>doublelawin</td>\n      <td>MiT-B1</td>\n      <td>0.595</td>\n    </tr>\n    <tr>\n      <th>55</th>\n      <td>splitlawin</td>\n      <td>MiT-B1</td>\n      <td>0.663</td>\n    </tr>\n    <tr>\n      <th>89</th>\n      <td>splitlawin</td>\n      <td>MiT-B0</td>\n      <td>0.597</td>\n    </tr>\n    <tr>\n      <th>96</th>\n      <td>doublelawin</td>\n      <td>MiT-B0</td>\n      <td>0.609</td>\n    </tr>\n    <tr>\n      <th>121</th>\n      <td>splitlaweed</td>\n      <td>MiT-B0</td>\n      <td>0.638</td>\n    </tr>\n    <tr>\n      <th>136</th>\n      <td>0</td>\n      <td>0</td>\n      <td>0.000</td>\n    </tr>\n    <tr>\n      <th>151</th>\n      <td>doublelaweed</td>\n      <td>MiT-B0</td>\n      <td>0.599</td>\n    </tr>\n    <tr>\n      <th>180</th>\n      <td>laweed</td>\n      <td>MiT-B0</td>\n      <td>0.622</td>\n    </tr>\n    <tr>\n      <th>188</th>\n      <td>lawin</td>\n      <td>MiT-B0</td>\n      <td>0.646</td>\n    </tr>\n    <tr>\n      <th>238</th>\n      <td>lawin</td>\n      <td>MiT-B1</td>\n      <td>0.685</td>\n    </tr>\n    <tr>\n      <th>405</th>\n      <td>lawin</td>\n      <td>MiT-B5</td>\n      <td>0.482</td>\n    </tr>\n    <tr>\n      <th>425</th>\n      <td>segnet</td>\n      <td>0</td>\n      <td>0.505</td>\n    </tr>\n    <tr>\n      <th>450</th>\n      <td>random</td>\n      <td>0</td>\n      <td>0.172</td>\n    </tr>\n  </tbody>\n</table>\n</div>"
     },
     "execution_count": 8,
     "metadata": {},
     "output_type": "execute_result"
    }
   ],
   "source": [
    "best_runs"
   ],
   "metadata": {
    "collapsed": false,
    "pycharm": {
     "name": "#%%\n"
    }
   }
  },
  {
   "cell_type": "code",
   "execution_count": 9,
   "outputs": [
    {
     "data": {
      "text/plain": "['hyper_params.arch_params.schema',\n 'hyper_params.arch_params.sync_bn',\n 'hyper_params.arch_params.backbone',\n 'hyper_params.arch_params.in_channels',\n 'hyper_params.arch_params.num_classes',\n 'hyper_params.arch_params.out_channels',\n 'hyper_params.arch_params.main_channels',\n 'hyper_params.arch_params.input_channels',\n 'hyper_params.arch_params.output_channels',\n 'hyper_params.arch_params.backbone_pretrained',\n 'hyper_params.dataset_params.root',\n 'hyper_params.dataset_params.size',\n 'hyper_params.dataset_params.schema',\n 'hyper_params.dataset_params.s3_link',\n 'hyper_params.dataset_params.channels',\n 'hyper_params.dataset_params.hor_flip',\n 'hyper_params.dataset_params.ver_flip',\n 'hyper_params.dataset_params.crop_size',\n 'hyper_params.dataset_params.batch_size',\n 'hyper_params.dataset_params.dataset_dir',\n 'hyper_params.dataset_params.num_classes',\n 'hyper_params.dataset_params.num_workers',\n 'hyper_params.dataset_params.return_path',\n 'hyper_params.dataset_params.test_folders',\n 'hyper_params.dataset_params.train_folders',\n 'hyper_params.dataset_params.val_batch_size',\n 'hyper_params.dataset_params.test_batch_size',\n 'hyper_params.additional_log_items.multi_gpu',\n 'hyper_params.additional_log_items.initial_LR',\n 'hyper_params.additional_log_items.device_type',\n 'hyper_params.additional_log_items.num_devices',\n 'hyper_params.additional_log_items.installed_packages',\n 'hyper_params.training_hyperparams.ema',\n 'hyper_params.training_hyperparams.loss',\n 'hyper_params.training_hyperparams.seed',\n 'hyper_params.training_hyperparams.schema.if.properties.lr_mode.const',\n 'hyper_params.training_hyperparams.schema.then.required',\n 'hyper_params.training_hyperparams.schema.type',\n 'hyper_params.training_hyperparams.schema.required',\n 'hyper_params.training_hyperparams.schema.properties.initial_lr.type',\n 'hyper_params.training_hyperparams.schema.properties.initial_lr.maximum',\n 'hyper_params.training_hyperparams.schema.properties.initial_lr.exclusiveMinimum',\n 'hyper_params.training_hyperparams.schema.properties.max_epochs.type',\n 'hyper_params.training_hyperparams.schema.properties.max_epochs.minimum',\n 'hyper_params.training_hyperparams.schema.properties.lr_decay_factor.type',\n 'hyper_params.training_hyperparams.schema.properties.lr_decay_factor.maximum',\n 'hyper_params.training_hyperparams.schema.properties.lr_decay_factor.minimum',\n 'hyper_params.training_hyperparams.schema.properties.lr_warmup_epochs.type',\n 'hyper_params.training_hyperparams.schema.properties.lr_warmup_epochs.maximum',\n 'hyper_params.training_hyperparams.schema.properties.lr_warmup_epochs.minimum',\n 'hyper_params.training_hyperparams.lr_mode',\n 'hyper_params.training_hyperparams.optimizer',\n 'hyper_params.training_hyperparams.sg_logger',\n 'hyper_params.training_hyperparams.initial_lr',\n 'hyper_params.training_hyperparams.lr_updates',\n 'hyper_params.training_hyperparams.max_epochs',\n 'hyper_params.training_hyperparams.precise_bn',\n 'hyper_params.training_hyperparams.save_model',\n 'hyper_params.training_hyperparams.silent_mode',\n 'hyper_params.training_hyperparams.warmup_mode',\n 'hyper_params.training_hyperparams.load_opt_params',\n 'hyper_params.training_hyperparams.metric_to_watch',\n 'hyper_params.training_hyperparams.mixed_precision',\n 'hyper_params.training_hyperparams.phase_callbacks',\n 'hyper_params.training_hyperparams.batch_accumulate',\n 'hyper_params.training_hyperparams.lr_warmup_epochs',\n 'hyper_params.training_hyperparams.optimizer_params.weight_decay',\n 'hyper_params.training_hyperparams.sg_logger_params.tags',\n 'hyper_params.training_hyperparams.sg_logger_params.entity',\n 'hyper_params.training_hyperparams.sg_logger_params.project_name',\n 'hyper_params.training_hyperparams.sg_logger_params.save_logs_remote',\n 'hyper_params.training_hyperparams.sg_logger_params.tensorboard_port',\n 'hyper_params.training_hyperparams.sg_logger_params.launch_tensorboard',\n 'hyper_params.training_hyperparams.sg_logger_params.tb_files_user_prompt',\n 'hyper_params.training_hyperparams.sg_logger_params.save_checkpoints_remote',\n 'hyper_params.training_hyperparams.sg_logger_params.save_tensorboard_remote',\n 'hyper_params.training_hyperparams.tensorboard_port',\n 'hyper_params.training_hyperparams.freeze_pretrained',\n 'hyper_params.training_hyperparams.warmup_initial_lr',\n 'hyper_params.training_hyperparams.dataset_statistics',\n 'hyper_params.training_hyperparams.launch_tensorboard',\n 'hyper_params.training_hyperparams.train_metrics_list',\n 'hyper_params.training_hyperparams.valid_metrics_list',\n 'hyper_params.training_hyperparams.average_best_models',\n 'hyper_params.training_hyperparams.run_validation_freq',\n 'hyper_params.training_hyperparams.save_full_train_log',\n 'hyper_params.training_hyperparams.step_lr_update_freq',\n 'hyper_params.training_hyperparams.lr_schedule_function',\n 'hyper_params.training_hyperparams.save_ckpt_epoch_list',\n 'hyper_params.training_hyperparams.tb_files_user_prompt',\n 'hyper_params.training_hyperparams.cosine_final_lr_ratio',\n 'hyper_params.training_hyperparams.precise_bn_batch_size',\n 'hyper_params.training_hyperparams.log_installed_packages',\n 'hyper_params.training_hyperparams.save_tensorboard_to_s3',\n 'hyper_params.training_hyperparams.loss_logging_items_names',\n 'hyper_params.training_hyperparams.zero_weight_decay_on_bias_and_bn',\n 'hyper_params.training_hyperparams.greater_metric_to_watch_is_better',\n 'hyper_params.arch_params.main_pretrained',\n 'hyper_params.arch_params.side_pretrained',\n 'hyper_params.arch_params.fusion_type']"
     },
     "metadata": {},
     "output_type": "display_data"
    }
   ],
   "source": [
    "filters = {\n",
    "}\n",
    "selected_cols = [\n",
    "    'in_params.dataset.channels',\n",
    "    'in_params.model.name',\n",
    "    'in_params.model.params.backbone',\n",
    "    'f1',\n",
    "]\n",
    "roundings = ['F1']\n",
    "runs_df = get_runs(filters)\n",
    "remove_hyp(runs_df)\n",
    "\n",
    "projected_runs = runs_df[\n",
    "    selected_cols\n",
    "]\n",
    "selected_runs = projected_runs"
   ],
   "metadata": {
    "collapsed": false,
    "pycharm": {
     "name": "#%%\n"
    }
   }
  },
  {
   "cell_type": "code",
   "execution_count": 10,
   "outputs": [
    {
     "name": "stderr",
     "output_type": "stream",
     "text": [
      "C:\\Users\\PasqualeDeMarinis\\AppData\\Local\\Temp\\ipykernel_15836\\2452519722.py:1: SettingWithCopyWarning: \n",
      "A value is trying to be set on a copy of a slice from a DataFrame\n",
      "\n",
      "See the caveats in the documentation: https://pandas.pydata.org/pandas-docs/stable/user_guide/indexing.html#returning-a-view-versus-a-copy\n",
      "  selected_runs.rename(columns=renamings, inplace=True)\n",
      "C:\\Users\\PasqualeDeMarinis\\AppData\\Local\\Temp\\ipykernel_15836\\2452519722.py:3: SettingWithCopyWarning: \n",
      "A value is trying to be set on a copy of a slice from a DataFrame.\n",
      "Try using .loc[row_indexer,col_indexer] = value instead\n",
      "\n",
      "See the caveats in the documentation: https://pandas.pydata.org/pandas-docs/stable/user_guide/indexing.html#returning-a-view-versus-a-copy\n",
      "  selected_runs[roundings] = selected_runs[roundings].round(5)\n",
      "C:\\Users\\PasqualeDeMarinis\\AppData\\Local\\Temp\\ipykernel_15836\\2452519722.py:4: SettingWithCopyWarning: \n",
      "A value is trying to be set on a copy of a slice from a DataFrame\n",
      "\n",
      "See the caveats in the documentation: https://pandas.pydata.org/pandas-docs/stable/user_guide/indexing.html#returning-a-view-versus-a-copy\n",
      "  selected_runs.fillna(0, inplace=True)\n",
      "C:\\Users\\PasqualeDeMarinis\\AppData\\Local\\Temp\\ipykernel_15836\\2452519722.py:8: SettingWithCopyWarning: \n",
      "A value is trying to be set on a copy of a slice from a DataFrame.\n",
      "Try using .loc[row_indexer,col_indexer] = value instead\n",
      "\n",
      "See the caveats in the documentation: https://pandas.pydata.org/pandas-docs/stable/user_guide/indexing.html#returning-a-view-versus-a-copy\n",
      "  best_runs_channel[roundings] = best_runs_channel[roundings].round(3)\n"
     ]
    },
    {
     "data": {
      "text/plain": "                           Channels        Model Backbone     F1\n18                             R, G       laweed   MiT-B0  0.549\n52                         R, G, RE   splitlawin   MiT-B1  0.607\n55                    R, G, NIR, RE   splitlawin   MiT-B1  0.663\n58                              CIR        lawin   MiT-B1  0.669\n73   NIR, G, R, G, NDVI, NIR, R, RE       segnet        0  0.338\n96                          G, NDVI  doublelawin   MiT-B0  0.609\n106                       R, G, NIR   splitlawin   MiT-B0  0.587\n121                      R, G, NDVI  splitlaweed   MiT-B0  0.638\n238                            NDVI        lawin   MiT-B1  0.685\n298                       G, NIR, R        lawin   MiT-B1  0.620\n327                   R, G, RE, NIR        lawin   MiT-B0  0.495\n425             G, NDVI, NIR, R, RE       segnet        0  0.505\n450                               0       random        0  0.172",
      "text/html": "<div>\n<style scoped>\n    .dataframe tbody tr th:only-of-type {\n        vertical-align: middle;\n    }\n\n    .dataframe tbody tr th {\n        vertical-align: top;\n    }\n\n    .dataframe thead th {\n        text-align: right;\n    }\n</style>\n<table border=\"1\" class=\"dataframe\">\n  <thead>\n    <tr style=\"text-align: right;\">\n      <th></th>\n      <th>Channels</th>\n      <th>Model</th>\n      <th>Backbone</th>\n      <th>F1</th>\n    </tr>\n  </thead>\n  <tbody>\n    <tr>\n      <th>18</th>\n      <td>R, G</td>\n      <td>laweed</td>\n      <td>MiT-B0</td>\n      <td>0.549</td>\n    </tr>\n    <tr>\n      <th>52</th>\n      <td>R, G, RE</td>\n      <td>splitlawin</td>\n      <td>MiT-B1</td>\n      <td>0.607</td>\n    </tr>\n    <tr>\n      <th>55</th>\n      <td>R, G, NIR, RE</td>\n      <td>splitlawin</td>\n      <td>MiT-B1</td>\n      <td>0.663</td>\n    </tr>\n    <tr>\n      <th>58</th>\n      <td>CIR</td>\n      <td>lawin</td>\n      <td>MiT-B1</td>\n      <td>0.669</td>\n    </tr>\n    <tr>\n      <th>73</th>\n      <td>NIR, G, R, G, NDVI, NIR, R, RE</td>\n      <td>segnet</td>\n      <td>0</td>\n      <td>0.338</td>\n    </tr>\n    <tr>\n      <th>96</th>\n      <td>G, NDVI</td>\n      <td>doublelawin</td>\n      <td>MiT-B0</td>\n      <td>0.609</td>\n    </tr>\n    <tr>\n      <th>106</th>\n      <td>R, G, NIR</td>\n      <td>splitlawin</td>\n      <td>MiT-B0</td>\n      <td>0.587</td>\n    </tr>\n    <tr>\n      <th>121</th>\n      <td>R, G, NDVI</td>\n      <td>splitlaweed</td>\n      <td>MiT-B0</td>\n      <td>0.638</td>\n    </tr>\n    <tr>\n      <th>238</th>\n      <td>NDVI</td>\n      <td>lawin</td>\n      <td>MiT-B1</td>\n      <td>0.685</td>\n    </tr>\n    <tr>\n      <th>298</th>\n      <td>G, NIR, R</td>\n      <td>lawin</td>\n      <td>MiT-B1</td>\n      <td>0.620</td>\n    </tr>\n    <tr>\n      <th>327</th>\n      <td>R, G, RE, NIR</td>\n      <td>lawin</td>\n      <td>MiT-B0</td>\n      <td>0.495</td>\n    </tr>\n    <tr>\n      <th>425</th>\n      <td>G, NDVI, NIR, R, RE</td>\n      <td>segnet</td>\n      <td>0</td>\n      <td>0.505</td>\n    </tr>\n    <tr>\n      <th>450</th>\n      <td>0</td>\n      <td>random</td>\n      <td>0</td>\n      <td>0.172</td>\n    </tr>\n  </tbody>\n</table>\n</div>"
     },
     "execution_count": 10,
     "metadata": {},
     "output_type": "execute_result"
    }
   ],
   "source": [
    "selected_runs.rename(columns=renamings, inplace=True)\n",
    "rename_values(selected_runs, value_renamings)\n",
    "selected_runs[roundings] = selected_runs[roundings].round(5)\n",
    "selected_runs.fillna(0, inplace=True)\n",
    "selected_runs = selected_runs.applymap(lambda x: ', '.join(x) if isinstance(x, list) else x)\n",
    "idx = selected_runs.groupby(by=['Channels'])['F1'].transform(max) == selected_runs['F1']\n",
    "best_runs_channel = selected_runs[idx]\n",
    "best_runs_channel[roundings] = best_runs_channel[roundings].round(3)\n",
    "selected_runs[roundings] = selected_runs[roundings].round(3)\n",
    "best_runs_channel"
   ],
   "metadata": {
    "collapsed": false,
    "pycharm": {
     "name": "#%%\n"
    }
   }
  },
  {
   "cell_type": "code",
   "execution_count": null,
   "outputs": [],
   "source": [],
   "metadata": {
    "collapsed": false,
    "pycharm": {
     "name": "#%%\n"
    }
   }
  }
 ],
 "metadata": {
  "kernelspec": {
   "display_name": "Python 3",
   "language": "python",
   "name": "python3"
  },
  "language_info": {
   "codemirror_mode": {
    "name": "ipython",
    "version": 2
   },
   "file_extension": ".py",
   "mimetype": "text/x-python",
   "name": "python",
   "nbconvert_exporter": "python",
   "pygments_lexer": "ipython2",
   "version": "2.7.6"
  }
 },
 "nbformat": 4,
 "nbformat_minor": 0
}