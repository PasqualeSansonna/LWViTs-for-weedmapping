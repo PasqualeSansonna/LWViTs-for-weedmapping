{
 "cells": [
  {
   "cell_type": "code",
   "execution_count": 1,
   "metadata": {
    "collapsed": true,
    "pycharm": {
     "name": "#%%\n"
    }
   },
   "outputs": [],
   "source": [
    "import pandas as pd\n",
    "import wandb\n",
    "from wd.utils.utils import mlflow_linearize"
   ]
  },
  {
   "cell_type": "code",
   "execution_count": 2,
   "outputs": [],
   "source": [
    "from IPython.core.display_functions import display\n",
    "\n",
    "\n",
    "def get_runs(run_filters):\n",
    "    # Project is specified by <entity/project-name>\n",
    "    runs = api.runs(\"pasqualedem/weeddetection\", filters=run_filters)\n",
    "\n",
    "    summary_list, config_list, name_list = [], [], []\n",
    "    for run in runs:\n",
    "        # .summary contains the output keys/values for metrics like accuracy.\n",
    "        #  We call ._json_dict to omit large files\n",
    "        summary_list.append(run.summary._json_dict)\n",
    "\n",
    "        # .config contains the hyperparameters.\n",
    "        #  We remove special values that start with _.\n",
    "        config_list.append(\n",
    "            {k: v for k,v in run.config.items()\n",
    "              if not k.startswith('_')})\n",
    "\n",
    "        # .name is the human-readable name of the run.\n",
    "        name_list.append(run.name)\n",
    "    df = pd.DataFrame([{**mlflow_linearize(dc), **mlflow_linearize(ds)} for dc, ds in zip(config_list, summary_list)])\n",
    "    return df\n",
    "\n",
    "def remove_hyp(df):\n",
    "    to_delete = filter(lambda x: x.startswith('hyper_params'), df.columns)\n",
    "    display(list(to_delete))\n",
    "    for l in to_delete:\n",
    "        df.drop(l, inplace=True)\n",
    "\n",
    "def rename_values(df: pd.DataFrame, vrenamings: dict):\n",
    "    for column, values in vrenamings.items():\n",
    "        if column in df.columns:\n",
    "            df[column] = df[column].replace(values)"
   ],
   "metadata": {
    "collapsed": false,
    "pycharm": {
     "name": "#%%\n"
    }
   }
  },
  {
   "cell_type": "code",
   "execution_count": 3,
   "outputs": [],
   "source": [
    "api = wandb.Api()"
   ],
   "metadata": {
    "collapsed": false,
    "pycharm": {
     "name": "#%%\n"
    }
   }
  },
  {
   "cell_type": "code",
   "execution_count": 105,
   "outputs": [],
   "source": [
    "renamings = {\n",
    "    'in_params.dataset.channels': 'Channels',\n",
    "    'in_params.train_params.optimizer_params.weight_decay': \"Weight Decay\",\n",
    "    'in_params.train_params.initial_lr': 'LR',\n",
    "    'in_params.model.name': 'Model',\n",
    "    'in_params.model.params.backbone': 'Backbone',\n",
    "    'in_params.train_params.freeze_pretrained': 'Strategy',\n",
    "    'train_WrapF1': 'Train F1',\n",
    "    'f1': 'F1',\n",
    "    'in_params.dataset.batch_size': 'Batch Size',\n",
    "    'precision': 'Precision',\n",
    "    'in_params.train_params.loss.params.gamma': 'Gamma',\n",
    "    'in_params.model.params.fusion_type': 'DropPath',\n",
    "    'recall': 'Recall'\n",
    "}\n",
    "value_renamings = {\n",
    "    'Strategy': {True: 'Freeze', False: 'Fine-Tuning'},\n",
    "    'DropPath': {'conv_sum_drop': 'Yes', 'conv_sum': 'No'}\n",
    "}\n",
    "channels_ordering = {\n",
    "    \"G, NDVI, NIR, R, RE\" : 1,\n",
    "    \"R, G, NIR, RE\": 2,\n",
    "    \"R, G, RE, NIR\": 2,\n",
    "    \"R, G, RE\": 3,\n",
    "    \"G, NIR, R\": 3,\n",
    "    \"R, G, NIR\": 4,\n",
    "    \"R, G, NDVI\": 5,\n",
    "    \"R, G\": 6,\n",
    "    \"CIR\": 7,\n",
    "    \"NDVI\": 8,\n",
    "    'Fine-Tuning': 1,\n",
    "    'Freeze': 2\n",
    "}"
   ],
   "metadata": {
    "collapsed": false,
    "pycharm": {
     "name": "#%%\n"
    }
   }
  },
  {
   "cell_type": "markdown",
   "source": [],
   "metadata": {
    "collapsed": false,
    "pycharm": {
     "name": "#%% md\n"
    }
   }
  },
  {
   "cell_type": "markdown",
   "source": [
    "## Lawin"
   ],
   "metadata": {
    "collapsed": false,
    "pycharm": {
     "name": "#%% md\n"
    }
   }
  },
  {
   "cell_type": "code",
   "execution_count": 167,
   "outputs": [],
   "source": [
    "filters = {\n",
    "    'group': 'Lawin'\n",
    "}\n",
    "selected_cols = [\n",
    "    'in_params.dataset.channels',\n",
    "    'in_params.train_params.optimizer_params.weight_decay',\n",
    "    'in_params.train_params.initial_lr',\n",
    "    'in_params.model.params.backbone',\n",
    "    # 'in_params.model.name',\n",
    "    'f1',\n",
    "    'precision',\n",
    "    'recall'\n",
    "]\n",
    "roundings = ['F1', 'Precision', 'Recall']"
   ],
   "metadata": {
    "collapsed": false,
    "pycharm": {
     "name": "#%%\n"
    }
   }
  },
  {
   "cell_type": "code",
   "execution_count": 168,
   "outputs": [
    {
     "data": {
      "text/plain": "['hyper_params.arch_params.schema',\n 'hyper_params.arch_params.sync_bn',\n 'hyper_params.arch_params.backbone',\n 'hyper_params.arch_params.in_channels',\n 'hyper_params.arch_params.num_classes',\n 'hyper_params.arch_params.out_channels',\n 'hyper_params.arch_params.input_channels',\n 'hyper_params.arch_params.output_channels',\n 'hyper_params.dataset_params.root',\n 'hyper_params.dataset_params.size',\n 'hyper_params.dataset_params.schema',\n 'hyper_params.dataset_params.s3_link',\n 'hyper_params.dataset_params.channels',\n 'hyper_params.dataset_params.hor_flip',\n 'hyper_params.dataset_params.ver_flip',\n 'hyper_params.dataset_params.crop_size',\n 'hyper_params.dataset_params.batch_size',\n 'hyper_params.dataset_params.dataset_dir',\n 'hyper_params.dataset_params.num_classes',\n 'hyper_params.dataset_params.num_workers',\n 'hyper_params.dataset_params.return_path',\n 'hyper_params.dataset_params.test_folders',\n 'hyper_params.dataset_params.train_folders',\n 'hyper_params.dataset_params.val_batch_size',\n 'hyper_params.dataset_params.test_batch_size',\n 'hyper_params.additional_log_items.multi_gpu',\n 'hyper_params.additional_log_items.initial_LR',\n 'hyper_params.additional_log_items.device_type',\n 'hyper_params.additional_log_items.num_devices',\n 'hyper_params.additional_log_items.installed_packages',\n 'hyper_params.training_hyperparams.ema',\n 'hyper_params.training_hyperparams.loss',\n 'hyper_params.training_hyperparams.seed',\n 'hyper_params.training_hyperparams.schema.if.properties.lr_mode.const',\n 'hyper_params.training_hyperparams.schema.then.required',\n 'hyper_params.training_hyperparams.schema.type',\n 'hyper_params.training_hyperparams.schema.required',\n 'hyper_params.training_hyperparams.schema.properties.initial_lr.type',\n 'hyper_params.training_hyperparams.schema.properties.initial_lr.maximum',\n 'hyper_params.training_hyperparams.schema.properties.initial_lr.exclusiveMinimum',\n 'hyper_params.training_hyperparams.schema.properties.max_epochs.type',\n 'hyper_params.training_hyperparams.schema.properties.max_epochs.minimum',\n 'hyper_params.training_hyperparams.schema.properties.lr_decay_factor.type',\n 'hyper_params.training_hyperparams.schema.properties.lr_decay_factor.maximum',\n 'hyper_params.training_hyperparams.schema.properties.lr_decay_factor.minimum',\n 'hyper_params.training_hyperparams.schema.properties.lr_warmup_epochs.type',\n 'hyper_params.training_hyperparams.schema.properties.lr_warmup_epochs.maximum',\n 'hyper_params.training_hyperparams.schema.properties.lr_warmup_epochs.minimum',\n 'hyper_params.training_hyperparams.lr_mode',\n 'hyper_params.training_hyperparams.optimizer',\n 'hyper_params.training_hyperparams.sg_logger',\n 'hyper_params.training_hyperparams.initial_lr',\n 'hyper_params.training_hyperparams.lr_updates',\n 'hyper_params.training_hyperparams.max_epochs',\n 'hyper_params.training_hyperparams.precise_bn',\n 'hyper_params.training_hyperparams.save_model',\n 'hyper_params.training_hyperparams.silent_mode',\n 'hyper_params.training_hyperparams.warmup_mode',\n 'hyper_params.training_hyperparams.load_opt_params',\n 'hyper_params.training_hyperparams.metric_to_watch',\n 'hyper_params.training_hyperparams.mixed_precision',\n 'hyper_params.training_hyperparams.phase_callbacks',\n 'hyper_params.training_hyperparams.batch_accumulate',\n 'hyper_params.training_hyperparams.lr_warmup_epochs',\n 'hyper_params.training_hyperparams.optimizer_params.weight_decay',\n 'hyper_params.training_hyperparams.sg_logger_params.tags',\n 'hyper_params.training_hyperparams.sg_logger_params.entity',\n 'hyper_params.training_hyperparams.sg_logger_params.project_name',\n 'hyper_params.training_hyperparams.sg_logger_params.save_logs_remote',\n 'hyper_params.training_hyperparams.sg_logger_params.tensorboard_port',\n 'hyper_params.training_hyperparams.sg_logger_params.launch_tensorboard',\n 'hyper_params.training_hyperparams.sg_logger_params.tb_files_user_prompt',\n 'hyper_params.training_hyperparams.sg_logger_params.save_checkpoints_remote',\n 'hyper_params.training_hyperparams.sg_logger_params.save_tensorboard_remote',\n 'hyper_params.training_hyperparams.tensorboard_port',\n 'hyper_params.training_hyperparams.warmup_initial_lr',\n 'hyper_params.training_hyperparams.dataset_statistics',\n 'hyper_params.training_hyperparams.launch_tensorboard',\n 'hyper_params.training_hyperparams.train_metrics_list',\n 'hyper_params.training_hyperparams.valid_metrics_list',\n 'hyper_params.training_hyperparams.average_best_models',\n 'hyper_params.training_hyperparams.run_validation_freq',\n 'hyper_params.training_hyperparams.save_full_train_log',\n 'hyper_params.training_hyperparams.step_lr_update_freq',\n 'hyper_params.training_hyperparams.lr_schedule_function',\n 'hyper_params.training_hyperparams.save_ckpt_epoch_list',\n 'hyper_params.training_hyperparams.tb_files_user_prompt',\n 'hyper_params.training_hyperparams.cosine_final_lr_ratio',\n 'hyper_params.training_hyperparams.precise_bn_batch_size',\n 'hyper_params.training_hyperparams.log_installed_packages',\n 'hyper_params.training_hyperparams.save_tensorboard_to_s3',\n 'hyper_params.training_hyperparams.loss_logging_items_names',\n 'hyper_params.training_hyperparams.zero_weight_decay_on_bias_and_bn',\n 'hyper_params.training_hyperparams.greater_metric_to_watch_is_better']"
     },
     "metadata": {},
     "output_type": "display_data"
    }
   ],
   "source": [
    "runs_df = get_runs(filters)\n",
    "remove_hyp(runs_df)"
   ],
   "metadata": {
    "collapsed": false,
    "pycharm": {
     "name": "#%%\n"
    }
   }
  },
  {
   "cell_type": "code",
   "execution_count": 169,
   "outputs": [
    {
     "data": {
      "text/plain": "   in_params.tags in_params.model.name in_params.model.params.backbone  \\\n0      [crop, B0]                lawin                          MiT-B0   \n1      [crop, B0]                lawin                          MiT-B0   \n2      [crop, B0]                lawin                          MiT-B0   \n3      [crop, B0]                lawin                          MiT-B0   \n4      [crop, B0]                lawin                          MiT-B0   \n5      [crop, B0]                lawin                          MiT-B0   \n6      [crop, B0]                lawin                          MiT-B0   \n7      [crop, B0]                lawin                          MiT-B0   \n8      [crop, B0]                lawin                          MiT-B0   \n9      [crop, B0]                lawin                          MiT-B0   \n10     [crop, B0]                lawin                          MiT-B0   \n11     [crop, B0]                lawin                          MiT-B0   \n12     [crop, B0]                lawin                          MiT-B0   \n13     [crop, B0]                lawin                          MiT-B0   \n14     [crop, B0]                lawin                          MiT-B0   \n15     [crop, B0]                lawin                          MiT-B0   \n16     [crop, B0]                lawin                          MiT-B0   \n17     [crop, B0]                lawin                          MiT-B0   \n18     [crop, B0]                lawin                          MiT-B0   \n19     [crop, B0]                lawin                          MiT-B0   \n20     [crop, B0]                lawin                          MiT-B0   \n21     [crop, B0]                lawin                          MiT-B0   \n22     [crop, B0]                lawin                          MiT-B0   \n23     [crop, B0]                lawin                          MiT-B0   \n24         [crop]                lawin                          MiT-B5   \n25         [crop]                lawin                          MiT-B5   \n26         [crop]                lawin                          MiT-B5   \n27         [crop]                lawin                          MiT-B5   \n28         [crop]                lawin                          MiT-B5   \n29         [crop]                lawin                          MiT-B5   \n30         [crop]                lawin                          MiT-B5   \n31         [crop]                lawin                          MiT-B5   \n32         [crop]                lawin                          MiT-B5   \n33         [crop]                lawin                          MiT-B5   \n34         [crop]                lawin                          MiT-B5   \n35         [crop]                lawin                          MiT-B5   \n36         [crop]                lawin                          MiT-B5   \n37         [crop]                lawin                          MiT-B5   \n38         [crop]                lawin                          MiT-B5   \n39         [crop]                lawin                          MiT-B5   \n40         [crop]                lawin                          MiT-B5   \n41         [crop]                lawin                          MiT-B5   \n42         [crop]                lawin                          MiT-B5   \n43         [crop]                lawin                          MiT-B5   \n44         [crop]                lawin                          MiT-B5   \n45         [crop]                lawin                          MiT-B5   \n46         [crop]                lawin                          MiT-B5   \n47         [crop]                lawin                          MiT-B5   \n\n   in_params.phases     in_params.dataset.root in_params.dataset.size  \\\n0     [train, test]  dataset/processed/Sequoia                   same   \n1     [train, test]  dataset/processed/Sequoia                   same   \n2     [train, test]  dataset/processed/Sequoia                   same   \n3     [train, test]  dataset/processed/Sequoia                   same   \n4     [train, test]  dataset/processed/Sequoia                   same   \n5     [train, test]  dataset/processed/Sequoia                   same   \n6     [train, test]  dataset/processed/Sequoia                   same   \n7     [train, test]  dataset/processed/Sequoia                   same   \n8     [train, test]  dataset/processed/Sequoia                   same   \n9     [train, test]  dataset/processed/Sequoia                   same   \n10    [train, test]  dataset/processed/Sequoia                   same   \n11    [train, test]  dataset/processed/Sequoia                   same   \n12    [train, test]  dataset/processed/Sequoia                   same   \n13    [train, test]  dataset/processed/Sequoia                   same   \n14    [train, test]  dataset/processed/Sequoia                   same   \n15    [train, test]  dataset/processed/Sequoia                   same   \n16    [train, test]  dataset/processed/Sequoia                   same   \n17    [train, test]  dataset/processed/Sequoia                   same   \n18    [train, test]  dataset/processed/Sequoia                   same   \n19    [train, test]  dataset/processed/Sequoia                   same   \n20    [train, test]  dataset/processed/Sequoia                   same   \n21    [train, test]  dataset/processed/Sequoia                   same   \n22    [train, test]  dataset/processed/Sequoia                   same   \n23    [train, test]  dataset/processed/Sequoia                   same   \n24    [train, test]  dataset/processed/Sequoia                   same   \n25    [train, test]  dataset/processed/Sequoia                   same   \n26    [train, test]  dataset/processed/Sequoia                   same   \n27    [train, test]  dataset/processed/Sequoia                   same   \n28    [train, test]  dataset/processed/Sequoia                   same   \n29    [train, test]  dataset/processed/Sequoia                   same   \n30    [train, test]  dataset/processed/Sequoia                   same   \n31    [train, test]  dataset/processed/Sequoia                   same   \n32    [train, test]  dataset/processed/Sequoia                   same   \n33    [train, test]  dataset/processed/Sequoia                   same   \n34    [train, test]  dataset/processed/Sequoia                   same   \n35    [train, test]  dataset/processed/Sequoia                   same   \n36    [train, test]  dataset/processed/Sequoia                   same   \n37    [train, test]  dataset/processed/Sequoia                   same   \n38    [train, test]  dataset/processed/Sequoia                   same   \n39    [train, test]  dataset/processed/Sequoia                   same   \n40    [train, test]  dataset/processed/Sequoia                   same   \n41    [train, test]  dataset/processed/Sequoia                   same   \n42    [train, test]  dataset/processed/Sequoia                   same   \n43    [train, test]  dataset/processed/Sequoia                   same   \n44    [train, test]  dataset/processed/Sequoia                   same   \n45    [train, test]  dataset/processed/Sequoia                   same   \n46    [train, test]  dataset/processed/Sequoia                   same   \n47    [train, test]  dataset/processed/Sequoia                   same   \n\n   in_params.dataset.channels  in_params.dataset.hor_flip  \\\n0       [G, NDVI, NIR, R, RE]                        True   \n1             [R, G, RE, NIR]                        True   \n2                 [G, NIR, R]                        True   \n3                         CIR                        True   \n4                      [NDVI]                        True   \n5                      [R, G]                        True   \n6       [G, NDVI, NIR, R, RE]                        True   \n7             [R, G, RE, NIR]                        True   \n8                 [G, NIR, R]                        True   \n9                         CIR                        True   \n10                     [NDVI]                        True   \n11                     [R, G]                        True   \n12      [G, NDVI, NIR, R, RE]                        True   \n13            [R, G, RE, NIR]                        True   \n14                [G, NIR, R]                        True   \n15                        CIR                        True   \n16                     [NDVI]                        True   \n17                     [R, G]                        True   \n18      [G, NDVI, NIR, R, RE]                        True   \n19            [R, G, RE, NIR]                        True   \n20                [G, NIR, R]                        True   \n21                        CIR                        True   \n22                     [NDVI]                        True   \n23                     [R, G]                        True   \n24      [G, NDVI, NIR, R, RE]                        True   \n25            [R, G, RE, NIR]                        True   \n26                [G, NIR, R]                        True   \n27                        CIR                        True   \n28                     [NDVI]                        True   \n29                     [R, G]                        True   \n30      [G, NDVI, NIR, R, RE]                        True   \n31            [R, G, RE, NIR]                        True   \n32                [G, NIR, R]                        True   \n33                        CIR                        True   \n34                     [NDVI]                        True   \n35                     [R, G]                        True   \n36      [G, NDVI, NIR, R, RE]                        True   \n37            [R, G, RE, NIR]                        True   \n38                [G, NIR, R]                        True   \n39                        CIR                        True   \n40                     [NDVI]                        True   \n41                     [R, G]                        True   \n42      [G, NDVI, NIR, R, RE]                        True   \n43            [R, G, RE, NIR]                        True   \n44                [G, NIR, R]                        True   \n45                        CIR                        True   \n46                     [NDVI]                        True   \n47                     [R, G]                        True   \n\n    in_params.dataset.ver_flip in_params.dataset.crop_size  ...  \\\n0                         True                  [256, 256]  ...   \n1                         True                  [256, 256]  ...   \n2                         True                  [256, 256]  ...   \n3                         True                  [256, 256]  ...   \n4                         True                  [256, 256]  ...   \n5                         True                  [256, 256]  ...   \n6                         True                  [256, 256]  ...   \n7                         True                  [256, 256]  ...   \n8                         True                  [256, 256]  ...   \n9                         True                  [256, 256]  ...   \n10                        True                  [256, 256]  ...   \n11                        True                  [256, 256]  ...   \n12                        True                  [256, 256]  ...   \n13                        True                  [256, 256]  ...   \n14                        True                  [256, 256]  ...   \n15                        True                  [256, 256]  ...   \n16                        True                  [256, 256]  ...   \n17                        True                  [256, 256]  ...   \n18                        True                  [256, 256]  ...   \n19                        True                  [256, 256]  ...   \n20                        True                  [256, 256]  ...   \n21                        True                  [256, 256]  ...   \n22                        True                  [256, 256]  ...   \n23                        True                  [256, 256]  ...   \n24                        True                  [256, 256]  ...   \n25                        True                  [256, 256]  ...   \n26                        True                  [256, 256]  ...   \n27                        True                  [256, 256]  ...   \n28                        True                  [256, 256]  ...   \n29                        True                  [256, 256]  ...   \n30                        True                  [256, 256]  ...   \n31                        True                  [256, 256]  ...   \n32                        True                  [256, 256]  ...   \n33                        True                  [256, 256]  ...   \n34                        True                  [256, 256]  ...   \n35                        True                  [256, 256]  ...   \n36                        True                  [256, 256]  ...   \n37                        True                  [256, 256]  ...   \n38                        True                  [256, 256]  ...   \n39                        True                  [256, 256]  ...   \n40                        True                  [256, 256]  ...   \n41                        True                  [256, 256]  ...   \n42                        True                  [256, 256]  ...   \n43                        True                  [256, 256]  ...   \n44                        True                  [256, 256]  ...   \n45                        True                  [256, 256]  ...   \n46                        True                  [256, 256]  ...   \n47                        True                  [256, 256]  ...   \n\n    007_frame0199.png.masks.ground_truth.size  \\\n0                                         141   \n1                                         141   \n2                                         141   \n3                                         141   \n4                                         141   \n5                                         141   \n6                                         141   \n7                                         141   \n8                                         141   \n9                                         141   \n10                                        141   \n11                                        141   \n12                                        141   \n13                                        141   \n14                                        141   \n15                                        141   \n16                                        141   \n17                                        141   \n18                                        141   \n19                                        141   \n20                                        141   \n21                                        141   \n22                                        141   \n23                                        141   \n24                                        141   \n25                                        141   \n26                                        141   \n27                                        141   \n28                                        141   \n29                                        141   \n30                                        141   \n31                                        141   \n32                                        141   \n33                                        141   \n34                                        141   \n35                                        141   \n36                                        141   \n37                                        141   \n38                                        141   \n39                                        141   \n40                                        141   \n41                                        141   \n42                                        141   \n43                                        141   \n44                                        141   \n45                                        141   \n46                                        141   \n47                                        141   \n\n    007_frame0199.png.masks.ground_truth._type  \\\n0                                         mask   \n1                                         mask   \n2                                         mask   \n3                                         mask   \n4                                         mask   \n5                                         mask   \n6                                         mask   \n7                                         mask   \n8                                         mask   \n9                                         mask   \n10                                        mask   \n11                                        mask   \n12                                        mask   \n13                                        mask   \n14                                        mask   \n15                                        mask   \n16                                        mask   \n17                                        mask   \n18                                        mask   \n19                                        mask   \n20                                        mask   \n21                                        mask   \n22                                        mask   \n23                                        mask   \n24                                        mask   \n25                                        mask   \n26                                        mask   \n27                                        mask   \n28                                        mask   \n29                                        mask   \n30                                        mask   \n31                                        mask   \n32                                        mask   \n33                                        mask   \n34                                        mask   \n35                                        mask   \n36                                        mask   \n37                                        mask   \n38                                        mask   \n39                                        mask   \n40                                        mask   \n41                                        mask   \n42                                        mask   \n43                                        mask   \n44                                        mask   \n45                                        mask   \n46                                        mask   \n47                                        mask   \n\n          007_frame0199.png.masks.ground_truth.sha256  \\\n0   39962cd5bc9f4f0446341d3e6e0c6c37336ddeb2e026a1...   \n1   39962cd5bc9f4f0446341d3e6e0c6c37336ddeb2e026a1...   \n2   39962cd5bc9f4f0446341d3e6e0c6c37336ddeb2e026a1...   \n3   39962cd5bc9f4f0446341d3e6e0c6c37336ddeb2e026a1...   \n4   39962cd5bc9f4f0446341d3e6e0c6c37336ddeb2e026a1...   \n5   39962cd5bc9f4f0446341d3e6e0c6c37336ddeb2e026a1...   \n6   39962cd5bc9f4f0446341d3e6e0c6c37336ddeb2e026a1...   \n7   39962cd5bc9f4f0446341d3e6e0c6c37336ddeb2e026a1...   \n8   39962cd5bc9f4f0446341d3e6e0c6c37336ddeb2e026a1...   \n9   39962cd5bc9f4f0446341d3e6e0c6c37336ddeb2e026a1...   \n10  39962cd5bc9f4f0446341d3e6e0c6c37336ddeb2e026a1...   \n11  39962cd5bc9f4f0446341d3e6e0c6c37336ddeb2e026a1...   \n12  39962cd5bc9f4f0446341d3e6e0c6c37336ddeb2e026a1...   \n13  39962cd5bc9f4f0446341d3e6e0c6c37336ddeb2e026a1...   \n14  39962cd5bc9f4f0446341d3e6e0c6c37336ddeb2e026a1...   \n15  39962cd5bc9f4f0446341d3e6e0c6c37336ddeb2e026a1...   \n16  39962cd5bc9f4f0446341d3e6e0c6c37336ddeb2e026a1...   \n17  39962cd5bc9f4f0446341d3e6e0c6c37336ddeb2e026a1...   \n18  39962cd5bc9f4f0446341d3e6e0c6c37336ddeb2e026a1...   \n19  39962cd5bc9f4f0446341d3e6e0c6c37336ddeb2e026a1...   \n20  39962cd5bc9f4f0446341d3e6e0c6c37336ddeb2e026a1...   \n21  39962cd5bc9f4f0446341d3e6e0c6c37336ddeb2e026a1...   \n22  39962cd5bc9f4f0446341d3e6e0c6c37336ddeb2e026a1...   \n23  39962cd5bc9f4f0446341d3e6e0c6c37336ddeb2e026a1...   \n24  39962cd5bc9f4f0446341d3e6e0c6c37336ddeb2e026a1...   \n25  39962cd5bc9f4f0446341d3e6e0c6c37336ddeb2e026a1...   \n26  39962cd5bc9f4f0446341d3e6e0c6c37336ddeb2e026a1...   \n27  39962cd5bc9f4f0446341d3e6e0c6c37336ddeb2e026a1...   \n28  39962cd5bc9f4f0446341d3e6e0c6c37336ddeb2e026a1...   \n29  39962cd5bc9f4f0446341d3e6e0c6c37336ddeb2e026a1...   \n30  39962cd5bc9f4f0446341d3e6e0c6c37336ddeb2e026a1...   \n31  39962cd5bc9f4f0446341d3e6e0c6c37336ddeb2e026a1...   \n32  39962cd5bc9f4f0446341d3e6e0c6c37336ddeb2e026a1...   \n33  39962cd5bc9f4f0446341d3e6e0c6c37336ddeb2e026a1...   \n34  39962cd5bc9f4f0446341d3e6e0c6c37336ddeb2e026a1...   \n35  39962cd5bc9f4f0446341d3e6e0c6c37336ddeb2e026a1...   \n36  39962cd5bc9f4f0446341d3e6e0c6c37336ddeb2e026a1...   \n37  39962cd5bc9f4f0446341d3e6e0c6c37336ddeb2e026a1...   \n38  39962cd5bc9f4f0446341d3e6e0c6c37336ddeb2e026a1...   \n39  39962cd5bc9f4f0446341d3e6e0c6c37336ddeb2e026a1...   \n40  39962cd5bc9f4f0446341d3e6e0c6c37336ddeb2e026a1...   \n41  39962cd5bc9f4f0446341d3e6e0c6c37336ddeb2e026a1...   \n42  39962cd5bc9f4f0446341d3e6e0c6c37336ddeb2e026a1...   \n43  39962cd5bc9f4f0446341d3e6e0c6c37336ddeb2e026a1...   \n44  39962cd5bc9f4f0446341d3e6e0c6c37336ddeb2e026a1...   \n45  39962cd5bc9f4f0446341d3e6e0c6c37336ddeb2e026a1...   \n46  39962cd5bc9f4f0446341d3e6e0c6c37336ddeb2e026a1...   \n47  39962cd5bc9f4f0446341d3e6e0c6c37336ddeb2e026a1...   \n\n    007_frame0199.png.width 007_frame0199.png.format 007_frame0199.png.height  \\\n0                       256                      png                      256   \n1                       256                      png                      256   \n2                       256                      png                      256   \n3                       256                      png                      256   \n4                       256                      png                      256   \n5                       256                      png                      256   \n6                       256                      png                      256   \n7                       256                      png                      256   \n8                       256                      png                      256   \n9                       256                      png                      256   \n10                      256                      png                      256   \n11                      256                      png                      256   \n12                      256                      png                      256   \n13                      256                      png                      256   \n14                      256                      png                      256   \n15                      256                      png                      256   \n16                      256                      png                      256   \n17                      256                      png                      256   \n18                      256                      png                      256   \n19                      256                      png                      256   \n20                      256                      png                      256   \n21                      256                      png                      256   \n22                      256                      png                      256   \n23                      256                      png                      256   \n24                      256                      png                      256   \n25                      256                      png                      256   \n26                      256                      png                      256   \n27                      256                      png                      256   \n28                      256                      png                      256   \n29                      256                      png                      256   \n30                      256                      png                      256   \n31                      256                      png                      256   \n32                      256                      png                      256   \n33                      256                      png                      256   \n34                      256                      png                      256   \n35                      256                      png                      256   \n36                      256                      png                      256   \n37                      256                      png                      256   \n38                      256                      png                      256   \n39                      256                      png                      256   \n40                      256                      png                      256   \n41                      256                      png                      256   \n42                      256                      png                      256   \n43                      256                      png                      256   \n44                      256                      png                      256   \n45                      256                      png                      256   \n46                      256                      png                      256   \n47                      256                      png                      256   \n\n                             007_frame0199.png.sha256  \\\n0   cf910792bd8cb1e7aaeadf2a18ec22ef7bf4dba1020da4...   \n1   fe9a2a16f898fbd8394d4756708ade21999604836ff4a9...   \n2   e6b1d81cfbbf0b42b7d45390286dbf094d26820d8185a3...   \n3   3d54809b29d8f8e63b929440d3515a9b731fc66790c6c0...   \n4   c418eb97738477bb509e7f8aa3ed40881e31f66cbbdc96...   \n5   4009d3f1856b64d2fd1dc332073c05e33c0549e85b444a...   \n6   665506fa16b3bc49bc942d32623400dce76bb000b362d5...   \n7   b31db130d59577973851d148d96cbc8c209d200a2cbfde...   \n8   8ebaccca6c3e2766d34d5fefd7bec2965c0c2ae95a2209...   \n9   3d54809b29d8f8e63b929440d3515a9b731fc66790c6c0...   \n10  18f2771475c88152c74f8014c8c54459d4df763c128ca7...   \n11  4009d3f1856b64d2fd1dc332073c05e33c0549e85b444a...   \n12  cb5d712fc1f346969fdc8e59084302dfb60733176f06b1...   \n13  5176e420f71738710b8fdcdfd03f23689bffc07a4046a5...   \n14  ccd07fe5eea2617f2414179a441ca064e374aa9b7fb1b2...   \n15  8b27f64da00a9c8cc1a5fa9f013f9538c9dc09041beb08...   \n16  febd85bed86587d442e5a03b5d5cd4701915c05acb9998...   \n17  fb2751d81f663dd949bedf9d174ab1c75bf1cdfc330b15...   \n18  46c9903211f97b46c5b5ccb52d4a8b35b02e508588ec44...   \n19  ded613f28a95ee430730ffd6e035de2c4dd7f868493476...   \n20  fe0fe48589d6341c9655ed51afebbdc0ef395fc8ad1f0e...   \n21  0e8529f3ef22d58dbda20fe867646fe38c4fd9670728dd...   \n22  0a926f3959618200c39b46850e62356bb5cd78fa85f0d4...   \n23  25ace19cca8cc374b4642204530a3d1377bdcb7aa9e00f...   \n24  230f5c9ba89ff5c3a8381e627bdb5cafa306420bfc0d16...   \n25  5176e420f71738710b8fdcdfd03f23689bffc07a4046a5...   \n26  09f4ca6ac614b761fedc67dd07674cf9d831d0d6ad54ce...   \n27  3d54809b29d8f8e63b929440d3515a9b731fc66790c6c0...   \n28  6261c28a2ad9137d9d9e6ceba7a77e6ff45e62d7a8d135...   \n29  bfd6ce48f37f2a9d7bb4029606ac7c48857c48149744f6...   \n30  1d8b3a499f25a0ef229ec1f8639ee4f8ad882f863b28eb...   \n31  eafeb001d6f4c337981ba0aa41f454b624bec90f7392fa...   \n32  d1bdb3e772591126b7d7978f3822a38e98d7356f0299f2...   \n33  833a32ae2ec0f5cbd6dfd8c59498965b53b827e8b66a13...   \n34  59d2ff65b4510fda4d003ff71442a3c0d20ee9ea6e37af...   \n35  4009d3f1856b64d2fd1dc332073c05e33c0549e85b444a...   \n36  158fbb886fbc71c0e6ded38bda1790c24fa3171c385843...   \n37  ff2570db8ad6e51f888aece5f2f107ccdbf260d858c5be...   \n38  d1bdb3e772591126b7d7978f3822a38e98d7356f0299f2...   \n39  8b27f64da00a9c8cc1a5fa9f013f9538c9dc09041beb08...   \n40  9b7f05a4db4040442155c8739dbef1f22b2eba0a1640f9...   \n41  a7b15e4ca7935195d6eb810be99bc2cc00cc6ebff587de...   \n42  859c5ae39c91136ab3120c6805b0adfb11adeabb1742e8...   \n43  dadcdc9b39488a5a494e09efbb1f276f37eca4350b1d06...   \n44  e4d6b52fcf4185fe24d278a62ce86aeb41297f109e7546...   \n45  08428677a8c74b1b6c860e50f4bd3bc981ba27f1b52b06...   \n46  6261c28a2ad9137d9d9e6ceba7a77e6ff45e62d7a8d135...   \n47  fb2751d81f663dd949bedf9d174ab1c75bf1cdfc330b15...   \n\n                               007_frame0199.png.path   val_AUC  _timestamp  \n0   media/images/007_frame0199.png_292_cf910792bd8...  0.929056  1652789275  \n1   media/images/007_frame0199.png_530_fe9a2a16f89...  0.910789  1652789532  \n2   media/images/007_frame0199.png_768_e6b1d81cfbb...  0.916516  1652789762  \n3   media/images/007_frame0199.png_586_3d54809b29d...  0.876006  1652790002  \n4   media/images/007_frame0199.png_530_c418eb97738...  0.878764  1652790232  \n5   media/images/007_frame0199.png_586_4009d3f1856...  0.955182  1652790487  \n6   media/images/007_frame0199.png_684_665506fa16b...  0.958831  1652790744  \n7   media/images/007_frame0199.png_670_b31db130d59...  0.960302  1652790976  \n8   media/images/007_frame0199.png_684_8ebaccca6c3...  0.889643  1652791209  \n9   media/images/007_frame0199.png_586_3d54809b29d...  0.905827  1652791451  \n10  media/images/007_frame0199.png_460_18f2771475c...  0.913892  1652791683  \n11  media/images/007_frame0199.png_586_4009d3f1856...  0.960374  1652791931  \n12  media/images/007_frame0199.png_418_cb5d712fc1f...  0.982129  1652792178  \n13  media/images/007_frame0199.png_306_5176e420f71...  0.938500  1652792435  \n14  media/images/007_frame0199.png_306_ccd07fe5eea...  0.980273  1652792698  \n15  media/images/007_frame0199.png_376_8b27f64da00...  0.943208  1652792963  \n16  media/images/007_frame0199.png_306_febd85bed86...  0.696564  1652793204  \n17  media/images/007_frame0199.png_334_fb2751d81f6...  0.971488  1652793460  \n18  media/images/007_frame0199.png_586_46c9903211f...  0.989001  1652793739  \n19  media/images/007_frame0199.png_334_ded613f28a9...  0.976312  1652794056  \n20  media/images/007_frame0199.png_418_fe0fe48589d...  0.850344  1652794321  \n21  media/images/007_frame0199.png_418_0e8529f3ef2...  0.868851  1652794606  \n22  media/images/007_frame0199.png_292_0a926f39596...  0.958753  1652794855  \n23  media/images/007_frame0199.png_320_25ace19cca8...  0.949992  1652795128  \n24  media/images/007_frame0199.png_768_230f5c9ba89...  0.969285  1652507198  \n25  media/images/007_frame0199.png_306_5176e420f71...  0.970300  1652800096  \n26  media/images/007_frame0199.png_250_09f4ca6ac61...  0.878947  1652800371  \n27  media/images/007_frame0199.png_586_3d54809b29d...  0.892663  1652800657  \n28  media/images/007_frame0199.png_264_6261c28a2ad...  0.881798  1652800928  \n29  media/images/007_frame0199.png_488_bfd6ce48f37...  0.957657  1652801225  \n30  media/images/007_frame0199.png_348_1d8b3a499f2...  0.937361  1652801537  \n31  media/images/007_frame0199.png_390_eafeb001d6f...  0.961658  1652801844  \n32  media/images/007_frame0199.png_292_d1bdb3e7725...  0.916071  1652802139  \n33  media/images/007_frame0199.png_292_833a32ae2ec...  0.902016  1652802439  \n34  media/images/007_frame0199.png_362_59d2ff65b45...  0.903151  1652802721  \n35  media/images/007_frame0199.png_586_4009d3f1856...  0.980820  1652803028  \n36  media/images/007_frame0199.png_194_158fbb886fb...  0.938547  1652803350  \n37  media/images/007_frame0199.png_250_ff2570db8ad...  0.974011  1652803659  \n38  media/images/007_frame0199.png_292_d1bdb3e7725...  0.972970  1652803971  \n39  media/images/007_frame0199.png_376_8b27f64da00...  0.964152  1652804307  \n40  media/images/007_frame0199.png_334_9b7f05a4db4...  0.853448  1652804602  \n41  media/images/007_frame0199.png_628_a7b15e4ca79...  0.961063  1652804885  \n42  media/images/007_frame0199.png_390_859c5ae39c9...  0.930027  1652805230  \n43  media/images/007_frame0199.png_208_dadcdc9b394...  0.890045  1652805531  \n44  media/images/007_frame0199.png_586_e4d6b52fcf4...  0.982832  1652805834  \n45  media/images/007_frame0199.png_180_08428677a8c...  0.972013  1652806168  \n46  media/images/007_frame0199.png_264_6261c28a2ad...  0.851665  1652806456  \n47  media/images/007_frame0199.png_334_fb2751d81f6...  0.959699  1652806767  \n\n[48 rows x 385 columns]",
      "text/html": "<div>\n<style scoped>\n    .dataframe tbody tr th:only-of-type {\n        vertical-align: middle;\n    }\n\n    .dataframe tbody tr th {\n        vertical-align: top;\n    }\n\n    .dataframe thead th {\n        text-align: right;\n    }\n</style>\n<table border=\"1\" class=\"dataframe\">\n  <thead>\n    <tr style=\"text-align: right;\">\n      <th></th>\n      <th>in_params.tags</th>\n      <th>in_params.model.name</th>\n      <th>in_params.model.params.backbone</th>\n      <th>in_params.phases</th>\n      <th>in_params.dataset.root</th>\n      <th>in_params.dataset.size</th>\n      <th>in_params.dataset.channels</th>\n      <th>in_params.dataset.hor_flip</th>\n      <th>in_params.dataset.ver_flip</th>\n      <th>in_params.dataset.crop_size</th>\n      <th>...</th>\n      <th>007_frame0199.png.masks.ground_truth.size</th>\n      <th>007_frame0199.png.masks.ground_truth._type</th>\n      <th>007_frame0199.png.masks.ground_truth.sha256</th>\n      <th>007_frame0199.png.width</th>\n      <th>007_frame0199.png.format</th>\n      <th>007_frame0199.png.height</th>\n      <th>007_frame0199.png.sha256</th>\n      <th>007_frame0199.png.path</th>\n      <th>val_AUC</th>\n      <th>_timestamp</th>\n    </tr>\n  </thead>\n  <tbody>\n    <tr>\n      <th>0</th>\n      <td>[crop, B0]</td>\n      <td>lawin</td>\n      <td>MiT-B0</td>\n      <td>[train, test]</td>\n      <td>dataset/processed/Sequoia</td>\n      <td>same</td>\n      <td>[G, NDVI, NIR, R, RE]</td>\n      <td>True</td>\n      <td>True</td>\n      <td>[256, 256]</td>\n      <td>...</td>\n      <td>141</td>\n      <td>mask</td>\n      <td>39962cd5bc9f4f0446341d3e6e0c6c37336ddeb2e026a1...</td>\n      <td>256</td>\n      <td>png</td>\n      <td>256</td>\n      <td>cf910792bd8cb1e7aaeadf2a18ec22ef7bf4dba1020da4...</td>\n      <td>media/images/007_frame0199.png_292_cf910792bd8...</td>\n      <td>0.929056</td>\n      <td>1652789275</td>\n    </tr>\n    <tr>\n      <th>1</th>\n      <td>[crop, B0]</td>\n      <td>lawin</td>\n      <td>MiT-B0</td>\n      <td>[train, test]</td>\n      <td>dataset/processed/Sequoia</td>\n      <td>same</td>\n      <td>[R, G, RE, NIR]</td>\n      <td>True</td>\n      <td>True</td>\n      <td>[256, 256]</td>\n      <td>...</td>\n      <td>141</td>\n      <td>mask</td>\n      <td>39962cd5bc9f4f0446341d3e6e0c6c37336ddeb2e026a1...</td>\n      <td>256</td>\n      <td>png</td>\n      <td>256</td>\n      <td>fe9a2a16f898fbd8394d4756708ade21999604836ff4a9...</td>\n      <td>media/images/007_frame0199.png_530_fe9a2a16f89...</td>\n      <td>0.910789</td>\n      <td>1652789532</td>\n    </tr>\n    <tr>\n      <th>2</th>\n      <td>[crop, B0]</td>\n      <td>lawin</td>\n      <td>MiT-B0</td>\n      <td>[train, test]</td>\n      <td>dataset/processed/Sequoia</td>\n      <td>same</td>\n      <td>[G, NIR, R]</td>\n      <td>True</td>\n      <td>True</td>\n      <td>[256, 256]</td>\n      <td>...</td>\n      <td>141</td>\n      <td>mask</td>\n      <td>39962cd5bc9f4f0446341d3e6e0c6c37336ddeb2e026a1...</td>\n      <td>256</td>\n      <td>png</td>\n      <td>256</td>\n      <td>e6b1d81cfbbf0b42b7d45390286dbf094d26820d8185a3...</td>\n      <td>media/images/007_frame0199.png_768_e6b1d81cfbb...</td>\n      <td>0.916516</td>\n      <td>1652789762</td>\n    </tr>\n    <tr>\n      <th>3</th>\n      <td>[crop, B0]</td>\n      <td>lawin</td>\n      <td>MiT-B0</td>\n      <td>[train, test]</td>\n      <td>dataset/processed/Sequoia</td>\n      <td>same</td>\n      <td>CIR</td>\n      <td>True</td>\n      <td>True</td>\n      <td>[256, 256]</td>\n      <td>...</td>\n      <td>141</td>\n      <td>mask</td>\n      <td>39962cd5bc9f4f0446341d3e6e0c6c37336ddeb2e026a1...</td>\n      <td>256</td>\n      <td>png</td>\n      <td>256</td>\n      <td>3d54809b29d8f8e63b929440d3515a9b731fc66790c6c0...</td>\n      <td>media/images/007_frame0199.png_586_3d54809b29d...</td>\n      <td>0.876006</td>\n      <td>1652790002</td>\n    </tr>\n    <tr>\n      <th>4</th>\n      <td>[crop, B0]</td>\n      <td>lawin</td>\n      <td>MiT-B0</td>\n      <td>[train, test]</td>\n      <td>dataset/processed/Sequoia</td>\n      <td>same</td>\n      <td>[NDVI]</td>\n      <td>True</td>\n      <td>True</td>\n      <td>[256, 256]</td>\n      <td>...</td>\n      <td>141</td>\n      <td>mask</td>\n      <td>39962cd5bc9f4f0446341d3e6e0c6c37336ddeb2e026a1...</td>\n      <td>256</td>\n      <td>png</td>\n      <td>256</td>\n      <td>c418eb97738477bb509e7f8aa3ed40881e31f66cbbdc96...</td>\n      <td>media/images/007_frame0199.png_530_c418eb97738...</td>\n      <td>0.878764</td>\n      <td>1652790232</td>\n    </tr>\n    <tr>\n      <th>5</th>\n      <td>[crop, B0]</td>\n      <td>lawin</td>\n      <td>MiT-B0</td>\n      <td>[train, test]</td>\n      <td>dataset/processed/Sequoia</td>\n      <td>same</td>\n      <td>[R, G]</td>\n      <td>True</td>\n      <td>True</td>\n      <td>[256, 256]</td>\n      <td>...</td>\n      <td>141</td>\n      <td>mask</td>\n      <td>39962cd5bc9f4f0446341d3e6e0c6c37336ddeb2e026a1...</td>\n      <td>256</td>\n      <td>png</td>\n      <td>256</td>\n      <td>4009d3f1856b64d2fd1dc332073c05e33c0549e85b444a...</td>\n      <td>media/images/007_frame0199.png_586_4009d3f1856...</td>\n      <td>0.955182</td>\n      <td>1652790487</td>\n    </tr>\n    <tr>\n      <th>6</th>\n      <td>[crop, B0]</td>\n      <td>lawin</td>\n      <td>MiT-B0</td>\n      <td>[train, test]</td>\n      <td>dataset/processed/Sequoia</td>\n      <td>same</td>\n      <td>[G, NDVI, NIR, R, RE]</td>\n      <td>True</td>\n      <td>True</td>\n      <td>[256, 256]</td>\n      <td>...</td>\n      <td>141</td>\n      <td>mask</td>\n      <td>39962cd5bc9f4f0446341d3e6e0c6c37336ddeb2e026a1...</td>\n      <td>256</td>\n      <td>png</td>\n      <td>256</td>\n      <td>665506fa16b3bc49bc942d32623400dce76bb000b362d5...</td>\n      <td>media/images/007_frame0199.png_684_665506fa16b...</td>\n      <td>0.958831</td>\n      <td>1652790744</td>\n    </tr>\n    <tr>\n      <th>7</th>\n      <td>[crop, B0]</td>\n      <td>lawin</td>\n      <td>MiT-B0</td>\n      <td>[train, test]</td>\n      <td>dataset/processed/Sequoia</td>\n      <td>same</td>\n      <td>[R, G, RE, NIR]</td>\n      <td>True</td>\n      <td>True</td>\n      <td>[256, 256]</td>\n      <td>...</td>\n      <td>141</td>\n      <td>mask</td>\n      <td>39962cd5bc9f4f0446341d3e6e0c6c37336ddeb2e026a1...</td>\n      <td>256</td>\n      <td>png</td>\n      <td>256</td>\n      <td>b31db130d59577973851d148d96cbc8c209d200a2cbfde...</td>\n      <td>media/images/007_frame0199.png_670_b31db130d59...</td>\n      <td>0.960302</td>\n      <td>1652790976</td>\n    </tr>\n    <tr>\n      <th>8</th>\n      <td>[crop, B0]</td>\n      <td>lawin</td>\n      <td>MiT-B0</td>\n      <td>[train, test]</td>\n      <td>dataset/processed/Sequoia</td>\n      <td>same</td>\n      <td>[G, NIR, R]</td>\n      <td>True</td>\n      <td>True</td>\n      <td>[256, 256]</td>\n      <td>...</td>\n      <td>141</td>\n      <td>mask</td>\n      <td>39962cd5bc9f4f0446341d3e6e0c6c37336ddeb2e026a1...</td>\n      <td>256</td>\n      <td>png</td>\n      <td>256</td>\n      <td>8ebaccca6c3e2766d34d5fefd7bec2965c0c2ae95a2209...</td>\n      <td>media/images/007_frame0199.png_684_8ebaccca6c3...</td>\n      <td>0.889643</td>\n      <td>1652791209</td>\n    </tr>\n    <tr>\n      <th>9</th>\n      <td>[crop, B0]</td>\n      <td>lawin</td>\n      <td>MiT-B0</td>\n      <td>[train, test]</td>\n      <td>dataset/processed/Sequoia</td>\n      <td>same</td>\n      <td>CIR</td>\n      <td>True</td>\n      <td>True</td>\n      <td>[256, 256]</td>\n      <td>...</td>\n      <td>141</td>\n      <td>mask</td>\n      <td>39962cd5bc9f4f0446341d3e6e0c6c37336ddeb2e026a1...</td>\n      <td>256</td>\n      <td>png</td>\n      <td>256</td>\n      <td>3d54809b29d8f8e63b929440d3515a9b731fc66790c6c0...</td>\n      <td>media/images/007_frame0199.png_586_3d54809b29d...</td>\n      <td>0.905827</td>\n      <td>1652791451</td>\n    </tr>\n    <tr>\n      <th>10</th>\n      <td>[crop, B0]</td>\n      <td>lawin</td>\n      <td>MiT-B0</td>\n      <td>[train, test]</td>\n      <td>dataset/processed/Sequoia</td>\n      <td>same</td>\n      <td>[NDVI]</td>\n      <td>True</td>\n      <td>True</td>\n      <td>[256, 256]</td>\n      <td>...</td>\n      <td>141</td>\n      <td>mask</td>\n      <td>39962cd5bc9f4f0446341d3e6e0c6c37336ddeb2e026a1...</td>\n      <td>256</td>\n      <td>png</td>\n      <td>256</td>\n      <td>18f2771475c88152c74f8014c8c54459d4df763c128ca7...</td>\n      <td>media/images/007_frame0199.png_460_18f2771475c...</td>\n      <td>0.913892</td>\n      <td>1652791683</td>\n    </tr>\n    <tr>\n      <th>11</th>\n      <td>[crop, B0]</td>\n      <td>lawin</td>\n      <td>MiT-B0</td>\n      <td>[train, test]</td>\n      <td>dataset/processed/Sequoia</td>\n      <td>same</td>\n      <td>[R, G]</td>\n      <td>True</td>\n      <td>True</td>\n      <td>[256, 256]</td>\n      <td>...</td>\n      <td>141</td>\n      <td>mask</td>\n      <td>39962cd5bc9f4f0446341d3e6e0c6c37336ddeb2e026a1...</td>\n      <td>256</td>\n      <td>png</td>\n      <td>256</td>\n      <td>4009d3f1856b64d2fd1dc332073c05e33c0549e85b444a...</td>\n      <td>media/images/007_frame0199.png_586_4009d3f1856...</td>\n      <td>0.960374</td>\n      <td>1652791931</td>\n    </tr>\n    <tr>\n      <th>12</th>\n      <td>[crop, B0]</td>\n      <td>lawin</td>\n      <td>MiT-B0</td>\n      <td>[train, test]</td>\n      <td>dataset/processed/Sequoia</td>\n      <td>same</td>\n      <td>[G, NDVI, NIR, R, RE]</td>\n      <td>True</td>\n      <td>True</td>\n      <td>[256, 256]</td>\n      <td>...</td>\n      <td>141</td>\n      <td>mask</td>\n      <td>39962cd5bc9f4f0446341d3e6e0c6c37336ddeb2e026a1...</td>\n      <td>256</td>\n      <td>png</td>\n      <td>256</td>\n      <td>cb5d712fc1f346969fdc8e59084302dfb60733176f06b1...</td>\n      <td>media/images/007_frame0199.png_418_cb5d712fc1f...</td>\n      <td>0.982129</td>\n      <td>1652792178</td>\n    </tr>\n    <tr>\n      <th>13</th>\n      <td>[crop, B0]</td>\n      <td>lawin</td>\n      <td>MiT-B0</td>\n      <td>[train, test]</td>\n      <td>dataset/processed/Sequoia</td>\n      <td>same</td>\n      <td>[R, G, RE, NIR]</td>\n      <td>True</td>\n      <td>True</td>\n      <td>[256, 256]</td>\n      <td>...</td>\n      <td>141</td>\n      <td>mask</td>\n      <td>39962cd5bc9f4f0446341d3e6e0c6c37336ddeb2e026a1...</td>\n      <td>256</td>\n      <td>png</td>\n      <td>256</td>\n      <td>5176e420f71738710b8fdcdfd03f23689bffc07a4046a5...</td>\n      <td>media/images/007_frame0199.png_306_5176e420f71...</td>\n      <td>0.938500</td>\n      <td>1652792435</td>\n    </tr>\n    <tr>\n      <th>14</th>\n      <td>[crop, B0]</td>\n      <td>lawin</td>\n      <td>MiT-B0</td>\n      <td>[train, test]</td>\n      <td>dataset/processed/Sequoia</td>\n      <td>same</td>\n      <td>[G, NIR, R]</td>\n      <td>True</td>\n      <td>True</td>\n      <td>[256, 256]</td>\n      <td>...</td>\n      <td>141</td>\n      <td>mask</td>\n      <td>39962cd5bc9f4f0446341d3e6e0c6c37336ddeb2e026a1...</td>\n      <td>256</td>\n      <td>png</td>\n      <td>256</td>\n      <td>ccd07fe5eea2617f2414179a441ca064e374aa9b7fb1b2...</td>\n      <td>media/images/007_frame0199.png_306_ccd07fe5eea...</td>\n      <td>0.980273</td>\n      <td>1652792698</td>\n    </tr>\n    <tr>\n      <th>15</th>\n      <td>[crop, B0]</td>\n      <td>lawin</td>\n      <td>MiT-B0</td>\n      <td>[train, test]</td>\n      <td>dataset/processed/Sequoia</td>\n      <td>same</td>\n      <td>CIR</td>\n      <td>True</td>\n      <td>True</td>\n      <td>[256, 256]</td>\n      <td>...</td>\n      <td>141</td>\n      <td>mask</td>\n      <td>39962cd5bc9f4f0446341d3e6e0c6c37336ddeb2e026a1...</td>\n      <td>256</td>\n      <td>png</td>\n      <td>256</td>\n      <td>8b27f64da00a9c8cc1a5fa9f013f9538c9dc09041beb08...</td>\n      <td>media/images/007_frame0199.png_376_8b27f64da00...</td>\n      <td>0.943208</td>\n      <td>1652792963</td>\n    </tr>\n    <tr>\n      <th>16</th>\n      <td>[crop, B0]</td>\n      <td>lawin</td>\n      <td>MiT-B0</td>\n      <td>[train, test]</td>\n      <td>dataset/processed/Sequoia</td>\n      <td>same</td>\n      <td>[NDVI]</td>\n      <td>True</td>\n      <td>True</td>\n      <td>[256, 256]</td>\n      <td>...</td>\n      <td>141</td>\n      <td>mask</td>\n      <td>39962cd5bc9f4f0446341d3e6e0c6c37336ddeb2e026a1...</td>\n      <td>256</td>\n      <td>png</td>\n      <td>256</td>\n      <td>febd85bed86587d442e5a03b5d5cd4701915c05acb9998...</td>\n      <td>media/images/007_frame0199.png_306_febd85bed86...</td>\n      <td>0.696564</td>\n      <td>1652793204</td>\n    </tr>\n    <tr>\n      <th>17</th>\n      <td>[crop, B0]</td>\n      <td>lawin</td>\n      <td>MiT-B0</td>\n      <td>[train, test]</td>\n      <td>dataset/processed/Sequoia</td>\n      <td>same</td>\n      <td>[R, G]</td>\n      <td>True</td>\n      <td>True</td>\n      <td>[256, 256]</td>\n      <td>...</td>\n      <td>141</td>\n      <td>mask</td>\n      <td>39962cd5bc9f4f0446341d3e6e0c6c37336ddeb2e026a1...</td>\n      <td>256</td>\n      <td>png</td>\n      <td>256</td>\n      <td>fb2751d81f663dd949bedf9d174ab1c75bf1cdfc330b15...</td>\n      <td>media/images/007_frame0199.png_334_fb2751d81f6...</td>\n      <td>0.971488</td>\n      <td>1652793460</td>\n    </tr>\n    <tr>\n      <th>18</th>\n      <td>[crop, B0]</td>\n      <td>lawin</td>\n      <td>MiT-B0</td>\n      <td>[train, test]</td>\n      <td>dataset/processed/Sequoia</td>\n      <td>same</td>\n      <td>[G, NDVI, NIR, R, RE]</td>\n      <td>True</td>\n      <td>True</td>\n      <td>[256, 256]</td>\n      <td>...</td>\n      <td>141</td>\n      <td>mask</td>\n      <td>39962cd5bc9f4f0446341d3e6e0c6c37336ddeb2e026a1...</td>\n      <td>256</td>\n      <td>png</td>\n      <td>256</td>\n      <td>46c9903211f97b46c5b5ccb52d4a8b35b02e508588ec44...</td>\n      <td>media/images/007_frame0199.png_586_46c9903211f...</td>\n      <td>0.989001</td>\n      <td>1652793739</td>\n    </tr>\n    <tr>\n      <th>19</th>\n      <td>[crop, B0]</td>\n      <td>lawin</td>\n      <td>MiT-B0</td>\n      <td>[train, test]</td>\n      <td>dataset/processed/Sequoia</td>\n      <td>same</td>\n      <td>[R, G, RE, NIR]</td>\n      <td>True</td>\n      <td>True</td>\n      <td>[256, 256]</td>\n      <td>...</td>\n      <td>141</td>\n      <td>mask</td>\n      <td>39962cd5bc9f4f0446341d3e6e0c6c37336ddeb2e026a1...</td>\n      <td>256</td>\n      <td>png</td>\n      <td>256</td>\n      <td>ded613f28a95ee430730ffd6e035de2c4dd7f868493476...</td>\n      <td>media/images/007_frame0199.png_334_ded613f28a9...</td>\n      <td>0.976312</td>\n      <td>1652794056</td>\n    </tr>\n    <tr>\n      <th>20</th>\n      <td>[crop, B0]</td>\n      <td>lawin</td>\n      <td>MiT-B0</td>\n      <td>[train, test]</td>\n      <td>dataset/processed/Sequoia</td>\n      <td>same</td>\n      <td>[G, NIR, R]</td>\n      <td>True</td>\n      <td>True</td>\n      <td>[256, 256]</td>\n      <td>...</td>\n      <td>141</td>\n      <td>mask</td>\n      <td>39962cd5bc9f4f0446341d3e6e0c6c37336ddeb2e026a1...</td>\n      <td>256</td>\n      <td>png</td>\n      <td>256</td>\n      <td>fe0fe48589d6341c9655ed51afebbdc0ef395fc8ad1f0e...</td>\n      <td>media/images/007_frame0199.png_418_fe0fe48589d...</td>\n      <td>0.850344</td>\n      <td>1652794321</td>\n    </tr>\n    <tr>\n      <th>21</th>\n      <td>[crop, B0]</td>\n      <td>lawin</td>\n      <td>MiT-B0</td>\n      <td>[train, test]</td>\n      <td>dataset/processed/Sequoia</td>\n      <td>same</td>\n      <td>CIR</td>\n      <td>True</td>\n      <td>True</td>\n      <td>[256, 256]</td>\n      <td>...</td>\n      <td>141</td>\n      <td>mask</td>\n      <td>39962cd5bc9f4f0446341d3e6e0c6c37336ddeb2e026a1...</td>\n      <td>256</td>\n      <td>png</td>\n      <td>256</td>\n      <td>0e8529f3ef22d58dbda20fe867646fe38c4fd9670728dd...</td>\n      <td>media/images/007_frame0199.png_418_0e8529f3ef2...</td>\n      <td>0.868851</td>\n      <td>1652794606</td>\n    </tr>\n    <tr>\n      <th>22</th>\n      <td>[crop, B0]</td>\n      <td>lawin</td>\n      <td>MiT-B0</td>\n      <td>[train, test]</td>\n      <td>dataset/processed/Sequoia</td>\n      <td>same</td>\n      <td>[NDVI]</td>\n      <td>True</td>\n      <td>True</td>\n      <td>[256, 256]</td>\n      <td>...</td>\n      <td>141</td>\n      <td>mask</td>\n      <td>39962cd5bc9f4f0446341d3e6e0c6c37336ddeb2e026a1...</td>\n      <td>256</td>\n      <td>png</td>\n      <td>256</td>\n      <td>0a926f3959618200c39b46850e62356bb5cd78fa85f0d4...</td>\n      <td>media/images/007_frame0199.png_292_0a926f39596...</td>\n      <td>0.958753</td>\n      <td>1652794855</td>\n    </tr>\n    <tr>\n      <th>23</th>\n      <td>[crop, B0]</td>\n      <td>lawin</td>\n      <td>MiT-B0</td>\n      <td>[train, test]</td>\n      <td>dataset/processed/Sequoia</td>\n      <td>same</td>\n      <td>[R, G]</td>\n      <td>True</td>\n      <td>True</td>\n      <td>[256, 256]</td>\n      <td>...</td>\n      <td>141</td>\n      <td>mask</td>\n      <td>39962cd5bc9f4f0446341d3e6e0c6c37336ddeb2e026a1...</td>\n      <td>256</td>\n      <td>png</td>\n      <td>256</td>\n      <td>25ace19cca8cc374b4642204530a3d1377bdcb7aa9e00f...</td>\n      <td>media/images/007_frame0199.png_320_25ace19cca8...</td>\n      <td>0.949992</td>\n      <td>1652795128</td>\n    </tr>\n    <tr>\n      <th>24</th>\n      <td>[crop]</td>\n      <td>lawin</td>\n      <td>MiT-B5</td>\n      <td>[train, test]</td>\n      <td>dataset/processed/Sequoia</td>\n      <td>same</td>\n      <td>[G, NDVI, NIR, R, RE]</td>\n      <td>True</td>\n      <td>True</td>\n      <td>[256, 256]</td>\n      <td>...</td>\n      <td>141</td>\n      <td>mask</td>\n      <td>39962cd5bc9f4f0446341d3e6e0c6c37336ddeb2e026a1...</td>\n      <td>256</td>\n      <td>png</td>\n      <td>256</td>\n      <td>230f5c9ba89ff5c3a8381e627bdb5cafa306420bfc0d16...</td>\n      <td>media/images/007_frame0199.png_768_230f5c9ba89...</td>\n      <td>0.969285</td>\n      <td>1652507198</td>\n    </tr>\n    <tr>\n      <th>25</th>\n      <td>[crop]</td>\n      <td>lawin</td>\n      <td>MiT-B5</td>\n      <td>[train, test]</td>\n      <td>dataset/processed/Sequoia</td>\n      <td>same</td>\n      <td>[R, G, RE, NIR]</td>\n      <td>True</td>\n      <td>True</td>\n      <td>[256, 256]</td>\n      <td>...</td>\n      <td>141</td>\n      <td>mask</td>\n      <td>39962cd5bc9f4f0446341d3e6e0c6c37336ddeb2e026a1...</td>\n      <td>256</td>\n      <td>png</td>\n      <td>256</td>\n      <td>5176e420f71738710b8fdcdfd03f23689bffc07a4046a5...</td>\n      <td>media/images/007_frame0199.png_306_5176e420f71...</td>\n      <td>0.970300</td>\n      <td>1652800096</td>\n    </tr>\n    <tr>\n      <th>26</th>\n      <td>[crop]</td>\n      <td>lawin</td>\n      <td>MiT-B5</td>\n      <td>[train, test]</td>\n      <td>dataset/processed/Sequoia</td>\n      <td>same</td>\n      <td>[G, NIR, R]</td>\n      <td>True</td>\n      <td>True</td>\n      <td>[256, 256]</td>\n      <td>...</td>\n      <td>141</td>\n      <td>mask</td>\n      <td>39962cd5bc9f4f0446341d3e6e0c6c37336ddeb2e026a1...</td>\n      <td>256</td>\n      <td>png</td>\n      <td>256</td>\n      <td>09f4ca6ac614b761fedc67dd07674cf9d831d0d6ad54ce...</td>\n      <td>media/images/007_frame0199.png_250_09f4ca6ac61...</td>\n      <td>0.878947</td>\n      <td>1652800371</td>\n    </tr>\n    <tr>\n      <th>27</th>\n      <td>[crop]</td>\n      <td>lawin</td>\n      <td>MiT-B5</td>\n      <td>[train, test]</td>\n      <td>dataset/processed/Sequoia</td>\n      <td>same</td>\n      <td>CIR</td>\n      <td>True</td>\n      <td>True</td>\n      <td>[256, 256]</td>\n      <td>...</td>\n      <td>141</td>\n      <td>mask</td>\n      <td>39962cd5bc9f4f0446341d3e6e0c6c37336ddeb2e026a1...</td>\n      <td>256</td>\n      <td>png</td>\n      <td>256</td>\n      <td>3d54809b29d8f8e63b929440d3515a9b731fc66790c6c0...</td>\n      <td>media/images/007_frame0199.png_586_3d54809b29d...</td>\n      <td>0.892663</td>\n      <td>1652800657</td>\n    </tr>\n    <tr>\n      <th>28</th>\n      <td>[crop]</td>\n      <td>lawin</td>\n      <td>MiT-B5</td>\n      <td>[train, test]</td>\n      <td>dataset/processed/Sequoia</td>\n      <td>same</td>\n      <td>[NDVI]</td>\n      <td>True</td>\n      <td>True</td>\n      <td>[256, 256]</td>\n      <td>...</td>\n      <td>141</td>\n      <td>mask</td>\n      <td>39962cd5bc9f4f0446341d3e6e0c6c37336ddeb2e026a1...</td>\n      <td>256</td>\n      <td>png</td>\n      <td>256</td>\n      <td>6261c28a2ad9137d9d9e6ceba7a77e6ff45e62d7a8d135...</td>\n      <td>media/images/007_frame0199.png_264_6261c28a2ad...</td>\n      <td>0.881798</td>\n      <td>1652800928</td>\n    </tr>\n    <tr>\n      <th>29</th>\n      <td>[crop]</td>\n      <td>lawin</td>\n      <td>MiT-B5</td>\n      <td>[train, test]</td>\n      <td>dataset/processed/Sequoia</td>\n      <td>same</td>\n      <td>[R, G]</td>\n      <td>True</td>\n      <td>True</td>\n      <td>[256, 256]</td>\n      <td>...</td>\n      <td>141</td>\n      <td>mask</td>\n      <td>39962cd5bc9f4f0446341d3e6e0c6c37336ddeb2e026a1...</td>\n      <td>256</td>\n      <td>png</td>\n      <td>256</td>\n      <td>bfd6ce48f37f2a9d7bb4029606ac7c48857c48149744f6...</td>\n      <td>media/images/007_frame0199.png_488_bfd6ce48f37...</td>\n      <td>0.957657</td>\n      <td>1652801225</td>\n    </tr>\n    <tr>\n      <th>30</th>\n      <td>[crop]</td>\n      <td>lawin</td>\n      <td>MiT-B5</td>\n      <td>[train, test]</td>\n      <td>dataset/processed/Sequoia</td>\n      <td>same</td>\n      <td>[G, NDVI, NIR, R, RE]</td>\n      <td>True</td>\n      <td>True</td>\n      <td>[256, 256]</td>\n      <td>...</td>\n      <td>141</td>\n      <td>mask</td>\n      <td>39962cd5bc9f4f0446341d3e6e0c6c37336ddeb2e026a1...</td>\n      <td>256</td>\n      <td>png</td>\n      <td>256</td>\n      <td>1d8b3a499f25a0ef229ec1f8639ee4f8ad882f863b28eb...</td>\n      <td>media/images/007_frame0199.png_348_1d8b3a499f2...</td>\n      <td>0.937361</td>\n      <td>1652801537</td>\n    </tr>\n    <tr>\n      <th>31</th>\n      <td>[crop]</td>\n      <td>lawin</td>\n      <td>MiT-B5</td>\n      <td>[train, test]</td>\n      <td>dataset/processed/Sequoia</td>\n      <td>same</td>\n      <td>[R, G, RE, NIR]</td>\n      <td>True</td>\n      <td>True</td>\n      <td>[256, 256]</td>\n      <td>...</td>\n      <td>141</td>\n      <td>mask</td>\n      <td>39962cd5bc9f4f0446341d3e6e0c6c37336ddeb2e026a1...</td>\n      <td>256</td>\n      <td>png</td>\n      <td>256</td>\n      <td>eafeb001d6f4c337981ba0aa41f454b624bec90f7392fa...</td>\n      <td>media/images/007_frame0199.png_390_eafeb001d6f...</td>\n      <td>0.961658</td>\n      <td>1652801844</td>\n    </tr>\n    <tr>\n      <th>32</th>\n      <td>[crop]</td>\n      <td>lawin</td>\n      <td>MiT-B5</td>\n      <td>[train, test]</td>\n      <td>dataset/processed/Sequoia</td>\n      <td>same</td>\n      <td>[G, NIR, R]</td>\n      <td>True</td>\n      <td>True</td>\n      <td>[256, 256]</td>\n      <td>...</td>\n      <td>141</td>\n      <td>mask</td>\n      <td>39962cd5bc9f4f0446341d3e6e0c6c37336ddeb2e026a1...</td>\n      <td>256</td>\n      <td>png</td>\n      <td>256</td>\n      <td>d1bdb3e772591126b7d7978f3822a38e98d7356f0299f2...</td>\n      <td>media/images/007_frame0199.png_292_d1bdb3e7725...</td>\n      <td>0.916071</td>\n      <td>1652802139</td>\n    </tr>\n    <tr>\n      <th>33</th>\n      <td>[crop]</td>\n      <td>lawin</td>\n      <td>MiT-B5</td>\n      <td>[train, test]</td>\n      <td>dataset/processed/Sequoia</td>\n      <td>same</td>\n      <td>CIR</td>\n      <td>True</td>\n      <td>True</td>\n      <td>[256, 256]</td>\n      <td>...</td>\n      <td>141</td>\n      <td>mask</td>\n      <td>39962cd5bc9f4f0446341d3e6e0c6c37336ddeb2e026a1...</td>\n      <td>256</td>\n      <td>png</td>\n      <td>256</td>\n      <td>833a32ae2ec0f5cbd6dfd8c59498965b53b827e8b66a13...</td>\n      <td>media/images/007_frame0199.png_292_833a32ae2ec...</td>\n      <td>0.902016</td>\n      <td>1652802439</td>\n    </tr>\n    <tr>\n      <th>34</th>\n      <td>[crop]</td>\n      <td>lawin</td>\n      <td>MiT-B5</td>\n      <td>[train, test]</td>\n      <td>dataset/processed/Sequoia</td>\n      <td>same</td>\n      <td>[NDVI]</td>\n      <td>True</td>\n      <td>True</td>\n      <td>[256, 256]</td>\n      <td>...</td>\n      <td>141</td>\n      <td>mask</td>\n      <td>39962cd5bc9f4f0446341d3e6e0c6c37336ddeb2e026a1...</td>\n      <td>256</td>\n      <td>png</td>\n      <td>256</td>\n      <td>59d2ff65b4510fda4d003ff71442a3c0d20ee9ea6e37af...</td>\n      <td>media/images/007_frame0199.png_362_59d2ff65b45...</td>\n      <td>0.903151</td>\n      <td>1652802721</td>\n    </tr>\n    <tr>\n      <th>35</th>\n      <td>[crop]</td>\n      <td>lawin</td>\n      <td>MiT-B5</td>\n      <td>[train, test]</td>\n      <td>dataset/processed/Sequoia</td>\n      <td>same</td>\n      <td>[R, G]</td>\n      <td>True</td>\n      <td>True</td>\n      <td>[256, 256]</td>\n      <td>...</td>\n      <td>141</td>\n      <td>mask</td>\n      <td>39962cd5bc9f4f0446341d3e6e0c6c37336ddeb2e026a1...</td>\n      <td>256</td>\n      <td>png</td>\n      <td>256</td>\n      <td>4009d3f1856b64d2fd1dc332073c05e33c0549e85b444a...</td>\n      <td>media/images/007_frame0199.png_586_4009d3f1856...</td>\n      <td>0.980820</td>\n      <td>1652803028</td>\n    </tr>\n    <tr>\n      <th>36</th>\n      <td>[crop]</td>\n      <td>lawin</td>\n      <td>MiT-B5</td>\n      <td>[train, test]</td>\n      <td>dataset/processed/Sequoia</td>\n      <td>same</td>\n      <td>[G, NDVI, NIR, R, RE]</td>\n      <td>True</td>\n      <td>True</td>\n      <td>[256, 256]</td>\n      <td>...</td>\n      <td>141</td>\n      <td>mask</td>\n      <td>39962cd5bc9f4f0446341d3e6e0c6c37336ddeb2e026a1...</td>\n      <td>256</td>\n      <td>png</td>\n      <td>256</td>\n      <td>158fbb886fbc71c0e6ded38bda1790c24fa3171c385843...</td>\n      <td>media/images/007_frame0199.png_194_158fbb886fb...</td>\n      <td>0.938547</td>\n      <td>1652803350</td>\n    </tr>\n    <tr>\n      <th>37</th>\n      <td>[crop]</td>\n      <td>lawin</td>\n      <td>MiT-B5</td>\n      <td>[train, test]</td>\n      <td>dataset/processed/Sequoia</td>\n      <td>same</td>\n      <td>[R, G, RE, NIR]</td>\n      <td>True</td>\n      <td>True</td>\n      <td>[256, 256]</td>\n      <td>...</td>\n      <td>141</td>\n      <td>mask</td>\n      <td>39962cd5bc9f4f0446341d3e6e0c6c37336ddeb2e026a1...</td>\n      <td>256</td>\n      <td>png</td>\n      <td>256</td>\n      <td>ff2570db8ad6e51f888aece5f2f107ccdbf260d858c5be...</td>\n      <td>media/images/007_frame0199.png_250_ff2570db8ad...</td>\n      <td>0.974011</td>\n      <td>1652803659</td>\n    </tr>\n    <tr>\n      <th>38</th>\n      <td>[crop]</td>\n      <td>lawin</td>\n      <td>MiT-B5</td>\n      <td>[train, test]</td>\n      <td>dataset/processed/Sequoia</td>\n      <td>same</td>\n      <td>[G, NIR, R]</td>\n      <td>True</td>\n      <td>True</td>\n      <td>[256, 256]</td>\n      <td>...</td>\n      <td>141</td>\n      <td>mask</td>\n      <td>39962cd5bc9f4f0446341d3e6e0c6c37336ddeb2e026a1...</td>\n      <td>256</td>\n      <td>png</td>\n      <td>256</td>\n      <td>d1bdb3e772591126b7d7978f3822a38e98d7356f0299f2...</td>\n      <td>media/images/007_frame0199.png_292_d1bdb3e7725...</td>\n      <td>0.972970</td>\n      <td>1652803971</td>\n    </tr>\n    <tr>\n      <th>39</th>\n      <td>[crop]</td>\n      <td>lawin</td>\n      <td>MiT-B5</td>\n      <td>[train, test]</td>\n      <td>dataset/processed/Sequoia</td>\n      <td>same</td>\n      <td>CIR</td>\n      <td>True</td>\n      <td>True</td>\n      <td>[256, 256]</td>\n      <td>...</td>\n      <td>141</td>\n      <td>mask</td>\n      <td>39962cd5bc9f4f0446341d3e6e0c6c37336ddeb2e026a1...</td>\n      <td>256</td>\n      <td>png</td>\n      <td>256</td>\n      <td>8b27f64da00a9c8cc1a5fa9f013f9538c9dc09041beb08...</td>\n      <td>media/images/007_frame0199.png_376_8b27f64da00...</td>\n      <td>0.964152</td>\n      <td>1652804307</td>\n    </tr>\n    <tr>\n      <th>40</th>\n      <td>[crop]</td>\n      <td>lawin</td>\n      <td>MiT-B5</td>\n      <td>[train, test]</td>\n      <td>dataset/processed/Sequoia</td>\n      <td>same</td>\n      <td>[NDVI]</td>\n      <td>True</td>\n      <td>True</td>\n      <td>[256, 256]</td>\n      <td>...</td>\n      <td>141</td>\n      <td>mask</td>\n      <td>39962cd5bc9f4f0446341d3e6e0c6c37336ddeb2e026a1...</td>\n      <td>256</td>\n      <td>png</td>\n      <td>256</td>\n      <td>9b7f05a4db4040442155c8739dbef1f22b2eba0a1640f9...</td>\n      <td>media/images/007_frame0199.png_334_9b7f05a4db4...</td>\n      <td>0.853448</td>\n      <td>1652804602</td>\n    </tr>\n    <tr>\n      <th>41</th>\n      <td>[crop]</td>\n      <td>lawin</td>\n      <td>MiT-B5</td>\n      <td>[train, test]</td>\n      <td>dataset/processed/Sequoia</td>\n      <td>same</td>\n      <td>[R, G]</td>\n      <td>True</td>\n      <td>True</td>\n      <td>[256, 256]</td>\n      <td>...</td>\n      <td>141</td>\n      <td>mask</td>\n      <td>39962cd5bc9f4f0446341d3e6e0c6c37336ddeb2e026a1...</td>\n      <td>256</td>\n      <td>png</td>\n      <td>256</td>\n      <td>a7b15e4ca7935195d6eb810be99bc2cc00cc6ebff587de...</td>\n      <td>media/images/007_frame0199.png_628_a7b15e4ca79...</td>\n      <td>0.961063</td>\n      <td>1652804885</td>\n    </tr>\n    <tr>\n      <th>42</th>\n      <td>[crop]</td>\n      <td>lawin</td>\n      <td>MiT-B5</td>\n      <td>[train, test]</td>\n      <td>dataset/processed/Sequoia</td>\n      <td>same</td>\n      <td>[G, NDVI, NIR, R, RE]</td>\n      <td>True</td>\n      <td>True</td>\n      <td>[256, 256]</td>\n      <td>...</td>\n      <td>141</td>\n      <td>mask</td>\n      <td>39962cd5bc9f4f0446341d3e6e0c6c37336ddeb2e026a1...</td>\n      <td>256</td>\n      <td>png</td>\n      <td>256</td>\n      <td>859c5ae39c91136ab3120c6805b0adfb11adeabb1742e8...</td>\n      <td>media/images/007_frame0199.png_390_859c5ae39c9...</td>\n      <td>0.930027</td>\n      <td>1652805230</td>\n    </tr>\n    <tr>\n      <th>43</th>\n      <td>[crop]</td>\n      <td>lawin</td>\n      <td>MiT-B5</td>\n      <td>[train, test]</td>\n      <td>dataset/processed/Sequoia</td>\n      <td>same</td>\n      <td>[R, G, RE, NIR]</td>\n      <td>True</td>\n      <td>True</td>\n      <td>[256, 256]</td>\n      <td>...</td>\n      <td>141</td>\n      <td>mask</td>\n      <td>39962cd5bc9f4f0446341d3e6e0c6c37336ddeb2e026a1...</td>\n      <td>256</td>\n      <td>png</td>\n      <td>256</td>\n      <td>dadcdc9b39488a5a494e09efbb1f276f37eca4350b1d06...</td>\n      <td>media/images/007_frame0199.png_208_dadcdc9b394...</td>\n      <td>0.890045</td>\n      <td>1652805531</td>\n    </tr>\n    <tr>\n      <th>44</th>\n      <td>[crop]</td>\n      <td>lawin</td>\n      <td>MiT-B5</td>\n      <td>[train, test]</td>\n      <td>dataset/processed/Sequoia</td>\n      <td>same</td>\n      <td>[G, NIR, R]</td>\n      <td>True</td>\n      <td>True</td>\n      <td>[256, 256]</td>\n      <td>...</td>\n      <td>141</td>\n      <td>mask</td>\n      <td>39962cd5bc9f4f0446341d3e6e0c6c37336ddeb2e026a1...</td>\n      <td>256</td>\n      <td>png</td>\n      <td>256</td>\n      <td>e4d6b52fcf4185fe24d278a62ce86aeb41297f109e7546...</td>\n      <td>media/images/007_frame0199.png_586_e4d6b52fcf4...</td>\n      <td>0.982832</td>\n      <td>1652805834</td>\n    </tr>\n    <tr>\n      <th>45</th>\n      <td>[crop]</td>\n      <td>lawin</td>\n      <td>MiT-B5</td>\n      <td>[train, test]</td>\n      <td>dataset/processed/Sequoia</td>\n      <td>same</td>\n      <td>CIR</td>\n      <td>True</td>\n      <td>True</td>\n      <td>[256, 256]</td>\n      <td>...</td>\n      <td>141</td>\n      <td>mask</td>\n      <td>39962cd5bc9f4f0446341d3e6e0c6c37336ddeb2e026a1...</td>\n      <td>256</td>\n      <td>png</td>\n      <td>256</td>\n      <td>08428677a8c74b1b6c860e50f4bd3bc981ba27f1b52b06...</td>\n      <td>media/images/007_frame0199.png_180_08428677a8c...</td>\n      <td>0.972013</td>\n      <td>1652806168</td>\n    </tr>\n    <tr>\n      <th>46</th>\n      <td>[crop]</td>\n      <td>lawin</td>\n      <td>MiT-B5</td>\n      <td>[train, test]</td>\n      <td>dataset/processed/Sequoia</td>\n      <td>same</td>\n      <td>[NDVI]</td>\n      <td>True</td>\n      <td>True</td>\n      <td>[256, 256]</td>\n      <td>...</td>\n      <td>141</td>\n      <td>mask</td>\n      <td>39962cd5bc9f4f0446341d3e6e0c6c37336ddeb2e026a1...</td>\n      <td>256</td>\n      <td>png</td>\n      <td>256</td>\n      <td>6261c28a2ad9137d9d9e6ceba7a77e6ff45e62d7a8d135...</td>\n      <td>media/images/007_frame0199.png_264_6261c28a2ad...</td>\n      <td>0.851665</td>\n      <td>1652806456</td>\n    </tr>\n    <tr>\n      <th>47</th>\n      <td>[crop]</td>\n      <td>lawin</td>\n      <td>MiT-B5</td>\n      <td>[train, test]</td>\n      <td>dataset/processed/Sequoia</td>\n      <td>same</td>\n      <td>[R, G]</td>\n      <td>True</td>\n      <td>True</td>\n      <td>[256, 256]</td>\n      <td>...</td>\n      <td>141</td>\n      <td>mask</td>\n      <td>39962cd5bc9f4f0446341d3e6e0c6c37336ddeb2e026a1...</td>\n      <td>256</td>\n      <td>png</td>\n      <td>256</td>\n      <td>fb2751d81f663dd949bedf9d174ab1c75bf1cdfc330b15...</td>\n      <td>media/images/007_frame0199.png_334_fb2751d81f6...</td>\n      <td>0.959699</td>\n      <td>1652806767</td>\n    </tr>\n  </tbody>\n</table>\n<p>48 rows × 385 columns</p>\n</div>"
     },
     "execution_count": 169,
     "metadata": {},
     "output_type": "execute_result"
    }
   ],
   "source": [
    "runs_df"
   ],
   "metadata": {
    "collapsed": false,
    "pycharm": {
     "name": "#%%\n"
    }
   }
  },
  {
   "cell_type": "code",
   "execution_count": 170,
   "outputs": [],
   "source": [
    "projected_runs = runs_df[\n",
    "    selected_cols\n",
    "]"
   ],
   "metadata": {
    "collapsed": false,
    "pycharm": {
     "name": "#%%\n"
    }
   }
  },
  {
   "cell_type": "code",
   "execution_count": 171,
   "outputs": [],
   "source": [
    "# selected_runs = projected_runs[projected_runs['in_params.model.params.backbone'] == 'MiT-B0']\n",
    "selected_runs = projected_runs"
   ],
   "metadata": {
    "collapsed": false,
    "pycharm": {
     "name": "#%%\n"
    }
   }
  },
  {
   "cell_type": "code",
   "execution_count": 172,
   "outputs": [
    {
     "data": {
      "text/plain": "   in_params.dataset.channels  \\\n0       [G, NDVI, NIR, R, RE]   \n1             [R, G, RE, NIR]   \n2                 [G, NIR, R]   \n3                         CIR   \n4                      [NDVI]   \n5                      [R, G]   \n6       [G, NDVI, NIR, R, RE]   \n7             [R, G, RE, NIR]   \n8                 [G, NIR, R]   \n9                         CIR   \n10                     [NDVI]   \n11                     [R, G]   \n12      [G, NDVI, NIR, R, RE]   \n13            [R, G, RE, NIR]   \n14                [G, NIR, R]   \n15                        CIR   \n16                     [NDVI]   \n17                     [R, G]   \n18      [G, NDVI, NIR, R, RE]   \n19            [R, G, RE, NIR]   \n20                [G, NIR, R]   \n21                        CIR   \n22                     [NDVI]   \n23                     [R, G]   \n24      [G, NDVI, NIR, R, RE]   \n25            [R, G, RE, NIR]   \n26                [G, NIR, R]   \n27                        CIR   \n28                     [NDVI]   \n29                     [R, G]   \n30      [G, NDVI, NIR, R, RE]   \n31            [R, G, RE, NIR]   \n32                [G, NIR, R]   \n33                        CIR   \n34                     [NDVI]   \n35                     [R, G]   \n36      [G, NDVI, NIR, R, RE]   \n37            [R, G, RE, NIR]   \n38                [G, NIR, R]   \n39                        CIR   \n40                     [NDVI]   \n41                     [R, G]   \n42      [G, NDVI, NIR, R, RE]   \n43            [R, G, RE, NIR]   \n44                [G, NIR, R]   \n45                        CIR   \n46                     [NDVI]   \n47                     [R, G]   \n\n    in_params.train_params.optimizer_params.weight_decay  \\\n0                                              0.0005      \n1                                              0.0005      \n2                                              0.0005      \n3                                              0.0005      \n4                                              0.0005      \n5                                              0.0005      \n6                                              0.0000      \n7                                              0.0000      \n8                                              0.0000      \n9                                              0.0000      \n10                                             0.0000      \n11                                             0.0000      \n12                                             0.0005      \n13                                             0.0005      \n14                                             0.0005      \n15                                             0.0005      \n16                                             0.0005      \n17                                             0.0005      \n18                                             0.0000      \n19                                             0.0000      \n20                                             0.0000      \n21                                             0.0000      \n22                                             0.0000      \n23                                             0.0000      \n24                                             0.0005      \n25                                             0.0005      \n26                                             0.0005      \n27                                             0.0005      \n28                                             0.0005      \n29                                             0.0005      \n30                                             0.0000      \n31                                             0.0000      \n32                                             0.0000      \n33                                             0.0000      \n34                                             0.0000      \n35                                             0.0000      \n36                                             0.0005      \n37                                             0.0005      \n38                                             0.0005      \n39                                             0.0005      \n40                                             0.0005      \n41                                             0.0005      \n42                                             0.0000      \n43                                             0.0000      \n44                                             0.0000      \n45                                             0.0000      \n46                                             0.0000      \n47                                             0.0000      \n\n    in_params.train_params.initial_lr in_params.model.params.backbone  \\\n0                              0.0001                          MiT-B0   \n1                              0.0001                          MiT-B0   \n2                              0.0001                          MiT-B0   \n3                              0.0001                          MiT-B0   \n4                              0.0001                          MiT-B0   \n5                              0.0001                          MiT-B0   \n6                              0.0001                          MiT-B0   \n7                              0.0001                          MiT-B0   \n8                              0.0001                          MiT-B0   \n9                              0.0001                          MiT-B0   \n10                             0.0001                          MiT-B0   \n11                             0.0001                          MiT-B0   \n12                             0.0010                          MiT-B0   \n13                             0.0010                          MiT-B0   \n14                             0.0010                          MiT-B0   \n15                             0.0010                          MiT-B0   \n16                             0.0010                          MiT-B0   \n17                             0.0010                          MiT-B0   \n18                             0.0010                          MiT-B0   \n19                             0.0010                          MiT-B0   \n20                             0.0010                          MiT-B0   \n21                             0.0010                          MiT-B0   \n22                             0.0010                          MiT-B0   \n23                             0.0010                          MiT-B0   \n24                             0.0001                          MiT-B5   \n25                             0.0001                          MiT-B5   \n26                             0.0001                          MiT-B5   \n27                             0.0001                          MiT-B5   \n28                             0.0001                          MiT-B5   \n29                             0.0001                          MiT-B5   \n30                             0.0001                          MiT-B5   \n31                             0.0001                          MiT-B5   \n32                             0.0001                          MiT-B5   \n33                             0.0001                          MiT-B5   \n34                             0.0001                          MiT-B5   \n35                             0.0001                          MiT-B5   \n36                             0.0010                          MiT-B5   \n37                             0.0010                          MiT-B5   \n38                             0.0010                          MiT-B5   \n39                             0.0010                          MiT-B5   \n40                             0.0010                          MiT-B5   \n41                             0.0010                          MiT-B5   \n42                             0.0010                          MiT-B5   \n43                             0.0010                          MiT-B5   \n44                             0.0010                          MiT-B5   \n45                             0.0010                          MiT-B5   \n46                             0.0010                          MiT-B5   \n47                             0.0010                          MiT-B5   \n\n          f1  precision    recall  \n0   0.326794   0.345053  0.465314  \n1   0.377526   0.705026  0.357784  \n2   0.357331   0.499817  0.348049  \n3   0.404106   0.428261  0.403309  \n4   0.331022   0.338566  0.456207  \n5   0.356745   0.390026  0.434191  \n6   0.338468   0.390821  0.496304  \n7   0.372336   0.573994  0.355982  \n8   0.371983   0.444056  0.481801  \n9   0.369274   0.399371  0.358478  \n10  0.325224   0.355304  0.529422  \n11  0.387183   0.509588  0.494369  \n12  0.336833   0.427961  0.511803  \n13  0.378040   0.416440  0.369071  \n14  0.399803   0.542601  0.377764  \n15  0.326359   0.340781  0.450325  \n16  0.328708   0.339060  0.501390  \n17  0.388022   0.483523  0.405587  \n18  0.339523   0.370072  0.506148  \n19  0.483167   0.484136  0.575876  \n20  0.381551   0.491686  0.452986  \n21  0.341725   0.380184  0.484049  \n22  0.331372   0.334582  0.409402  \n23  0.436855   0.414089  0.623098  \n24  0.329151   0.330537  0.333652  \n25  0.405017   0.480504  0.384762  \n26  0.342329   0.348873  0.339877  \n27  0.397411   0.502299  0.373238  \n28  0.332890   0.333352  0.332737  \n29  0.371294   0.476585  0.423293  \n30  0.372248   0.359319  0.505363  \n31  0.482016   0.441419  0.578241  \n32  0.354732   0.362747  0.350266  \n33  0.349528   0.362331  0.345688  \n34  0.316576   0.332842  0.477583  \n35  0.389043   0.448942  0.492874  \n36  0.345032   0.354250  0.414202  \n37  0.354868   0.523053  0.345488  \n38  0.396958   0.431670  0.384523  \n39  0.354144   0.429810  0.361428  \n40  0.324259   0.332435  0.396403  \n41  0.380023   0.489631  0.377246  \n42  0.330474   0.341669  0.460035  \n43  0.349982   0.392281  0.450363  \n44  0.381026   0.511343  0.388087  \n45  0.364410   0.399967  0.460060  \n46  0.312145   0.338739  0.571301  \n47  0.468563   0.535341  0.484144  ",
      "text/html": "<div>\n<style scoped>\n    .dataframe tbody tr th:only-of-type {\n        vertical-align: middle;\n    }\n\n    .dataframe tbody tr th {\n        vertical-align: top;\n    }\n\n    .dataframe thead th {\n        text-align: right;\n    }\n</style>\n<table border=\"1\" class=\"dataframe\">\n  <thead>\n    <tr style=\"text-align: right;\">\n      <th></th>\n      <th>in_params.dataset.channels</th>\n      <th>in_params.train_params.optimizer_params.weight_decay</th>\n      <th>in_params.train_params.initial_lr</th>\n      <th>in_params.model.params.backbone</th>\n      <th>f1</th>\n      <th>precision</th>\n      <th>recall</th>\n    </tr>\n  </thead>\n  <tbody>\n    <tr>\n      <th>0</th>\n      <td>[G, NDVI, NIR, R, RE]</td>\n      <td>0.0005</td>\n      <td>0.0001</td>\n      <td>MiT-B0</td>\n      <td>0.326794</td>\n      <td>0.345053</td>\n      <td>0.465314</td>\n    </tr>\n    <tr>\n      <th>1</th>\n      <td>[R, G, RE, NIR]</td>\n      <td>0.0005</td>\n      <td>0.0001</td>\n      <td>MiT-B0</td>\n      <td>0.377526</td>\n      <td>0.705026</td>\n      <td>0.357784</td>\n    </tr>\n    <tr>\n      <th>2</th>\n      <td>[G, NIR, R]</td>\n      <td>0.0005</td>\n      <td>0.0001</td>\n      <td>MiT-B0</td>\n      <td>0.357331</td>\n      <td>0.499817</td>\n      <td>0.348049</td>\n    </tr>\n    <tr>\n      <th>3</th>\n      <td>CIR</td>\n      <td>0.0005</td>\n      <td>0.0001</td>\n      <td>MiT-B0</td>\n      <td>0.404106</td>\n      <td>0.428261</td>\n      <td>0.403309</td>\n    </tr>\n    <tr>\n      <th>4</th>\n      <td>[NDVI]</td>\n      <td>0.0005</td>\n      <td>0.0001</td>\n      <td>MiT-B0</td>\n      <td>0.331022</td>\n      <td>0.338566</td>\n      <td>0.456207</td>\n    </tr>\n    <tr>\n      <th>5</th>\n      <td>[R, G]</td>\n      <td>0.0005</td>\n      <td>0.0001</td>\n      <td>MiT-B0</td>\n      <td>0.356745</td>\n      <td>0.390026</td>\n      <td>0.434191</td>\n    </tr>\n    <tr>\n      <th>6</th>\n      <td>[G, NDVI, NIR, R, RE]</td>\n      <td>0.0000</td>\n      <td>0.0001</td>\n      <td>MiT-B0</td>\n      <td>0.338468</td>\n      <td>0.390821</td>\n      <td>0.496304</td>\n    </tr>\n    <tr>\n      <th>7</th>\n      <td>[R, G, RE, NIR]</td>\n      <td>0.0000</td>\n      <td>0.0001</td>\n      <td>MiT-B0</td>\n      <td>0.372336</td>\n      <td>0.573994</td>\n      <td>0.355982</td>\n    </tr>\n    <tr>\n      <th>8</th>\n      <td>[G, NIR, R]</td>\n      <td>0.0000</td>\n      <td>0.0001</td>\n      <td>MiT-B0</td>\n      <td>0.371983</td>\n      <td>0.444056</td>\n      <td>0.481801</td>\n    </tr>\n    <tr>\n      <th>9</th>\n      <td>CIR</td>\n      <td>0.0000</td>\n      <td>0.0001</td>\n      <td>MiT-B0</td>\n      <td>0.369274</td>\n      <td>0.399371</td>\n      <td>0.358478</td>\n    </tr>\n    <tr>\n      <th>10</th>\n      <td>[NDVI]</td>\n      <td>0.0000</td>\n      <td>0.0001</td>\n      <td>MiT-B0</td>\n      <td>0.325224</td>\n      <td>0.355304</td>\n      <td>0.529422</td>\n    </tr>\n    <tr>\n      <th>11</th>\n      <td>[R, G]</td>\n      <td>0.0000</td>\n      <td>0.0001</td>\n      <td>MiT-B0</td>\n      <td>0.387183</td>\n      <td>0.509588</td>\n      <td>0.494369</td>\n    </tr>\n    <tr>\n      <th>12</th>\n      <td>[G, NDVI, NIR, R, RE]</td>\n      <td>0.0005</td>\n      <td>0.0010</td>\n      <td>MiT-B0</td>\n      <td>0.336833</td>\n      <td>0.427961</td>\n      <td>0.511803</td>\n    </tr>\n    <tr>\n      <th>13</th>\n      <td>[R, G, RE, NIR]</td>\n      <td>0.0005</td>\n      <td>0.0010</td>\n      <td>MiT-B0</td>\n      <td>0.378040</td>\n      <td>0.416440</td>\n      <td>0.369071</td>\n    </tr>\n    <tr>\n      <th>14</th>\n      <td>[G, NIR, R]</td>\n      <td>0.0005</td>\n      <td>0.0010</td>\n      <td>MiT-B0</td>\n      <td>0.399803</td>\n      <td>0.542601</td>\n      <td>0.377764</td>\n    </tr>\n    <tr>\n      <th>15</th>\n      <td>CIR</td>\n      <td>0.0005</td>\n      <td>0.0010</td>\n      <td>MiT-B0</td>\n      <td>0.326359</td>\n      <td>0.340781</td>\n      <td>0.450325</td>\n    </tr>\n    <tr>\n      <th>16</th>\n      <td>[NDVI]</td>\n      <td>0.0005</td>\n      <td>0.0010</td>\n      <td>MiT-B0</td>\n      <td>0.328708</td>\n      <td>0.339060</td>\n      <td>0.501390</td>\n    </tr>\n    <tr>\n      <th>17</th>\n      <td>[R, G]</td>\n      <td>0.0005</td>\n      <td>0.0010</td>\n      <td>MiT-B0</td>\n      <td>0.388022</td>\n      <td>0.483523</td>\n      <td>0.405587</td>\n    </tr>\n    <tr>\n      <th>18</th>\n      <td>[G, NDVI, NIR, R, RE]</td>\n      <td>0.0000</td>\n      <td>0.0010</td>\n      <td>MiT-B0</td>\n      <td>0.339523</td>\n      <td>0.370072</td>\n      <td>0.506148</td>\n    </tr>\n    <tr>\n      <th>19</th>\n      <td>[R, G, RE, NIR]</td>\n      <td>0.0000</td>\n      <td>0.0010</td>\n      <td>MiT-B0</td>\n      <td>0.483167</td>\n      <td>0.484136</td>\n      <td>0.575876</td>\n    </tr>\n    <tr>\n      <th>20</th>\n      <td>[G, NIR, R]</td>\n      <td>0.0000</td>\n      <td>0.0010</td>\n      <td>MiT-B0</td>\n      <td>0.381551</td>\n      <td>0.491686</td>\n      <td>0.452986</td>\n    </tr>\n    <tr>\n      <th>21</th>\n      <td>CIR</td>\n      <td>0.0000</td>\n      <td>0.0010</td>\n      <td>MiT-B0</td>\n      <td>0.341725</td>\n      <td>0.380184</td>\n      <td>0.484049</td>\n    </tr>\n    <tr>\n      <th>22</th>\n      <td>[NDVI]</td>\n      <td>0.0000</td>\n      <td>0.0010</td>\n      <td>MiT-B0</td>\n      <td>0.331372</td>\n      <td>0.334582</td>\n      <td>0.409402</td>\n    </tr>\n    <tr>\n      <th>23</th>\n      <td>[R, G]</td>\n      <td>0.0000</td>\n      <td>0.0010</td>\n      <td>MiT-B0</td>\n      <td>0.436855</td>\n      <td>0.414089</td>\n      <td>0.623098</td>\n    </tr>\n    <tr>\n      <th>24</th>\n      <td>[G, NDVI, NIR, R, RE]</td>\n      <td>0.0005</td>\n      <td>0.0001</td>\n      <td>MiT-B5</td>\n      <td>0.329151</td>\n      <td>0.330537</td>\n      <td>0.333652</td>\n    </tr>\n    <tr>\n      <th>25</th>\n      <td>[R, G, RE, NIR]</td>\n      <td>0.0005</td>\n      <td>0.0001</td>\n      <td>MiT-B5</td>\n      <td>0.405017</td>\n      <td>0.480504</td>\n      <td>0.384762</td>\n    </tr>\n    <tr>\n      <th>26</th>\n      <td>[G, NIR, R]</td>\n      <td>0.0005</td>\n      <td>0.0001</td>\n      <td>MiT-B5</td>\n      <td>0.342329</td>\n      <td>0.348873</td>\n      <td>0.339877</td>\n    </tr>\n    <tr>\n      <th>27</th>\n      <td>CIR</td>\n      <td>0.0005</td>\n      <td>0.0001</td>\n      <td>MiT-B5</td>\n      <td>0.397411</td>\n      <td>0.502299</td>\n      <td>0.373238</td>\n    </tr>\n    <tr>\n      <th>28</th>\n      <td>[NDVI]</td>\n      <td>0.0005</td>\n      <td>0.0001</td>\n      <td>MiT-B5</td>\n      <td>0.332890</td>\n      <td>0.333352</td>\n      <td>0.332737</td>\n    </tr>\n    <tr>\n      <th>29</th>\n      <td>[R, G]</td>\n      <td>0.0005</td>\n      <td>0.0001</td>\n      <td>MiT-B5</td>\n      <td>0.371294</td>\n      <td>0.476585</td>\n      <td>0.423293</td>\n    </tr>\n    <tr>\n      <th>30</th>\n      <td>[G, NDVI, NIR, R, RE]</td>\n      <td>0.0000</td>\n      <td>0.0001</td>\n      <td>MiT-B5</td>\n      <td>0.372248</td>\n      <td>0.359319</td>\n      <td>0.505363</td>\n    </tr>\n    <tr>\n      <th>31</th>\n      <td>[R, G, RE, NIR]</td>\n      <td>0.0000</td>\n      <td>0.0001</td>\n      <td>MiT-B5</td>\n      <td>0.482016</td>\n      <td>0.441419</td>\n      <td>0.578241</td>\n    </tr>\n    <tr>\n      <th>32</th>\n      <td>[G, NIR, R]</td>\n      <td>0.0000</td>\n      <td>0.0001</td>\n      <td>MiT-B5</td>\n      <td>0.354732</td>\n      <td>0.362747</td>\n      <td>0.350266</td>\n    </tr>\n    <tr>\n      <th>33</th>\n      <td>CIR</td>\n      <td>0.0000</td>\n      <td>0.0001</td>\n      <td>MiT-B5</td>\n      <td>0.349528</td>\n      <td>0.362331</td>\n      <td>0.345688</td>\n    </tr>\n    <tr>\n      <th>34</th>\n      <td>[NDVI]</td>\n      <td>0.0000</td>\n      <td>0.0001</td>\n      <td>MiT-B5</td>\n      <td>0.316576</td>\n      <td>0.332842</td>\n      <td>0.477583</td>\n    </tr>\n    <tr>\n      <th>35</th>\n      <td>[R, G]</td>\n      <td>0.0000</td>\n      <td>0.0001</td>\n      <td>MiT-B5</td>\n      <td>0.389043</td>\n      <td>0.448942</td>\n      <td>0.492874</td>\n    </tr>\n    <tr>\n      <th>36</th>\n      <td>[G, NDVI, NIR, R, RE]</td>\n      <td>0.0005</td>\n      <td>0.0010</td>\n      <td>MiT-B5</td>\n      <td>0.345032</td>\n      <td>0.354250</td>\n      <td>0.414202</td>\n    </tr>\n    <tr>\n      <th>37</th>\n      <td>[R, G, RE, NIR]</td>\n      <td>0.0005</td>\n      <td>0.0010</td>\n      <td>MiT-B5</td>\n      <td>0.354868</td>\n      <td>0.523053</td>\n      <td>0.345488</td>\n    </tr>\n    <tr>\n      <th>38</th>\n      <td>[G, NIR, R]</td>\n      <td>0.0005</td>\n      <td>0.0010</td>\n      <td>MiT-B5</td>\n      <td>0.396958</td>\n      <td>0.431670</td>\n      <td>0.384523</td>\n    </tr>\n    <tr>\n      <th>39</th>\n      <td>CIR</td>\n      <td>0.0005</td>\n      <td>0.0010</td>\n      <td>MiT-B5</td>\n      <td>0.354144</td>\n      <td>0.429810</td>\n      <td>0.361428</td>\n    </tr>\n    <tr>\n      <th>40</th>\n      <td>[NDVI]</td>\n      <td>0.0005</td>\n      <td>0.0010</td>\n      <td>MiT-B5</td>\n      <td>0.324259</td>\n      <td>0.332435</td>\n      <td>0.396403</td>\n    </tr>\n    <tr>\n      <th>41</th>\n      <td>[R, G]</td>\n      <td>0.0005</td>\n      <td>0.0010</td>\n      <td>MiT-B5</td>\n      <td>0.380023</td>\n      <td>0.489631</td>\n      <td>0.377246</td>\n    </tr>\n    <tr>\n      <th>42</th>\n      <td>[G, NDVI, NIR, R, RE]</td>\n      <td>0.0000</td>\n      <td>0.0010</td>\n      <td>MiT-B5</td>\n      <td>0.330474</td>\n      <td>0.341669</td>\n      <td>0.460035</td>\n    </tr>\n    <tr>\n      <th>43</th>\n      <td>[R, G, RE, NIR]</td>\n      <td>0.0000</td>\n      <td>0.0010</td>\n      <td>MiT-B5</td>\n      <td>0.349982</td>\n      <td>0.392281</td>\n      <td>0.450363</td>\n    </tr>\n    <tr>\n      <th>44</th>\n      <td>[G, NIR, R]</td>\n      <td>0.0000</td>\n      <td>0.0010</td>\n      <td>MiT-B5</td>\n      <td>0.381026</td>\n      <td>0.511343</td>\n      <td>0.388087</td>\n    </tr>\n    <tr>\n      <th>45</th>\n      <td>CIR</td>\n      <td>0.0000</td>\n      <td>0.0010</td>\n      <td>MiT-B5</td>\n      <td>0.364410</td>\n      <td>0.399967</td>\n      <td>0.460060</td>\n    </tr>\n    <tr>\n      <th>46</th>\n      <td>[NDVI]</td>\n      <td>0.0000</td>\n      <td>0.0010</td>\n      <td>MiT-B5</td>\n      <td>0.312145</td>\n      <td>0.338739</td>\n      <td>0.571301</td>\n    </tr>\n    <tr>\n      <th>47</th>\n      <td>[R, G]</td>\n      <td>0.0000</td>\n      <td>0.0010</td>\n      <td>MiT-B5</td>\n      <td>0.468563</td>\n      <td>0.535341</td>\n      <td>0.484144</td>\n    </tr>\n  </tbody>\n</table>\n</div>"
     },
     "execution_count": 172,
     "metadata": {},
     "output_type": "execute_result"
    }
   ],
   "source": [
    "selected_runs"
   ],
   "metadata": {
    "collapsed": false,
    "pycharm": {
     "name": "#%%\n"
    }
   }
  },
  {
   "cell_type": "code",
   "execution_count": 173,
   "outputs": [
    {
     "name": "stderr",
     "output_type": "stream",
     "text": [
      "C:\\Users\\pasqu\\AppData\\Local\\Temp\\ipykernel_15020\\2582322293.py:1: SettingWithCopyWarning: \n",
      "A value is trying to be set on a copy of a slice from a DataFrame\n",
      "\n",
      "See the caveats in the documentation: https://pandas.pydata.org/pandas-docs/stable/user_guide/indexing.html#returning-a-view-versus-a-copy\n",
      "  selected_runs.rename(columns=renamings, inplace=True)\n",
      "C:\\Users\\pasqu\\AppData\\Local\\Temp\\ipykernel_15020\\2582322293.py:2: SettingWithCopyWarning: \n",
      "A value is trying to be set on a copy of a slice from a DataFrame.\n",
      "Try using .loc[row_indexer,col_indexer] = value instead\n",
      "\n",
      "See the caveats in the documentation: https://pandas.pydata.org/pandas-docs/stable/user_guide/indexing.html#returning-a-view-versus-a-copy\n",
      "  selected_runs[roundings] = selected_runs[roundings].round(3)\n"
     ]
    }
   ],
   "source": [
    "selected_runs.rename(columns=renamings, inplace=True)\n",
    "selected_runs[roundings] = selected_runs[roundings].round(3)\n",
    "selected_runs = selected_runs.applymap(lambda x: ', '.join(x) if isinstance(x, list) else x)"
   ],
   "metadata": {
    "collapsed": false,
    "pycharm": {
     "name": "#%%\n"
    }
   }
  },
  {
   "cell_type": "code",
   "execution_count": 174,
   "outputs": [
    {
     "name": "stderr",
     "output_type": "stream",
     "text": [
      "C:\\Users\\pasqu\\AppData\\Local\\Temp\\ipykernel_15020\\1057191433.py:3: SettingWithCopyWarning: \n",
      "A value is trying to be set on a copy of a slice from a DataFrame\n",
      "\n",
      "See the caveats in the documentation: https://pandas.pydata.org/pandas-docs/stable/user_guide/indexing.html#returning-a-view-versus-a-copy\n",
      "  best_runs.sort_values(by=\"Channels\", key=lambda x: x.apply(lambda k: channels_ordering[k]), inplace=True)\n"
     ]
    }
   ],
   "source": [
    "idx = selected_runs.groupby(by='Channels')['F1'].transform(max) == selected_runs['F1']\n",
    "best_runs = selected_runs[idx]\n",
    "best_runs.sort_values(by=\"Channels\", key=lambda x: x.apply(lambda k: channels_ordering[k]), inplace=True)"
   ],
   "metadata": {
    "collapsed": false,
    "pycharm": {
     "name": "#%%\n"
    }
   }
  },
  {
   "cell_type": "code",
   "execution_count": 175,
   "outputs": [
    {
     "data": {
      "text/plain": "               Channels  Weight Decay      LR Backbone     F1  Precision  \\\n0   G, NDVI, NIR, R, RE        0.0005  0.0001   MiT-B0  0.327      0.345   \n1         R, G, RE, NIR        0.0005  0.0001   MiT-B0  0.378      0.705   \n2             G, NIR, R        0.0005  0.0001   MiT-B0  0.357      0.500   \n3                   CIR        0.0005  0.0001   MiT-B0  0.404      0.428   \n4                  NDVI        0.0005  0.0001   MiT-B0  0.331      0.339   \n5                  R, G        0.0005  0.0001   MiT-B0  0.357      0.390   \n6   G, NDVI, NIR, R, RE        0.0000  0.0001   MiT-B0  0.338      0.391   \n7         R, G, RE, NIR        0.0000  0.0001   MiT-B0  0.372      0.574   \n8             G, NIR, R        0.0000  0.0001   MiT-B0  0.372      0.444   \n9                   CIR        0.0000  0.0001   MiT-B0  0.369      0.399   \n10                 NDVI        0.0000  0.0001   MiT-B0  0.325      0.355   \n11                 R, G        0.0000  0.0001   MiT-B0  0.387      0.510   \n12  G, NDVI, NIR, R, RE        0.0005  0.0010   MiT-B0  0.337      0.428   \n13        R, G, RE, NIR        0.0005  0.0010   MiT-B0  0.378      0.416   \n14            G, NIR, R        0.0005  0.0010   MiT-B0  0.400      0.543   \n15                  CIR        0.0005  0.0010   MiT-B0  0.326      0.341   \n16                 NDVI        0.0005  0.0010   MiT-B0  0.329      0.339   \n17                 R, G        0.0005  0.0010   MiT-B0  0.388      0.484   \n18  G, NDVI, NIR, R, RE        0.0000  0.0010   MiT-B0  0.340      0.370   \n19        R, G, RE, NIR        0.0000  0.0010   MiT-B0  0.483      0.484   \n20            G, NIR, R        0.0000  0.0010   MiT-B0  0.382      0.492   \n21                  CIR        0.0000  0.0010   MiT-B0  0.342      0.380   \n22                 NDVI        0.0000  0.0010   MiT-B0  0.331      0.335   \n23                 R, G        0.0000  0.0010   MiT-B0  0.437      0.414   \n24  G, NDVI, NIR, R, RE        0.0005  0.0001   MiT-B5  0.329      0.331   \n25        R, G, RE, NIR        0.0005  0.0001   MiT-B5  0.405      0.481   \n26            G, NIR, R        0.0005  0.0001   MiT-B5  0.342      0.349   \n27                  CIR        0.0005  0.0001   MiT-B5  0.397      0.502   \n28                 NDVI        0.0005  0.0001   MiT-B5  0.333      0.333   \n29                 R, G        0.0005  0.0001   MiT-B5  0.371      0.477   \n30  G, NDVI, NIR, R, RE        0.0000  0.0001   MiT-B5  0.372      0.359   \n31        R, G, RE, NIR        0.0000  0.0001   MiT-B5  0.482      0.441   \n32            G, NIR, R        0.0000  0.0001   MiT-B5  0.355      0.363   \n33                  CIR        0.0000  0.0001   MiT-B5  0.350      0.362   \n34                 NDVI        0.0000  0.0001   MiT-B5  0.317      0.333   \n35                 R, G        0.0000  0.0001   MiT-B5  0.389      0.449   \n36  G, NDVI, NIR, R, RE        0.0005  0.0010   MiT-B5  0.345      0.354   \n37        R, G, RE, NIR        0.0005  0.0010   MiT-B5  0.355      0.523   \n38            G, NIR, R        0.0005  0.0010   MiT-B5  0.397      0.432   \n39                  CIR        0.0005  0.0010   MiT-B5  0.354      0.430   \n40                 NDVI        0.0005  0.0010   MiT-B5  0.324      0.332   \n41                 R, G        0.0005  0.0010   MiT-B5  0.380      0.490   \n42  G, NDVI, NIR, R, RE        0.0000  0.0010   MiT-B5  0.330      0.342   \n43        R, G, RE, NIR        0.0000  0.0010   MiT-B5  0.350      0.392   \n44            G, NIR, R        0.0000  0.0010   MiT-B5  0.381      0.511   \n45                  CIR        0.0000  0.0010   MiT-B5  0.364      0.400   \n46                 NDVI        0.0000  0.0010   MiT-B5  0.312      0.339   \n47                 R, G        0.0000  0.0010   MiT-B5  0.469      0.535   \n\n    Recall  \n0    0.465  \n1    0.358  \n2    0.348  \n3    0.403  \n4    0.456  \n5    0.434  \n6    0.496  \n7    0.356  \n8    0.482  \n9    0.358  \n10   0.529  \n11   0.494  \n12   0.512  \n13   0.369  \n14   0.378  \n15   0.450  \n16   0.501  \n17   0.406  \n18   0.506  \n19   0.576  \n20   0.453  \n21   0.484  \n22   0.409  \n23   0.623  \n24   0.334  \n25   0.385  \n26   0.340  \n27   0.373  \n28   0.333  \n29   0.423  \n30   0.505  \n31   0.578  \n32   0.350  \n33   0.346  \n34   0.478  \n35   0.493  \n36   0.414  \n37   0.345  \n38   0.385  \n39   0.361  \n40   0.396  \n41   0.377  \n42   0.460  \n43   0.450  \n44   0.388  \n45   0.460  \n46   0.571  \n47   0.484  ",
      "text/html": "<div>\n<style scoped>\n    .dataframe tbody tr th:only-of-type {\n        vertical-align: middle;\n    }\n\n    .dataframe tbody tr th {\n        vertical-align: top;\n    }\n\n    .dataframe thead th {\n        text-align: right;\n    }\n</style>\n<table border=\"1\" class=\"dataframe\">\n  <thead>\n    <tr style=\"text-align: right;\">\n      <th></th>\n      <th>Channels</th>\n      <th>Weight Decay</th>\n      <th>LR</th>\n      <th>Backbone</th>\n      <th>F1</th>\n      <th>Precision</th>\n      <th>Recall</th>\n    </tr>\n  </thead>\n  <tbody>\n    <tr>\n      <th>0</th>\n      <td>G, NDVI, NIR, R, RE</td>\n      <td>0.0005</td>\n      <td>0.0001</td>\n      <td>MiT-B0</td>\n      <td>0.327</td>\n      <td>0.345</td>\n      <td>0.465</td>\n    </tr>\n    <tr>\n      <th>1</th>\n      <td>R, G, RE, NIR</td>\n      <td>0.0005</td>\n      <td>0.0001</td>\n      <td>MiT-B0</td>\n      <td>0.378</td>\n      <td>0.705</td>\n      <td>0.358</td>\n    </tr>\n    <tr>\n      <th>2</th>\n      <td>G, NIR, R</td>\n      <td>0.0005</td>\n      <td>0.0001</td>\n      <td>MiT-B0</td>\n      <td>0.357</td>\n      <td>0.500</td>\n      <td>0.348</td>\n    </tr>\n    <tr>\n      <th>3</th>\n      <td>CIR</td>\n      <td>0.0005</td>\n      <td>0.0001</td>\n      <td>MiT-B0</td>\n      <td>0.404</td>\n      <td>0.428</td>\n      <td>0.403</td>\n    </tr>\n    <tr>\n      <th>4</th>\n      <td>NDVI</td>\n      <td>0.0005</td>\n      <td>0.0001</td>\n      <td>MiT-B0</td>\n      <td>0.331</td>\n      <td>0.339</td>\n      <td>0.456</td>\n    </tr>\n    <tr>\n      <th>5</th>\n      <td>R, G</td>\n      <td>0.0005</td>\n      <td>0.0001</td>\n      <td>MiT-B0</td>\n      <td>0.357</td>\n      <td>0.390</td>\n      <td>0.434</td>\n    </tr>\n    <tr>\n      <th>6</th>\n      <td>G, NDVI, NIR, R, RE</td>\n      <td>0.0000</td>\n      <td>0.0001</td>\n      <td>MiT-B0</td>\n      <td>0.338</td>\n      <td>0.391</td>\n      <td>0.496</td>\n    </tr>\n    <tr>\n      <th>7</th>\n      <td>R, G, RE, NIR</td>\n      <td>0.0000</td>\n      <td>0.0001</td>\n      <td>MiT-B0</td>\n      <td>0.372</td>\n      <td>0.574</td>\n      <td>0.356</td>\n    </tr>\n    <tr>\n      <th>8</th>\n      <td>G, NIR, R</td>\n      <td>0.0000</td>\n      <td>0.0001</td>\n      <td>MiT-B0</td>\n      <td>0.372</td>\n      <td>0.444</td>\n      <td>0.482</td>\n    </tr>\n    <tr>\n      <th>9</th>\n      <td>CIR</td>\n      <td>0.0000</td>\n      <td>0.0001</td>\n      <td>MiT-B0</td>\n      <td>0.369</td>\n      <td>0.399</td>\n      <td>0.358</td>\n    </tr>\n    <tr>\n      <th>10</th>\n      <td>NDVI</td>\n      <td>0.0000</td>\n      <td>0.0001</td>\n      <td>MiT-B0</td>\n      <td>0.325</td>\n      <td>0.355</td>\n      <td>0.529</td>\n    </tr>\n    <tr>\n      <th>11</th>\n      <td>R, G</td>\n      <td>0.0000</td>\n      <td>0.0001</td>\n      <td>MiT-B0</td>\n      <td>0.387</td>\n      <td>0.510</td>\n      <td>0.494</td>\n    </tr>\n    <tr>\n      <th>12</th>\n      <td>G, NDVI, NIR, R, RE</td>\n      <td>0.0005</td>\n      <td>0.0010</td>\n      <td>MiT-B0</td>\n      <td>0.337</td>\n      <td>0.428</td>\n      <td>0.512</td>\n    </tr>\n    <tr>\n      <th>13</th>\n      <td>R, G, RE, NIR</td>\n      <td>0.0005</td>\n      <td>0.0010</td>\n      <td>MiT-B0</td>\n      <td>0.378</td>\n      <td>0.416</td>\n      <td>0.369</td>\n    </tr>\n    <tr>\n      <th>14</th>\n      <td>G, NIR, R</td>\n      <td>0.0005</td>\n      <td>0.0010</td>\n      <td>MiT-B0</td>\n      <td>0.400</td>\n      <td>0.543</td>\n      <td>0.378</td>\n    </tr>\n    <tr>\n      <th>15</th>\n      <td>CIR</td>\n      <td>0.0005</td>\n      <td>0.0010</td>\n      <td>MiT-B0</td>\n      <td>0.326</td>\n      <td>0.341</td>\n      <td>0.450</td>\n    </tr>\n    <tr>\n      <th>16</th>\n      <td>NDVI</td>\n      <td>0.0005</td>\n      <td>0.0010</td>\n      <td>MiT-B0</td>\n      <td>0.329</td>\n      <td>0.339</td>\n      <td>0.501</td>\n    </tr>\n    <tr>\n      <th>17</th>\n      <td>R, G</td>\n      <td>0.0005</td>\n      <td>0.0010</td>\n      <td>MiT-B0</td>\n      <td>0.388</td>\n      <td>0.484</td>\n      <td>0.406</td>\n    </tr>\n    <tr>\n      <th>18</th>\n      <td>G, NDVI, NIR, R, RE</td>\n      <td>0.0000</td>\n      <td>0.0010</td>\n      <td>MiT-B0</td>\n      <td>0.340</td>\n      <td>0.370</td>\n      <td>0.506</td>\n    </tr>\n    <tr>\n      <th>19</th>\n      <td>R, G, RE, NIR</td>\n      <td>0.0000</td>\n      <td>0.0010</td>\n      <td>MiT-B0</td>\n      <td>0.483</td>\n      <td>0.484</td>\n      <td>0.576</td>\n    </tr>\n    <tr>\n      <th>20</th>\n      <td>G, NIR, R</td>\n      <td>0.0000</td>\n      <td>0.0010</td>\n      <td>MiT-B0</td>\n      <td>0.382</td>\n      <td>0.492</td>\n      <td>0.453</td>\n    </tr>\n    <tr>\n      <th>21</th>\n      <td>CIR</td>\n      <td>0.0000</td>\n      <td>0.0010</td>\n      <td>MiT-B0</td>\n      <td>0.342</td>\n      <td>0.380</td>\n      <td>0.484</td>\n    </tr>\n    <tr>\n      <th>22</th>\n      <td>NDVI</td>\n      <td>0.0000</td>\n      <td>0.0010</td>\n      <td>MiT-B0</td>\n      <td>0.331</td>\n      <td>0.335</td>\n      <td>0.409</td>\n    </tr>\n    <tr>\n      <th>23</th>\n      <td>R, G</td>\n      <td>0.0000</td>\n      <td>0.0010</td>\n      <td>MiT-B0</td>\n      <td>0.437</td>\n      <td>0.414</td>\n      <td>0.623</td>\n    </tr>\n    <tr>\n      <th>24</th>\n      <td>G, NDVI, NIR, R, RE</td>\n      <td>0.0005</td>\n      <td>0.0001</td>\n      <td>MiT-B5</td>\n      <td>0.329</td>\n      <td>0.331</td>\n      <td>0.334</td>\n    </tr>\n    <tr>\n      <th>25</th>\n      <td>R, G, RE, NIR</td>\n      <td>0.0005</td>\n      <td>0.0001</td>\n      <td>MiT-B5</td>\n      <td>0.405</td>\n      <td>0.481</td>\n      <td>0.385</td>\n    </tr>\n    <tr>\n      <th>26</th>\n      <td>G, NIR, R</td>\n      <td>0.0005</td>\n      <td>0.0001</td>\n      <td>MiT-B5</td>\n      <td>0.342</td>\n      <td>0.349</td>\n      <td>0.340</td>\n    </tr>\n    <tr>\n      <th>27</th>\n      <td>CIR</td>\n      <td>0.0005</td>\n      <td>0.0001</td>\n      <td>MiT-B5</td>\n      <td>0.397</td>\n      <td>0.502</td>\n      <td>0.373</td>\n    </tr>\n    <tr>\n      <th>28</th>\n      <td>NDVI</td>\n      <td>0.0005</td>\n      <td>0.0001</td>\n      <td>MiT-B5</td>\n      <td>0.333</td>\n      <td>0.333</td>\n      <td>0.333</td>\n    </tr>\n    <tr>\n      <th>29</th>\n      <td>R, G</td>\n      <td>0.0005</td>\n      <td>0.0001</td>\n      <td>MiT-B5</td>\n      <td>0.371</td>\n      <td>0.477</td>\n      <td>0.423</td>\n    </tr>\n    <tr>\n      <th>30</th>\n      <td>G, NDVI, NIR, R, RE</td>\n      <td>0.0000</td>\n      <td>0.0001</td>\n      <td>MiT-B5</td>\n      <td>0.372</td>\n      <td>0.359</td>\n      <td>0.505</td>\n    </tr>\n    <tr>\n      <th>31</th>\n      <td>R, G, RE, NIR</td>\n      <td>0.0000</td>\n      <td>0.0001</td>\n      <td>MiT-B5</td>\n      <td>0.482</td>\n      <td>0.441</td>\n      <td>0.578</td>\n    </tr>\n    <tr>\n      <th>32</th>\n      <td>G, NIR, R</td>\n      <td>0.0000</td>\n      <td>0.0001</td>\n      <td>MiT-B5</td>\n      <td>0.355</td>\n      <td>0.363</td>\n      <td>0.350</td>\n    </tr>\n    <tr>\n      <th>33</th>\n      <td>CIR</td>\n      <td>0.0000</td>\n      <td>0.0001</td>\n      <td>MiT-B5</td>\n      <td>0.350</td>\n      <td>0.362</td>\n      <td>0.346</td>\n    </tr>\n    <tr>\n      <th>34</th>\n      <td>NDVI</td>\n      <td>0.0000</td>\n      <td>0.0001</td>\n      <td>MiT-B5</td>\n      <td>0.317</td>\n      <td>0.333</td>\n      <td>0.478</td>\n    </tr>\n    <tr>\n      <th>35</th>\n      <td>R, G</td>\n      <td>0.0000</td>\n      <td>0.0001</td>\n      <td>MiT-B5</td>\n      <td>0.389</td>\n      <td>0.449</td>\n      <td>0.493</td>\n    </tr>\n    <tr>\n      <th>36</th>\n      <td>G, NDVI, NIR, R, RE</td>\n      <td>0.0005</td>\n      <td>0.0010</td>\n      <td>MiT-B5</td>\n      <td>0.345</td>\n      <td>0.354</td>\n      <td>0.414</td>\n    </tr>\n    <tr>\n      <th>37</th>\n      <td>R, G, RE, NIR</td>\n      <td>0.0005</td>\n      <td>0.0010</td>\n      <td>MiT-B5</td>\n      <td>0.355</td>\n      <td>0.523</td>\n      <td>0.345</td>\n    </tr>\n    <tr>\n      <th>38</th>\n      <td>G, NIR, R</td>\n      <td>0.0005</td>\n      <td>0.0010</td>\n      <td>MiT-B5</td>\n      <td>0.397</td>\n      <td>0.432</td>\n      <td>0.385</td>\n    </tr>\n    <tr>\n      <th>39</th>\n      <td>CIR</td>\n      <td>0.0005</td>\n      <td>0.0010</td>\n      <td>MiT-B5</td>\n      <td>0.354</td>\n      <td>0.430</td>\n      <td>0.361</td>\n    </tr>\n    <tr>\n      <th>40</th>\n      <td>NDVI</td>\n      <td>0.0005</td>\n      <td>0.0010</td>\n      <td>MiT-B5</td>\n      <td>0.324</td>\n      <td>0.332</td>\n      <td>0.396</td>\n    </tr>\n    <tr>\n      <th>41</th>\n      <td>R, G</td>\n      <td>0.0005</td>\n      <td>0.0010</td>\n      <td>MiT-B5</td>\n      <td>0.380</td>\n      <td>0.490</td>\n      <td>0.377</td>\n    </tr>\n    <tr>\n      <th>42</th>\n      <td>G, NDVI, NIR, R, RE</td>\n      <td>0.0000</td>\n      <td>0.0010</td>\n      <td>MiT-B5</td>\n      <td>0.330</td>\n      <td>0.342</td>\n      <td>0.460</td>\n    </tr>\n    <tr>\n      <th>43</th>\n      <td>R, G, RE, NIR</td>\n      <td>0.0000</td>\n      <td>0.0010</td>\n      <td>MiT-B5</td>\n      <td>0.350</td>\n      <td>0.392</td>\n      <td>0.450</td>\n    </tr>\n    <tr>\n      <th>44</th>\n      <td>G, NIR, R</td>\n      <td>0.0000</td>\n      <td>0.0010</td>\n      <td>MiT-B5</td>\n      <td>0.381</td>\n      <td>0.511</td>\n      <td>0.388</td>\n    </tr>\n    <tr>\n      <th>45</th>\n      <td>CIR</td>\n      <td>0.0000</td>\n      <td>0.0010</td>\n      <td>MiT-B5</td>\n      <td>0.364</td>\n      <td>0.400</td>\n      <td>0.460</td>\n    </tr>\n    <tr>\n      <th>46</th>\n      <td>NDVI</td>\n      <td>0.0000</td>\n      <td>0.0010</td>\n      <td>MiT-B5</td>\n      <td>0.312</td>\n      <td>0.339</td>\n      <td>0.571</td>\n    </tr>\n    <tr>\n      <th>47</th>\n      <td>R, G</td>\n      <td>0.0000</td>\n      <td>0.0010</td>\n      <td>MiT-B5</td>\n      <td>0.469</td>\n      <td>0.535</td>\n      <td>0.484</td>\n    </tr>\n  </tbody>\n</table>\n</div>"
     },
     "execution_count": 175,
     "metadata": {},
     "output_type": "execute_result"
    }
   ],
   "source": [
    "selected_runs"
   ],
   "metadata": {
    "collapsed": false,
    "pycharm": {
     "name": "#%%\n"
    }
   }
  },
  {
   "cell_type": "code",
   "execution_count": 176,
   "outputs": [
    {
     "data": {
      "text/plain": "               Channels  Weight Decay      LR Backbone     F1  Precision  \\\n30  G, NDVI, NIR, R, RE        0.0000  0.0001   MiT-B5  0.372      0.359   \n19        R, G, RE, NIR        0.0000  0.0010   MiT-B0  0.483      0.484   \n14            G, NIR, R        0.0005  0.0010   MiT-B0  0.400      0.543   \n47                 R, G        0.0000  0.0010   MiT-B5  0.469      0.535   \n3                   CIR        0.0005  0.0001   MiT-B0  0.404      0.428   \n28                 NDVI        0.0005  0.0001   MiT-B5  0.333      0.333   \n\n    Recall  \n30   0.505  \n19   0.576  \n14   0.378  \n47   0.484  \n3    0.403  \n28   0.333  ",
      "text/html": "<div>\n<style scoped>\n    .dataframe tbody tr th:only-of-type {\n        vertical-align: middle;\n    }\n\n    .dataframe tbody tr th {\n        vertical-align: top;\n    }\n\n    .dataframe thead th {\n        text-align: right;\n    }\n</style>\n<table border=\"1\" class=\"dataframe\">\n  <thead>\n    <tr style=\"text-align: right;\">\n      <th></th>\n      <th>Channels</th>\n      <th>Weight Decay</th>\n      <th>LR</th>\n      <th>Backbone</th>\n      <th>F1</th>\n      <th>Precision</th>\n      <th>Recall</th>\n    </tr>\n  </thead>\n  <tbody>\n    <tr>\n      <th>30</th>\n      <td>G, NDVI, NIR, R, RE</td>\n      <td>0.0000</td>\n      <td>0.0001</td>\n      <td>MiT-B5</td>\n      <td>0.372</td>\n      <td>0.359</td>\n      <td>0.505</td>\n    </tr>\n    <tr>\n      <th>19</th>\n      <td>R, G, RE, NIR</td>\n      <td>0.0000</td>\n      <td>0.0010</td>\n      <td>MiT-B0</td>\n      <td>0.483</td>\n      <td>0.484</td>\n      <td>0.576</td>\n    </tr>\n    <tr>\n      <th>14</th>\n      <td>G, NIR, R</td>\n      <td>0.0005</td>\n      <td>0.0010</td>\n      <td>MiT-B0</td>\n      <td>0.400</td>\n      <td>0.543</td>\n      <td>0.378</td>\n    </tr>\n    <tr>\n      <th>47</th>\n      <td>R, G</td>\n      <td>0.0000</td>\n      <td>0.0010</td>\n      <td>MiT-B5</td>\n      <td>0.469</td>\n      <td>0.535</td>\n      <td>0.484</td>\n    </tr>\n    <tr>\n      <th>3</th>\n      <td>CIR</td>\n      <td>0.0005</td>\n      <td>0.0001</td>\n      <td>MiT-B0</td>\n      <td>0.404</td>\n      <td>0.428</td>\n      <td>0.403</td>\n    </tr>\n    <tr>\n      <th>28</th>\n      <td>NDVI</td>\n      <td>0.0005</td>\n      <td>0.0001</td>\n      <td>MiT-B5</td>\n      <td>0.333</td>\n      <td>0.333</td>\n      <td>0.333</td>\n    </tr>\n  </tbody>\n</table>\n</div>"
     },
     "execution_count": 176,
     "metadata": {},
     "output_type": "execute_result"
    }
   ],
   "source": [
    "best_runs"
   ],
   "metadata": {
    "collapsed": false,
    "pycharm": {
     "name": "#%%\n"
    }
   }
  },
  {
   "cell_type": "code",
   "execution_count": 177,
   "outputs": [],
   "source": [
    "best_runs.to_csv(\"../../exps/lawin.csv\")"
   ],
   "metadata": {
    "collapsed": false,
    "pycharm": {
     "name": "#%%\n"
    }
   }
  },
  {
   "cell_type": "code",
   "execution_count": 178,
   "outputs": [],
   "source": [
    "selected_runs.to_csv(\"../../exps/lawin-complete.csv\")"
   ],
   "metadata": {
    "collapsed": false,
    "pycharm": {
     "name": "#%%\n"
    }
   }
  },
  {
   "cell_type": "markdown",
   "source": [
    "## Lawin Aug"
   ],
   "metadata": {
    "collapsed": false,
    "pycharm": {
     "name": "#%% md\n"
    }
   }
  },
  {
   "cell_type": "code",
   "execution_count": 142,
   "outputs": [],
   "source": [
    "filters = {\n",
    "    'group': 'LawinAugPatience'\n",
    "}\n",
    "selected_cols = [\n",
    "    'in_params.dataset.channels',\n",
    "    'in_params.train_params.optimizer_params.weight_decay',\n",
    "    'in_params.train_params.initial_lr',\n",
    "    'f1',\n",
    "    'precision',\n",
    "    'recall'\n",
    "]\n",
    "roundings = ['F1', 'Precision', 'Recall']"
   ],
   "metadata": {
    "collapsed": false,
    "pycharm": {
     "name": "#%%\n"
    }
   }
  },
  {
   "cell_type": "code",
   "execution_count": 143,
   "outputs": [
    {
     "data": {
      "text/plain": "['hyper_params.arch_params.schema',\n 'hyper_params.arch_params.sync_bn',\n 'hyper_params.arch_params.backbone',\n 'hyper_params.arch_params.in_channels',\n 'hyper_params.arch_params.num_classes',\n 'hyper_params.arch_params.out_channels',\n 'hyper_params.arch_params.input_channels',\n 'hyper_params.arch_params.output_channels',\n 'hyper_params.dataset_params.root',\n 'hyper_params.dataset_params.size',\n 'hyper_params.dataset_params.schema',\n 'hyper_params.dataset_params.s3_link',\n 'hyper_params.dataset_params.channels',\n 'hyper_params.dataset_params.hor_flip',\n 'hyper_params.dataset_params.ver_flip',\n 'hyper_params.dataset_params.crop_size',\n 'hyper_params.dataset_params.batch_size',\n 'hyper_params.dataset_params.dataset_dir',\n 'hyper_params.dataset_params.num_classes',\n 'hyper_params.dataset_params.num_workers',\n 'hyper_params.dataset_params.return_path',\n 'hyper_params.dataset_params.test_folders',\n 'hyper_params.dataset_params.train_folders',\n 'hyper_params.dataset_params.val_batch_size',\n 'hyper_params.dataset_params.test_batch_size',\n 'hyper_params.additional_log_items.multi_gpu',\n 'hyper_params.additional_log_items.initial_LR',\n 'hyper_params.additional_log_items.device_type',\n 'hyper_params.additional_log_items.num_devices',\n 'hyper_params.additional_log_items.installed_packages',\n 'hyper_params.training_hyperparams.ema',\n 'hyper_params.training_hyperparams.loss',\n 'hyper_params.training_hyperparams.seed',\n 'hyper_params.training_hyperparams.schema.if.properties.lr_mode.const',\n 'hyper_params.training_hyperparams.schema.then.required',\n 'hyper_params.training_hyperparams.schema.type',\n 'hyper_params.training_hyperparams.schema.required',\n 'hyper_params.training_hyperparams.schema.properties.initial_lr.type',\n 'hyper_params.training_hyperparams.schema.properties.initial_lr.maximum',\n 'hyper_params.training_hyperparams.schema.properties.initial_lr.exclusiveMinimum',\n 'hyper_params.training_hyperparams.schema.properties.max_epochs.type',\n 'hyper_params.training_hyperparams.schema.properties.max_epochs.minimum',\n 'hyper_params.training_hyperparams.schema.properties.lr_decay_factor.type',\n 'hyper_params.training_hyperparams.schema.properties.lr_decay_factor.maximum',\n 'hyper_params.training_hyperparams.schema.properties.lr_decay_factor.minimum',\n 'hyper_params.training_hyperparams.schema.properties.lr_warmup_epochs.type',\n 'hyper_params.training_hyperparams.schema.properties.lr_warmup_epochs.maximum',\n 'hyper_params.training_hyperparams.schema.properties.lr_warmup_epochs.minimum',\n 'hyper_params.training_hyperparams.lr_mode',\n 'hyper_params.training_hyperparams.optimizer',\n 'hyper_params.training_hyperparams.sg_logger',\n 'hyper_params.training_hyperparams.initial_lr',\n 'hyper_params.training_hyperparams.lr_updates',\n 'hyper_params.training_hyperparams.max_epochs',\n 'hyper_params.training_hyperparams.precise_bn',\n 'hyper_params.training_hyperparams.save_model',\n 'hyper_params.training_hyperparams.silent_mode',\n 'hyper_params.training_hyperparams.warmup_mode',\n 'hyper_params.training_hyperparams.load_opt_params',\n 'hyper_params.training_hyperparams.metric_to_watch',\n 'hyper_params.training_hyperparams.mixed_precision',\n 'hyper_params.training_hyperparams.phase_callbacks',\n 'hyper_params.training_hyperparams.batch_accumulate',\n 'hyper_params.training_hyperparams.lr_warmup_epochs',\n 'hyper_params.training_hyperparams.optimizer_params.weight_decay',\n 'hyper_params.training_hyperparams.sg_logger_params.tags',\n 'hyper_params.training_hyperparams.sg_logger_params.entity',\n 'hyper_params.training_hyperparams.sg_logger_params.project_name',\n 'hyper_params.training_hyperparams.sg_logger_params.save_logs_remote',\n 'hyper_params.training_hyperparams.sg_logger_params.tensorboard_port',\n 'hyper_params.training_hyperparams.sg_logger_params.launch_tensorboard',\n 'hyper_params.training_hyperparams.sg_logger_params.tb_files_user_prompt',\n 'hyper_params.training_hyperparams.sg_logger_params.save_checkpoints_remote',\n 'hyper_params.training_hyperparams.sg_logger_params.save_tensorboard_remote',\n 'hyper_params.training_hyperparams.tensorboard_port',\n 'hyper_params.training_hyperparams.warmup_initial_lr',\n 'hyper_params.training_hyperparams.dataset_statistics',\n 'hyper_params.training_hyperparams.launch_tensorboard',\n 'hyper_params.training_hyperparams.train_metrics_list',\n 'hyper_params.training_hyperparams.valid_metrics_list',\n 'hyper_params.training_hyperparams.average_best_models',\n 'hyper_params.training_hyperparams.run_validation_freq',\n 'hyper_params.training_hyperparams.save_full_train_log',\n 'hyper_params.training_hyperparams.step_lr_update_freq',\n 'hyper_params.training_hyperparams.lr_schedule_function',\n 'hyper_params.training_hyperparams.save_ckpt_epoch_list',\n 'hyper_params.training_hyperparams.tb_files_user_prompt',\n 'hyper_params.training_hyperparams.cosine_final_lr_ratio',\n 'hyper_params.training_hyperparams.precise_bn_batch_size',\n 'hyper_params.training_hyperparams.log_installed_packages',\n 'hyper_params.training_hyperparams.save_tensorboard_to_s3',\n 'hyper_params.training_hyperparams.loss_logging_items_names',\n 'hyper_params.training_hyperparams.zero_weight_decay_on_bias_and_bn',\n 'hyper_params.training_hyperparams.greater_metric_to_watch_is_better']"
     },
     "metadata": {},
     "output_type": "display_data"
    }
   ],
   "source": [
    "runs_df = get_runs(filters)\n",
    "remove_hyp(runs_df)"
   ],
   "metadata": {
    "collapsed": false,
    "pycharm": {
     "name": "#%%\n"
    }
   }
  },
  {
   "cell_type": "code",
   "execution_count": 144,
   "outputs": [
    {
     "data": {
      "text/plain": "                  in_params.tags in_params.model.name  \\\n0   [crop, aug, B0, newPatience]                lawin   \n1   [crop, aug, B0, newPatience]                lawin   \n2   [crop, aug, B0, newPatience]                lawin   \n3   [crop, aug, B0, newPatience]                lawin   \n4   [crop, aug, B0, newPatience]                lawin   \n5   [crop, aug, B0, newPatience]                lawin   \n6   [crop, aug, B0, newPatience]                lawin   \n7   [crop, aug, B0, newPatience]                lawin   \n8   [crop, aug, B0, newPatience]                lawin   \n9   [crop, aug, B0, newPatience]                lawin   \n10  [crop, aug, B0, newPatience]                lawin   \n11  [crop, aug, B0, newPatience]                lawin   \n12  [crop, aug, B0, newPatience]                lawin   \n13  [crop, aug, B0, newPatience]                lawin   \n14  [crop, aug, B0, newPatience]                lawin   \n15  [crop, aug, B0, newPatience]                lawin   \n16  [crop, aug, B0, newPatience]                lawin   \n17  [crop, aug, B0, newPatience]                lawin   \n18  [crop, aug, B0, newPatience]                lawin   \n19  [crop, aug, B0, newPatience]                lawin   \n20  [crop, aug, B0, newPatience]                lawin   \n21  [crop, aug, B0, newPatience]                lawin   \n22  [crop, aug, B0, newPatience]                lawin   \n23  [crop, aug, B0, newPatience]                lawin   \n\n   in_params.model.params.backbone in_params.phases  \\\n0                           MiT-B0    [train, test]   \n1                           MiT-B0    [train, test]   \n2                           MiT-B0    [train, test]   \n3                           MiT-B0    [train, test]   \n4                           MiT-B0    [train, test]   \n5                           MiT-B0    [train, test]   \n6                           MiT-B0    [train, test]   \n7                           MiT-B0    [train, test]   \n8                           MiT-B0    [train, test]   \n9                           MiT-B0    [train, test]   \n10                          MiT-B0    [train, test]   \n11                          MiT-B0    [train, test]   \n12                          MiT-B0    [train, test]   \n13                          MiT-B0    [train, test]   \n14                          MiT-B0    [train, test]   \n15                          MiT-B0    [train, test]   \n16                          MiT-B0    [train, test]   \n17                          MiT-B0    [train, test]   \n18                          MiT-B0    [train, test]   \n19                          MiT-B0    [train, test]   \n20                          MiT-B0    [train, test]   \n21                          MiT-B0    [train, test]   \n22                          MiT-B0    [train, test]   \n23                          MiT-B0    [train, test]   \n\n       in_params.dataset.root in_params.dataset.size  \\\n0   dataset/processed/Sequoia                   same   \n1   dataset/processed/Sequoia                   same   \n2   dataset/processed/Sequoia                   same   \n3   dataset/processed/Sequoia                   same   \n4   dataset/processed/Sequoia                   same   \n5   dataset/processed/Sequoia                   same   \n6   dataset/processed/Sequoia                   same   \n7   dataset/processed/Sequoia                   same   \n8   dataset/processed/Sequoia                   same   \n9   dataset/processed/Sequoia                   same   \n10  dataset/processed/Sequoia                   same   \n11  dataset/processed/Sequoia                   same   \n12  dataset/processed/Sequoia                   same   \n13  dataset/processed/Sequoia                   same   \n14  dataset/processed/Sequoia                   same   \n15  dataset/processed/Sequoia                   same   \n16  dataset/processed/Sequoia                   same   \n17  dataset/processed/Sequoia                   same   \n18  dataset/processed/Sequoia                   same   \n19  dataset/processed/Sequoia                   same   \n20  dataset/processed/Sequoia                   same   \n21  dataset/processed/Sequoia                   same   \n22  dataset/processed/Sequoia                   same   \n23  dataset/processed/Sequoia                   same   \n\n   in_params.dataset.channels  in_params.dataset.hor_flip  \\\n0       [G, NDVI, NIR, R, RE]                        True   \n1             [R, G, RE, NIR]                        True   \n2                 [G, NIR, R]                        True   \n3                         CIR                        True   \n4                      [NDVI]                        True   \n5                      [R, G]                        True   \n6       [G, NDVI, NIR, R, RE]                        True   \n7             [R, G, RE, NIR]                        True   \n8                 [G, NIR, R]                        True   \n9                         CIR                        True   \n10                     [NDVI]                        True   \n11                     [R, G]                        True   \n12      [G, NDVI, NIR, R, RE]                        True   \n13            [R, G, RE, NIR]                        True   \n14                [G, NIR, R]                        True   \n15                        CIR                        True   \n16                     [NDVI]                        True   \n17                     [R, G]                        True   \n18      [G, NDVI, NIR, R, RE]                        True   \n19            [R, G, RE, NIR]                        True   \n20                [G, NIR, R]                        True   \n21                        CIR                        True   \n22                     [NDVI]                        True   \n23                     [R, G]                        True   \n\n    in_params.dataset.ver_flip in_params.dataset.crop_size  ...  \\\n0                         True                  [256, 256]  ...   \n1                         True                  [256, 256]  ...   \n2                         True                  [256, 256]  ...   \n3                         True                  [256, 256]  ...   \n4                         True                  [256, 256]  ...   \n5                         True                  [256, 256]  ...   \n6                         True                  [256, 256]  ...   \n7                         True                  [256, 256]  ...   \n8                         True                  [256, 256]  ...   \n9                         True                  [256, 256]  ...   \n10                        True                  [256, 256]  ...   \n11                        True                  [256, 256]  ...   \n12                        True                  [256, 256]  ...   \n13                        True                  [256, 256]  ...   \n14                        True                  [256, 256]  ...   \n15                        True                  [256, 256]  ...   \n16                        True                  [256, 256]  ...   \n17                        True                  [256, 256]  ...   \n18                        True                  [256, 256]  ...   \n19                        True                  [256, 256]  ...   \n20                        True                  [256, 256]  ...   \n21                        True                  [256, 256]  ...   \n22                        True                  [256, 256]  ...   \n23                        True                  [256, 256]  ...   \n\n    test_seg.size  test_seg._type  roc_table.nrows  \\\n0           28710      table-file             3003   \n1           28710      table-file             3003   \n2           28710      table-file             3003   \n3           28710      table-file             3003   \n4           28710      table-file             3003   \n5           28710      table-file             3003   \n6           28710      table-file             3003   \n7           28710      table-file             3003   \n8           28710      table-file             3003   \n9           28710      table-file             3003   \n10          28710      table-file             3003   \n11          28710      table-file             3003   \n12          28710      table-file             3003   \n13          28710      table-file             3003   \n14          28710      table-file             3003   \n15          28710      table-file             3003   \n16          28710      table-file             3003   \n17          28710      table-file             3003   \n18          28710      table-file             3003   \n19          28710      table-file             3003   \n20          28710      table-file             3003   \n21          28710      table-file             3003   \n22          28710      table-file             3003   \n23          28710      table-file             3003   \n\n                                     roc_table.sha256  \\\n0   f7dbe7e04ee8972a842792e2d6f94378f16f5bff987abb...   \n1   ef7d33be840f38ae28d1f1ba657c0f54c99f3418bfa4be...   \n2   e8b3ebd23b0de678b5be0dc11ea6d017a3d476cf0e5065...   \n3   e86dd2cf7380131d894a8442a16091c781d1b4e5abd402...   \n4   0d364f2eed6f969337bef85ae910b7727a9f6273396f80...   \n5   f3746374657813db8a3769de8a68b5cddacbfc329b25a3...   \n6   e5d75f45424f4915866c030a0eda0ec65225a13e5df4e4...   \n7   7c95574f4652df7c528cccaea70628cc5c8a844f9408f9...   \n8   8897c8661df87675655fceef7621efdb23ad611a567238...   \n9   b97ec561e1cd7ae061e3583a5383357bf7150906251fb0...   \n10  6aafae358c90bbce6bf17b05153071ebb01e4ef706168e...   \n11  c7d689d28db8e25035df889749d8cba9d7f37f6a07261d...   \n12  a53e0003c8f65fcd6ad8047637091c4935e57e1c870255...   \n13  dd50053d16dc2a1a4c568bd9e38f58363a2e58785a39d5...   \n14  05d40bbdb997dfafeb95c07d4573790121478c5595c137...   \n15  3cc276f73f0c8e02d0cb2d093d622a249c2f5f3cd75050...   \n16  659646fe1b66cdb930c6f72561db56df7dab6d800989e4...   \n17  692a0f077fc109352b278a3975ed0c1e0b248eb863fc31...   \n18  00161b43ad9f6fabacbf907a467b47ce439d39057cee33...   \n19  9e18da47184fdab691780d469ed86d75c0b72356248ae2...   \n20  c8c35eba5eacb83f83974b5de4e52a897743a544a27fc7...   \n21  a42ccf0d8470c4a888c8afa55d0704fac2b9608a848e02...   \n22  8b83e5a8134e8e87628797219ad199021d2f8e77f9991f...   \n23  bbf1643daad6b16d08e137dac2fab97ea99b3ec79dd05b...   \n\n                              roc_table.artifact_path  \\\n0   wandb-client-artifact://i04gisipwzbcuy4uupvxvf...   \n1   wandb-client-artifact://s4s7urlsaqikqhn0qfclj7...   \n2   wandb-client-artifact://btb5nujqwmu6kbxe2di5n8...   \n3   wandb-client-artifact://2f2a6em7djfy0nbd2w4u6m...   \n4   wandb-client-artifact://1x4whdwzjt5t87ezpcubwu...   \n5   wandb-client-artifact://364gospb6y3ot2ixwtc1lz...   \n6   wandb-client-artifact://107g1ntluh9p8uyxrfmhg2...   \n7   wandb-client-artifact://vhtguq87yccaiutm212hj7...   \n8   wandb-client-artifact://xyjk3243247mom9afhrmm1...   \n9   wandb-client-artifact://uw8wdj1ihm87tsaezujcgs...   \n10  wandb-client-artifact://23wnv1m74avws7udppucow...   \n11  wandb-client-artifact://17n0ansx495r7wrrusugry...   \n12  wandb-client-artifact://8x023bhymv39jg0weacops...   \n13  wandb-client-artifact://16lbpp95ylqjpkei2kgxxn...   \n14  wandb-client-artifact://135r4dbn1y5bwy2kt1rq8m...   \n15  wandb-client-artifact://2d9pm3s4pd7w0ozi2zlfqz...   \n16  wandb-client-artifact://tgrvpwaywwjy1a9a4oabxx...   \n17  wandb-client-artifact://nmuleev39jbqb49b8764ti...   \n18  wandb-client-artifact://63tew8a0t2mkdoiizcgtwx...   \n19  wandb-client-artifact://4yziyp25gi5inv27jd0uoj...   \n20  wandb-client-artifact://k7pzdaww7lsq9wbkj7766k...   \n21  wandb-client-artifact://124h5zah3yj217o1y7g6oo...   \n22  wandb-client-artifact://xsmzoacv0e3mgk7qna49lq...   \n23  wandb-client-artifact://bs1fgarwwja9yszy73r7jy...   \n\n                      roc_table._latest_artifact_path  \\\n0   wandb-client-artifact://i04gisipwzbcuy4uupvxvf...   \n1   wandb-client-artifact://s4s7urlsaqikqhn0qfclj7...   \n2   wandb-client-artifact://btb5nujqwmu6kbxe2di5n8...   \n3   wandb-client-artifact://2f2a6em7djfy0nbd2w4u6m...   \n4   wandb-client-artifact://1x4whdwzjt5t87ezpcubwu...   \n5   wandb-client-artifact://364gospb6y3ot2ixwtc1lz...   \n6   wandb-client-artifact://107g1ntluh9p8uyxrfmhg2...   \n7   wandb-client-artifact://vhtguq87yccaiutm212hj7...   \n8   wandb-client-artifact://xyjk3243247mom9afhrmm1...   \n9   wandb-client-artifact://uw8wdj1ihm87tsaezujcgs...   \n10  wandb-client-artifact://23wnv1m74avws7udppucow...   \n11  wandb-client-artifact://17n0ansx495r7wrrusugry...   \n12  wandb-client-artifact://8x023bhymv39jg0weacops...   \n13  wandb-client-artifact://16lbpp95ylqjpkei2kgxxn...   \n14  wandb-client-artifact://135r4dbn1y5bwy2kt1rq8m...   \n15  wandb-client-artifact://2d9pm3s4pd7w0ozi2zlfqz...   \n16  wandb-client-artifact://tgrvpwaywwjy1a9a4oabxx...   \n17  wandb-client-artifact://nmuleev39jbqb49b8764ti...   \n18  wandb-client-artifact://63tew8a0t2mkdoiizcgtwx...   \n19  wandb-client-artifact://4yziyp25gi5inv27jd0uoj...   \n20  wandb-client-artifact://k7pzdaww7lsq9wbkj7766k...   \n21  wandb-client-artifact://124h5zah3yj217o1y7g6oo...   \n22  wandb-client-artifact://xsmzoacv0e3mgk7qna49lq...   \n23  wandb-client-artifact://bs1fgarwwja9yszy73r7jy...   \n\n                                       roc_table.path  roc_table.size  \\\n0   media/table/roc_table_1727_f7dbe7e04ee8972a842...          157640   \n1   media/table/roc_table_1279_ef7d33be840f38ae28d...          155056   \n2   media/table/roc_table_1853_e8b3ebd23b0de678b5b...          154905   \n3   media/table/roc_table_1587_e86dd2cf7380131d894...          155881   \n4   media/table/roc_table_1587_0d364f2eed6f969337b...          152438   \n5   media/table/roc_table_1069_f3746374657813db8a3...          157388   \n6   media/table/roc_table_2133_e5d75f45424f4915866...          156662   \n7   media/table/roc_table_1125_7c95574f4652df7c528...          155918   \n8   media/table/roc_table_1195_8897c8661df87675655...          157253   \n9   media/table/roc_table_1279_b97ec561e1cd7ae061e...          156974   \n10  media/table/roc_table_1839_6aafae358c90bbce6bf...          151930   \n11  media/table/roc_table_1223_c7d689d28db8e25035d...          157710   \n12  media/table/roc_table_1069_a53e0003c8f65fcd6ad...          155861   \n13  media/table/roc_table_985_dd50053d16dc2a1a4c56...          155327   \n14  media/table/roc_table_677_05d40bbdb997dfafeb95...          154424   \n15  media/table/roc_table_621_3cc276f73f0c8e02d0cb...          156696   \n16  media/table/roc_table_537_659646fe1b66cdb930c6...          159845   \n17  media/table/roc_table_719_692a0f077fc109352b27...          156980   \n18  media/table/roc_table_579_00161b43ad9f6fabacbf...          156001   \n19  media/table/roc_table_579_9e18da47184fdab69178...          153012   \n20  media/table/roc_table_915_c8c35eba5eacb83f8397...          156535   \n21  media/table/roc_table_901_a42ccf0d8470c4a888c8...          155799   \n22  media/table/roc_table_467_8b83e5a8134e8e876287...          156632   \n23  media/table/roc_table_1069_bbf1643daad6b16d08e...          157756   \n\n   roc_table._type roc_table.ncols  \n0       table-file               3  \n1       table-file               3  \n2       table-file               3  \n3       table-file               3  \n4       table-file               3  \n5       table-file               3  \n6       table-file               3  \n7       table-file               3  \n8       table-file               3  \n9       table-file               3  \n10      table-file               3  \n11      table-file               3  \n12      table-file               3  \n13      table-file               3  \n14      table-file               3  \n15      table-file               3  \n16      table-file               3  \n17      table-file               3  \n18      table-file               3  \n19      table-file               3  \n20      table-file               3  \n21      table-file               3  \n22      table-file               3  \n23      table-file               3  \n\n[24 rows x 385 columns]",
      "text/html": "<div>\n<style scoped>\n    .dataframe tbody tr th:only-of-type {\n        vertical-align: middle;\n    }\n\n    .dataframe tbody tr th {\n        vertical-align: top;\n    }\n\n    .dataframe thead th {\n        text-align: right;\n    }\n</style>\n<table border=\"1\" class=\"dataframe\">\n  <thead>\n    <tr style=\"text-align: right;\">\n      <th></th>\n      <th>in_params.tags</th>\n      <th>in_params.model.name</th>\n      <th>in_params.model.params.backbone</th>\n      <th>in_params.phases</th>\n      <th>in_params.dataset.root</th>\n      <th>in_params.dataset.size</th>\n      <th>in_params.dataset.channels</th>\n      <th>in_params.dataset.hor_flip</th>\n      <th>in_params.dataset.ver_flip</th>\n      <th>in_params.dataset.crop_size</th>\n      <th>...</th>\n      <th>test_seg.size</th>\n      <th>test_seg._type</th>\n      <th>roc_table.nrows</th>\n      <th>roc_table.sha256</th>\n      <th>roc_table.artifact_path</th>\n      <th>roc_table._latest_artifact_path</th>\n      <th>roc_table.path</th>\n      <th>roc_table.size</th>\n      <th>roc_table._type</th>\n      <th>roc_table.ncols</th>\n    </tr>\n  </thead>\n  <tbody>\n    <tr>\n      <th>0</th>\n      <td>[crop, aug, B0, newPatience]</td>\n      <td>lawin</td>\n      <td>MiT-B0</td>\n      <td>[train, test]</td>\n      <td>dataset/processed/Sequoia</td>\n      <td>same</td>\n      <td>[G, NDVI, NIR, R, RE]</td>\n      <td>True</td>\n      <td>True</td>\n      <td>[256, 256]</td>\n      <td>...</td>\n      <td>28710</td>\n      <td>table-file</td>\n      <td>3003</td>\n      <td>f7dbe7e04ee8972a842792e2d6f94378f16f5bff987abb...</td>\n      <td>wandb-client-artifact://i04gisipwzbcuy4uupvxvf...</td>\n      <td>wandb-client-artifact://i04gisipwzbcuy4uupvxvf...</td>\n      <td>media/table/roc_table_1727_f7dbe7e04ee8972a842...</td>\n      <td>157640</td>\n      <td>table-file</td>\n      <td>3</td>\n    </tr>\n    <tr>\n      <th>1</th>\n      <td>[crop, aug, B0, newPatience]</td>\n      <td>lawin</td>\n      <td>MiT-B0</td>\n      <td>[train, test]</td>\n      <td>dataset/processed/Sequoia</td>\n      <td>same</td>\n      <td>[R, G, RE, NIR]</td>\n      <td>True</td>\n      <td>True</td>\n      <td>[256, 256]</td>\n      <td>...</td>\n      <td>28710</td>\n      <td>table-file</td>\n      <td>3003</td>\n      <td>ef7d33be840f38ae28d1f1ba657c0f54c99f3418bfa4be...</td>\n      <td>wandb-client-artifact://s4s7urlsaqikqhn0qfclj7...</td>\n      <td>wandb-client-artifact://s4s7urlsaqikqhn0qfclj7...</td>\n      <td>media/table/roc_table_1279_ef7d33be840f38ae28d...</td>\n      <td>155056</td>\n      <td>table-file</td>\n      <td>3</td>\n    </tr>\n    <tr>\n      <th>2</th>\n      <td>[crop, aug, B0, newPatience]</td>\n      <td>lawin</td>\n      <td>MiT-B0</td>\n      <td>[train, test]</td>\n      <td>dataset/processed/Sequoia</td>\n      <td>same</td>\n      <td>[G, NIR, R]</td>\n      <td>True</td>\n      <td>True</td>\n      <td>[256, 256]</td>\n      <td>...</td>\n      <td>28710</td>\n      <td>table-file</td>\n      <td>3003</td>\n      <td>e8b3ebd23b0de678b5be0dc11ea6d017a3d476cf0e5065...</td>\n      <td>wandb-client-artifact://btb5nujqwmu6kbxe2di5n8...</td>\n      <td>wandb-client-artifact://btb5nujqwmu6kbxe2di5n8...</td>\n      <td>media/table/roc_table_1853_e8b3ebd23b0de678b5b...</td>\n      <td>154905</td>\n      <td>table-file</td>\n      <td>3</td>\n    </tr>\n    <tr>\n      <th>3</th>\n      <td>[crop, aug, B0, newPatience]</td>\n      <td>lawin</td>\n      <td>MiT-B0</td>\n      <td>[train, test]</td>\n      <td>dataset/processed/Sequoia</td>\n      <td>same</td>\n      <td>CIR</td>\n      <td>True</td>\n      <td>True</td>\n      <td>[256, 256]</td>\n      <td>...</td>\n      <td>28710</td>\n      <td>table-file</td>\n      <td>3003</td>\n      <td>e86dd2cf7380131d894a8442a16091c781d1b4e5abd402...</td>\n      <td>wandb-client-artifact://2f2a6em7djfy0nbd2w4u6m...</td>\n      <td>wandb-client-artifact://2f2a6em7djfy0nbd2w4u6m...</td>\n      <td>media/table/roc_table_1587_e86dd2cf7380131d894...</td>\n      <td>155881</td>\n      <td>table-file</td>\n      <td>3</td>\n    </tr>\n    <tr>\n      <th>4</th>\n      <td>[crop, aug, B0, newPatience]</td>\n      <td>lawin</td>\n      <td>MiT-B0</td>\n      <td>[train, test]</td>\n      <td>dataset/processed/Sequoia</td>\n      <td>same</td>\n      <td>[NDVI]</td>\n      <td>True</td>\n      <td>True</td>\n      <td>[256, 256]</td>\n      <td>...</td>\n      <td>28710</td>\n      <td>table-file</td>\n      <td>3003</td>\n      <td>0d364f2eed6f969337bef85ae910b7727a9f6273396f80...</td>\n      <td>wandb-client-artifact://1x4whdwzjt5t87ezpcubwu...</td>\n      <td>wandb-client-artifact://1x4whdwzjt5t87ezpcubwu...</td>\n      <td>media/table/roc_table_1587_0d364f2eed6f969337b...</td>\n      <td>152438</td>\n      <td>table-file</td>\n      <td>3</td>\n    </tr>\n    <tr>\n      <th>5</th>\n      <td>[crop, aug, B0, newPatience]</td>\n      <td>lawin</td>\n      <td>MiT-B0</td>\n      <td>[train, test]</td>\n      <td>dataset/processed/Sequoia</td>\n      <td>same</td>\n      <td>[R, G]</td>\n      <td>True</td>\n      <td>True</td>\n      <td>[256, 256]</td>\n      <td>...</td>\n      <td>28710</td>\n      <td>table-file</td>\n      <td>3003</td>\n      <td>f3746374657813db8a3769de8a68b5cddacbfc329b25a3...</td>\n      <td>wandb-client-artifact://364gospb6y3ot2ixwtc1lz...</td>\n      <td>wandb-client-artifact://364gospb6y3ot2ixwtc1lz...</td>\n      <td>media/table/roc_table_1069_f3746374657813db8a3...</td>\n      <td>157388</td>\n      <td>table-file</td>\n      <td>3</td>\n    </tr>\n    <tr>\n      <th>6</th>\n      <td>[crop, aug, B0, newPatience]</td>\n      <td>lawin</td>\n      <td>MiT-B0</td>\n      <td>[train, test]</td>\n      <td>dataset/processed/Sequoia</td>\n      <td>same</td>\n      <td>[G, NDVI, NIR, R, RE]</td>\n      <td>True</td>\n      <td>True</td>\n      <td>[256, 256]</td>\n      <td>...</td>\n      <td>28710</td>\n      <td>table-file</td>\n      <td>3003</td>\n      <td>e5d75f45424f4915866c030a0eda0ec65225a13e5df4e4...</td>\n      <td>wandb-client-artifact://107g1ntluh9p8uyxrfmhg2...</td>\n      <td>wandb-client-artifact://107g1ntluh9p8uyxrfmhg2...</td>\n      <td>media/table/roc_table_2133_e5d75f45424f4915866...</td>\n      <td>156662</td>\n      <td>table-file</td>\n      <td>3</td>\n    </tr>\n    <tr>\n      <th>7</th>\n      <td>[crop, aug, B0, newPatience]</td>\n      <td>lawin</td>\n      <td>MiT-B0</td>\n      <td>[train, test]</td>\n      <td>dataset/processed/Sequoia</td>\n      <td>same</td>\n      <td>[R, G, RE, NIR]</td>\n      <td>True</td>\n      <td>True</td>\n      <td>[256, 256]</td>\n      <td>...</td>\n      <td>28710</td>\n      <td>table-file</td>\n      <td>3003</td>\n      <td>7c95574f4652df7c528cccaea70628cc5c8a844f9408f9...</td>\n      <td>wandb-client-artifact://vhtguq87yccaiutm212hj7...</td>\n      <td>wandb-client-artifact://vhtguq87yccaiutm212hj7...</td>\n      <td>media/table/roc_table_1125_7c95574f4652df7c528...</td>\n      <td>155918</td>\n      <td>table-file</td>\n      <td>3</td>\n    </tr>\n    <tr>\n      <th>8</th>\n      <td>[crop, aug, B0, newPatience]</td>\n      <td>lawin</td>\n      <td>MiT-B0</td>\n      <td>[train, test]</td>\n      <td>dataset/processed/Sequoia</td>\n      <td>same</td>\n      <td>[G, NIR, R]</td>\n      <td>True</td>\n      <td>True</td>\n      <td>[256, 256]</td>\n      <td>...</td>\n      <td>28710</td>\n      <td>table-file</td>\n      <td>3003</td>\n      <td>8897c8661df87675655fceef7621efdb23ad611a567238...</td>\n      <td>wandb-client-artifact://xyjk3243247mom9afhrmm1...</td>\n      <td>wandb-client-artifact://xyjk3243247mom9afhrmm1...</td>\n      <td>media/table/roc_table_1195_8897c8661df87675655...</td>\n      <td>157253</td>\n      <td>table-file</td>\n      <td>3</td>\n    </tr>\n    <tr>\n      <th>9</th>\n      <td>[crop, aug, B0, newPatience]</td>\n      <td>lawin</td>\n      <td>MiT-B0</td>\n      <td>[train, test]</td>\n      <td>dataset/processed/Sequoia</td>\n      <td>same</td>\n      <td>CIR</td>\n      <td>True</td>\n      <td>True</td>\n      <td>[256, 256]</td>\n      <td>...</td>\n      <td>28710</td>\n      <td>table-file</td>\n      <td>3003</td>\n      <td>b97ec561e1cd7ae061e3583a5383357bf7150906251fb0...</td>\n      <td>wandb-client-artifact://uw8wdj1ihm87tsaezujcgs...</td>\n      <td>wandb-client-artifact://uw8wdj1ihm87tsaezujcgs...</td>\n      <td>media/table/roc_table_1279_b97ec561e1cd7ae061e...</td>\n      <td>156974</td>\n      <td>table-file</td>\n      <td>3</td>\n    </tr>\n    <tr>\n      <th>10</th>\n      <td>[crop, aug, B0, newPatience]</td>\n      <td>lawin</td>\n      <td>MiT-B0</td>\n      <td>[train, test]</td>\n      <td>dataset/processed/Sequoia</td>\n      <td>same</td>\n      <td>[NDVI]</td>\n      <td>True</td>\n      <td>True</td>\n      <td>[256, 256]</td>\n      <td>...</td>\n      <td>28710</td>\n      <td>table-file</td>\n      <td>3003</td>\n      <td>6aafae358c90bbce6bf17b05153071ebb01e4ef706168e...</td>\n      <td>wandb-client-artifact://23wnv1m74avws7udppucow...</td>\n      <td>wandb-client-artifact://23wnv1m74avws7udppucow...</td>\n      <td>media/table/roc_table_1839_6aafae358c90bbce6bf...</td>\n      <td>151930</td>\n      <td>table-file</td>\n      <td>3</td>\n    </tr>\n    <tr>\n      <th>11</th>\n      <td>[crop, aug, B0, newPatience]</td>\n      <td>lawin</td>\n      <td>MiT-B0</td>\n      <td>[train, test]</td>\n      <td>dataset/processed/Sequoia</td>\n      <td>same</td>\n      <td>[R, G]</td>\n      <td>True</td>\n      <td>True</td>\n      <td>[256, 256]</td>\n      <td>...</td>\n      <td>28710</td>\n      <td>table-file</td>\n      <td>3003</td>\n      <td>c7d689d28db8e25035df889749d8cba9d7f37f6a07261d...</td>\n      <td>wandb-client-artifact://17n0ansx495r7wrrusugry...</td>\n      <td>wandb-client-artifact://17n0ansx495r7wrrusugry...</td>\n      <td>media/table/roc_table_1223_c7d689d28db8e25035d...</td>\n      <td>157710</td>\n      <td>table-file</td>\n      <td>3</td>\n    </tr>\n    <tr>\n      <th>12</th>\n      <td>[crop, aug, B0, newPatience]</td>\n      <td>lawin</td>\n      <td>MiT-B0</td>\n      <td>[train, test]</td>\n      <td>dataset/processed/Sequoia</td>\n      <td>same</td>\n      <td>[G, NDVI, NIR, R, RE]</td>\n      <td>True</td>\n      <td>True</td>\n      <td>[256, 256]</td>\n      <td>...</td>\n      <td>28710</td>\n      <td>table-file</td>\n      <td>3003</td>\n      <td>a53e0003c8f65fcd6ad8047637091c4935e57e1c870255...</td>\n      <td>wandb-client-artifact://8x023bhymv39jg0weacops...</td>\n      <td>wandb-client-artifact://8x023bhymv39jg0weacops...</td>\n      <td>media/table/roc_table_1069_a53e0003c8f65fcd6ad...</td>\n      <td>155861</td>\n      <td>table-file</td>\n      <td>3</td>\n    </tr>\n    <tr>\n      <th>13</th>\n      <td>[crop, aug, B0, newPatience]</td>\n      <td>lawin</td>\n      <td>MiT-B0</td>\n      <td>[train, test]</td>\n      <td>dataset/processed/Sequoia</td>\n      <td>same</td>\n      <td>[R, G, RE, NIR]</td>\n      <td>True</td>\n      <td>True</td>\n      <td>[256, 256]</td>\n      <td>...</td>\n      <td>28710</td>\n      <td>table-file</td>\n      <td>3003</td>\n      <td>dd50053d16dc2a1a4c568bd9e38f58363a2e58785a39d5...</td>\n      <td>wandb-client-artifact://16lbpp95ylqjpkei2kgxxn...</td>\n      <td>wandb-client-artifact://16lbpp95ylqjpkei2kgxxn...</td>\n      <td>media/table/roc_table_985_dd50053d16dc2a1a4c56...</td>\n      <td>155327</td>\n      <td>table-file</td>\n      <td>3</td>\n    </tr>\n    <tr>\n      <th>14</th>\n      <td>[crop, aug, B0, newPatience]</td>\n      <td>lawin</td>\n      <td>MiT-B0</td>\n      <td>[train, test]</td>\n      <td>dataset/processed/Sequoia</td>\n      <td>same</td>\n      <td>[G, NIR, R]</td>\n      <td>True</td>\n      <td>True</td>\n      <td>[256, 256]</td>\n      <td>...</td>\n      <td>28710</td>\n      <td>table-file</td>\n      <td>3003</td>\n      <td>05d40bbdb997dfafeb95c07d4573790121478c5595c137...</td>\n      <td>wandb-client-artifact://135r4dbn1y5bwy2kt1rq8m...</td>\n      <td>wandb-client-artifact://135r4dbn1y5bwy2kt1rq8m...</td>\n      <td>media/table/roc_table_677_05d40bbdb997dfafeb95...</td>\n      <td>154424</td>\n      <td>table-file</td>\n      <td>3</td>\n    </tr>\n    <tr>\n      <th>15</th>\n      <td>[crop, aug, B0, newPatience]</td>\n      <td>lawin</td>\n      <td>MiT-B0</td>\n      <td>[train, test]</td>\n      <td>dataset/processed/Sequoia</td>\n      <td>same</td>\n      <td>CIR</td>\n      <td>True</td>\n      <td>True</td>\n      <td>[256, 256]</td>\n      <td>...</td>\n      <td>28710</td>\n      <td>table-file</td>\n      <td>3003</td>\n      <td>3cc276f73f0c8e02d0cb2d093d622a249c2f5f3cd75050...</td>\n      <td>wandb-client-artifact://2d9pm3s4pd7w0ozi2zlfqz...</td>\n      <td>wandb-client-artifact://2d9pm3s4pd7w0ozi2zlfqz...</td>\n      <td>media/table/roc_table_621_3cc276f73f0c8e02d0cb...</td>\n      <td>156696</td>\n      <td>table-file</td>\n      <td>3</td>\n    </tr>\n    <tr>\n      <th>16</th>\n      <td>[crop, aug, B0, newPatience]</td>\n      <td>lawin</td>\n      <td>MiT-B0</td>\n      <td>[train, test]</td>\n      <td>dataset/processed/Sequoia</td>\n      <td>same</td>\n      <td>[NDVI]</td>\n      <td>True</td>\n      <td>True</td>\n      <td>[256, 256]</td>\n      <td>...</td>\n      <td>28710</td>\n      <td>table-file</td>\n      <td>3003</td>\n      <td>659646fe1b66cdb930c6f72561db56df7dab6d800989e4...</td>\n      <td>wandb-client-artifact://tgrvpwaywwjy1a9a4oabxx...</td>\n      <td>wandb-client-artifact://tgrvpwaywwjy1a9a4oabxx...</td>\n      <td>media/table/roc_table_537_659646fe1b66cdb930c6...</td>\n      <td>159845</td>\n      <td>table-file</td>\n      <td>3</td>\n    </tr>\n    <tr>\n      <th>17</th>\n      <td>[crop, aug, B0, newPatience]</td>\n      <td>lawin</td>\n      <td>MiT-B0</td>\n      <td>[train, test]</td>\n      <td>dataset/processed/Sequoia</td>\n      <td>same</td>\n      <td>[R, G]</td>\n      <td>True</td>\n      <td>True</td>\n      <td>[256, 256]</td>\n      <td>...</td>\n      <td>28710</td>\n      <td>table-file</td>\n      <td>3003</td>\n      <td>692a0f077fc109352b278a3975ed0c1e0b248eb863fc31...</td>\n      <td>wandb-client-artifact://nmuleev39jbqb49b8764ti...</td>\n      <td>wandb-client-artifact://nmuleev39jbqb49b8764ti...</td>\n      <td>media/table/roc_table_719_692a0f077fc109352b27...</td>\n      <td>156980</td>\n      <td>table-file</td>\n      <td>3</td>\n    </tr>\n    <tr>\n      <th>18</th>\n      <td>[crop, aug, B0, newPatience]</td>\n      <td>lawin</td>\n      <td>MiT-B0</td>\n      <td>[train, test]</td>\n      <td>dataset/processed/Sequoia</td>\n      <td>same</td>\n      <td>[G, NDVI, NIR, R, RE]</td>\n      <td>True</td>\n      <td>True</td>\n      <td>[256, 256]</td>\n      <td>...</td>\n      <td>28710</td>\n      <td>table-file</td>\n      <td>3003</td>\n      <td>00161b43ad9f6fabacbf907a467b47ce439d39057cee33...</td>\n      <td>wandb-client-artifact://63tew8a0t2mkdoiizcgtwx...</td>\n      <td>wandb-client-artifact://63tew8a0t2mkdoiizcgtwx...</td>\n      <td>media/table/roc_table_579_00161b43ad9f6fabacbf...</td>\n      <td>156001</td>\n      <td>table-file</td>\n      <td>3</td>\n    </tr>\n    <tr>\n      <th>19</th>\n      <td>[crop, aug, B0, newPatience]</td>\n      <td>lawin</td>\n      <td>MiT-B0</td>\n      <td>[train, test]</td>\n      <td>dataset/processed/Sequoia</td>\n      <td>same</td>\n      <td>[R, G, RE, NIR]</td>\n      <td>True</td>\n      <td>True</td>\n      <td>[256, 256]</td>\n      <td>...</td>\n      <td>28710</td>\n      <td>table-file</td>\n      <td>3003</td>\n      <td>9e18da47184fdab691780d469ed86d75c0b72356248ae2...</td>\n      <td>wandb-client-artifact://4yziyp25gi5inv27jd0uoj...</td>\n      <td>wandb-client-artifact://4yziyp25gi5inv27jd0uoj...</td>\n      <td>media/table/roc_table_579_9e18da47184fdab69178...</td>\n      <td>153012</td>\n      <td>table-file</td>\n      <td>3</td>\n    </tr>\n    <tr>\n      <th>20</th>\n      <td>[crop, aug, B0, newPatience]</td>\n      <td>lawin</td>\n      <td>MiT-B0</td>\n      <td>[train, test]</td>\n      <td>dataset/processed/Sequoia</td>\n      <td>same</td>\n      <td>[G, NIR, R]</td>\n      <td>True</td>\n      <td>True</td>\n      <td>[256, 256]</td>\n      <td>...</td>\n      <td>28710</td>\n      <td>table-file</td>\n      <td>3003</td>\n      <td>c8c35eba5eacb83f83974b5de4e52a897743a544a27fc7...</td>\n      <td>wandb-client-artifact://k7pzdaww7lsq9wbkj7766k...</td>\n      <td>wandb-client-artifact://k7pzdaww7lsq9wbkj7766k...</td>\n      <td>media/table/roc_table_915_c8c35eba5eacb83f8397...</td>\n      <td>156535</td>\n      <td>table-file</td>\n      <td>3</td>\n    </tr>\n    <tr>\n      <th>21</th>\n      <td>[crop, aug, B0, newPatience]</td>\n      <td>lawin</td>\n      <td>MiT-B0</td>\n      <td>[train, test]</td>\n      <td>dataset/processed/Sequoia</td>\n      <td>same</td>\n      <td>CIR</td>\n      <td>True</td>\n      <td>True</td>\n      <td>[256, 256]</td>\n      <td>...</td>\n      <td>28710</td>\n      <td>table-file</td>\n      <td>3003</td>\n      <td>a42ccf0d8470c4a888c8afa55d0704fac2b9608a848e02...</td>\n      <td>wandb-client-artifact://124h5zah3yj217o1y7g6oo...</td>\n      <td>wandb-client-artifact://124h5zah3yj217o1y7g6oo...</td>\n      <td>media/table/roc_table_901_a42ccf0d8470c4a888c8...</td>\n      <td>155799</td>\n      <td>table-file</td>\n      <td>3</td>\n    </tr>\n    <tr>\n      <th>22</th>\n      <td>[crop, aug, B0, newPatience]</td>\n      <td>lawin</td>\n      <td>MiT-B0</td>\n      <td>[train, test]</td>\n      <td>dataset/processed/Sequoia</td>\n      <td>same</td>\n      <td>[NDVI]</td>\n      <td>True</td>\n      <td>True</td>\n      <td>[256, 256]</td>\n      <td>...</td>\n      <td>28710</td>\n      <td>table-file</td>\n      <td>3003</td>\n      <td>8b83e5a8134e8e87628797219ad199021d2f8e77f9991f...</td>\n      <td>wandb-client-artifact://xsmzoacv0e3mgk7qna49lq...</td>\n      <td>wandb-client-artifact://xsmzoacv0e3mgk7qna49lq...</td>\n      <td>media/table/roc_table_467_8b83e5a8134e8e876287...</td>\n      <td>156632</td>\n      <td>table-file</td>\n      <td>3</td>\n    </tr>\n    <tr>\n      <th>23</th>\n      <td>[crop, aug, B0, newPatience]</td>\n      <td>lawin</td>\n      <td>MiT-B0</td>\n      <td>[train, test]</td>\n      <td>dataset/processed/Sequoia</td>\n      <td>same</td>\n      <td>[R, G]</td>\n      <td>True</td>\n      <td>True</td>\n      <td>[256, 256]</td>\n      <td>...</td>\n      <td>28710</td>\n      <td>table-file</td>\n      <td>3003</td>\n      <td>bbf1643daad6b16d08e137dac2fab97ea99b3ec79dd05b...</td>\n      <td>wandb-client-artifact://bs1fgarwwja9yszy73r7jy...</td>\n      <td>wandb-client-artifact://bs1fgarwwja9yszy73r7jy...</td>\n      <td>media/table/roc_table_1069_bbf1643daad6b16d08e...</td>\n      <td>157756</td>\n      <td>table-file</td>\n      <td>3</td>\n    </tr>\n  </tbody>\n</table>\n<p>24 rows × 385 columns</p>\n</div>"
     },
     "execution_count": 144,
     "metadata": {},
     "output_type": "execute_result"
    }
   ],
   "source": [
    "runs_df"
   ],
   "metadata": {
    "collapsed": false,
    "pycharm": {
     "name": "#%%\n"
    }
   }
  },
  {
   "cell_type": "code",
   "execution_count": 145,
   "outputs": [],
   "source": [
    "projected_runs = runs_df[\n",
    "    selected_cols\n",
    "]\n",
    "# selected_runs = projected_runs[projected_runs['in_params.model.params.backbone'] == 'MiT-B0']\n",
    "selected_runs = projected_runs"
   ],
   "metadata": {
    "collapsed": false,
    "pycharm": {
     "name": "#%%\n"
    }
   }
  },
  {
   "cell_type": "code",
   "execution_count": 147,
   "outputs": [
    {
     "name": "stderr",
     "output_type": "stream",
     "text": [
      "C:\\Users\\pasqu\\AppData\\Local\\Temp\\ipykernel_15020\\2582322293.py:1: SettingWithCopyWarning: \n",
      "A value is trying to be set on a copy of a slice from a DataFrame\n",
      "\n",
      "See the caveats in the documentation: https://pandas.pydata.org/pandas-docs/stable/user_guide/indexing.html#returning-a-view-versus-a-copy\n",
      "  selected_runs.rename(columns=renamings, inplace=True)\n",
      "C:\\Users\\pasqu\\AppData\\Local\\Temp\\ipykernel_15020\\2582322293.py:2: SettingWithCopyWarning: \n",
      "A value is trying to be set on a copy of a slice from a DataFrame.\n",
      "Try using .loc[row_indexer,col_indexer] = value instead\n",
      "\n",
      "See the caveats in the documentation: https://pandas.pydata.org/pandas-docs/stable/user_guide/indexing.html#returning-a-view-versus-a-copy\n",
      "  selected_runs[roundings] = selected_runs[roundings].round(3)\n"
     ]
    }
   ],
   "source": [
    "selected_runs.rename(columns=renamings, inplace=True)\n",
    "selected_runs[roundings] = selected_runs[roundings].round(3)\n",
    "selected_runs = selected_runs.applymap(lambda x: ', '.join(x) if isinstance(x, list) else x)"
   ],
   "metadata": {
    "collapsed": false,
    "pycharm": {
     "name": "#%%\n"
    }
   }
  },
  {
   "cell_type": "code",
   "execution_count": 148,
   "outputs": [
    {
     "name": "stderr",
     "output_type": "stream",
     "text": [
      "C:\\Users\\pasqu\\AppData\\Local\\Temp\\ipykernel_15020\\1057191433.py:3: SettingWithCopyWarning: \n",
      "A value is trying to be set on a copy of a slice from a DataFrame\n",
      "\n",
      "See the caveats in the documentation: https://pandas.pydata.org/pandas-docs/stable/user_guide/indexing.html#returning-a-view-versus-a-copy\n",
      "  best_runs.sort_values(by=\"Channels\", key=lambda x: x.apply(lambda k: channels_ordering[k]), inplace=True)\n"
     ]
    }
   ],
   "source": [
    "idx = selected_runs.groupby(by='Channels')['F1'].transform(max) == selected_runs['F1']\n",
    "best_runs = selected_runs[idx]\n",
    "best_runs.sort_values(by=\"Channels\", key=lambda x: x.apply(lambda k: channels_ordering[k]), inplace=True)"
   ],
   "metadata": {
    "collapsed": false,
    "pycharm": {
     "name": "#%%\n"
    }
   }
  },
  {
   "cell_type": "code",
   "execution_count": 149,
   "outputs": [],
   "source": [
    "best_runs.to_csv(\"../../exps/lawin_aug.csv\")"
   ],
   "metadata": {
    "collapsed": false,
    "pycharm": {
     "name": "#%%\n"
    }
   }
  },
  {
   "cell_type": "code",
   "execution_count": 150,
   "outputs": [],
   "source": [
    "selected_runs.to_csv(\"../../exps/lawin_aug-complete.csv\")"
   ],
   "metadata": {
    "collapsed": false,
    "pycharm": {
     "name": "#%%\n"
    }
   }
  },
  {
   "cell_type": "markdown",
   "source": [
    "## Lawin Pretrained"
   ],
   "metadata": {
    "collapsed": false,
    "pycharm": {
     "name": "#%% md\n"
    }
   }
  },
  {
   "cell_type": "code",
   "execution_count": 223,
   "outputs": [],
   "source": [
    "filters = {\n",
    "    '$or': [{'group': 'LawinPretrained'}, {'group': 'LawinFrozen'}]\n",
    "}\n",
    "selected_cols = [\n",
    "    'in_params.dataset.channels',\n",
    "    'in_params.train_params.optimizer_params.weight_decay',\n",
    "    'in_params.train_params.initial_lr',\n",
    "    'in_params.train_params.freeze_pretrained',\n",
    "    'in_params.model.params.backbone',\n",
    "    'f1',\n",
    "    'precision',\n",
    "    'recall'\n",
    "]\n",
    "roundings = ['F1', 'Precision', 'Recall']"
   ],
   "metadata": {
    "collapsed": false,
    "pycharm": {
     "name": "#%%\n"
    }
   }
  },
  {
   "cell_type": "code",
   "execution_count": 224,
   "outputs": [
    {
     "data": {
      "text/plain": "['hyper_params.arch_params.schema',\n 'hyper_params.arch_params.sync_bn',\n 'hyper_params.arch_params.backbone',\n 'hyper_params.arch_params.in_channels',\n 'hyper_params.arch_params.num_classes',\n 'hyper_params.arch_params.out_channels',\n 'hyper_params.arch_params.input_channels',\n 'hyper_params.arch_params.output_channels',\n 'hyper_params.arch_params.backbone_pretrained',\n 'hyper_params.dataset_params.root',\n 'hyper_params.dataset_params.size',\n 'hyper_params.dataset_params.schema',\n 'hyper_params.dataset_params.s3_link',\n 'hyper_params.dataset_params.channels',\n 'hyper_params.dataset_params.hor_flip',\n 'hyper_params.dataset_params.ver_flip',\n 'hyper_params.dataset_params.crop_size',\n 'hyper_params.dataset_params.batch_size',\n 'hyper_params.dataset_params.dataset_dir',\n 'hyper_params.dataset_params.num_classes',\n 'hyper_params.dataset_params.num_workers',\n 'hyper_params.dataset_params.return_path',\n 'hyper_params.dataset_params.test_folders',\n 'hyper_params.dataset_params.train_folders',\n 'hyper_params.dataset_params.val_batch_size',\n 'hyper_params.dataset_params.test_batch_size',\n 'hyper_params.additional_log_items.multi_gpu',\n 'hyper_params.additional_log_items.initial_LR',\n 'hyper_params.additional_log_items.device_type',\n 'hyper_params.additional_log_items.num_devices',\n 'hyper_params.additional_log_items.installed_packages',\n 'hyper_params.training_hyperparams.ema',\n 'hyper_params.training_hyperparams.loss',\n 'hyper_params.training_hyperparams.seed',\n 'hyper_params.training_hyperparams.schema.if.properties.lr_mode.const',\n 'hyper_params.training_hyperparams.schema.then.required',\n 'hyper_params.training_hyperparams.schema.type',\n 'hyper_params.training_hyperparams.schema.required',\n 'hyper_params.training_hyperparams.schema.properties.initial_lr.type',\n 'hyper_params.training_hyperparams.schema.properties.initial_lr.maximum',\n 'hyper_params.training_hyperparams.schema.properties.initial_lr.exclusiveMinimum',\n 'hyper_params.training_hyperparams.schema.properties.max_epochs.type',\n 'hyper_params.training_hyperparams.schema.properties.max_epochs.minimum',\n 'hyper_params.training_hyperparams.schema.properties.lr_decay_factor.type',\n 'hyper_params.training_hyperparams.schema.properties.lr_decay_factor.maximum',\n 'hyper_params.training_hyperparams.schema.properties.lr_decay_factor.minimum',\n 'hyper_params.training_hyperparams.schema.properties.lr_warmup_epochs.type',\n 'hyper_params.training_hyperparams.schema.properties.lr_warmup_epochs.maximum',\n 'hyper_params.training_hyperparams.schema.properties.lr_warmup_epochs.minimum',\n 'hyper_params.training_hyperparams.lr_mode',\n 'hyper_params.training_hyperparams.optimizer',\n 'hyper_params.training_hyperparams.sg_logger',\n 'hyper_params.training_hyperparams.initial_lr',\n 'hyper_params.training_hyperparams.lr_updates',\n 'hyper_params.training_hyperparams.max_epochs',\n 'hyper_params.training_hyperparams.precise_bn',\n 'hyper_params.training_hyperparams.save_model',\n 'hyper_params.training_hyperparams.silent_mode',\n 'hyper_params.training_hyperparams.warmup_mode',\n 'hyper_params.training_hyperparams.load_opt_params',\n 'hyper_params.training_hyperparams.metric_to_watch',\n 'hyper_params.training_hyperparams.mixed_precision',\n 'hyper_params.training_hyperparams.phase_callbacks',\n 'hyper_params.training_hyperparams.batch_accumulate',\n 'hyper_params.training_hyperparams.lr_warmup_epochs',\n 'hyper_params.training_hyperparams.optimizer_params.weight_decay',\n 'hyper_params.training_hyperparams.sg_logger_params.tags',\n 'hyper_params.training_hyperparams.sg_logger_params.entity',\n 'hyper_params.training_hyperparams.sg_logger_params.project_name',\n 'hyper_params.training_hyperparams.sg_logger_params.save_logs_remote',\n 'hyper_params.training_hyperparams.sg_logger_params.tensorboard_port',\n 'hyper_params.training_hyperparams.sg_logger_params.launch_tensorboard',\n 'hyper_params.training_hyperparams.sg_logger_params.tb_files_user_prompt',\n 'hyper_params.training_hyperparams.sg_logger_params.save_checkpoints_remote',\n 'hyper_params.training_hyperparams.sg_logger_params.save_tensorboard_remote',\n 'hyper_params.training_hyperparams.tensorboard_port',\n 'hyper_params.training_hyperparams.freeze_pretrained',\n 'hyper_params.training_hyperparams.warmup_initial_lr',\n 'hyper_params.training_hyperparams.dataset_statistics',\n 'hyper_params.training_hyperparams.launch_tensorboard',\n 'hyper_params.training_hyperparams.train_metrics_list',\n 'hyper_params.training_hyperparams.valid_metrics_list',\n 'hyper_params.training_hyperparams.average_best_models',\n 'hyper_params.training_hyperparams.run_validation_freq',\n 'hyper_params.training_hyperparams.save_full_train_log',\n 'hyper_params.training_hyperparams.step_lr_update_freq',\n 'hyper_params.training_hyperparams.lr_schedule_function',\n 'hyper_params.training_hyperparams.save_ckpt_epoch_list',\n 'hyper_params.training_hyperparams.tb_files_user_prompt',\n 'hyper_params.training_hyperparams.cosine_final_lr_ratio',\n 'hyper_params.training_hyperparams.precise_bn_batch_size',\n 'hyper_params.training_hyperparams.log_installed_packages',\n 'hyper_params.training_hyperparams.save_tensorboard_to_s3',\n 'hyper_params.training_hyperparams.loss_logging_items_names',\n 'hyper_params.training_hyperparams.zero_weight_decay_on_bias_and_bn',\n 'hyper_params.training_hyperparams.greater_metric_to_watch_is_better']"
     },
     "metadata": {},
     "output_type": "display_data"
    }
   ],
   "source": [
    "runs_df = get_runs(filters)\n",
    "remove_hyp(runs_df)"
   ],
   "metadata": {
    "collapsed": false,
    "pycharm": {
     "name": "#%%\n"
    }
   }
  },
  {
   "cell_type": "code",
   "execution_count": 225,
   "outputs": [
    {
     "data": {
      "text/plain": "                              in_params.tags in_params.model.name  \\\n0       [crop, aug, B1, newPatience, frozen]                lawin   \n1       [crop, aug, B1, newPatience, frozen]                lawin   \n2       [crop, aug, B1, newPatience, frozen]                lawin   \n3       [crop, aug, B1, newPatience, frozen]                lawin   \n4       [crop, aug, B1, newPatience, frozen]                lawin   \n5       [crop, aug, B1, newPatience, frozen]                lawin   \n6       [crop, aug, B1, newPatience, frozen]                lawin   \n7       [crop, aug, B1, newPatience, frozen]                lawin   \n8       [crop, aug, B0, newPatience, frozen]                lawin   \n9       [crop, aug, B0, newPatience, frozen]                lawin   \n10      [crop, aug, B0, newPatience, frozen]                lawin   \n11      [crop, aug, B0, newPatience, frozen]                lawin   \n12  [crop, aug, B1, newPatience, pretrained]                lawin   \n13      [crop, aug, B0, newPatience, frozen]                lawin   \n14      [crop, aug, B0, newPatience, frozen]                lawin   \n15  [crop, aug, B1, newPatience, pretrained]                lawin   \n16  [crop, aug, B1, newPatience, pretrained]                lawin   \n17      [crop, aug, B0, newPatience, frozen]                lawin   \n18  [crop, aug, B1, newPatience, pretrained]                lawin   \n19      [crop, aug, B0, newPatience, frozen]                lawin   \n20  [crop, aug, B1, newPatience, pretrained]                lawin   \n21  [crop, aug, B1, newPatience, pretrained]                lawin   \n22  [crop, aug, B1, newPatience, pretrained]                lawin   \n23  [crop, aug, B1, newPatience, pretrained]                lawin   \n24  [crop, aug, B0, newPatience, pretrained]                lawin   \n25  [crop, aug, B0, newPatience, pretrained]                lawin   \n26  [crop, aug, B0, newPatience, pretrained]                lawin   \n27  [crop, aug, B0, newPatience, pretrained]                lawin   \n28  [crop, aug, B0, newPatience, pretrained]                lawin   \n29  [crop, aug, B0, newPatience, pretrained]                lawin   \n30  [crop, aug, B0, newPatience, pretrained]                lawin   \n31  [crop, aug, B0, newPatience, pretrained]                lawin   \n\n   in_params.model.params.backbone  \\\n0                           MiT-B1   \n1                           MiT-B1   \n2                           MiT-B1   \n3                           MiT-B1   \n4                           MiT-B1   \n5                           MiT-B1   \n6                           MiT-B1   \n7                           MiT-B1   \n8                           MiT-B0   \n9                           MiT-B0   \n10                          MiT-B0   \n11                          MiT-B0   \n12                          MiT-B1   \n13                          MiT-B0   \n14                          MiT-B0   \n15                          MiT-B1   \n16                          MiT-B1   \n17                          MiT-B0   \n18                          MiT-B1   \n19                          MiT-B0   \n20                          MiT-B1   \n21                          MiT-B1   \n22                          MiT-B1   \n23                          MiT-B1   \n24                          MiT-B0   \n25                          MiT-B0   \n26                          MiT-B0   \n27                          MiT-B0   \n28                          MiT-B0   \n29                          MiT-B0   \n30                          MiT-B0   \n31                          MiT-B0   \n\n    in_params.model.params.backbone_pretrained in_params.phases  \\\n0                                         True    [train, test]   \n1                                         True    [train, test]   \n2                                         True    [train, test]   \n3                                         True    [train, test]   \n4                                         True    [train, test]   \n5                                         True    [train, test]   \n6                                         True    [train, test]   \n7                                         True    [train, test]   \n8                                         True    [train, test]   \n9                                         True    [train, test]   \n10                                        True    [train, test]   \n11                                        True    [train, test]   \n12                                        True    [train, test]   \n13                                        True    [train, test]   \n14                                        True    [train, test]   \n15                                        True    [train, test]   \n16                                        True    [train, test]   \n17                                        True    [train, test]   \n18                                        True    [train, test]   \n19                                        True    [train, test]   \n20                                        True    [train, test]   \n21                                        True    [train, test]   \n22                                        True    [train, test]   \n23                                        True    [train, test]   \n24                                        True    [train, test]   \n25                                        True    [train, test]   \n26                                        True    [train, test]   \n27                                        True    [train, test]   \n28                                        True    [train, test]   \n29                                        True    [train, test]   \n30                                        True    [train, test]   \n31                                        True    [train, test]   \n\n       in_params.dataset.root in_params.dataset.size  \\\n0   dataset/processed/Sequoia                   same   \n1   dataset/processed/Sequoia                   same   \n2   dataset/processed/Sequoia                   same   \n3   dataset/processed/Sequoia                   same   \n4   dataset/processed/Sequoia                   same   \n5   dataset/processed/Sequoia                   same   \n6   dataset/processed/Sequoia                   same   \n7   dataset/processed/Sequoia                   same   \n8   dataset/processed/Sequoia                   same   \n9   dataset/processed/Sequoia                   same   \n10  dataset/processed/Sequoia                   same   \n11  dataset/processed/Sequoia                   same   \n12  dataset/processed/Sequoia                   same   \n13  dataset/processed/Sequoia                   same   \n14  dataset/processed/Sequoia                   same   \n15  dataset/processed/Sequoia                   same   \n16  dataset/processed/Sequoia                   same   \n17  dataset/processed/Sequoia                   same   \n18  dataset/processed/Sequoia                   same   \n19  dataset/processed/Sequoia                   same   \n20  dataset/processed/Sequoia                   same   \n21  dataset/processed/Sequoia                   same   \n22  dataset/processed/Sequoia                   same   \n23  dataset/processed/Sequoia                   same   \n24  dataset/processed/Sequoia                   same   \n25  dataset/processed/Sequoia                   same   \n26  dataset/processed/Sequoia                   same   \n27  dataset/processed/Sequoia                   same   \n28  dataset/processed/Sequoia                   same   \n29  dataset/processed/Sequoia                   same   \n30  dataset/processed/Sequoia                   same   \n31  dataset/processed/Sequoia                   same   \n\n   in_params.dataset.channels  in_params.dataset.hor_flip  \\\n0                 [G, NIR, R]                        True   \n1                         CIR                        True   \n2                      [NDVI]                        True   \n3                      [R, G]                        True   \n4                 [G, NIR, R]                        True   \n5                         CIR                        True   \n6                      [NDVI]                        True   \n7                      [R, G]                        True   \n8                 [G, NIR, R]                        True   \n9                         CIR                        True   \n10                     [NDVI]                        True   \n11                     [R, G]                        True   \n12                [G, NIR, R]                        True   \n13                [G, NIR, R]                        True   \n14                        CIR                        True   \n15                        CIR                        True   \n16                     [NDVI]                        True   \n17                     [NDVI]                        True   \n18                     [R, G]                        True   \n19                     [R, G]                        True   \n20                [G, NIR, R]                        True   \n21                        CIR                        True   \n22                     [NDVI]                        True   \n23                     [R, G]                        True   \n24                [G, NIR, R]                        True   \n25                        CIR                        True   \n26                     [NDVI]                        True   \n27                     [R, G]                        True   \n28                [G, NIR, R]                        True   \n29                        CIR                        True   \n30                     [NDVI]                        True   \n31                     [R, G]                        True   \n\n    in_params.dataset.ver_flip  ...  \\\n0                         True  ...   \n1                         True  ...   \n2                         True  ...   \n3                         True  ...   \n4                         True  ...   \n5                         True  ...   \n6                         True  ...   \n7                         True  ...   \n8                         True  ...   \n9                         True  ...   \n10                        True  ...   \n11                        True  ...   \n12                        True  ...   \n13                        True  ...   \n14                        True  ...   \n15                        True  ...   \n16                        True  ...   \n17                        True  ...   \n18                        True  ...   \n19                        True  ...   \n20                        True  ...   \n21                        True  ...   \n22                        True  ...   \n23                        True  ...   \n24                        True  ...   \n25                        True  ...   \n26                        True  ...   \n27                        True  ...   \n28                        True  ...   \n29                        True  ...   \n30                        True  ...   \n31                        True  ...   \n\n   007_frame0127.png.masks.ground_truth._type  \\\n0                                        mask   \n1                                        mask   \n2                                        mask   \n3                                        mask   \n4                                        mask   \n5                                        mask   \n6                                        mask   \n7                                        mask   \n8                                        mask   \n9                                        mask   \n10                                       mask   \n11                                       mask   \n12                                       mask   \n13                                       mask   \n14                                       mask   \n15                                       mask   \n16                                       mask   \n17                                       mask   \n18                                       mask   \n19                                       mask   \n20                                       mask   \n21                                       mask   \n22                                       mask   \n23                                       mask   \n24                                       mask   \n25                                       mask   \n26                                       mask   \n27                                       mask   \n28                                       mask   \n29                                       mask   \n30                                       mask   \n31                                       mask   \n\n          007_frame0127.png.masks.ground_truth.sha256  \\\n0   39962cd5bc9f4f0446341d3e6e0c6c37336ddeb2e026a1...   \n1   39962cd5bc9f4f0446341d3e6e0c6c37336ddeb2e026a1...   \n2   39962cd5bc9f4f0446341d3e6e0c6c37336ddeb2e026a1...   \n3   39962cd5bc9f4f0446341d3e6e0c6c37336ddeb2e026a1...   \n4   39962cd5bc9f4f0446341d3e6e0c6c37336ddeb2e026a1...   \n5   39962cd5bc9f4f0446341d3e6e0c6c37336ddeb2e026a1...   \n6   39962cd5bc9f4f0446341d3e6e0c6c37336ddeb2e026a1...   \n7   39962cd5bc9f4f0446341d3e6e0c6c37336ddeb2e026a1...   \n8   39962cd5bc9f4f0446341d3e6e0c6c37336ddeb2e026a1...   \n9   39962cd5bc9f4f0446341d3e6e0c6c37336ddeb2e026a1...   \n10  39962cd5bc9f4f0446341d3e6e0c6c37336ddeb2e026a1...   \n11  39962cd5bc9f4f0446341d3e6e0c6c37336ddeb2e026a1...   \n12  39962cd5bc9f4f0446341d3e6e0c6c37336ddeb2e026a1...   \n13  39962cd5bc9f4f0446341d3e6e0c6c37336ddeb2e026a1...   \n14  39962cd5bc9f4f0446341d3e6e0c6c37336ddeb2e026a1...   \n15  39962cd5bc9f4f0446341d3e6e0c6c37336ddeb2e026a1...   \n16  39962cd5bc9f4f0446341d3e6e0c6c37336ddeb2e026a1...   \n17  39962cd5bc9f4f0446341d3e6e0c6c37336ddeb2e026a1...   \n18  39962cd5bc9f4f0446341d3e6e0c6c37336ddeb2e026a1...   \n19  39962cd5bc9f4f0446341d3e6e0c6c37336ddeb2e026a1...   \n20  39962cd5bc9f4f0446341d3e6e0c6c37336ddeb2e026a1...   \n21  39962cd5bc9f4f0446341d3e6e0c6c37336ddeb2e026a1...   \n22  39962cd5bc9f4f0446341d3e6e0c6c37336ddeb2e026a1...   \n23  39962cd5bc9f4f0446341d3e6e0c6c37336ddeb2e026a1...   \n24  39962cd5bc9f4f0446341d3e6e0c6c37336ddeb2e026a1...   \n25  39962cd5bc9f4f0446341d3e6e0c6c37336ddeb2e026a1...   \n26  39962cd5bc9f4f0446341d3e6e0c6c37336ddeb2e026a1...   \n27  39962cd5bc9f4f0446341d3e6e0c6c37336ddeb2e026a1...   \n28  39962cd5bc9f4f0446341d3e6e0c6c37336ddeb2e026a1...   \n29  39962cd5bc9f4f0446341d3e6e0c6c37336ddeb2e026a1...   \n30  39962cd5bc9f4f0446341d3e6e0c6c37336ddeb2e026a1...   \n31  39962cd5bc9f4f0446341d3e6e0c6c37336ddeb2e026a1...   \n\n    007_frame0127.png.width  007_frame0127.png.format  \\\n0                       256                       png   \n1                       256                       png   \n2                       256                       png   \n3                       256                       png   \n4                       256                       png   \n5                       256                       png   \n6                       256                       png   \n7                       256                       png   \n8                       256                       png   \n9                       256                       png   \n10                      256                       png   \n11                      256                       png   \n12                      256                       png   \n13                      256                       png   \n14                      256                       png   \n15                      256                       png   \n16                      256                       png   \n17                      256                       png   \n18                      256                       png   \n19                      256                       png   \n20                      256                       png   \n21                      256                       png   \n22                      256                       png   \n23                      256                       png   \n24                      256                       png   \n25                      256                       png   \n26                      256                       png   \n27                      256                       png   \n28                      256                       png   \n29                      256                       png   \n30                      256                       png   \n31                      256                       png   \n\n    007_frame0127.png.height _step  auc_weed  val_WrapPrecision  \\\n0                        256  1276  0.857702           0.551557   \n1                        256  1122  0.890433           0.594353   \n2                        256   576  0.964667           0.545068   \n3                        256  2676  0.886699           0.537606   \n4                        256   730  0.931351           0.583787   \n5                        256  1206  0.898544           0.600819   \n6                        256  1122  0.990589           0.601086   \n7                        256   954  0.788546           0.555997   \n8                        256  2410  0.743810           0.575231   \n9                        256  1010  0.795473           0.508725   \n10                       256  1122  0.956289           0.552787   \n11                       256  1514  0.821775           0.540438   \n12                       256  1668  0.880239           0.561355   \n13                       256  1248  0.883750           0.586794   \n14                       256   730  0.844558           0.560171   \n15                       256  1122  0.934491           0.624708   \n16                       256   786  0.581203           0.618294   \n17                       256  2130  0.930773           0.579122   \n18                       256  1122  0.818250           0.492566   \n19                       256  1122  0.818064           0.579447   \n20                       256   733  0.955160           0.660184   \n21                       256  1279  0.837005           0.634018   \n22                       256  1293  0.891157           0.626337   \n23                       256  1559  0.915036           0.597450   \n24                       256   887  0.808949           0.606904   \n25                       256  1125  0.921877           0.619408   \n26                       256   789  0.892859           0.603106   \n27                       256  1279  0.897948           0.561068   \n28                       256  1363  0.656827           0.563618   \n29                       256  1251  0.869575           0.619119   \n30                       256  1279  0.994937           0.494148   \n31                       256  1125  0.838326           0.595208   \n\n    val_JaccardIndex train_JaccardIndex  \n0                NaN                NaN  \n1                NaN                NaN  \n2                NaN                NaN  \n3                NaN                NaN  \n4                NaN                NaN  \n5                NaN                NaN  \n6                NaN                NaN  \n7                NaN                NaN  \n8                NaN                NaN  \n9                NaN                NaN  \n10               NaN                NaN  \n11               NaN                NaN  \n12               NaN                NaN  \n13               NaN                NaN  \n14               NaN                NaN  \n15               NaN                NaN  \n16               NaN                NaN  \n17               NaN                NaN  \n18               NaN                NaN  \n19               NaN                NaN  \n20          0.539708           0.512091  \n21          0.572957           0.540262  \n22          0.494947           0.480741  \n23          0.562266           0.584837  \n24          0.620855           0.544851  \n25          0.626423           0.584824  \n26          0.551344           0.546598  \n27          0.612869           0.580000  \n28          0.535116           0.579484  \n29          0.592658           0.567375  \n30          0.540217           0.592861  \n31          0.614846           0.574520  \n\n[32 rows x 391 columns]",
      "text/html": "<div>\n<style scoped>\n    .dataframe tbody tr th:only-of-type {\n        vertical-align: middle;\n    }\n\n    .dataframe tbody tr th {\n        vertical-align: top;\n    }\n\n    .dataframe thead th {\n        text-align: right;\n    }\n</style>\n<table border=\"1\" class=\"dataframe\">\n  <thead>\n    <tr style=\"text-align: right;\">\n      <th></th>\n      <th>in_params.tags</th>\n      <th>in_params.model.name</th>\n      <th>in_params.model.params.backbone</th>\n      <th>in_params.model.params.backbone_pretrained</th>\n      <th>in_params.phases</th>\n      <th>in_params.dataset.root</th>\n      <th>in_params.dataset.size</th>\n      <th>in_params.dataset.channels</th>\n      <th>in_params.dataset.hor_flip</th>\n      <th>in_params.dataset.ver_flip</th>\n      <th>...</th>\n      <th>007_frame0127.png.masks.ground_truth._type</th>\n      <th>007_frame0127.png.masks.ground_truth.sha256</th>\n      <th>007_frame0127.png.width</th>\n      <th>007_frame0127.png.format</th>\n      <th>007_frame0127.png.height</th>\n      <th>_step</th>\n      <th>auc_weed</th>\n      <th>val_WrapPrecision</th>\n      <th>val_JaccardIndex</th>\n      <th>train_JaccardIndex</th>\n    </tr>\n  </thead>\n  <tbody>\n    <tr>\n      <th>0</th>\n      <td>[crop, aug, B1, newPatience, frozen]</td>\n      <td>lawin</td>\n      <td>MiT-B1</td>\n      <td>True</td>\n      <td>[train, test]</td>\n      <td>dataset/processed/Sequoia</td>\n      <td>same</td>\n      <td>[G, NIR, R]</td>\n      <td>True</td>\n      <td>True</td>\n      <td>...</td>\n      <td>mask</td>\n      <td>39962cd5bc9f4f0446341d3e6e0c6c37336ddeb2e026a1...</td>\n      <td>256</td>\n      <td>png</td>\n      <td>256</td>\n      <td>1276</td>\n      <td>0.857702</td>\n      <td>0.551557</td>\n      <td>NaN</td>\n      <td>NaN</td>\n    </tr>\n    <tr>\n      <th>1</th>\n      <td>[crop, aug, B1, newPatience, frozen]</td>\n      <td>lawin</td>\n      <td>MiT-B1</td>\n      <td>True</td>\n      <td>[train, test]</td>\n      <td>dataset/processed/Sequoia</td>\n      <td>same</td>\n      <td>CIR</td>\n      <td>True</td>\n      <td>True</td>\n      <td>...</td>\n      <td>mask</td>\n      <td>39962cd5bc9f4f0446341d3e6e0c6c37336ddeb2e026a1...</td>\n      <td>256</td>\n      <td>png</td>\n      <td>256</td>\n      <td>1122</td>\n      <td>0.890433</td>\n      <td>0.594353</td>\n      <td>NaN</td>\n      <td>NaN</td>\n    </tr>\n    <tr>\n      <th>2</th>\n      <td>[crop, aug, B1, newPatience, frozen]</td>\n      <td>lawin</td>\n      <td>MiT-B1</td>\n      <td>True</td>\n      <td>[train, test]</td>\n      <td>dataset/processed/Sequoia</td>\n      <td>same</td>\n      <td>[NDVI]</td>\n      <td>True</td>\n      <td>True</td>\n      <td>...</td>\n      <td>mask</td>\n      <td>39962cd5bc9f4f0446341d3e6e0c6c37336ddeb2e026a1...</td>\n      <td>256</td>\n      <td>png</td>\n      <td>256</td>\n      <td>576</td>\n      <td>0.964667</td>\n      <td>0.545068</td>\n      <td>NaN</td>\n      <td>NaN</td>\n    </tr>\n    <tr>\n      <th>3</th>\n      <td>[crop, aug, B1, newPatience, frozen]</td>\n      <td>lawin</td>\n      <td>MiT-B1</td>\n      <td>True</td>\n      <td>[train, test]</td>\n      <td>dataset/processed/Sequoia</td>\n      <td>same</td>\n      <td>[R, G]</td>\n      <td>True</td>\n      <td>True</td>\n      <td>...</td>\n      <td>mask</td>\n      <td>39962cd5bc9f4f0446341d3e6e0c6c37336ddeb2e026a1...</td>\n      <td>256</td>\n      <td>png</td>\n      <td>256</td>\n      <td>2676</td>\n      <td>0.886699</td>\n      <td>0.537606</td>\n      <td>NaN</td>\n      <td>NaN</td>\n    </tr>\n    <tr>\n      <th>4</th>\n      <td>[crop, aug, B1, newPatience, frozen]</td>\n      <td>lawin</td>\n      <td>MiT-B1</td>\n      <td>True</td>\n      <td>[train, test]</td>\n      <td>dataset/processed/Sequoia</td>\n      <td>same</td>\n      <td>[G, NIR, R]</td>\n      <td>True</td>\n      <td>True</td>\n      <td>...</td>\n      <td>mask</td>\n      <td>39962cd5bc9f4f0446341d3e6e0c6c37336ddeb2e026a1...</td>\n      <td>256</td>\n      <td>png</td>\n      <td>256</td>\n      <td>730</td>\n      <td>0.931351</td>\n      <td>0.583787</td>\n      <td>NaN</td>\n      <td>NaN</td>\n    </tr>\n    <tr>\n      <th>5</th>\n      <td>[crop, aug, B1, newPatience, frozen]</td>\n      <td>lawin</td>\n      <td>MiT-B1</td>\n      <td>True</td>\n      <td>[train, test]</td>\n      <td>dataset/processed/Sequoia</td>\n      <td>same</td>\n      <td>CIR</td>\n      <td>True</td>\n      <td>True</td>\n      <td>...</td>\n      <td>mask</td>\n      <td>39962cd5bc9f4f0446341d3e6e0c6c37336ddeb2e026a1...</td>\n      <td>256</td>\n      <td>png</td>\n      <td>256</td>\n      <td>1206</td>\n      <td>0.898544</td>\n      <td>0.600819</td>\n      <td>NaN</td>\n      <td>NaN</td>\n    </tr>\n    <tr>\n      <th>6</th>\n      <td>[crop, aug, B1, newPatience, frozen]</td>\n      <td>lawin</td>\n      <td>MiT-B1</td>\n      <td>True</td>\n      <td>[train, test]</td>\n      <td>dataset/processed/Sequoia</td>\n      <td>same</td>\n      <td>[NDVI]</td>\n      <td>True</td>\n      <td>True</td>\n      <td>...</td>\n      <td>mask</td>\n      <td>39962cd5bc9f4f0446341d3e6e0c6c37336ddeb2e026a1...</td>\n      <td>256</td>\n      <td>png</td>\n      <td>256</td>\n      <td>1122</td>\n      <td>0.990589</td>\n      <td>0.601086</td>\n      <td>NaN</td>\n      <td>NaN</td>\n    </tr>\n    <tr>\n      <th>7</th>\n      <td>[crop, aug, B1, newPatience, frozen]</td>\n      <td>lawin</td>\n      <td>MiT-B1</td>\n      <td>True</td>\n      <td>[train, test]</td>\n      <td>dataset/processed/Sequoia</td>\n      <td>same</td>\n      <td>[R, G]</td>\n      <td>True</td>\n      <td>True</td>\n      <td>...</td>\n      <td>mask</td>\n      <td>39962cd5bc9f4f0446341d3e6e0c6c37336ddeb2e026a1...</td>\n      <td>256</td>\n      <td>png</td>\n      <td>256</td>\n      <td>954</td>\n      <td>0.788546</td>\n      <td>0.555997</td>\n      <td>NaN</td>\n      <td>NaN</td>\n    </tr>\n    <tr>\n      <th>8</th>\n      <td>[crop, aug, B0, newPatience, frozen]</td>\n      <td>lawin</td>\n      <td>MiT-B0</td>\n      <td>True</td>\n      <td>[train, test]</td>\n      <td>dataset/processed/Sequoia</td>\n      <td>same</td>\n      <td>[G, NIR, R]</td>\n      <td>True</td>\n      <td>True</td>\n      <td>...</td>\n      <td>mask</td>\n      <td>39962cd5bc9f4f0446341d3e6e0c6c37336ddeb2e026a1...</td>\n      <td>256</td>\n      <td>png</td>\n      <td>256</td>\n      <td>2410</td>\n      <td>0.743810</td>\n      <td>0.575231</td>\n      <td>NaN</td>\n      <td>NaN</td>\n    </tr>\n    <tr>\n      <th>9</th>\n      <td>[crop, aug, B0, newPatience, frozen]</td>\n      <td>lawin</td>\n      <td>MiT-B0</td>\n      <td>True</td>\n      <td>[train, test]</td>\n      <td>dataset/processed/Sequoia</td>\n      <td>same</td>\n      <td>CIR</td>\n      <td>True</td>\n      <td>True</td>\n      <td>...</td>\n      <td>mask</td>\n      <td>39962cd5bc9f4f0446341d3e6e0c6c37336ddeb2e026a1...</td>\n      <td>256</td>\n      <td>png</td>\n      <td>256</td>\n      <td>1010</td>\n      <td>0.795473</td>\n      <td>0.508725</td>\n      <td>NaN</td>\n      <td>NaN</td>\n    </tr>\n    <tr>\n      <th>10</th>\n      <td>[crop, aug, B0, newPatience, frozen]</td>\n      <td>lawin</td>\n      <td>MiT-B0</td>\n      <td>True</td>\n      <td>[train, test]</td>\n      <td>dataset/processed/Sequoia</td>\n      <td>same</td>\n      <td>[NDVI]</td>\n      <td>True</td>\n      <td>True</td>\n      <td>...</td>\n      <td>mask</td>\n      <td>39962cd5bc9f4f0446341d3e6e0c6c37336ddeb2e026a1...</td>\n      <td>256</td>\n      <td>png</td>\n      <td>256</td>\n      <td>1122</td>\n      <td>0.956289</td>\n      <td>0.552787</td>\n      <td>NaN</td>\n      <td>NaN</td>\n    </tr>\n    <tr>\n      <th>11</th>\n      <td>[crop, aug, B0, newPatience, frozen]</td>\n      <td>lawin</td>\n      <td>MiT-B0</td>\n      <td>True</td>\n      <td>[train, test]</td>\n      <td>dataset/processed/Sequoia</td>\n      <td>same</td>\n      <td>[R, G]</td>\n      <td>True</td>\n      <td>True</td>\n      <td>...</td>\n      <td>mask</td>\n      <td>39962cd5bc9f4f0446341d3e6e0c6c37336ddeb2e026a1...</td>\n      <td>256</td>\n      <td>png</td>\n      <td>256</td>\n      <td>1514</td>\n      <td>0.821775</td>\n      <td>0.540438</td>\n      <td>NaN</td>\n      <td>NaN</td>\n    </tr>\n    <tr>\n      <th>12</th>\n      <td>[crop, aug, B1, newPatience, pretrained]</td>\n      <td>lawin</td>\n      <td>MiT-B1</td>\n      <td>True</td>\n      <td>[train, test]</td>\n      <td>dataset/processed/Sequoia</td>\n      <td>same</td>\n      <td>[G, NIR, R]</td>\n      <td>True</td>\n      <td>True</td>\n      <td>...</td>\n      <td>mask</td>\n      <td>39962cd5bc9f4f0446341d3e6e0c6c37336ddeb2e026a1...</td>\n      <td>256</td>\n      <td>png</td>\n      <td>256</td>\n      <td>1668</td>\n      <td>0.880239</td>\n      <td>0.561355</td>\n      <td>NaN</td>\n      <td>NaN</td>\n    </tr>\n    <tr>\n      <th>13</th>\n      <td>[crop, aug, B0, newPatience, frozen]</td>\n      <td>lawin</td>\n      <td>MiT-B0</td>\n      <td>True</td>\n      <td>[train, test]</td>\n      <td>dataset/processed/Sequoia</td>\n      <td>same</td>\n      <td>[G, NIR, R]</td>\n      <td>True</td>\n      <td>True</td>\n      <td>...</td>\n      <td>mask</td>\n      <td>39962cd5bc9f4f0446341d3e6e0c6c37336ddeb2e026a1...</td>\n      <td>256</td>\n      <td>png</td>\n      <td>256</td>\n      <td>1248</td>\n      <td>0.883750</td>\n      <td>0.586794</td>\n      <td>NaN</td>\n      <td>NaN</td>\n    </tr>\n    <tr>\n      <th>14</th>\n      <td>[crop, aug, B0, newPatience, frozen]</td>\n      <td>lawin</td>\n      <td>MiT-B0</td>\n      <td>True</td>\n      <td>[train, test]</td>\n      <td>dataset/processed/Sequoia</td>\n      <td>same</td>\n      <td>CIR</td>\n      <td>True</td>\n      <td>True</td>\n      <td>...</td>\n      <td>mask</td>\n      <td>39962cd5bc9f4f0446341d3e6e0c6c37336ddeb2e026a1...</td>\n      <td>256</td>\n      <td>png</td>\n      <td>256</td>\n      <td>730</td>\n      <td>0.844558</td>\n      <td>0.560171</td>\n      <td>NaN</td>\n      <td>NaN</td>\n    </tr>\n    <tr>\n      <th>15</th>\n      <td>[crop, aug, B1, newPatience, pretrained]</td>\n      <td>lawin</td>\n      <td>MiT-B1</td>\n      <td>True</td>\n      <td>[train, test]</td>\n      <td>dataset/processed/Sequoia</td>\n      <td>same</td>\n      <td>CIR</td>\n      <td>True</td>\n      <td>True</td>\n      <td>...</td>\n      <td>mask</td>\n      <td>39962cd5bc9f4f0446341d3e6e0c6c37336ddeb2e026a1...</td>\n      <td>256</td>\n      <td>png</td>\n      <td>256</td>\n      <td>1122</td>\n      <td>0.934491</td>\n      <td>0.624708</td>\n      <td>NaN</td>\n      <td>NaN</td>\n    </tr>\n    <tr>\n      <th>16</th>\n      <td>[crop, aug, B1, newPatience, pretrained]</td>\n      <td>lawin</td>\n      <td>MiT-B1</td>\n      <td>True</td>\n      <td>[train, test]</td>\n      <td>dataset/processed/Sequoia</td>\n      <td>same</td>\n      <td>[NDVI]</td>\n      <td>True</td>\n      <td>True</td>\n      <td>...</td>\n      <td>mask</td>\n      <td>39962cd5bc9f4f0446341d3e6e0c6c37336ddeb2e026a1...</td>\n      <td>256</td>\n      <td>png</td>\n      <td>256</td>\n      <td>786</td>\n      <td>0.581203</td>\n      <td>0.618294</td>\n      <td>NaN</td>\n      <td>NaN</td>\n    </tr>\n    <tr>\n      <th>17</th>\n      <td>[crop, aug, B0, newPatience, frozen]</td>\n      <td>lawin</td>\n      <td>MiT-B0</td>\n      <td>True</td>\n      <td>[train, test]</td>\n      <td>dataset/processed/Sequoia</td>\n      <td>same</td>\n      <td>[NDVI]</td>\n      <td>True</td>\n      <td>True</td>\n      <td>...</td>\n      <td>mask</td>\n      <td>39962cd5bc9f4f0446341d3e6e0c6c37336ddeb2e026a1...</td>\n      <td>256</td>\n      <td>png</td>\n      <td>256</td>\n      <td>2130</td>\n      <td>0.930773</td>\n      <td>0.579122</td>\n      <td>NaN</td>\n      <td>NaN</td>\n    </tr>\n    <tr>\n      <th>18</th>\n      <td>[crop, aug, B1, newPatience, pretrained]</td>\n      <td>lawin</td>\n      <td>MiT-B1</td>\n      <td>True</td>\n      <td>[train, test]</td>\n      <td>dataset/processed/Sequoia</td>\n      <td>same</td>\n      <td>[R, G]</td>\n      <td>True</td>\n      <td>True</td>\n      <td>...</td>\n      <td>mask</td>\n      <td>39962cd5bc9f4f0446341d3e6e0c6c37336ddeb2e026a1...</td>\n      <td>256</td>\n      <td>png</td>\n      <td>256</td>\n      <td>1122</td>\n      <td>0.818250</td>\n      <td>0.492566</td>\n      <td>NaN</td>\n      <td>NaN</td>\n    </tr>\n    <tr>\n      <th>19</th>\n      <td>[crop, aug, B0, newPatience, frozen]</td>\n      <td>lawin</td>\n      <td>MiT-B0</td>\n      <td>True</td>\n      <td>[train, test]</td>\n      <td>dataset/processed/Sequoia</td>\n      <td>same</td>\n      <td>[R, G]</td>\n      <td>True</td>\n      <td>True</td>\n      <td>...</td>\n      <td>mask</td>\n      <td>39962cd5bc9f4f0446341d3e6e0c6c37336ddeb2e026a1...</td>\n      <td>256</td>\n      <td>png</td>\n      <td>256</td>\n      <td>1122</td>\n      <td>0.818064</td>\n      <td>0.579447</td>\n      <td>NaN</td>\n      <td>NaN</td>\n    </tr>\n    <tr>\n      <th>20</th>\n      <td>[crop, aug, B1, newPatience, pretrained]</td>\n      <td>lawin</td>\n      <td>MiT-B1</td>\n      <td>True</td>\n      <td>[train, test]</td>\n      <td>dataset/processed/Sequoia</td>\n      <td>same</td>\n      <td>[G, NIR, R]</td>\n      <td>True</td>\n      <td>True</td>\n      <td>...</td>\n      <td>mask</td>\n      <td>39962cd5bc9f4f0446341d3e6e0c6c37336ddeb2e026a1...</td>\n      <td>256</td>\n      <td>png</td>\n      <td>256</td>\n      <td>733</td>\n      <td>0.955160</td>\n      <td>0.660184</td>\n      <td>0.539708</td>\n      <td>0.512091</td>\n    </tr>\n    <tr>\n      <th>21</th>\n      <td>[crop, aug, B1, newPatience, pretrained]</td>\n      <td>lawin</td>\n      <td>MiT-B1</td>\n      <td>True</td>\n      <td>[train, test]</td>\n      <td>dataset/processed/Sequoia</td>\n      <td>same</td>\n      <td>CIR</td>\n      <td>True</td>\n      <td>True</td>\n      <td>...</td>\n      <td>mask</td>\n      <td>39962cd5bc9f4f0446341d3e6e0c6c37336ddeb2e026a1...</td>\n      <td>256</td>\n      <td>png</td>\n      <td>256</td>\n      <td>1279</td>\n      <td>0.837005</td>\n      <td>0.634018</td>\n      <td>0.572957</td>\n      <td>0.540262</td>\n    </tr>\n    <tr>\n      <th>22</th>\n      <td>[crop, aug, B1, newPatience, pretrained]</td>\n      <td>lawin</td>\n      <td>MiT-B1</td>\n      <td>True</td>\n      <td>[train, test]</td>\n      <td>dataset/processed/Sequoia</td>\n      <td>same</td>\n      <td>[NDVI]</td>\n      <td>True</td>\n      <td>True</td>\n      <td>...</td>\n      <td>mask</td>\n      <td>39962cd5bc9f4f0446341d3e6e0c6c37336ddeb2e026a1...</td>\n      <td>256</td>\n      <td>png</td>\n      <td>256</td>\n      <td>1293</td>\n      <td>0.891157</td>\n      <td>0.626337</td>\n      <td>0.494947</td>\n      <td>0.480741</td>\n    </tr>\n    <tr>\n      <th>23</th>\n      <td>[crop, aug, B1, newPatience, pretrained]</td>\n      <td>lawin</td>\n      <td>MiT-B1</td>\n      <td>True</td>\n      <td>[train, test]</td>\n      <td>dataset/processed/Sequoia</td>\n      <td>same</td>\n      <td>[R, G]</td>\n      <td>True</td>\n      <td>True</td>\n      <td>...</td>\n      <td>mask</td>\n      <td>39962cd5bc9f4f0446341d3e6e0c6c37336ddeb2e026a1...</td>\n      <td>256</td>\n      <td>png</td>\n      <td>256</td>\n      <td>1559</td>\n      <td>0.915036</td>\n      <td>0.597450</td>\n      <td>0.562266</td>\n      <td>0.584837</td>\n    </tr>\n    <tr>\n      <th>24</th>\n      <td>[crop, aug, B0, newPatience, pretrained]</td>\n      <td>lawin</td>\n      <td>MiT-B0</td>\n      <td>True</td>\n      <td>[train, test]</td>\n      <td>dataset/processed/Sequoia</td>\n      <td>same</td>\n      <td>[G, NIR, R]</td>\n      <td>True</td>\n      <td>True</td>\n      <td>...</td>\n      <td>mask</td>\n      <td>39962cd5bc9f4f0446341d3e6e0c6c37336ddeb2e026a1...</td>\n      <td>256</td>\n      <td>png</td>\n      <td>256</td>\n      <td>887</td>\n      <td>0.808949</td>\n      <td>0.606904</td>\n      <td>0.620855</td>\n      <td>0.544851</td>\n    </tr>\n    <tr>\n      <th>25</th>\n      <td>[crop, aug, B0, newPatience, pretrained]</td>\n      <td>lawin</td>\n      <td>MiT-B0</td>\n      <td>True</td>\n      <td>[train, test]</td>\n      <td>dataset/processed/Sequoia</td>\n      <td>same</td>\n      <td>CIR</td>\n      <td>True</td>\n      <td>True</td>\n      <td>...</td>\n      <td>mask</td>\n      <td>39962cd5bc9f4f0446341d3e6e0c6c37336ddeb2e026a1...</td>\n      <td>256</td>\n      <td>png</td>\n      <td>256</td>\n      <td>1125</td>\n      <td>0.921877</td>\n      <td>0.619408</td>\n      <td>0.626423</td>\n      <td>0.584824</td>\n    </tr>\n    <tr>\n      <th>26</th>\n      <td>[crop, aug, B0, newPatience, pretrained]</td>\n      <td>lawin</td>\n      <td>MiT-B0</td>\n      <td>True</td>\n      <td>[train, test]</td>\n      <td>dataset/processed/Sequoia</td>\n      <td>same</td>\n      <td>[NDVI]</td>\n      <td>True</td>\n      <td>True</td>\n      <td>...</td>\n      <td>mask</td>\n      <td>39962cd5bc9f4f0446341d3e6e0c6c37336ddeb2e026a1...</td>\n      <td>256</td>\n      <td>png</td>\n      <td>256</td>\n      <td>789</td>\n      <td>0.892859</td>\n      <td>0.603106</td>\n      <td>0.551344</td>\n      <td>0.546598</td>\n    </tr>\n    <tr>\n      <th>27</th>\n      <td>[crop, aug, B0, newPatience, pretrained]</td>\n      <td>lawin</td>\n      <td>MiT-B0</td>\n      <td>True</td>\n      <td>[train, test]</td>\n      <td>dataset/processed/Sequoia</td>\n      <td>same</td>\n      <td>[R, G]</td>\n      <td>True</td>\n      <td>True</td>\n      <td>...</td>\n      <td>mask</td>\n      <td>39962cd5bc9f4f0446341d3e6e0c6c37336ddeb2e026a1...</td>\n      <td>256</td>\n      <td>png</td>\n      <td>256</td>\n      <td>1279</td>\n      <td>0.897948</td>\n      <td>0.561068</td>\n      <td>0.612869</td>\n      <td>0.580000</td>\n    </tr>\n    <tr>\n      <th>28</th>\n      <td>[crop, aug, B0, newPatience, pretrained]</td>\n      <td>lawin</td>\n      <td>MiT-B0</td>\n      <td>True</td>\n      <td>[train, test]</td>\n      <td>dataset/processed/Sequoia</td>\n      <td>same</td>\n      <td>[G, NIR, R]</td>\n      <td>True</td>\n      <td>True</td>\n      <td>...</td>\n      <td>mask</td>\n      <td>39962cd5bc9f4f0446341d3e6e0c6c37336ddeb2e026a1...</td>\n      <td>256</td>\n      <td>png</td>\n      <td>256</td>\n      <td>1363</td>\n      <td>0.656827</td>\n      <td>0.563618</td>\n      <td>0.535116</td>\n      <td>0.579484</td>\n    </tr>\n    <tr>\n      <th>29</th>\n      <td>[crop, aug, B0, newPatience, pretrained]</td>\n      <td>lawin</td>\n      <td>MiT-B0</td>\n      <td>True</td>\n      <td>[train, test]</td>\n      <td>dataset/processed/Sequoia</td>\n      <td>same</td>\n      <td>CIR</td>\n      <td>True</td>\n      <td>True</td>\n      <td>...</td>\n      <td>mask</td>\n      <td>39962cd5bc9f4f0446341d3e6e0c6c37336ddeb2e026a1...</td>\n      <td>256</td>\n      <td>png</td>\n      <td>256</td>\n      <td>1251</td>\n      <td>0.869575</td>\n      <td>0.619119</td>\n      <td>0.592658</td>\n      <td>0.567375</td>\n    </tr>\n    <tr>\n      <th>30</th>\n      <td>[crop, aug, B0, newPatience, pretrained]</td>\n      <td>lawin</td>\n      <td>MiT-B0</td>\n      <td>True</td>\n      <td>[train, test]</td>\n      <td>dataset/processed/Sequoia</td>\n      <td>same</td>\n      <td>[NDVI]</td>\n      <td>True</td>\n      <td>True</td>\n      <td>...</td>\n      <td>mask</td>\n      <td>39962cd5bc9f4f0446341d3e6e0c6c37336ddeb2e026a1...</td>\n      <td>256</td>\n      <td>png</td>\n      <td>256</td>\n      <td>1279</td>\n      <td>0.994937</td>\n      <td>0.494148</td>\n      <td>0.540217</td>\n      <td>0.592861</td>\n    </tr>\n    <tr>\n      <th>31</th>\n      <td>[crop, aug, B0, newPatience, pretrained]</td>\n      <td>lawin</td>\n      <td>MiT-B0</td>\n      <td>True</td>\n      <td>[train, test]</td>\n      <td>dataset/processed/Sequoia</td>\n      <td>same</td>\n      <td>[R, G]</td>\n      <td>True</td>\n      <td>True</td>\n      <td>...</td>\n      <td>mask</td>\n      <td>39962cd5bc9f4f0446341d3e6e0c6c37336ddeb2e026a1...</td>\n      <td>256</td>\n      <td>png</td>\n      <td>256</td>\n      <td>1125</td>\n      <td>0.838326</td>\n      <td>0.595208</td>\n      <td>0.614846</td>\n      <td>0.574520</td>\n    </tr>\n  </tbody>\n</table>\n<p>32 rows × 391 columns</p>\n</div>"
     },
     "execution_count": 225,
     "metadata": {},
     "output_type": "execute_result"
    }
   ],
   "source": [
    "runs_df"
   ],
   "metadata": {
    "collapsed": false,
    "pycharm": {
     "name": "#%%\n"
    }
   }
  },
  {
   "cell_type": "code",
   "execution_count": 250,
   "outputs": [],
   "source": [
    "projected_runs = runs_df[\n",
    "    selected_cols\n",
    "]\n",
    "# selected_runs = projected_runs[projected_runs['in_params.model.params.backbone'] == 'MiT-B0']\n",
    "selected_runs = projected_runs"
   ],
   "metadata": {
    "collapsed": false,
    "pycharm": {
     "name": "#%%\n"
    }
   }
  },
  {
   "cell_type": "code",
   "execution_count": 251,
   "outputs": [
    {
     "name": "stderr",
     "output_type": "stream",
     "text": [
      "C:\\Users\\pasqu\\AppData\\Local\\Temp\\ipykernel_15020\\278088051.py:1: SettingWithCopyWarning: \n",
      "A value is trying to be set on a copy of a slice from a DataFrame\n",
      "\n",
      "See the caveats in the documentation: https://pandas.pydata.org/pandas-docs/stable/user_guide/indexing.html#returning-a-view-versus-a-copy\n",
      "  selected_runs.rename(columns=renamings, inplace=True)\n",
      "C:\\Users\\pasqu\\AppData\\Local\\Temp\\ipykernel_15020\\2610669143.py:33: SettingWithCopyWarning: \n",
      "A value is trying to be set on a copy of a slice from a DataFrame.\n",
      "Try using .loc[row_indexer,col_indexer] = value instead\n",
      "\n",
      "See the caveats in the documentation: https://pandas.pydata.org/pandas-docs/stable/user_guide/indexing.html#returning-a-view-versus-a-copy\n",
      "  df[column] = df[column].replace(values)\n",
      "C:\\Users\\pasqu\\AppData\\Local\\Temp\\ipykernel_15020\\278088051.py:3: SettingWithCopyWarning: \n",
      "A value is trying to be set on a copy of a slice from a DataFrame.\n",
      "Try using .loc[row_indexer,col_indexer] = value instead\n",
      "\n",
      "See the caveats in the documentation: https://pandas.pydata.org/pandas-docs/stable/user_guide/indexing.html#returning-a-view-versus-a-copy\n",
      "  selected_runs[roundings] = selected_runs[roundings].round(5)\n"
     ]
    }
   ],
   "source": [
    "selected_runs.rename(columns=renamings, inplace=True)\n",
    "rename_values(selected_runs, value_renamings)\n",
    "selected_runs[roundings] = selected_runs[roundings].round(5)\n",
    "selected_runs = selected_runs.applymap(lambda x: ', '.join(x) if isinstance(x, list) else x)"
   ],
   "metadata": {
    "collapsed": false,
    "pycharm": {
     "name": "#%%\n"
    }
   }
  },
  {
   "cell_type": "code",
   "execution_count": 252,
   "outputs": [
    {
     "name": "stderr",
     "output_type": "stream",
     "text": [
      "C:\\Users\\pasqu\\AppData\\Local\\Temp\\ipykernel_15020\\3518450817.py:3: SettingWithCopyWarning: \n",
      "A value is trying to be set on a copy of a slice from a DataFrame\n",
      "\n",
      "See the caveats in the documentation: https://pandas.pydata.org/pandas-docs/stable/user_guide/indexing.html#returning-a-view-versus-a-copy\n",
      "  best_runs.sort_values(by=['Strategy', 'Channels'], key=lambda x: x.apply(lambda k: channels_ordering[k]), inplace=True)\n",
      "C:\\Users\\pasqu\\AppData\\Local\\Temp\\ipykernel_15020\\3518450817.py:4: SettingWithCopyWarning: \n",
      "A value is trying to be set on a copy of a slice from a DataFrame.\n",
      "Try using .loc[row_indexer,col_indexer] = value instead\n",
      "\n",
      "See the caveats in the documentation: https://pandas.pydata.org/pandas-docs/stable/user_guide/indexing.html#returning-a-view-versus-a-copy\n",
      "  best_runs[roundings] = best_runs[roundings].round(3)\n"
     ]
    }
   ],
   "source": [
    "idx = selected_runs.groupby(by=['Channels', 'Strategy'])['F1'].transform(max) == selected_runs['F1']\n",
    "best_runs = selected_runs[idx]\n",
    "best_runs.sort_values(by=['Strategy', 'Channels'], key=lambda x: x.apply(lambda k: channels_ordering[k]), inplace=True)\n",
    "best_runs[roundings] = best_runs[roundings].round(3)\n",
    "selected_runs[roundings] = selected_runs[roundings].round(3)"
   ],
   "metadata": {
    "collapsed": false,
    "pycharm": {
     "name": "#%%\n"
    }
   }
  },
  {
   "cell_type": "code",
   "execution_count": 253,
   "outputs": [
    {
     "data": {
      "text/plain": "     Channels  Weight Decay      LR     Strategy Backbone     F1  Precision  \\\n24  G, NIR, R             0  0.0001  Fine-Tuning   MiT-B0  0.598      0.547   \n27       R, G             0  0.0001  Fine-Tuning   MiT-B0  0.531      0.492   \n21        CIR             0  0.0001  Fine-Tuning   MiT-B1  0.609      0.583   \n26       NDVI             0  0.0001  Fine-Tuning   MiT-B0  0.643      0.592   \n4   G, NIR, R             0  0.0010       Freeze   MiT-B1  0.620      0.561   \n19       R, G             0  0.0010       Freeze   MiT-B0  0.532      0.534   \n1         CIR             0  0.0001       Freeze   MiT-B1  0.577      0.528   \n17       NDVI             0  0.0010       Freeze   MiT-B0  0.558      0.491   \n\n    Recall  \n24   0.823  \n27   0.761  \n21   0.747  \n26   0.825  \n4    0.740  \n19   0.605  \n1    0.758  \n17   0.888  ",
      "text/html": "<div>\n<style scoped>\n    .dataframe tbody tr th:only-of-type {\n        vertical-align: middle;\n    }\n\n    .dataframe tbody tr th {\n        vertical-align: top;\n    }\n\n    .dataframe thead th {\n        text-align: right;\n    }\n</style>\n<table border=\"1\" class=\"dataframe\">\n  <thead>\n    <tr style=\"text-align: right;\">\n      <th></th>\n      <th>Channels</th>\n      <th>Weight Decay</th>\n      <th>LR</th>\n      <th>Strategy</th>\n      <th>Backbone</th>\n      <th>F1</th>\n      <th>Precision</th>\n      <th>Recall</th>\n    </tr>\n  </thead>\n  <tbody>\n    <tr>\n      <th>24</th>\n      <td>G, NIR, R</td>\n      <td>0</td>\n      <td>0.0001</td>\n      <td>Fine-Tuning</td>\n      <td>MiT-B0</td>\n      <td>0.598</td>\n      <td>0.547</td>\n      <td>0.823</td>\n    </tr>\n    <tr>\n      <th>27</th>\n      <td>R, G</td>\n      <td>0</td>\n      <td>0.0001</td>\n      <td>Fine-Tuning</td>\n      <td>MiT-B0</td>\n      <td>0.531</td>\n      <td>0.492</td>\n      <td>0.761</td>\n    </tr>\n    <tr>\n      <th>21</th>\n      <td>CIR</td>\n      <td>0</td>\n      <td>0.0001</td>\n      <td>Fine-Tuning</td>\n      <td>MiT-B1</td>\n      <td>0.609</td>\n      <td>0.583</td>\n      <td>0.747</td>\n    </tr>\n    <tr>\n      <th>26</th>\n      <td>NDVI</td>\n      <td>0</td>\n      <td>0.0001</td>\n      <td>Fine-Tuning</td>\n      <td>MiT-B0</td>\n      <td>0.643</td>\n      <td>0.592</td>\n      <td>0.825</td>\n    </tr>\n    <tr>\n      <th>4</th>\n      <td>G, NIR, R</td>\n      <td>0</td>\n      <td>0.0010</td>\n      <td>Freeze</td>\n      <td>MiT-B1</td>\n      <td>0.620</td>\n      <td>0.561</td>\n      <td>0.740</td>\n    </tr>\n    <tr>\n      <th>19</th>\n      <td>R, G</td>\n      <td>0</td>\n      <td>0.0010</td>\n      <td>Freeze</td>\n      <td>MiT-B0</td>\n      <td>0.532</td>\n      <td>0.534</td>\n      <td>0.605</td>\n    </tr>\n    <tr>\n      <th>1</th>\n      <td>CIR</td>\n      <td>0</td>\n      <td>0.0001</td>\n      <td>Freeze</td>\n      <td>MiT-B1</td>\n      <td>0.577</td>\n      <td>0.528</td>\n      <td>0.758</td>\n    </tr>\n    <tr>\n      <th>17</th>\n      <td>NDVI</td>\n      <td>0</td>\n      <td>0.0010</td>\n      <td>Freeze</td>\n      <td>MiT-B0</td>\n      <td>0.558</td>\n      <td>0.491</td>\n      <td>0.888</td>\n    </tr>\n  </tbody>\n</table>\n</div>"
     },
     "execution_count": 253,
     "metadata": {},
     "output_type": "execute_result"
    }
   ],
   "source": [
    "best_runs"
   ],
   "metadata": {
    "collapsed": false,
    "pycharm": {
     "name": "#%%\n"
    }
   }
  },
  {
   "cell_type": "code",
   "execution_count": 254,
   "outputs": [],
   "source": [
    "best_runs.to_csv(\"../../exps/lawin_pretrained.csv\")\n",
    "selected_runs.to_csv(\"../../exps/lawin_pretrained-complete.csv\")"
   ],
   "metadata": {
    "collapsed": false,
    "pycharm": {
     "name": "#%%\n"
    }
   }
  },
  {
   "cell_type": "markdown",
   "source": [
    "## Focal"
   ],
   "metadata": {
    "collapsed": false,
    "pycharm": {
     "name": "#%% md\n"
    }
   }
  },
  {
   "cell_type": "code",
   "execution_count": 267,
   "outputs": [],
   "source": [
    "filters = {\n",
    "    'group': 'Focal'\n",
    "}\n",
    "selected_cols = [\n",
    "    'in_params.dataset.channels',\n",
    "    'in_params.train_params.freeze_pretrained',\n",
    "    'in_params.train_params.loss.params.gamma',\n",
    "    'in_params.model.params.backbone',\n",
    "    'f1',\n",
    "    'precision',\n",
    "    'recall'\n",
    "]\n",
    "roundings = ['F1', 'Precision', 'Recall']"
   ],
   "metadata": {
    "collapsed": false,
    "pycharm": {
     "name": "#%%\n"
    }
   }
  },
  {
   "cell_type": "code",
   "execution_count": 268,
   "outputs": [
    {
     "data": {
      "text/plain": "['hyper_params.arch_params.schema',\n 'hyper_params.arch_params.sync_bn',\n 'hyper_params.arch_params.backbone',\n 'hyper_params.arch_params.in_channels',\n 'hyper_params.arch_params.num_classes',\n 'hyper_params.arch_params.out_channels',\n 'hyper_params.arch_params.input_channels',\n 'hyper_params.arch_params.output_channels',\n 'hyper_params.arch_params.backbone_pretrained',\n 'hyper_params.dataset_params.root',\n 'hyper_params.dataset_params.size',\n 'hyper_params.dataset_params.schema',\n 'hyper_params.dataset_params.s3_link',\n 'hyper_params.dataset_params.channels',\n 'hyper_params.dataset_params.hor_flip',\n 'hyper_params.dataset_params.ver_flip',\n 'hyper_params.dataset_params.crop_size',\n 'hyper_params.dataset_params.batch_size',\n 'hyper_params.dataset_params.dataset_dir',\n 'hyper_params.dataset_params.num_classes',\n 'hyper_params.dataset_params.num_workers',\n 'hyper_params.dataset_params.return_path',\n 'hyper_params.dataset_params.test_folders',\n 'hyper_params.dataset_params.train_folders',\n 'hyper_params.dataset_params.val_batch_size',\n 'hyper_params.dataset_params.test_batch_size',\n 'hyper_params.additional_log_items.multi_gpu',\n 'hyper_params.additional_log_items.initial_LR',\n 'hyper_params.additional_log_items.device_type',\n 'hyper_params.additional_log_items.num_devices',\n 'hyper_params.additional_log_items.installed_packages',\n 'hyper_params.training_hyperparams.ema',\n 'hyper_params.training_hyperparams.loss',\n 'hyper_params.training_hyperparams.seed',\n 'hyper_params.training_hyperparams.schema.if.properties.lr_mode.const',\n 'hyper_params.training_hyperparams.schema.then.required',\n 'hyper_params.training_hyperparams.schema.type',\n 'hyper_params.training_hyperparams.schema.required',\n 'hyper_params.training_hyperparams.schema.properties.initial_lr.type',\n 'hyper_params.training_hyperparams.schema.properties.initial_lr.maximum',\n 'hyper_params.training_hyperparams.schema.properties.initial_lr.exclusiveMinimum',\n 'hyper_params.training_hyperparams.schema.properties.max_epochs.type',\n 'hyper_params.training_hyperparams.schema.properties.max_epochs.minimum',\n 'hyper_params.training_hyperparams.schema.properties.lr_decay_factor.type',\n 'hyper_params.training_hyperparams.schema.properties.lr_decay_factor.maximum',\n 'hyper_params.training_hyperparams.schema.properties.lr_decay_factor.minimum',\n 'hyper_params.training_hyperparams.schema.properties.lr_warmup_epochs.type',\n 'hyper_params.training_hyperparams.schema.properties.lr_warmup_epochs.maximum',\n 'hyper_params.training_hyperparams.schema.properties.lr_warmup_epochs.minimum',\n 'hyper_params.training_hyperparams.lr_mode',\n 'hyper_params.training_hyperparams.optimizer',\n 'hyper_params.training_hyperparams.sg_logger',\n 'hyper_params.training_hyperparams.initial_lr',\n 'hyper_params.training_hyperparams.lr_updates',\n 'hyper_params.training_hyperparams.max_epochs',\n 'hyper_params.training_hyperparams.precise_bn',\n 'hyper_params.training_hyperparams.save_model',\n 'hyper_params.training_hyperparams.silent_mode',\n 'hyper_params.training_hyperparams.warmup_mode',\n 'hyper_params.training_hyperparams.load_opt_params',\n 'hyper_params.training_hyperparams.metric_to_watch',\n 'hyper_params.training_hyperparams.mixed_precision',\n 'hyper_params.training_hyperparams.phase_callbacks',\n 'hyper_params.training_hyperparams.batch_accumulate',\n 'hyper_params.training_hyperparams.lr_warmup_epochs',\n 'hyper_params.training_hyperparams.optimizer_params.weight_decay',\n 'hyper_params.training_hyperparams.sg_logger_params.tags',\n 'hyper_params.training_hyperparams.sg_logger_params.entity',\n 'hyper_params.training_hyperparams.sg_logger_params.project_name',\n 'hyper_params.training_hyperparams.sg_logger_params.save_logs_remote',\n 'hyper_params.training_hyperparams.sg_logger_params.tensorboard_port',\n 'hyper_params.training_hyperparams.sg_logger_params.launch_tensorboard',\n 'hyper_params.training_hyperparams.sg_logger_params.tb_files_user_prompt',\n 'hyper_params.training_hyperparams.sg_logger_params.save_checkpoints_remote',\n 'hyper_params.training_hyperparams.sg_logger_params.save_tensorboard_remote',\n 'hyper_params.training_hyperparams.tensorboard_port',\n 'hyper_params.training_hyperparams.freeze_pretrained',\n 'hyper_params.training_hyperparams.warmup_initial_lr',\n 'hyper_params.training_hyperparams.dataset_statistics',\n 'hyper_params.training_hyperparams.launch_tensorboard',\n 'hyper_params.training_hyperparams.train_metrics_list',\n 'hyper_params.training_hyperparams.valid_metrics_list',\n 'hyper_params.training_hyperparams.average_best_models',\n 'hyper_params.training_hyperparams.run_validation_freq',\n 'hyper_params.training_hyperparams.save_full_train_log',\n 'hyper_params.training_hyperparams.step_lr_update_freq',\n 'hyper_params.training_hyperparams.lr_schedule_function',\n 'hyper_params.training_hyperparams.save_ckpt_epoch_list',\n 'hyper_params.training_hyperparams.tb_files_user_prompt',\n 'hyper_params.training_hyperparams.cosine_final_lr_ratio',\n 'hyper_params.training_hyperparams.precise_bn_batch_size',\n 'hyper_params.training_hyperparams.log_installed_packages',\n 'hyper_params.training_hyperparams.save_tensorboard_to_s3',\n 'hyper_params.training_hyperparams.loss_logging_items_names',\n 'hyper_params.training_hyperparams.zero_weight_decay_on_bias_and_bn',\n 'hyper_params.training_hyperparams.greater_metric_to_watch_is_better']"
     },
     "metadata": {},
     "output_type": "display_data"
    }
   ],
   "source": [
    "runs_df = get_runs(filters)\n",
    "remove_hyp(runs_df)"
   ],
   "metadata": {
    "collapsed": false,
    "pycharm": {
     "name": "#%%\n"
    }
   }
  },
  {
   "cell_type": "code",
   "execution_count": 269,
   "outputs": [],
   "source": [
    "projected_runs = runs_df[\n",
    "    selected_cols\n",
    "]\n",
    "# selected_runs = projected_runs[projected_runs['in_params.model.params.backbone'] == 'MiT-B0']\n",
    "selected_runs = projected_runs"
   ],
   "metadata": {
    "collapsed": false,
    "pycharm": {
     "name": "#%%\n"
    }
   }
  },
  {
   "cell_type": "code",
   "execution_count": 270,
   "outputs": [
    {
     "name": "stderr",
     "output_type": "stream",
     "text": [
      "C:\\Users\\pasqu\\AppData\\Local\\Temp\\ipykernel_15020\\278088051.py:1: SettingWithCopyWarning: \n",
      "A value is trying to be set on a copy of a slice from a DataFrame\n",
      "\n",
      "See the caveats in the documentation: https://pandas.pydata.org/pandas-docs/stable/user_guide/indexing.html#returning-a-view-versus-a-copy\n",
      "  selected_runs.rename(columns=renamings, inplace=True)\n",
      "C:\\Users\\pasqu\\AppData\\Local\\Temp\\ipykernel_15020\\2610669143.py:33: SettingWithCopyWarning: \n",
      "A value is trying to be set on a copy of a slice from a DataFrame.\n",
      "Try using .loc[row_indexer,col_indexer] = value instead\n",
      "\n",
      "See the caveats in the documentation: https://pandas.pydata.org/pandas-docs/stable/user_guide/indexing.html#returning-a-view-versus-a-copy\n",
      "  df[column] = df[column].replace(values)\n",
      "C:\\Users\\pasqu\\AppData\\Local\\Temp\\ipykernel_15020\\278088051.py:3: SettingWithCopyWarning: \n",
      "A value is trying to be set on a copy of a slice from a DataFrame.\n",
      "Try using .loc[row_indexer,col_indexer] = value instead\n",
      "\n",
      "See the caveats in the documentation: https://pandas.pydata.org/pandas-docs/stable/user_guide/indexing.html#returning-a-view-versus-a-copy\n",
      "  selected_runs[roundings] = selected_runs[roundings].round(5)\n"
     ]
    }
   ],
   "source": [
    "selected_runs.rename(columns=renamings, inplace=True)\n",
    "rename_values(selected_runs, value_renamings)\n",
    "selected_runs[roundings] = selected_runs[roundings].round(5)\n",
    "selected_runs = selected_runs.applymap(lambda x: ', '.join(x) if isinstance(x, list) else x)"
   ],
   "metadata": {
    "collapsed": false,
    "pycharm": {
     "name": "#%%\n"
    }
   }
  },
  {
   "cell_type": "code",
   "execution_count": 271,
   "outputs": [
    {
     "name": "stderr",
     "output_type": "stream",
     "text": [
      "C:\\Users\\pasqu\\AppData\\Local\\Temp\\ipykernel_15020\\3518450817.py:3: SettingWithCopyWarning: \n",
      "A value is trying to be set on a copy of a slice from a DataFrame\n",
      "\n",
      "See the caveats in the documentation: https://pandas.pydata.org/pandas-docs/stable/user_guide/indexing.html#returning-a-view-versus-a-copy\n",
      "  best_runs.sort_values(by=['Strategy', 'Channels'], key=lambda x: x.apply(lambda k: channels_ordering[k]), inplace=True)\n",
      "C:\\Users\\pasqu\\AppData\\Local\\Temp\\ipykernel_15020\\3518450817.py:4: SettingWithCopyWarning: \n",
      "A value is trying to be set on a copy of a slice from a DataFrame.\n",
      "Try using .loc[row_indexer,col_indexer] = value instead\n",
      "\n",
      "See the caveats in the documentation: https://pandas.pydata.org/pandas-docs/stable/user_guide/indexing.html#returning-a-view-versus-a-copy\n",
      "  best_runs[roundings] = best_runs[roundings].round(3)\n"
     ]
    }
   ],
   "source": [
    "idx = selected_runs.groupby(by=['Channels', 'Strategy'])['F1'].transform(max) == selected_runs['F1']\n",
    "best_runs = selected_runs[idx]\n",
    "best_runs.sort_values(by=['Strategy', 'Channels'], key=lambda x: x.apply(lambda k: channels_ordering[k]), inplace=True)\n",
    "best_runs[roundings] = best_runs[roundings].round(3)\n",
    "selected_runs[roundings] = selected_runs[roundings].round(3)"
   ],
   "metadata": {
    "collapsed": false,
    "pycharm": {
     "name": "#%%\n"
    }
   }
  },
  {
   "cell_type": "code",
   "execution_count": 272,
   "outputs": [
    {
     "data": {
      "text/plain": "   Channels      LR     Strategy  Gamma Backbone     F1  Precision  Recall\n35     R, G  0.0001  Fine-Tuning      1   MiT-B0  0.465      0.619   0.421\n24      CIR  0.0001  Fine-Tuning      1   MiT-B1  0.503      0.617   0.515\n19     NDVI  0.0001  Fine-Tuning      4   MiT-B1  0.623      0.595   0.686\n5      R, G  0.0001       Freeze      2   MiT-B1  0.402      0.592   0.379\n6       CIR  0.0001       Freeze      1   MiT-B1  0.583      0.574   0.632\n1      NDVI  0.0001       Freeze      4   MiT-B1  0.638      0.625   0.659",
      "text/html": "<div>\n<style scoped>\n    .dataframe tbody tr th:only-of-type {\n        vertical-align: middle;\n    }\n\n    .dataframe tbody tr th {\n        vertical-align: top;\n    }\n\n    .dataframe thead th {\n        text-align: right;\n    }\n</style>\n<table border=\"1\" class=\"dataframe\">\n  <thead>\n    <tr style=\"text-align: right;\">\n      <th></th>\n      <th>Channels</th>\n      <th>LR</th>\n      <th>Strategy</th>\n      <th>Gamma</th>\n      <th>Backbone</th>\n      <th>F1</th>\n      <th>Precision</th>\n      <th>Recall</th>\n    </tr>\n  </thead>\n  <tbody>\n    <tr>\n      <th>35</th>\n      <td>R, G</td>\n      <td>0.0001</td>\n      <td>Fine-Tuning</td>\n      <td>1</td>\n      <td>MiT-B0</td>\n      <td>0.465</td>\n      <td>0.619</td>\n      <td>0.421</td>\n    </tr>\n    <tr>\n      <th>24</th>\n      <td>CIR</td>\n      <td>0.0001</td>\n      <td>Fine-Tuning</td>\n      <td>1</td>\n      <td>MiT-B1</td>\n      <td>0.503</td>\n      <td>0.617</td>\n      <td>0.515</td>\n    </tr>\n    <tr>\n      <th>19</th>\n      <td>NDVI</td>\n      <td>0.0001</td>\n      <td>Fine-Tuning</td>\n      <td>4</td>\n      <td>MiT-B1</td>\n      <td>0.623</td>\n      <td>0.595</td>\n      <td>0.686</td>\n    </tr>\n    <tr>\n      <th>5</th>\n      <td>R, G</td>\n      <td>0.0001</td>\n      <td>Freeze</td>\n      <td>2</td>\n      <td>MiT-B1</td>\n      <td>0.402</td>\n      <td>0.592</td>\n      <td>0.379</td>\n    </tr>\n    <tr>\n      <th>6</th>\n      <td>CIR</td>\n      <td>0.0001</td>\n      <td>Freeze</td>\n      <td>1</td>\n      <td>MiT-B1</td>\n      <td>0.583</td>\n      <td>0.574</td>\n      <td>0.632</td>\n    </tr>\n    <tr>\n      <th>1</th>\n      <td>NDVI</td>\n      <td>0.0001</td>\n      <td>Freeze</td>\n      <td>4</td>\n      <td>MiT-B1</td>\n      <td>0.638</td>\n      <td>0.625</td>\n      <td>0.659</td>\n    </tr>\n  </tbody>\n</table>\n</div>"
     },
     "execution_count": 272,
     "metadata": {},
     "output_type": "execute_result"
    }
   ],
   "source": [
    "best_runs"
   ],
   "metadata": {
    "collapsed": false,
    "pycharm": {
     "name": "#%%\n"
    }
   }
  },
  {
   "cell_type": "code",
   "execution_count": 273,
   "outputs": [],
   "source": [
    "best_runs.to_csv(\"../../exps/focal.csv\")\n",
    "selected_runs.to_csv(\"../../exps/focal-complete.csv\")"
   ],
   "metadata": {
    "collapsed": false,
    "pycharm": {
     "name": "#%%\n"
    }
   }
  },
  {
   "cell_type": "markdown",
   "source": [
    "## SRR"
   ],
   "metadata": {
    "collapsed": false,
    "pycharm": {
     "name": "#%% md\n"
    }
   }
  },
  {
   "cell_type": "code",
   "execution_count": 285,
   "outputs": [],
   "source": [
    "filters = {\n",
    "    'group': 'RandomRotation'\n",
    "}\n",
    "selected_cols = [\n",
    "    'in_params.dataset.channels',\n",
    "    'in_params.train_params.freeze_pretrained',\n",
    "    'in_params.train_params.loss.params.gamma',\n",
    "    'in_params.model.params.backbone',\n",
    "    'f1',\n",
    "    'precision',\n",
    "    'recall'\n",
    "]\n",
    "roundings = ['F1', 'Precision', 'Recall']"
   ],
   "metadata": {
    "collapsed": false,
    "pycharm": {
     "name": "#%%\n"
    }
   }
  },
  {
   "cell_type": "code",
   "execution_count": 286,
   "outputs": [
    {
     "data": {
      "text/plain": "['hyper_params.arch_params.schema',\n 'hyper_params.arch_params.sync_bn',\n 'hyper_params.arch_params.backbone',\n 'hyper_params.arch_params.in_channels',\n 'hyper_params.arch_params.num_classes',\n 'hyper_params.arch_params.out_channels',\n 'hyper_params.arch_params.input_channels',\n 'hyper_params.arch_params.output_channels',\n 'hyper_params.arch_params.backbone_pretrained',\n 'hyper_params.dataset_params.root',\n 'hyper_params.dataset_params.size',\n 'hyper_params.dataset_params.schema',\n 'hyper_params.dataset_params.s3_link',\n 'hyper_params.dataset_params.channels',\n 'hyper_params.dataset_params.hor_flip',\n 'hyper_params.dataset_params.ver_flip',\n 'hyper_params.dataset_params.crop_size',\n 'hyper_params.dataset_params.batch_size',\n 'hyper_params.dataset_params.dataset_dir',\n 'hyper_params.dataset_params.num_classes',\n 'hyper_params.dataset_params.num_workers',\n 'hyper_params.dataset_params.return_path',\n 'hyper_params.dataset_params.test_folders',\n 'hyper_params.dataset_params.train_folders',\n 'hyper_params.dataset_params.val_batch_size',\n 'hyper_params.dataset_params.test_batch_size',\n 'hyper_params.additional_log_items.multi_gpu',\n 'hyper_params.additional_log_items.initial_LR',\n 'hyper_params.additional_log_items.device_type',\n 'hyper_params.additional_log_items.num_devices',\n 'hyper_params.additional_log_items.installed_packages',\n 'hyper_params.training_hyperparams.ema',\n 'hyper_params.training_hyperparams.loss',\n 'hyper_params.training_hyperparams.seed',\n 'hyper_params.training_hyperparams.schema.if.properties.lr_mode.const',\n 'hyper_params.training_hyperparams.schema.then.required',\n 'hyper_params.training_hyperparams.schema.type',\n 'hyper_params.training_hyperparams.schema.required',\n 'hyper_params.training_hyperparams.schema.properties.initial_lr.type',\n 'hyper_params.training_hyperparams.schema.properties.initial_lr.maximum',\n 'hyper_params.training_hyperparams.schema.properties.initial_lr.exclusiveMinimum',\n 'hyper_params.training_hyperparams.schema.properties.max_epochs.type',\n 'hyper_params.training_hyperparams.schema.properties.max_epochs.minimum',\n 'hyper_params.training_hyperparams.schema.properties.lr_decay_factor.type',\n 'hyper_params.training_hyperparams.schema.properties.lr_decay_factor.maximum',\n 'hyper_params.training_hyperparams.schema.properties.lr_decay_factor.minimum',\n 'hyper_params.training_hyperparams.schema.properties.lr_warmup_epochs.type',\n 'hyper_params.training_hyperparams.schema.properties.lr_warmup_epochs.maximum',\n 'hyper_params.training_hyperparams.schema.properties.lr_warmup_epochs.minimum',\n 'hyper_params.training_hyperparams.lr_mode',\n 'hyper_params.training_hyperparams.optimizer',\n 'hyper_params.training_hyperparams.sg_logger',\n 'hyper_params.training_hyperparams.initial_lr',\n 'hyper_params.training_hyperparams.lr_updates',\n 'hyper_params.training_hyperparams.max_epochs',\n 'hyper_params.training_hyperparams.precise_bn',\n 'hyper_params.training_hyperparams.save_model',\n 'hyper_params.training_hyperparams.silent_mode',\n 'hyper_params.training_hyperparams.warmup_mode',\n 'hyper_params.training_hyperparams.load_opt_params',\n 'hyper_params.training_hyperparams.metric_to_watch',\n 'hyper_params.training_hyperparams.mixed_precision',\n 'hyper_params.training_hyperparams.phase_callbacks',\n 'hyper_params.training_hyperparams.batch_accumulate',\n 'hyper_params.training_hyperparams.lr_warmup_epochs',\n 'hyper_params.training_hyperparams.optimizer_params.weight_decay',\n 'hyper_params.training_hyperparams.sg_logger_params.tags',\n 'hyper_params.training_hyperparams.sg_logger_params.entity',\n 'hyper_params.training_hyperparams.sg_logger_params.project_name',\n 'hyper_params.training_hyperparams.sg_logger_params.save_logs_remote',\n 'hyper_params.training_hyperparams.sg_logger_params.tensorboard_port',\n 'hyper_params.training_hyperparams.sg_logger_params.launch_tensorboard',\n 'hyper_params.training_hyperparams.sg_logger_params.tb_files_user_prompt',\n 'hyper_params.training_hyperparams.sg_logger_params.save_checkpoints_remote',\n 'hyper_params.training_hyperparams.sg_logger_params.save_tensorboard_remote',\n 'hyper_params.training_hyperparams.tensorboard_port',\n 'hyper_params.training_hyperparams.freeze_pretrained',\n 'hyper_params.training_hyperparams.warmup_initial_lr',\n 'hyper_params.training_hyperparams.dataset_statistics',\n 'hyper_params.training_hyperparams.launch_tensorboard',\n 'hyper_params.training_hyperparams.train_metrics_list',\n 'hyper_params.training_hyperparams.valid_metrics_list',\n 'hyper_params.training_hyperparams.average_best_models',\n 'hyper_params.training_hyperparams.run_validation_freq',\n 'hyper_params.training_hyperparams.save_full_train_log',\n 'hyper_params.training_hyperparams.step_lr_update_freq',\n 'hyper_params.training_hyperparams.lr_schedule_function',\n 'hyper_params.training_hyperparams.save_ckpt_epoch_list',\n 'hyper_params.training_hyperparams.tb_files_user_prompt',\n 'hyper_params.training_hyperparams.cosine_final_lr_ratio',\n 'hyper_params.training_hyperparams.precise_bn_batch_size',\n 'hyper_params.training_hyperparams.log_installed_packages',\n 'hyper_params.training_hyperparams.save_tensorboard_to_s3',\n 'hyper_params.training_hyperparams.loss_logging_items_names',\n 'hyper_params.training_hyperparams.zero_weight_decay_on_bias_and_bn',\n 'hyper_params.training_hyperparams.greater_metric_to_watch_is_better']"
     },
     "metadata": {},
     "output_type": "display_data"
    }
   ],
   "source": [
    "runs_df = get_runs(filters)\n",
    "remove_hyp(runs_df)"
   ],
   "metadata": {
    "collapsed": false,
    "pycharm": {
     "name": "#%%\n"
    }
   }
  },
  {
   "cell_type": "code",
   "execution_count": 287,
   "outputs": [
    {
     "name": "stderr",
     "output_type": "stream",
     "text": [
      "C:\\Users\\pasqu\\AppData\\Local\\Temp\\ipykernel_15020\\1597903912.py:6: SettingWithCopyWarning: \n",
      "A value is trying to be set on a copy of a slice from a DataFrame\n",
      "\n",
      "See the caveats in the documentation: https://pandas.pydata.org/pandas-docs/stable/user_guide/indexing.html#returning-a-view-versus-a-copy\n",
      "  selected_runs.fillna(\"\", inplace=True)\n"
     ]
    }
   ],
   "source": [
    "projected_runs = runs_df[\n",
    "    selected_cols\n",
    "]\n",
    "# selected_runs = projected_runs[projected_runs['in_params.model.params.backbone'] == 'MiT-B0']\n",
    "selected_runs = projected_runs\n",
    "selected_runs.fillna(\"\", inplace=True)"
   ],
   "metadata": {
    "collapsed": false,
    "pycharm": {
     "name": "#%%\n"
    }
   }
  },
  {
   "cell_type": "code",
   "execution_count": 288,
   "outputs": [
    {
     "name": "stderr",
     "output_type": "stream",
     "text": [
      "C:\\Users\\pasqu\\AppData\\Local\\Temp\\ipykernel_15020\\2272234720.py:1: SettingWithCopyWarning: \n",
      "A value is trying to be set on a copy of a slice from a DataFrame\n",
      "\n",
      "See the caveats in the documentation: https://pandas.pydata.org/pandas-docs/stable/user_guide/indexing.html#returning-a-view-versus-a-copy\n",
      "  selected_runs.rename(columns=renamings, inplace=True)\n",
      "C:\\Users\\pasqu\\AppData\\Local\\Temp\\ipykernel_15020\\2610669143.py:33: SettingWithCopyWarning: \n",
      "A value is trying to be set on a copy of a slice from a DataFrame.\n",
      "Try using .loc[row_indexer,col_indexer] = value instead\n",
      "\n",
      "See the caveats in the documentation: https://pandas.pydata.org/pandas-docs/stable/user_guide/indexing.html#returning-a-view-versus-a-copy\n",
      "  df[column] = df[column].replace(values)\n",
      "C:\\Users\\pasqu\\AppData\\Local\\Temp\\ipykernel_15020\\2272234720.py:3: SettingWithCopyWarning: \n",
      "A value is trying to be set on a copy of a slice from a DataFrame.\n",
      "Try using .loc[row_indexer,col_indexer] = value instead\n",
      "\n",
      "See the caveats in the documentation: https://pandas.pydata.org/pandas-docs/stable/user_guide/indexing.html#returning-a-view-versus-a-copy\n",
      "  selected_runs[roundings] = selected_runs[roundings].round(5)\n",
      "C:\\Users\\pasqu\\AppData\\Local\\Temp\\ipykernel_15020\\2272234720.py:7: SettingWithCopyWarning: \n",
      "A value is trying to be set on a copy of a slice from a DataFrame\n",
      "\n",
      "See the caveats in the documentation: https://pandas.pydata.org/pandas-docs/stable/user_guide/indexing.html#returning-a-view-versus-a-copy\n",
      "  best_runs.sort_values(by=['Strategy', 'Channels'], key=lambda x: x.apply(lambda k: channels_ordering[k]), inplace=True)\n",
      "C:\\Users\\pasqu\\AppData\\Local\\Temp\\ipykernel_15020\\2272234720.py:8: SettingWithCopyWarning: \n",
      "A value is trying to be set on a copy of a slice from a DataFrame.\n",
      "Try using .loc[row_indexer,col_indexer] = value instead\n",
      "\n",
      "See the caveats in the documentation: https://pandas.pydata.org/pandas-docs/stable/user_guide/indexing.html#returning-a-view-versus-a-copy\n",
      "  best_runs[roundings] = best_runs[roundings].round(3)\n"
     ]
    }
   ],
   "source": [
    "selected_runs.rename(columns=renamings, inplace=True)\n",
    "rename_values(selected_runs, value_renamings)\n",
    "selected_runs[roundings] = selected_runs[roundings].round(5)\n",
    "selected_runs = selected_runs.applymap(lambda x: ', '.join(x) if isinstance(x, list) else x)\n",
    "idx = selected_runs.groupby(by=['Channels', 'Strategy'])['F1'].transform(max) == selected_runs['F1']\n",
    "best_runs = selected_runs[idx]\n",
    "best_runs.sort_values(by=['Strategy', 'Channels'], key=lambda x: x.apply(lambda k: channels_ordering[k]), inplace=True)\n",
    "best_runs[roundings] = best_runs[roundings].round(3)\n",
    "selected_runs[roundings] = selected_runs[roundings].round(3)"
   ],
   "metadata": {
    "collapsed": false,
    "pycharm": {
     "name": "#%%\n"
    }
   }
  },
  {
   "cell_type": "code",
   "execution_count": 289,
   "outputs": [
    {
     "data": {
      "text/plain": "   Channels     Strategy Gamma Backbone     F1  Precision  Recall\n8      R, G  Fine-Tuning         MiT-B1  0.530      0.514   0.735\n6       CIR  Fine-Tuning         MiT-B1  0.650      0.656   0.725\n13     NDVI  Fine-Tuning   2.0   MiT-B0  0.594      0.622   0.717\n23     R, G       Freeze         MiT-B0  0.535      0.517   0.699\n3       CIR       Freeze   2.0   MiT-B1  0.602      0.647   0.570\n4      NDVI       Freeze   2.0   MiT-B1  0.685      0.631   0.808",
      "text/html": "<div>\n<style scoped>\n    .dataframe tbody tr th:only-of-type {\n        vertical-align: middle;\n    }\n\n    .dataframe tbody tr th {\n        vertical-align: top;\n    }\n\n    .dataframe thead th {\n        text-align: right;\n    }\n</style>\n<table border=\"1\" class=\"dataframe\">\n  <thead>\n    <tr style=\"text-align: right;\">\n      <th></th>\n      <th>Channels</th>\n      <th>Strategy</th>\n      <th>Gamma</th>\n      <th>Backbone</th>\n      <th>F1</th>\n      <th>Precision</th>\n      <th>Recall</th>\n    </tr>\n  </thead>\n  <tbody>\n    <tr>\n      <th>8</th>\n      <td>R, G</td>\n      <td>Fine-Tuning</td>\n      <td></td>\n      <td>MiT-B1</td>\n      <td>0.530</td>\n      <td>0.514</td>\n      <td>0.735</td>\n    </tr>\n    <tr>\n      <th>6</th>\n      <td>CIR</td>\n      <td>Fine-Tuning</td>\n      <td></td>\n      <td>MiT-B1</td>\n      <td>0.650</td>\n      <td>0.656</td>\n      <td>0.725</td>\n    </tr>\n    <tr>\n      <th>13</th>\n      <td>NDVI</td>\n      <td>Fine-Tuning</td>\n      <td>2.0</td>\n      <td>MiT-B0</td>\n      <td>0.594</td>\n      <td>0.622</td>\n      <td>0.717</td>\n    </tr>\n    <tr>\n      <th>23</th>\n      <td>R, G</td>\n      <td>Freeze</td>\n      <td></td>\n      <td>MiT-B0</td>\n      <td>0.535</td>\n      <td>0.517</td>\n      <td>0.699</td>\n    </tr>\n    <tr>\n      <th>3</th>\n      <td>CIR</td>\n      <td>Freeze</td>\n      <td>2.0</td>\n      <td>MiT-B1</td>\n      <td>0.602</td>\n      <td>0.647</td>\n      <td>0.570</td>\n    </tr>\n    <tr>\n      <th>4</th>\n      <td>NDVI</td>\n      <td>Freeze</td>\n      <td>2.0</td>\n      <td>MiT-B1</td>\n      <td>0.685</td>\n      <td>0.631</td>\n      <td>0.808</td>\n    </tr>\n  </tbody>\n</table>\n</div>"
     },
     "execution_count": 289,
     "metadata": {},
     "output_type": "execute_result"
    }
   ],
   "source": [
    "best_runs"
   ],
   "metadata": {
    "collapsed": false,
    "pycharm": {
     "name": "#%%\n"
    }
   }
  },
  {
   "cell_type": "code",
   "execution_count": 290,
   "outputs": [],
   "source": [
    "best_runs.to_csv(\"../../exps/rotation.csv\")\n",
    "selected_runs.to_csv(\"../../exps/rotation-complete.csv\")"
   ],
   "metadata": {
    "collapsed": false,
    "pycharm": {
     "name": "#%%\n"
    }
   }
  },
  {
   "cell_type": "markdown",
   "source": [
    "## Double Encoder"
   ],
   "metadata": {
    "collapsed": false,
    "pycharm": {
     "name": "#%% md\n"
    }
   }
  },
  {
   "cell_type": "code",
   "execution_count": 35,
   "outputs": [],
   "source": [
    "filters = {\n",
    "    'group': 'DoubleLawin'\n",
    "}\n",
    "selected_cols = [\n",
    "    'in_params.dataset.channels',\n",
    "    'in_params.train_params.freeze_pretrained',\n",
    "    'in_params.train_params.loss.params.gamma',\n",
    "    'f1',\n",
    "    'precision',\n",
    "    'recall'\n",
    "]\n",
    "roundings = ['F1', 'Precision', 'Recall']"
   ],
   "metadata": {
    "collapsed": false,
    "pycharm": {
     "name": "#%%\n"
    }
   }
  },
  {
   "cell_type": "code",
   "execution_count": 36,
   "outputs": [
    {
     "data": {
      "text/plain": "['hyper_params.arch_params.schema',\n 'hyper_params.arch_params.sync_bn',\n 'hyper_params.arch_params.backbone',\n 'hyper_params.arch_params.in_channels',\n 'hyper_params.arch_params.num_classes',\n 'hyper_params.arch_params.out_channels',\n 'hyper_params.arch_params.main_channels',\n 'hyper_params.arch_params.input_channels',\n 'hyper_params.arch_params.output_channels',\n 'hyper_params.arch_params.backbone_pretrained',\n 'hyper_params.dataset_params.root',\n 'hyper_params.dataset_params.size',\n 'hyper_params.dataset_params.schema',\n 'hyper_params.dataset_params.s3_link',\n 'hyper_params.dataset_params.channels',\n 'hyper_params.dataset_params.hor_flip',\n 'hyper_params.dataset_params.ver_flip',\n 'hyper_params.dataset_params.crop_size',\n 'hyper_params.dataset_params.batch_size',\n 'hyper_params.dataset_params.dataset_dir',\n 'hyper_params.dataset_params.num_classes',\n 'hyper_params.dataset_params.num_workers',\n 'hyper_params.dataset_params.return_path',\n 'hyper_params.dataset_params.test_folders',\n 'hyper_params.dataset_params.train_folders',\n 'hyper_params.dataset_params.val_batch_size',\n 'hyper_params.dataset_params.test_batch_size',\n 'hyper_params.additional_log_items.multi_gpu',\n 'hyper_params.additional_log_items.initial_LR',\n 'hyper_params.additional_log_items.device_type',\n 'hyper_params.additional_log_items.num_devices',\n 'hyper_params.additional_log_items.installed_packages',\n 'hyper_params.training_hyperparams.ema',\n 'hyper_params.training_hyperparams.loss',\n 'hyper_params.training_hyperparams.seed',\n 'hyper_params.training_hyperparams.schema.if.properties.lr_mode.const',\n 'hyper_params.training_hyperparams.schema.then.required',\n 'hyper_params.training_hyperparams.schema.type',\n 'hyper_params.training_hyperparams.schema.required',\n 'hyper_params.training_hyperparams.schema.properties.initial_lr.type',\n 'hyper_params.training_hyperparams.schema.properties.initial_lr.maximum',\n 'hyper_params.training_hyperparams.schema.properties.initial_lr.exclusiveMinimum',\n 'hyper_params.training_hyperparams.schema.properties.max_epochs.type',\n 'hyper_params.training_hyperparams.schema.properties.max_epochs.minimum',\n 'hyper_params.training_hyperparams.schema.properties.lr_decay_factor.type',\n 'hyper_params.training_hyperparams.schema.properties.lr_decay_factor.maximum',\n 'hyper_params.training_hyperparams.schema.properties.lr_decay_factor.minimum',\n 'hyper_params.training_hyperparams.schema.properties.lr_warmup_epochs.type',\n 'hyper_params.training_hyperparams.schema.properties.lr_warmup_epochs.maximum',\n 'hyper_params.training_hyperparams.schema.properties.lr_warmup_epochs.minimum',\n 'hyper_params.training_hyperparams.lr_mode',\n 'hyper_params.training_hyperparams.optimizer',\n 'hyper_params.training_hyperparams.sg_logger',\n 'hyper_params.training_hyperparams.initial_lr',\n 'hyper_params.training_hyperparams.lr_updates',\n 'hyper_params.training_hyperparams.max_epochs',\n 'hyper_params.training_hyperparams.precise_bn',\n 'hyper_params.training_hyperparams.save_model',\n 'hyper_params.training_hyperparams.silent_mode',\n 'hyper_params.training_hyperparams.warmup_mode',\n 'hyper_params.training_hyperparams.load_opt_params',\n 'hyper_params.training_hyperparams.metric_to_watch',\n 'hyper_params.training_hyperparams.mixed_precision',\n 'hyper_params.training_hyperparams.phase_callbacks',\n 'hyper_params.training_hyperparams.batch_accumulate',\n 'hyper_params.training_hyperparams.lr_warmup_epochs',\n 'hyper_params.training_hyperparams.optimizer_params.weight_decay',\n 'hyper_params.training_hyperparams.sg_logger_params.tags',\n 'hyper_params.training_hyperparams.sg_logger_params.entity',\n 'hyper_params.training_hyperparams.sg_logger_params.project_name',\n 'hyper_params.training_hyperparams.sg_logger_params.save_logs_remote',\n 'hyper_params.training_hyperparams.sg_logger_params.tensorboard_port',\n 'hyper_params.training_hyperparams.sg_logger_params.launch_tensorboard',\n 'hyper_params.training_hyperparams.sg_logger_params.tb_files_user_prompt',\n 'hyper_params.training_hyperparams.sg_logger_params.save_checkpoints_remote',\n 'hyper_params.training_hyperparams.sg_logger_params.save_tensorboard_remote',\n 'hyper_params.training_hyperparams.tensorboard_port',\n 'hyper_params.training_hyperparams.freeze_pretrained',\n 'hyper_params.training_hyperparams.warmup_initial_lr',\n 'hyper_params.training_hyperparams.dataset_statistics',\n 'hyper_params.training_hyperparams.launch_tensorboard',\n 'hyper_params.training_hyperparams.train_metrics_list',\n 'hyper_params.training_hyperparams.valid_metrics_list',\n 'hyper_params.training_hyperparams.average_best_models',\n 'hyper_params.training_hyperparams.run_validation_freq',\n 'hyper_params.training_hyperparams.save_full_train_log',\n 'hyper_params.training_hyperparams.step_lr_update_freq',\n 'hyper_params.training_hyperparams.lr_schedule_function',\n 'hyper_params.training_hyperparams.save_ckpt_epoch_list',\n 'hyper_params.training_hyperparams.tb_files_user_prompt',\n 'hyper_params.training_hyperparams.cosine_final_lr_ratio',\n 'hyper_params.training_hyperparams.precise_bn_batch_size',\n 'hyper_params.training_hyperparams.log_installed_packages',\n 'hyper_params.training_hyperparams.save_tensorboard_to_s3',\n 'hyper_params.training_hyperparams.loss_logging_items_names',\n 'hyper_params.training_hyperparams.zero_weight_decay_on_bias_and_bn',\n 'hyper_params.training_hyperparams.greater_metric_to_watch_is_better']"
     },
     "metadata": {},
     "output_type": "display_data"
    }
   ],
   "source": [
    "runs_df = get_runs(filters)\n",
    "remove_hyp(runs_df)"
   ],
   "metadata": {
    "collapsed": false,
    "pycharm": {
     "name": "#%%\n"
    }
   }
  },
  {
   "cell_type": "code",
   "execution_count": 37,
   "outputs": [
    {
     "data": {
      "text/plain": "   in_params.tags in_params.model.name in_params.model.params.backbone  \\\n0              []          doublelawin                          MiT-B0   \n1              []          doublelawin                          MiT-B0   \n2              []          doublelawin                          MiT-B0   \n3              []          doublelawin                          MiT-B0   \n4              []          doublelawin                          MiT-B0   \n5              []          doublelawin                          MiT-B0   \n6              []          doublelawin                          MiT-B0   \n7              []          doublelawin                          MiT-B0   \n8              []          doublelawin                          MiT-B0   \n9              []          doublelawin                          MiT-B0   \n10             []          doublelawin                          MiT-B0   \n11             []          doublelawin                          MiT-B0   \n12             []          doublelawin                          MiT-B0   \n13             []          doublelawin                          MiT-B0   \n14             []          doublelawin                          MiT-B0   \n15             []          doublelawin                          MiT-B0   \n\n    in_params.model.params.main_channels  \\\n0                                      2   \n1                                      2   \n2                                      2   \n3                                      2   \n4                                      2   \n5                                      2   \n6                                      2   \n7                                      2   \n8                                      2   \n9                                      2   \n10                                     2   \n11                                     2   \n12                                     2   \n13                                     2   \n14                                     2   \n15                                     2   \n\n    in_params.model.params.backbone_pretrained in_params.phases  \\\n0                                         True    [train, test]   \n1                                         True    [train, test]   \n2                                         True    [train, test]   \n3                                         True    [train, test]   \n4                                         True    [train, test]   \n5                                         True    [train, test]   \n6                                         True    [train, test]   \n7                                         True    [train, test]   \n8                                         True    [train, test]   \n9                                         True    [train, test]   \n10                                        True    [train, test]   \n11                                        True    [train, test]   \n12                                        True    [train, test]   \n13                                        True    [train, test]   \n14                                        True    [train, test]   \n15                                        True    [train, test]   \n\n                            in_params.dataset.root in_params.dataset.size  \\\n0   dataset/4_rotations_processed_005_test/Sequoia                   same   \n1   dataset/4_rotations_processed_005_test/Sequoia                   same   \n2   dataset/4_rotations_processed_005_test/Sequoia                   same   \n3   dataset/4_rotations_processed_005_test/Sequoia                   same   \n4   dataset/4_rotations_processed_005_test/Sequoia                   same   \n5   dataset/4_rotations_processed_005_test/Sequoia                   same   \n6   dataset/4_rotations_processed_005_test/Sequoia                   same   \n7   dataset/4_rotations_processed_005_test/Sequoia                   same   \n8   dataset/4_rotations_processed_005_test/Sequoia                   same   \n9   dataset/4_rotations_processed_005_test/Sequoia                   same   \n10  dataset/4_rotations_processed_005_test/Sequoia                   same   \n11  dataset/4_rotations_processed_005_test/Sequoia                   same   \n12  dataset/4_rotations_processed_005_test/Sequoia                   same   \n13  dataset/4_rotations_processed_005_test/Sequoia                   same   \n14  dataset/4_rotations_processed_005_test/Sequoia                   same   \n15  dataset/4_rotations_processed_005_test/Sequoia                   same   \n\n   in_params.dataset.channels  in_params.dataset.hor_flip  ...  \\\n0             [R, G, NIR, RE]                        True  ...   \n1                  [R, G, RE]                        True  ...   \n2                [R, G, NDVI]                        True  ...   \n3                 [R, G, NIR]                        True  ...   \n4             [R, G, NIR, RE]                        True  ...   \n5                  [R, G, RE]                        True  ...   \n6                [R, G, NDVI]                        True  ...   \n7                 [R, G, NIR]                        True  ...   \n8             [R, G, NIR, RE]                        True  ...   \n9                  [R, G, RE]                        True  ...   \n10               [R, G, NDVI]                        True  ...   \n11                [R, G, NIR]                        True  ...   \n12            [R, G, NIR, RE]                        True  ...   \n13                 [R, G, RE]                        True  ...   \n14               [R, G, NDVI]                        True  ...   \n15                [R, G, NIR]                        True  ...   \n\n    007_frame0120_3_3.png.masks.predictions._type  \\\n0                                            mask   \n1                                            mask   \n2                                            mask   \n3                                            mask   \n4                                            mask   \n5                                            mask   \n6                                            mask   \n7                                            mask   \n8                                            mask   \n9                                            mask   \n10                                           mask   \n11                                           mask   \n12                                           mask   \n13                                           mask   \n14                                           mask   \n15                                           mask   \n\n       007_frame0120_3_3.png.masks.predictions.sha256  \\\n0   1a1ce3668634b144f95daff6d3de845fd940cd152a373a...   \n1   2cd39b5460ff8fd128971b82e9e44936e1fa0651ed57a5...   \n2   f612e04d9062f1cf25f057cc3b180d6eab0a736dc23c8f...   \n3   a2dc2f95036e3929eb4fa86dedf9c2400b64d0f8da0352...   \n4   6bd051da36aeeb47b340bb74c6aeb11aeafc3b30cbd1fb...   \n5   78d68016453d2c5bfc1fca97d2e5ab421af861500efca8...   \n6   3d18df4d0d189a730296408a49e20ec7503c327ba87244...   \n7   48eeab506d5e281297d322b44e4f60bb4e6a64c51d70b3...   \n8   a0cf14d8fdd61ad4690ebc0d26deb5e1b1b20e3dfd141f...   \n9   0ab37cf29d95caf0b1e41c39d8cc1dd23c6f9bfdc7a2c1...   \n10  6292a957b03de53e24697ef6e15e2c798f3b7e59a58432...   \n11  5eac30c3f3b262b36426e2dcd6c7dff5c09d9dfb18039b...   \n12  526881e4479edfde98d8cae8abe30c4febc86e50942f85...   \n13  31cebf79a305fdcdf7b145925c23559471a9512a15217e...   \n14  d7943de87ce41c5b219440104dba2e360e7e087ddc56d5...   \n15  ff49d53b605d4adf68f5625c2fa745fc74809cd87cc033...   \n\n         007_frame0120_3_3.png.masks.predictions.path  \\\n0   media/images/mask/007_frame0120_3_3.png_465_1a...   \n1   media/images/mask/007_frame0120_3_3.png_563_2c...   \n2   media/images/mask/007_frame0120_3_3.png_787_f6...   \n3   media/images/mask/007_frame0120_3_3.png_563_a2...   \n4   media/images/mask/007_frame0120_3_3.png_983_6b...   \n5   media/images/mask/007_frame0120_3_3.png_745_78...   \n6   media/images/mask/007_frame0120_3_3.png_983_3d...   \n7   media/images/mask/007_frame0120_3_3.png_1067_4...   \n8   media/images/mask/007_frame0120_3_3.png_675_a0...   \n9   media/images/mask/007_frame0120_3_3.png_885_0a...   \n10  media/images/mask/007_frame0120_3_3.png_689_62...   \n11  media/images/mask/007_frame0120_3_3.png_535_5e...   \n12  media/images/mask/007_frame0120_3_3.png_1039_5...   \n13  media/images/mask/007_frame0120_3_3.png_605_31...   \n14  media/images/mask/007_frame0120_3_3.png_1053_d...   \n15  media/images/mask/007_frame0120_3_3.png_731_ff...   \n\n        007_frame0120_3_3.png.masks.ground_truth.path  \\\n0   media/images/mask/007_frame0120_3_3.png_465_8a...   \n1   media/images/mask/007_frame0120_3_3.png_563_14...   \n2   media/images/mask/007_frame0120_3_3.png_787_d1...   \n3   media/images/mask/007_frame0120_3_3.png_563_14...   \n4   media/images/mask/007_frame0120_3_3.png_983_d1...   \n5   media/images/mask/007_frame0120_3_3.png_745_b2...   \n6   media/images/mask/007_frame0120_3_3.png_983_d1...   \n7   media/images/mask/007_frame0120_3_3.png_1067_b...   \n8   media/images/mask/007_frame0120_3_3.png_675_8a...   \n9   media/images/mask/007_frame0120_3_3.png_885_14...   \n10  media/images/mask/007_frame0120_3_3.png_689_8a...   \n11  media/images/mask/007_frame0120_3_3.png_535_8a...   \n12  media/images/mask/007_frame0120_3_3.png_1039_8...   \n13  media/images/mask/007_frame0120_3_3.png_605_14...   \n14  media/images/mask/007_frame0120_3_3.png_1053_1...   \n15  media/images/mask/007_frame0120_3_3.png_731_14...   \n\n    007_frame0120_3_3.png.masks.ground_truth.size  \\\n0                                             876   \n1                                             882   \n2                                             869   \n3                                             882   \n4                                             869   \n5                                             850   \n6                                             869   \n7                                             850   \n8                                             876   \n9                                             882   \n10                                            876   \n11                                            876   \n12                                            876   \n13                                            882   \n14                                            882   \n15                                            882   \n\n    007_frame0120_3_3.png.masks.ground_truth._type  \\\n0                                             mask   \n1                                             mask   \n2                                             mask   \n3                                             mask   \n4                                             mask   \n5                                             mask   \n6                                             mask   \n7                                             mask   \n8                                             mask   \n9                                             mask   \n10                                            mask   \n11                                            mask   \n12                                            mask   \n13                                            mask   \n14                                            mask   \n15                                            mask   \n\n      007_frame0120_3_3.png.masks.ground_truth.sha256  \\\n0   8ab09dfe7f66141b9e14dd5ae799a8e4ae176a9d703957...   \n1   14643e74f50a16736111889e5b476fc60aae2663ca0ef1...   \n2   d122cfdba0585d4997ac3c7b3b0c26fca5cde23a89bcbd...   \n3   14643e74f50a16736111889e5b476fc60aae2663ca0ef1...   \n4   d122cfdba0585d4997ac3c7b3b0c26fca5cde23a89bcbd...   \n5   b2ba1d6f91fd35fcae4b6a342ebd586afb6f896b112e45...   \n6   d122cfdba0585d4997ac3c7b3b0c26fca5cde23a89bcbd...   \n7   b2ba1d6f91fd35fcae4b6a342ebd586afb6f896b112e45...   \n8   8ab09dfe7f66141b9e14dd5ae799a8e4ae176a9d703957...   \n9   14643e74f50a16736111889e5b476fc60aae2663ca0ef1...   \n10  8ab09dfe7f66141b9e14dd5ae799a8e4ae176a9d703957...   \n11  8ab09dfe7f66141b9e14dd5ae799a8e4ae176a9d703957...   \n12  8ab09dfe7f66141b9e14dd5ae799a8e4ae176a9d703957...   \n13  14643e74f50a16736111889e5b476fc60aae2663ca0ef1...   \n14  14643e74f50a16736111889e5b476fc60aae2663ca0ef1...   \n15  14643e74f50a16736111889e5b476fc60aae2663ca0ef1...   \n\n   007_frame0120_3_3.png.width  007_frame0120_3_3.png.format  \\\n0                          256                           png   \n1                          256                           png   \n2                          256                           png   \n3                          256                           png   \n4                          256                           png   \n5                          256                           png   \n6                          256                           png   \n7                          256                           png   \n8                          256                           png   \n9                          256                           png   \n10                         256                           png   \n11                         256                           png   \n12                         256                           png   \n13                         256                           png   \n14                         256                           png   \n15                         256                           png   \n\n    007_frame0120_3_3.png.height  \n0                            256  \n1                            256  \n2                            256  \n3                            256  \n4                            256  \n5                            256  \n6                            256  \n7                            256  \n8                            256  \n9                            256  \n10                           256  \n11                           256  \n12                           256  \n13                           256  \n14                           256  \n15                           256  \n\n[16 rows x 392 columns]",
      "text/html": "<div>\n<style scoped>\n    .dataframe tbody tr th:only-of-type {\n        vertical-align: middle;\n    }\n\n    .dataframe tbody tr th {\n        vertical-align: top;\n    }\n\n    .dataframe thead th {\n        text-align: right;\n    }\n</style>\n<table border=\"1\" class=\"dataframe\">\n  <thead>\n    <tr style=\"text-align: right;\">\n      <th></th>\n      <th>in_params.tags</th>\n      <th>in_params.model.name</th>\n      <th>in_params.model.params.backbone</th>\n      <th>in_params.model.params.main_channels</th>\n      <th>in_params.model.params.backbone_pretrained</th>\n      <th>in_params.phases</th>\n      <th>in_params.dataset.root</th>\n      <th>in_params.dataset.size</th>\n      <th>in_params.dataset.channels</th>\n      <th>in_params.dataset.hor_flip</th>\n      <th>...</th>\n      <th>007_frame0120_3_3.png.masks.predictions._type</th>\n      <th>007_frame0120_3_3.png.masks.predictions.sha256</th>\n      <th>007_frame0120_3_3.png.masks.predictions.path</th>\n      <th>007_frame0120_3_3.png.masks.ground_truth.path</th>\n      <th>007_frame0120_3_3.png.masks.ground_truth.size</th>\n      <th>007_frame0120_3_3.png.masks.ground_truth._type</th>\n      <th>007_frame0120_3_3.png.masks.ground_truth.sha256</th>\n      <th>007_frame0120_3_3.png.width</th>\n      <th>007_frame0120_3_3.png.format</th>\n      <th>007_frame0120_3_3.png.height</th>\n    </tr>\n  </thead>\n  <tbody>\n    <tr>\n      <th>0</th>\n      <td>[]</td>\n      <td>doublelawin</td>\n      <td>MiT-B0</td>\n      <td>2</td>\n      <td>True</td>\n      <td>[train, test]</td>\n      <td>dataset/4_rotations_processed_005_test/Sequoia</td>\n      <td>same</td>\n      <td>[R, G, NIR, RE]</td>\n      <td>True</td>\n      <td>...</td>\n      <td>mask</td>\n      <td>1a1ce3668634b144f95daff6d3de845fd940cd152a373a...</td>\n      <td>media/images/mask/007_frame0120_3_3.png_465_1a...</td>\n      <td>media/images/mask/007_frame0120_3_3.png_465_8a...</td>\n      <td>876</td>\n      <td>mask</td>\n      <td>8ab09dfe7f66141b9e14dd5ae799a8e4ae176a9d703957...</td>\n      <td>256</td>\n      <td>png</td>\n      <td>256</td>\n    </tr>\n    <tr>\n      <th>1</th>\n      <td>[]</td>\n      <td>doublelawin</td>\n      <td>MiT-B0</td>\n      <td>2</td>\n      <td>True</td>\n      <td>[train, test]</td>\n      <td>dataset/4_rotations_processed_005_test/Sequoia</td>\n      <td>same</td>\n      <td>[R, G, RE]</td>\n      <td>True</td>\n      <td>...</td>\n      <td>mask</td>\n      <td>2cd39b5460ff8fd128971b82e9e44936e1fa0651ed57a5...</td>\n      <td>media/images/mask/007_frame0120_3_3.png_563_2c...</td>\n      <td>media/images/mask/007_frame0120_3_3.png_563_14...</td>\n      <td>882</td>\n      <td>mask</td>\n      <td>14643e74f50a16736111889e5b476fc60aae2663ca0ef1...</td>\n      <td>256</td>\n      <td>png</td>\n      <td>256</td>\n    </tr>\n    <tr>\n      <th>2</th>\n      <td>[]</td>\n      <td>doublelawin</td>\n      <td>MiT-B0</td>\n      <td>2</td>\n      <td>True</td>\n      <td>[train, test]</td>\n      <td>dataset/4_rotations_processed_005_test/Sequoia</td>\n      <td>same</td>\n      <td>[R, G, NDVI]</td>\n      <td>True</td>\n      <td>...</td>\n      <td>mask</td>\n      <td>f612e04d9062f1cf25f057cc3b180d6eab0a736dc23c8f...</td>\n      <td>media/images/mask/007_frame0120_3_3.png_787_f6...</td>\n      <td>media/images/mask/007_frame0120_3_3.png_787_d1...</td>\n      <td>869</td>\n      <td>mask</td>\n      <td>d122cfdba0585d4997ac3c7b3b0c26fca5cde23a89bcbd...</td>\n      <td>256</td>\n      <td>png</td>\n      <td>256</td>\n    </tr>\n    <tr>\n      <th>3</th>\n      <td>[]</td>\n      <td>doublelawin</td>\n      <td>MiT-B0</td>\n      <td>2</td>\n      <td>True</td>\n      <td>[train, test]</td>\n      <td>dataset/4_rotations_processed_005_test/Sequoia</td>\n      <td>same</td>\n      <td>[R, G, NIR]</td>\n      <td>True</td>\n      <td>...</td>\n      <td>mask</td>\n      <td>a2dc2f95036e3929eb4fa86dedf9c2400b64d0f8da0352...</td>\n      <td>media/images/mask/007_frame0120_3_3.png_563_a2...</td>\n      <td>media/images/mask/007_frame0120_3_3.png_563_14...</td>\n      <td>882</td>\n      <td>mask</td>\n      <td>14643e74f50a16736111889e5b476fc60aae2663ca0ef1...</td>\n      <td>256</td>\n      <td>png</td>\n      <td>256</td>\n    </tr>\n    <tr>\n      <th>4</th>\n      <td>[]</td>\n      <td>doublelawin</td>\n      <td>MiT-B0</td>\n      <td>2</td>\n      <td>True</td>\n      <td>[train, test]</td>\n      <td>dataset/4_rotations_processed_005_test/Sequoia</td>\n      <td>same</td>\n      <td>[R, G, NIR, RE]</td>\n      <td>True</td>\n      <td>...</td>\n      <td>mask</td>\n      <td>6bd051da36aeeb47b340bb74c6aeb11aeafc3b30cbd1fb...</td>\n      <td>media/images/mask/007_frame0120_3_3.png_983_6b...</td>\n      <td>media/images/mask/007_frame0120_3_3.png_983_d1...</td>\n      <td>869</td>\n      <td>mask</td>\n      <td>d122cfdba0585d4997ac3c7b3b0c26fca5cde23a89bcbd...</td>\n      <td>256</td>\n      <td>png</td>\n      <td>256</td>\n    </tr>\n    <tr>\n      <th>5</th>\n      <td>[]</td>\n      <td>doublelawin</td>\n      <td>MiT-B0</td>\n      <td>2</td>\n      <td>True</td>\n      <td>[train, test]</td>\n      <td>dataset/4_rotations_processed_005_test/Sequoia</td>\n      <td>same</td>\n      <td>[R, G, RE]</td>\n      <td>True</td>\n      <td>...</td>\n      <td>mask</td>\n      <td>78d68016453d2c5bfc1fca97d2e5ab421af861500efca8...</td>\n      <td>media/images/mask/007_frame0120_3_3.png_745_78...</td>\n      <td>media/images/mask/007_frame0120_3_3.png_745_b2...</td>\n      <td>850</td>\n      <td>mask</td>\n      <td>b2ba1d6f91fd35fcae4b6a342ebd586afb6f896b112e45...</td>\n      <td>256</td>\n      <td>png</td>\n      <td>256</td>\n    </tr>\n    <tr>\n      <th>6</th>\n      <td>[]</td>\n      <td>doublelawin</td>\n      <td>MiT-B0</td>\n      <td>2</td>\n      <td>True</td>\n      <td>[train, test]</td>\n      <td>dataset/4_rotations_processed_005_test/Sequoia</td>\n      <td>same</td>\n      <td>[R, G, NDVI]</td>\n      <td>True</td>\n      <td>...</td>\n      <td>mask</td>\n      <td>3d18df4d0d189a730296408a49e20ec7503c327ba87244...</td>\n      <td>media/images/mask/007_frame0120_3_3.png_983_3d...</td>\n      <td>media/images/mask/007_frame0120_3_3.png_983_d1...</td>\n      <td>869</td>\n      <td>mask</td>\n      <td>d122cfdba0585d4997ac3c7b3b0c26fca5cde23a89bcbd...</td>\n      <td>256</td>\n      <td>png</td>\n      <td>256</td>\n    </tr>\n    <tr>\n      <th>7</th>\n      <td>[]</td>\n      <td>doublelawin</td>\n      <td>MiT-B0</td>\n      <td>2</td>\n      <td>True</td>\n      <td>[train, test]</td>\n      <td>dataset/4_rotations_processed_005_test/Sequoia</td>\n      <td>same</td>\n      <td>[R, G, NIR]</td>\n      <td>True</td>\n      <td>...</td>\n      <td>mask</td>\n      <td>48eeab506d5e281297d322b44e4f60bb4e6a64c51d70b3...</td>\n      <td>media/images/mask/007_frame0120_3_3.png_1067_4...</td>\n      <td>media/images/mask/007_frame0120_3_3.png_1067_b...</td>\n      <td>850</td>\n      <td>mask</td>\n      <td>b2ba1d6f91fd35fcae4b6a342ebd586afb6f896b112e45...</td>\n      <td>256</td>\n      <td>png</td>\n      <td>256</td>\n    </tr>\n    <tr>\n      <th>8</th>\n      <td>[]</td>\n      <td>doublelawin</td>\n      <td>MiT-B0</td>\n      <td>2</td>\n      <td>True</td>\n      <td>[train, test]</td>\n      <td>dataset/4_rotations_processed_005_test/Sequoia</td>\n      <td>same</td>\n      <td>[R, G, NIR, RE]</td>\n      <td>True</td>\n      <td>...</td>\n      <td>mask</td>\n      <td>a0cf14d8fdd61ad4690ebc0d26deb5e1b1b20e3dfd141f...</td>\n      <td>media/images/mask/007_frame0120_3_3.png_675_a0...</td>\n      <td>media/images/mask/007_frame0120_3_3.png_675_8a...</td>\n      <td>876</td>\n      <td>mask</td>\n      <td>8ab09dfe7f66141b9e14dd5ae799a8e4ae176a9d703957...</td>\n      <td>256</td>\n      <td>png</td>\n      <td>256</td>\n    </tr>\n    <tr>\n      <th>9</th>\n      <td>[]</td>\n      <td>doublelawin</td>\n      <td>MiT-B0</td>\n      <td>2</td>\n      <td>True</td>\n      <td>[train, test]</td>\n      <td>dataset/4_rotations_processed_005_test/Sequoia</td>\n      <td>same</td>\n      <td>[R, G, RE]</td>\n      <td>True</td>\n      <td>...</td>\n      <td>mask</td>\n      <td>0ab37cf29d95caf0b1e41c39d8cc1dd23c6f9bfdc7a2c1...</td>\n      <td>media/images/mask/007_frame0120_3_3.png_885_0a...</td>\n      <td>media/images/mask/007_frame0120_3_3.png_885_14...</td>\n      <td>882</td>\n      <td>mask</td>\n      <td>14643e74f50a16736111889e5b476fc60aae2663ca0ef1...</td>\n      <td>256</td>\n      <td>png</td>\n      <td>256</td>\n    </tr>\n    <tr>\n      <th>10</th>\n      <td>[]</td>\n      <td>doublelawin</td>\n      <td>MiT-B0</td>\n      <td>2</td>\n      <td>True</td>\n      <td>[train, test]</td>\n      <td>dataset/4_rotations_processed_005_test/Sequoia</td>\n      <td>same</td>\n      <td>[R, G, NDVI]</td>\n      <td>True</td>\n      <td>...</td>\n      <td>mask</td>\n      <td>6292a957b03de53e24697ef6e15e2c798f3b7e59a58432...</td>\n      <td>media/images/mask/007_frame0120_3_3.png_689_62...</td>\n      <td>media/images/mask/007_frame0120_3_3.png_689_8a...</td>\n      <td>876</td>\n      <td>mask</td>\n      <td>8ab09dfe7f66141b9e14dd5ae799a8e4ae176a9d703957...</td>\n      <td>256</td>\n      <td>png</td>\n      <td>256</td>\n    </tr>\n    <tr>\n      <th>11</th>\n      <td>[]</td>\n      <td>doublelawin</td>\n      <td>MiT-B0</td>\n      <td>2</td>\n      <td>True</td>\n      <td>[train, test]</td>\n      <td>dataset/4_rotations_processed_005_test/Sequoia</td>\n      <td>same</td>\n      <td>[R, G, NIR]</td>\n      <td>True</td>\n      <td>...</td>\n      <td>mask</td>\n      <td>5eac30c3f3b262b36426e2dcd6c7dff5c09d9dfb18039b...</td>\n      <td>media/images/mask/007_frame0120_3_3.png_535_5e...</td>\n      <td>media/images/mask/007_frame0120_3_3.png_535_8a...</td>\n      <td>876</td>\n      <td>mask</td>\n      <td>8ab09dfe7f66141b9e14dd5ae799a8e4ae176a9d703957...</td>\n      <td>256</td>\n      <td>png</td>\n      <td>256</td>\n    </tr>\n    <tr>\n      <th>12</th>\n      <td>[]</td>\n      <td>doublelawin</td>\n      <td>MiT-B0</td>\n      <td>2</td>\n      <td>True</td>\n      <td>[train, test]</td>\n      <td>dataset/4_rotations_processed_005_test/Sequoia</td>\n      <td>same</td>\n      <td>[R, G, NIR, RE]</td>\n      <td>True</td>\n      <td>...</td>\n      <td>mask</td>\n      <td>526881e4479edfde98d8cae8abe30c4febc86e50942f85...</td>\n      <td>media/images/mask/007_frame0120_3_3.png_1039_5...</td>\n      <td>media/images/mask/007_frame0120_3_3.png_1039_8...</td>\n      <td>876</td>\n      <td>mask</td>\n      <td>8ab09dfe7f66141b9e14dd5ae799a8e4ae176a9d703957...</td>\n      <td>256</td>\n      <td>png</td>\n      <td>256</td>\n    </tr>\n    <tr>\n      <th>13</th>\n      <td>[]</td>\n      <td>doublelawin</td>\n      <td>MiT-B0</td>\n      <td>2</td>\n      <td>True</td>\n      <td>[train, test]</td>\n      <td>dataset/4_rotations_processed_005_test/Sequoia</td>\n      <td>same</td>\n      <td>[R, G, RE]</td>\n      <td>True</td>\n      <td>...</td>\n      <td>mask</td>\n      <td>31cebf79a305fdcdf7b145925c23559471a9512a15217e...</td>\n      <td>media/images/mask/007_frame0120_3_3.png_605_31...</td>\n      <td>media/images/mask/007_frame0120_3_3.png_605_14...</td>\n      <td>882</td>\n      <td>mask</td>\n      <td>14643e74f50a16736111889e5b476fc60aae2663ca0ef1...</td>\n      <td>256</td>\n      <td>png</td>\n      <td>256</td>\n    </tr>\n    <tr>\n      <th>14</th>\n      <td>[]</td>\n      <td>doublelawin</td>\n      <td>MiT-B0</td>\n      <td>2</td>\n      <td>True</td>\n      <td>[train, test]</td>\n      <td>dataset/4_rotations_processed_005_test/Sequoia</td>\n      <td>same</td>\n      <td>[R, G, NDVI]</td>\n      <td>True</td>\n      <td>...</td>\n      <td>mask</td>\n      <td>d7943de87ce41c5b219440104dba2e360e7e087ddc56d5...</td>\n      <td>media/images/mask/007_frame0120_3_3.png_1053_d...</td>\n      <td>media/images/mask/007_frame0120_3_3.png_1053_1...</td>\n      <td>882</td>\n      <td>mask</td>\n      <td>14643e74f50a16736111889e5b476fc60aae2663ca0ef1...</td>\n      <td>256</td>\n      <td>png</td>\n      <td>256</td>\n    </tr>\n    <tr>\n      <th>15</th>\n      <td>[]</td>\n      <td>doublelawin</td>\n      <td>MiT-B0</td>\n      <td>2</td>\n      <td>True</td>\n      <td>[train, test]</td>\n      <td>dataset/4_rotations_processed_005_test/Sequoia</td>\n      <td>same</td>\n      <td>[R, G, NIR]</td>\n      <td>True</td>\n      <td>...</td>\n      <td>mask</td>\n      <td>ff49d53b605d4adf68f5625c2fa745fc74809cd87cc033...</td>\n      <td>media/images/mask/007_frame0120_3_3.png_731_ff...</td>\n      <td>media/images/mask/007_frame0120_3_3.png_731_14...</td>\n      <td>882</td>\n      <td>mask</td>\n      <td>14643e74f50a16736111889e5b476fc60aae2663ca0ef1...</td>\n      <td>256</td>\n      <td>png</td>\n      <td>256</td>\n    </tr>\n  </tbody>\n</table>\n<p>16 rows × 392 columns</p>\n</div>"
     },
     "execution_count": 37,
     "metadata": {},
     "output_type": "execute_result"
    }
   ],
   "source": [
    "runs_df"
   ],
   "metadata": {
    "collapsed": false,
    "pycharm": {
     "name": "#%%\n"
    }
   }
  },
  {
   "cell_type": "code",
   "execution_count": 38,
   "outputs": [
    {
     "name": "stderr",
     "output_type": "stream",
     "text": [
      "C:\\Users\\pasqu\\AppData\\Local\\Temp\\ipykernel_19912\\1597903912.py:6: SettingWithCopyWarning: \n",
      "A value is trying to be set on a copy of a slice from a DataFrame\n",
      "\n",
      "See the caveats in the documentation: https://pandas.pydata.org/pandas-docs/stable/user_guide/indexing.html#returning-a-view-versus-a-copy\n",
      "  selected_runs.fillna(\"\", inplace=True)\n"
     ]
    }
   ],
   "source": [
    "projected_runs = runs_df[\n",
    "    selected_cols\n",
    "]\n",
    "# selected_runs = projected_runs[projected_runs['in_params.model.params.backbone'] == 'MiT-B0']\n",
    "selected_runs = projected_runs\n",
    "selected_runs.fillna(\"\", inplace=True)"
   ],
   "metadata": {
    "collapsed": false,
    "pycharm": {
     "name": "#%%\n"
    }
   }
  },
  {
   "cell_type": "code",
   "execution_count": 39,
   "outputs": [
    {
     "name": "stderr",
     "output_type": "stream",
     "text": [
      "C:\\Users\\pasqu\\AppData\\Local\\Temp\\ipykernel_19912\\2272234720.py:1: SettingWithCopyWarning: \n",
      "A value is trying to be set on a copy of a slice from a DataFrame\n",
      "\n",
      "See the caveats in the documentation: https://pandas.pydata.org/pandas-docs/stable/user_guide/indexing.html#returning-a-view-versus-a-copy\n",
      "  selected_runs.rename(columns=renamings, inplace=True)\n",
      "C:\\Users\\pasqu\\AppData\\Local\\Temp\\ipykernel_19912\\2610669143.py:33: SettingWithCopyWarning: \n",
      "A value is trying to be set on a copy of a slice from a DataFrame.\n",
      "Try using .loc[row_indexer,col_indexer] = value instead\n",
      "\n",
      "See the caveats in the documentation: https://pandas.pydata.org/pandas-docs/stable/user_guide/indexing.html#returning-a-view-versus-a-copy\n",
      "  df[column] = df[column].replace(values)\n",
      "C:\\Users\\pasqu\\AppData\\Local\\Temp\\ipykernel_19912\\2272234720.py:3: SettingWithCopyWarning: \n",
      "A value is trying to be set on a copy of a slice from a DataFrame.\n",
      "Try using .loc[row_indexer,col_indexer] = value instead\n",
      "\n",
      "See the caveats in the documentation: https://pandas.pydata.org/pandas-docs/stable/user_guide/indexing.html#returning-a-view-versus-a-copy\n",
      "  selected_runs[roundings] = selected_runs[roundings].round(5)\n",
      "C:\\Users\\pasqu\\AppData\\Local\\Temp\\ipykernel_19912\\2272234720.py:7: SettingWithCopyWarning: \n",
      "A value is trying to be set on a copy of a slice from a DataFrame\n",
      "\n",
      "See the caveats in the documentation: https://pandas.pydata.org/pandas-docs/stable/user_guide/indexing.html#returning-a-view-versus-a-copy\n",
      "  best_runs.sort_values(by=['Strategy', 'Channels'], key=lambda x: x.apply(lambda k: channels_ordering[k]), inplace=True)\n",
      "C:\\Users\\pasqu\\AppData\\Local\\Temp\\ipykernel_19912\\2272234720.py:8: SettingWithCopyWarning: \n",
      "A value is trying to be set on a copy of a slice from a DataFrame.\n",
      "Try using .loc[row_indexer,col_indexer] = value instead\n",
      "\n",
      "See the caveats in the documentation: https://pandas.pydata.org/pandas-docs/stable/user_guide/indexing.html#returning-a-view-versus-a-copy\n",
      "  best_runs[roundings] = best_runs[roundings].round(3)\n"
     ]
    }
   ],
   "source": [
    "selected_runs.rename(columns=renamings, inplace=True)\n",
    "rename_values(selected_runs, value_renamings)\n",
    "selected_runs[roundings] = selected_runs[roundings].round(5)\n",
    "selected_runs = selected_runs.applymap(lambda x: ', '.join(x) if isinstance(x, list) else x)\n",
    "idx = selected_runs.groupby(by=['Channels', 'Strategy'])['F1'].transform(max) == selected_runs['F1']\n",
    "best_runs = selected_runs[idx]\n",
    "best_runs.sort_values(by=['Strategy', 'Channels'], key=lambda x: x.apply(lambda k: channels_ordering[k]), inplace=True)\n",
    "best_runs[roundings] = best_runs[roundings].round(3)\n",
    "selected_runs[roundings] = selected_runs[roundings].round(3)"
   ],
   "metadata": {
    "collapsed": false,
    "pycharm": {
     "name": "#%%\n"
    }
   }
  },
  {
   "cell_type": "code",
   "execution_count": 41,
   "outputs": [
    {
     "data": {
      "text/plain": "         Channels     Strategy Gamma     F1  Precision  Recall\n8   R, G, NIR, RE  Fine-Tuning        0.545      0.581   0.658\n9        R, G, RE  Fine-Tuning        0.483      0.470   0.714\n11      R, G, NIR  Fine-Tuning        0.459      0.419   0.833\n10     R, G, NDVI  Fine-Tuning        0.396      0.473   0.614\n12  R, G, NIR, RE       Freeze        0.538      0.566   0.522\n13       R, G, RE       Freeze        0.555      0.527   0.725\n7       R, G, NIR       Freeze   2.0  0.507      0.620   0.466\n14     R, G, NDVI       Freeze        0.356      0.522   0.500",
      "text/html": "<div>\n<style scoped>\n    .dataframe tbody tr th:only-of-type {\n        vertical-align: middle;\n    }\n\n    .dataframe tbody tr th {\n        vertical-align: top;\n    }\n\n    .dataframe thead th {\n        text-align: right;\n    }\n</style>\n<table border=\"1\" class=\"dataframe\">\n  <thead>\n    <tr style=\"text-align: right;\">\n      <th></th>\n      <th>Channels</th>\n      <th>Strategy</th>\n      <th>Gamma</th>\n      <th>F1</th>\n      <th>Precision</th>\n      <th>Recall</th>\n    </tr>\n  </thead>\n  <tbody>\n    <tr>\n      <th>8</th>\n      <td>R, G, NIR, RE</td>\n      <td>Fine-Tuning</td>\n      <td></td>\n      <td>0.545</td>\n      <td>0.581</td>\n      <td>0.658</td>\n    </tr>\n    <tr>\n      <th>9</th>\n      <td>R, G, RE</td>\n      <td>Fine-Tuning</td>\n      <td></td>\n      <td>0.483</td>\n      <td>0.470</td>\n      <td>0.714</td>\n    </tr>\n    <tr>\n      <th>11</th>\n      <td>R, G, NIR</td>\n      <td>Fine-Tuning</td>\n      <td></td>\n      <td>0.459</td>\n      <td>0.419</td>\n      <td>0.833</td>\n    </tr>\n    <tr>\n      <th>10</th>\n      <td>R, G, NDVI</td>\n      <td>Fine-Tuning</td>\n      <td></td>\n      <td>0.396</td>\n      <td>0.473</td>\n      <td>0.614</td>\n    </tr>\n    <tr>\n      <th>12</th>\n      <td>R, G, NIR, RE</td>\n      <td>Freeze</td>\n      <td></td>\n      <td>0.538</td>\n      <td>0.566</td>\n      <td>0.522</td>\n    </tr>\n    <tr>\n      <th>13</th>\n      <td>R, G, RE</td>\n      <td>Freeze</td>\n      <td></td>\n      <td>0.555</td>\n      <td>0.527</td>\n      <td>0.725</td>\n    </tr>\n    <tr>\n      <th>7</th>\n      <td>R, G, NIR</td>\n      <td>Freeze</td>\n      <td>2.0</td>\n      <td>0.507</td>\n      <td>0.620</td>\n      <td>0.466</td>\n    </tr>\n    <tr>\n      <th>14</th>\n      <td>R, G, NDVI</td>\n      <td>Freeze</td>\n      <td></td>\n      <td>0.356</td>\n      <td>0.522</td>\n      <td>0.500</td>\n    </tr>\n  </tbody>\n</table>\n</div>"
     },
     "execution_count": 41,
     "metadata": {},
     "output_type": "execute_result"
    }
   ],
   "source": [
    "best_runs"
   ],
   "metadata": {
    "collapsed": false,
    "pycharm": {
     "name": "#%%\n"
    }
   }
  },
  {
   "cell_type": "code",
   "execution_count": 42,
   "outputs": [],
   "source": [
    "best_runs.to_csv(\"../../exps/doublelawin.csv\")\n",
    "selected_runs.to_csv(\"../../exps/doublelawin-complete.csv\")"
   ],
   "metadata": {
    "collapsed": false,
    "pycharm": {
     "name": "#%%\n"
    }
   }
  },
  {
   "cell_type": "markdown",
   "source": [
    "## Double Encoder Pre-Trained"
   ],
   "metadata": {
    "collapsed": false,
    "pycharm": {
     "name": "#%% md\n"
    }
   }
  },
  {
   "cell_type": "code",
   "execution_count": 13,
   "outputs": [],
   "source": [
    "filters = {\n",
    "    'group': 'DoubleLawinPretrained'\n",
    "}\n",
    "selected_cols = [\n",
    "    'in_params.dataset.channels',\n",
    "    'in_params.train_params.loss.params.gamma',\n",
    "    'f1',\n",
    "    'precision',\n",
    "    'recall'\n",
    "]\n",
    "roundings = ['F1', 'Precision', 'Recall']"
   ],
   "metadata": {
    "collapsed": false,
    "pycharm": {
     "name": "#%%\n"
    }
   }
  },
  {
   "cell_type": "code",
   "execution_count": 14,
   "outputs": [
    {
     "data": {
      "text/plain": "['hyper_params.arch_params.schema',\n 'hyper_params.arch_params.sync_bn',\n 'hyper_params.arch_params.backbone',\n 'hyper_params.arch_params.in_channels',\n 'hyper_params.arch_params.num_classes',\n 'hyper_params.arch_params.out_channels',\n 'hyper_params.arch_params.main_channels',\n 'hyper_params.arch_params.input_channels',\n 'hyper_params.arch_params.output_channels',\n 'hyper_params.arch_params.side_pretrained',\n 'hyper_params.arch_params.backbone_pretrained',\n 'hyper_params.dataset_params.root',\n 'hyper_params.dataset_params.size',\n 'hyper_params.dataset_params.schema',\n 'hyper_params.dataset_params.s3_link',\n 'hyper_params.dataset_params.channels',\n 'hyper_params.dataset_params.hor_flip',\n 'hyper_params.dataset_params.ver_flip',\n 'hyper_params.dataset_params.crop_size',\n 'hyper_params.dataset_params.batch_size',\n 'hyper_params.dataset_params.dataset_dir',\n 'hyper_params.dataset_params.num_classes',\n 'hyper_params.dataset_params.num_workers',\n 'hyper_params.dataset_params.return_path',\n 'hyper_params.dataset_params.test_folders',\n 'hyper_params.dataset_params.train_folders',\n 'hyper_params.dataset_params.val_batch_size',\n 'hyper_params.dataset_params.test_batch_size',\n 'hyper_params.additional_log_items.multi_gpu',\n 'hyper_params.additional_log_items.initial_LR',\n 'hyper_params.additional_log_items.device_type',\n 'hyper_params.additional_log_items.num_devices',\n 'hyper_params.additional_log_items.installed_packages',\n 'hyper_params.training_hyperparams.ema',\n 'hyper_params.training_hyperparams.loss',\n 'hyper_params.training_hyperparams.seed',\n 'hyper_params.training_hyperparams.schema.if.properties.lr_mode.const',\n 'hyper_params.training_hyperparams.schema.then.required',\n 'hyper_params.training_hyperparams.schema.type',\n 'hyper_params.training_hyperparams.schema.required',\n 'hyper_params.training_hyperparams.schema.properties.initial_lr.type',\n 'hyper_params.training_hyperparams.schema.properties.initial_lr.maximum',\n 'hyper_params.training_hyperparams.schema.properties.initial_lr.exclusiveMinimum',\n 'hyper_params.training_hyperparams.schema.properties.max_epochs.type',\n 'hyper_params.training_hyperparams.schema.properties.max_epochs.minimum',\n 'hyper_params.training_hyperparams.schema.properties.lr_decay_factor.type',\n 'hyper_params.training_hyperparams.schema.properties.lr_decay_factor.maximum',\n 'hyper_params.training_hyperparams.schema.properties.lr_decay_factor.minimum',\n 'hyper_params.training_hyperparams.schema.properties.lr_warmup_epochs.type',\n 'hyper_params.training_hyperparams.schema.properties.lr_warmup_epochs.maximum',\n 'hyper_params.training_hyperparams.schema.properties.lr_warmup_epochs.minimum',\n 'hyper_params.training_hyperparams.lr_mode',\n 'hyper_params.training_hyperparams.optimizer',\n 'hyper_params.training_hyperparams.sg_logger',\n 'hyper_params.training_hyperparams.initial_lr',\n 'hyper_params.training_hyperparams.lr_updates',\n 'hyper_params.training_hyperparams.max_epochs',\n 'hyper_params.training_hyperparams.precise_bn',\n 'hyper_params.training_hyperparams.save_model',\n 'hyper_params.training_hyperparams.silent_mode',\n 'hyper_params.training_hyperparams.warmup_mode',\n 'hyper_params.training_hyperparams.load_opt_params',\n 'hyper_params.training_hyperparams.metric_to_watch',\n 'hyper_params.training_hyperparams.mixed_precision',\n 'hyper_params.training_hyperparams.phase_callbacks',\n 'hyper_params.training_hyperparams.batch_accumulate',\n 'hyper_params.training_hyperparams.lr_warmup_epochs',\n 'hyper_params.training_hyperparams.optimizer_params.weight_decay',\n 'hyper_params.training_hyperparams.sg_logger_params.tags',\n 'hyper_params.training_hyperparams.sg_logger_params.entity',\n 'hyper_params.training_hyperparams.sg_logger_params.project_name',\n 'hyper_params.training_hyperparams.sg_logger_params.save_logs_remote',\n 'hyper_params.training_hyperparams.sg_logger_params.tensorboard_port',\n 'hyper_params.training_hyperparams.sg_logger_params.launch_tensorboard',\n 'hyper_params.training_hyperparams.sg_logger_params.tb_files_user_prompt',\n 'hyper_params.training_hyperparams.sg_logger_params.save_checkpoints_remote',\n 'hyper_params.training_hyperparams.sg_logger_params.save_tensorboard_remote',\n 'hyper_params.training_hyperparams.tensorboard_port',\n 'hyper_params.training_hyperparams.freeze_pretrained',\n 'hyper_params.training_hyperparams.warmup_initial_lr',\n 'hyper_params.training_hyperparams.dataset_statistics',\n 'hyper_params.training_hyperparams.launch_tensorboard',\n 'hyper_params.training_hyperparams.train_metrics_list',\n 'hyper_params.training_hyperparams.valid_metrics_list',\n 'hyper_params.training_hyperparams.average_best_models',\n 'hyper_params.training_hyperparams.run_validation_freq',\n 'hyper_params.training_hyperparams.save_full_train_log',\n 'hyper_params.training_hyperparams.step_lr_update_freq',\n 'hyper_params.training_hyperparams.lr_schedule_function',\n 'hyper_params.training_hyperparams.save_ckpt_epoch_list',\n 'hyper_params.training_hyperparams.tb_files_user_prompt',\n 'hyper_params.training_hyperparams.cosine_final_lr_ratio',\n 'hyper_params.training_hyperparams.precise_bn_batch_size',\n 'hyper_params.training_hyperparams.log_installed_packages',\n 'hyper_params.training_hyperparams.save_tensorboard_to_s3',\n 'hyper_params.training_hyperparams.loss_logging_items_names',\n 'hyper_params.training_hyperparams.zero_weight_decay_on_bias_and_bn',\n 'hyper_params.training_hyperparams.greater_metric_to_watch_is_better']"
     },
     "metadata": {},
     "output_type": "display_data"
    }
   ],
   "source": [
    "runs_df = get_runs(filters)\n",
    "remove_hyp(runs_df)"
   ],
   "metadata": {
    "collapsed": false,
    "pycharm": {
     "name": "#%%\n"
    }
   }
  },
  {
   "cell_type": "code",
   "execution_count": 15,
   "outputs": [
    {
     "name": "stderr",
     "output_type": "stream",
     "text": [
      "C:\\Users\\pasqu\\AppData\\Local\\Temp\\ipykernel_9620\\1597903912.py:6: SettingWithCopyWarning: \n",
      "A value is trying to be set on a copy of a slice from a DataFrame\n",
      "\n",
      "See the caveats in the documentation: https://pandas.pydata.org/pandas-docs/stable/user_guide/indexing.html#returning-a-view-versus-a-copy\n",
      "  selected_runs.fillna(\"\", inplace=True)\n"
     ]
    }
   ],
   "source": [
    "projected_runs = runs_df[\n",
    "    selected_cols\n",
    "]\n",
    "# selected_runs = projected_runs[projected_runs['in_params.model.params.backbone'] == 'MiT-B0']\n",
    "selected_runs = projected_runs\n",
    "selected_runs.fillna(\"\", inplace=True)"
   ],
   "metadata": {
    "collapsed": false,
    "pycharm": {
     "name": "#%%\n"
    }
   }
  },
  {
   "cell_type": "code",
   "execution_count": 16,
   "outputs": [
    {
     "name": "stderr",
     "output_type": "stream",
     "text": [
      "C:\\Users\\pasqu\\AppData\\Local\\Temp\\ipykernel_9620\\1566115742.py:1: SettingWithCopyWarning: \n",
      "A value is trying to be set on a copy of a slice from a DataFrame\n",
      "\n",
      "See the caveats in the documentation: https://pandas.pydata.org/pandas-docs/stable/user_guide/indexing.html#returning-a-view-versus-a-copy\n",
      "  selected_runs.fillna(\"\", inplace=True)\n",
      "C:\\Users\\pasqu\\AppData\\Local\\Temp\\ipykernel_9620\\1566115742.py:2: SettingWithCopyWarning: \n",
      "A value is trying to be set on a copy of a slice from a DataFrame\n",
      "\n",
      "See the caveats in the documentation: https://pandas.pydata.org/pandas-docs/stable/user_guide/indexing.html#returning-a-view-versus-a-copy\n",
      "  selected_runs.rename(columns=renamings, inplace=True)\n",
      "C:\\Users\\pasqu\\AppData\\Local\\Temp\\ipykernel_9620\\1566115742.py:4: SettingWithCopyWarning: \n",
      "A value is trying to be set on a copy of a slice from a DataFrame.\n",
      "Try using .loc[row_indexer,col_indexer] = value instead\n",
      "\n",
      "See the caveats in the documentation: https://pandas.pydata.org/pandas-docs/stable/user_guide/indexing.html#returning-a-view-versus-a-copy\n",
      "  selected_runs[roundings] = selected_runs[roundings].round(5)\n"
     ]
    }
   ],
   "source": [
    "selected_runs.fillna(\"\", inplace=True)\n",
    "selected_runs.rename(columns=renamings, inplace=True)\n",
    "rename_values(selected_runs, value_renamings)\n",
    "selected_runs[roundings] = selected_runs[roundings].round(5)\n",
    "selected_runs = selected_runs.applymap(lambda x: ', '.join(x) if isinstance(x, list) else x)"
   ],
   "metadata": {
    "collapsed": false,
    "pycharm": {
     "name": "#%%\n"
    }
   }
  },
  {
   "cell_type": "code",
   "execution_count": 17,
   "outputs": [
    {
     "data": {
      "text/plain": "        Channels Gamma       F1  Precision   Recall\n0  R, G, NIR, RE   2.0  0.45437    0.66062  0.41898\n1       R, G, RE   2.0  0.47035    0.64726  0.43482\n2     R, G, NDVI   2.0  0.60111    0.56234  0.67370\n3      R, G, NIR   2.0  0.42824    0.61787  0.40716\n4  R, G, NIR, RE        0.49274    0.61444  0.48708\n5       R, G, RE        0.56004    0.53816  0.72676\n6     R, G, NDVI        0.54797    0.49072  0.91684\n7      R, G, NIR        0.51915    0.57686  0.57119",
      "text/html": "<div>\n<style scoped>\n    .dataframe tbody tr th:only-of-type {\n        vertical-align: middle;\n    }\n\n    .dataframe tbody tr th {\n        vertical-align: top;\n    }\n\n    .dataframe thead th {\n        text-align: right;\n    }\n</style>\n<table border=\"1\" class=\"dataframe\">\n  <thead>\n    <tr style=\"text-align: right;\">\n      <th></th>\n      <th>Channels</th>\n      <th>Gamma</th>\n      <th>F1</th>\n      <th>Precision</th>\n      <th>Recall</th>\n    </tr>\n  </thead>\n  <tbody>\n    <tr>\n      <th>0</th>\n      <td>R, G, NIR, RE</td>\n      <td>2.0</td>\n      <td>0.45437</td>\n      <td>0.66062</td>\n      <td>0.41898</td>\n    </tr>\n    <tr>\n      <th>1</th>\n      <td>R, G, RE</td>\n      <td>2.0</td>\n      <td>0.47035</td>\n      <td>0.64726</td>\n      <td>0.43482</td>\n    </tr>\n    <tr>\n      <th>2</th>\n      <td>R, G, NDVI</td>\n      <td>2.0</td>\n      <td>0.60111</td>\n      <td>0.56234</td>\n      <td>0.67370</td>\n    </tr>\n    <tr>\n      <th>3</th>\n      <td>R, G, NIR</td>\n      <td>2.0</td>\n      <td>0.42824</td>\n      <td>0.61787</td>\n      <td>0.40716</td>\n    </tr>\n    <tr>\n      <th>4</th>\n      <td>R, G, NIR, RE</td>\n      <td></td>\n      <td>0.49274</td>\n      <td>0.61444</td>\n      <td>0.48708</td>\n    </tr>\n    <tr>\n      <th>5</th>\n      <td>R, G, RE</td>\n      <td></td>\n      <td>0.56004</td>\n      <td>0.53816</td>\n      <td>0.72676</td>\n    </tr>\n    <tr>\n      <th>6</th>\n      <td>R, G, NDVI</td>\n      <td></td>\n      <td>0.54797</td>\n      <td>0.49072</td>\n      <td>0.91684</td>\n    </tr>\n    <tr>\n      <th>7</th>\n      <td>R, G, NIR</td>\n      <td></td>\n      <td>0.51915</td>\n      <td>0.57686</td>\n      <td>0.57119</td>\n    </tr>\n  </tbody>\n</table>\n</div>"
     },
     "execution_count": 17,
     "metadata": {},
     "output_type": "execute_result"
    }
   ],
   "source": [
    "selected_runs"
   ],
   "metadata": {
    "collapsed": false,
    "pycharm": {
     "name": "#%%\n"
    }
   }
  },
  {
   "cell_type": "code",
   "execution_count": 18,
   "outputs": [],
   "source": [
    "selected_runs.to_csv(\"../../exps/doublelawinpretrained.csv\")"
   ],
   "metadata": {
    "collapsed": false,
    "pycharm": {
     "name": "#%%\n"
    }
   }
  },
  {
   "cell_type": "markdown",
   "source": [
    "## Double Encoder Pre-Trained Drop"
   ],
   "metadata": {
    "collapsed": false,
    "pycharm": {
     "name": "#%% md\n"
    }
   }
  },
  {
   "cell_type": "code",
   "execution_count": 37,
   "outputs": [],
   "source": [
    "filters = {\n",
    "    'group': 'DLPretrainedDrop'\n",
    "}\n",
    "selected_cols = [\n",
    "    'in_params.dataset.channels',\n",
    "    'in_params.train_params.loss.params.gamma',\n",
    "    'train_WrapF1',\n",
    "    'f1',\n",
    "    'precision',\n",
    "    'recall'\n",
    "]\n",
    "roundings = ['F1', 'Precision', 'Recall', 'Train F1']"
   ],
   "metadata": {
    "collapsed": false,
    "pycharm": {
     "name": "#%%\n"
    }
   }
  },
  {
   "cell_type": "code",
   "execution_count": 38,
   "outputs": [
    {
     "data": {
      "text/plain": "['hyper_params.arch_params.schema',\n 'hyper_params.arch_params.sync_bn',\n 'hyper_params.arch_params.backbone',\n 'hyper_params.arch_params.in_channels',\n 'hyper_params.arch_params.num_classes',\n 'hyper_params.arch_params.out_channels',\n 'hyper_params.arch_params.main_channels',\n 'hyper_params.arch_params.input_channels',\n 'hyper_params.arch_params.output_channels',\n 'hyper_params.arch_params.side_pretrained',\n 'hyper_params.arch_params.backbone_pretrained',\n 'hyper_params.dataset_params.root',\n 'hyper_params.dataset_params.size',\n 'hyper_params.dataset_params.schema',\n 'hyper_params.dataset_params.s3_link',\n 'hyper_params.dataset_params.channels',\n 'hyper_params.dataset_params.hor_flip',\n 'hyper_params.dataset_params.ver_flip',\n 'hyper_params.dataset_params.crop_size',\n 'hyper_params.dataset_params.batch_size',\n 'hyper_params.dataset_params.dataset_dir',\n 'hyper_params.dataset_params.num_classes',\n 'hyper_params.dataset_params.num_workers',\n 'hyper_params.dataset_params.return_path',\n 'hyper_params.dataset_params.test_folders',\n 'hyper_params.dataset_params.train_folders',\n 'hyper_params.dataset_params.val_batch_size',\n 'hyper_params.dataset_params.test_batch_size',\n 'hyper_params.additional_log_items.multi_gpu',\n 'hyper_params.additional_log_items.initial_LR',\n 'hyper_params.additional_log_items.device_type',\n 'hyper_params.additional_log_items.num_devices',\n 'hyper_params.additional_log_items.installed_packages',\n 'hyper_params.training_hyperparams.ema',\n 'hyper_params.training_hyperparams.loss',\n 'hyper_params.training_hyperparams.seed',\n 'hyper_params.training_hyperparams.schema.if.properties.lr_mode.const',\n 'hyper_params.training_hyperparams.schema.then.required',\n 'hyper_params.training_hyperparams.schema.type',\n 'hyper_params.training_hyperparams.schema.required',\n 'hyper_params.training_hyperparams.schema.properties.initial_lr.type',\n 'hyper_params.training_hyperparams.schema.properties.initial_lr.maximum',\n 'hyper_params.training_hyperparams.schema.properties.initial_lr.exclusiveMinimum',\n 'hyper_params.training_hyperparams.schema.properties.max_epochs.type',\n 'hyper_params.training_hyperparams.schema.properties.max_epochs.minimum',\n 'hyper_params.training_hyperparams.schema.properties.lr_decay_factor.type',\n 'hyper_params.training_hyperparams.schema.properties.lr_decay_factor.maximum',\n 'hyper_params.training_hyperparams.schema.properties.lr_decay_factor.minimum',\n 'hyper_params.training_hyperparams.schema.properties.lr_warmup_epochs.type',\n 'hyper_params.training_hyperparams.schema.properties.lr_warmup_epochs.maximum',\n 'hyper_params.training_hyperparams.schema.properties.lr_warmup_epochs.minimum',\n 'hyper_params.training_hyperparams.lr_mode',\n 'hyper_params.training_hyperparams.optimizer',\n 'hyper_params.training_hyperparams.sg_logger',\n 'hyper_params.training_hyperparams.initial_lr',\n 'hyper_params.training_hyperparams.lr_updates',\n 'hyper_params.training_hyperparams.max_epochs',\n 'hyper_params.training_hyperparams.precise_bn',\n 'hyper_params.training_hyperparams.save_model',\n 'hyper_params.training_hyperparams.silent_mode',\n 'hyper_params.training_hyperparams.warmup_mode',\n 'hyper_params.training_hyperparams.load_opt_params',\n 'hyper_params.training_hyperparams.metric_to_watch',\n 'hyper_params.training_hyperparams.mixed_precision',\n 'hyper_params.training_hyperparams.phase_callbacks',\n 'hyper_params.training_hyperparams.batch_accumulate',\n 'hyper_params.training_hyperparams.lr_warmup_epochs',\n 'hyper_params.training_hyperparams.optimizer_params.weight_decay',\n 'hyper_params.training_hyperparams.sg_logger_params.tags',\n 'hyper_params.training_hyperparams.sg_logger_params.entity',\n 'hyper_params.training_hyperparams.sg_logger_params.project_name',\n 'hyper_params.training_hyperparams.sg_logger_params.save_logs_remote',\n 'hyper_params.training_hyperparams.sg_logger_params.tensorboard_port',\n 'hyper_params.training_hyperparams.sg_logger_params.launch_tensorboard',\n 'hyper_params.training_hyperparams.sg_logger_params.tb_files_user_prompt',\n 'hyper_params.training_hyperparams.sg_logger_params.save_checkpoints_remote',\n 'hyper_params.training_hyperparams.sg_logger_params.save_tensorboard_remote',\n 'hyper_params.training_hyperparams.tensorboard_port',\n 'hyper_params.training_hyperparams.freeze_pretrained',\n 'hyper_params.training_hyperparams.warmup_initial_lr',\n 'hyper_params.training_hyperparams.dataset_statistics',\n 'hyper_params.training_hyperparams.launch_tensorboard',\n 'hyper_params.training_hyperparams.train_metrics_list',\n 'hyper_params.training_hyperparams.valid_metrics_list',\n 'hyper_params.training_hyperparams.average_best_models',\n 'hyper_params.training_hyperparams.run_validation_freq',\n 'hyper_params.training_hyperparams.save_full_train_log',\n 'hyper_params.training_hyperparams.step_lr_update_freq',\n 'hyper_params.training_hyperparams.lr_schedule_function',\n 'hyper_params.training_hyperparams.save_ckpt_epoch_list',\n 'hyper_params.training_hyperparams.tb_files_user_prompt',\n 'hyper_params.training_hyperparams.cosine_final_lr_ratio',\n 'hyper_params.training_hyperparams.precise_bn_batch_size',\n 'hyper_params.training_hyperparams.log_installed_packages',\n 'hyper_params.training_hyperparams.save_tensorboard_to_s3',\n 'hyper_params.training_hyperparams.loss_logging_items_names',\n 'hyper_params.training_hyperparams.zero_weight_decay_on_bias_and_bn',\n 'hyper_params.training_hyperparams.greater_metric_to_watch_is_better']"
     },
     "metadata": {},
     "output_type": "display_data"
    }
   ],
   "source": [
    "runs_df = get_runs(filters)\n",
    "remove_hyp(runs_df)"
   ],
   "metadata": {
    "collapsed": false,
    "pycharm": {
     "name": "#%%\n"
    }
   }
  },
  {
   "cell_type": "code",
   "execution_count": 39,
   "outputs": [],
   "source": [
    "projected_runs = runs_df[\n",
    "    selected_cols\n",
    "]\n",
    "# selected_runs = projected_runs[projected_runs['in_params.model.params.backbone'] == 'MiT-B0']\n",
    "selected_runs = projected_runs"
   ],
   "metadata": {
    "collapsed": false,
    "pycharm": {
     "name": "#%%\n"
    }
   }
  },
  {
   "cell_type": "code",
   "execution_count": 40,
   "outputs": [
    {
     "name": "stderr",
     "output_type": "stream",
     "text": [
      "C:\\Users\\pasqu\\AppData\\Local\\Temp\\ipykernel_9620\\1566115742.py:1: SettingWithCopyWarning: \n",
      "A value is trying to be set on a copy of a slice from a DataFrame\n",
      "\n",
      "See the caveats in the documentation: https://pandas.pydata.org/pandas-docs/stable/user_guide/indexing.html#returning-a-view-versus-a-copy\n",
      "  selected_runs.fillna(\"\", inplace=True)\n",
      "C:\\Users\\pasqu\\AppData\\Local\\Temp\\ipykernel_9620\\1566115742.py:2: SettingWithCopyWarning: \n",
      "A value is trying to be set on a copy of a slice from a DataFrame\n",
      "\n",
      "See the caveats in the documentation: https://pandas.pydata.org/pandas-docs/stable/user_guide/indexing.html#returning-a-view-versus-a-copy\n",
      "  selected_runs.rename(columns=renamings, inplace=True)\n",
      "C:\\Users\\pasqu\\AppData\\Local\\Temp\\ipykernel_9620\\1566115742.py:4: SettingWithCopyWarning: \n",
      "A value is trying to be set on a copy of a slice from a DataFrame.\n",
      "Try using .loc[row_indexer,col_indexer] = value instead\n",
      "\n",
      "See the caveats in the documentation: https://pandas.pydata.org/pandas-docs/stable/user_guide/indexing.html#returning-a-view-versus-a-copy\n",
      "  selected_runs[roundings] = selected_runs[roundings].round(5)\n"
     ]
    }
   ],
   "source": [
    "selected_runs.fillna(\"\", inplace=True)\n",
    "selected_runs.rename(columns=renamings, inplace=True)\n",
    "rename_values(selected_runs, value_renamings)\n",
    "selected_runs[roundings] = selected_runs[roundings].round(5)\n",
    "selected_runs = selected_runs.applymap(lambda x: ', '.join(x) if isinstance(x, list) else x)"
   ],
   "metadata": {
    "collapsed": false,
    "pycharm": {
     "name": "#%%\n"
    }
   }
  },
  {
   "cell_type": "code",
   "execution_count": 41,
   "outputs": [
    {
     "data": {
      "text/plain": "        Channels Gamma  Train F1       F1  Precision   Recall\n0  R, G, NIR, RE   2.0   0.74551  0.42966    0.65121  0.39082\n1       R, G, RE   2.0   0.77007  0.45847    0.66702  0.41501\n2     R, G, NDVI   2.0   0.77567  0.53959    0.60034  0.68802\n3      R, G, NIR   2.0   0.73583  0.40448    0.61179  0.39592\n4  R, G, NIR, RE         0.62896  0.55958    0.53445  0.64289\n5       R, G, RE         0.61162  0.53497    0.53002  0.77198\n6     R, G, NDVI         0.67236  0.50357    0.49262  0.79818\n7      R, G, NIR         0.60430  0.48084    0.53993  0.69752",
      "text/html": "<div>\n<style scoped>\n    .dataframe tbody tr th:only-of-type {\n        vertical-align: middle;\n    }\n\n    .dataframe tbody tr th {\n        vertical-align: top;\n    }\n\n    .dataframe thead th {\n        text-align: right;\n    }\n</style>\n<table border=\"1\" class=\"dataframe\">\n  <thead>\n    <tr style=\"text-align: right;\">\n      <th></th>\n      <th>Channels</th>\n      <th>Gamma</th>\n      <th>Train F1</th>\n      <th>F1</th>\n      <th>Precision</th>\n      <th>Recall</th>\n    </tr>\n  </thead>\n  <tbody>\n    <tr>\n      <th>0</th>\n      <td>R, G, NIR, RE</td>\n      <td>2.0</td>\n      <td>0.74551</td>\n      <td>0.42966</td>\n      <td>0.65121</td>\n      <td>0.39082</td>\n    </tr>\n    <tr>\n      <th>1</th>\n      <td>R, G, RE</td>\n      <td>2.0</td>\n      <td>0.77007</td>\n      <td>0.45847</td>\n      <td>0.66702</td>\n      <td>0.41501</td>\n    </tr>\n    <tr>\n      <th>2</th>\n      <td>R, G, NDVI</td>\n      <td>2.0</td>\n      <td>0.77567</td>\n      <td>0.53959</td>\n      <td>0.60034</td>\n      <td>0.68802</td>\n    </tr>\n    <tr>\n      <th>3</th>\n      <td>R, G, NIR</td>\n      <td>2.0</td>\n      <td>0.73583</td>\n      <td>0.40448</td>\n      <td>0.61179</td>\n      <td>0.39592</td>\n    </tr>\n    <tr>\n      <th>4</th>\n      <td>R, G, NIR, RE</td>\n      <td></td>\n      <td>0.62896</td>\n      <td>0.55958</td>\n      <td>0.53445</td>\n      <td>0.64289</td>\n    </tr>\n    <tr>\n      <th>5</th>\n      <td>R, G, RE</td>\n      <td></td>\n      <td>0.61162</td>\n      <td>0.53497</td>\n      <td>0.53002</td>\n      <td>0.77198</td>\n    </tr>\n    <tr>\n      <th>6</th>\n      <td>R, G, NDVI</td>\n      <td></td>\n      <td>0.67236</td>\n      <td>0.50357</td>\n      <td>0.49262</td>\n      <td>0.79818</td>\n    </tr>\n    <tr>\n      <th>7</th>\n      <td>R, G, NIR</td>\n      <td></td>\n      <td>0.60430</td>\n      <td>0.48084</td>\n      <td>0.53993</td>\n      <td>0.69752</td>\n    </tr>\n  </tbody>\n</table>\n</div>"
     },
     "execution_count": 41,
     "metadata": {},
     "output_type": "execute_result"
    }
   ],
   "source": [
    "selected_runs"
   ],
   "metadata": {
    "collapsed": false,
    "pycharm": {
     "name": "#%%\n"
    }
   }
  },
  {
   "cell_type": "code",
   "execution_count": 42,
   "outputs": [],
   "source": [
    "selected_runs.to_csv(\"../../exps/dlpretraineddrop.csv\")"
   ],
   "metadata": {
    "collapsed": false,
    "pycharm": {
     "name": "#%%\n"
    }
   }
  },
  {
   "cell_type": "markdown",
   "source": [
    "## RGB Weights"
   ],
   "metadata": {
    "collapsed": false,
    "pycharm": {
     "name": "#%% md\n"
    }
   }
  },
  {
   "cell_type": "code",
   "execution_count": 55,
   "outputs": [],
   "source": [
    "filters = {\n",
    "    'group': 'RedEdge'\n",
    "}\n",
    "selected_cols = [\n",
    "    'in_params.dataset.channels',\n",
    "    'in_params.train_params.loss.params.gamma',\n",
    "    'in_params.model.params.main_pretrained',\n",
    "    'f1',\n",
    "    'precision',\n",
    "    'recall'\n",
    "]\n",
    "roundings = ['F1', 'Precision', 'Recall']"
   ],
   "metadata": {
    "collapsed": false,
    "pycharm": {
     "name": "#%%\n"
    }
   }
  },
  {
   "cell_type": "code",
   "execution_count": 56,
   "outputs": [
    {
     "data": {
      "text/plain": "['hyper_params.arch_params.schema',\n 'hyper_params.arch_params.sync_bn',\n 'hyper_params.arch_params.backbone',\n 'hyper_params.arch_params.in_channels',\n 'hyper_params.arch_params.num_classes',\n 'hyper_params.arch_params.out_channels',\n 'hyper_params.arch_params.main_channels',\n 'hyper_params.arch_params.input_channels',\n 'hyper_params.arch_params.main_pretrained',\n 'hyper_params.arch_params.output_channels',\n 'hyper_params.arch_params.side_pretrained',\n 'hyper_params.arch_params.backbone_pretrained',\n 'hyper_params.dataset_params.root',\n 'hyper_params.dataset_params.size',\n 'hyper_params.dataset_params.schema',\n 'hyper_params.dataset_params.s3_link',\n 'hyper_params.dataset_params.channels',\n 'hyper_params.dataset_params.hor_flip',\n 'hyper_params.dataset_params.ver_flip',\n 'hyper_params.dataset_params.crop_size',\n 'hyper_params.dataset_params.batch_size',\n 'hyper_params.dataset_params.dataset_dir',\n 'hyper_params.dataset_params.num_classes',\n 'hyper_params.dataset_params.num_workers',\n 'hyper_params.dataset_params.return_path',\n 'hyper_params.dataset_params.test_folders',\n 'hyper_params.dataset_params.train_folders',\n 'hyper_params.dataset_params.val_batch_size',\n 'hyper_params.dataset_params.test_batch_size',\n 'hyper_params.additional_log_items.multi_gpu',\n 'hyper_params.additional_log_items.initial_LR',\n 'hyper_params.additional_log_items.device_type',\n 'hyper_params.additional_log_items.num_devices',\n 'hyper_params.additional_log_items.installed_packages',\n 'hyper_params.training_hyperparams.ema',\n 'hyper_params.training_hyperparams.loss',\n 'hyper_params.training_hyperparams.seed',\n 'hyper_params.training_hyperparams.schema.if.properties.lr_mode.const',\n 'hyper_params.training_hyperparams.schema.then.required',\n 'hyper_params.training_hyperparams.schema.type',\n 'hyper_params.training_hyperparams.schema.required',\n 'hyper_params.training_hyperparams.schema.properties.initial_lr.type',\n 'hyper_params.training_hyperparams.schema.properties.initial_lr.maximum',\n 'hyper_params.training_hyperparams.schema.properties.initial_lr.exclusiveMinimum',\n 'hyper_params.training_hyperparams.schema.properties.max_epochs.type',\n 'hyper_params.training_hyperparams.schema.properties.max_epochs.minimum',\n 'hyper_params.training_hyperparams.schema.properties.lr_decay_factor.type',\n 'hyper_params.training_hyperparams.schema.properties.lr_decay_factor.maximum',\n 'hyper_params.training_hyperparams.schema.properties.lr_decay_factor.minimum',\n 'hyper_params.training_hyperparams.schema.properties.lr_warmup_epochs.type',\n 'hyper_params.training_hyperparams.schema.properties.lr_warmup_epochs.maximum',\n 'hyper_params.training_hyperparams.schema.properties.lr_warmup_epochs.minimum',\n 'hyper_params.training_hyperparams.lr_mode',\n 'hyper_params.training_hyperparams.optimizer',\n 'hyper_params.training_hyperparams.sg_logger',\n 'hyper_params.training_hyperparams.initial_lr',\n 'hyper_params.training_hyperparams.lr_updates',\n 'hyper_params.training_hyperparams.max_epochs',\n 'hyper_params.training_hyperparams.precise_bn',\n 'hyper_params.training_hyperparams.save_model',\n 'hyper_params.training_hyperparams.silent_mode',\n 'hyper_params.training_hyperparams.warmup_mode',\n 'hyper_params.training_hyperparams.load_opt_params',\n 'hyper_params.training_hyperparams.metric_to_watch',\n 'hyper_params.training_hyperparams.mixed_precision',\n 'hyper_params.training_hyperparams.phase_callbacks',\n 'hyper_params.training_hyperparams.batch_accumulate',\n 'hyper_params.training_hyperparams.lr_warmup_epochs',\n 'hyper_params.training_hyperparams.optimizer_params.weight_decay',\n 'hyper_params.training_hyperparams.sg_logger_params.tags',\n 'hyper_params.training_hyperparams.sg_logger_params.entity',\n 'hyper_params.training_hyperparams.sg_logger_params.project_name',\n 'hyper_params.training_hyperparams.sg_logger_params.save_logs_remote',\n 'hyper_params.training_hyperparams.sg_logger_params.tensorboard_port',\n 'hyper_params.training_hyperparams.sg_logger_params.launch_tensorboard',\n 'hyper_params.training_hyperparams.sg_logger_params.tb_files_user_prompt',\n 'hyper_params.training_hyperparams.sg_logger_params.save_checkpoints_remote',\n 'hyper_params.training_hyperparams.sg_logger_params.save_tensorboard_remote',\n 'hyper_params.training_hyperparams.tensorboard_port',\n 'hyper_params.training_hyperparams.freeze_pretrained',\n 'hyper_params.training_hyperparams.warmup_initial_lr',\n 'hyper_params.training_hyperparams.dataset_statistics',\n 'hyper_params.training_hyperparams.launch_tensorboard',\n 'hyper_params.training_hyperparams.train_metrics_list',\n 'hyper_params.training_hyperparams.valid_metrics_list',\n 'hyper_params.training_hyperparams.average_best_models',\n 'hyper_params.training_hyperparams.run_validation_freq',\n 'hyper_params.training_hyperparams.save_full_train_log',\n 'hyper_params.training_hyperparams.step_lr_update_freq',\n 'hyper_params.training_hyperparams.lr_schedule_function',\n 'hyper_params.training_hyperparams.save_ckpt_epoch_list',\n 'hyper_params.training_hyperparams.tb_files_user_prompt',\n 'hyper_params.training_hyperparams.cosine_final_lr_ratio',\n 'hyper_params.training_hyperparams.precise_bn_batch_size',\n 'hyper_params.training_hyperparams.log_installed_packages',\n 'hyper_params.training_hyperparams.save_tensorboard_to_s3',\n 'hyper_params.training_hyperparams.loss_logging_items_names',\n 'hyper_params.training_hyperparams.zero_weight_decay_on_bias_and_bn',\n 'hyper_params.training_hyperparams.greater_metric_to_watch_is_better']"
     },
     "metadata": {},
     "output_type": "display_data"
    }
   ],
   "source": [
    "runs_df = get_runs(filters)\n",
    "remove_hyp(runs_df)"
   ],
   "metadata": {
    "collapsed": false,
    "pycharm": {
     "name": "#%%\n"
    }
   }
  },
  {
   "cell_type": "code",
   "execution_count": 57,
   "outputs": [],
   "source": [
    "projected_runs = runs_df[\n",
    "    selected_cols\n",
    "]\n",
    "# selected_runs = projected_runs[projected_runs['in_params.model.params.backbone'] == 'MiT-B0']\n",
    "selected_runs = projected_runs"
   ],
   "metadata": {
    "collapsed": false,
    "pycharm": {
     "name": "#%%\n"
    }
   }
  },
  {
   "cell_type": "code",
   "execution_count": 58,
   "outputs": [
    {
     "data": {
      "text/plain": "   in_params.dataset.channels  in_params.train_params.loss.params.gamma  \\\n0                         CIR                                       2.0   \n1                         CIR                                       NaN   \n2                      [NDVI]                                       2.0   \n3                      [NDVI]                                       NaN   \n4                         CIR                                       2.0   \n5                         CIR                                       NaN   \n6                      [NDVI]                                       2.0   \n7                      [NDVI]                                       NaN   \n8             [R, G, NIR, RE]                                       2.0   \n9             [R, G, NIR, RE]                                       2.0   \n10            [R, G, NIR, RE]                                       NaN   \n11            [R, G, NIR, RE]                                       NaN   \n\n   in_params.model.params.main_pretrained        f1  precision    recall  \n0                               [G, G, R]  0.527119   0.628874  0.481232  \n1                               [G, G, R]  0.544998   0.516580  0.767338  \n2                                     [G]  0.646018   0.613757  0.698153  \n3                                     [G]  0.486656   0.437619  0.927082  \n4                               [G, G, R]  0.525054   0.639817  0.510120  \n5                               [G, G, R]  0.603244   0.589138  0.756053  \n6                                     [G]  0.571616   0.607414  0.633640  \n7                                     [G]  0.576701   0.503432  0.922891  \n8                            [R, G, G, G]  0.447201   0.710828  0.433224  \n9                            [R, G, G, G]  0.498682   0.611766  0.452114  \n10                           [R, G, G, G]  0.615653   0.653290  0.696917  \n11                           [R, G, G, G]  0.534063   0.496307  0.752607  ",
      "text/html": "<div>\n<style scoped>\n    .dataframe tbody tr th:only-of-type {\n        vertical-align: middle;\n    }\n\n    .dataframe tbody tr th {\n        vertical-align: top;\n    }\n\n    .dataframe thead th {\n        text-align: right;\n    }\n</style>\n<table border=\"1\" class=\"dataframe\">\n  <thead>\n    <tr style=\"text-align: right;\">\n      <th></th>\n      <th>in_params.dataset.channels</th>\n      <th>in_params.train_params.loss.params.gamma</th>\n      <th>in_params.model.params.main_pretrained</th>\n      <th>f1</th>\n      <th>precision</th>\n      <th>recall</th>\n    </tr>\n  </thead>\n  <tbody>\n    <tr>\n      <th>0</th>\n      <td>CIR</td>\n      <td>2.0</td>\n      <td>[G, G, R]</td>\n      <td>0.527119</td>\n      <td>0.628874</td>\n      <td>0.481232</td>\n    </tr>\n    <tr>\n      <th>1</th>\n      <td>CIR</td>\n      <td>NaN</td>\n      <td>[G, G, R]</td>\n      <td>0.544998</td>\n      <td>0.516580</td>\n      <td>0.767338</td>\n    </tr>\n    <tr>\n      <th>2</th>\n      <td>[NDVI]</td>\n      <td>2.0</td>\n      <td>[G]</td>\n      <td>0.646018</td>\n      <td>0.613757</td>\n      <td>0.698153</td>\n    </tr>\n    <tr>\n      <th>3</th>\n      <td>[NDVI]</td>\n      <td>NaN</td>\n      <td>[G]</td>\n      <td>0.486656</td>\n      <td>0.437619</td>\n      <td>0.927082</td>\n    </tr>\n    <tr>\n      <th>4</th>\n      <td>CIR</td>\n      <td>2.0</td>\n      <td>[G, G, R]</td>\n      <td>0.525054</td>\n      <td>0.639817</td>\n      <td>0.510120</td>\n    </tr>\n    <tr>\n      <th>5</th>\n      <td>CIR</td>\n      <td>NaN</td>\n      <td>[G, G, R]</td>\n      <td>0.603244</td>\n      <td>0.589138</td>\n      <td>0.756053</td>\n    </tr>\n    <tr>\n      <th>6</th>\n      <td>[NDVI]</td>\n      <td>2.0</td>\n      <td>[G]</td>\n      <td>0.571616</td>\n      <td>0.607414</td>\n      <td>0.633640</td>\n    </tr>\n    <tr>\n      <th>7</th>\n      <td>[NDVI]</td>\n      <td>NaN</td>\n      <td>[G]</td>\n      <td>0.576701</td>\n      <td>0.503432</td>\n      <td>0.922891</td>\n    </tr>\n    <tr>\n      <th>8</th>\n      <td>[R, G, NIR, RE]</td>\n      <td>2.0</td>\n      <td>[R, G, G, G]</td>\n      <td>0.447201</td>\n      <td>0.710828</td>\n      <td>0.433224</td>\n    </tr>\n    <tr>\n      <th>9</th>\n      <td>[R, G, NIR, RE]</td>\n      <td>2.0</td>\n      <td>[R, G, G, G]</td>\n      <td>0.498682</td>\n      <td>0.611766</td>\n      <td>0.452114</td>\n    </tr>\n    <tr>\n      <th>10</th>\n      <td>[R, G, NIR, RE]</td>\n      <td>NaN</td>\n      <td>[R, G, G, G]</td>\n      <td>0.615653</td>\n      <td>0.653290</td>\n      <td>0.696917</td>\n    </tr>\n    <tr>\n      <th>11</th>\n      <td>[R, G, NIR, RE]</td>\n      <td>NaN</td>\n      <td>[R, G, G, G]</td>\n      <td>0.534063</td>\n      <td>0.496307</td>\n      <td>0.752607</td>\n    </tr>\n  </tbody>\n</table>\n</div>"
     },
     "execution_count": 58,
     "metadata": {},
     "output_type": "execute_result"
    }
   ],
   "source": [
    "selected_runs"
   ],
   "metadata": {
    "collapsed": false,
    "pycharm": {
     "name": "#%%\n"
    }
   }
  },
  {
   "cell_type": "markdown",
   "source": [
    "## Laweed"
   ],
   "metadata": {
    "collapsed": false,
    "pycharm": {
     "name": "#%% md\n"
    }
   }
  },
  {
   "cell_type": "code",
   "execution_count": 75,
   "outputs": [],
   "source": [
    "filters = {\n",
    "    'group': 'RedEdge'\n",
    "}\n",
    "selected_cols = [\n",
    "    'in_params.dataset.channels',\n",
    "    'in_params.train_params.loss.params.gamma',\n",
    "    'in_params.train_params.freeze_pretrained',\n",
    "    'f1',\n",
    "    'precision',\n",
    "    'recall'\n",
    "]\n",
    "roundings = ['F1', 'Precision', 'Recall']"
   ],
   "metadata": {
    "collapsed": false,
    "pycharm": {
     "name": "#%%\n"
    }
   }
  },
  {
   "cell_type": "code",
   "execution_count": 76,
   "outputs": [
    {
     "data": {
      "text/plain": "['hyper_params.arch_params.schema',\n 'hyper_params.arch_params.sync_bn',\n 'hyper_params.arch_params.backbone',\n 'hyper_params.arch_params.in_channels',\n 'hyper_params.arch_params.num_classes',\n 'hyper_params.arch_params.out_channels',\n 'hyper_params.arch_params.main_channels',\n 'hyper_params.arch_params.input_channels',\n 'hyper_params.arch_params.main_pretrained',\n 'hyper_params.arch_params.output_channels',\n 'hyper_params.arch_params.side_pretrained',\n 'hyper_params.arch_params.backbone_pretrained',\n 'hyper_params.dataset_params.root',\n 'hyper_params.dataset_params.size',\n 'hyper_params.dataset_params.schema',\n 'hyper_params.dataset_params.s3_link',\n 'hyper_params.dataset_params.channels',\n 'hyper_params.dataset_params.hor_flip',\n 'hyper_params.dataset_params.ver_flip',\n 'hyper_params.dataset_params.crop_size',\n 'hyper_params.dataset_params.batch_size',\n 'hyper_params.dataset_params.dataset_dir',\n 'hyper_params.dataset_params.num_classes',\n 'hyper_params.dataset_params.num_workers',\n 'hyper_params.dataset_params.return_path',\n 'hyper_params.dataset_params.test_folders',\n 'hyper_params.dataset_params.train_folders',\n 'hyper_params.dataset_params.val_batch_size',\n 'hyper_params.dataset_params.test_batch_size',\n 'hyper_params.additional_log_items.multi_gpu',\n 'hyper_params.additional_log_items.initial_LR',\n 'hyper_params.additional_log_items.device_type',\n 'hyper_params.additional_log_items.num_devices',\n 'hyper_params.additional_log_items.installed_packages',\n 'hyper_params.training_hyperparams.ema',\n 'hyper_params.training_hyperparams.loss',\n 'hyper_params.training_hyperparams.seed',\n 'hyper_params.training_hyperparams.schema.if.properties.lr_mode.const',\n 'hyper_params.training_hyperparams.schema.then.required',\n 'hyper_params.training_hyperparams.schema.type',\n 'hyper_params.training_hyperparams.schema.required',\n 'hyper_params.training_hyperparams.schema.properties.initial_lr.type',\n 'hyper_params.training_hyperparams.schema.properties.initial_lr.maximum',\n 'hyper_params.training_hyperparams.schema.properties.initial_lr.exclusiveMinimum',\n 'hyper_params.training_hyperparams.schema.properties.max_epochs.type',\n 'hyper_params.training_hyperparams.schema.properties.max_epochs.minimum',\n 'hyper_params.training_hyperparams.schema.properties.lr_decay_factor.type',\n 'hyper_params.training_hyperparams.schema.properties.lr_decay_factor.maximum',\n 'hyper_params.training_hyperparams.schema.properties.lr_decay_factor.minimum',\n 'hyper_params.training_hyperparams.schema.properties.lr_warmup_epochs.type',\n 'hyper_params.training_hyperparams.schema.properties.lr_warmup_epochs.maximum',\n 'hyper_params.training_hyperparams.schema.properties.lr_warmup_epochs.minimum',\n 'hyper_params.training_hyperparams.lr_mode',\n 'hyper_params.training_hyperparams.optimizer',\n 'hyper_params.training_hyperparams.sg_logger',\n 'hyper_params.training_hyperparams.initial_lr',\n 'hyper_params.training_hyperparams.lr_updates',\n 'hyper_params.training_hyperparams.max_epochs',\n 'hyper_params.training_hyperparams.precise_bn',\n 'hyper_params.training_hyperparams.save_model',\n 'hyper_params.training_hyperparams.silent_mode',\n 'hyper_params.training_hyperparams.warmup_mode',\n 'hyper_params.training_hyperparams.load_opt_params',\n 'hyper_params.training_hyperparams.metric_to_watch',\n 'hyper_params.training_hyperparams.mixed_precision',\n 'hyper_params.training_hyperparams.phase_callbacks',\n 'hyper_params.training_hyperparams.batch_accumulate',\n 'hyper_params.training_hyperparams.lr_warmup_epochs',\n 'hyper_params.training_hyperparams.optimizer_params.weight_decay',\n 'hyper_params.training_hyperparams.sg_logger_params.tags',\n 'hyper_params.training_hyperparams.sg_logger_params.entity',\n 'hyper_params.training_hyperparams.sg_logger_params.project_name',\n 'hyper_params.training_hyperparams.sg_logger_params.save_logs_remote',\n 'hyper_params.training_hyperparams.sg_logger_params.tensorboard_port',\n 'hyper_params.training_hyperparams.sg_logger_params.launch_tensorboard',\n 'hyper_params.training_hyperparams.sg_logger_params.tb_files_user_prompt',\n 'hyper_params.training_hyperparams.sg_logger_params.save_checkpoints_remote',\n 'hyper_params.training_hyperparams.sg_logger_params.save_tensorboard_remote',\n 'hyper_params.training_hyperparams.tensorboard_port',\n 'hyper_params.training_hyperparams.freeze_pretrained',\n 'hyper_params.training_hyperparams.warmup_initial_lr',\n 'hyper_params.training_hyperparams.dataset_statistics',\n 'hyper_params.training_hyperparams.launch_tensorboard',\n 'hyper_params.training_hyperparams.train_metrics_list',\n 'hyper_params.training_hyperparams.valid_metrics_list',\n 'hyper_params.training_hyperparams.average_best_models',\n 'hyper_params.training_hyperparams.run_validation_freq',\n 'hyper_params.training_hyperparams.save_full_train_log',\n 'hyper_params.training_hyperparams.step_lr_update_freq',\n 'hyper_params.training_hyperparams.lr_schedule_function',\n 'hyper_params.training_hyperparams.save_ckpt_epoch_list',\n 'hyper_params.training_hyperparams.tb_files_user_prompt',\n 'hyper_params.training_hyperparams.cosine_final_lr_ratio',\n 'hyper_params.training_hyperparams.precise_bn_batch_size',\n 'hyper_params.training_hyperparams.log_installed_packages',\n 'hyper_params.training_hyperparams.save_tensorboard_to_s3',\n 'hyper_params.training_hyperparams.loss_logging_items_names',\n 'hyper_params.training_hyperparams.zero_weight_decay_on_bias_and_bn',\n 'hyper_params.training_hyperparams.greater_metric_to_watch_is_better']"
     },
     "metadata": {},
     "output_type": "display_data"
    }
   ],
   "source": [
    "runs_df = get_runs(filters)\n",
    "remove_hyp(runs_df)"
   ],
   "metadata": {
    "collapsed": false,
    "pycharm": {
     "name": "#%%\n"
    }
   }
  },
  {
   "cell_type": "code",
   "execution_count": 77,
   "outputs": [],
   "source": [
    "projected_runs = runs_df[\n",
    "    selected_cols\n",
    "]\n",
    "# selected_runs = projected_runs[projected_runs['in_params.model.params.backbone'] == 'MiT-B0']\n",
    "selected_runs = projected_runs"
   ],
   "metadata": {
    "collapsed": false,
    "pycharm": {
     "name": "#%%\n"
    }
   }
  },
  {
   "cell_type": "code",
   "execution_count": 85,
   "outputs": [
    {
     "name": "stderr",
     "output_type": "stream",
     "text": [
      "C:\\Users\\pasqu\\AppData\\Local\\Temp\\ipykernel_9620\\1084863829.py:8: SettingWithCopyWarning: \n",
      "A value is trying to be set on a copy of a slice from a DataFrame\n",
      "\n",
      "See the caveats in the documentation: https://pandas.pydata.org/pandas-docs/stable/user_guide/indexing.html#returning-a-view-versus-a-copy\n",
      "  best_runs.sort_values(by=['Strategy', 'Channels'], key=lambda x: x.apply(lambda k: channels_ordering[k]), inplace=True)\n",
      "C:\\Users\\pasqu\\AppData\\Local\\Temp\\ipykernel_9620\\1084863829.py:9: SettingWithCopyWarning: \n",
      "A value is trying to be set on a copy of a slice from a DataFrame.\n",
      "Try using .loc[row_indexer,col_indexer] = value instead\n",
      "\n",
      "See the caveats in the documentation: https://pandas.pydata.org/pandas-docs/stable/user_guide/indexing.html#returning-a-view-versus-a-copy\n",
      "  best_runs[roundings] = best_runs[roundings].round(3)\n"
     ]
    }
   ],
   "source": [
    "selected_runs.rename(columns=renamings, inplace=True)\n",
    "rename_values(selected_runs, value_renamings)\n",
    "selected_runs[roundings] = selected_runs[roundings].round(5)\n",
    "selected_runs.fillna(0, inplace=True)\n",
    "selected_runs = selected_runs.applymap(lambda x: ', '.join(x) if isinstance(x, list) else x)\n",
    "idx = selected_runs.groupby(by=['Channels', 'Strategy'])['F1'].transform(max) == selected_runs['F1']\n",
    "best_runs = selected_runs[idx]\n",
    "best_runs.sort_values(by=['Strategy', 'Channels'], key=lambda x: x.apply(lambda k: channels_ordering[k]), inplace=True)\n",
    "best_runs[roundings] = best_runs[roundings].round(3)\n",
    "selected_runs[roundings] = selected_runs[roundings].round(3)"
   ],
   "metadata": {
    "collapsed": false,
    "pycharm": {
     "name": "#%%\n"
    }
   }
  },
  {
   "cell_type": "code",
   "execution_count": 86,
   "outputs": [
    {
     "data": {
      "text/plain": "         Channels  Gamma     Strategy     F1  Precision  Recall\n0             CIR    2.0       Freeze  0.527      0.629   0.481\n1             CIR    0.0       Freeze  0.545      0.517   0.767\n2            NDVI    2.0       Freeze  0.646      0.614   0.698\n3            NDVI    0.0       Freeze  0.487      0.438   0.927\n4             CIR    2.0  Fine-Tuning  0.525      0.640   0.510\n5             CIR    0.0  Fine-Tuning  0.603      0.589   0.756\n6            NDVI    2.0  Fine-Tuning  0.572      0.607   0.634\n7            NDVI    0.0  Fine-Tuning  0.577      0.503   0.923\n8   R, G, NIR, RE    2.0  Fine-Tuning  0.447      0.711   0.433\n9   R, G, NIR, RE    2.0       Freeze  0.499      0.612   0.452\n10  R, G, NIR, RE    0.0  Fine-Tuning  0.616      0.653   0.697\n11  R, G, NIR, RE    0.0       Freeze  0.534      0.496   0.753",
      "text/html": "<div>\n<style scoped>\n    .dataframe tbody tr th:only-of-type {\n        vertical-align: middle;\n    }\n\n    .dataframe tbody tr th {\n        vertical-align: top;\n    }\n\n    .dataframe thead th {\n        text-align: right;\n    }\n</style>\n<table border=\"1\" class=\"dataframe\">\n  <thead>\n    <tr style=\"text-align: right;\">\n      <th></th>\n      <th>Channels</th>\n      <th>Gamma</th>\n      <th>Strategy</th>\n      <th>F1</th>\n      <th>Precision</th>\n      <th>Recall</th>\n    </tr>\n  </thead>\n  <tbody>\n    <tr>\n      <th>0</th>\n      <td>CIR</td>\n      <td>2.0</td>\n      <td>Freeze</td>\n      <td>0.527</td>\n      <td>0.629</td>\n      <td>0.481</td>\n    </tr>\n    <tr>\n      <th>1</th>\n      <td>CIR</td>\n      <td>0.0</td>\n      <td>Freeze</td>\n      <td>0.545</td>\n      <td>0.517</td>\n      <td>0.767</td>\n    </tr>\n    <tr>\n      <th>2</th>\n      <td>NDVI</td>\n      <td>2.0</td>\n      <td>Freeze</td>\n      <td>0.646</td>\n      <td>0.614</td>\n      <td>0.698</td>\n    </tr>\n    <tr>\n      <th>3</th>\n      <td>NDVI</td>\n      <td>0.0</td>\n      <td>Freeze</td>\n      <td>0.487</td>\n      <td>0.438</td>\n      <td>0.927</td>\n    </tr>\n    <tr>\n      <th>4</th>\n      <td>CIR</td>\n      <td>2.0</td>\n      <td>Fine-Tuning</td>\n      <td>0.525</td>\n      <td>0.640</td>\n      <td>0.510</td>\n    </tr>\n    <tr>\n      <th>5</th>\n      <td>CIR</td>\n      <td>0.0</td>\n      <td>Fine-Tuning</td>\n      <td>0.603</td>\n      <td>0.589</td>\n      <td>0.756</td>\n    </tr>\n    <tr>\n      <th>6</th>\n      <td>NDVI</td>\n      <td>2.0</td>\n      <td>Fine-Tuning</td>\n      <td>0.572</td>\n      <td>0.607</td>\n      <td>0.634</td>\n    </tr>\n    <tr>\n      <th>7</th>\n      <td>NDVI</td>\n      <td>0.0</td>\n      <td>Fine-Tuning</td>\n      <td>0.577</td>\n      <td>0.503</td>\n      <td>0.923</td>\n    </tr>\n    <tr>\n      <th>8</th>\n      <td>R, G, NIR, RE</td>\n      <td>2.0</td>\n      <td>Fine-Tuning</td>\n      <td>0.447</td>\n      <td>0.711</td>\n      <td>0.433</td>\n    </tr>\n    <tr>\n      <th>9</th>\n      <td>R, G, NIR, RE</td>\n      <td>2.0</td>\n      <td>Freeze</td>\n      <td>0.499</td>\n      <td>0.612</td>\n      <td>0.452</td>\n    </tr>\n    <tr>\n      <th>10</th>\n      <td>R, G, NIR, RE</td>\n      <td>0.0</td>\n      <td>Fine-Tuning</td>\n      <td>0.616</td>\n      <td>0.653</td>\n      <td>0.697</td>\n    </tr>\n    <tr>\n      <th>11</th>\n      <td>R, G, NIR, RE</td>\n      <td>0.0</td>\n      <td>Freeze</td>\n      <td>0.534</td>\n      <td>0.496</td>\n      <td>0.753</td>\n    </tr>\n  </tbody>\n</table>\n</div>"
     },
     "execution_count": 86,
     "metadata": {},
     "output_type": "execute_result"
    }
   ],
   "source": [
    "selected_runs"
   ],
   "metadata": {
    "collapsed": false,
    "pycharm": {
     "name": "#%%\n"
    }
   }
  },
  {
   "cell_type": "code",
   "execution_count": 80,
   "outputs": [
    {
     "data": {
      "text/plain": "         Channels  Gamma     Strategy     F1  Precision  Recall\n10  R, G, NIR, RE    NaN  Fine-Tuning  0.616      0.653   0.697\n5             CIR    NaN  Fine-Tuning  0.603      0.589   0.756\n7            NDVI    NaN  Fine-Tuning  0.577      0.503   0.923\n11  R, G, NIR, RE    NaN       Freeze  0.534      0.496   0.753\n1             CIR    NaN       Freeze  0.545      0.517   0.767\n2            NDVI    2.0       Freeze  0.646      0.614   0.698",
      "text/html": "<div>\n<style scoped>\n    .dataframe tbody tr th:only-of-type {\n        vertical-align: middle;\n    }\n\n    .dataframe tbody tr th {\n        vertical-align: top;\n    }\n\n    .dataframe thead th {\n        text-align: right;\n    }\n</style>\n<table border=\"1\" class=\"dataframe\">\n  <thead>\n    <tr style=\"text-align: right;\">\n      <th></th>\n      <th>Channels</th>\n      <th>Gamma</th>\n      <th>Strategy</th>\n      <th>F1</th>\n      <th>Precision</th>\n      <th>Recall</th>\n    </tr>\n  </thead>\n  <tbody>\n    <tr>\n      <th>10</th>\n      <td>R, G, NIR, RE</td>\n      <td>NaN</td>\n      <td>Fine-Tuning</td>\n      <td>0.616</td>\n      <td>0.653</td>\n      <td>0.697</td>\n    </tr>\n    <tr>\n      <th>5</th>\n      <td>CIR</td>\n      <td>NaN</td>\n      <td>Fine-Tuning</td>\n      <td>0.603</td>\n      <td>0.589</td>\n      <td>0.756</td>\n    </tr>\n    <tr>\n      <th>7</th>\n      <td>NDVI</td>\n      <td>NaN</td>\n      <td>Fine-Tuning</td>\n      <td>0.577</td>\n      <td>0.503</td>\n      <td>0.923</td>\n    </tr>\n    <tr>\n      <th>11</th>\n      <td>R, G, NIR, RE</td>\n      <td>NaN</td>\n      <td>Freeze</td>\n      <td>0.534</td>\n      <td>0.496</td>\n      <td>0.753</td>\n    </tr>\n    <tr>\n      <th>1</th>\n      <td>CIR</td>\n      <td>NaN</td>\n      <td>Freeze</td>\n      <td>0.545</td>\n      <td>0.517</td>\n      <td>0.767</td>\n    </tr>\n    <tr>\n      <th>2</th>\n      <td>NDVI</td>\n      <td>2.0</td>\n      <td>Freeze</td>\n      <td>0.646</td>\n      <td>0.614</td>\n      <td>0.698</td>\n    </tr>\n  </tbody>\n</table>\n</div>"
     },
     "execution_count": 80,
     "metadata": {},
     "output_type": "execute_result"
    }
   ],
   "source": [
    "best_runs"
   ],
   "metadata": {
    "collapsed": false,
    "pycharm": {
     "name": "#%%\n"
    }
   }
  },
  {
   "cell_type": "code",
   "execution_count": 87,
   "outputs": [],
   "source": [
    "selected_runs.to_csv(\"../../exps/laweed-complete.csv\")"
   ],
   "metadata": {
    "collapsed": false,
    "pycharm": {
     "name": "#%%\n"
    }
   }
  },
  {
   "cell_type": "markdown",
   "source": [
    "## Double Laweed"
   ],
   "metadata": {
    "collapsed": false,
    "pycharm": {
     "name": "#%% md\n"
    }
   }
  },
  {
   "cell_type": "code",
   "execution_count": 109,
   "outputs": [],
   "source": [
    "filters = {\n",
    "    '$or': [{'group': 'DoubleLaweedPretrained'}, {'group': 'DoubleLaweedPrBatch'}, {'group': 'DoubleLaweedPrDropBatch'}]\n",
    "}\n",
    "selected_cols = [\n",
    "    'in_params.dataset.channels',\n",
    "    'in_params.train_params.loss.params.gamma',\n",
    "    'in_params.model.params.fusion_type',\n",
    "    'in_params.dataset.batch_size',\n",
    "    'f1',\n",
    "    'precision',\n",
    "    'recall'\n",
    "]\n",
    "roundings = ['F1', 'Precision', 'Recall']"
   ],
   "metadata": {
    "collapsed": false,
    "pycharm": {
     "name": "#%%\n"
    }
   }
  },
  {
   "cell_type": "code",
   "execution_count": 110,
   "outputs": [
    {
     "data": {
      "text/plain": "['hyper_params.arch_params.schema',\n 'hyper_params.arch_params.sync_bn',\n 'hyper_params.arch_params.backbone',\n 'hyper_params.arch_params.fusion_type',\n 'hyper_params.arch_params.in_channels',\n 'hyper_params.arch_params.num_classes',\n 'hyper_params.arch_params.out_channels',\n 'hyper_params.arch_params.main_channels',\n 'hyper_params.arch_params.input_channels',\n 'hyper_params.arch_params.output_channels',\n 'hyper_params.arch_params.side_pretrained',\n 'hyper_params.arch_params.backbone_pretrained',\n 'hyper_params.dataset_params.root',\n 'hyper_params.dataset_params.size',\n 'hyper_params.dataset_params.schema',\n 'hyper_params.dataset_params.s3_link',\n 'hyper_params.dataset_params.channels',\n 'hyper_params.dataset_params.hor_flip',\n 'hyper_params.dataset_params.ver_flip',\n 'hyper_params.dataset_params.crop_size',\n 'hyper_params.dataset_params.batch_size',\n 'hyper_params.dataset_params.dataset_dir',\n 'hyper_params.dataset_params.num_classes',\n 'hyper_params.dataset_params.num_workers',\n 'hyper_params.dataset_params.return_path',\n 'hyper_params.dataset_params.test_folders',\n 'hyper_params.dataset_params.train_folders',\n 'hyper_params.dataset_params.val_batch_size',\n 'hyper_params.dataset_params.test_batch_size',\n 'hyper_params.additional_log_items.multi_gpu',\n 'hyper_params.additional_log_items.initial_LR',\n 'hyper_params.additional_log_items.device_type',\n 'hyper_params.additional_log_items.num_devices',\n 'hyper_params.additional_log_items.installed_packages',\n 'hyper_params.training_hyperparams.ema',\n 'hyper_params.training_hyperparams.loss',\n 'hyper_params.training_hyperparams.seed',\n 'hyper_params.training_hyperparams.schema.if.properties.lr_mode.const',\n 'hyper_params.training_hyperparams.schema.then.required',\n 'hyper_params.training_hyperparams.schema.type',\n 'hyper_params.training_hyperparams.schema.required',\n 'hyper_params.training_hyperparams.schema.properties.initial_lr.type',\n 'hyper_params.training_hyperparams.schema.properties.initial_lr.maximum',\n 'hyper_params.training_hyperparams.schema.properties.initial_lr.exclusiveMinimum',\n 'hyper_params.training_hyperparams.schema.properties.max_epochs.type',\n 'hyper_params.training_hyperparams.schema.properties.max_epochs.minimum',\n 'hyper_params.training_hyperparams.schema.properties.lr_decay_factor.type',\n 'hyper_params.training_hyperparams.schema.properties.lr_decay_factor.maximum',\n 'hyper_params.training_hyperparams.schema.properties.lr_decay_factor.minimum',\n 'hyper_params.training_hyperparams.schema.properties.lr_warmup_epochs.type',\n 'hyper_params.training_hyperparams.schema.properties.lr_warmup_epochs.maximum',\n 'hyper_params.training_hyperparams.schema.properties.lr_warmup_epochs.minimum',\n 'hyper_params.training_hyperparams.lr_mode',\n 'hyper_params.training_hyperparams.optimizer',\n 'hyper_params.training_hyperparams.sg_logger',\n 'hyper_params.training_hyperparams.initial_lr',\n 'hyper_params.training_hyperparams.lr_updates',\n 'hyper_params.training_hyperparams.max_epochs',\n 'hyper_params.training_hyperparams.precise_bn',\n 'hyper_params.training_hyperparams.save_model',\n 'hyper_params.training_hyperparams.silent_mode',\n 'hyper_params.training_hyperparams.warmup_mode',\n 'hyper_params.training_hyperparams.load_opt_params',\n 'hyper_params.training_hyperparams.metric_to_watch',\n 'hyper_params.training_hyperparams.mixed_precision',\n 'hyper_params.training_hyperparams.phase_callbacks',\n 'hyper_params.training_hyperparams.batch_accumulate',\n 'hyper_params.training_hyperparams.lr_warmup_epochs',\n 'hyper_params.training_hyperparams.optimizer_params.weight_decay',\n 'hyper_params.training_hyperparams.sg_logger_params.tags',\n 'hyper_params.training_hyperparams.sg_logger_params.entity',\n 'hyper_params.training_hyperparams.sg_logger_params.project_name',\n 'hyper_params.training_hyperparams.sg_logger_params.save_logs_remote',\n 'hyper_params.training_hyperparams.sg_logger_params.tensorboard_port',\n 'hyper_params.training_hyperparams.sg_logger_params.launch_tensorboard',\n 'hyper_params.training_hyperparams.sg_logger_params.tb_files_user_prompt',\n 'hyper_params.training_hyperparams.sg_logger_params.save_checkpoints_remote',\n 'hyper_params.training_hyperparams.sg_logger_params.save_tensorboard_remote',\n 'hyper_params.training_hyperparams.tensorboard_port',\n 'hyper_params.training_hyperparams.freeze_pretrained',\n 'hyper_params.training_hyperparams.warmup_initial_lr',\n 'hyper_params.training_hyperparams.dataset_statistics',\n 'hyper_params.training_hyperparams.launch_tensorboard',\n 'hyper_params.training_hyperparams.train_metrics_list',\n 'hyper_params.training_hyperparams.valid_metrics_list',\n 'hyper_params.training_hyperparams.average_best_models',\n 'hyper_params.training_hyperparams.run_validation_freq',\n 'hyper_params.training_hyperparams.save_full_train_log',\n 'hyper_params.training_hyperparams.step_lr_update_freq',\n 'hyper_params.training_hyperparams.lr_schedule_function',\n 'hyper_params.training_hyperparams.save_ckpt_epoch_list',\n 'hyper_params.training_hyperparams.tb_files_user_prompt',\n 'hyper_params.training_hyperparams.cosine_final_lr_ratio',\n 'hyper_params.training_hyperparams.precise_bn_batch_size',\n 'hyper_params.training_hyperparams.log_installed_packages',\n 'hyper_params.training_hyperparams.save_tensorboard_to_s3',\n 'hyper_params.training_hyperparams.loss_logging_items_names',\n 'hyper_params.training_hyperparams.zero_weight_decay_on_bias_and_bn',\n 'hyper_params.training_hyperparams.greater_metric_to_watch_is_better']"
     },
     "metadata": {},
     "output_type": "display_data"
    }
   ],
   "source": [
    "runs_df = get_runs(filters)\n",
    "remove_hyp(runs_df)"
   ],
   "metadata": {
    "collapsed": false,
    "pycharm": {
     "name": "#%%\n"
    }
   }
  },
  {
   "cell_type": "code",
   "execution_count": 111,
   "outputs": [],
   "source": [
    "projected_runs = runs_df[\n",
    "    selected_cols\n",
    "]\n",
    "# selected_runs = projected_runs[projected_runs['in_params.model.params.backbone'] == 'MiT-B0']\n",
    "selected_runs = projected_runs"
   ],
   "metadata": {
    "collapsed": false,
    "pycharm": {
     "name": "#%%\n"
    }
   }
  },
  {
   "cell_type": "code",
   "execution_count": 112,
   "outputs": [
    {
     "name": "stderr",
     "output_type": "stream",
     "text": [
      "C:\\Users\\pasqu\\AppData\\Local\\Temp\\ipykernel_9620\\4234819445.py:1: SettingWithCopyWarning: \n",
      "A value is trying to be set on a copy of a slice from a DataFrame\n",
      "\n",
      "See the caveats in the documentation: https://pandas.pydata.org/pandas-docs/stable/user_guide/indexing.html#returning-a-view-versus-a-copy\n",
      "  selected_runs.rename(columns=renamings, inplace=True)\n",
      "C:\\Users\\pasqu\\AppData\\Local\\Temp\\ipykernel_9620\\4234819445.py:2: SettingWithCopyWarning: \n",
      "A value is trying to be set on a copy of a slice from a DataFrame\n",
      "\n",
      "See the caveats in the documentation: https://pandas.pydata.org/pandas-docs/stable/user_guide/indexing.html#returning-a-view-versus-a-copy\n",
      "  selected_runs['DropPath'].fillna('conv_sum', inplace=True)\n",
      "C:\\Users\\pasqu\\AppData\\Local\\Temp\\ipykernel_9620\\2999623128.py:34: SettingWithCopyWarning: \n",
      "A value is trying to be set on a copy of a slice from a DataFrame.\n",
      "Try using .loc[row_indexer,col_indexer] = value instead\n",
      "\n",
      "See the caveats in the documentation: https://pandas.pydata.org/pandas-docs/stable/user_guide/indexing.html#returning-a-view-versus-a-copy\n",
      "  df[column] = df[column].replace(values)\n",
      "C:\\Users\\pasqu\\AppData\\Local\\Temp\\ipykernel_9620\\4234819445.py:4: SettingWithCopyWarning: \n",
      "A value is trying to be set on a copy of a slice from a DataFrame.\n",
      "Try using .loc[row_indexer,col_indexer] = value instead\n",
      "\n",
      "See the caveats in the documentation: https://pandas.pydata.org/pandas-docs/stable/user_guide/indexing.html#returning-a-view-versus-a-copy\n",
      "  selected_runs[roundings] = selected_runs[roundings].round(5)\n",
      "C:\\Users\\pasqu\\AppData\\Local\\Temp\\ipykernel_9620\\4234819445.py:5: SettingWithCopyWarning: \n",
      "A value is trying to be set on a copy of a slice from a DataFrame\n",
      "\n",
      "See the caveats in the documentation: https://pandas.pydata.org/pandas-docs/stable/user_guide/indexing.html#returning-a-view-versus-a-copy\n",
      "  selected_runs['Gamma'].fillna(0, inplace=True)\n",
      "C:\\Users\\pasqu\\AppData\\Local\\Temp\\ipykernel_9620\\4234819445.py:10: SettingWithCopyWarning: \n",
      "A value is trying to be set on a copy of a slice from a DataFrame\n",
      "\n",
      "See the caveats in the documentation: https://pandas.pydata.org/pandas-docs/stable/user_guide/indexing.html#returning-a-view-versus-a-copy\n",
      "  best_runs.sort_values(by=['Channels'], key=lambda x: x.apply(lambda k: channels_ordering[k]), inplace=True)\n",
      "C:\\Users\\pasqu\\AppData\\Local\\Temp\\ipykernel_9620\\4234819445.py:11: SettingWithCopyWarning: \n",
      "A value is trying to be set on a copy of a slice from a DataFrame.\n",
      "Try using .loc[row_indexer,col_indexer] = value instead\n",
      "\n",
      "See the caveats in the documentation: https://pandas.pydata.org/pandas-docs/stable/user_guide/indexing.html#returning-a-view-versus-a-copy\n",
      "  best_runs[roundings] = best_runs[roundings].round(3)\n"
     ]
    }
   ],
   "source": [
    "selected_runs.rename(columns=renamings, inplace=True)\n",
    "selected_runs['DropPath'].fillna('conv_sum', inplace=True)\n",
    "rename_values(selected_runs, value_renamings)\n",
    "selected_runs[roundings] = selected_runs[roundings].round(5)\n",
    "selected_runs['Gamma'].fillna(0, inplace=True)\n",
    "selected_runs = selected_runs.applymap(lambda x: ', '.join(x) if isinstance(x, list) else x)\n",
    "\n",
    "idx = selected_runs.groupby(by=['Channels'])['F1'].transform(max) == selected_runs['F1']\n",
    "best_runs = selected_runs[idx]\n",
    "best_runs.sort_values(by=['Channels'], key=lambda x: x.apply(lambda k: channels_ordering[k]), inplace=True)\n",
    "best_runs[roundings] = best_runs[roundings].round(3)\n",
    "selected_runs[roundings] = selected_runs[roundings].round(3)"
   ],
   "metadata": {
    "collapsed": false,
    "pycharm": {
     "name": "#%%\n"
    }
   }
  },
  {
   "cell_type": "code",
   "execution_count": 113,
   "outputs": [
    {
     "data": {
      "text/plain": "         Channels Gamma DropPath  Batch Size     F1  Precision  Recall\n0        R, G, RE   2.0      Yes          12  0.481      0.658   0.439\n1      R, G, NDVI   2.0      Yes          12  0.555      0.662   0.519\n2       R, G, NIR   2.0      Yes          12  0.459      0.615   0.429\n3   R, G, NIR, RE   2.0      Yes          12  0.417      0.668   0.382\n4        R, G, RE     0      Yes          12  0.524      0.551   0.726\n5      R, G, NDVI     0      Yes          12  0.591      0.537   0.901\n6       R, G, NIR     0      Yes          12  0.517      0.549   0.593\n7   R, G, NIR, RE     0      Yes          12  0.593      0.581   0.636\n8        R, G, RE   2.0       No          12  0.465      0.649   0.445\n9      R, G, NDVI   2.0       No          12  0.599      0.676   0.563\n10      R, G, NIR   2.0       No          12  0.409      0.643   0.398\n11  R, G, NIR, RE   2.0       No          12  0.386      0.651   0.365\n12       R, G, RE     0       No          12  0.533      0.559   0.696\n13     R, G, NDVI     0       No          12  0.591      0.525   0.917\n14      R, G, NIR     0       No          12  0.465      0.543   0.597\n15  R, G, NIR, RE     0       No          12  0.470      0.582   0.618\n16  R, G, NIR, RE   2.0       No           6  0.486      0.668   0.442\n17       R, G, RE   2.0       No           6  0.488      0.648   0.449\n18     R, G, NDVI   2.0       No           6  0.551      0.644   0.553\n19      R, G, NIR   2.0       No           6  0.479      0.610   0.459\n20  R, G, NIR, RE     0       No           6  0.578      0.587   0.678\n21       R, G, RE     0       No           6  0.553      0.558   0.727\n22     R, G, NDVI     0       No           6  0.548      0.487   0.929\n23      R, G, NIR     0       No           6  0.530      0.570   0.657",
      "text/html": "<div>\n<style scoped>\n    .dataframe tbody tr th:only-of-type {\n        vertical-align: middle;\n    }\n\n    .dataframe tbody tr th {\n        vertical-align: top;\n    }\n\n    .dataframe thead th {\n        text-align: right;\n    }\n</style>\n<table border=\"1\" class=\"dataframe\">\n  <thead>\n    <tr style=\"text-align: right;\">\n      <th></th>\n      <th>Channels</th>\n      <th>Gamma</th>\n      <th>DropPath</th>\n      <th>Batch Size</th>\n      <th>F1</th>\n      <th>Precision</th>\n      <th>Recall</th>\n    </tr>\n  </thead>\n  <tbody>\n    <tr>\n      <th>0</th>\n      <td>R, G, RE</td>\n      <td>2.0</td>\n      <td>Yes</td>\n      <td>12</td>\n      <td>0.481</td>\n      <td>0.658</td>\n      <td>0.439</td>\n    </tr>\n    <tr>\n      <th>1</th>\n      <td>R, G, NDVI</td>\n      <td>2.0</td>\n      <td>Yes</td>\n      <td>12</td>\n      <td>0.555</td>\n      <td>0.662</td>\n      <td>0.519</td>\n    </tr>\n    <tr>\n      <th>2</th>\n      <td>R, G, NIR</td>\n      <td>2.0</td>\n      <td>Yes</td>\n      <td>12</td>\n      <td>0.459</td>\n      <td>0.615</td>\n      <td>0.429</td>\n    </tr>\n    <tr>\n      <th>3</th>\n      <td>R, G, NIR, RE</td>\n      <td>2.0</td>\n      <td>Yes</td>\n      <td>12</td>\n      <td>0.417</td>\n      <td>0.668</td>\n      <td>0.382</td>\n    </tr>\n    <tr>\n      <th>4</th>\n      <td>R, G, RE</td>\n      <td>0</td>\n      <td>Yes</td>\n      <td>12</td>\n      <td>0.524</td>\n      <td>0.551</td>\n      <td>0.726</td>\n    </tr>\n    <tr>\n      <th>5</th>\n      <td>R, G, NDVI</td>\n      <td>0</td>\n      <td>Yes</td>\n      <td>12</td>\n      <td>0.591</td>\n      <td>0.537</td>\n      <td>0.901</td>\n    </tr>\n    <tr>\n      <th>6</th>\n      <td>R, G, NIR</td>\n      <td>0</td>\n      <td>Yes</td>\n      <td>12</td>\n      <td>0.517</td>\n      <td>0.549</td>\n      <td>0.593</td>\n    </tr>\n    <tr>\n      <th>7</th>\n      <td>R, G, NIR, RE</td>\n      <td>0</td>\n      <td>Yes</td>\n      <td>12</td>\n      <td>0.593</td>\n      <td>0.581</td>\n      <td>0.636</td>\n    </tr>\n    <tr>\n      <th>8</th>\n      <td>R, G, RE</td>\n      <td>2.0</td>\n      <td>No</td>\n      <td>12</td>\n      <td>0.465</td>\n      <td>0.649</td>\n      <td>0.445</td>\n    </tr>\n    <tr>\n      <th>9</th>\n      <td>R, G, NDVI</td>\n      <td>2.0</td>\n      <td>No</td>\n      <td>12</td>\n      <td>0.599</td>\n      <td>0.676</td>\n      <td>0.563</td>\n    </tr>\n    <tr>\n      <th>10</th>\n      <td>R, G, NIR</td>\n      <td>2.0</td>\n      <td>No</td>\n      <td>12</td>\n      <td>0.409</td>\n      <td>0.643</td>\n      <td>0.398</td>\n    </tr>\n    <tr>\n      <th>11</th>\n      <td>R, G, NIR, RE</td>\n      <td>2.0</td>\n      <td>No</td>\n      <td>12</td>\n      <td>0.386</td>\n      <td>0.651</td>\n      <td>0.365</td>\n    </tr>\n    <tr>\n      <th>12</th>\n      <td>R, G, RE</td>\n      <td>0</td>\n      <td>No</td>\n      <td>12</td>\n      <td>0.533</td>\n      <td>0.559</td>\n      <td>0.696</td>\n    </tr>\n    <tr>\n      <th>13</th>\n      <td>R, G, NDVI</td>\n      <td>0</td>\n      <td>No</td>\n      <td>12</td>\n      <td>0.591</td>\n      <td>0.525</td>\n      <td>0.917</td>\n    </tr>\n    <tr>\n      <th>14</th>\n      <td>R, G, NIR</td>\n      <td>0</td>\n      <td>No</td>\n      <td>12</td>\n      <td>0.465</td>\n      <td>0.543</td>\n      <td>0.597</td>\n    </tr>\n    <tr>\n      <th>15</th>\n      <td>R, G, NIR, RE</td>\n      <td>0</td>\n      <td>No</td>\n      <td>12</td>\n      <td>0.470</td>\n      <td>0.582</td>\n      <td>0.618</td>\n    </tr>\n    <tr>\n      <th>16</th>\n      <td>R, G, NIR, RE</td>\n      <td>2.0</td>\n      <td>No</td>\n      <td>6</td>\n      <td>0.486</td>\n      <td>0.668</td>\n      <td>0.442</td>\n    </tr>\n    <tr>\n      <th>17</th>\n      <td>R, G, RE</td>\n      <td>2.0</td>\n      <td>No</td>\n      <td>6</td>\n      <td>0.488</td>\n      <td>0.648</td>\n      <td>0.449</td>\n    </tr>\n    <tr>\n      <th>18</th>\n      <td>R, G, NDVI</td>\n      <td>2.0</td>\n      <td>No</td>\n      <td>6</td>\n      <td>0.551</td>\n      <td>0.644</td>\n      <td>0.553</td>\n    </tr>\n    <tr>\n      <th>19</th>\n      <td>R, G, NIR</td>\n      <td>2.0</td>\n      <td>No</td>\n      <td>6</td>\n      <td>0.479</td>\n      <td>0.610</td>\n      <td>0.459</td>\n    </tr>\n    <tr>\n      <th>20</th>\n      <td>R, G, NIR, RE</td>\n      <td>0</td>\n      <td>No</td>\n      <td>6</td>\n      <td>0.578</td>\n      <td>0.587</td>\n      <td>0.678</td>\n    </tr>\n    <tr>\n      <th>21</th>\n      <td>R, G, RE</td>\n      <td>0</td>\n      <td>No</td>\n      <td>6</td>\n      <td>0.553</td>\n      <td>0.558</td>\n      <td>0.727</td>\n    </tr>\n    <tr>\n      <th>22</th>\n      <td>R, G, NDVI</td>\n      <td>0</td>\n      <td>No</td>\n      <td>6</td>\n      <td>0.548</td>\n      <td>0.487</td>\n      <td>0.929</td>\n    </tr>\n    <tr>\n      <th>23</th>\n      <td>R, G, NIR</td>\n      <td>0</td>\n      <td>No</td>\n      <td>6</td>\n      <td>0.530</td>\n      <td>0.570</td>\n      <td>0.657</td>\n    </tr>\n  </tbody>\n</table>\n</div>"
     },
     "execution_count": 113,
     "metadata": {},
     "output_type": "execute_result"
    }
   ],
   "source": [
    "selected_runs"
   ],
   "metadata": {
    "collapsed": false,
    "pycharm": {
     "name": "#%%\n"
    }
   }
  },
  {
   "cell_type": "code",
   "execution_count": 114,
   "outputs": [
    {
     "data": {
      "text/plain": "         Channels Gamma DropPath  Batch Size     F1  Precision  Recall\n7   R, G, NIR, RE     0      Yes          12  0.593      0.581   0.636\n21       R, G, RE     0       No           6  0.553      0.558   0.727\n23      R, G, NIR     0       No           6  0.530      0.570   0.657\n9      R, G, NDVI   2.0       No          12  0.599      0.676   0.563",
      "text/html": "<div>\n<style scoped>\n    .dataframe tbody tr th:only-of-type {\n        vertical-align: middle;\n    }\n\n    .dataframe tbody tr th {\n        vertical-align: top;\n    }\n\n    .dataframe thead th {\n        text-align: right;\n    }\n</style>\n<table border=\"1\" class=\"dataframe\">\n  <thead>\n    <tr style=\"text-align: right;\">\n      <th></th>\n      <th>Channels</th>\n      <th>Gamma</th>\n      <th>DropPath</th>\n      <th>Batch Size</th>\n      <th>F1</th>\n      <th>Precision</th>\n      <th>Recall</th>\n    </tr>\n  </thead>\n  <tbody>\n    <tr>\n      <th>7</th>\n      <td>R, G, NIR, RE</td>\n      <td>0</td>\n      <td>Yes</td>\n      <td>12</td>\n      <td>0.593</td>\n      <td>0.581</td>\n      <td>0.636</td>\n    </tr>\n    <tr>\n      <th>21</th>\n      <td>R, G, RE</td>\n      <td>0</td>\n      <td>No</td>\n      <td>6</td>\n      <td>0.553</td>\n      <td>0.558</td>\n      <td>0.727</td>\n    </tr>\n    <tr>\n      <th>23</th>\n      <td>R, G, NIR</td>\n      <td>0</td>\n      <td>No</td>\n      <td>6</td>\n      <td>0.530</td>\n      <td>0.570</td>\n      <td>0.657</td>\n    </tr>\n    <tr>\n      <th>9</th>\n      <td>R, G, NDVI</td>\n      <td>2.0</td>\n      <td>No</td>\n      <td>12</td>\n      <td>0.599</td>\n      <td>0.676</td>\n      <td>0.563</td>\n    </tr>\n  </tbody>\n</table>\n</div>"
     },
     "execution_count": 114,
     "metadata": {},
     "output_type": "execute_result"
    }
   ],
   "source": [
    "best_runs"
   ],
   "metadata": {
    "collapsed": false,
    "pycharm": {
     "name": "#%%\n"
    }
   }
  },
  {
   "cell_type": "code",
   "execution_count": null,
   "outputs": [],
   "source": [],
   "metadata": {
    "collapsed": false,
    "pycharm": {
     "name": "#%%\n"
    }
   }
  }
 ],
 "metadata": {
  "kernelspec": {
   "display_name": "Python 3",
   "language": "python",
   "name": "python3"
  },
  "language_info": {
   "codemirror_mode": {
    "name": "ipython",
    "version": 2
   },
   "file_extension": ".py",
   "mimetype": "text/x-python",
   "name": "python",
   "nbconvert_exporter": "python",
   "pygments_lexer": "ipython2",
   "version": "2.7.6"
  }
 },
 "nbformat": 4,
 "nbformat_minor": 0
}