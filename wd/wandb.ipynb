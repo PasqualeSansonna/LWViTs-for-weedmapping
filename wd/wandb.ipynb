{
 "cells": [
  {
   "cell_type": "code",
   "execution_count": 1,
   "metadata": {
    "collapsed": true,
    "pycharm": {
     "name": "#%%\n"
    }
   },
   "outputs": [],
   "source": [
    "import pandas as pd\n",
    "import wandb\n",
    "from wd.utils.utils import mlflow_linearize"
   ]
  },
  {
   "cell_type": "code",
   "execution_count": 2,
   "outputs": [],
   "source": [
    "from IPython.core.display_functions import display\n",
    "\n",
    "\n",
    "def get_runs(run_filters):\n",
    "    # Project is specified by <entity/project-name>\n",
    "    runs = api.runs(\"pasqualedem/weeddetection\", filters=run_filters)\n",
    "\n",
    "    summary_list, config_list, name_list = [], [], []\n",
    "    for run in runs:\n",
    "        # .summary contains the output keys/values for metrics like accuracy.\n",
    "        #  We call ._json_dict to omit large files\n",
    "        summary_list.append(run.summary._json_dict)\n",
    "\n",
    "        # .config contains the hyperparameters.\n",
    "        #  We remove special values that start with _.\n",
    "        config_list.append(\n",
    "            {k: v for k,v in run.config.items()\n",
    "              if not k.startswith('_')})\n",
    "\n",
    "        # .name is the human-readable name of the run.\n",
    "        name_list.append(run.name)\n",
    "    df = pd.DataFrame([{**mlflow_linearize(dc), **mlflow_linearize(ds)} for dc, ds in zip(config_list, summary_list)])\n",
    "    return df\n",
    "\n",
    "def remove_hyp(df):\n",
    "    to_delete = filter(lambda x: x.startswith('hyper_params'), df.columns)\n",
    "    display(list(to_delete))\n",
    "    for l in to_delete:\n",
    "        df.drop(l, inplace=True)\n",
    "\n",
    "def rename_values(df: pd.DataFrame, vrenamings: dict):\n",
    "    for column, values in vrenamings.items():\n",
    "        if column in df.columns:\n",
    "            df[column] = df[column].replace(values)"
   ],
   "metadata": {
    "collapsed": false,
    "pycharm": {
     "name": "#%%\n"
    }
   }
  },
  {
   "cell_type": "code",
   "execution_count": 3,
   "outputs": [],
   "source": [
    "api = wandb.Api()"
   ],
   "metadata": {
    "collapsed": false,
    "pycharm": {
     "name": "#%%\n"
    }
   }
  },
  {
   "cell_type": "code",
   "execution_count": 201,
   "outputs": [],
   "source": [
    "renamings = {\n",
    "    'in_params.dataset.channels': 'Channels',\n",
    "    'in_params.train_params.optimizer_params.weight_decay': \"Weight Decay\",\n",
    "    'in_params.train_params.initial_lr': 'LR',\n",
    "    'in_params.model.name': 'Model',\n",
    "    'in_params.model.params.backbone': 'Backbone',\n",
    "    'in_params.train_params.freeze_pretrained': 'Strategy',\n",
    "    'in_params.model.params.main_pretrained': 'Used Weights',\n",
    "    'train_WrapF1': 'Train F1',\n",
    "    'f1': 'F1',\n",
    "    'in_params.dataset.batch_size': 'Batch Size',\n",
    "    'precision': 'Precision',\n",
    "    'in_params.train_params.loss.params.gamma': 'Gamma',\n",
    "    'in_params.model.params.fusion_type': 'DropPath',\n",
    "    'recall': 'Recall'\n",
    "}\n",
    "value_renamings = {\n",
    "    'Strategy': {True: 'Freeze', False: 'Fine-Tuning'},\n",
    "    'DropPath': {'conv_sum_drop': 'Yes', 'conv_sum': 'No'}\n",
    "}\n",
    "channels_ordering = {\n",
    "    \"G, NDVI, NIR, R, RE\" : 1,\n",
    "    \"R, G, NIR, RE\": 2,\n",
    "    \"R, G, RE, NIR\": 2,\n",
    "    \"R, G, RE\": 3,\n",
    "    \"G, NIR, R\": 3,\n",
    "    \"R, G, NIR\": 4,\n",
    "    \"R, G, NDVI\": 5,\n",
    "    \"R, G\": 6,\n",
    "    \"CIR\": 7,\n",
    "    \"NDVI\": 8,\n",
    "\n",
    "    'Fine-Tuning': 1,\n",
    "    'Freeze': 2,\n",
    "\n",
    "    'R': 1,\n",
    "    'G': 2,\n",
    "    'RGB': 2.5,\n",
    "    'G, G, R': 3,\n",
    "    'R, G, G, G': 4,\n",
    "\n",
    "    'MiT-B0': 0,\n",
    "    'MiT-B1': 1,\n",
    "}"
   ],
   "metadata": {
    "collapsed": false,
    "pycharm": {
     "name": "#%%\n"
    }
   }
  },
  {
   "cell_type": "markdown",
   "source": [],
   "metadata": {
    "collapsed": false,
    "pycharm": {
     "name": "#%% md\n"
    }
   }
  },
  {
   "cell_type": "markdown",
   "source": [
    "## Lawin"
   ],
   "metadata": {
    "collapsed": false,
    "pycharm": {
     "name": "#%% md\n"
    }
   }
  },
  {
   "cell_type": "code",
   "execution_count": null,
   "outputs": [],
   "source": [
    "filters = {\n",
    "    'group': 'Lawin'\n",
    "}\n",
    "selected_cols = [\n",
    "    'in_params.dataset.channels',\n",
    "    'in_params.train_params.optimizer_params.weight_decay',\n",
    "    'in_params.train_params.initial_lr',\n",
    "    'in_params.model.params.backbone',\n",
    "    # 'in_params.model.name',\n",
    "    'f1',\n",
    "    'precision',\n",
    "    'recall'\n",
    "]\n",
    "roundings = ['F1', 'Precision', 'Recall']"
   ],
   "metadata": {
    "collapsed": false,
    "pycharm": {
     "name": "#%%\n"
    }
   }
  },
  {
   "cell_type": "code",
   "execution_count": null,
   "outputs": [],
   "source": [
    "runs_df = get_runs(filters)\n",
    "remove_hyp(runs_df)"
   ],
   "metadata": {
    "collapsed": false,
    "pycharm": {
     "name": "#%%\n"
    }
   }
  },
  {
   "cell_type": "code",
   "execution_count": null,
   "outputs": [],
   "source": [
    "runs_df"
   ],
   "metadata": {
    "collapsed": false,
    "pycharm": {
     "name": "#%%\n"
    }
   }
  },
  {
   "cell_type": "code",
   "execution_count": null,
   "outputs": [],
   "source": [
    "projected_runs = runs_df[\n",
    "    selected_cols\n",
    "]"
   ],
   "metadata": {
    "collapsed": false,
    "pycharm": {
     "name": "#%%\n"
    }
   }
  },
  {
   "cell_type": "code",
   "execution_count": null,
   "outputs": [],
   "source": [
    "# selected_runs = projected_runs[projected_runs['in_params.model.params.backbone'] == 'MiT-B0']\n",
    "selected_runs = projected_runs"
   ],
   "metadata": {
    "collapsed": false,
    "pycharm": {
     "name": "#%%\n"
    }
   }
  },
  {
   "cell_type": "code",
   "execution_count": null,
   "outputs": [],
   "source": [
    "selected_runs"
   ],
   "metadata": {
    "collapsed": false,
    "pycharm": {
     "name": "#%%\n"
    }
   }
  },
  {
   "cell_type": "code",
   "execution_count": null,
   "outputs": [],
   "source": [
    "selected_runs.rename(columns=renamings, inplace=True)\n",
    "selected_runs[roundings] = selected_runs[roundings].round(3)\n",
    "selected_runs = selected_runs.applymap(lambda x: ', '.join(x) if isinstance(x, list) else x)"
   ],
   "metadata": {
    "collapsed": false,
    "pycharm": {
     "name": "#%%\n"
    }
   }
  },
  {
   "cell_type": "code",
   "execution_count": null,
   "outputs": [],
   "source": [
    "idx = selected_runs.groupby(by='Channels')['F1'].transform(max) == selected_runs['F1']\n",
    "best_runs = selected_runs[idx]\n",
    "best_runs.sort_values(by=\"Channels\", key=lambda x: x.apply(lambda k: channels_ordering[k]), inplace=True)"
   ],
   "metadata": {
    "collapsed": false,
    "pycharm": {
     "name": "#%%\n"
    }
   }
  },
  {
   "cell_type": "code",
   "execution_count": null,
   "outputs": [],
   "source": [
    "selected_runs"
   ],
   "metadata": {
    "collapsed": false,
    "pycharm": {
     "name": "#%%\n"
    }
   }
  },
  {
   "cell_type": "code",
   "execution_count": null,
   "outputs": [],
   "source": [
    "best_runs"
   ],
   "metadata": {
    "collapsed": false,
    "pycharm": {
     "name": "#%%\n"
    }
   }
  },
  {
   "cell_type": "code",
   "execution_count": null,
   "outputs": [],
   "source": [
    "best_runs.to_csv(\"../../exps/lawin.csv\")"
   ],
   "metadata": {
    "collapsed": false,
    "pycharm": {
     "name": "#%%\n"
    }
   }
  },
  {
   "cell_type": "code",
   "execution_count": null,
   "outputs": [],
   "source": [
    "selected_runs.to_csv(\"../../exps/lawin-complete.csv\")"
   ],
   "metadata": {
    "collapsed": false,
    "pycharm": {
     "name": "#%%\n"
    }
   }
  },
  {
   "cell_type": "markdown",
   "source": [
    "## Lawin Aug"
   ],
   "metadata": {
    "collapsed": false,
    "pycharm": {
     "name": "#%% md\n"
    }
   }
  },
  {
   "cell_type": "code",
   "execution_count": null,
   "outputs": [],
   "source": [
    "filters = {\n",
    "    'group': 'LawinAugPatience'\n",
    "}\n",
    "selected_cols = [\n",
    "    'in_params.dataset.channels',\n",
    "    'in_params.train_params.optimizer_params.weight_decay',\n",
    "    'in_params.train_params.initial_lr',\n",
    "    'f1',\n",
    "    'precision',\n",
    "    'recall'\n",
    "]\n",
    "roundings = ['F1', 'Precision', 'Recall']"
   ],
   "metadata": {
    "collapsed": false,
    "pycharm": {
     "name": "#%%\n"
    }
   }
  },
  {
   "cell_type": "code",
   "execution_count": null,
   "outputs": [],
   "source": [
    "runs_df = get_runs(filters)\n",
    "remove_hyp(runs_df)"
   ],
   "metadata": {
    "collapsed": false,
    "pycharm": {
     "name": "#%%\n"
    }
   }
  },
  {
   "cell_type": "code",
   "execution_count": null,
   "outputs": [],
   "source": [
    "runs_df"
   ],
   "metadata": {
    "collapsed": false,
    "pycharm": {
     "name": "#%%\n"
    }
   }
  },
  {
   "cell_type": "code",
   "execution_count": null,
   "outputs": [],
   "source": [
    "projected_runs = runs_df[\n",
    "    selected_cols\n",
    "]\n",
    "# selected_runs = projected_runs[projected_runs['in_params.model.params.backbone'] == 'MiT-B0']\n",
    "selected_runs = projected_runs"
   ],
   "metadata": {
    "collapsed": false,
    "pycharm": {
     "name": "#%%\n"
    }
   }
  },
  {
   "cell_type": "code",
   "execution_count": null,
   "outputs": [],
   "source": [
    "selected_runs.rename(columns=renamings, inplace=True)\n",
    "selected_runs[roundings] = selected_runs[roundings].round(3)\n",
    "selected_runs = selected_runs.applymap(lambda x: ', '.join(x) if isinstance(x, list) else x)"
   ],
   "metadata": {
    "collapsed": false,
    "pycharm": {
     "name": "#%%\n"
    }
   }
  },
  {
   "cell_type": "code",
   "execution_count": null,
   "outputs": [],
   "source": [
    "idx = selected_runs.groupby(by='Channels')['F1'].transform(max) == selected_runs['F1']\n",
    "best_runs = selected_runs[idx]\n",
    "best_runs.sort_values(by=\"Channels\", key=lambda x: x.apply(lambda k: channels_ordering[k]), inplace=True)"
   ],
   "metadata": {
    "collapsed": false,
    "pycharm": {
     "name": "#%%\n"
    }
   }
  },
  {
   "cell_type": "code",
   "execution_count": null,
   "outputs": [],
   "source": [
    "best_runs.to_csv(\"../../exps/lawin_aug.csv\")"
   ],
   "metadata": {
    "collapsed": false,
    "pycharm": {
     "name": "#%%\n"
    }
   }
  },
  {
   "cell_type": "code",
   "execution_count": null,
   "outputs": [],
   "source": [
    "selected_runs.to_csv(\"../../exps/lawin_aug-complete.csv\")"
   ],
   "metadata": {
    "collapsed": false,
    "pycharm": {
     "name": "#%%\n"
    }
   }
  },
  {
   "cell_type": "markdown",
   "source": [
    "## Lawin Pretrained"
   ],
   "metadata": {
    "collapsed": false,
    "pycharm": {
     "name": "#%% md\n"
    }
   }
  },
  {
   "cell_type": "code",
   "execution_count": null,
   "outputs": [],
   "source": [
    "filters = {\n",
    "    '$or': [{'group': 'LawinPretrained'}, {'group': 'LawinFrozen'}]\n",
    "}\n",
    "selected_cols = [\n",
    "    'in_params.dataset.channels',\n",
    "    'in_params.train_params.optimizer_params.weight_decay',\n",
    "    'in_params.train_params.initial_lr',\n",
    "    'in_params.train_params.freeze_pretrained',\n",
    "    'in_params.model.params.backbone',\n",
    "    'f1',\n",
    "    'precision',\n",
    "    'recall'\n",
    "]\n",
    "roundings = ['F1', 'Precision', 'Recall']"
   ],
   "metadata": {
    "collapsed": false,
    "pycharm": {
     "name": "#%%\n"
    }
   }
  },
  {
   "cell_type": "code",
   "execution_count": null,
   "outputs": [],
   "source": [
    "runs_df = get_runs(filters)\n",
    "remove_hyp(runs_df)"
   ],
   "metadata": {
    "collapsed": false,
    "pycharm": {
     "name": "#%%\n"
    }
   }
  },
  {
   "cell_type": "code",
   "execution_count": null,
   "outputs": [],
   "source": [
    "runs_df"
   ],
   "metadata": {
    "collapsed": false,
    "pycharm": {
     "name": "#%%\n"
    }
   }
  },
  {
   "cell_type": "code",
   "execution_count": null,
   "outputs": [],
   "source": [
    "projected_runs = runs_df[\n",
    "    selected_cols\n",
    "]\n",
    "# selected_runs = projected_runs[projected_runs['in_params.model.params.backbone'] == 'MiT-B0']\n",
    "selected_runs = projected_runs"
   ],
   "metadata": {
    "collapsed": false,
    "pycharm": {
     "name": "#%%\n"
    }
   }
  },
  {
   "cell_type": "code",
   "execution_count": null,
   "outputs": [],
   "source": [
    "selected_runs.rename(columns=renamings, inplace=True)\n",
    "rename_values(selected_runs, value_renamings)\n",
    "selected_runs[roundings] = selected_runs[roundings].round(5)\n",
    "selected_runs = selected_runs.applymap(lambda x: ', '.join(x) if isinstance(x, list) else x)"
   ],
   "metadata": {
    "collapsed": false,
    "pycharm": {
     "name": "#%%\n"
    }
   }
  },
  {
   "cell_type": "code",
   "execution_count": null,
   "outputs": [],
   "source": [
    "idx = selected_runs.groupby(by=['Channels', 'Strategy'])['F1'].transform(max) == selected_runs['F1']\n",
    "best_runs = selected_runs[idx]\n",
    "best_runs.sort_values(by=['Strategy', 'Channels'], key=lambda x: x.apply(lambda k: channels_ordering[k]), inplace=True)\n",
    "best_runs[roundings] = best_runs[roundings].round(3)\n",
    "selected_runs[roundings] = selected_runs[roundings].round(3)"
   ],
   "metadata": {
    "collapsed": false,
    "pycharm": {
     "name": "#%%\n"
    }
   }
  },
  {
   "cell_type": "code",
   "execution_count": null,
   "outputs": [],
   "source": [
    "best_runs"
   ],
   "metadata": {
    "collapsed": false,
    "pycharm": {
     "name": "#%%\n"
    }
   }
  },
  {
   "cell_type": "code",
   "execution_count": null,
   "outputs": [],
   "source": [
    "best_runs.to_csv(\"../../exps/lawin_pretrained.csv\")\n",
    "selected_runs.to_csv(\"../../exps/lawin_pretrained-complete.csv\")"
   ],
   "metadata": {
    "collapsed": false,
    "pycharm": {
     "name": "#%%\n"
    }
   }
  },
  {
   "cell_type": "markdown",
   "source": [
    "## Focal"
   ],
   "metadata": {
    "collapsed": false,
    "pycharm": {
     "name": "#%% md\n"
    }
   }
  },
  {
   "cell_type": "code",
   "execution_count": null,
   "outputs": [],
   "source": [
    "filters = {\n",
    "    'group': 'Focal'\n",
    "}\n",
    "selected_cols = [\n",
    "    'in_params.dataset.channels',\n",
    "    'in_params.train_params.freeze_pretrained',\n",
    "    'in_params.train_params.loss.params.gamma',\n",
    "    'in_params.model.params.backbone',\n",
    "    'f1',\n",
    "    'precision',\n",
    "    'recall'\n",
    "]\n",
    "roundings = ['F1', 'Precision', 'Recall']"
   ],
   "metadata": {
    "collapsed": false,
    "pycharm": {
     "name": "#%%\n"
    }
   }
  },
  {
   "cell_type": "code",
   "execution_count": null,
   "outputs": [],
   "source": [
    "runs_df = get_runs(filters)\n",
    "remove_hyp(runs_df)"
   ],
   "metadata": {
    "collapsed": false,
    "pycharm": {
     "name": "#%%\n"
    }
   }
  },
  {
   "cell_type": "code",
   "execution_count": null,
   "outputs": [],
   "source": [
    "projected_runs = runs_df[\n",
    "    selected_cols\n",
    "]\n",
    "# selected_runs = projected_runs[projected_runs['in_params.model.params.backbone'] == 'MiT-B0']\n",
    "selected_runs = projected_runs"
   ],
   "metadata": {
    "collapsed": false,
    "pycharm": {
     "name": "#%%\n"
    }
   }
  },
  {
   "cell_type": "code",
   "execution_count": null,
   "outputs": [],
   "source": [
    "selected_runs.rename(columns=renamings, inplace=True)\n",
    "rename_values(selected_runs, value_renamings)\n",
    "selected_runs[roundings] = selected_runs[roundings].round(5)\n",
    "selected_runs = selected_runs.applymap(lambda x: ', '.join(x) if isinstance(x, list) else x)"
   ],
   "metadata": {
    "collapsed": false,
    "pycharm": {
     "name": "#%%\n"
    }
   }
  },
  {
   "cell_type": "code",
   "execution_count": null,
   "outputs": [],
   "source": [
    "idx = selected_runs.groupby(by=['Channels', 'Strategy'])['F1'].transform(max) == selected_runs['F1']\n",
    "best_runs = selected_runs[idx]\n",
    "best_runs.sort_values(by=['Strategy', 'Channels'], key=lambda x: x.apply(lambda k: channels_ordering[k]), inplace=True)\n",
    "best_runs[roundings] = best_runs[roundings].round(3)\n",
    "selected_runs[roundings] = selected_runs[roundings].round(3)"
   ],
   "metadata": {
    "collapsed": false,
    "pycharm": {
     "name": "#%%\n"
    }
   }
  },
  {
   "cell_type": "code",
   "execution_count": null,
   "outputs": [],
   "source": [
    "best_runs"
   ],
   "metadata": {
    "collapsed": false,
    "pycharm": {
     "name": "#%%\n"
    }
   }
  },
  {
   "cell_type": "code",
   "execution_count": null,
   "outputs": [],
   "source": [
    "best_runs.to_csv(\"../../exps/focal.csv\")\n",
    "selected_runs.to_csv(\"../../exps/focal-complete.csv\")"
   ],
   "metadata": {
    "collapsed": false,
    "pycharm": {
     "name": "#%%\n"
    }
   }
  },
  {
   "cell_type": "markdown",
   "source": [
    "## SRR"
   ],
   "metadata": {
    "collapsed": false,
    "pycharm": {
     "name": "#%% md\n"
    }
   }
  },
  {
   "cell_type": "code",
   "execution_count": null,
   "outputs": [],
   "source": [
    "filters = {\n",
    "    'group': 'RandomRotation'\n",
    "}\n",
    "selected_cols = [\n",
    "    'in_params.dataset.channels',\n",
    "    'in_params.train_params.freeze_pretrained',\n",
    "    'in_params.train_params.loss.params.gamma',\n",
    "    'in_params.model.params.backbone',\n",
    "    'f1',\n",
    "    'precision',\n",
    "    'recall'\n",
    "]\n",
    "roundings = ['F1', 'Precision', 'Recall']"
   ],
   "metadata": {
    "collapsed": false,
    "pycharm": {
     "name": "#%%\n"
    }
   }
  },
  {
   "cell_type": "code",
   "execution_count": null,
   "outputs": [],
   "source": [
    "runs_df = get_runs(filters)\n",
    "remove_hyp(runs_df)"
   ],
   "metadata": {
    "collapsed": false,
    "pycharm": {
     "name": "#%%\n"
    }
   }
  },
  {
   "cell_type": "code",
   "execution_count": null,
   "outputs": [],
   "source": [
    "projected_runs = runs_df[\n",
    "    selected_cols\n",
    "]\n",
    "# selected_runs = projected_runs[projected_runs['in_params.model.params.backbone'] == 'MiT-B0']\n",
    "selected_runs = projected_runs\n",
    "selected_runs.fillna(\"\", inplace=True)"
   ],
   "metadata": {
    "collapsed": false,
    "pycharm": {
     "name": "#%%\n"
    }
   }
  },
  {
   "cell_type": "code",
   "execution_count": null,
   "outputs": [],
   "source": [
    "selected_runs.rename(columns=renamings, inplace=True)\n",
    "rename_values(selected_runs, value_renamings)\n",
    "selected_runs[roundings] = selected_runs[roundings].round(5)\n",
    "selected_runs = selected_runs.applymap(lambda x: ', '.join(x) if isinstance(x, list) else x)\n",
    "idx = selected_runs.groupby(by=['Channels', 'Strategy'])['F1'].transform(max) == selected_runs['F1']\n",
    "best_runs = selected_runs[idx]\n",
    "best_runs.sort_values(by=['Strategy', 'Channels'], key=lambda x: x.apply(lambda k: channels_ordering[k]), inplace=True)\n",
    "best_runs[roundings] = best_runs[roundings].round(3)\n",
    "selected_runs[roundings] = selected_runs[roundings].round(3)"
   ],
   "metadata": {
    "collapsed": false,
    "pycharm": {
     "name": "#%%\n"
    }
   }
  },
  {
   "cell_type": "code",
   "execution_count": null,
   "outputs": [],
   "source": [
    "best_runs"
   ],
   "metadata": {
    "collapsed": false,
    "pycharm": {
     "name": "#%%\n"
    }
   }
  },
  {
   "cell_type": "code",
   "execution_count": null,
   "outputs": [],
   "source": [
    "best_runs.to_csv(\"../../exps/rotation.csv\")\n",
    "selected_runs.to_csv(\"../../exps/rotation-complete.csv\")"
   ],
   "metadata": {
    "collapsed": false,
    "pycharm": {
     "name": "#%%\n"
    }
   }
  },
  {
   "cell_type": "markdown",
   "source": [
    "## Double Encoder"
   ],
   "metadata": {
    "collapsed": false,
    "pycharm": {
     "name": "#%% md\n"
    }
   }
  },
  {
   "cell_type": "code",
   "execution_count": null,
   "outputs": [],
   "source": [
    "filters = {\n",
    "    'group': 'DoubleLawin'\n",
    "}\n",
    "selected_cols = [\n",
    "    'in_params.dataset.channels',\n",
    "    'in_params.train_params.freeze_pretrained',\n",
    "    'in_params.train_params.loss.params.gamma',\n",
    "    'f1',\n",
    "    'precision',\n",
    "    'recall'\n",
    "]\n",
    "roundings = ['F1', 'Precision', 'Recall']"
   ],
   "metadata": {
    "collapsed": false,
    "pycharm": {
     "name": "#%%\n"
    }
   }
  },
  {
   "cell_type": "code",
   "execution_count": null,
   "outputs": [],
   "source": [
    "runs_df = get_runs(filters)\n",
    "remove_hyp(runs_df)"
   ],
   "metadata": {
    "collapsed": false,
    "pycharm": {
     "name": "#%%\n"
    }
   }
  },
  {
   "cell_type": "code",
   "execution_count": null,
   "outputs": [],
   "source": [
    "runs_df"
   ],
   "metadata": {
    "collapsed": false,
    "pycharm": {
     "name": "#%%\n"
    }
   }
  },
  {
   "cell_type": "code",
   "execution_count": null,
   "outputs": [],
   "source": [
    "projected_runs = runs_df[\n",
    "    selected_cols\n",
    "]\n",
    "# selected_runs = projected_runs[projected_runs['in_params.model.params.backbone'] == 'MiT-B0']\n",
    "selected_runs = projected_runs\n",
    "selected_runs.fillna(\"\", inplace=True)"
   ],
   "metadata": {
    "collapsed": false,
    "pycharm": {
     "name": "#%%\n"
    }
   }
  },
  {
   "cell_type": "code",
   "execution_count": null,
   "outputs": [],
   "source": [
    "selected_runs.rename(columns=renamings, inplace=True)\n",
    "rename_values(selected_runs, value_renamings)\n",
    "selected_runs[roundings] = selected_runs[roundings].round(5)\n",
    "selected_runs = selected_runs.applymap(lambda x: ', '.join(x) if isinstance(x, list) else x)\n",
    "idx = selected_runs.groupby(by=['Channels', 'Strategy'])['F1'].transform(max) == selected_runs['F1']\n",
    "best_runs = selected_runs[idx]\n",
    "best_runs.sort_values(by=['Strategy', 'Channels'], key=lambda x: x.apply(lambda k: channels_ordering[k]), inplace=True)\n",
    "best_runs[roundings] = best_runs[roundings].round(3)\n",
    "selected_runs[roundings] = selected_runs[roundings].round(3)"
   ],
   "metadata": {
    "collapsed": false,
    "pycharm": {
     "name": "#%%\n"
    }
   }
  },
  {
   "cell_type": "code",
   "execution_count": null,
   "outputs": [],
   "source": [
    "best_runs"
   ],
   "metadata": {
    "collapsed": false,
    "pycharm": {
     "name": "#%%\n"
    }
   }
  },
  {
   "cell_type": "code",
   "execution_count": null,
   "outputs": [],
   "source": [
    "best_runs.to_csv(\"../../exps/doublelawin.csv\")\n",
    "selected_runs.to_csv(\"../../exps/doublelawin-complete.csv\")"
   ],
   "metadata": {
    "collapsed": false,
    "pycharm": {
     "name": "#%%\n"
    }
   }
  },
  {
   "cell_type": "markdown",
   "source": [
    "## Double Encoder Pre-Trained"
   ],
   "metadata": {
    "collapsed": false,
    "pycharm": {
     "name": "#%% md\n"
    }
   }
  },
  {
   "cell_type": "code",
   "execution_count": null,
   "outputs": [],
   "source": [
    "filters = {\n",
    "    'group': 'DoubleLawinPretrained'\n",
    "}\n",
    "selected_cols = [\n",
    "    'in_params.dataset.channels',\n",
    "    'in_params.train_params.loss.params.gamma',\n",
    "    'f1',\n",
    "    'precision',\n",
    "    'recall'\n",
    "]\n",
    "roundings = ['F1', 'Precision', 'Recall']"
   ],
   "metadata": {
    "collapsed": false,
    "pycharm": {
     "name": "#%%\n"
    }
   }
  },
  {
   "cell_type": "code",
   "execution_count": null,
   "outputs": [],
   "source": [
    "runs_df = get_runs(filters)\n",
    "remove_hyp(runs_df)"
   ],
   "metadata": {
    "collapsed": false,
    "pycharm": {
     "name": "#%%\n"
    }
   }
  },
  {
   "cell_type": "code",
   "execution_count": null,
   "outputs": [],
   "source": [
    "projected_runs = runs_df[\n",
    "    selected_cols\n",
    "]\n",
    "# selected_runs = projected_runs[projected_runs['in_params.model.params.backbone'] == 'MiT-B0']\n",
    "selected_runs = projected_runs\n",
    "selected_runs.fillna(\"\", inplace=True)"
   ],
   "metadata": {
    "collapsed": false,
    "pycharm": {
     "name": "#%%\n"
    }
   }
  },
  {
   "cell_type": "code",
   "execution_count": null,
   "outputs": [],
   "source": [
    "selected_runs.fillna(\"\", inplace=True)\n",
    "selected_runs.rename(columns=renamings, inplace=True)\n",
    "rename_values(selected_runs, value_renamings)\n",
    "selected_runs[roundings] = selected_runs[roundings].round(5)\n",
    "selected_runs = selected_runs.applymap(lambda x: ', '.join(x) if isinstance(x, list) else x)"
   ],
   "metadata": {
    "collapsed": false,
    "pycharm": {
     "name": "#%%\n"
    }
   }
  },
  {
   "cell_type": "code",
   "execution_count": null,
   "outputs": [],
   "source": [
    "selected_runs"
   ],
   "metadata": {
    "collapsed": false,
    "pycharm": {
     "name": "#%%\n"
    }
   }
  },
  {
   "cell_type": "code",
   "execution_count": null,
   "outputs": [],
   "source": [
    "selected_runs.to_csv(\"../../exps/doublelawinpretrained.csv\")"
   ],
   "metadata": {
    "collapsed": false,
    "pycharm": {
     "name": "#%%\n"
    }
   }
  },
  {
   "cell_type": "markdown",
   "source": [
    "## Double Encoder Pre-Trained Drop"
   ],
   "metadata": {
    "collapsed": false,
    "pycharm": {
     "name": "#%% md\n"
    }
   }
  },
  {
   "cell_type": "code",
   "execution_count": null,
   "outputs": [],
   "source": [
    "filters = {\n",
    "    'group': 'DLPretrainedDrop'\n",
    "}\n",
    "selected_cols = [\n",
    "    'in_params.dataset.channels',\n",
    "    'in_params.train_params.loss.params.gamma',\n",
    "    'train_WrapF1',\n",
    "    'f1',\n",
    "    'precision',\n",
    "    'recall'\n",
    "]\n",
    "roundings = ['F1', 'Precision', 'Recall', 'Train F1']"
   ],
   "metadata": {
    "collapsed": false,
    "pycharm": {
     "name": "#%%\n"
    }
   }
  },
  {
   "cell_type": "code",
   "execution_count": null,
   "outputs": [],
   "source": [
    "runs_df = get_runs(filters)\n",
    "remove_hyp(runs_df)"
   ],
   "metadata": {
    "collapsed": false,
    "pycharm": {
     "name": "#%%\n"
    }
   }
  },
  {
   "cell_type": "code",
   "execution_count": null,
   "outputs": [],
   "source": [
    "projected_runs = runs_df[\n",
    "    selected_cols\n",
    "]\n",
    "# selected_runs = projected_runs[projected_runs['in_params.model.params.backbone'] == 'MiT-B0']\n",
    "selected_runs = projected_runs"
   ],
   "metadata": {
    "collapsed": false,
    "pycharm": {
     "name": "#%%\n"
    }
   }
  },
  {
   "cell_type": "code",
   "execution_count": null,
   "outputs": [],
   "source": [
    "selected_runs.fillna(\"\", inplace=True)\n",
    "selected_runs.rename(columns=renamings, inplace=True)\n",
    "rename_values(selected_runs, value_renamings)\n",
    "selected_runs[roundings] = selected_runs[roundings].round(5)\n",
    "selected_runs = selected_runs.applymap(lambda x: ', '.join(x) if isinstance(x, list) else x)"
   ],
   "metadata": {
    "collapsed": false,
    "pycharm": {
     "name": "#%%\n"
    }
   }
  },
  {
   "cell_type": "code",
   "execution_count": null,
   "outputs": [],
   "source": [
    "selected_runs"
   ],
   "metadata": {
    "collapsed": false,
    "pycharm": {
     "name": "#%%\n"
    }
   }
  },
  {
   "cell_type": "code",
   "execution_count": null,
   "outputs": [],
   "source": [
    "selected_runs.to_csv(\"../../exps/dlpretraineddrop.csv\")"
   ],
   "metadata": {
    "collapsed": false,
    "pycharm": {
     "name": "#%%\n"
    }
   }
  },
  {
   "cell_type": "markdown",
   "source": [
    "## RGB Weights"
   ],
   "metadata": {
    "collapsed": false,
    "pycharm": {
     "name": "#%% md\n"
    }
   }
  },
  {
   "cell_type": "code",
   "execution_count": 261,
   "outputs": [],
   "source": [
    "filters = {\n",
    "    'group': 'RedEdge'\n",
    "}\n",
    "selected_cols = [\n",
    "    'in_params.dataset.channels',\n",
    "    'in_params.model.params.backbone',\n",
    "    'in_params.train_params.freeze_pretrained',\n",
    "    'in_params.train_params.loss.params.gamma',\n",
    "    'in_params.model.params.main_pretrained',\n",
    "    'f1',\n",
    "    'precision',\n",
    "    'recall'\n",
    "]\n",
    "roundings = ['F1', 'Precision', 'Recall']"
   ],
   "metadata": {
    "collapsed": false,
    "pycharm": {
     "name": "#%%\n"
    }
   }
  },
  {
   "cell_type": "code",
   "execution_count": 262,
   "outputs": [
    {
     "data": {
      "text/plain": "['hyper_params.arch_params.schema',\n 'hyper_params.arch_params.sync_bn',\n 'hyper_params.arch_params.backbone',\n 'hyper_params.arch_params.in_channels',\n 'hyper_params.arch_params.num_classes',\n 'hyper_params.arch_params.out_channels',\n 'hyper_params.arch_params.main_channels',\n 'hyper_params.arch_params.input_channels',\n 'hyper_params.arch_params.main_pretrained',\n 'hyper_params.arch_params.output_channels',\n 'hyper_params.arch_params.side_pretrained',\n 'hyper_params.arch_params.backbone_pretrained',\n 'hyper_params.dataset_params.root',\n 'hyper_params.dataset_params.size',\n 'hyper_params.dataset_params.schema',\n 'hyper_params.dataset_params.s3_link',\n 'hyper_params.dataset_params.channels',\n 'hyper_params.dataset_params.hor_flip',\n 'hyper_params.dataset_params.ver_flip',\n 'hyper_params.dataset_params.crop_size',\n 'hyper_params.dataset_params.batch_size',\n 'hyper_params.dataset_params.dataset_dir',\n 'hyper_params.dataset_params.num_classes',\n 'hyper_params.dataset_params.num_workers',\n 'hyper_params.dataset_params.return_path',\n 'hyper_params.dataset_params.test_folders',\n 'hyper_params.dataset_params.train_folders',\n 'hyper_params.dataset_params.val_batch_size',\n 'hyper_params.dataset_params.test_batch_size',\n 'hyper_params.additional_log_items.multi_gpu',\n 'hyper_params.additional_log_items.initial_LR',\n 'hyper_params.additional_log_items.device_type',\n 'hyper_params.additional_log_items.num_devices',\n 'hyper_params.additional_log_items.installed_packages',\n 'hyper_params.training_hyperparams.ema',\n 'hyper_params.training_hyperparams.loss',\n 'hyper_params.training_hyperparams.seed',\n 'hyper_params.training_hyperparams.schema.if.properties.lr_mode.const',\n 'hyper_params.training_hyperparams.schema.then.required',\n 'hyper_params.training_hyperparams.schema.type',\n 'hyper_params.training_hyperparams.schema.required',\n 'hyper_params.training_hyperparams.schema.properties.initial_lr.type',\n 'hyper_params.training_hyperparams.schema.properties.initial_lr.maximum',\n 'hyper_params.training_hyperparams.schema.properties.initial_lr.exclusiveMinimum',\n 'hyper_params.training_hyperparams.schema.properties.max_epochs.type',\n 'hyper_params.training_hyperparams.schema.properties.max_epochs.minimum',\n 'hyper_params.training_hyperparams.schema.properties.lr_decay_factor.type',\n 'hyper_params.training_hyperparams.schema.properties.lr_decay_factor.maximum',\n 'hyper_params.training_hyperparams.schema.properties.lr_decay_factor.minimum',\n 'hyper_params.training_hyperparams.schema.properties.lr_warmup_epochs.type',\n 'hyper_params.training_hyperparams.schema.properties.lr_warmup_epochs.maximum',\n 'hyper_params.training_hyperparams.schema.properties.lr_warmup_epochs.minimum',\n 'hyper_params.training_hyperparams.lr_mode',\n 'hyper_params.training_hyperparams.optimizer',\n 'hyper_params.training_hyperparams.sg_logger',\n 'hyper_params.training_hyperparams.initial_lr',\n 'hyper_params.training_hyperparams.lr_updates',\n 'hyper_params.training_hyperparams.max_epochs',\n 'hyper_params.training_hyperparams.precise_bn',\n 'hyper_params.training_hyperparams.save_model',\n 'hyper_params.training_hyperparams.silent_mode',\n 'hyper_params.training_hyperparams.warmup_mode',\n 'hyper_params.training_hyperparams.load_opt_params',\n 'hyper_params.training_hyperparams.metric_to_watch',\n 'hyper_params.training_hyperparams.mixed_precision',\n 'hyper_params.training_hyperparams.phase_callbacks',\n 'hyper_params.training_hyperparams.batch_accumulate',\n 'hyper_params.training_hyperparams.lr_warmup_epochs',\n 'hyper_params.training_hyperparams.optimizer_params.weight_decay',\n 'hyper_params.training_hyperparams.sg_logger_params.tags',\n 'hyper_params.training_hyperparams.sg_logger_params.entity',\n 'hyper_params.training_hyperparams.sg_logger_params.project_name',\n 'hyper_params.training_hyperparams.sg_logger_params.save_logs_remote',\n 'hyper_params.training_hyperparams.sg_logger_params.tensorboard_port',\n 'hyper_params.training_hyperparams.sg_logger_params.launch_tensorboard',\n 'hyper_params.training_hyperparams.sg_logger_params.tb_files_user_prompt',\n 'hyper_params.training_hyperparams.sg_logger_params.save_checkpoints_remote',\n 'hyper_params.training_hyperparams.sg_logger_params.save_tensorboard_remote',\n 'hyper_params.training_hyperparams.tensorboard_port',\n 'hyper_params.training_hyperparams.freeze_pretrained',\n 'hyper_params.training_hyperparams.warmup_initial_lr',\n 'hyper_params.training_hyperparams.dataset_statistics',\n 'hyper_params.training_hyperparams.launch_tensorboard',\n 'hyper_params.training_hyperparams.train_metrics_list',\n 'hyper_params.training_hyperparams.valid_metrics_list',\n 'hyper_params.training_hyperparams.average_best_models',\n 'hyper_params.training_hyperparams.run_validation_freq',\n 'hyper_params.training_hyperparams.save_full_train_log',\n 'hyper_params.training_hyperparams.step_lr_update_freq',\n 'hyper_params.training_hyperparams.lr_schedule_function',\n 'hyper_params.training_hyperparams.save_ckpt_epoch_list',\n 'hyper_params.training_hyperparams.tb_files_user_prompt',\n 'hyper_params.training_hyperparams.cosine_final_lr_ratio',\n 'hyper_params.training_hyperparams.precise_bn_batch_size',\n 'hyper_params.training_hyperparams.log_installed_packages',\n 'hyper_params.training_hyperparams.save_tensorboard_to_s3',\n 'hyper_params.training_hyperparams.loss_logging_items_names',\n 'hyper_params.training_hyperparams.zero_weight_decay_on_bias_and_bn',\n 'hyper_params.training_hyperparams.greater_metric_to_watch_is_better']"
     },
     "metadata": {},
     "output_type": "display_data"
    }
   ],
   "source": [
    "runs_df = get_runs(filters)\n",
    "remove_hyp(runs_df)"
   ],
   "metadata": {
    "collapsed": false,
    "pycharm": {
     "name": "#%%\n"
    }
   }
  },
  {
   "cell_type": "code",
   "execution_count": 263,
   "outputs": [],
   "source": [
    "projected_runs = runs_df[\n",
    "    selected_cols\n",
    "]\n",
    "# selected_runs = projected_runs[projected_runs['in_params.model.params.backbone'] == 'MiT-B0']\n",
    "selected_runs = projected_runs"
   ],
   "metadata": {
    "collapsed": false,
    "pycharm": {
     "name": "#%%\n"
    }
   }
  },
  {
   "cell_type": "code",
   "execution_count": 266,
   "outputs": [],
   "source": [
    "selected_runs.fillna(0, inplace=True)\n",
    "selected_runs.rename(columns=renamings, inplace=True)\n",
    "selected_runs['Gamma'] = selected_runs['Gamma'].astype(float).astype(int)\n",
    "rename_values(selected_runs, value_renamings)\n",
    "selected_runs[roundings] = selected_runs[roundings].round(5)\n",
    "selected_runs = selected_runs.applymap(lambda x: ', '.join(x) if isinstance(x, list) else x)\n",
    "selected_runs[roundings] = selected_runs[roundings].round(3)\n",
    "selected_runs.sort_values(by=['Backbone', 'Channels', 'Strategy', 'Used Weights'], key=lambda x: x.apply(lambda k: channels_ordering[k]), inplace=True)"
   ],
   "metadata": {
    "collapsed": false,
    "pycharm": {
     "name": "#%%\n"
    }
   }
  },
  {
   "cell_type": "code",
   "execution_count": 267,
   "outputs": [
    {
     "data": {
      "text/plain": "         Channels Backbone     Strategy  Gamma Used Weights     F1  Precision  \\\n20  R, G, NIR, RE   MiT-B0  Fine-Tuning      2   R, G, G, G  0.447      0.711   \n22  R, G, NIR, RE   MiT-B0  Fine-Tuning      0   R, G, G, G  0.616      0.653   \n21  R, G, NIR, RE   MiT-B0       Freeze      2   R, G, G, G  0.499      0.612   \n23  R, G, NIR, RE   MiT-B0       Freeze      0   R, G, G, G  0.534      0.496   \n16            CIR   MiT-B0  Fine-Tuning      2      G, G, R  0.525      0.640   \n17            CIR   MiT-B0  Fine-Tuning      0      G, G, R  0.603      0.589   \n12            CIR   MiT-B0       Freeze      2      G, G, R  0.527      0.629   \n13            CIR   MiT-B0       Freeze      0      G, G, R  0.545      0.517   \n18           NDVI   MiT-B0  Fine-Tuning      2            G  0.572      0.607   \n19           NDVI   MiT-B0  Fine-Tuning      0            G  0.577      0.503   \n14           NDVI   MiT-B0       Freeze      2            G  0.646      0.614   \n15           NDVI   MiT-B0       Freeze      0            G  0.487      0.438   \n0   R, G, NIR, RE   MiT-B1  Fine-Tuning      2   R, G, G, G  0.476      0.727   \n2   R, G, NIR, RE   MiT-B1  Fine-Tuning      0   R, G, G, G  0.611      0.621   \n1   R, G, NIR, RE   MiT-B1       Freeze      2   R, G, G, G  0.493      0.610   \n3   R, G, NIR, RE   MiT-B1       Freeze      0   R, G, G, G  0.514      0.471   \n4             CIR   MiT-B1  Fine-Tuning      2      G, G, R  0.582      0.644   \n6             CIR   MiT-B1  Fine-Tuning      0      G, G, R  0.669      0.606   \n5             CIR   MiT-B1       Freeze      2      G, G, R  0.494      0.605   \n7             CIR   MiT-B1       Freeze      0      G, G, R  0.524      0.497   \n8            NDVI   MiT-B1  Fine-Tuning      2            G  0.645      0.636   \n10           NDVI   MiT-B1  Fine-Tuning      0            G  0.575      0.497   \n9            NDVI   MiT-B1       Freeze      2            G  0.656      0.595   \n11           NDVI   MiT-B1       Freeze      0            G  0.490      0.440   \n\n    Recall  \n20   0.433  \n22   0.697  \n21   0.452  \n23   0.753  \n16   0.510  \n17   0.756  \n12   0.481  \n13   0.767  \n18   0.634  \n19   0.923  \n14   0.698  \n15   0.927  \n0    0.428  \n2    0.750  \n1    0.446  \n3    0.651  \n4    0.582  \n6    0.787  \n5    0.448  \n7    0.689  \n8    0.699  \n10   0.863  \n9    0.817  \n11   0.924  ",
      "text/html": "<div>\n<style scoped>\n    .dataframe tbody tr th:only-of-type {\n        vertical-align: middle;\n    }\n\n    .dataframe tbody tr th {\n        vertical-align: top;\n    }\n\n    .dataframe thead th {\n        text-align: right;\n    }\n</style>\n<table border=\"1\" class=\"dataframe\">\n  <thead>\n    <tr style=\"text-align: right;\">\n      <th></th>\n      <th>Channels</th>\n      <th>Backbone</th>\n      <th>Strategy</th>\n      <th>Gamma</th>\n      <th>Used Weights</th>\n      <th>F1</th>\n      <th>Precision</th>\n      <th>Recall</th>\n    </tr>\n  </thead>\n  <tbody>\n    <tr>\n      <th>20</th>\n      <td>R, G, NIR, RE</td>\n      <td>MiT-B0</td>\n      <td>Fine-Tuning</td>\n      <td>2</td>\n      <td>R, G, G, G</td>\n      <td>0.447</td>\n      <td>0.711</td>\n      <td>0.433</td>\n    </tr>\n    <tr>\n      <th>22</th>\n      <td>R, G, NIR, RE</td>\n      <td>MiT-B0</td>\n      <td>Fine-Tuning</td>\n      <td>0</td>\n      <td>R, G, G, G</td>\n      <td>0.616</td>\n      <td>0.653</td>\n      <td>0.697</td>\n    </tr>\n    <tr>\n      <th>21</th>\n      <td>R, G, NIR, RE</td>\n      <td>MiT-B0</td>\n      <td>Freeze</td>\n      <td>2</td>\n      <td>R, G, G, G</td>\n      <td>0.499</td>\n      <td>0.612</td>\n      <td>0.452</td>\n    </tr>\n    <tr>\n      <th>23</th>\n      <td>R, G, NIR, RE</td>\n      <td>MiT-B0</td>\n      <td>Freeze</td>\n      <td>0</td>\n      <td>R, G, G, G</td>\n      <td>0.534</td>\n      <td>0.496</td>\n      <td>0.753</td>\n    </tr>\n    <tr>\n      <th>16</th>\n      <td>CIR</td>\n      <td>MiT-B0</td>\n      <td>Fine-Tuning</td>\n      <td>2</td>\n      <td>G, G, R</td>\n      <td>0.525</td>\n      <td>0.640</td>\n      <td>0.510</td>\n    </tr>\n    <tr>\n      <th>17</th>\n      <td>CIR</td>\n      <td>MiT-B0</td>\n      <td>Fine-Tuning</td>\n      <td>0</td>\n      <td>G, G, R</td>\n      <td>0.603</td>\n      <td>0.589</td>\n      <td>0.756</td>\n    </tr>\n    <tr>\n      <th>12</th>\n      <td>CIR</td>\n      <td>MiT-B0</td>\n      <td>Freeze</td>\n      <td>2</td>\n      <td>G, G, R</td>\n      <td>0.527</td>\n      <td>0.629</td>\n      <td>0.481</td>\n    </tr>\n    <tr>\n      <th>13</th>\n      <td>CIR</td>\n      <td>MiT-B0</td>\n      <td>Freeze</td>\n      <td>0</td>\n      <td>G, G, R</td>\n      <td>0.545</td>\n      <td>0.517</td>\n      <td>0.767</td>\n    </tr>\n    <tr>\n      <th>18</th>\n      <td>NDVI</td>\n      <td>MiT-B0</td>\n      <td>Fine-Tuning</td>\n      <td>2</td>\n      <td>G</td>\n      <td>0.572</td>\n      <td>0.607</td>\n      <td>0.634</td>\n    </tr>\n    <tr>\n      <th>19</th>\n      <td>NDVI</td>\n      <td>MiT-B0</td>\n      <td>Fine-Tuning</td>\n      <td>0</td>\n      <td>G</td>\n      <td>0.577</td>\n      <td>0.503</td>\n      <td>0.923</td>\n    </tr>\n    <tr>\n      <th>14</th>\n      <td>NDVI</td>\n      <td>MiT-B0</td>\n      <td>Freeze</td>\n      <td>2</td>\n      <td>G</td>\n      <td>0.646</td>\n      <td>0.614</td>\n      <td>0.698</td>\n    </tr>\n    <tr>\n      <th>15</th>\n      <td>NDVI</td>\n      <td>MiT-B0</td>\n      <td>Freeze</td>\n      <td>0</td>\n      <td>G</td>\n      <td>0.487</td>\n      <td>0.438</td>\n      <td>0.927</td>\n    </tr>\n    <tr>\n      <th>0</th>\n      <td>R, G, NIR, RE</td>\n      <td>MiT-B1</td>\n      <td>Fine-Tuning</td>\n      <td>2</td>\n      <td>R, G, G, G</td>\n      <td>0.476</td>\n      <td>0.727</td>\n      <td>0.428</td>\n    </tr>\n    <tr>\n      <th>2</th>\n      <td>R, G, NIR, RE</td>\n      <td>MiT-B1</td>\n      <td>Fine-Tuning</td>\n      <td>0</td>\n      <td>R, G, G, G</td>\n      <td>0.611</td>\n      <td>0.621</td>\n      <td>0.750</td>\n    </tr>\n    <tr>\n      <th>1</th>\n      <td>R, G, NIR, RE</td>\n      <td>MiT-B1</td>\n      <td>Freeze</td>\n      <td>2</td>\n      <td>R, G, G, G</td>\n      <td>0.493</td>\n      <td>0.610</td>\n      <td>0.446</td>\n    </tr>\n    <tr>\n      <th>3</th>\n      <td>R, G, NIR, RE</td>\n      <td>MiT-B1</td>\n      <td>Freeze</td>\n      <td>0</td>\n      <td>R, G, G, G</td>\n      <td>0.514</td>\n      <td>0.471</td>\n      <td>0.651</td>\n    </tr>\n    <tr>\n      <th>4</th>\n      <td>CIR</td>\n      <td>MiT-B1</td>\n      <td>Fine-Tuning</td>\n      <td>2</td>\n      <td>G, G, R</td>\n      <td>0.582</td>\n      <td>0.644</td>\n      <td>0.582</td>\n    </tr>\n    <tr>\n      <th>6</th>\n      <td>CIR</td>\n      <td>MiT-B1</td>\n      <td>Fine-Tuning</td>\n      <td>0</td>\n      <td>G, G, R</td>\n      <td>0.669</td>\n      <td>0.606</td>\n      <td>0.787</td>\n    </tr>\n    <tr>\n      <th>5</th>\n      <td>CIR</td>\n      <td>MiT-B1</td>\n      <td>Freeze</td>\n      <td>2</td>\n      <td>G, G, R</td>\n      <td>0.494</td>\n      <td>0.605</td>\n      <td>0.448</td>\n    </tr>\n    <tr>\n      <th>7</th>\n      <td>CIR</td>\n      <td>MiT-B1</td>\n      <td>Freeze</td>\n      <td>0</td>\n      <td>G, G, R</td>\n      <td>0.524</td>\n      <td>0.497</td>\n      <td>0.689</td>\n    </tr>\n    <tr>\n      <th>8</th>\n      <td>NDVI</td>\n      <td>MiT-B1</td>\n      <td>Fine-Tuning</td>\n      <td>2</td>\n      <td>G</td>\n      <td>0.645</td>\n      <td>0.636</td>\n      <td>0.699</td>\n    </tr>\n    <tr>\n      <th>10</th>\n      <td>NDVI</td>\n      <td>MiT-B1</td>\n      <td>Fine-Tuning</td>\n      <td>0</td>\n      <td>G</td>\n      <td>0.575</td>\n      <td>0.497</td>\n      <td>0.863</td>\n    </tr>\n    <tr>\n      <th>9</th>\n      <td>NDVI</td>\n      <td>MiT-B1</td>\n      <td>Freeze</td>\n      <td>2</td>\n      <td>G</td>\n      <td>0.656</td>\n      <td>0.595</td>\n      <td>0.817</td>\n    </tr>\n    <tr>\n      <th>11</th>\n      <td>NDVI</td>\n      <td>MiT-B1</td>\n      <td>Freeze</td>\n      <td>0</td>\n      <td>G</td>\n      <td>0.490</td>\n      <td>0.440</td>\n      <td>0.924</td>\n    </tr>\n  </tbody>\n</table>\n</div>"
     },
     "execution_count": 267,
     "metadata": {},
     "output_type": "execute_result"
    }
   ],
   "source": [
    "selected_runs"
   ],
   "metadata": {
    "collapsed": false,
    "pycharm": {
     "name": "#%%\n"
    }
   }
  },
  {
   "cell_type": "code",
   "execution_count": 268,
   "outputs": [],
   "source": [
    "selected_runs.to_csv(\"../../exps/rgb_weights-complete.csv\")"
   ],
   "metadata": {
    "collapsed": false,
    "pycharm": {
     "name": "#%%\n"
    }
   }
  },
  {
   "cell_type": "code",
   "execution_count": 275,
   "outputs": [],
   "source": [
    "filters = {\n",
    "    '$or': [{'group': 'RedEdge'}, {'group': 'RandomRotation'}]\n",
    "}\n",
    "selected_cols = [\n",
    "    'in_params.dataset.channels',\n",
    "    'in_params.model.params.backbone',\n",
    "    'in_params.train_params.freeze_pretrained',\n",
    "    'in_params.model.params.main_pretrained',\n",
    "    'f1',\n",
    "]\n",
    "roundings = ['F1']"
   ],
   "metadata": {
    "collapsed": false,
    "pycharm": {
     "name": "#%%\n"
    }
   }
  },
  {
   "cell_type": "code",
   "execution_count": 292,
   "outputs": [
    {
     "data": {
      "text/plain": "['hyper_params.arch_params.schema',\n 'hyper_params.arch_params.sync_bn',\n 'hyper_params.arch_params.backbone',\n 'hyper_params.arch_params.in_channels',\n 'hyper_params.arch_params.num_classes',\n 'hyper_params.arch_params.out_channels',\n 'hyper_params.arch_params.main_channels',\n 'hyper_params.arch_params.input_channels',\n 'hyper_params.arch_params.main_pretrained',\n 'hyper_params.arch_params.output_channels',\n 'hyper_params.arch_params.side_pretrained',\n 'hyper_params.arch_params.backbone_pretrained',\n 'hyper_params.dataset_params.root',\n 'hyper_params.dataset_params.size',\n 'hyper_params.dataset_params.schema',\n 'hyper_params.dataset_params.s3_link',\n 'hyper_params.dataset_params.channels',\n 'hyper_params.dataset_params.hor_flip',\n 'hyper_params.dataset_params.ver_flip',\n 'hyper_params.dataset_params.crop_size',\n 'hyper_params.dataset_params.batch_size',\n 'hyper_params.dataset_params.dataset_dir',\n 'hyper_params.dataset_params.num_classes',\n 'hyper_params.dataset_params.num_workers',\n 'hyper_params.dataset_params.return_path',\n 'hyper_params.dataset_params.test_folders',\n 'hyper_params.dataset_params.train_folders',\n 'hyper_params.dataset_params.val_batch_size',\n 'hyper_params.dataset_params.test_batch_size',\n 'hyper_params.additional_log_items.multi_gpu',\n 'hyper_params.additional_log_items.initial_LR',\n 'hyper_params.additional_log_items.device_type',\n 'hyper_params.additional_log_items.num_devices',\n 'hyper_params.additional_log_items.installed_packages',\n 'hyper_params.training_hyperparams.ema',\n 'hyper_params.training_hyperparams.loss',\n 'hyper_params.training_hyperparams.seed',\n 'hyper_params.training_hyperparams.schema.if.properties.lr_mode.const',\n 'hyper_params.training_hyperparams.schema.then.required',\n 'hyper_params.training_hyperparams.schema.type',\n 'hyper_params.training_hyperparams.schema.required',\n 'hyper_params.training_hyperparams.schema.properties.initial_lr.type',\n 'hyper_params.training_hyperparams.schema.properties.initial_lr.maximum',\n 'hyper_params.training_hyperparams.schema.properties.initial_lr.exclusiveMinimum',\n 'hyper_params.training_hyperparams.schema.properties.max_epochs.type',\n 'hyper_params.training_hyperparams.schema.properties.max_epochs.minimum',\n 'hyper_params.training_hyperparams.schema.properties.lr_decay_factor.type',\n 'hyper_params.training_hyperparams.schema.properties.lr_decay_factor.maximum',\n 'hyper_params.training_hyperparams.schema.properties.lr_decay_factor.minimum',\n 'hyper_params.training_hyperparams.schema.properties.lr_warmup_epochs.type',\n 'hyper_params.training_hyperparams.schema.properties.lr_warmup_epochs.maximum',\n 'hyper_params.training_hyperparams.schema.properties.lr_warmup_epochs.minimum',\n 'hyper_params.training_hyperparams.lr_mode',\n 'hyper_params.training_hyperparams.optimizer',\n 'hyper_params.training_hyperparams.sg_logger',\n 'hyper_params.training_hyperparams.initial_lr',\n 'hyper_params.training_hyperparams.lr_updates',\n 'hyper_params.training_hyperparams.max_epochs',\n 'hyper_params.training_hyperparams.precise_bn',\n 'hyper_params.training_hyperparams.save_model',\n 'hyper_params.training_hyperparams.silent_mode',\n 'hyper_params.training_hyperparams.warmup_mode',\n 'hyper_params.training_hyperparams.load_opt_params',\n 'hyper_params.training_hyperparams.metric_to_watch',\n 'hyper_params.training_hyperparams.mixed_precision',\n 'hyper_params.training_hyperparams.phase_callbacks',\n 'hyper_params.training_hyperparams.batch_accumulate',\n 'hyper_params.training_hyperparams.lr_warmup_epochs',\n 'hyper_params.training_hyperparams.optimizer_params.weight_decay',\n 'hyper_params.training_hyperparams.sg_logger_params.tags',\n 'hyper_params.training_hyperparams.sg_logger_params.entity',\n 'hyper_params.training_hyperparams.sg_logger_params.project_name',\n 'hyper_params.training_hyperparams.sg_logger_params.save_logs_remote',\n 'hyper_params.training_hyperparams.sg_logger_params.tensorboard_port',\n 'hyper_params.training_hyperparams.sg_logger_params.launch_tensorboard',\n 'hyper_params.training_hyperparams.sg_logger_params.tb_files_user_prompt',\n 'hyper_params.training_hyperparams.sg_logger_params.save_checkpoints_remote',\n 'hyper_params.training_hyperparams.sg_logger_params.save_tensorboard_remote',\n 'hyper_params.training_hyperparams.tensorboard_port',\n 'hyper_params.training_hyperparams.freeze_pretrained',\n 'hyper_params.training_hyperparams.warmup_initial_lr',\n 'hyper_params.training_hyperparams.dataset_statistics',\n 'hyper_params.training_hyperparams.launch_tensorboard',\n 'hyper_params.training_hyperparams.train_metrics_list',\n 'hyper_params.training_hyperparams.valid_metrics_list',\n 'hyper_params.training_hyperparams.average_best_models',\n 'hyper_params.training_hyperparams.run_validation_freq',\n 'hyper_params.training_hyperparams.save_full_train_log',\n 'hyper_params.training_hyperparams.step_lr_update_freq',\n 'hyper_params.training_hyperparams.lr_schedule_function',\n 'hyper_params.training_hyperparams.save_ckpt_epoch_list',\n 'hyper_params.training_hyperparams.tb_files_user_prompt',\n 'hyper_params.training_hyperparams.cosine_final_lr_ratio',\n 'hyper_params.training_hyperparams.precise_bn_batch_size',\n 'hyper_params.training_hyperparams.log_installed_packages',\n 'hyper_params.training_hyperparams.save_tensorboard_to_s3',\n 'hyper_params.training_hyperparams.loss_logging_items_names',\n 'hyper_params.training_hyperparams.zero_weight_decay_on_bias_and_bn',\n 'hyper_params.training_hyperparams.greater_metric_to_watch_is_better']"
     },
     "metadata": {},
     "output_type": "display_data"
    }
   ],
   "source": [
    "runs_df = get_runs(filters)\n",
    "remove_hyp(runs_df)\n",
    "projected_runs = runs_df[\n",
    "    selected_cols\n",
    "]\n",
    "selected_runs = projected_runs"
   ],
   "metadata": {
    "collapsed": false,
    "pycharm": {
     "name": "#%%\n"
    }
   }
  },
  {
   "cell_type": "code",
   "execution_count": 293,
   "outputs": [
    {
     "name": "stderr",
     "output_type": "stream",
     "text": [
      "C:\\Users\\pasqu\\AppData\\Local\\Temp\\ipykernel_11100\\1874336447.py:1: SettingWithCopyWarning: \n",
      "A value is trying to be set on a copy of a slice from a DataFrame\n",
      "\n",
      "See the caveats in the documentation: https://pandas.pydata.org/pandas-docs/stable/user_guide/indexing.html#returning-a-view-versus-a-copy\n",
      "  selected_runs.rename(columns=renamings, inplace=True)\n",
      "C:\\Users\\pasqu\\AppData\\Local\\Temp\\ipykernel_11100\\1874336447.py:4: SettingWithCopyWarning: \n",
      "A value is trying to be set on a copy of a slice from a DataFrame\n",
      "\n",
      "See the caveats in the documentation: https://pandas.pydata.org/pandas-docs/stable/user_guide/indexing.html#returning-a-view-versus-a-copy\n",
      "  selected_runs.drop(selected_runs[selected_runs['Channels'].isin([['R', 'G']])].index, inplace=True)\n"
     ]
    }
   ],
   "source": [
    "selected_runs.rename(columns=renamings, inplace=True)\n",
    "selected_runs.loc[(selected_runs['Channels'] == 'CIR') & selected_runs['Used Weights'].isna(), 'Used Weights'] = 'RGB'\n",
    "selected_runs.loc[(selected_runs['Channels'].isin([['NDVI']])) & selected_runs['Used Weights'].isna(), 'Used Weights'] = 'R'\n",
    "selected_runs.drop(selected_runs[selected_runs['Channels'].isin([['R', 'G']])].index, inplace=True)"
   ],
   "metadata": {
    "collapsed": false,
    "pycharm": {
     "name": "#%%\n"
    }
   }
  },
  {
   "cell_type": "code",
   "execution_count": 294,
   "outputs": [
    {
     "name": "stderr",
     "output_type": "stream",
     "text": [
      "C:\\Users\\pasqu\\AppData\\Local\\Temp\\ipykernel_11100\\2999623128.py:34: SettingWithCopyWarning: \n",
      "A value is trying to be set on a copy of a slice from a DataFrame.\n",
      "Try using .loc[row_indexer,col_indexer] = value instead\n",
      "\n",
      "See the caveats in the documentation: https://pandas.pydata.org/pandas-docs/stable/user_guide/indexing.html#returning-a-view-versus-a-copy\n",
      "  df[column] = df[column].replace(values)\n",
      "C:\\Users\\pasqu\\AppData\\Local\\Temp\\ipykernel_11100\\3723124597.py:2: SettingWithCopyWarning: \n",
      "A value is trying to be set on a copy of a slice from a DataFrame.\n",
      "Try using .loc[row_indexer,col_indexer] = value instead\n",
      "\n",
      "See the caveats in the documentation: https://pandas.pydata.org/pandas-docs/stable/user_guide/indexing.html#returning-a-view-versus-a-copy\n",
      "  selected_runs[roundings] = selected_runs[roundings].round(5)\n"
     ]
    }
   ],
   "source": [
    "rename_values(selected_runs, value_renamings)\n",
    "selected_runs[roundings] = selected_runs[roundings].round(5)\n",
    "selected_runs = selected_runs.applymap(lambda x: ', '.join(x) if isinstance(x, list) else x)\n",
    "selected_runs[roundings] = selected_runs[roundings].round(3)\n",
    "selected_runs.sort_values(by=['Backbone', 'Channels', 'Used Weights'],\n",
    "                          key=lambda x: x.apply(lambda k: channels_ordering[k]), inplace=True)"
   ],
   "metadata": {
    "collapsed": false,
    "pycharm": {
     "name": "#%%\n"
    }
   }
  },
  {
   "cell_type": "code",
   "execution_count": 304,
   "outputs": [
    {
     "name": "stderr",
     "output_type": "stream",
     "text": [
      "C:\\Users\\pasqu\\AppData\\Local\\Temp\\ipykernel_11100\\3340784096.py:3: SettingWithCopyWarning: \n",
      "A value is trying to be set on a copy of a slice from a DataFrame\n",
      "\n",
      "See the caveats in the documentation: https://pandas.pydata.org/pandas-docs/stable/user_guide/indexing.html#returning-a-view-versus-a-copy\n",
      "  best_runs.sort_values(by=['Channels', 'Strategy'], key=lambda x: x.apply(lambda k: channels_ordering[k]), inplace=True)\n",
      "C:\\Users\\pasqu\\AppData\\Local\\Temp\\ipykernel_11100\\3340784096.py:4: SettingWithCopyWarning: \n",
      "A value is trying to be set on a copy of a slice from a DataFrame.\n",
      "Try using .loc[row_indexer,col_indexer] = value instead\n",
      "\n",
      "See the caveats in the documentation: https://pandas.pydata.org/pandas-docs/stable/user_guide/indexing.html#returning-a-view-versus-a-copy\n",
      "  best_runs[roundings] = best_runs[roundings].round(3)\n"
     ]
    }
   ],
   "source": [
    "idx = selected_runs.groupby(by=['Channels', 'Strategy', 'Used Weights'])['F1'].transform(max) == selected_runs['F1']\n",
    "best_runs = selected_runs[idx]\n",
    "best_runs.sort_values(by=['Channels', 'Strategy'], key=lambda x: x.apply(lambda k: channels_ordering[k]), inplace=True)\n",
    "best_runs[roundings] = best_runs[roundings].round(3)"
   ],
   "metadata": {
    "collapsed": false,
    "pycharm": {
     "name": "#%%\n"
    }
   }
  },
  {
   "cell_type": "code",
   "execution_count": 305,
   "outputs": [
    {
     "data": {
      "text/plain": "         Channels Backbone     Strategy Used Weights     F1\n22  R, G, NIR, RE   MiT-B0  Fine-Tuning   R, G, G, G  0.616\n23  R, G, NIR, RE   MiT-B0       Freeze   R, G, G, G  0.534\n30            CIR   MiT-B1  Fine-Tuning          RGB  0.650\n6             CIR   MiT-B1  Fine-Tuning      G, G, R  0.669\n13            CIR   MiT-B0       Freeze      G, G, R  0.545\n27            CIR   MiT-B1       Freeze          RGB  0.602\n37           NDVI   MiT-B0  Fine-Tuning            R  0.594\n8            NDVI   MiT-B1  Fine-Tuning            G  0.645\n28           NDVI   MiT-B1       Freeze            R  0.685\n9            NDVI   MiT-B1       Freeze            G  0.656",
      "text/html": "<div>\n<style scoped>\n    .dataframe tbody tr th:only-of-type {\n        vertical-align: middle;\n    }\n\n    .dataframe tbody tr th {\n        vertical-align: top;\n    }\n\n    .dataframe thead th {\n        text-align: right;\n    }\n</style>\n<table border=\"1\" class=\"dataframe\">\n  <thead>\n    <tr style=\"text-align: right;\">\n      <th></th>\n      <th>Channels</th>\n      <th>Backbone</th>\n      <th>Strategy</th>\n      <th>Used Weights</th>\n      <th>F1</th>\n    </tr>\n  </thead>\n  <tbody>\n    <tr>\n      <th>22</th>\n      <td>R, G, NIR, RE</td>\n      <td>MiT-B0</td>\n      <td>Fine-Tuning</td>\n      <td>R, G, G, G</td>\n      <td>0.616</td>\n    </tr>\n    <tr>\n      <th>23</th>\n      <td>R, G, NIR, RE</td>\n      <td>MiT-B0</td>\n      <td>Freeze</td>\n      <td>R, G, G, G</td>\n      <td>0.534</td>\n    </tr>\n    <tr>\n      <th>30</th>\n      <td>CIR</td>\n      <td>MiT-B1</td>\n      <td>Fine-Tuning</td>\n      <td>RGB</td>\n      <td>0.650</td>\n    </tr>\n    <tr>\n      <th>6</th>\n      <td>CIR</td>\n      <td>MiT-B1</td>\n      <td>Fine-Tuning</td>\n      <td>G, G, R</td>\n      <td>0.669</td>\n    </tr>\n    <tr>\n      <th>13</th>\n      <td>CIR</td>\n      <td>MiT-B0</td>\n      <td>Freeze</td>\n      <td>G, G, R</td>\n      <td>0.545</td>\n    </tr>\n    <tr>\n      <th>27</th>\n      <td>CIR</td>\n      <td>MiT-B1</td>\n      <td>Freeze</td>\n      <td>RGB</td>\n      <td>0.602</td>\n    </tr>\n    <tr>\n      <th>37</th>\n      <td>NDVI</td>\n      <td>MiT-B0</td>\n      <td>Fine-Tuning</td>\n      <td>R</td>\n      <td>0.594</td>\n    </tr>\n    <tr>\n      <th>8</th>\n      <td>NDVI</td>\n      <td>MiT-B1</td>\n      <td>Fine-Tuning</td>\n      <td>G</td>\n      <td>0.645</td>\n    </tr>\n    <tr>\n      <th>28</th>\n      <td>NDVI</td>\n      <td>MiT-B1</td>\n      <td>Freeze</td>\n      <td>R</td>\n      <td>0.685</td>\n    </tr>\n    <tr>\n      <th>9</th>\n      <td>NDVI</td>\n      <td>MiT-B1</td>\n      <td>Freeze</td>\n      <td>G</td>\n      <td>0.656</td>\n    </tr>\n  </tbody>\n</table>\n</div>"
     },
     "execution_count": 305,
     "metadata": {},
     "output_type": "execute_result"
    }
   ],
   "source": [
    "best_runs"
   ],
   "metadata": {
    "collapsed": false,
    "pycharm": {
     "name": "#%%\n"
    }
   }
  },
  {
   "cell_type": "code",
   "execution_count": 321,
   "outputs": [
    {
     "data": {
      "text/plain": "   Channels Backbone_x     Strategy Used Weights_x   F1_x Backbone_y  \\\n3       CIR     MiT-B1  Fine-Tuning            RGB  0.650     MiT-B1   \n8       CIR     MiT-B1       Freeze            RGB  0.602     MiT-B0   \n11     NDVI     MiT-B0  Fine-Tuning              R  0.594     MiT-B1   \n15     NDVI     MiT-B1       Freeze              R  0.685     MiT-B1   \n\n   Used Weights_y   F1_y  \n3         G, G, R  0.669  \n8         G, G, R  0.545  \n11              G  0.645  \n15              G  0.656  ",
      "text/html": "<div>\n<style scoped>\n    .dataframe tbody tr th:only-of-type {\n        vertical-align: middle;\n    }\n\n    .dataframe tbody tr th {\n        vertical-align: top;\n    }\n\n    .dataframe thead th {\n        text-align: right;\n    }\n</style>\n<table border=\"1\" class=\"dataframe\">\n  <thead>\n    <tr style=\"text-align: right;\">\n      <th></th>\n      <th>Channels</th>\n      <th>Backbone_x</th>\n      <th>Strategy</th>\n      <th>Used Weights_x</th>\n      <th>F1_x</th>\n      <th>Backbone_y</th>\n      <th>Used Weights_y</th>\n      <th>F1_y</th>\n    </tr>\n  </thead>\n  <tbody>\n    <tr>\n      <th>3</th>\n      <td>CIR</td>\n      <td>MiT-B1</td>\n      <td>Fine-Tuning</td>\n      <td>RGB</td>\n      <td>0.650</td>\n      <td>MiT-B1</td>\n      <td>G, G, R</td>\n      <td>0.669</td>\n    </tr>\n    <tr>\n      <th>8</th>\n      <td>CIR</td>\n      <td>MiT-B1</td>\n      <td>Freeze</td>\n      <td>RGB</td>\n      <td>0.602</td>\n      <td>MiT-B0</td>\n      <td>G, G, R</td>\n      <td>0.545</td>\n    </tr>\n    <tr>\n      <th>11</th>\n      <td>NDVI</td>\n      <td>MiT-B0</td>\n      <td>Fine-Tuning</td>\n      <td>R</td>\n      <td>0.594</td>\n      <td>MiT-B1</td>\n      <td>G</td>\n      <td>0.645</td>\n    </tr>\n    <tr>\n      <th>15</th>\n      <td>NDVI</td>\n      <td>MiT-B1</td>\n      <td>Freeze</td>\n      <td>R</td>\n      <td>0.685</td>\n      <td>MiT-B1</td>\n      <td>G</td>\n      <td>0.656</td>\n    </tr>\n  </tbody>\n</table>\n</div>"
     },
     "execution_count": 321,
     "metadata": {},
     "output_type": "execute_result"
    }
   ],
   "source": [
    "compare_runs = best_runs.merge(best_runs, on=['Channels', 'Strategy'])\n",
    "compare_runs.drop(compare_runs[compare_runs['Used Weights_x'] == compare_runs['Used Weights_y']].index, inplace=True)\n",
    "compare_runs.drop(compare_runs[compare_runs['Used Weights_x'] == 'G, G, R'].index, inplace=True)\n",
    "compare_runs.drop(compare_runs[compare_runs['Used Weights_x'] == 'G'].index, inplace=True)\n",
    "compare_runs"
   ],
   "metadata": {
    "collapsed": false,
    "pycharm": {
     "name": "#%%\n"
    }
   }
  },
  {
   "cell_type": "code",
   "execution_count": 322,
   "outputs": [
    {
     "name": "stderr",
     "output_type": "stream",
     "text": [
      "C:\\Users\\pasqu\\AppData\\Local\\Temp\\ipykernel_11100\\4110542001.py:2: SettingWithCopyWarning: \n",
      "A value is trying to be set on a copy of a slice from a DataFrame\n",
      "\n",
      "See the caveats in the documentation: https://pandas.pydata.org/pandas-docs/stable/user_guide/indexing.html#returning-a-view-versus-a-copy\n",
      "  complete.rename(columns={'Gamma': 'Gamma_y', 'F1': 'F1_y', 'Used Weights': 'Used Weights_y', 'Backbone': 'Backbone_x'}, inplace=True)\n",
      "C:\\Users\\pasqu\\AppData\\Local\\Temp\\ipykernel_11100\\4110542001.py:3: FutureWarning: The frame.append method is deprecated and will be removed from pandas in a future version. Use pandas.concat instead.\n",
      "  compare_runs = compare_runs.append(complete)\n"
     ]
    },
    {
     "data": {
      "text/plain": "         Channels Backbone_x     Strategy Used Weights_x   F1_x Backbone_y  \\\n3             CIR     MiT-B1  Fine-Tuning            RGB   0.65     MiT-B1   \n8             CIR     MiT-B1       Freeze            RGB  0.602     MiT-B0   \n11           NDVI     MiT-B0  Fine-Tuning              R  0.594     MiT-B1   \n15           NDVI     MiT-B1       Freeze              R  0.685     MiT-B1   \n22  R, G, NIR, RE     MiT-B0  Fine-Tuning                                    \n23  R, G, NIR, RE     MiT-B0       Freeze                                    \n\n   Used Weights_y   F1_y  \n3         G, G, R  0.669  \n8         G, G, R  0.545  \n11              G  0.645  \n15              G  0.656  \n22     R, G, G, G  0.616  \n23     R, G, G, G  0.534  ",
      "text/html": "<div>\n<style scoped>\n    .dataframe tbody tr th:only-of-type {\n        vertical-align: middle;\n    }\n\n    .dataframe tbody tr th {\n        vertical-align: top;\n    }\n\n    .dataframe thead th {\n        text-align: right;\n    }\n</style>\n<table border=\"1\" class=\"dataframe\">\n  <thead>\n    <tr style=\"text-align: right;\">\n      <th></th>\n      <th>Channels</th>\n      <th>Backbone_x</th>\n      <th>Strategy</th>\n      <th>Used Weights_x</th>\n      <th>F1_x</th>\n      <th>Backbone_y</th>\n      <th>Used Weights_y</th>\n      <th>F1_y</th>\n    </tr>\n  </thead>\n  <tbody>\n    <tr>\n      <th>3</th>\n      <td>CIR</td>\n      <td>MiT-B1</td>\n      <td>Fine-Tuning</td>\n      <td>RGB</td>\n      <td>0.65</td>\n      <td>MiT-B1</td>\n      <td>G, G, R</td>\n      <td>0.669</td>\n    </tr>\n    <tr>\n      <th>8</th>\n      <td>CIR</td>\n      <td>MiT-B1</td>\n      <td>Freeze</td>\n      <td>RGB</td>\n      <td>0.602</td>\n      <td>MiT-B0</td>\n      <td>G, G, R</td>\n      <td>0.545</td>\n    </tr>\n    <tr>\n      <th>11</th>\n      <td>NDVI</td>\n      <td>MiT-B0</td>\n      <td>Fine-Tuning</td>\n      <td>R</td>\n      <td>0.594</td>\n      <td>MiT-B1</td>\n      <td>G</td>\n      <td>0.645</td>\n    </tr>\n    <tr>\n      <th>15</th>\n      <td>NDVI</td>\n      <td>MiT-B1</td>\n      <td>Freeze</td>\n      <td>R</td>\n      <td>0.685</td>\n      <td>MiT-B1</td>\n      <td>G</td>\n      <td>0.656</td>\n    </tr>\n    <tr>\n      <th>22</th>\n      <td>R, G, NIR, RE</td>\n      <td>MiT-B0</td>\n      <td>Fine-Tuning</td>\n      <td></td>\n      <td></td>\n      <td></td>\n      <td>R, G, G, G</td>\n      <td>0.616</td>\n    </tr>\n    <tr>\n      <th>23</th>\n      <td>R, G, NIR, RE</td>\n      <td>MiT-B0</td>\n      <td>Freeze</td>\n      <td></td>\n      <td></td>\n      <td></td>\n      <td>R, G, G, G</td>\n      <td>0.534</td>\n    </tr>\n  </tbody>\n</table>\n</div>"
     },
     "execution_count": 322,
     "metadata": {},
     "output_type": "execute_result"
    }
   ],
   "source": [
    "complete = best_runs[best_runs['Channels'] == 'R, G, NIR, RE']\n",
    "complete.rename(columns={'Gamma': 'Gamma_y', 'F1': 'F1_y', 'Used Weights': 'Used Weights_y', 'Backbone': 'Backbone_x'}, inplace=True)\n",
    "compare_runs = compare_runs.append(complete)\n",
    "compare_runs.fillna(\"\", inplace=True)\n",
    "compare_runs"
   ],
   "metadata": {
    "collapsed": false,
    "pycharm": {
     "name": "#%%\n"
    }
   }
  },
  {
   "cell_type": "code",
   "execution_count": 324,
   "outputs": [],
   "source": [
    "compare_runs.to_csv(\"../../exps/rgb_weights.csv\")"
   ],
   "metadata": {
    "collapsed": false,
    "pycharm": {
     "name": "#%%\n"
    }
   }
  },
  {
   "cell_type": "code",
   "execution_count": null,
   "outputs": [],
   "source": [],
   "metadata": {
    "collapsed": false,
    "pycharm": {
     "name": "#%%\n"
    }
   }
  },
  {
   "cell_type": "markdown",
   "source": [
    "## Laweed"
   ],
   "metadata": {
    "collapsed": false,
    "pycharm": {
     "name": "#%% md\n"
    }
   }
  },
  {
   "cell_type": "code",
   "execution_count": 331,
   "outputs": [],
   "source": [
    "filters = {\n",
    "    'group': 'Laweed'\n",
    "}\n",
    "selected_cols = [\n",
    "    'in_params.dataset.channels',\n",
    "    'in_params.train_params.loss.params.gamma',\n",
    "    'in_params.train_params.freeze_pretrained',\n",
    "    'in_params.model.params.main_pretrained',\n",
    "    'f1',\n",
    "    'precision',\n",
    "    'recall'\n",
    "]\n",
    "roundings = ['F1', 'Precision', 'Recall']"
   ],
   "metadata": {
    "collapsed": false,
    "pycharm": {
     "name": "#%%\n"
    }
   }
  },
  {
   "cell_type": "code",
   "execution_count": 332,
   "outputs": [
    {
     "data": {
      "text/plain": "['hyper_params.arch_params.schema',\n 'hyper_params.arch_params.sync_bn',\n 'hyper_params.arch_params.backbone',\n 'hyper_params.arch_params.in_channels',\n 'hyper_params.arch_params.num_classes',\n 'hyper_params.arch_params.out_channels',\n 'hyper_params.arch_params.main_channels',\n 'hyper_params.arch_params.input_channels',\n 'hyper_params.arch_params.main_pretrained',\n 'hyper_params.arch_params.output_channels',\n 'hyper_params.arch_params.side_pretrained',\n 'hyper_params.arch_params.backbone_pretrained',\n 'hyper_params.dataset_params.root',\n 'hyper_params.dataset_params.size',\n 'hyper_params.dataset_params.schema',\n 'hyper_params.dataset_params.s3_link',\n 'hyper_params.dataset_params.channels',\n 'hyper_params.dataset_params.hor_flip',\n 'hyper_params.dataset_params.ver_flip',\n 'hyper_params.dataset_params.crop_size',\n 'hyper_params.dataset_params.batch_size',\n 'hyper_params.dataset_params.dataset_dir',\n 'hyper_params.dataset_params.num_classes',\n 'hyper_params.dataset_params.num_workers',\n 'hyper_params.dataset_params.return_path',\n 'hyper_params.dataset_params.test_folders',\n 'hyper_params.dataset_params.train_folders',\n 'hyper_params.dataset_params.val_batch_size',\n 'hyper_params.dataset_params.test_batch_size',\n 'hyper_params.additional_log_items.multi_gpu',\n 'hyper_params.additional_log_items.initial_LR',\n 'hyper_params.additional_log_items.device_type',\n 'hyper_params.additional_log_items.num_devices',\n 'hyper_params.additional_log_items.installed_packages',\n 'hyper_params.training_hyperparams.ema',\n 'hyper_params.training_hyperparams.loss',\n 'hyper_params.training_hyperparams.seed',\n 'hyper_params.training_hyperparams.schema.if.properties.lr_mode.const',\n 'hyper_params.training_hyperparams.schema.then.required',\n 'hyper_params.training_hyperparams.schema.type',\n 'hyper_params.training_hyperparams.schema.required',\n 'hyper_params.training_hyperparams.schema.properties.initial_lr.type',\n 'hyper_params.training_hyperparams.schema.properties.initial_lr.maximum',\n 'hyper_params.training_hyperparams.schema.properties.initial_lr.exclusiveMinimum',\n 'hyper_params.training_hyperparams.schema.properties.max_epochs.type',\n 'hyper_params.training_hyperparams.schema.properties.max_epochs.minimum',\n 'hyper_params.training_hyperparams.schema.properties.lr_decay_factor.type',\n 'hyper_params.training_hyperparams.schema.properties.lr_decay_factor.maximum',\n 'hyper_params.training_hyperparams.schema.properties.lr_decay_factor.minimum',\n 'hyper_params.training_hyperparams.schema.properties.lr_warmup_epochs.type',\n 'hyper_params.training_hyperparams.schema.properties.lr_warmup_epochs.maximum',\n 'hyper_params.training_hyperparams.schema.properties.lr_warmup_epochs.minimum',\n 'hyper_params.training_hyperparams.lr_mode',\n 'hyper_params.training_hyperparams.optimizer',\n 'hyper_params.training_hyperparams.sg_logger',\n 'hyper_params.training_hyperparams.initial_lr',\n 'hyper_params.training_hyperparams.lr_updates',\n 'hyper_params.training_hyperparams.max_epochs',\n 'hyper_params.training_hyperparams.precise_bn',\n 'hyper_params.training_hyperparams.save_model',\n 'hyper_params.training_hyperparams.silent_mode',\n 'hyper_params.training_hyperparams.warmup_mode',\n 'hyper_params.training_hyperparams.load_opt_params',\n 'hyper_params.training_hyperparams.metric_to_watch',\n 'hyper_params.training_hyperparams.mixed_precision',\n 'hyper_params.training_hyperparams.phase_callbacks',\n 'hyper_params.training_hyperparams.batch_accumulate',\n 'hyper_params.training_hyperparams.lr_warmup_epochs',\n 'hyper_params.training_hyperparams.optimizer_params.weight_decay',\n 'hyper_params.training_hyperparams.sg_logger_params.tags',\n 'hyper_params.training_hyperparams.sg_logger_params.entity',\n 'hyper_params.training_hyperparams.sg_logger_params.project_name',\n 'hyper_params.training_hyperparams.sg_logger_params.save_logs_remote',\n 'hyper_params.training_hyperparams.sg_logger_params.tensorboard_port',\n 'hyper_params.training_hyperparams.sg_logger_params.launch_tensorboard',\n 'hyper_params.training_hyperparams.sg_logger_params.tb_files_user_prompt',\n 'hyper_params.training_hyperparams.sg_logger_params.save_checkpoints_remote',\n 'hyper_params.training_hyperparams.sg_logger_params.save_tensorboard_remote',\n 'hyper_params.training_hyperparams.tensorboard_port',\n 'hyper_params.training_hyperparams.freeze_pretrained',\n 'hyper_params.training_hyperparams.warmup_initial_lr',\n 'hyper_params.training_hyperparams.dataset_statistics',\n 'hyper_params.training_hyperparams.launch_tensorboard',\n 'hyper_params.training_hyperparams.train_metrics_list',\n 'hyper_params.training_hyperparams.valid_metrics_list',\n 'hyper_params.training_hyperparams.average_best_models',\n 'hyper_params.training_hyperparams.run_validation_freq',\n 'hyper_params.training_hyperparams.save_full_train_log',\n 'hyper_params.training_hyperparams.step_lr_update_freq',\n 'hyper_params.training_hyperparams.lr_schedule_function',\n 'hyper_params.training_hyperparams.save_ckpt_epoch_list',\n 'hyper_params.training_hyperparams.tb_files_user_prompt',\n 'hyper_params.training_hyperparams.cosine_final_lr_ratio',\n 'hyper_params.training_hyperparams.precise_bn_batch_size',\n 'hyper_params.training_hyperparams.log_installed_packages',\n 'hyper_params.training_hyperparams.save_tensorboard_to_s3',\n 'hyper_params.training_hyperparams.loss_logging_items_names',\n 'hyper_params.training_hyperparams.zero_weight_decay_on_bias_and_bn',\n 'hyper_params.training_hyperparams.greater_metric_to_watch_is_better']"
     },
     "metadata": {},
     "output_type": "display_data"
    }
   ],
   "source": [
    "runs_df = get_runs(filters)\n",
    "remove_hyp(runs_df)"
   ],
   "metadata": {
    "collapsed": false,
    "pycharm": {
     "name": "#%%\n"
    }
   }
  },
  {
   "cell_type": "code",
   "execution_count": 333,
   "outputs": [],
   "source": [
    "projected_runs = runs_df[\n",
    "    selected_cols\n",
    "]\n",
    "# selected_runs = projected_runs[projected_runs['in_params.model.params.backbone'] == 'MiT-B0']\n",
    "selected_runs = projected_runs"
   ],
   "metadata": {
    "collapsed": false,
    "pycharm": {
     "name": "#%%\n"
    }
   }
  },
  {
   "cell_type": "code",
   "execution_count": 334,
   "outputs": [
    {
     "name": "stderr",
     "output_type": "stream",
     "text": [
      "C:\\Users\\pasqu\\AppData\\Local\\Temp\\ipykernel_11100\\1084863829.py:1: SettingWithCopyWarning: \n",
      "A value is trying to be set on a copy of a slice from a DataFrame\n",
      "\n",
      "See the caveats in the documentation: https://pandas.pydata.org/pandas-docs/stable/user_guide/indexing.html#returning-a-view-versus-a-copy\n",
      "  selected_runs.rename(columns=renamings, inplace=True)\n",
      "C:\\Users\\pasqu\\AppData\\Local\\Temp\\ipykernel_11100\\2999623128.py:34: SettingWithCopyWarning: \n",
      "A value is trying to be set on a copy of a slice from a DataFrame.\n",
      "Try using .loc[row_indexer,col_indexer] = value instead\n",
      "\n",
      "See the caveats in the documentation: https://pandas.pydata.org/pandas-docs/stable/user_guide/indexing.html#returning-a-view-versus-a-copy\n",
      "  df[column] = df[column].replace(values)\n",
      "C:\\Users\\pasqu\\AppData\\Local\\Temp\\ipykernel_11100\\1084863829.py:3: SettingWithCopyWarning: \n",
      "A value is trying to be set on a copy of a slice from a DataFrame.\n",
      "Try using .loc[row_indexer,col_indexer] = value instead\n",
      "\n",
      "See the caveats in the documentation: https://pandas.pydata.org/pandas-docs/stable/user_guide/indexing.html#returning-a-view-versus-a-copy\n",
      "  selected_runs[roundings] = selected_runs[roundings].round(5)\n",
      "C:\\Users\\pasqu\\AppData\\Local\\Temp\\ipykernel_11100\\1084863829.py:4: SettingWithCopyWarning: \n",
      "A value is trying to be set on a copy of a slice from a DataFrame\n",
      "\n",
      "See the caveats in the documentation: https://pandas.pydata.org/pandas-docs/stable/user_guide/indexing.html#returning-a-view-versus-a-copy\n",
      "  selected_runs.fillna(0, inplace=True)\n",
      "C:\\Users\\pasqu\\AppData\\Local\\Temp\\ipykernel_11100\\1084863829.py:8: SettingWithCopyWarning: \n",
      "A value is trying to be set on a copy of a slice from a DataFrame\n",
      "\n",
      "See the caveats in the documentation: https://pandas.pydata.org/pandas-docs/stable/user_guide/indexing.html#returning-a-view-versus-a-copy\n",
      "  best_runs.sort_values(by=['Strategy', 'Channels'], key=lambda x: x.apply(lambda k: channels_ordering[k]), inplace=True)\n",
      "C:\\Users\\pasqu\\AppData\\Local\\Temp\\ipykernel_11100\\1084863829.py:9: SettingWithCopyWarning: \n",
      "A value is trying to be set on a copy of a slice from a DataFrame.\n",
      "Try using .loc[row_indexer,col_indexer] = value instead\n",
      "\n",
      "See the caveats in the documentation: https://pandas.pydata.org/pandas-docs/stable/user_guide/indexing.html#returning-a-view-versus-a-copy\n",
      "  best_runs[roundings] = best_runs[roundings].round(3)\n"
     ]
    }
   ],
   "source": [
    "selected_runs.rename(columns=renamings, inplace=True)\n",
    "rename_values(selected_runs, value_renamings)\n",
    "selected_runs[roundings] = selected_runs[roundings].round(5)\n",
    "selected_runs.fillna(0, inplace=True)\n",
    "selected_runs = selected_runs.applymap(lambda x: ', '.join(x) if isinstance(x, list) else x)\n",
    "idx = selected_runs.groupby(by=['Channels', 'Strategy'])['F1'].transform(max) == selected_runs['F1']\n",
    "best_runs = selected_runs[idx]\n",
    "best_runs.sort_values(by=['Strategy', 'Channels'], key=lambda x: x.apply(lambda k: channels_ordering[k]), inplace=True)\n",
    "best_runs[roundings] = best_runs[roundings].round(3)\n",
    "selected_runs[roundings] = selected_runs[roundings].round(3)"
   ],
   "metadata": {
    "collapsed": false,
    "pycharm": {
     "name": "#%%\n"
    }
   }
  },
  {
   "cell_type": "code",
   "execution_count": 335,
   "outputs": [
    {
     "data": {
      "text/plain": "         Channels  Gamma     Strategy Used Weights     F1  Precision  Recall\n0   R, G, NIR, RE    2.0  Fine-Tuning   R, G, G, G  0.444      0.656   0.429\n1   R, G, NIR, RE    2.0       Freeze   R, G, G, G  0.489      0.616   0.449\n2   R, G, NIR, RE    0.0  Fine-Tuning   R, G, G, G  0.603      0.593   0.774\n3   R, G, NIR, RE    0.0       Freeze   R, G, G, G  0.530      0.494   0.773\n4             CIR    2.0  Fine-Tuning            0  0.512      0.705   0.475\n5             CIR    2.0       Freeze            0  0.561      0.686   0.502\n6             CIR    0.0  Fine-Tuning            0  0.622      0.622   0.702\n7             CIR    0.0       Freeze            0  0.592      0.532   0.817\n8            NDVI    2.0  Fine-Tuning            G  0.428      0.663   0.472\n9            NDVI    2.0       Freeze            G  0.567      0.703   0.508\n10           NDVI    0.0  Fine-Tuning            G  0.587      0.523   0.870\n11           NDVI    0.0       Freeze            G  0.513      0.480   0.858",
      "text/html": "<div>\n<style scoped>\n    .dataframe tbody tr th:only-of-type {\n        vertical-align: middle;\n    }\n\n    .dataframe tbody tr th {\n        vertical-align: top;\n    }\n\n    .dataframe thead th {\n        text-align: right;\n    }\n</style>\n<table border=\"1\" class=\"dataframe\">\n  <thead>\n    <tr style=\"text-align: right;\">\n      <th></th>\n      <th>Channels</th>\n      <th>Gamma</th>\n      <th>Strategy</th>\n      <th>Used Weights</th>\n      <th>F1</th>\n      <th>Precision</th>\n      <th>Recall</th>\n    </tr>\n  </thead>\n  <tbody>\n    <tr>\n      <th>0</th>\n      <td>R, G, NIR, RE</td>\n      <td>2.0</td>\n      <td>Fine-Tuning</td>\n      <td>R, G, G, G</td>\n      <td>0.444</td>\n      <td>0.656</td>\n      <td>0.429</td>\n    </tr>\n    <tr>\n      <th>1</th>\n      <td>R, G, NIR, RE</td>\n      <td>2.0</td>\n      <td>Freeze</td>\n      <td>R, G, G, G</td>\n      <td>0.489</td>\n      <td>0.616</td>\n      <td>0.449</td>\n    </tr>\n    <tr>\n      <th>2</th>\n      <td>R, G, NIR, RE</td>\n      <td>0.0</td>\n      <td>Fine-Tuning</td>\n      <td>R, G, G, G</td>\n      <td>0.603</td>\n      <td>0.593</td>\n      <td>0.774</td>\n    </tr>\n    <tr>\n      <th>3</th>\n      <td>R, G, NIR, RE</td>\n      <td>0.0</td>\n      <td>Freeze</td>\n      <td>R, G, G, G</td>\n      <td>0.530</td>\n      <td>0.494</td>\n      <td>0.773</td>\n    </tr>\n    <tr>\n      <th>4</th>\n      <td>CIR</td>\n      <td>2.0</td>\n      <td>Fine-Tuning</td>\n      <td>0</td>\n      <td>0.512</td>\n      <td>0.705</td>\n      <td>0.475</td>\n    </tr>\n    <tr>\n      <th>5</th>\n      <td>CIR</td>\n      <td>2.0</td>\n      <td>Freeze</td>\n      <td>0</td>\n      <td>0.561</td>\n      <td>0.686</td>\n      <td>0.502</td>\n    </tr>\n    <tr>\n      <th>6</th>\n      <td>CIR</td>\n      <td>0.0</td>\n      <td>Fine-Tuning</td>\n      <td>0</td>\n      <td>0.622</td>\n      <td>0.622</td>\n      <td>0.702</td>\n    </tr>\n    <tr>\n      <th>7</th>\n      <td>CIR</td>\n      <td>0.0</td>\n      <td>Freeze</td>\n      <td>0</td>\n      <td>0.592</td>\n      <td>0.532</td>\n      <td>0.817</td>\n    </tr>\n    <tr>\n      <th>8</th>\n      <td>NDVI</td>\n      <td>2.0</td>\n      <td>Fine-Tuning</td>\n      <td>G</td>\n      <td>0.428</td>\n      <td>0.663</td>\n      <td>0.472</td>\n    </tr>\n    <tr>\n      <th>9</th>\n      <td>NDVI</td>\n      <td>2.0</td>\n      <td>Freeze</td>\n      <td>G</td>\n      <td>0.567</td>\n      <td>0.703</td>\n      <td>0.508</td>\n    </tr>\n    <tr>\n      <th>10</th>\n      <td>NDVI</td>\n      <td>0.0</td>\n      <td>Fine-Tuning</td>\n      <td>G</td>\n      <td>0.587</td>\n      <td>0.523</td>\n      <td>0.870</td>\n    </tr>\n    <tr>\n      <th>11</th>\n      <td>NDVI</td>\n      <td>0.0</td>\n      <td>Freeze</td>\n      <td>G</td>\n      <td>0.513</td>\n      <td>0.480</td>\n      <td>0.858</td>\n    </tr>\n  </tbody>\n</table>\n</div>"
     },
     "execution_count": 335,
     "metadata": {},
     "output_type": "execute_result"
    }
   ],
   "source": [
    "selected_runs"
   ],
   "metadata": {
    "collapsed": false,
    "pycharm": {
     "name": "#%%\n"
    }
   }
  },
  {
   "cell_type": "code",
   "execution_count": 336,
   "outputs": [
    {
     "data": {
      "text/plain": "         Channels  Gamma     Strategy Used Weights     F1  Precision  Recall\n2   R, G, NIR, RE    0.0  Fine-Tuning   R, G, G, G  0.603      0.593   0.774\n6             CIR    0.0  Fine-Tuning            0  0.622      0.622   0.702\n10           NDVI    0.0  Fine-Tuning            G  0.587      0.523   0.870\n3   R, G, NIR, RE    0.0       Freeze   R, G, G, G  0.530      0.494   0.773\n7             CIR    0.0       Freeze            0  0.592      0.532   0.817\n9            NDVI    2.0       Freeze            G  0.567      0.703   0.508",
      "text/html": "<div>\n<style scoped>\n    .dataframe tbody tr th:only-of-type {\n        vertical-align: middle;\n    }\n\n    .dataframe tbody tr th {\n        vertical-align: top;\n    }\n\n    .dataframe thead th {\n        text-align: right;\n    }\n</style>\n<table border=\"1\" class=\"dataframe\">\n  <thead>\n    <tr style=\"text-align: right;\">\n      <th></th>\n      <th>Channels</th>\n      <th>Gamma</th>\n      <th>Strategy</th>\n      <th>Used Weights</th>\n      <th>F1</th>\n      <th>Precision</th>\n      <th>Recall</th>\n    </tr>\n  </thead>\n  <tbody>\n    <tr>\n      <th>2</th>\n      <td>R, G, NIR, RE</td>\n      <td>0.0</td>\n      <td>Fine-Tuning</td>\n      <td>R, G, G, G</td>\n      <td>0.603</td>\n      <td>0.593</td>\n      <td>0.774</td>\n    </tr>\n    <tr>\n      <th>6</th>\n      <td>CIR</td>\n      <td>0.0</td>\n      <td>Fine-Tuning</td>\n      <td>0</td>\n      <td>0.622</td>\n      <td>0.622</td>\n      <td>0.702</td>\n    </tr>\n    <tr>\n      <th>10</th>\n      <td>NDVI</td>\n      <td>0.0</td>\n      <td>Fine-Tuning</td>\n      <td>G</td>\n      <td>0.587</td>\n      <td>0.523</td>\n      <td>0.870</td>\n    </tr>\n    <tr>\n      <th>3</th>\n      <td>R, G, NIR, RE</td>\n      <td>0.0</td>\n      <td>Freeze</td>\n      <td>R, G, G, G</td>\n      <td>0.530</td>\n      <td>0.494</td>\n      <td>0.773</td>\n    </tr>\n    <tr>\n      <th>7</th>\n      <td>CIR</td>\n      <td>0.0</td>\n      <td>Freeze</td>\n      <td>0</td>\n      <td>0.592</td>\n      <td>0.532</td>\n      <td>0.817</td>\n    </tr>\n    <tr>\n      <th>9</th>\n      <td>NDVI</td>\n      <td>2.0</td>\n      <td>Freeze</td>\n      <td>G</td>\n      <td>0.567</td>\n      <td>0.703</td>\n      <td>0.508</td>\n    </tr>\n  </tbody>\n</table>\n</div>"
     },
     "execution_count": 336,
     "metadata": {},
     "output_type": "execute_result"
    }
   ],
   "source": [
    "best_runs"
   ],
   "metadata": {
    "collapsed": false,
    "pycharm": {
     "name": "#%%\n"
    }
   }
  },
  {
   "cell_type": "code",
   "execution_count": null,
   "outputs": [],
   "source": [
    "selected_runs.to_csv(\"../../exps/laweed-complete.csv\")"
   ],
   "metadata": {
    "collapsed": false,
    "pycharm": {
     "name": "#%%\n"
    }
   }
  },
  {
   "cell_type": "markdown",
   "source": [
    "## Double Laweed"
   ],
   "metadata": {
    "collapsed": false,
    "pycharm": {
     "name": "#%% md\n"
    }
   }
  },
  {
   "cell_type": "code",
   "execution_count": null,
   "outputs": [],
   "source": [
    "filters = {\n",
    "    '$or': [{'group': 'DoubleLaweedPretrained'}, {'group': 'DoubleLaweedPrBatch'}, {'group': 'DoubleLaweedPrDropBatch'}]\n",
    "}\n",
    "selected_cols = [\n",
    "    'in_params.dataset.channels',\n",
    "    'in_params.train_params.loss.params.gamma',\n",
    "    'in_params.model.params.fusion_type',\n",
    "    'in_params.dataset.batch_size',\n",
    "    'f1',\n",
    "    'precision',\n",
    "    'recall'\n",
    "]\n",
    "roundings = ['F1', 'Precision', 'Recall']"
   ],
   "metadata": {
    "collapsed": false,
    "pycharm": {
     "name": "#%%\n"
    }
   }
  },
  {
   "cell_type": "code",
   "execution_count": null,
   "outputs": [],
   "source": [
    "runs_df = get_runs(filters)\n",
    "remove_hyp(runs_df)"
   ],
   "metadata": {
    "collapsed": false,
    "pycharm": {
     "name": "#%%\n"
    }
   }
  },
  {
   "cell_type": "code",
   "execution_count": null,
   "outputs": [],
   "source": [
    "projected_runs = runs_df[\n",
    "    selected_cols\n",
    "]\n",
    "# selected_runs = projected_runs[projected_runs['in_params.model.params.backbone'] == 'MiT-B0']\n",
    "selected_runs = projected_runs"
   ],
   "metadata": {
    "collapsed": false,
    "pycharm": {
     "name": "#%%\n"
    }
   }
  },
  {
   "cell_type": "code",
   "execution_count": null,
   "outputs": [],
   "source": [
    "selected_runs.rename(columns=renamings, inplace=True)\n",
    "selected_runs['DropPath'].fillna('conv_sum', inplace=True)\n",
    "rename_values(selected_runs, value_renamings)\n",
    "selected_runs[roundings] = selected_runs[roundings].round(5)\n",
    "selected_runs['Gamma'].fillna(0, inplace=True)\n",
    "selected_runs = selected_runs.applymap(lambda x: ', '.join(x) if isinstance(x, list) else x)\n",
    "\n",
    "idx = selected_runs.groupby(by=['Channels'])['F1'].transform(max) == selected_runs['F1']\n",
    "best_runs = selected_runs[idx]\n",
    "best_runs.sort_values(by=['Channels'], key=lambda x: x.apply(lambda k: channels_ordering[k]), inplace=True)\n",
    "best_runs[roundings] = best_runs[roundings].round(3)\n",
    "selected_runs[roundings] = selected_runs[roundings].round(3)"
   ],
   "metadata": {
    "collapsed": false,
    "pycharm": {
     "name": "#%%\n"
    }
   }
  },
  {
   "cell_type": "code",
   "execution_count": null,
   "outputs": [],
   "source": [
    "selected_runs"
   ],
   "metadata": {
    "collapsed": false,
    "pycharm": {
     "name": "#%%\n"
    }
   }
  }
 ],
 "metadata": {
  "kernelspec": {
   "display_name": "Python 3",
   "language": "python",
   "name": "python3"
  },
  "language_info": {
   "codemirror_mode": {
    "name": "ipython",
    "version": 2
   },
   "file_extension": ".py",
   "mimetype": "text/x-python",
   "name": "python",
   "nbconvert_exporter": "python",
   "pygments_lexer": "ipython2",
   "version": "2.7.6"
  }
 },
 "nbformat": 4,
 "nbformat_minor": 0
}