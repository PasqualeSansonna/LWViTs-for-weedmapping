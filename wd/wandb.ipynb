{
 "cells": [
  {
   "cell_type": "code",
   "execution_count": 1,
   "metadata": {
    "collapsed": true,
    "pycharm": {
     "name": "#%%\n"
    }
   },
   "outputs": [],
   "source": [
    "import numpy as np\n",
    "import pandas as pd\n",
    "import wandb\n",
    "from wd.utils.utils import mlflow_linearize"
   ]
  },
  {
   "cell_type": "code",
   "execution_count": 2,
   "outputs": [],
   "source": [
    "from IPython.core.display_functions import display\n",
    "\n",
    "\n",
    "def get_runs(run_filters):\n",
    "    # Project is specified by <entity/project-name>\n",
    "    runs = api.runs(\"pasqualedem/weeddetection\", filters=run_filters)\n",
    "\n",
    "    summary_list, config_list, name_list = [], [], []\n",
    "    for run in runs:\n",
    "        # .summary contains the output keys/values for metrics like accuracy.\n",
    "        #  We call ._json_dict to omit large files\n",
    "        summary_list.append(run.summary._json_dict)\n",
    "\n",
    "        # .config contains the hyperparameters.\n",
    "        #  We remove special values that start with _.\n",
    "        config_list.append(\n",
    "            {k: v for k,v in run.config.items()\n",
    "              if not k.startswith('_')})\n",
    "\n",
    "        # .name is the human-readable name of the run.\n",
    "        name_list.append(run.name)\n",
    "    df = pd.DataFrame([{**mlflow_linearize(dc), **mlflow_linearize(ds)} for dc, ds in zip(config_list, summary_list)])\n",
    "    return df\n",
    "\n",
    "def remove_hyp(df):\n",
    "    to_delete = filter(lambda x: x.startswith('hyper_params'), df.columns)\n",
    "    display(list(to_delete))\n",
    "    for l in to_delete:\n",
    "        df.drop(l, inplace=True)\n",
    "\n",
    "def rename_values(df: pd.DataFrame, vrenamings: dict):\n",
    "    for column, values in vrenamings.items():\n",
    "        if column in df.columns:\n",
    "            df[column] = df[column].replace(values)"
   ],
   "metadata": {
    "collapsed": false,
    "pycharm": {
     "name": "#%%\n"
    }
   }
  },
  {
   "cell_type": "code",
   "execution_count": 3,
   "outputs": [],
   "source": [
    "api = wandb.Api()"
   ],
   "metadata": {
    "collapsed": false,
    "pycharm": {
     "name": "#%%\n"
    }
   }
  },
  {
   "cell_type": "code",
   "execution_count": 4,
   "outputs": [],
   "source": [
    "renamings = {\n",
    "    'in_params.dataset.channels': 'Channels',\n",
    "    'in_params.train_params.optimizer_params.weight_decay': \"Weight Decay\",\n",
    "    'in_params.train_params.initial_lr': 'LR',\n",
    "    'in_params.model.name': 'Model',\n",
    "    'in_params.model.params.backbone': 'Backbone',\n",
    "    'in_params.train_params.freeze_pretrained': 'Strategy',\n",
    "    'in_params.model.params.main_pretrained': 'Used Weights',\n",
    "    'train_WrapF1': 'Train F1',\n",
    "    'f1': 'F1',\n",
    "    'in_params.dataset.batch_size': 'Batch Size',\n",
    "    'precision': 'Precision',\n",
    "    'in_params.train_params.loss.params.gamma': 'Gamma',\n",
    "    'in_params.model.params.fusion_type': 'DropPath',\n",
    "    'recall': 'Recall'\n",
    "}\n",
    "value_renamings = {\n",
    "    'Strategy': {True: 'Freeze', False: 'Fine-Tuning'},\n",
    "    'DropPath': {'conv_sum_drop': 'Yes', 'conv_sum': 'No'}\n",
    "}\n",
    "channels_ordering = {\n",
    "    \"G, NDVI, NIR, R, RE\" : 1,\n",
    "    \"R, G, NIR, RE\": 2,\n",
    "    \"R, G, RE, NIR\": 2,\n",
    "    \"R, G, RE\": 3,\n",
    "    \"G, NIR, R\": 3,\n",
    "    \"R, G, NIR\": 4,\n",
    "    \"R, G, NDVI\": 5,\n",
    "    \"R, G\": 6,\n",
    "    \"CIR\": 7,\n",
    "    \"NDVI\": 8,\n",
    "\n",
    "    'Fine-Tuning': 1,\n",
    "    'Freeze': 2,\n",
    "\n",
    "    'R': 1,\n",
    "    'G': 2,\n",
    "    'RGB': 2.5,\n",
    "    'G, G, R': 3,\n",
    "    'R, G, G, G': 4,\n",
    "\n",
    "    'MiT-B0': 0,\n",
    "    'MiT-B1': 1,\n",
    "    'doublelawin': 0,\n",
    "    'doublelaweed': 1\n",
    "}"
   ],
   "metadata": {
    "collapsed": false,
    "pycharm": {
     "name": "#%%\n"
    }
   }
  },
  {
   "cell_type": "markdown",
   "source": [],
   "metadata": {
    "collapsed": false,
    "pycharm": {
     "name": "#%% md\n"
    }
   }
  },
  {
   "cell_type": "markdown",
   "source": [
    "## Lawin"
   ],
   "metadata": {
    "collapsed": false,
    "pycharm": {
     "name": "#%% md\n"
    }
   }
  },
  {
   "cell_type": "code",
   "execution_count": null,
   "outputs": [],
   "source": [
    "filters = {\n",
    "    'group': 'Lawin'\n",
    "}\n",
    "selected_cols = [\n",
    "    'in_params.dataset.channels',\n",
    "    'in_params.train_params.optimizer_params.weight_decay',\n",
    "    'in_params.train_params.initial_lr',\n",
    "    'in_params.model.params.backbone',\n",
    "    # 'in_params.model.name',\n",
    "    'f1',\n",
    "    'precision',\n",
    "    'recall'\n",
    "]\n",
    "roundings = ['F1', 'Precision', 'Recall']"
   ],
   "metadata": {
    "collapsed": false,
    "pycharm": {
     "name": "#%%\n"
    }
   }
  },
  {
   "cell_type": "code",
   "execution_count": null,
   "outputs": [],
   "source": [
    "runs_df = get_runs(filters)\n",
    "remove_hyp(runs_df)"
   ],
   "metadata": {
    "collapsed": false,
    "pycharm": {
     "name": "#%%\n"
    }
   }
  },
  {
   "cell_type": "code",
   "execution_count": null,
   "outputs": [],
   "source": [
    "runs_df"
   ],
   "metadata": {
    "collapsed": false,
    "pycharm": {
     "name": "#%%\n"
    }
   }
  },
  {
   "cell_type": "code",
   "execution_count": null,
   "outputs": [],
   "source": [
    "projected_runs = runs_df[\n",
    "    selected_cols\n",
    "]"
   ],
   "metadata": {
    "collapsed": false,
    "pycharm": {
     "name": "#%%\n"
    }
   }
  },
  {
   "cell_type": "code",
   "execution_count": null,
   "outputs": [],
   "source": [
    "# selected_runs = projected_runs[projected_runs['in_params.model.params.backbone'] == 'MiT-B0']\n",
    "selected_runs = projected_runs"
   ],
   "metadata": {
    "collapsed": false,
    "pycharm": {
     "name": "#%%\n"
    }
   }
  },
  {
   "cell_type": "code",
   "execution_count": null,
   "outputs": [],
   "source": [
    "selected_runs"
   ],
   "metadata": {
    "collapsed": false,
    "pycharm": {
     "name": "#%%\n"
    }
   }
  },
  {
   "cell_type": "code",
   "execution_count": null,
   "outputs": [],
   "source": [
    "selected_runs.rename(columns=renamings, inplace=True)\n",
    "selected_runs[roundings] = selected_runs[roundings].round(3)\n",
    "selected_runs = selected_runs.applymap(lambda x: ', '.join(x) if isinstance(x, list) else x)"
   ],
   "metadata": {
    "collapsed": false,
    "pycharm": {
     "name": "#%%\n"
    }
   }
  },
  {
   "cell_type": "code",
   "execution_count": null,
   "outputs": [],
   "source": [
    "idx = selected_runs.groupby(by='Channels')['F1'].transform(max) == selected_runs['F1']\n",
    "best_runs = selected_runs[idx]\n",
    "best_runs.sort_values(by=\"Channels\", key=lambda x: x.apply(lambda k: channels_ordering[k]), inplace=True)"
   ],
   "metadata": {
    "collapsed": false,
    "pycharm": {
     "name": "#%%\n"
    }
   }
  },
  {
   "cell_type": "code",
   "execution_count": null,
   "outputs": [],
   "source": [
    "selected_runs"
   ],
   "metadata": {
    "collapsed": false,
    "pycharm": {
     "name": "#%%\n"
    }
   }
  },
  {
   "cell_type": "code",
   "execution_count": null,
   "outputs": [],
   "source": [
    "best_runs"
   ],
   "metadata": {
    "collapsed": false,
    "pycharm": {
     "name": "#%%\n"
    }
   }
  },
  {
   "cell_type": "code",
   "execution_count": null,
   "outputs": [],
   "source": [
    "best_runs.to_csv(\"../../exps/lawin.csv\")"
   ],
   "metadata": {
    "collapsed": false,
    "pycharm": {
     "name": "#%%\n"
    }
   }
  },
  {
   "cell_type": "code",
   "execution_count": null,
   "outputs": [],
   "source": [
    "selected_runs.to_csv(\"../../exps/lawin-complete.csv\")"
   ],
   "metadata": {
    "collapsed": false,
    "pycharm": {
     "name": "#%%\n"
    }
   }
  },
  {
   "cell_type": "markdown",
   "source": [
    "## Lawin Aug"
   ],
   "metadata": {
    "collapsed": false,
    "pycharm": {
     "name": "#%% md\n"
    }
   }
  },
  {
   "cell_type": "code",
   "execution_count": null,
   "outputs": [],
   "source": [
    "filters = {\n",
    "    'group': 'LawinAugPatience'\n",
    "}\n",
    "selected_cols = [\n",
    "    'in_params.dataset.channels',\n",
    "    'in_params.train_params.optimizer_params.weight_decay',\n",
    "    'in_params.train_params.initial_lr',\n",
    "    'f1',\n",
    "    'precision',\n",
    "    'recall'\n",
    "]\n",
    "roundings = ['F1', 'Precision', 'Recall']"
   ],
   "metadata": {
    "collapsed": false,
    "pycharm": {
     "name": "#%%\n"
    }
   }
  },
  {
   "cell_type": "code",
   "execution_count": null,
   "outputs": [],
   "source": [
    "runs_df = get_runs(filters)\n",
    "remove_hyp(runs_df)"
   ],
   "metadata": {
    "collapsed": false,
    "pycharm": {
     "name": "#%%\n"
    }
   }
  },
  {
   "cell_type": "code",
   "execution_count": null,
   "outputs": [],
   "source": [
    "runs_df"
   ],
   "metadata": {
    "collapsed": false,
    "pycharm": {
     "name": "#%%\n"
    }
   }
  },
  {
   "cell_type": "code",
   "execution_count": null,
   "outputs": [],
   "source": [
    "projected_runs = runs_df[\n",
    "    selected_cols\n",
    "]\n",
    "# selected_runs = projected_runs[projected_runs['in_params.model.params.backbone'] == 'MiT-B0']\n",
    "selected_runs = projected_runs"
   ],
   "metadata": {
    "collapsed": false,
    "pycharm": {
     "name": "#%%\n"
    }
   }
  },
  {
   "cell_type": "code",
   "execution_count": null,
   "outputs": [],
   "source": [
    "selected_runs.rename(columns=renamings, inplace=True)\n",
    "selected_runs[roundings] = selected_runs[roundings].round(3)\n",
    "selected_runs = selected_runs.applymap(lambda x: ', '.join(x) if isinstance(x, list) else x)"
   ],
   "metadata": {
    "collapsed": false,
    "pycharm": {
     "name": "#%%\n"
    }
   }
  },
  {
   "cell_type": "code",
   "execution_count": null,
   "outputs": [],
   "source": [
    "idx = selected_runs.groupby(by='Channels')['F1'].transform(max) == selected_runs['F1']\n",
    "best_runs = selected_runs[idx]\n",
    "best_runs.sort_values(by=\"Channels\", key=lambda x: x.apply(lambda k: channels_ordering[k]), inplace=True)"
   ],
   "metadata": {
    "collapsed": false,
    "pycharm": {
     "name": "#%%\n"
    }
   }
  },
  {
   "cell_type": "code",
   "execution_count": null,
   "outputs": [],
   "source": [
    "best_runs.to_csv(\"../../exps/lawin_aug.csv\")"
   ],
   "metadata": {
    "collapsed": false,
    "pycharm": {
     "name": "#%%\n"
    }
   }
  },
  {
   "cell_type": "code",
   "execution_count": null,
   "outputs": [],
   "source": [
    "selected_runs.to_csv(\"../../exps/lawin_aug-complete.csv\")"
   ],
   "metadata": {
    "collapsed": false,
    "pycharm": {
     "name": "#%%\n"
    }
   }
  },
  {
   "cell_type": "markdown",
   "source": [
    "## Lawin Pretrained"
   ],
   "metadata": {
    "collapsed": false,
    "pycharm": {
     "name": "#%% md\n"
    }
   }
  },
  {
   "cell_type": "code",
   "execution_count": null,
   "outputs": [],
   "source": [
    "filters = {\n",
    "    '$or': [{'group': 'LawinPretrained'}, {'group': 'LawinFrozen'}]\n",
    "}\n",
    "selected_cols = [\n",
    "    'in_params.dataset.channels',\n",
    "    'in_params.train_params.optimizer_params.weight_decay',\n",
    "    'in_params.train_params.initial_lr',\n",
    "    'in_params.train_params.freeze_pretrained',\n",
    "    'in_params.model.params.backbone',\n",
    "    'f1',\n",
    "    'precision',\n",
    "    'recall'\n",
    "]\n",
    "roundings = ['F1', 'Precision', 'Recall']"
   ],
   "metadata": {
    "collapsed": false,
    "pycharm": {
     "name": "#%%\n"
    }
   }
  },
  {
   "cell_type": "code",
   "execution_count": null,
   "outputs": [],
   "source": [
    "runs_df = get_runs(filters)\n",
    "remove_hyp(runs_df)"
   ],
   "metadata": {
    "collapsed": false,
    "pycharm": {
     "name": "#%%\n"
    }
   }
  },
  {
   "cell_type": "code",
   "execution_count": null,
   "outputs": [],
   "source": [
    "runs_df"
   ],
   "metadata": {
    "collapsed": false,
    "pycharm": {
     "name": "#%%\n"
    }
   }
  },
  {
   "cell_type": "code",
   "execution_count": null,
   "outputs": [],
   "source": [
    "projected_runs = runs_df[\n",
    "    selected_cols\n",
    "]\n",
    "# selected_runs = projected_runs[projected_runs['in_params.model.params.backbone'] == 'MiT-B0']\n",
    "selected_runs = projected_runs"
   ],
   "metadata": {
    "collapsed": false,
    "pycharm": {
     "name": "#%%\n"
    }
   }
  },
  {
   "cell_type": "code",
   "execution_count": null,
   "outputs": [],
   "source": [
    "selected_runs.rename(columns=renamings, inplace=True)\n",
    "rename_values(selected_runs, value_renamings)\n",
    "selected_runs[roundings] = selected_runs[roundings].round(5)\n",
    "selected_runs = selected_runs.applymap(lambda x: ', '.join(x) if isinstance(x, list) else x)"
   ],
   "metadata": {
    "collapsed": false,
    "pycharm": {
     "name": "#%%\n"
    }
   }
  },
  {
   "cell_type": "code",
   "execution_count": null,
   "outputs": [],
   "source": [
    "idx = selected_runs.groupby(by=['Channels', 'Strategy'])['F1'].transform(max) == selected_runs['F1']\n",
    "best_runs = selected_runs[idx]\n",
    "best_runs.sort_values(by=['Strategy', 'Channels'], key=lambda x: x.apply(lambda k: channels_ordering[k]), inplace=True)\n",
    "best_runs[roundings] = best_runs[roundings].round(3)\n",
    "selected_runs[roundings] = selected_runs[roundings].round(3)"
   ],
   "metadata": {
    "collapsed": false,
    "pycharm": {
     "name": "#%%\n"
    }
   }
  },
  {
   "cell_type": "code",
   "execution_count": null,
   "outputs": [],
   "source": [
    "best_runs"
   ],
   "metadata": {
    "collapsed": false,
    "pycharm": {
     "name": "#%%\n"
    }
   }
  },
  {
   "cell_type": "code",
   "execution_count": null,
   "outputs": [],
   "source": [
    "best_runs.to_csv(\"../../exps/lawin_pretrained.csv\")\n",
    "selected_runs.to_csv(\"../../exps/lawin_pretrained-complete.csv\")"
   ],
   "metadata": {
    "collapsed": false,
    "pycharm": {
     "name": "#%%\n"
    }
   }
  },
  {
   "cell_type": "markdown",
   "source": [
    "## Focal"
   ],
   "metadata": {
    "collapsed": false,
    "pycharm": {
     "name": "#%% md\n"
    }
   }
  },
  {
   "cell_type": "code",
   "execution_count": null,
   "outputs": [],
   "source": [
    "filters = {\n",
    "    'group': 'Focal'\n",
    "}\n",
    "selected_cols = [\n",
    "    'in_params.dataset.channels',\n",
    "    'in_params.train_params.freeze_pretrained',\n",
    "    'in_params.train_params.loss.params.gamma',\n",
    "    'in_params.model.params.backbone',\n",
    "    'f1',\n",
    "    'precision',\n",
    "    'recall'\n",
    "]\n",
    "roundings = ['F1', 'Precision', 'Recall']"
   ],
   "metadata": {
    "collapsed": false,
    "pycharm": {
     "name": "#%%\n"
    }
   }
  },
  {
   "cell_type": "code",
   "execution_count": null,
   "outputs": [],
   "source": [
    "runs_df = get_runs(filters)\n",
    "remove_hyp(runs_df)"
   ],
   "metadata": {
    "collapsed": false,
    "pycharm": {
     "name": "#%%\n"
    }
   }
  },
  {
   "cell_type": "code",
   "execution_count": null,
   "outputs": [],
   "source": [
    "projected_runs = runs_df[\n",
    "    selected_cols\n",
    "]\n",
    "# selected_runs = projected_runs[projected_runs['in_params.model.params.backbone'] == 'MiT-B0']\n",
    "selected_runs = projected_runs"
   ],
   "metadata": {
    "collapsed": false,
    "pycharm": {
     "name": "#%%\n"
    }
   }
  },
  {
   "cell_type": "code",
   "execution_count": null,
   "outputs": [],
   "source": [
    "selected_runs.rename(columns=renamings, inplace=True)\n",
    "rename_values(selected_runs, value_renamings)\n",
    "selected_runs[roundings] = selected_runs[roundings].round(5)\n",
    "selected_runs = selected_runs.applymap(lambda x: ', '.join(x) if isinstance(x, list) else x)"
   ],
   "metadata": {
    "collapsed": false,
    "pycharm": {
     "name": "#%%\n"
    }
   }
  },
  {
   "cell_type": "code",
   "execution_count": null,
   "outputs": [],
   "source": [
    "idx = selected_runs.groupby(by=['Channels', 'Strategy'])['F1'].transform(max) == selected_runs['F1']\n",
    "best_runs = selected_runs[idx]\n",
    "best_runs.sort_values(by=['Strategy', 'Channels'], key=lambda x: x.apply(lambda k: channels_ordering[k]), inplace=True)\n",
    "best_runs[roundings] = best_runs[roundings].round(3)\n",
    "selected_runs[roundings] = selected_runs[roundings].round(3)"
   ],
   "metadata": {
    "collapsed": false,
    "pycharm": {
     "name": "#%%\n"
    }
   }
  },
  {
   "cell_type": "code",
   "execution_count": null,
   "outputs": [],
   "source": [
    "best_runs"
   ],
   "metadata": {
    "collapsed": false,
    "pycharm": {
     "name": "#%%\n"
    }
   }
  },
  {
   "cell_type": "code",
   "execution_count": null,
   "outputs": [],
   "source": [
    "best_runs.to_csv(\"../../exps/focal.csv\")\n",
    "selected_runs.to_csv(\"../../exps/focal-complete.csv\")"
   ],
   "metadata": {
    "collapsed": false,
    "pycharm": {
     "name": "#%%\n"
    }
   }
  },
  {
   "cell_type": "markdown",
   "source": [
    "## SRR"
   ],
   "metadata": {
    "collapsed": false,
    "pycharm": {
     "name": "#%% md\n"
    }
   }
  },
  {
   "cell_type": "code",
   "execution_count": null,
   "outputs": [],
   "source": [
    "filters = {\n",
    "    'group': 'RandomRotation'\n",
    "}\n",
    "selected_cols = [\n",
    "    'in_params.dataset.channels',\n",
    "    'in_params.train_params.freeze_pretrained',\n",
    "    'in_params.train_params.loss.params.gamma',\n",
    "    'in_params.model.params.backbone',\n",
    "    'f1',\n",
    "    'precision',\n",
    "    'recall'\n",
    "]\n",
    "roundings = ['F1', 'Precision', 'Recall']"
   ],
   "metadata": {
    "collapsed": false,
    "pycharm": {
     "name": "#%%\n"
    }
   }
  },
  {
   "cell_type": "code",
   "execution_count": null,
   "outputs": [],
   "source": [
    "runs_df = get_runs(filters)\n",
    "remove_hyp(runs_df)"
   ],
   "metadata": {
    "collapsed": false,
    "pycharm": {
     "name": "#%%\n"
    }
   }
  },
  {
   "cell_type": "code",
   "execution_count": null,
   "outputs": [],
   "source": [
    "projected_runs = runs_df[\n",
    "    selected_cols\n",
    "]\n",
    "# selected_runs = projected_runs[projected_runs['in_params.model.params.backbone'] == 'MiT-B0']\n",
    "selected_runs = projected_runs\n",
    "selected_runs.fillna(\"\", inplace=True)"
   ],
   "metadata": {
    "collapsed": false,
    "pycharm": {
     "name": "#%%\n"
    }
   }
  },
  {
   "cell_type": "code",
   "execution_count": null,
   "outputs": [],
   "source": [
    "selected_runs.rename(columns=renamings, inplace=True)\n",
    "rename_values(selected_runs, value_renamings)\n",
    "selected_runs[roundings] = selected_runs[roundings].round(5)\n",
    "selected_runs = selected_runs.applymap(lambda x: ', '.join(x) if isinstance(x, list) else x)\n",
    "idx = selected_runs.groupby(by=['Channels', 'Strategy'])['F1'].transform(max) == selected_runs['F1']\n",
    "best_runs = selected_runs[idx]\n",
    "best_runs.sort_values(by=['Strategy', 'Channels'], key=lambda x: x.apply(lambda k: channels_ordering[k]), inplace=True)\n",
    "best_runs[roundings] = best_runs[roundings].round(3)\n",
    "selected_runs[roundings] = selected_runs[roundings].round(3)"
   ],
   "metadata": {
    "collapsed": false,
    "pycharm": {
     "name": "#%%\n"
    }
   }
  },
  {
   "cell_type": "code",
   "execution_count": null,
   "outputs": [],
   "source": [
    "best_runs"
   ],
   "metadata": {
    "collapsed": false,
    "pycharm": {
     "name": "#%%\n"
    }
   }
  },
  {
   "cell_type": "code",
   "execution_count": null,
   "outputs": [],
   "source": [
    "best_runs.to_csv(\"../../exps/rotation.csv\")\n",
    "selected_runs.to_csv(\"../../exps/rotation-complete.csv\")"
   ],
   "metadata": {
    "collapsed": false,
    "pycharm": {
     "name": "#%%\n"
    }
   }
  },
  {
   "cell_type": "markdown",
   "source": [
    "## Double Encoder"
   ],
   "metadata": {
    "collapsed": false,
    "pycharm": {
     "name": "#%% md\n"
    }
   }
  },
  {
   "cell_type": "code",
   "execution_count": null,
   "outputs": [],
   "source": [
    "filters = {\n",
    "    'group': 'DoubleLawin'\n",
    "}\n",
    "selected_cols = [\n",
    "    'in_params.dataset.channels',\n",
    "    'in_params.train_params.freeze_pretrained',\n",
    "    'in_params.train_params.loss.params.gamma',\n",
    "    'f1',\n",
    "    'precision',\n",
    "    'recall'\n",
    "]\n",
    "roundings = ['F1', 'Precision', 'Recall']"
   ],
   "metadata": {
    "collapsed": false,
    "pycharm": {
     "name": "#%%\n"
    }
   }
  },
  {
   "cell_type": "code",
   "execution_count": null,
   "outputs": [],
   "source": [
    "runs_df = get_runs(filters)\n",
    "remove_hyp(runs_df)"
   ],
   "metadata": {
    "collapsed": false,
    "pycharm": {
     "name": "#%%\n"
    }
   }
  },
  {
   "cell_type": "code",
   "execution_count": null,
   "outputs": [],
   "source": [
    "runs_df"
   ],
   "metadata": {
    "collapsed": false,
    "pycharm": {
     "name": "#%%\n"
    }
   }
  },
  {
   "cell_type": "code",
   "execution_count": null,
   "outputs": [],
   "source": [
    "projected_runs = runs_df[\n",
    "    selected_cols\n",
    "]\n",
    "# selected_runs = projected_runs[projected_runs['in_params.model.params.backbone'] == 'MiT-B0']\n",
    "selected_runs = projected_runs\n",
    "selected_runs.fillna(\"\", inplace=True)"
   ],
   "metadata": {
    "collapsed": false,
    "pycharm": {
     "name": "#%%\n"
    }
   }
  },
  {
   "cell_type": "code",
   "execution_count": null,
   "outputs": [],
   "source": [
    "selected_runs.rename(columns=renamings, inplace=True)\n",
    "rename_values(selected_runs, value_renamings)\n",
    "selected_runs[roundings] = selected_runs[roundings].round(5)\n",
    "selected_runs = selected_runs.applymap(lambda x: ', '.join(x) if isinstance(x, list) else x)\n",
    "idx = selected_runs.groupby(by=['Channels', 'Strategy'])['F1'].transform(max) == selected_runs['F1']\n",
    "best_runs = selected_runs[idx]\n",
    "best_runs.sort_values(by=['Strategy', 'Channels'], key=lambda x: x.apply(lambda k: channels_ordering[k]), inplace=True)\n",
    "best_runs[roundings] = best_runs[roundings].round(3)\n",
    "selected_runs[roundings] = selected_runs[roundings].round(3)"
   ],
   "metadata": {
    "collapsed": false,
    "pycharm": {
     "name": "#%%\n"
    }
   }
  },
  {
   "cell_type": "code",
   "execution_count": null,
   "outputs": [],
   "source": [
    "best_runs"
   ],
   "metadata": {
    "collapsed": false,
    "pycharm": {
     "name": "#%%\n"
    }
   }
  },
  {
   "cell_type": "code",
   "execution_count": null,
   "outputs": [],
   "source": [
    "best_runs.to_csv(\"../../exps/doublelawin.csv\")\n",
    "selected_runs.to_csv(\"../../exps/doublelawin-complete.csv\")"
   ],
   "metadata": {
    "collapsed": false,
    "pycharm": {
     "name": "#%%\n"
    }
   }
  },
  {
   "cell_type": "markdown",
   "source": [
    "## Double Encoder Pre-Trained"
   ],
   "metadata": {
    "collapsed": false,
    "pycharm": {
     "name": "#%% md\n"
    }
   }
  },
  {
   "cell_type": "code",
   "execution_count": 49,
   "outputs": [],
   "source": [
    "filters = {\n",
    "    'group': 'DoubleLawinPretrained'\n",
    "}\n",
    "selected_cols = [\n",
    "    'in_params.dataset.channels',\n",
    "    'in_params.train_params.loss.params.gamma',\n",
    "    'train_WrapF1',\n",
    "    'f1',\n",
    "    'precision',\n",
    "    'recall'\n",
    "]\n",
    "roundings = ['Train F1', 'F1', 'Precision', 'Recall']"
   ],
   "metadata": {
    "collapsed": false,
    "pycharm": {
     "name": "#%%\n"
    }
   }
  },
  {
   "cell_type": "code",
   "execution_count": 41,
   "outputs": [
    {
     "data": {
      "text/plain": "['hyper_params.arch_params.schema',\n 'hyper_params.arch_params.sync_bn',\n 'hyper_params.arch_params.backbone',\n 'hyper_params.arch_params.in_channels',\n 'hyper_params.arch_params.num_classes',\n 'hyper_params.arch_params.out_channels',\n 'hyper_params.arch_params.main_channels',\n 'hyper_params.arch_params.input_channels',\n 'hyper_params.arch_params.output_channels',\n 'hyper_params.arch_params.side_pretrained',\n 'hyper_params.arch_params.backbone_pretrained',\n 'hyper_params.dataset_params.root',\n 'hyper_params.dataset_params.size',\n 'hyper_params.dataset_params.schema',\n 'hyper_params.dataset_params.s3_link',\n 'hyper_params.dataset_params.channels',\n 'hyper_params.dataset_params.hor_flip',\n 'hyper_params.dataset_params.ver_flip',\n 'hyper_params.dataset_params.crop_size',\n 'hyper_params.dataset_params.batch_size',\n 'hyper_params.dataset_params.dataset_dir',\n 'hyper_params.dataset_params.num_classes',\n 'hyper_params.dataset_params.num_workers',\n 'hyper_params.dataset_params.return_path',\n 'hyper_params.dataset_params.test_folders',\n 'hyper_params.dataset_params.train_folders',\n 'hyper_params.dataset_params.val_batch_size',\n 'hyper_params.dataset_params.test_batch_size',\n 'hyper_params.additional_log_items.multi_gpu',\n 'hyper_params.additional_log_items.initial_LR',\n 'hyper_params.additional_log_items.device_type',\n 'hyper_params.additional_log_items.num_devices',\n 'hyper_params.additional_log_items.installed_packages',\n 'hyper_params.training_hyperparams.ema',\n 'hyper_params.training_hyperparams.loss',\n 'hyper_params.training_hyperparams.seed',\n 'hyper_params.training_hyperparams.schema.if.properties.lr_mode.const',\n 'hyper_params.training_hyperparams.schema.then.required',\n 'hyper_params.training_hyperparams.schema.type',\n 'hyper_params.training_hyperparams.schema.required',\n 'hyper_params.training_hyperparams.schema.properties.initial_lr.type',\n 'hyper_params.training_hyperparams.schema.properties.initial_lr.maximum',\n 'hyper_params.training_hyperparams.schema.properties.initial_lr.exclusiveMinimum',\n 'hyper_params.training_hyperparams.schema.properties.max_epochs.type',\n 'hyper_params.training_hyperparams.schema.properties.max_epochs.minimum',\n 'hyper_params.training_hyperparams.schema.properties.lr_decay_factor.type',\n 'hyper_params.training_hyperparams.schema.properties.lr_decay_factor.maximum',\n 'hyper_params.training_hyperparams.schema.properties.lr_decay_factor.minimum',\n 'hyper_params.training_hyperparams.schema.properties.lr_warmup_epochs.type',\n 'hyper_params.training_hyperparams.schema.properties.lr_warmup_epochs.maximum',\n 'hyper_params.training_hyperparams.schema.properties.lr_warmup_epochs.minimum',\n 'hyper_params.training_hyperparams.lr_mode',\n 'hyper_params.training_hyperparams.optimizer',\n 'hyper_params.training_hyperparams.sg_logger',\n 'hyper_params.training_hyperparams.initial_lr',\n 'hyper_params.training_hyperparams.lr_updates',\n 'hyper_params.training_hyperparams.max_epochs',\n 'hyper_params.training_hyperparams.precise_bn',\n 'hyper_params.training_hyperparams.save_model',\n 'hyper_params.training_hyperparams.silent_mode',\n 'hyper_params.training_hyperparams.warmup_mode',\n 'hyper_params.training_hyperparams.load_opt_params',\n 'hyper_params.training_hyperparams.metric_to_watch',\n 'hyper_params.training_hyperparams.mixed_precision',\n 'hyper_params.training_hyperparams.phase_callbacks',\n 'hyper_params.training_hyperparams.batch_accumulate',\n 'hyper_params.training_hyperparams.lr_warmup_epochs',\n 'hyper_params.training_hyperparams.optimizer_params.weight_decay',\n 'hyper_params.training_hyperparams.sg_logger_params.tags',\n 'hyper_params.training_hyperparams.sg_logger_params.entity',\n 'hyper_params.training_hyperparams.sg_logger_params.project_name',\n 'hyper_params.training_hyperparams.sg_logger_params.save_logs_remote',\n 'hyper_params.training_hyperparams.sg_logger_params.tensorboard_port',\n 'hyper_params.training_hyperparams.sg_logger_params.launch_tensorboard',\n 'hyper_params.training_hyperparams.sg_logger_params.tb_files_user_prompt',\n 'hyper_params.training_hyperparams.sg_logger_params.save_checkpoints_remote',\n 'hyper_params.training_hyperparams.sg_logger_params.save_tensorboard_remote',\n 'hyper_params.training_hyperparams.tensorboard_port',\n 'hyper_params.training_hyperparams.freeze_pretrained',\n 'hyper_params.training_hyperparams.warmup_initial_lr',\n 'hyper_params.training_hyperparams.dataset_statistics',\n 'hyper_params.training_hyperparams.launch_tensorboard',\n 'hyper_params.training_hyperparams.train_metrics_list',\n 'hyper_params.training_hyperparams.valid_metrics_list',\n 'hyper_params.training_hyperparams.average_best_models',\n 'hyper_params.training_hyperparams.run_validation_freq',\n 'hyper_params.training_hyperparams.save_full_train_log',\n 'hyper_params.training_hyperparams.step_lr_update_freq',\n 'hyper_params.training_hyperparams.lr_schedule_function',\n 'hyper_params.training_hyperparams.save_ckpt_epoch_list',\n 'hyper_params.training_hyperparams.tb_files_user_prompt',\n 'hyper_params.training_hyperparams.cosine_final_lr_ratio',\n 'hyper_params.training_hyperparams.precise_bn_batch_size',\n 'hyper_params.training_hyperparams.log_installed_packages',\n 'hyper_params.training_hyperparams.save_tensorboard_to_s3',\n 'hyper_params.training_hyperparams.loss_logging_items_names',\n 'hyper_params.training_hyperparams.zero_weight_decay_on_bias_and_bn',\n 'hyper_params.training_hyperparams.greater_metric_to_watch_is_better']"
     },
     "metadata": {},
     "output_type": "display_data"
    }
   ],
   "source": [
    "runs_df = get_runs(filters)\n",
    "remove_hyp(runs_df)"
   ],
   "metadata": {
    "collapsed": false,
    "pycharm": {
     "name": "#%%\n"
    }
   }
  },
  {
   "cell_type": "code",
   "execution_count": 68,
   "outputs": [],
   "source": [
    "projected_runs = runs_df[\n",
    "    selected_cols\n",
    "]\n",
    "# selected_runs = projected_runs[projected_runs['in_params.model.params.backbone'] == 'MiT-B0']\n",
    "selected_runs = projected_runs"
   ],
   "metadata": {
    "collapsed": false,
    "pycharm": {
     "name": "#%%\n"
    }
   }
  },
  {
   "cell_type": "code",
   "execution_count": 69,
   "outputs": [
    {
     "name": "stderr",
     "output_type": "stream",
     "text": [
      "C:\\Users\\pasqu\\AppData\\Local\\Temp\\ipykernel_24360\\1898580816.py:1: SettingWithCopyWarning: \n",
      "A value is trying to be set on a copy of a slice from a DataFrame\n",
      "\n",
      "See the caveats in the documentation: https://pandas.pydata.org/pandas-docs/stable/user_guide/indexing.html#returning-a-view-versus-a-copy\n",
      "  selected_runs.fillna(0, inplace=True)\n",
      "C:\\Users\\pasqu\\AppData\\Local\\Temp\\ipykernel_24360\\1898580816.py:2: SettingWithCopyWarning: \n",
      "A value is trying to be set on a copy of a slice from a DataFrame\n",
      "\n",
      "See the caveats in the documentation: https://pandas.pydata.org/pandas-docs/stable/user_guide/indexing.html#returning-a-view-versus-a-copy\n",
      "  selected_runs.rename(columns=renamings, inplace=True)\n",
      "C:\\Users\\pasqu\\AppData\\Local\\Temp\\ipykernel_24360\\1898580816.py:4: SettingWithCopyWarning: \n",
      "A value is trying to be set on a copy of a slice from a DataFrame.\n",
      "Try using .loc[row_indexer,col_indexer] = value instead\n",
      "\n",
      "See the caveats in the documentation: https://pandas.pydata.org/pandas-docs/stable/user_guide/indexing.html#returning-a-view-versus-a-copy\n",
      "  selected_runs[roundings] = selected_runs[roundings].round(5)\n"
     ]
    }
   ],
   "source": [
    "selected_runs.fillna(0, inplace=True)\n",
    "selected_runs.rename(columns=renamings, inplace=True)\n",
    "rename_values(selected_runs, value_renamings)\n",
    "selected_runs[roundings] = selected_runs[roundings].round(5)\n",
    "selected_runs = selected_runs.applymap(lambda x: ', '.join(x) if isinstance(x, list) else x)\n",
    "selected_runs['Gamma'] = selected_runs['Gamma'].astype(float).astype(int)"
   ],
   "metadata": {
    "collapsed": false,
    "pycharm": {
     "name": "#%%\n"
    }
   }
  },
  {
   "cell_type": "code",
   "execution_count": 70,
   "outputs": [
    {
     "data": {
      "text/plain": "         Channels  Gamma  Train F1       F1  Precision   Recall\n0   R, G, NIR, RE      2   0.82694  0.42325    0.65734  0.38692\n1        R, G, RE      2   0.79732  0.47719    0.62841  0.46428\n2      R, G, NDVI      2   0.79944  0.49919    0.68519  0.45200\n3       R, G, NIR      2   0.79872  0.47249    0.62196  0.43518\n4   R, G, NIR, RE      0   0.72349  0.54724    0.59197  0.55625\n5        R, G, RE      0   0.72777  0.56554    0.55958  0.71598\n6      R, G, NDVI      0   0.75601  0.55531    0.48353  0.86702\n7       R, G, NIR      0   0.70393  0.47226    0.57277  0.52975\n8   R, G, NIR, RE      2   0.81546  0.45437    0.66062  0.41898\n9        R, G, RE      2   0.80911  0.47035    0.64726  0.43482\n10     R, G, NDVI      2   0.82937  0.60111    0.56234  0.67370\n11      R, G, NIR      2   0.83429  0.42824    0.61787  0.40716\n12  R, G, NIR, RE      0   0.71593  0.49274    0.61444  0.48708\n13       R, G, RE      0   0.68819  0.56004    0.53816  0.72676\n14     R, G, NDVI      0   0.70721  0.54797    0.49072  0.91684\n15      R, G, NIR      0   0.72735  0.51915    0.57686  0.57119",
      "text/html": "<div>\n<style scoped>\n    .dataframe tbody tr th:only-of-type {\n        vertical-align: middle;\n    }\n\n    .dataframe tbody tr th {\n        vertical-align: top;\n    }\n\n    .dataframe thead th {\n        text-align: right;\n    }\n</style>\n<table border=\"1\" class=\"dataframe\">\n  <thead>\n    <tr style=\"text-align: right;\">\n      <th></th>\n      <th>Channels</th>\n      <th>Gamma</th>\n      <th>Train F1</th>\n      <th>F1</th>\n      <th>Precision</th>\n      <th>Recall</th>\n    </tr>\n  </thead>\n  <tbody>\n    <tr>\n      <th>0</th>\n      <td>R, G, NIR, RE</td>\n      <td>2</td>\n      <td>0.82694</td>\n      <td>0.42325</td>\n      <td>0.65734</td>\n      <td>0.38692</td>\n    </tr>\n    <tr>\n      <th>1</th>\n      <td>R, G, RE</td>\n      <td>2</td>\n      <td>0.79732</td>\n      <td>0.47719</td>\n      <td>0.62841</td>\n      <td>0.46428</td>\n    </tr>\n    <tr>\n      <th>2</th>\n      <td>R, G, NDVI</td>\n      <td>2</td>\n      <td>0.79944</td>\n      <td>0.49919</td>\n      <td>0.68519</td>\n      <td>0.45200</td>\n    </tr>\n    <tr>\n      <th>3</th>\n      <td>R, G, NIR</td>\n      <td>2</td>\n      <td>0.79872</td>\n      <td>0.47249</td>\n      <td>0.62196</td>\n      <td>0.43518</td>\n    </tr>\n    <tr>\n      <th>4</th>\n      <td>R, G, NIR, RE</td>\n      <td>0</td>\n      <td>0.72349</td>\n      <td>0.54724</td>\n      <td>0.59197</td>\n      <td>0.55625</td>\n    </tr>\n    <tr>\n      <th>5</th>\n      <td>R, G, RE</td>\n      <td>0</td>\n      <td>0.72777</td>\n      <td>0.56554</td>\n      <td>0.55958</td>\n      <td>0.71598</td>\n    </tr>\n    <tr>\n      <th>6</th>\n      <td>R, G, NDVI</td>\n      <td>0</td>\n      <td>0.75601</td>\n      <td>0.55531</td>\n      <td>0.48353</td>\n      <td>0.86702</td>\n    </tr>\n    <tr>\n      <th>7</th>\n      <td>R, G, NIR</td>\n      <td>0</td>\n      <td>0.70393</td>\n      <td>0.47226</td>\n      <td>0.57277</td>\n      <td>0.52975</td>\n    </tr>\n    <tr>\n      <th>8</th>\n      <td>R, G, NIR, RE</td>\n      <td>2</td>\n      <td>0.81546</td>\n      <td>0.45437</td>\n      <td>0.66062</td>\n      <td>0.41898</td>\n    </tr>\n    <tr>\n      <th>9</th>\n      <td>R, G, RE</td>\n      <td>2</td>\n      <td>0.80911</td>\n      <td>0.47035</td>\n      <td>0.64726</td>\n      <td>0.43482</td>\n    </tr>\n    <tr>\n      <th>10</th>\n      <td>R, G, NDVI</td>\n      <td>2</td>\n      <td>0.82937</td>\n      <td>0.60111</td>\n      <td>0.56234</td>\n      <td>0.67370</td>\n    </tr>\n    <tr>\n      <th>11</th>\n      <td>R, G, NIR</td>\n      <td>2</td>\n      <td>0.83429</td>\n      <td>0.42824</td>\n      <td>0.61787</td>\n      <td>0.40716</td>\n    </tr>\n    <tr>\n      <th>12</th>\n      <td>R, G, NIR, RE</td>\n      <td>0</td>\n      <td>0.71593</td>\n      <td>0.49274</td>\n      <td>0.61444</td>\n      <td>0.48708</td>\n    </tr>\n    <tr>\n      <th>13</th>\n      <td>R, G, RE</td>\n      <td>0</td>\n      <td>0.68819</td>\n      <td>0.56004</td>\n      <td>0.53816</td>\n      <td>0.72676</td>\n    </tr>\n    <tr>\n      <th>14</th>\n      <td>R, G, NDVI</td>\n      <td>0</td>\n      <td>0.70721</td>\n      <td>0.54797</td>\n      <td>0.49072</td>\n      <td>0.91684</td>\n    </tr>\n    <tr>\n      <th>15</th>\n      <td>R, G, NIR</td>\n      <td>0</td>\n      <td>0.72735</td>\n      <td>0.51915</td>\n      <td>0.57686</td>\n      <td>0.57119</td>\n    </tr>\n  </tbody>\n</table>\n</div>"
     },
     "execution_count": 70,
     "metadata": {},
     "output_type": "execute_result"
    }
   ],
   "source": [
    "selected_runs"
   ],
   "metadata": {
    "collapsed": false,
    "pycharm": {
     "name": "#%%\n"
    }
   }
  },
  {
   "cell_type": "code",
   "execution_count": 71,
   "outputs": [
    {
     "name": "stderr",
     "output_type": "stream",
     "text": [
      "C:\\Users\\pasqu\\AppData\\Local\\Temp\\ipykernel_24360\\2396384400.py:3: SettingWithCopyWarning: \n",
      "A value is trying to be set on a copy of a slice from a DataFrame\n",
      "\n",
      "See the caveats in the documentation: https://pandas.pydata.org/pandas-docs/stable/user_guide/indexing.html#returning-a-view-versus-a-copy\n",
      "  best_runs.sort_values(by=['Channels'], key=lambda x: x.apply(lambda k: channels_ordering[k]), inplace=True)\n",
      "C:\\Users\\pasqu\\AppData\\Local\\Temp\\ipykernel_24360\\2396384400.py:4: SettingWithCopyWarning: \n",
      "A value is trying to be set on a copy of a slice from a DataFrame.\n",
      "Try using .loc[row_indexer,col_indexer] = value instead\n",
      "\n",
      "See the caveats in the documentation: https://pandas.pydata.org/pandas-docs/stable/user_guide/indexing.html#returning-a-view-versus-a-copy\n",
      "  best_runs[roundings] = best_runs[roundings].round(3)\n"
     ]
    }
   ],
   "source": [
    "idx = selected_runs.groupby(by=['Channels'])['F1'].transform(max) == selected_runs['F1']\n",
    "best_runs = selected_runs[idx]\n",
    "best_runs.sort_values(by=['Channels'], key=lambda x: x.apply(lambda k: channels_ordering[k]), inplace=True)\n",
    "best_runs[roundings] = best_runs[roundings].round(3)\n",
    "selected_runs[roundings] = selected_runs[roundings].round(3)"
   ],
   "metadata": {
    "collapsed": false,
    "pycharm": {
     "name": "#%%\n"
    }
   }
  },
  {
   "cell_type": "code",
   "execution_count": 72,
   "outputs": [
    {
     "data": {
      "text/plain": "         Channels  Gamma  Train F1     F1  Precision  Recall\n4   R, G, NIR, RE      0     0.723  0.547      0.592   0.556\n5        R, G, RE      0     0.728  0.566      0.560   0.716\n15      R, G, NIR      0     0.727  0.519      0.577   0.571\n10     R, G, NDVI      2     0.829  0.601      0.562   0.674",
      "text/html": "<div>\n<style scoped>\n    .dataframe tbody tr th:only-of-type {\n        vertical-align: middle;\n    }\n\n    .dataframe tbody tr th {\n        vertical-align: top;\n    }\n\n    .dataframe thead th {\n        text-align: right;\n    }\n</style>\n<table border=\"1\" class=\"dataframe\">\n  <thead>\n    <tr style=\"text-align: right;\">\n      <th></th>\n      <th>Channels</th>\n      <th>Gamma</th>\n      <th>Train F1</th>\n      <th>F1</th>\n      <th>Precision</th>\n      <th>Recall</th>\n    </tr>\n  </thead>\n  <tbody>\n    <tr>\n      <th>4</th>\n      <td>R, G, NIR, RE</td>\n      <td>0</td>\n      <td>0.723</td>\n      <td>0.547</td>\n      <td>0.592</td>\n      <td>0.556</td>\n    </tr>\n    <tr>\n      <th>5</th>\n      <td>R, G, RE</td>\n      <td>0</td>\n      <td>0.728</td>\n      <td>0.566</td>\n      <td>0.560</td>\n      <td>0.716</td>\n    </tr>\n    <tr>\n      <th>15</th>\n      <td>R, G, NIR</td>\n      <td>0</td>\n      <td>0.727</td>\n      <td>0.519</td>\n      <td>0.577</td>\n      <td>0.571</td>\n    </tr>\n    <tr>\n      <th>10</th>\n      <td>R, G, NDVI</td>\n      <td>2</td>\n      <td>0.829</td>\n      <td>0.601</td>\n      <td>0.562</td>\n      <td>0.674</td>\n    </tr>\n  </tbody>\n</table>\n</div>"
     },
     "execution_count": 72,
     "metadata": {},
     "output_type": "execute_result"
    }
   ],
   "source": [
    "best_runs"
   ],
   "metadata": {
    "collapsed": false,
    "pycharm": {
     "name": "#%%\n"
    }
   }
  },
  {
   "cell_type": "code",
   "execution_count": 78,
   "outputs": [
    {
     "name": "stderr",
     "output_type": "stream",
     "text": [
      "C:\\Users\\pasqu\\AppData\\Local\\Temp\\ipykernel_24360\\560937940.py:1: FutureWarning: Dropping of nuisance columns in DataFrame reductions (with 'numeric_only=None') is deprecated; in a future version this will raise TypeError.  Select only valid columns before calling the reduction.\n",
      "  selected_runs.mean()\n"
     ]
    },
    {
     "data": {
      "text/plain": "Gamma        1.000000\nTrain F1     0.766125\nF1           0.505250\nPrecision    0.594313\nRecall       0.565250\ndtype: float64"
     },
     "execution_count": 78,
     "metadata": {},
     "output_type": "execute_result"
    }
   ],
   "source": [
    "selected_runs.mean()"
   ],
   "metadata": {
    "collapsed": false,
    "pycharm": {
     "name": "#%%\n"
    }
   }
  },
  {
   "cell_type": "code",
   "execution_count": 77,
   "outputs": [
    {
     "data": {
      "text/plain": "       Train F1      F1  Precision    Recall\nGamma                                       \n0      0.718625  0.5325   0.553625  0.671375\n2      0.813625  0.4780   0.635000  0.459125",
      "text/html": "<div>\n<style scoped>\n    .dataframe tbody tr th:only-of-type {\n        vertical-align: middle;\n    }\n\n    .dataframe tbody tr th {\n        vertical-align: top;\n    }\n\n    .dataframe thead th {\n        text-align: right;\n    }\n</style>\n<table border=\"1\" class=\"dataframe\">\n  <thead>\n    <tr style=\"text-align: right;\">\n      <th></th>\n      <th>Train F1</th>\n      <th>F1</th>\n      <th>Precision</th>\n      <th>Recall</th>\n    </tr>\n    <tr>\n      <th>Gamma</th>\n      <th></th>\n      <th></th>\n      <th></th>\n      <th></th>\n    </tr>\n  </thead>\n  <tbody>\n    <tr>\n      <th>0</th>\n      <td>0.718625</td>\n      <td>0.5325</td>\n      <td>0.553625</td>\n      <td>0.671375</td>\n    </tr>\n    <tr>\n      <th>2</th>\n      <td>0.813625</td>\n      <td>0.4780</td>\n      <td>0.635000</td>\n      <td>0.459125</td>\n    </tr>\n  </tbody>\n</table>\n</div>"
     },
     "execution_count": 77,
     "metadata": {},
     "output_type": "execute_result"
    }
   ],
   "source": [
    "selected_runs.groupby(by=['Gamma']).mean()"
   ],
   "metadata": {
    "collapsed": false,
    "pycharm": {
     "name": "#%%\n"
    }
   }
  },
  {
   "cell_type": "code",
   "execution_count": null,
   "outputs": [],
   "source": [
    "selected_runs.to_csv(\"../../exps/doublelawinpretrained-complete.csv\")\n",
    "best_runs.to_csv(\"../../exps/doublelawinpretrained.csv\")"
   ],
   "metadata": {
    "collapsed": false,
    "pycharm": {
     "name": "#%%\n"
    }
   }
  },
  {
   "cell_type": "markdown",
   "source": [
    "## Double Encoder Pre-Trained Drop"
   ],
   "metadata": {
    "collapsed": false,
    "pycharm": {
     "name": "#%% md\n"
    }
   }
  },
  {
   "cell_type": "code",
   "execution_count": 97,
   "outputs": [],
   "source": [
    "filters = {\n",
    "    'group': 'DLPretrainedDrop'\n",
    "}\n",
    "selected_cols = [\n",
    "    'in_params.dataset.channels',\n",
    "    'in_params.model.params.backbone',\n",
    "    'in_params.train_params.loss.params.gamma',\n",
    "    'train_WrapF1',\n",
    "    'f1',\n",
    "    'precision',\n",
    "    'recall'\n",
    "]\n",
    "roundings = ['F1', 'Precision', 'Recall', 'Train F1']"
   ],
   "metadata": {
    "collapsed": false,
    "pycharm": {
     "name": "#%%\n"
    }
   }
  },
  {
   "cell_type": "code",
   "execution_count": 98,
   "outputs": [
    {
     "data": {
      "text/plain": "['hyper_params.arch_params.schema',\n 'hyper_params.arch_params.sync_bn',\n 'hyper_params.arch_params.backbone',\n 'hyper_params.arch_params.fusion_type',\n 'hyper_params.arch_params.in_channels',\n 'hyper_params.arch_params.num_classes',\n 'hyper_params.arch_params.out_channels',\n 'hyper_params.arch_params.main_channels',\n 'hyper_params.arch_params.input_channels',\n 'hyper_params.arch_params.output_channels',\n 'hyper_params.arch_params.side_pretrained',\n 'hyper_params.arch_params.backbone_pretrained',\n 'hyper_params.dataset_params.root',\n 'hyper_params.dataset_params.size',\n 'hyper_params.dataset_params.schema',\n 'hyper_params.dataset_params.s3_link',\n 'hyper_params.dataset_params.channels',\n 'hyper_params.dataset_params.hor_flip',\n 'hyper_params.dataset_params.ver_flip',\n 'hyper_params.dataset_params.crop_size',\n 'hyper_params.dataset_params.batch_size',\n 'hyper_params.dataset_params.dataset_dir',\n 'hyper_params.dataset_params.num_classes',\n 'hyper_params.dataset_params.num_workers',\n 'hyper_params.dataset_params.return_path',\n 'hyper_params.dataset_params.test_folders',\n 'hyper_params.dataset_params.train_folders',\n 'hyper_params.dataset_params.val_batch_size',\n 'hyper_params.dataset_params.test_batch_size',\n 'hyper_params.additional_log_items.multi_gpu',\n 'hyper_params.additional_log_items.initial_LR',\n 'hyper_params.additional_log_items.device_type',\n 'hyper_params.additional_log_items.num_devices',\n 'hyper_params.additional_log_items.installed_packages',\n 'hyper_params.training_hyperparams.ema',\n 'hyper_params.training_hyperparams.loss',\n 'hyper_params.training_hyperparams.seed',\n 'hyper_params.training_hyperparams.schema.if.properties.lr_mode.const',\n 'hyper_params.training_hyperparams.schema.then.required',\n 'hyper_params.training_hyperparams.schema.type',\n 'hyper_params.training_hyperparams.schema.required',\n 'hyper_params.training_hyperparams.schema.properties.initial_lr.type',\n 'hyper_params.training_hyperparams.schema.properties.initial_lr.maximum',\n 'hyper_params.training_hyperparams.schema.properties.initial_lr.exclusiveMinimum',\n 'hyper_params.training_hyperparams.schema.properties.max_epochs.type',\n 'hyper_params.training_hyperparams.schema.properties.max_epochs.minimum',\n 'hyper_params.training_hyperparams.schema.properties.lr_decay_factor.type',\n 'hyper_params.training_hyperparams.schema.properties.lr_decay_factor.maximum',\n 'hyper_params.training_hyperparams.schema.properties.lr_decay_factor.minimum',\n 'hyper_params.training_hyperparams.schema.properties.lr_warmup_epochs.type',\n 'hyper_params.training_hyperparams.schema.properties.lr_warmup_epochs.maximum',\n 'hyper_params.training_hyperparams.schema.properties.lr_warmup_epochs.minimum',\n 'hyper_params.training_hyperparams.lr_mode',\n 'hyper_params.training_hyperparams.optimizer',\n 'hyper_params.training_hyperparams.sg_logger',\n 'hyper_params.training_hyperparams.initial_lr',\n 'hyper_params.training_hyperparams.lr_updates',\n 'hyper_params.training_hyperparams.max_epochs',\n 'hyper_params.training_hyperparams.precise_bn',\n 'hyper_params.training_hyperparams.save_model',\n 'hyper_params.training_hyperparams.silent_mode',\n 'hyper_params.training_hyperparams.warmup_mode',\n 'hyper_params.training_hyperparams.load_opt_params',\n 'hyper_params.training_hyperparams.metric_to_watch',\n 'hyper_params.training_hyperparams.mixed_precision',\n 'hyper_params.training_hyperparams.phase_callbacks',\n 'hyper_params.training_hyperparams.batch_accumulate',\n 'hyper_params.training_hyperparams.lr_warmup_epochs',\n 'hyper_params.training_hyperparams.optimizer_params.weight_decay',\n 'hyper_params.training_hyperparams.sg_logger_params.tags',\n 'hyper_params.training_hyperparams.sg_logger_params.entity',\n 'hyper_params.training_hyperparams.sg_logger_params.project_name',\n 'hyper_params.training_hyperparams.sg_logger_params.save_logs_remote',\n 'hyper_params.training_hyperparams.sg_logger_params.tensorboard_port',\n 'hyper_params.training_hyperparams.sg_logger_params.launch_tensorboard',\n 'hyper_params.training_hyperparams.sg_logger_params.tb_files_user_prompt',\n 'hyper_params.training_hyperparams.sg_logger_params.save_checkpoints_remote',\n 'hyper_params.training_hyperparams.sg_logger_params.save_tensorboard_remote',\n 'hyper_params.training_hyperparams.tensorboard_port',\n 'hyper_params.training_hyperparams.freeze_pretrained',\n 'hyper_params.training_hyperparams.warmup_initial_lr',\n 'hyper_params.training_hyperparams.dataset_statistics',\n 'hyper_params.training_hyperparams.launch_tensorboard',\n 'hyper_params.training_hyperparams.train_metrics_list',\n 'hyper_params.training_hyperparams.valid_metrics_list',\n 'hyper_params.training_hyperparams.average_best_models',\n 'hyper_params.training_hyperparams.run_validation_freq',\n 'hyper_params.training_hyperparams.save_full_train_log',\n 'hyper_params.training_hyperparams.step_lr_update_freq',\n 'hyper_params.training_hyperparams.lr_schedule_function',\n 'hyper_params.training_hyperparams.save_ckpt_epoch_list',\n 'hyper_params.training_hyperparams.tb_files_user_prompt',\n 'hyper_params.training_hyperparams.cosine_final_lr_ratio',\n 'hyper_params.training_hyperparams.precise_bn_batch_size',\n 'hyper_params.training_hyperparams.log_installed_packages',\n 'hyper_params.training_hyperparams.save_tensorboard_to_s3',\n 'hyper_params.training_hyperparams.loss_logging_items_names',\n 'hyper_params.training_hyperparams.zero_weight_decay_on_bias_and_bn',\n 'hyper_params.training_hyperparams.greater_metric_to_watch_is_better']"
     },
     "metadata": {},
     "output_type": "display_data"
    }
   ],
   "source": [
    "runs_df = get_runs(filters)\n",
    "remove_hyp(runs_df)"
   ],
   "metadata": {
    "collapsed": false,
    "pycharm": {
     "name": "#%%\n"
    }
   }
  },
  {
   "cell_type": "code",
   "execution_count": 99,
   "outputs": [],
   "source": [
    "projected_runs = runs_df[\n",
    "    selected_cols\n",
    "]\n",
    "# selected_runs = projected_runs[projected_runs['in_params.model.params.backbone'] == 'MiT-B0']\n",
    "selected_runs = projected_runs"
   ],
   "metadata": {
    "collapsed": false,
    "pycharm": {
     "name": "#%%\n"
    }
   }
  },
  {
   "cell_type": "code",
   "execution_count": 100,
   "outputs": [
    {
     "name": "stderr",
     "output_type": "stream",
     "text": [
      "C:\\Users\\pasqu\\AppData\\Local\\Temp\\ipykernel_24360\\1566115742.py:1: SettingWithCopyWarning: \n",
      "A value is trying to be set on a copy of a slice from a DataFrame\n",
      "\n",
      "See the caveats in the documentation: https://pandas.pydata.org/pandas-docs/stable/user_guide/indexing.html#returning-a-view-versus-a-copy\n",
      "  selected_runs.fillna(\"\", inplace=True)\n",
      "C:\\Users\\pasqu\\AppData\\Local\\Temp\\ipykernel_24360\\1566115742.py:2: SettingWithCopyWarning: \n",
      "A value is trying to be set on a copy of a slice from a DataFrame\n",
      "\n",
      "See the caveats in the documentation: https://pandas.pydata.org/pandas-docs/stable/user_guide/indexing.html#returning-a-view-versus-a-copy\n",
      "  selected_runs.rename(columns=renamings, inplace=True)\n",
      "C:\\Users\\pasqu\\AppData\\Local\\Temp\\ipykernel_24360\\1566115742.py:4: SettingWithCopyWarning: \n",
      "A value is trying to be set on a copy of a slice from a DataFrame.\n",
      "Try using .loc[row_indexer,col_indexer] = value instead\n",
      "\n",
      "See the caveats in the documentation: https://pandas.pydata.org/pandas-docs/stable/user_guide/indexing.html#returning-a-view-versus-a-copy\n",
      "  selected_runs[roundings] = selected_runs[roundings].round(5)\n"
     ]
    }
   ],
   "source": [
    "selected_runs.fillna(\"\", inplace=True)\n",
    "selected_runs.rename(columns=renamings, inplace=True)\n",
    "rename_values(selected_runs, value_renamings)\n",
    "selected_runs[roundings] = selected_runs[roundings].round(5)\n",
    "selected_runs = selected_runs.applymap(lambda x: ', '.join(x) if isinstance(x, list) else x)"
   ],
   "metadata": {
    "collapsed": false,
    "pycharm": {
     "name": "#%%\n"
    }
   }
  },
  {
   "cell_type": "code",
   "execution_count": 104,
   "outputs": [
    {
     "data": {
      "text/plain": "         Channels Backbone Gamma  Train F1     F1  Precision  Recall\n0   R, G, NIR, RE   MiT-B1   2.0     0.772  0.406      0.658   0.375\n1        R, G, RE   MiT-B1   2.0     0.734  0.433      0.650   0.393\n2      R, G, NDVI   MiT-B1   2.0     0.778  0.580      0.644   0.545\n3       R, G, NIR   MiT-B1   2.0     0.756  0.482      0.631   0.435\n4   R, G, NIR, RE   MiT-B1           0.637  0.559      0.578   0.660\n5        R, G, RE   MiT-B1           0.620  0.541      0.521   0.728\n6      R, G, NDVI   MiT-B1           0.674  0.595      0.526   0.895\n7       R, G, NIR   MiT-B1           0.606  0.510      0.502   0.747\n8   R, G, NIR, RE   MiT-B0   2.0     0.746  0.430      0.651   0.391\n9        R, G, RE   MiT-B0   2.0     0.770  0.458      0.667   0.415\n10     R, G, NDVI   MiT-B0   2.0     0.776  0.540      0.600   0.688\n11      R, G, NIR   MiT-B0   2.0     0.736  0.404      0.612   0.396\n12  R, G, NIR, RE   MiT-B0           0.629  0.560      0.534   0.643\n13       R, G, RE   MiT-B0           0.612  0.535      0.530   0.772\n14     R, G, NDVI   MiT-B0           0.672  0.504      0.493   0.798\n15      R, G, NIR   MiT-B0           0.604  0.481      0.540   0.698",
      "text/html": "<div>\n<style scoped>\n    .dataframe tbody tr th:only-of-type {\n        vertical-align: middle;\n    }\n\n    .dataframe tbody tr th {\n        vertical-align: top;\n    }\n\n    .dataframe thead th {\n        text-align: right;\n    }\n</style>\n<table border=\"1\" class=\"dataframe\">\n  <thead>\n    <tr style=\"text-align: right;\">\n      <th></th>\n      <th>Channels</th>\n      <th>Backbone</th>\n      <th>Gamma</th>\n      <th>Train F1</th>\n      <th>F1</th>\n      <th>Precision</th>\n      <th>Recall</th>\n    </tr>\n  </thead>\n  <tbody>\n    <tr>\n      <th>0</th>\n      <td>R, G, NIR, RE</td>\n      <td>MiT-B1</td>\n      <td>2.0</td>\n      <td>0.772</td>\n      <td>0.406</td>\n      <td>0.658</td>\n      <td>0.375</td>\n    </tr>\n    <tr>\n      <th>1</th>\n      <td>R, G, RE</td>\n      <td>MiT-B1</td>\n      <td>2.0</td>\n      <td>0.734</td>\n      <td>0.433</td>\n      <td>0.650</td>\n      <td>0.393</td>\n    </tr>\n    <tr>\n      <th>2</th>\n      <td>R, G, NDVI</td>\n      <td>MiT-B1</td>\n      <td>2.0</td>\n      <td>0.778</td>\n      <td>0.580</td>\n      <td>0.644</td>\n      <td>0.545</td>\n    </tr>\n    <tr>\n      <th>3</th>\n      <td>R, G, NIR</td>\n      <td>MiT-B1</td>\n      <td>2.0</td>\n      <td>0.756</td>\n      <td>0.482</td>\n      <td>0.631</td>\n      <td>0.435</td>\n    </tr>\n    <tr>\n      <th>4</th>\n      <td>R, G, NIR, RE</td>\n      <td>MiT-B1</td>\n      <td></td>\n      <td>0.637</td>\n      <td>0.559</td>\n      <td>0.578</td>\n      <td>0.660</td>\n    </tr>\n    <tr>\n      <th>5</th>\n      <td>R, G, RE</td>\n      <td>MiT-B1</td>\n      <td></td>\n      <td>0.620</td>\n      <td>0.541</td>\n      <td>0.521</td>\n      <td>0.728</td>\n    </tr>\n    <tr>\n      <th>6</th>\n      <td>R, G, NDVI</td>\n      <td>MiT-B1</td>\n      <td></td>\n      <td>0.674</td>\n      <td>0.595</td>\n      <td>0.526</td>\n      <td>0.895</td>\n    </tr>\n    <tr>\n      <th>7</th>\n      <td>R, G, NIR</td>\n      <td>MiT-B1</td>\n      <td></td>\n      <td>0.606</td>\n      <td>0.510</td>\n      <td>0.502</td>\n      <td>0.747</td>\n    </tr>\n    <tr>\n      <th>8</th>\n      <td>R, G, NIR, RE</td>\n      <td>MiT-B0</td>\n      <td>2.0</td>\n      <td>0.746</td>\n      <td>0.430</td>\n      <td>0.651</td>\n      <td>0.391</td>\n    </tr>\n    <tr>\n      <th>9</th>\n      <td>R, G, RE</td>\n      <td>MiT-B0</td>\n      <td>2.0</td>\n      <td>0.770</td>\n      <td>0.458</td>\n      <td>0.667</td>\n      <td>0.415</td>\n    </tr>\n    <tr>\n      <th>10</th>\n      <td>R, G, NDVI</td>\n      <td>MiT-B0</td>\n      <td>2.0</td>\n      <td>0.776</td>\n      <td>0.540</td>\n      <td>0.600</td>\n      <td>0.688</td>\n    </tr>\n    <tr>\n      <th>11</th>\n      <td>R, G, NIR</td>\n      <td>MiT-B0</td>\n      <td>2.0</td>\n      <td>0.736</td>\n      <td>0.404</td>\n      <td>0.612</td>\n      <td>0.396</td>\n    </tr>\n    <tr>\n      <th>12</th>\n      <td>R, G, NIR, RE</td>\n      <td>MiT-B0</td>\n      <td></td>\n      <td>0.629</td>\n      <td>0.560</td>\n      <td>0.534</td>\n      <td>0.643</td>\n    </tr>\n    <tr>\n      <th>13</th>\n      <td>R, G, RE</td>\n      <td>MiT-B0</td>\n      <td></td>\n      <td>0.612</td>\n      <td>0.535</td>\n      <td>0.530</td>\n      <td>0.772</td>\n    </tr>\n    <tr>\n      <th>14</th>\n      <td>R, G, NDVI</td>\n      <td>MiT-B0</td>\n      <td></td>\n      <td>0.672</td>\n      <td>0.504</td>\n      <td>0.493</td>\n      <td>0.798</td>\n    </tr>\n    <tr>\n      <th>15</th>\n      <td>R, G, NIR</td>\n      <td>MiT-B0</td>\n      <td></td>\n      <td>0.604</td>\n      <td>0.481</td>\n      <td>0.540</td>\n      <td>0.698</td>\n    </tr>\n  </tbody>\n</table>\n</div>"
     },
     "execution_count": 104,
     "metadata": {},
     "output_type": "execute_result"
    }
   ],
   "source": [
    "selected_runs"
   ],
   "metadata": {
    "collapsed": false,
    "pycharm": {
     "name": "#%%\n"
    }
   }
  },
  {
   "cell_type": "code",
   "execution_count": 105,
   "outputs": [
    {
     "name": "stderr",
     "output_type": "stream",
     "text": [
      "C:\\Users\\pasqu\\AppData\\Local\\Temp\\ipykernel_24360\\2396384400.py:3: SettingWithCopyWarning: \n",
      "A value is trying to be set on a copy of a slice from a DataFrame\n",
      "\n",
      "See the caveats in the documentation: https://pandas.pydata.org/pandas-docs/stable/user_guide/indexing.html#returning-a-view-versus-a-copy\n",
      "  best_runs.sort_values(by=['Channels'], key=lambda x: x.apply(lambda k: channels_ordering[k]), inplace=True)\n",
      "C:\\Users\\pasqu\\AppData\\Local\\Temp\\ipykernel_24360\\2396384400.py:4: SettingWithCopyWarning: \n",
      "A value is trying to be set on a copy of a slice from a DataFrame.\n",
      "Try using .loc[row_indexer,col_indexer] = value instead\n",
      "\n",
      "See the caveats in the documentation: https://pandas.pydata.org/pandas-docs/stable/user_guide/indexing.html#returning-a-view-versus-a-copy\n",
      "  best_runs[roundings] = best_runs[roundings].round(3)\n"
     ]
    }
   ],
   "source": [
    "idx = selected_runs.groupby(by=['Channels'])['F1'].transform(max) == selected_runs['F1']\n",
    "best_runs = selected_runs[idx]\n",
    "best_runs.sort_values(by=['Channels'], key=lambda x: x.apply(lambda k: channels_ordering[k]), inplace=True)\n",
    "best_runs[roundings] = best_runs[roundings].round(3)\n",
    "selected_runs[roundings] = selected_runs[roundings].round(3)"
   ],
   "metadata": {
    "collapsed": false,
    "pycharm": {
     "name": "#%%\n"
    }
   }
  },
  {
   "cell_type": "code",
   "execution_count": 106,
   "outputs": [
    {
     "data": {
      "text/plain": "         Channels Backbone Gamma  Train F1     F1  Precision  Recall\n12  R, G, NIR, RE   MiT-B0           0.629  0.560      0.534   0.643\n5        R, G, RE   MiT-B1           0.620  0.541      0.521   0.728\n7       R, G, NIR   MiT-B1           0.606  0.510      0.502   0.747\n6      R, G, NDVI   MiT-B1           0.674  0.595      0.526   0.895",
      "text/html": "<div>\n<style scoped>\n    .dataframe tbody tr th:only-of-type {\n        vertical-align: middle;\n    }\n\n    .dataframe tbody tr th {\n        vertical-align: top;\n    }\n\n    .dataframe thead th {\n        text-align: right;\n    }\n</style>\n<table border=\"1\" class=\"dataframe\">\n  <thead>\n    <tr style=\"text-align: right;\">\n      <th></th>\n      <th>Channels</th>\n      <th>Backbone</th>\n      <th>Gamma</th>\n      <th>Train F1</th>\n      <th>F1</th>\n      <th>Precision</th>\n      <th>Recall</th>\n    </tr>\n  </thead>\n  <tbody>\n    <tr>\n      <th>12</th>\n      <td>R, G, NIR, RE</td>\n      <td>MiT-B0</td>\n      <td></td>\n      <td>0.629</td>\n      <td>0.560</td>\n      <td>0.534</td>\n      <td>0.643</td>\n    </tr>\n    <tr>\n      <th>5</th>\n      <td>R, G, RE</td>\n      <td>MiT-B1</td>\n      <td></td>\n      <td>0.620</td>\n      <td>0.541</td>\n      <td>0.521</td>\n      <td>0.728</td>\n    </tr>\n    <tr>\n      <th>7</th>\n      <td>R, G, NIR</td>\n      <td>MiT-B1</td>\n      <td></td>\n      <td>0.606</td>\n      <td>0.510</td>\n      <td>0.502</td>\n      <td>0.747</td>\n    </tr>\n    <tr>\n      <th>6</th>\n      <td>R, G, NDVI</td>\n      <td>MiT-B1</td>\n      <td></td>\n      <td>0.674</td>\n      <td>0.595</td>\n      <td>0.526</td>\n      <td>0.895</td>\n    </tr>\n  </tbody>\n</table>\n</div>"
     },
     "execution_count": 106,
     "metadata": {},
     "output_type": "execute_result"
    }
   ],
   "source": [
    "best_runs"
   ],
   "metadata": {
    "collapsed": false,
    "pycharm": {
     "name": "#%%\n"
    }
   }
  },
  {
   "cell_type": "code",
   "execution_count": 109,
   "outputs": [
    {
     "data": {
      "text/plain": "       Train F1        F1  Precision    Recall\nGamma                                         \n        0.63175  0.535625   0.528000  0.742625\n2.0     0.75850  0.466625   0.639125  0.454750",
      "text/html": "<div>\n<style scoped>\n    .dataframe tbody tr th:only-of-type {\n        vertical-align: middle;\n    }\n\n    .dataframe tbody tr th {\n        vertical-align: top;\n    }\n\n    .dataframe thead th {\n        text-align: right;\n    }\n</style>\n<table border=\"1\" class=\"dataframe\">\n  <thead>\n    <tr style=\"text-align: right;\">\n      <th></th>\n      <th>Train F1</th>\n      <th>F1</th>\n      <th>Precision</th>\n      <th>Recall</th>\n    </tr>\n    <tr>\n      <th>Gamma</th>\n      <th></th>\n      <th></th>\n      <th></th>\n      <th></th>\n    </tr>\n  </thead>\n  <tbody>\n    <tr>\n      <th></th>\n      <td>0.63175</td>\n      <td>0.535625</td>\n      <td>0.528000</td>\n      <td>0.742625</td>\n    </tr>\n    <tr>\n      <th>2.0</th>\n      <td>0.75850</td>\n      <td>0.466625</td>\n      <td>0.639125</td>\n      <td>0.454750</td>\n    </tr>\n  </tbody>\n</table>\n</div>"
     },
     "execution_count": 109,
     "metadata": {},
     "output_type": "execute_result"
    }
   ],
   "source": [
    "selected_runs.groupby(by=['Gamma']).mean()"
   ],
   "metadata": {
    "collapsed": false,
    "pycharm": {
     "name": "#%%\n"
    }
   }
  },
  {
   "cell_type": "code",
   "execution_count": 108,
   "outputs": [
    {
     "name": "stderr",
     "output_type": "stream",
     "text": [
      "C:\\Users\\pasqu\\AppData\\Local\\Temp\\ipykernel_24360\\560937940.py:1: FutureWarning: Dropping of nuisance columns in DataFrame reductions (with 'numeric_only=None') is deprecated; in a future version this will raise TypeError.  Select only valid columns before calling the reduction.\n",
      "  selected_runs.mean()\n"
     ]
    },
    {
     "data": {
      "text/plain": "Train F1     0.695125\nF1           0.501125\nPrecision    0.583562\nRecall       0.598688\ndtype: float64"
     },
     "execution_count": 108,
     "metadata": {},
     "output_type": "execute_result"
    }
   ],
   "source": [
    "selected_runs.mean()"
   ],
   "metadata": {
    "collapsed": false,
    "pycharm": {
     "name": "#%%\n"
    }
   }
  },
  {
   "cell_type": "code",
   "execution_count": 107,
   "outputs": [],
   "source": [
    "selected_runs.to_csv(\"../../exps/dlpretraineddrop-complete.csv\")\n",
    "best_runs.to_csv(\"../../exps/dlpretraineddrop.csv\")"
   ],
   "metadata": {
    "collapsed": false,
    "pycharm": {
     "name": "#%%\n"
    }
   }
  },
  {
   "cell_type": "code",
   "execution_count": null,
   "outputs": [],
   "source": [],
   "metadata": {
    "collapsed": false,
    "pycharm": {
     "name": "#%%\n"
    }
   }
  },
  {
   "cell_type": "markdown",
   "source": [
    "## RGB Weights"
   ],
   "metadata": {
    "collapsed": false,
    "pycharm": {
     "name": "#%% md\n"
    }
   }
  },
  {
   "cell_type": "code",
   "execution_count": 5,
   "outputs": [],
   "source": [
    "filters = {\n",
    "    'group': 'RedEdge'\n",
    "}\n",
    "selected_cols = [\n",
    "    'in_params.dataset.channels',\n",
    "    'in_params.model.params.backbone',\n",
    "    'in_params.train_params.freeze_pretrained',\n",
    "    'in_params.train_params.loss.params.gamma',\n",
    "    'in_params.model.params.main_pretrained',\n",
    "    'f1',\n",
    "    'precision',\n",
    "    'recall'\n",
    "]\n",
    "roundings = ['F1', 'Precision', 'Recall']"
   ],
   "metadata": {
    "collapsed": false,
    "pycharm": {
     "name": "#%%\n"
    }
   }
  },
  {
   "cell_type": "code",
   "execution_count": 6,
   "outputs": [
    {
     "data": {
      "text/plain": "['hyper_params.arch_params.schema',\n 'hyper_params.arch_params.sync_bn',\n 'hyper_params.arch_params.backbone',\n 'hyper_params.arch_params.in_channels',\n 'hyper_params.arch_params.num_classes',\n 'hyper_params.arch_params.out_channels',\n 'hyper_params.arch_params.main_channels',\n 'hyper_params.arch_params.input_channels',\n 'hyper_params.arch_params.main_pretrained',\n 'hyper_params.arch_params.output_channels',\n 'hyper_params.arch_params.side_pretrained',\n 'hyper_params.arch_params.backbone_pretrained',\n 'hyper_params.dataset_params.root',\n 'hyper_params.dataset_params.size',\n 'hyper_params.dataset_params.schema',\n 'hyper_params.dataset_params.s3_link',\n 'hyper_params.dataset_params.channels',\n 'hyper_params.dataset_params.hor_flip',\n 'hyper_params.dataset_params.ver_flip',\n 'hyper_params.dataset_params.crop_size',\n 'hyper_params.dataset_params.batch_size',\n 'hyper_params.dataset_params.dataset_dir',\n 'hyper_params.dataset_params.num_classes',\n 'hyper_params.dataset_params.num_workers',\n 'hyper_params.dataset_params.return_path',\n 'hyper_params.dataset_params.test_folders',\n 'hyper_params.dataset_params.train_folders',\n 'hyper_params.dataset_params.val_batch_size',\n 'hyper_params.dataset_params.test_batch_size',\n 'hyper_params.additional_log_items.multi_gpu',\n 'hyper_params.additional_log_items.initial_LR',\n 'hyper_params.additional_log_items.device_type',\n 'hyper_params.additional_log_items.num_devices',\n 'hyper_params.additional_log_items.installed_packages',\n 'hyper_params.training_hyperparams.ema',\n 'hyper_params.training_hyperparams.loss',\n 'hyper_params.training_hyperparams.seed',\n 'hyper_params.training_hyperparams.schema.if.properties.lr_mode.const',\n 'hyper_params.training_hyperparams.schema.then.required',\n 'hyper_params.training_hyperparams.schema.type',\n 'hyper_params.training_hyperparams.schema.required',\n 'hyper_params.training_hyperparams.schema.properties.initial_lr.type',\n 'hyper_params.training_hyperparams.schema.properties.initial_lr.maximum',\n 'hyper_params.training_hyperparams.schema.properties.initial_lr.exclusiveMinimum',\n 'hyper_params.training_hyperparams.schema.properties.max_epochs.type',\n 'hyper_params.training_hyperparams.schema.properties.max_epochs.minimum',\n 'hyper_params.training_hyperparams.schema.properties.lr_decay_factor.type',\n 'hyper_params.training_hyperparams.schema.properties.lr_decay_factor.maximum',\n 'hyper_params.training_hyperparams.schema.properties.lr_decay_factor.minimum',\n 'hyper_params.training_hyperparams.schema.properties.lr_warmup_epochs.type',\n 'hyper_params.training_hyperparams.schema.properties.lr_warmup_epochs.maximum',\n 'hyper_params.training_hyperparams.schema.properties.lr_warmup_epochs.minimum',\n 'hyper_params.training_hyperparams.lr_mode',\n 'hyper_params.training_hyperparams.optimizer',\n 'hyper_params.training_hyperparams.sg_logger',\n 'hyper_params.training_hyperparams.initial_lr',\n 'hyper_params.training_hyperparams.lr_updates',\n 'hyper_params.training_hyperparams.max_epochs',\n 'hyper_params.training_hyperparams.precise_bn',\n 'hyper_params.training_hyperparams.save_model',\n 'hyper_params.training_hyperparams.silent_mode',\n 'hyper_params.training_hyperparams.warmup_mode',\n 'hyper_params.training_hyperparams.load_opt_params',\n 'hyper_params.training_hyperparams.metric_to_watch',\n 'hyper_params.training_hyperparams.mixed_precision',\n 'hyper_params.training_hyperparams.phase_callbacks',\n 'hyper_params.training_hyperparams.batch_accumulate',\n 'hyper_params.training_hyperparams.lr_warmup_epochs',\n 'hyper_params.training_hyperparams.optimizer_params.weight_decay',\n 'hyper_params.training_hyperparams.sg_logger_params.tags',\n 'hyper_params.training_hyperparams.sg_logger_params.entity',\n 'hyper_params.training_hyperparams.sg_logger_params.project_name',\n 'hyper_params.training_hyperparams.sg_logger_params.save_logs_remote',\n 'hyper_params.training_hyperparams.sg_logger_params.tensorboard_port',\n 'hyper_params.training_hyperparams.sg_logger_params.launch_tensorboard',\n 'hyper_params.training_hyperparams.sg_logger_params.tb_files_user_prompt',\n 'hyper_params.training_hyperparams.sg_logger_params.save_checkpoints_remote',\n 'hyper_params.training_hyperparams.sg_logger_params.save_tensorboard_remote',\n 'hyper_params.training_hyperparams.tensorboard_port',\n 'hyper_params.training_hyperparams.freeze_pretrained',\n 'hyper_params.training_hyperparams.warmup_initial_lr',\n 'hyper_params.training_hyperparams.dataset_statistics',\n 'hyper_params.training_hyperparams.launch_tensorboard',\n 'hyper_params.training_hyperparams.train_metrics_list',\n 'hyper_params.training_hyperparams.valid_metrics_list',\n 'hyper_params.training_hyperparams.average_best_models',\n 'hyper_params.training_hyperparams.run_validation_freq',\n 'hyper_params.training_hyperparams.save_full_train_log',\n 'hyper_params.training_hyperparams.step_lr_update_freq',\n 'hyper_params.training_hyperparams.lr_schedule_function',\n 'hyper_params.training_hyperparams.save_ckpt_epoch_list',\n 'hyper_params.training_hyperparams.tb_files_user_prompt',\n 'hyper_params.training_hyperparams.cosine_final_lr_ratio',\n 'hyper_params.training_hyperparams.precise_bn_batch_size',\n 'hyper_params.training_hyperparams.log_installed_packages',\n 'hyper_params.training_hyperparams.save_tensorboard_to_s3',\n 'hyper_params.training_hyperparams.loss_logging_items_names',\n 'hyper_params.training_hyperparams.zero_weight_decay_on_bias_and_bn',\n 'hyper_params.training_hyperparams.greater_metric_to_watch_is_better']"
     },
     "metadata": {},
     "output_type": "display_data"
    }
   ],
   "source": [
    "runs_df = get_runs(filters)\n",
    "remove_hyp(runs_df)"
   ],
   "metadata": {
    "collapsed": false,
    "pycharm": {
     "name": "#%%\n"
    }
   }
  },
  {
   "cell_type": "code",
   "execution_count": 7,
   "outputs": [],
   "source": [
    "projected_runs = runs_df[\n",
    "    selected_cols\n",
    "]\n",
    "# selected_runs = projected_runs[projected_runs['in_params.model.params.backbone'] == 'MiT-B0']\n",
    "selected_runs = projected_runs"
   ],
   "metadata": {
    "collapsed": false,
    "pycharm": {
     "name": "#%%\n"
    }
   }
  },
  {
   "cell_type": "code",
   "execution_count": 8,
   "outputs": [
    {
     "name": "stderr",
     "output_type": "stream",
     "text": [
      "C:\\Users\\pasqu\\AppData\\Local\\Temp\\ipykernel_24360\\2093829475.py:1: SettingWithCopyWarning: \n",
      "A value is trying to be set on a copy of a slice from a DataFrame\n",
      "\n",
      "See the caveats in the documentation: https://pandas.pydata.org/pandas-docs/stable/user_guide/indexing.html#returning-a-view-versus-a-copy\n",
      "  selected_runs.fillna(0, inplace=True)\n",
      "C:\\Users\\pasqu\\AppData\\Local\\Temp\\ipykernel_24360\\2093829475.py:2: SettingWithCopyWarning: \n",
      "A value is trying to be set on a copy of a slice from a DataFrame\n",
      "\n",
      "See the caveats in the documentation: https://pandas.pydata.org/pandas-docs/stable/user_guide/indexing.html#returning-a-view-versus-a-copy\n",
      "  selected_runs.rename(columns=renamings, inplace=True)\n",
      "C:\\Users\\pasqu\\AppData\\Local\\Temp\\ipykernel_24360\\2093829475.py:3: SettingWithCopyWarning: \n",
      "A value is trying to be set on a copy of a slice from a DataFrame.\n",
      "Try using .loc[row_indexer,col_indexer] = value instead\n",
      "\n",
      "See the caveats in the documentation: https://pandas.pydata.org/pandas-docs/stable/user_guide/indexing.html#returning-a-view-versus-a-copy\n",
      "  selected_runs['Gamma'] = selected_runs['Gamma'].astype(float).astype(int)\n",
      "C:\\Users\\pasqu\\AppData\\Local\\Temp\\ipykernel_24360\\2999623128.py:34: SettingWithCopyWarning: \n",
      "A value is trying to be set on a copy of a slice from a DataFrame.\n",
      "Try using .loc[row_indexer,col_indexer] = value instead\n",
      "\n",
      "See the caveats in the documentation: https://pandas.pydata.org/pandas-docs/stable/user_guide/indexing.html#returning-a-view-versus-a-copy\n",
      "  df[column] = df[column].replace(values)\n",
      "C:\\Users\\pasqu\\AppData\\Local\\Temp\\ipykernel_24360\\2093829475.py:5: SettingWithCopyWarning: \n",
      "A value is trying to be set on a copy of a slice from a DataFrame.\n",
      "Try using .loc[row_indexer,col_indexer] = value instead\n",
      "\n",
      "See the caveats in the documentation: https://pandas.pydata.org/pandas-docs/stable/user_guide/indexing.html#returning-a-view-versus-a-copy\n",
      "  selected_runs[roundings] = selected_runs[roundings].round(5)\n"
     ]
    }
   ],
   "source": [
    "selected_runs.fillna(0, inplace=True)\n",
    "selected_runs.rename(columns=renamings, inplace=True)\n",
    "selected_runs['Gamma'] = selected_runs['Gamma'].astype(float).astype(int)\n",
    "rename_values(selected_runs, value_renamings)\n",
    "selected_runs[roundings] = selected_runs[roundings].round(5)\n",
    "selected_runs = selected_runs.applymap(lambda x: ', '.join(x) if isinstance(x, list) else x)\n",
    "selected_runs[roundings] = selected_runs[roundings].round(3)\n",
    "selected_runs.sort_values(by=['Backbone', 'Channels', 'Strategy', 'Used Weights'], key=lambda x: x.apply(lambda k: channels_ordering[k]), inplace=True)"
   ],
   "metadata": {
    "collapsed": false,
    "pycharm": {
     "name": "#%%\n"
    }
   }
  },
  {
   "cell_type": "code",
   "execution_count": 9,
   "outputs": [
    {
     "data": {
      "text/plain": "         Channels Backbone     Strategy  Gamma Used Weights     F1  Precision  \\\n20  R, G, NIR, RE   MiT-B0  Fine-Tuning      2   R, G, G, G  0.447      0.711   \n22  R, G, NIR, RE   MiT-B0  Fine-Tuning      0   R, G, G, G  0.616      0.653   \n21  R, G, NIR, RE   MiT-B0       Freeze      2   R, G, G, G  0.499      0.612   \n23  R, G, NIR, RE   MiT-B0       Freeze      0   R, G, G, G  0.534      0.496   \n16            CIR   MiT-B0  Fine-Tuning      2      G, G, R  0.525      0.640   \n17            CIR   MiT-B0  Fine-Tuning      0      G, G, R  0.603      0.589   \n12            CIR   MiT-B0       Freeze      2      G, G, R  0.527      0.629   \n13            CIR   MiT-B0       Freeze      0      G, G, R  0.545      0.517   \n18           NDVI   MiT-B0  Fine-Tuning      2            G  0.572      0.607   \n19           NDVI   MiT-B0  Fine-Tuning      0            G  0.577      0.503   \n14           NDVI   MiT-B0       Freeze      2            G  0.646      0.614   \n15           NDVI   MiT-B0       Freeze      0            G  0.487      0.438   \n0   R, G, NIR, RE   MiT-B1  Fine-Tuning      2   R, G, G, G  0.476      0.727   \n2   R, G, NIR, RE   MiT-B1  Fine-Tuning      0   R, G, G, G  0.611      0.621   \n1   R, G, NIR, RE   MiT-B1       Freeze      2   R, G, G, G  0.493      0.610   \n3   R, G, NIR, RE   MiT-B1       Freeze      0   R, G, G, G  0.514      0.471   \n4             CIR   MiT-B1  Fine-Tuning      2      G, G, R  0.582      0.644   \n6             CIR   MiT-B1  Fine-Tuning      0      G, G, R  0.669      0.606   \n5             CIR   MiT-B1       Freeze      2      G, G, R  0.494      0.605   \n7             CIR   MiT-B1       Freeze      0      G, G, R  0.524      0.497   \n8            NDVI   MiT-B1  Fine-Tuning      2            G  0.645      0.636   \n10           NDVI   MiT-B1  Fine-Tuning      0            G  0.575      0.497   \n9            NDVI   MiT-B1       Freeze      2            G  0.656      0.595   \n11           NDVI   MiT-B1       Freeze      0            G  0.490      0.440   \n\n    Recall  \n20   0.433  \n22   0.697  \n21   0.452  \n23   0.753  \n16   0.510  \n17   0.756  \n12   0.481  \n13   0.767  \n18   0.634  \n19   0.923  \n14   0.698  \n15   0.927  \n0    0.428  \n2    0.750  \n1    0.446  \n3    0.651  \n4    0.582  \n6    0.787  \n5    0.448  \n7    0.689  \n8    0.699  \n10   0.863  \n9    0.817  \n11   0.924  ",
      "text/html": "<div>\n<style scoped>\n    .dataframe tbody tr th:only-of-type {\n        vertical-align: middle;\n    }\n\n    .dataframe tbody tr th {\n        vertical-align: top;\n    }\n\n    .dataframe thead th {\n        text-align: right;\n    }\n</style>\n<table border=\"1\" class=\"dataframe\">\n  <thead>\n    <tr style=\"text-align: right;\">\n      <th></th>\n      <th>Channels</th>\n      <th>Backbone</th>\n      <th>Strategy</th>\n      <th>Gamma</th>\n      <th>Used Weights</th>\n      <th>F1</th>\n      <th>Precision</th>\n      <th>Recall</th>\n    </tr>\n  </thead>\n  <tbody>\n    <tr>\n      <th>20</th>\n      <td>R, G, NIR, RE</td>\n      <td>MiT-B0</td>\n      <td>Fine-Tuning</td>\n      <td>2</td>\n      <td>R, G, G, G</td>\n      <td>0.447</td>\n      <td>0.711</td>\n      <td>0.433</td>\n    </tr>\n    <tr>\n      <th>22</th>\n      <td>R, G, NIR, RE</td>\n      <td>MiT-B0</td>\n      <td>Fine-Tuning</td>\n      <td>0</td>\n      <td>R, G, G, G</td>\n      <td>0.616</td>\n      <td>0.653</td>\n      <td>0.697</td>\n    </tr>\n    <tr>\n      <th>21</th>\n      <td>R, G, NIR, RE</td>\n      <td>MiT-B0</td>\n      <td>Freeze</td>\n      <td>2</td>\n      <td>R, G, G, G</td>\n      <td>0.499</td>\n      <td>0.612</td>\n      <td>0.452</td>\n    </tr>\n    <tr>\n      <th>23</th>\n      <td>R, G, NIR, RE</td>\n      <td>MiT-B0</td>\n      <td>Freeze</td>\n      <td>0</td>\n      <td>R, G, G, G</td>\n      <td>0.534</td>\n      <td>0.496</td>\n      <td>0.753</td>\n    </tr>\n    <tr>\n      <th>16</th>\n      <td>CIR</td>\n      <td>MiT-B0</td>\n      <td>Fine-Tuning</td>\n      <td>2</td>\n      <td>G, G, R</td>\n      <td>0.525</td>\n      <td>0.640</td>\n      <td>0.510</td>\n    </tr>\n    <tr>\n      <th>17</th>\n      <td>CIR</td>\n      <td>MiT-B0</td>\n      <td>Fine-Tuning</td>\n      <td>0</td>\n      <td>G, G, R</td>\n      <td>0.603</td>\n      <td>0.589</td>\n      <td>0.756</td>\n    </tr>\n    <tr>\n      <th>12</th>\n      <td>CIR</td>\n      <td>MiT-B0</td>\n      <td>Freeze</td>\n      <td>2</td>\n      <td>G, G, R</td>\n      <td>0.527</td>\n      <td>0.629</td>\n      <td>0.481</td>\n    </tr>\n    <tr>\n      <th>13</th>\n      <td>CIR</td>\n      <td>MiT-B0</td>\n      <td>Freeze</td>\n      <td>0</td>\n      <td>G, G, R</td>\n      <td>0.545</td>\n      <td>0.517</td>\n      <td>0.767</td>\n    </tr>\n    <tr>\n      <th>18</th>\n      <td>NDVI</td>\n      <td>MiT-B0</td>\n      <td>Fine-Tuning</td>\n      <td>2</td>\n      <td>G</td>\n      <td>0.572</td>\n      <td>0.607</td>\n      <td>0.634</td>\n    </tr>\n    <tr>\n      <th>19</th>\n      <td>NDVI</td>\n      <td>MiT-B0</td>\n      <td>Fine-Tuning</td>\n      <td>0</td>\n      <td>G</td>\n      <td>0.577</td>\n      <td>0.503</td>\n      <td>0.923</td>\n    </tr>\n    <tr>\n      <th>14</th>\n      <td>NDVI</td>\n      <td>MiT-B0</td>\n      <td>Freeze</td>\n      <td>2</td>\n      <td>G</td>\n      <td>0.646</td>\n      <td>0.614</td>\n      <td>0.698</td>\n    </tr>\n    <tr>\n      <th>15</th>\n      <td>NDVI</td>\n      <td>MiT-B0</td>\n      <td>Freeze</td>\n      <td>0</td>\n      <td>G</td>\n      <td>0.487</td>\n      <td>0.438</td>\n      <td>0.927</td>\n    </tr>\n    <tr>\n      <th>0</th>\n      <td>R, G, NIR, RE</td>\n      <td>MiT-B1</td>\n      <td>Fine-Tuning</td>\n      <td>2</td>\n      <td>R, G, G, G</td>\n      <td>0.476</td>\n      <td>0.727</td>\n      <td>0.428</td>\n    </tr>\n    <tr>\n      <th>2</th>\n      <td>R, G, NIR, RE</td>\n      <td>MiT-B1</td>\n      <td>Fine-Tuning</td>\n      <td>0</td>\n      <td>R, G, G, G</td>\n      <td>0.611</td>\n      <td>0.621</td>\n      <td>0.750</td>\n    </tr>\n    <tr>\n      <th>1</th>\n      <td>R, G, NIR, RE</td>\n      <td>MiT-B1</td>\n      <td>Freeze</td>\n      <td>2</td>\n      <td>R, G, G, G</td>\n      <td>0.493</td>\n      <td>0.610</td>\n      <td>0.446</td>\n    </tr>\n    <tr>\n      <th>3</th>\n      <td>R, G, NIR, RE</td>\n      <td>MiT-B1</td>\n      <td>Freeze</td>\n      <td>0</td>\n      <td>R, G, G, G</td>\n      <td>0.514</td>\n      <td>0.471</td>\n      <td>0.651</td>\n    </tr>\n    <tr>\n      <th>4</th>\n      <td>CIR</td>\n      <td>MiT-B1</td>\n      <td>Fine-Tuning</td>\n      <td>2</td>\n      <td>G, G, R</td>\n      <td>0.582</td>\n      <td>0.644</td>\n      <td>0.582</td>\n    </tr>\n    <tr>\n      <th>6</th>\n      <td>CIR</td>\n      <td>MiT-B1</td>\n      <td>Fine-Tuning</td>\n      <td>0</td>\n      <td>G, G, R</td>\n      <td>0.669</td>\n      <td>0.606</td>\n      <td>0.787</td>\n    </tr>\n    <tr>\n      <th>5</th>\n      <td>CIR</td>\n      <td>MiT-B1</td>\n      <td>Freeze</td>\n      <td>2</td>\n      <td>G, G, R</td>\n      <td>0.494</td>\n      <td>0.605</td>\n      <td>0.448</td>\n    </tr>\n    <tr>\n      <th>7</th>\n      <td>CIR</td>\n      <td>MiT-B1</td>\n      <td>Freeze</td>\n      <td>0</td>\n      <td>G, G, R</td>\n      <td>0.524</td>\n      <td>0.497</td>\n      <td>0.689</td>\n    </tr>\n    <tr>\n      <th>8</th>\n      <td>NDVI</td>\n      <td>MiT-B1</td>\n      <td>Fine-Tuning</td>\n      <td>2</td>\n      <td>G</td>\n      <td>0.645</td>\n      <td>0.636</td>\n      <td>0.699</td>\n    </tr>\n    <tr>\n      <th>10</th>\n      <td>NDVI</td>\n      <td>MiT-B1</td>\n      <td>Fine-Tuning</td>\n      <td>0</td>\n      <td>G</td>\n      <td>0.575</td>\n      <td>0.497</td>\n      <td>0.863</td>\n    </tr>\n    <tr>\n      <th>9</th>\n      <td>NDVI</td>\n      <td>MiT-B1</td>\n      <td>Freeze</td>\n      <td>2</td>\n      <td>G</td>\n      <td>0.656</td>\n      <td>0.595</td>\n      <td>0.817</td>\n    </tr>\n    <tr>\n      <th>11</th>\n      <td>NDVI</td>\n      <td>MiT-B1</td>\n      <td>Freeze</td>\n      <td>0</td>\n      <td>G</td>\n      <td>0.490</td>\n      <td>0.440</td>\n      <td>0.924</td>\n    </tr>\n  </tbody>\n</table>\n</div>"
     },
     "execution_count": 9,
     "metadata": {},
     "output_type": "execute_result"
    }
   ],
   "source": [
    "selected_runs"
   ],
   "metadata": {
    "collapsed": false,
    "pycharm": {
     "name": "#%%\n"
    }
   }
  },
  {
   "cell_type": "code",
   "execution_count": 268,
   "outputs": [],
   "source": [
    "selected_runs.to_csv(\"../../exps/rgb_weights-complete.csv\")"
   ],
   "metadata": {
    "collapsed": false,
    "pycharm": {
     "name": "#%%\n"
    }
   }
  },
  {
   "cell_type": "code",
   "execution_count": 10,
   "outputs": [],
   "source": [
    "filters = {\n",
    "    '$or': [{'group': 'RedEdge'}, {'group': 'RandomRotation'}]\n",
    "}\n",
    "selected_cols = [\n",
    "    'in_params.dataset.channels',\n",
    "    'in_params.model.params.backbone',\n",
    "    'in_params.train_params.freeze_pretrained',\n",
    "    'in_params.model.params.main_pretrained',\n",
    "    'f1',\n",
    "]\n",
    "roundings = ['F1']"
   ],
   "metadata": {
    "collapsed": false,
    "pycharm": {
     "name": "#%%\n"
    }
   }
  },
  {
   "cell_type": "code",
   "execution_count": 11,
   "outputs": [
    {
     "data": {
      "text/plain": "['hyper_params.arch_params.schema',\n 'hyper_params.arch_params.sync_bn',\n 'hyper_params.arch_params.backbone',\n 'hyper_params.arch_params.in_channels',\n 'hyper_params.arch_params.num_classes',\n 'hyper_params.arch_params.out_channels',\n 'hyper_params.arch_params.main_channels',\n 'hyper_params.arch_params.input_channels',\n 'hyper_params.arch_params.main_pretrained',\n 'hyper_params.arch_params.output_channels',\n 'hyper_params.arch_params.side_pretrained',\n 'hyper_params.arch_params.backbone_pretrained',\n 'hyper_params.dataset_params.root',\n 'hyper_params.dataset_params.size',\n 'hyper_params.dataset_params.schema',\n 'hyper_params.dataset_params.s3_link',\n 'hyper_params.dataset_params.channels',\n 'hyper_params.dataset_params.hor_flip',\n 'hyper_params.dataset_params.ver_flip',\n 'hyper_params.dataset_params.crop_size',\n 'hyper_params.dataset_params.batch_size',\n 'hyper_params.dataset_params.dataset_dir',\n 'hyper_params.dataset_params.num_classes',\n 'hyper_params.dataset_params.num_workers',\n 'hyper_params.dataset_params.return_path',\n 'hyper_params.dataset_params.test_folders',\n 'hyper_params.dataset_params.train_folders',\n 'hyper_params.dataset_params.val_batch_size',\n 'hyper_params.dataset_params.test_batch_size',\n 'hyper_params.additional_log_items.multi_gpu',\n 'hyper_params.additional_log_items.initial_LR',\n 'hyper_params.additional_log_items.device_type',\n 'hyper_params.additional_log_items.num_devices',\n 'hyper_params.additional_log_items.installed_packages',\n 'hyper_params.training_hyperparams.ema',\n 'hyper_params.training_hyperparams.loss',\n 'hyper_params.training_hyperparams.seed',\n 'hyper_params.training_hyperparams.schema.if.properties.lr_mode.const',\n 'hyper_params.training_hyperparams.schema.then.required',\n 'hyper_params.training_hyperparams.schema.type',\n 'hyper_params.training_hyperparams.schema.required',\n 'hyper_params.training_hyperparams.schema.properties.initial_lr.type',\n 'hyper_params.training_hyperparams.schema.properties.initial_lr.maximum',\n 'hyper_params.training_hyperparams.schema.properties.initial_lr.exclusiveMinimum',\n 'hyper_params.training_hyperparams.schema.properties.max_epochs.type',\n 'hyper_params.training_hyperparams.schema.properties.max_epochs.minimum',\n 'hyper_params.training_hyperparams.schema.properties.lr_decay_factor.type',\n 'hyper_params.training_hyperparams.schema.properties.lr_decay_factor.maximum',\n 'hyper_params.training_hyperparams.schema.properties.lr_decay_factor.minimum',\n 'hyper_params.training_hyperparams.schema.properties.lr_warmup_epochs.type',\n 'hyper_params.training_hyperparams.schema.properties.lr_warmup_epochs.maximum',\n 'hyper_params.training_hyperparams.schema.properties.lr_warmup_epochs.minimum',\n 'hyper_params.training_hyperparams.lr_mode',\n 'hyper_params.training_hyperparams.optimizer',\n 'hyper_params.training_hyperparams.sg_logger',\n 'hyper_params.training_hyperparams.initial_lr',\n 'hyper_params.training_hyperparams.lr_updates',\n 'hyper_params.training_hyperparams.max_epochs',\n 'hyper_params.training_hyperparams.precise_bn',\n 'hyper_params.training_hyperparams.save_model',\n 'hyper_params.training_hyperparams.silent_mode',\n 'hyper_params.training_hyperparams.warmup_mode',\n 'hyper_params.training_hyperparams.load_opt_params',\n 'hyper_params.training_hyperparams.metric_to_watch',\n 'hyper_params.training_hyperparams.mixed_precision',\n 'hyper_params.training_hyperparams.phase_callbacks',\n 'hyper_params.training_hyperparams.batch_accumulate',\n 'hyper_params.training_hyperparams.lr_warmup_epochs',\n 'hyper_params.training_hyperparams.optimizer_params.weight_decay',\n 'hyper_params.training_hyperparams.sg_logger_params.tags',\n 'hyper_params.training_hyperparams.sg_logger_params.entity',\n 'hyper_params.training_hyperparams.sg_logger_params.project_name',\n 'hyper_params.training_hyperparams.sg_logger_params.save_logs_remote',\n 'hyper_params.training_hyperparams.sg_logger_params.tensorboard_port',\n 'hyper_params.training_hyperparams.sg_logger_params.launch_tensorboard',\n 'hyper_params.training_hyperparams.sg_logger_params.tb_files_user_prompt',\n 'hyper_params.training_hyperparams.sg_logger_params.save_checkpoints_remote',\n 'hyper_params.training_hyperparams.sg_logger_params.save_tensorboard_remote',\n 'hyper_params.training_hyperparams.tensorboard_port',\n 'hyper_params.training_hyperparams.freeze_pretrained',\n 'hyper_params.training_hyperparams.warmup_initial_lr',\n 'hyper_params.training_hyperparams.dataset_statistics',\n 'hyper_params.training_hyperparams.launch_tensorboard',\n 'hyper_params.training_hyperparams.train_metrics_list',\n 'hyper_params.training_hyperparams.valid_metrics_list',\n 'hyper_params.training_hyperparams.average_best_models',\n 'hyper_params.training_hyperparams.run_validation_freq',\n 'hyper_params.training_hyperparams.save_full_train_log',\n 'hyper_params.training_hyperparams.step_lr_update_freq',\n 'hyper_params.training_hyperparams.lr_schedule_function',\n 'hyper_params.training_hyperparams.save_ckpt_epoch_list',\n 'hyper_params.training_hyperparams.tb_files_user_prompt',\n 'hyper_params.training_hyperparams.cosine_final_lr_ratio',\n 'hyper_params.training_hyperparams.precise_bn_batch_size',\n 'hyper_params.training_hyperparams.log_installed_packages',\n 'hyper_params.training_hyperparams.save_tensorboard_to_s3',\n 'hyper_params.training_hyperparams.loss_logging_items_names',\n 'hyper_params.training_hyperparams.zero_weight_decay_on_bias_and_bn',\n 'hyper_params.training_hyperparams.greater_metric_to_watch_is_better']"
     },
     "metadata": {},
     "output_type": "display_data"
    }
   ],
   "source": [
    "runs_df = get_runs(filters)\n",
    "remove_hyp(runs_df)\n",
    "projected_runs = runs_df[\n",
    "    selected_cols\n",
    "]\n",
    "selected_runs = projected_runs"
   ],
   "metadata": {
    "collapsed": false,
    "pycharm": {
     "name": "#%%\n"
    }
   }
  },
  {
   "cell_type": "code",
   "execution_count": 12,
   "outputs": [
    {
     "name": "stderr",
     "output_type": "stream",
     "text": [
      "C:\\Users\\pasqu\\AppData\\Local\\Temp\\ipykernel_24360\\1874336447.py:1: SettingWithCopyWarning: \n",
      "A value is trying to be set on a copy of a slice from a DataFrame\n",
      "\n",
      "See the caveats in the documentation: https://pandas.pydata.org/pandas-docs/stable/user_guide/indexing.html#returning-a-view-versus-a-copy\n",
      "  selected_runs.rename(columns=renamings, inplace=True)\n",
      "C:\\Users\\pasqu\\AppData\\Local\\Temp\\ipykernel_24360\\1874336447.py:4: SettingWithCopyWarning: \n",
      "A value is trying to be set on a copy of a slice from a DataFrame\n",
      "\n",
      "See the caveats in the documentation: https://pandas.pydata.org/pandas-docs/stable/user_guide/indexing.html#returning-a-view-versus-a-copy\n",
      "  selected_runs.drop(selected_runs[selected_runs['Channels'].isin([['R', 'G']])].index, inplace=True)\n"
     ]
    }
   ],
   "source": [
    "selected_runs.rename(columns=renamings, inplace=True)\n",
    "selected_runs.loc[(selected_runs['Channels'] == 'CIR') & selected_runs['Used Weights'].isna(), 'Used Weights'] = 'RGB'\n",
    "selected_runs.loc[(selected_runs['Channels'].isin([['NDVI']])) & selected_runs['Used Weights'].isna(), 'Used Weights'] = 'R'\n",
    "selected_runs.drop(selected_runs[selected_runs['Channels'].isin([['R', 'G']])].index, inplace=True)"
   ],
   "metadata": {
    "collapsed": false,
    "pycharm": {
     "name": "#%%\n"
    }
   }
  },
  {
   "cell_type": "code",
   "execution_count": 13,
   "outputs": [
    {
     "name": "stderr",
     "output_type": "stream",
     "text": [
      "C:\\Users\\pasqu\\AppData\\Local\\Temp\\ipykernel_24360\\2999623128.py:34: SettingWithCopyWarning: \n",
      "A value is trying to be set on a copy of a slice from a DataFrame.\n",
      "Try using .loc[row_indexer,col_indexer] = value instead\n",
      "\n",
      "See the caveats in the documentation: https://pandas.pydata.org/pandas-docs/stable/user_guide/indexing.html#returning-a-view-versus-a-copy\n",
      "  df[column] = df[column].replace(values)\n",
      "C:\\Users\\pasqu\\AppData\\Local\\Temp\\ipykernel_24360\\3723124597.py:2: SettingWithCopyWarning: \n",
      "A value is trying to be set on a copy of a slice from a DataFrame.\n",
      "Try using .loc[row_indexer,col_indexer] = value instead\n",
      "\n",
      "See the caveats in the documentation: https://pandas.pydata.org/pandas-docs/stable/user_guide/indexing.html#returning-a-view-versus-a-copy\n",
      "  selected_runs[roundings] = selected_runs[roundings].round(5)\n"
     ]
    }
   ],
   "source": [
    "rename_values(selected_runs, value_renamings)\n",
    "selected_runs[roundings] = selected_runs[roundings].round(5)\n",
    "selected_runs = selected_runs.applymap(lambda x: ', '.join(x) if isinstance(x, list) else x)\n",
    "selected_runs[roundings] = selected_runs[roundings].round(3)\n",
    "selected_runs.sort_values(by=['Backbone', 'Channels', 'Used Weights'],\n",
    "                          key=lambda x: x.apply(lambda k: channels_ordering[k]), inplace=True)"
   ],
   "metadata": {
    "collapsed": false,
    "pycharm": {
     "name": "#%%\n"
    }
   }
  },
  {
   "cell_type": "code",
   "execution_count": 14,
   "outputs": [
    {
     "name": "stderr",
     "output_type": "stream",
     "text": [
      "C:\\Users\\pasqu\\AppData\\Local\\Temp\\ipykernel_24360\\3340784096.py:3: SettingWithCopyWarning: \n",
      "A value is trying to be set on a copy of a slice from a DataFrame\n",
      "\n",
      "See the caveats in the documentation: https://pandas.pydata.org/pandas-docs/stable/user_guide/indexing.html#returning-a-view-versus-a-copy\n",
      "  best_runs.sort_values(by=['Channels', 'Strategy'], key=lambda x: x.apply(lambda k: channels_ordering[k]), inplace=True)\n",
      "C:\\Users\\pasqu\\AppData\\Local\\Temp\\ipykernel_24360\\3340784096.py:4: SettingWithCopyWarning: \n",
      "A value is trying to be set on a copy of a slice from a DataFrame.\n",
      "Try using .loc[row_indexer,col_indexer] = value instead\n",
      "\n",
      "See the caveats in the documentation: https://pandas.pydata.org/pandas-docs/stable/user_guide/indexing.html#returning-a-view-versus-a-copy\n",
      "  best_runs[roundings] = best_runs[roundings].round(3)\n"
     ]
    }
   ],
   "source": [
    "idx = selected_runs.groupby(by=['Channels', 'Strategy', 'Used Weights'])['F1'].transform(max) == selected_runs['F1']\n",
    "best_runs = selected_runs[idx]\n",
    "best_runs.sort_values(by=['Channels', 'Strategy'], key=lambda x: x.apply(lambda k: channels_ordering[k]), inplace=True)\n",
    "best_runs[roundings] = best_runs[roundings].round(3)"
   ],
   "metadata": {
    "collapsed": false,
    "pycharm": {
     "name": "#%%\n"
    }
   }
  },
  {
   "cell_type": "code",
   "execution_count": 15,
   "outputs": [
    {
     "data": {
      "text/plain": "         Channels Backbone     Strategy Used Weights     F1\n22  R, G, NIR, RE   MiT-B0  Fine-Tuning   R, G, G, G  0.616\n23  R, G, NIR, RE   MiT-B0       Freeze   R, G, G, G  0.534\n30            CIR   MiT-B1  Fine-Tuning          RGB  0.650\n6             CIR   MiT-B1  Fine-Tuning      G, G, R  0.669\n13            CIR   MiT-B0       Freeze      G, G, R  0.545\n27            CIR   MiT-B1       Freeze          RGB  0.602\n37           NDVI   MiT-B0  Fine-Tuning            R  0.594\n8            NDVI   MiT-B1  Fine-Tuning            G  0.645\n28           NDVI   MiT-B1       Freeze            R  0.685\n9            NDVI   MiT-B1       Freeze            G  0.656",
      "text/html": "<div>\n<style scoped>\n    .dataframe tbody tr th:only-of-type {\n        vertical-align: middle;\n    }\n\n    .dataframe tbody tr th {\n        vertical-align: top;\n    }\n\n    .dataframe thead th {\n        text-align: right;\n    }\n</style>\n<table border=\"1\" class=\"dataframe\">\n  <thead>\n    <tr style=\"text-align: right;\">\n      <th></th>\n      <th>Channels</th>\n      <th>Backbone</th>\n      <th>Strategy</th>\n      <th>Used Weights</th>\n      <th>F1</th>\n    </tr>\n  </thead>\n  <tbody>\n    <tr>\n      <th>22</th>\n      <td>R, G, NIR, RE</td>\n      <td>MiT-B0</td>\n      <td>Fine-Tuning</td>\n      <td>R, G, G, G</td>\n      <td>0.616</td>\n    </tr>\n    <tr>\n      <th>23</th>\n      <td>R, G, NIR, RE</td>\n      <td>MiT-B0</td>\n      <td>Freeze</td>\n      <td>R, G, G, G</td>\n      <td>0.534</td>\n    </tr>\n    <tr>\n      <th>30</th>\n      <td>CIR</td>\n      <td>MiT-B1</td>\n      <td>Fine-Tuning</td>\n      <td>RGB</td>\n      <td>0.650</td>\n    </tr>\n    <tr>\n      <th>6</th>\n      <td>CIR</td>\n      <td>MiT-B1</td>\n      <td>Fine-Tuning</td>\n      <td>G, G, R</td>\n      <td>0.669</td>\n    </tr>\n    <tr>\n      <th>13</th>\n      <td>CIR</td>\n      <td>MiT-B0</td>\n      <td>Freeze</td>\n      <td>G, G, R</td>\n      <td>0.545</td>\n    </tr>\n    <tr>\n      <th>27</th>\n      <td>CIR</td>\n      <td>MiT-B1</td>\n      <td>Freeze</td>\n      <td>RGB</td>\n      <td>0.602</td>\n    </tr>\n    <tr>\n      <th>37</th>\n      <td>NDVI</td>\n      <td>MiT-B0</td>\n      <td>Fine-Tuning</td>\n      <td>R</td>\n      <td>0.594</td>\n    </tr>\n    <tr>\n      <th>8</th>\n      <td>NDVI</td>\n      <td>MiT-B1</td>\n      <td>Fine-Tuning</td>\n      <td>G</td>\n      <td>0.645</td>\n    </tr>\n    <tr>\n      <th>28</th>\n      <td>NDVI</td>\n      <td>MiT-B1</td>\n      <td>Freeze</td>\n      <td>R</td>\n      <td>0.685</td>\n    </tr>\n    <tr>\n      <th>9</th>\n      <td>NDVI</td>\n      <td>MiT-B1</td>\n      <td>Freeze</td>\n      <td>G</td>\n      <td>0.656</td>\n    </tr>\n  </tbody>\n</table>\n</div>"
     },
     "execution_count": 15,
     "metadata": {},
     "output_type": "execute_result"
    }
   ],
   "source": [
    "best_runs"
   ],
   "metadata": {
    "collapsed": false,
    "pycharm": {
     "name": "#%%\n"
    }
   }
  },
  {
   "cell_type": "code",
   "execution_count": 321,
   "outputs": [
    {
     "data": {
      "text/plain": "   Channels Backbone_x     Strategy Used Weights_x   F1_x Backbone_y  \\\n3       CIR     MiT-B1  Fine-Tuning            RGB  0.650     MiT-B1   \n8       CIR     MiT-B1       Freeze            RGB  0.602     MiT-B0   \n11     NDVI     MiT-B0  Fine-Tuning              R  0.594     MiT-B1   \n15     NDVI     MiT-B1       Freeze              R  0.685     MiT-B1   \n\n   Used Weights_y   F1_y  \n3         G, G, R  0.669  \n8         G, G, R  0.545  \n11              G  0.645  \n15              G  0.656  ",
      "text/html": "<div>\n<style scoped>\n    .dataframe tbody tr th:only-of-type {\n        vertical-align: middle;\n    }\n\n    .dataframe tbody tr th {\n        vertical-align: top;\n    }\n\n    .dataframe thead th {\n        text-align: right;\n    }\n</style>\n<table border=\"1\" class=\"dataframe\">\n  <thead>\n    <tr style=\"text-align: right;\">\n      <th></th>\n      <th>Channels</th>\n      <th>Backbone_x</th>\n      <th>Strategy</th>\n      <th>Used Weights_x</th>\n      <th>F1_x</th>\n      <th>Backbone_y</th>\n      <th>Used Weights_y</th>\n      <th>F1_y</th>\n    </tr>\n  </thead>\n  <tbody>\n    <tr>\n      <th>3</th>\n      <td>CIR</td>\n      <td>MiT-B1</td>\n      <td>Fine-Tuning</td>\n      <td>RGB</td>\n      <td>0.650</td>\n      <td>MiT-B1</td>\n      <td>G, G, R</td>\n      <td>0.669</td>\n    </tr>\n    <tr>\n      <th>8</th>\n      <td>CIR</td>\n      <td>MiT-B1</td>\n      <td>Freeze</td>\n      <td>RGB</td>\n      <td>0.602</td>\n      <td>MiT-B0</td>\n      <td>G, G, R</td>\n      <td>0.545</td>\n    </tr>\n    <tr>\n      <th>11</th>\n      <td>NDVI</td>\n      <td>MiT-B0</td>\n      <td>Fine-Tuning</td>\n      <td>R</td>\n      <td>0.594</td>\n      <td>MiT-B1</td>\n      <td>G</td>\n      <td>0.645</td>\n    </tr>\n    <tr>\n      <th>15</th>\n      <td>NDVI</td>\n      <td>MiT-B1</td>\n      <td>Freeze</td>\n      <td>R</td>\n      <td>0.685</td>\n      <td>MiT-B1</td>\n      <td>G</td>\n      <td>0.656</td>\n    </tr>\n  </tbody>\n</table>\n</div>"
     },
     "execution_count": 321,
     "metadata": {},
     "output_type": "execute_result"
    }
   ],
   "source": [
    "compare_runs = best_runs.merge(best_runs, on=['Channels', 'Strategy'])\n",
    "compare_runs.drop(compare_runs[compare_runs['Used Weights_x'] == compare_runs['Used Weights_y']].index, inplace=True)\n",
    "compare_runs.drop(compare_runs[compare_runs['Used Weights_x'] == 'G, G, R'].index, inplace=True)\n",
    "compare_runs.drop(compare_runs[compare_runs['Used Weights_x'] == 'G'].index, inplace=True)\n",
    "compare_runs"
   ],
   "metadata": {
    "collapsed": false,
    "pycharm": {
     "name": "#%%\n"
    }
   }
  },
  {
   "cell_type": "code",
   "execution_count": 322,
   "outputs": [
    {
     "name": "stderr",
     "output_type": "stream",
     "text": [
      "C:\\Users\\pasqu\\AppData\\Local\\Temp\\ipykernel_11100\\4110542001.py:2: SettingWithCopyWarning: \n",
      "A value is trying to be set on a copy of a slice from a DataFrame\n",
      "\n",
      "See the caveats in the documentation: https://pandas.pydata.org/pandas-docs/stable/user_guide/indexing.html#returning-a-view-versus-a-copy\n",
      "  complete.rename(columns={'Gamma': 'Gamma_y', 'F1': 'F1_y', 'Used Weights': 'Used Weights_y', 'Backbone': 'Backbone_x'}, inplace=True)\n",
      "C:\\Users\\pasqu\\AppData\\Local\\Temp\\ipykernel_11100\\4110542001.py:3: FutureWarning: The frame.append method is deprecated and will be removed from pandas in a future version. Use pandas.concat instead.\n",
      "  compare_runs = compare_runs.append(complete)\n"
     ]
    },
    {
     "data": {
      "text/plain": "         Channels Backbone_x     Strategy Used Weights_x   F1_x Backbone_y  \\\n3             CIR     MiT-B1  Fine-Tuning            RGB   0.65     MiT-B1   \n8             CIR     MiT-B1       Freeze            RGB  0.602     MiT-B0   \n11           NDVI     MiT-B0  Fine-Tuning              R  0.594     MiT-B1   \n15           NDVI     MiT-B1       Freeze              R  0.685     MiT-B1   \n22  R, G, NIR, RE     MiT-B0  Fine-Tuning                                    \n23  R, G, NIR, RE     MiT-B0       Freeze                                    \n\n   Used Weights_y   F1_y  \n3         G, G, R  0.669  \n8         G, G, R  0.545  \n11              G  0.645  \n15              G  0.656  \n22     R, G, G, G  0.616  \n23     R, G, G, G  0.534  ",
      "text/html": "<div>\n<style scoped>\n    .dataframe tbody tr th:only-of-type {\n        vertical-align: middle;\n    }\n\n    .dataframe tbody tr th {\n        vertical-align: top;\n    }\n\n    .dataframe thead th {\n        text-align: right;\n    }\n</style>\n<table border=\"1\" class=\"dataframe\">\n  <thead>\n    <tr style=\"text-align: right;\">\n      <th></th>\n      <th>Channels</th>\n      <th>Backbone_x</th>\n      <th>Strategy</th>\n      <th>Used Weights_x</th>\n      <th>F1_x</th>\n      <th>Backbone_y</th>\n      <th>Used Weights_y</th>\n      <th>F1_y</th>\n    </tr>\n  </thead>\n  <tbody>\n    <tr>\n      <th>3</th>\n      <td>CIR</td>\n      <td>MiT-B1</td>\n      <td>Fine-Tuning</td>\n      <td>RGB</td>\n      <td>0.65</td>\n      <td>MiT-B1</td>\n      <td>G, G, R</td>\n      <td>0.669</td>\n    </tr>\n    <tr>\n      <th>8</th>\n      <td>CIR</td>\n      <td>MiT-B1</td>\n      <td>Freeze</td>\n      <td>RGB</td>\n      <td>0.602</td>\n      <td>MiT-B0</td>\n      <td>G, G, R</td>\n      <td>0.545</td>\n    </tr>\n    <tr>\n      <th>11</th>\n      <td>NDVI</td>\n      <td>MiT-B0</td>\n      <td>Fine-Tuning</td>\n      <td>R</td>\n      <td>0.594</td>\n      <td>MiT-B1</td>\n      <td>G</td>\n      <td>0.645</td>\n    </tr>\n    <tr>\n      <th>15</th>\n      <td>NDVI</td>\n      <td>MiT-B1</td>\n      <td>Freeze</td>\n      <td>R</td>\n      <td>0.685</td>\n      <td>MiT-B1</td>\n      <td>G</td>\n      <td>0.656</td>\n    </tr>\n    <tr>\n      <th>22</th>\n      <td>R, G, NIR, RE</td>\n      <td>MiT-B0</td>\n      <td>Fine-Tuning</td>\n      <td></td>\n      <td></td>\n      <td></td>\n      <td>R, G, G, G</td>\n      <td>0.616</td>\n    </tr>\n    <tr>\n      <th>23</th>\n      <td>R, G, NIR, RE</td>\n      <td>MiT-B0</td>\n      <td>Freeze</td>\n      <td></td>\n      <td></td>\n      <td></td>\n      <td>R, G, G, G</td>\n      <td>0.534</td>\n    </tr>\n  </tbody>\n</table>\n</div>"
     },
     "execution_count": 322,
     "metadata": {},
     "output_type": "execute_result"
    }
   ],
   "source": [
    "complete = best_runs[best_runs['Channels'] == 'R, G, NIR, RE']\n",
    "complete.rename(columns={'Gamma': 'Gamma_y', 'F1': 'F1_y', 'Used Weights': 'Used Weights_y', 'Backbone': 'Backbone_x'}, inplace=True)\n",
    "compare_runs = compare_runs.append(complete)\n",
    "compare_runs.fillna(\"\", inplace=True)\n",
    "compare_runs"
   ],
   "metadata": {
    "collapsed": false,
    "pycharm": {
     "name": "#%%\n"
    }
   }
  },
  {
   "cell_type": "code",
   "execution_count": 324,
   "outputs": [],
   "source": [
    "compare_runs.to_csv(\"../../exps/rgb_weights.csv\")"
   ],
   "metadata": {
    "collapsed": false,
    "pycharm": {
     "name": "#%%\n"
    }
   }
  },
  {
   "cell_type": "code",
   "execution_count": null,
   "outputs": [],
   "source": [],
   "metadata": {
    "collapsed": false,
    "pycharm": {
     "name": "#%%\n"
    }
   }
  },
  {
   "cell_type": "markdown",
   "source": [
    "## Laweed"
   ],
   "metadata": {
    "collapsed": false,
    "pycharm": {
     "name": "#%% md\n"
    }
   }
  },
  {
   "cell_type": "code",
   "execution_count": 84,
   "outputs": [],
   "source": [
    "filters = {\n",
    "    'group': 'Laweed'\n",
    "}\n",
    "selected_cols = [\n",
    "    'in_params.dataset.channels',\n",
    "    'in_params.train_params.loss.params.gamma',\n",
    "    'in_params.train_params.freeze_pretrained',\n",
    "    'in_params.model.params.main_pretrained',\n",
    "    'f1',\n",
    "    'precision',\n",
    "    'recall'\n",
    "]\n",
    "roundings = ['F1', 'Precision', 'Recall']"
   ],
   "metadata": {
    "collapsed": false,
    "pycharm": {
     "name": "#%%\n"
    }
   }
  },
  {
   "cell_type": "code",
   "execution_count": 85,
   "outputs": [
    {
     "data": {
      "text/plain": "['hyper_params.arch_params.schema',\n 'hyper_params.arch_params.sync_bn',\n 'hyper_params.arch_params.backbone',\n 'hyper_params.arch_params.in_channels',\n 'hyper_params.arch_params.num_classes',\n 'hyper_params.arch_params.out_channels',\n 'hyper_params.arch_params.main_channels',\n 'hyper_params.arch_params.input_channels',\n 'hyper_params.arch_params.main_pretrained',\n 'hyper_params.arch_params.output_channels',\n 'hyper_params.arch_params.side_pretrained',\n 'hyper_params.arch_params.backbone_pretrained',\n 'hyper_params.dataset_params.root',\n 'hyper_params.dataset_params.size',\n 'hyper_params.dataset_params.schema',\n 'hyper_params.dataset_params.s3_link',\n 'hyper_params.dataset_params.channels',\n 'hyper_params.dataset_params.hor_flip',\n 'hyper_params.dataset_params.ver_flip',\n 'hyper_params.dataset_params.crop_size',\n 'hyper_params.dataset_params.batch_size',\n 'hyper_params.dataset_params.dataset_dir',\n 'hyper_params.dataset_params.num_classes',\n 'hyper_params.dataset_params.num_workers',\n 'hyper_params.dataset_params.return_path',\n 'hyper_params.dataset_params.test_folders',\n 'hyper_params.dataset_params.train_folders',\n 'hyper_params.dataset_params.val_batch_size',\n 'hyper_params.dataset_params.test_batch_size',\n 'hyper_params.additional_log_items.multi_gpu',\n 'hyper_params.additional_log_items.initial_LR',\n 'hyper_params.additional_log_items.device_type',\n 'hyper_params.additional_log_items.num_devices',\n 'hyper_params.additional_log_items.installed_packages',\n 'hyper_params.training_hyperparams.ema',\n 'hyper_params.training_hyperparams.loss',\n 'hyper_params.training_hyperparams.seed',\n 'hyper_params.training_hyperparams.schema.if.properties.lr_mode.const',\n 'hyper_params.training_hyperparams.schema.then.required',\n 'hyper_params.training_hyperparams.schema.type',\n 'hyper_params.training_hyperparams.schema.required',\n 'hyper_params.training_hyperparams.schema.properties.initial_lr.type',\n 'hyper_params.training_hyperparams.schema.properties.initial_lr.maximum',\n 'hyper_params.training_hyperparams.schema.properties.initial_lr.exclusiveMinimum',\n 'hyper_params.training_hyperparams.schema.properties.max_epochs.type',\n 'hyper_params.training_hyperparams.schema.properties.max_epochs.minimum',\n 'hyper_params.training_hyperparams.schema.properties.lr_decay_factor.type',\n 'hyper_params.training_hyperparams.schema.properties.lr_decay_factor.maximum',\n 'hyper_params.training_hyperparams.schema.properties.lr_decay_factor.minimum',\n 'hyper_params.training_hyperparams.schema.properties.lr_warmup_epochs.type',\n 'hyper_params.training_hyperparams.schema.properties.lr_warmup_epochs.maximum',\n 'hyper_params.training_hyperparams.schema.properties.lr_warmup_epochs.minimum',\n 'hyper_params.training_hyperparams.lr_mode',\n 'hyper_params.training_hyperparams.optimizer',\n 'hyper_params.training_hyperparams.sg_logger',\n 'hyper_params.training_hyperparams.initial_lr',\n 'hyper_params.training_hyperparams.lr_updates',\n 'hyper_params.training_hyperparams.max_epochs',\n 'hyper_params.training_hyperparams.precise_bn',\n 'hyper_params.training_hyperparams.save_model',\n 'hyper_params.training_hyperparams.silent_mode',\n 'hyper_params.training_hyperparams.warmup_mode',\n 'hyper_params.training_hyperparams.load_opt_params',\n 'hyper_params.training_hyperparams.metric_to_watch',\n 'hyper_params.training_hyperparams.mixed_precision',\n 'hyper_params.training_hyperparams.phase_callbacks',\n 'hyper_params.training_hyperparams.batch_accumulate',\n 'hyper_params.training_hyperparams.lr_warmup_epochs',\n 'hyper_params.training_hyperparams.optimizer_params.weight_decay',\n 'hyper_params.training_hyperparams.sg_logger_params.tags',\n 'hyper_params.training_hyperparams.sg_logger_params.entity',\n 'hyper_params.training_hyperparams.sg_logger_params.project_name',\n 'hyper_params.training_hyperparams.sg_logger_params.save_logs_remote',\n 'hyper_params.training_hyperparams.sg_logger_params.tensorboard_port',\n 'hyper_params.training_hyperparams.sg_logger_params.launch_tensorboard',\n 'hyper_params.training_hyperparams.sg_logger_params.tb_files_user_prompt',\n 'hyper_params.training_hyperparams.sg_logger_params.save_checkpoints_remote',\n 'hyper_params.training_hyperparams.sg_logger_params.save_tensorboard_remote',\n 'hyper_params.training_hyperparams.tensorboard_port',\n 'hyper_params.training_hyperparams.freeze_pretrained',\n 'hyper_params.training_hyperparams.warmup_initial_lr',\n 'hyper_params.training_hyperparams.dataset_statistics',\n 'hyper_params.training_hyperparams.launch_tensorboard',\n 'hyper_params.training_hyperparams.train_metrics_list',\n 'hyper_params.training_hyperparams.valid_metrics_list',\n 'hyper_params.training_hyperparams.average_best_models',\n 'hyper_params.training_hyperparams.run_validation_freq',\n 'hyper_params.training_hyperparams.save_full_train_log',\n 'hyper_params.training_hyperparams.step_lr_update_freq',\n 'hyper_params.training_hyperparams.lr_schedule_function',\n 'hyper_params.training_hyperparams.save_ckpt_epoch_list',\n 'hyper_params.training_hyperparams.tb_files_user_prompt',\n 'hyper_params.training_hyperparams.cosine_final_lr_ratio',\n 'hyper_params.training_hyperparams.precise_bn_batch_size',\n 'hyper_params.training_hyperparams.log_installed_packages',\n 'hyper_params.training_hyperparams.save_tensorboard_to_s3',\n 'hyper_params.training_hyperparams.loss_logging_items_names',\n 'hyper_params.training_hyperparams.zero_weight_decay_on_bias_and_bn',\n 'hyper_params.training_hyperparams.greater_metric_to_watch_is_better']"
     },
     "metadata": {},
     "output_type": "display_data"
    }
   ],
   "source": [
    "runs_df = get_runs(filters)\n",
    "remove_hyp(runs_df)"
   ],
   "metadata": {
    "collapsed": false,
    "pycharm": {
     "name": "#%%\n"
    }
   }
  },
  {
   "cell_type": "code",
   "execution_count": 333,
   "outputs": [],
   "source": [
    "projected_runs = runs_df[\n",
    "    selected_cols\n",
    "]\n",
    "# selected_runs = projected_runs[projected_runs['in_params.model.params.backbone'] == 'MiT-B0']\n",
    "selected_runs = projected_runs"
   ],
   "metadata": {
    "collapsed": false,
    "pycharm": {
     "name": "#%%\n"
    }
   }
  },
  {
   "cell_type": "code",
   "execution_count": 334,
   "outputs": [
    {
     "name": "stderr",
     "output_type": "stream",
     "text": [
      "C:\\Users\\pasqu\\AppData\\Local\\Temp\\ipykernel_11100\\1084863829.py:1: SettingWithCopyWarning: \n",
      "A value is trying to be set on a copy of a slice from a DataFrame\n",
      "\n",
      "See the caveats in the documentation: https://pandas.pydata.org/pandas-docs/stable/user_guide/indexing.html#returning-a-view-versus-a-copy\n",
      "  selected_runs.rename(columns=renamings, inplace=True)\n",
      "C:\\Users\\pasqu\\AppData\\Local\\Temp\\ipykernel_11100\\2999623128.py:34: SettingWithCopyWarning: \n",
      "A value is trying to be set on a copy of a slice from a DataFrame.\n",
      "Try using .loc[row_indexer,col_indexer] = value instead\n",
      "\n",
      "See the caveats in the documentation: https://pandas.pydata.org/pandas-docs/stable/user_guide/indexing.html#returning-a-view-versus-a-copy\n",
      "  df[column] = df[column].replace(values)\n",
      "C:\\Users\\pasqu\\AppData\\Local\\Temp\\ipykernel_11100\\1084863829.py:3: SettingWithCopyWarning: \n",
      "A value is trying to be set on a copy of a slice from a DataFrame.\n",
      "Try using .loc[row_indexer,col_indexer] = value instead\n",
      "\n",
      "See the caveats in the documentation: https://pandas.pydata.org/pandas-docs/stable/user_guide/indexing.html#returning-a-view-versus-a-copy\n",
      "  selected_runs[roundings] = selected_runs[roundings].round(5)\n",
      "C:\\Users\\pasqu\\AppData\\Local\\Temp\\ipykernel_11100\\1084863829.py:4: SettingWithCopyWarning: \n",
      "A value is trying to be set on a copy of a slice from a DataFrame\n",
      "\n",
      "See the caveats in the documentation: https://pandas.pydata.org/pandas-docs/stable/user_guide/indexing.html#returning-a-view-versus-a-copy\n",
      "  selected_runs.fillna(0, inplace=True)\n",
      "C:\\Users\\pasqu\\AppData\\Local\\Temp\\ipykernel_11100\\1084863829.py:8: SettingWithCopyWarning: \n",
      "A value is trying to be set on a copy of a slice from a DataFrame\n",
      "\n",
      "See the caveats in the documentation: https://pandas.pydata.org/pandas-docs/stable/user_guide/indexing.html#returning-a-view-versus-a-copy\n",
      "  best_runs.sort_values(by=['Strategy', 'Channels'], key=lambda x: x.apply(lambda k: channels_ordering[k]), inplace=True)\n",
      "C:\\Users\\pasqu\\AppData\\Local\\Temp\\ipykernel_11100\\1084863829.py:9: SettingWithCopyWarning: \n",
      "A value is trying to be set on a copy of a slice from a DataFrame.\n",
      "Try using .loc[row_indexer,col_indexer] = value instead\n",
      "\n",
      "See the caveats in the documentation: https://pandas.pydata.org/pandas-docs/stable/user_guide/indexing.html#returning-a-view-versus-a-copy\n",
      "  best_runs[roundings] = best_runs[roundings].round(3)\n"
     ]
    }
   ],
   "source": [
    "selected_runs.rename(columns=renamings, inplace=True)\n",
    "rename_values(selected_runs, value_renamings)\n",
    "selected_runs[roundings] = selected_runs[roundings].round(5)\n",
    "selected_runs.fillna(0, inplace=True)\n",
    "selected_runs = selected_runs.applymap(lambda x: ', '.join(x) if isinstance(x, list) else x)\n",
    "idx = selected_runs.groupby(by=['Channels', 'Strategy'])['F1'].transform(max) == selected_runs['F1']\n",
    "best_runs = selected_runs[idx]\n",
    "best_runs.sort_values(by=['Strategy', 'Channels'], key=lambda x: x.apply(lambda k: channels_ordering[k]), inplace=True)\n",
    "best_runs[roundings] = best_runs[roundings].round(3)\n",
    "selected_runs[roundings] = selected_runs[roundings].round(3)"
   ],
   "metadata": {
    "collapsed": false,
    "pycharm": {
     "name": "#%%\n"
    }
   }
  },
  {
   "cell_type": "code",
   "execution_count": 335,
   "outputs": [
    {
     "data": {
      "text/plain": "         Channels  Gamma     Strategy Used Weights     F1  Precision  Recall\n0   R, G, NIR, RE    2.0  Fine-Tuning   R, G, G, G  0.444      0.656   0.429\n1   R, G, NIR, RE    2.0       Freeze   R, G, G, G  0.489      0.616   0.449\n2   R, G, NIR, RE    0.0  Fine-Tuning   R, G, G, G  0.603      0.593   0.774\n3   R, G, NIR, RE    0.0       Freeze   R, G, G, G  0.530      0.494   0.773\n4             CIR    2.0  Fine-Tuning            0  0.512      0.705   0.475\n5             CIR    2.0       Freeze            0  0.561      0.686   0.502\n6             CIR    0.0  Fine-Tuning            0  0.622      0.622   0.702\n7             CIR    0.0       Freeze            0  0.592      0.532   0.817\n8            NDVI    2.0  Fine-Tuning            G  0.428      0.663   0.472\n9            NDVI    2.0       Freeze            G  0.567      0.703   0.508\n10           NDVI    0.0  Fine-Tuning            G  0.587      0.523   0.870\n11           NDVI    0.0       Freeze            G  0.513      0.480   0.858",
      "text/html": "<div>\n<style scoped>\n    .dataframe tbody tr th:only-of-type {\n        vertical-align: middle;\n    }\n\n    .dataframe tbody tr th {\n        vertical-align: top;\n    }\n\n    .dataframe thead th {\n        text-align: right;\n    }\n</style>\n<table border=\"1\" class=\"dataframe\">\n  <thead>\n    <tr style=\"text-align: right;\">\n      <th></th>\n      <th>Channels</th>\n      <th>Gamma</th>\n      <th>Strategy</th>\n      <th>Used Weights</th>\n      <th>F1</th>\n      <th>Precision</th>\n      <th>Recall</th>\n    </tr>\n  </thead>\n  <tbody>\n    <tr>\n      <th>0</th>\n      <td>R, G, NIR, RE</td>\n      <td>2.0</td>\n      <td>Fine-Tuning</td>\n      <td>R, G, G, G</td>\n      <td>0.444</td>\n      <td>0.656</td>\n      <td>0.429</td>\n    </tr>\n    <tr>\n      <th>1</th>\n      <td>R, G, NIR, RE</td>\n      <td>2.0</td>\n      <td>Freeze</td>\n      <td>R, G, G, G</td>\n      <td>0.489</td>\n      <td>0.616</td>\n      <td>0.449</td>\n    </tr>\n    <tr>\n      <th>2</th>\n      <td>R, G, NIR, RE</td>\n      <td>0.0</td>\n      <td>Fine-Tuning</td>\n      <td>R, G, G, G</td>\n      <td>0.603</td>\n      <td>0.593</td>\n      <td>0.774</td>\n    </tr>\n    <tr>\n      <th>3</th>\n      <td>R, G, NIR, RE</td>\n      <td>0.0</td>\n      <td>Freeze</td>\n      <td>R, G, G, G</td>\n      <td>0.530</td>\n      <td>0.494</td>\n      <td>0.773</td>\n    </tr>\n    <tr>\n      <th>4</th>\n      <td>CIR</td>\n      <td>2.0</td>\n      <td>Fine-Tuning</td>\n      <td>0</td>\n      <td>0.512</td>\n      <td>0.705</td>\n      <td>0.475</td>\n    </tr>\n    <tr>\n      <th>5</th>\n      <td>CIR</td>\n      <td>2.0</td>\n      <td>Freeze</td>\n      <td>0</td>\n      <td>0.561</td>\n      <td>0.686</td>\n      <td>0.502</td>\n    </tr>\n    <tr>\n      <th>6</th>\n      <td>CIR</td>\n      <td>0.0</td>\n      <td>Fine-Tuning</td>\n      <td>0</td>\n      <td>0.622</td>\n      <td>0.622</td>\n      <td>0.702</td>\n    </tr>\n    <tr>\n      <th>7</th>\n      <td>CIR</td>\n      <td>0.0</td>\n      <td>Freeze</td>\n      <td>0</td>\n      <td>0.592</td>\n      <td>0.532</td>\n      <td>0.817</td>\n    </tr>\n    <tr>\n      <th>8</th>\n      <td>NDVI</td>\n      <td>2.0</td>\n      <td>Fine-Tuning</td>\n      <td>G</td>\n      <td>0.428</td>\n      <td>0.663</td>\n      <td>0.472</td>\n    </tr>\n    <tr>\n      <th>9</th>\n      <td>NDVI</td>\n      <td>2.0</td>\n      <td>Freeze</td>\n      <td>G</td>\n      <td>0.567</td>\n      <td>0.703</td>\n      <td>0.508</td>\n    </tr>\n    <tr>\n      <th>10</th>\n      <td>NDVI</td>\n      <td>0.0</td>\n      <td>Fine-Tuning</td>\n      <td>G</td>\n      <td>0.587</td>\n      <td>0.523</td>\n      <td>0.870</td>\n    </tr>\n    <tr>\n      <th>11</th>\n      <td>NDVI</td>\n      <td>0.0</td>\n      <td>Freeze</td>\n      <td>G</td>\n      <td>0.513</td>\n      <td>0.480</td>\n      <td>0.858</td>\n    </tr>\n  </tbody>\n</table>\n</div>"
     },
     "execution_count": 335,
     "metadata": {},
     "output_type": "execute_result"
    }
   ],
   "source": [
    "selected_runs"
   ],
   "metadata": {
    "collapsed": false,
    "pycharm": {
     "name": "#%%\n"
    }
   }
  },
  {
   "cell_type": "code",
   "execution_count": 336,
   "outputs": [
    {
     "data": {
      "text/plain": "         Channels  Gamma     Strategy Used Weights     F1  Precision  Recall\n2   R, G, NIR, RE    0.0  Fine-Tuning   R, G, G, G  0.603      0.593   0.774\n6             CIR    0.0  Fine-Tuning            0  0.622      0.622   0.702\n10           NDVI    0.0  Fine-Tuning            G  0.587      0.523   0.870\n3   R, G, NIR, RE    0.0       Freeze   R, G, G, G  0.530      0.494   0.773\n7             CIR    0.0       Freeze            0  0.592      0.532   0.817\n9            NDVI    2.0       Freeze            G  0.567      0.703   0.508",
      "text/html": "<div>\n<style scoped>\n    .dataframe tbody tr th:only-of-type {\n        vertical-align: middle;\n    }\n\n    .dataframe tbody tr th {\n        vertical-align: top;\n    }\n\n    .dataframe thead th {\n        text-align: right;\n    }\n</style>\n<table border=\"1\" class=\"dataframe\">\n  <thead>\n    <tr style=\"text-align: right;\">\n      <th></th>\n      <th>Channels</th>\n      <th>Gamma</th>\n      <th>Strategy</th>\n      <th>Used Weights</th>\n      <th>F1</th>\n      <th>Precision</th>\n      <th>Recall</th>\n    </tr>\n  </thead>\n  <tbody>\n    <tr>\n      <th>2</th>\n      <td>R, G, NIR, RE</td>\n      <td>0.0</td>\n      <td>Fine-Tuning</td>\n      <td>R, G, G, G</td>\n      <td>0.603</td>\n      <td>0.593</td>\n      <td>0.774</td>\n    </tr>\n    <tr>\n      <th>6</th>\n      <td>CIR</td>\n      <td>0.0</td>\n      <td>Fine-Tuning</td>\n      <td>0</td>\n      <td>0.622</td>\n      <td>0.622</td>\n      <td>0.702</td>\n    </tr>\n    <tr>\n      <th>10</th>\n      <td>NDVI</td>\n      <td>0.0</td>\n      <td>Fine-Tuning</td>\n      <td>G</td>\n      <td>0.587</td>\n      <td>0.523</td>\n      <td>0.870</td>\n    </tr>\n    <tr>\n      <th>3</th>\n      <td>R, G, NIR, RE</td>\n      <td>0.0</td>\n      <td>Freeze</td>\n      <td>R, G, G, G</td>\n      <td>0.530</td>\n      <td>0.494</td>\n      <td>0.773</td>\n    </tr>\n    <tr>\n      <th>7</th>\n      <td>CIR</td>\n      <td>0.0</td>\n      <td>Freeze</td>\n      <td>0</td>\n      <td>0.592</td>\n      <td>0.532</td>\n      <td>0.817</td>\n    </tr>\n    <tr>\n      <th>9</th>\n      <td>NDVI</td>\n      <td>2.0</td>\n      <td>Freeze</td>\n      <td>G</td>\n      <td>0.567</td>\n      <td>0.703</td>\n      <td>0.508</td>\n    </tr>\n  </tbody>\n</table>\n</div>"
     },
     "execution_count": 336,
     "metadata": {},
     "output_type": "execute_result"
    }
   ],
   "source": [
    "best_runs"
   ],
   "metadata": {
    "collapsed": false,
    "pycharm": {
     "name": "#%%\n"
    }
   }
  },
  {
   "cell_type": "code",
   "execution_count": null,
   "outputs": [],
   "source": [
    "selected_runs.to_csv(\"../../exps/laweed-complete.csv\")"
   ],
   "metadata": {
    "collapsed": false,
    "pycharm": {
     "name": "#%%\n"
    }
   }
  },
  {
   "cell_type": "markdown",
   "source": [
    "## Double Laweed"
   ],
   "metadata": {
    "collapsed": false,
    "pycharm": {
     "name": "#%% md\n"
    }
   }
  },
  {
   "cell_type": "code",
   "execution_count": 6,
   "outputs": [],
   "source": [
    "filters = {\n",
    "    '$or': [{'group': 'DoubleLaweedPrBatch'}, {'group': 'DoubleLaweedPrDropBatch'}]\n",
    "}\n",
    "selected_cols = [\n",
    "    'in_params.dataset.channels',\n",
    "    'in_params.train_params.loss.params.gamma',\n",
    "    'in_params.model.params.fusion_type',\n",
    "    'f1',\n",
    "    'precision',\n",
    "    'recall'\n",
    "]\n",
    "roundings = ['F1', 'Precision', 'Recall']"
   ],
   "metadata": {
    "collapsed": false,
    "pycharm": {
     "name": "#%%\n"
    }
   }
  },
  {
   "cell_type": "code",
   "execution_count": 7,
   "outputs": [
    {
     "data": {
      "text/plain": "['hyper_params.arch_params.schema',\n 'hyper_params.arch_params.sync_bn',\n 'hyper_params.arch_params.backbone',\n 'hyper_params.arch_params.fusion_type',\n 'hyper_params.arch_params.in_channels',\n 'hyper_params.arch_params.num_classes',\n 'hyper_params.arch_params.out_channels',\n 'hyper_params.arch_params.main_channels',\n 'hyper_params.arch_params.input_channels',\n 'hyper_params.arch_params.output_channels',\n 'hyper_params.arch_params.side_pretrained',\n 'hyper_params.arch_params.backbone_pretrained',\n 'hyper_params.dataset_params.root',\n 'hyper_params.dataset_params.size',\n 'hyper_params.dataset_params.schema',\n 'hyper_params.dataset_params.s3_link',\n 'hyper_params.dataset_params.channels',\n 'hyper_params.dataset_params.hor_flip',\n 'hyper_params.dataset_params.ver_flip',\n 'hyper_params.dataset_params.crop_size',\n 'hyper_params.dataset_params.batch_size',\n 'hyper_params.dataset_params.dataset_dir',\n 'hyper_params.dataset_params.num_classes',\n 'hyper_params.dataset_params.num_workers',\n 'hyper_params.dataset_params.return_path',\n 'hyper_params.dataset_params.test_folders',\n 'hyper_params.dataset_params.train_folders',\n 'hyper_params.dataset_params.val_batch_size',\n 'hyper_params.dataset_params.test_batch_size',\n 'hyper_params.additional_log_items.multi_gpu',\n 'hyper_params.additional_log_items.initial_LR',\n 'hyper_params.additional_log_items.device_type',\n 'hyper_params.additional_log_items.num_devices',\n 'hyper_params.additional_log_items.installed_packages',\n 'hyper_params.training_hyperparams.ema',\n 'hyper_params.training_hyperparams.loss',\n 'hyper_params.training_hyperparams.seed',\n 'hyper_params.training_hyperparams.schema.if.properties.lr_mode.const',\n 'hyper_params.training_hyperparams.schema.then.required',\n 'hyper_params.training_hyperparams.schema.type',\n 'hyper_params.training_hyperparams.schema.required',\n 'hyper_params.training_hyperparams.schema.properties.initial_lr.type',\n 'hyper_params.training_hyperparams.schema.properties.initial_lr.maximum',\n 'hyper_params.training_hyperparams.schema.properties.initial_lr.exclusiveMinimum',\n 'hyper_params.training_hyperparams.schema.properties.max_epochs.type',\n 'hyper_params.training_hyperparams.schema.properties.max_epochs.minimum',\n 'hyper_params.training_hyperparams.schema.properties.lr_decay_factor.type',\n 'hyper_params.training_hyperparams.schema.properties.lr_decay_factor.maximum',\n 'hyper_params.training_hyperparams.schema.properties.lr_decay_factor.minimum',\n 'hyper_params.training_hyperparams.schema.properties.lr_warmup_epochs.type',\n 'hyper_params.training_hyperparams.schema.properties.lr_warmup_epochs.maximum',\n 'hyper_params.training_hyperparams.schema.properties.lr_warmup_epochs.minimum',\n 'hyper_params.training_hyperparams.lr_mode',\n 'hyper_params.training_hyperparams.optimizer',\n 'hyper_params.training_hyperparams.sg_logger',\n 'hyper_params.training_hyperparams.initial_lr',\n 'hyper_params.training_hyperparams.lr_updates',\n 'hyper_params.training_hyperparams.max_epochs',\n 'hyper_params.training_hyperparams.precise_bn',\n 'hyper_params.training_hyperparams.save_model',\n 'hyper_params.training_hyperparams.silent_mode',\n 'hyper_params.training_hyperparams.warmup_mode',\n 'hyper_params.training_hyperparams.load_opt_params',\n 'hyper_params.training_hyperparams.metric_to_watch',\n 'hyper_params.training_hyperparams.mixed_precision',\n 'hyper_params.training_hyperparams.phase_callbacks',\n 'hyper_params.training_hyperparams.batch_accumulate',\n 'hyper_params.training_hyperparams.lr_warmup_epochs',\n 'hyper_params.training_hyperparams.optimizer_params.weight_decay',\n 'hyper_params.training_hyperparams.sg_logger_params.tags',\n 'hyper_params.training_hyperparams.sg_logger_params.entity',\n 'hyper_params.training_hyperparams.sg_logger_params.project_name',\n 'hyper_params.training_hyperparams.sg_logger_params.save_logs_remote',\n 'hyper_params.training_hyperparams.sg_logger_params.tensorboard_port',\n 'hyper_params.training_hyperparams.sg_logger_params.launch_tensorboard',\n 'hyper_params.training_hyperparams.sg_logger_params.tb_files_user_prompt',\n 'hyper_params.training_hyperparams.sg_logger_params.save_checkpoints_remote',\n 'hyper_params.training_hyperparams.sg_logger_params.save_tensorboard_remote',\n 'hyper_params.training_hyperparams.tensorboard_port',\n 'hyper_params.training_hyperparams.freeze_pretrained',\n 'hyper_params.training_hyperparams.warmup_initial_lr',\n 'hyper_params.training_hyperparams.dataset_statistics',\n 'hyper_params.training_hyperparams.launch_tensorboard',\n 'hyper_params.training_hyperparams.train_metrics_list',\n 'hyper_params.training_hyperparams.valid_metrics_list',\n 'hyper_params.training_hyperparams.average_best_models',\n 'hyper_params.training_hyperparams.run_validation_freq',\n 'hyper_params.training_hyperparams.save_full_train_log',\n 'hyper_params.training_hyperparams.step_lr_update_freq',\n 'hyper_params.training_hyperparams.lr_schedule_function',\n 'hyper_params.training_hyperparams.save_ckpt_epoch_list',\n 'hyper_params.training_hyperparams.tb_files_user_prompt',\n 'hyper_params.training_hyperparams.cosine_final_lr_ratio',\n 'hyper_params.training_hyperparams.precise_bn_batch_size',\n 'hyper_params.training_hyperparams.log_installed_packages',\n 'hyper_params.training_hyperparams.save_tensorboard_to_s3',\n 'hyper_params.training_hyperparams.loss_logging_items_names',\n 'hyper_params.training_hyperparams.zero_weight_decay_on_bias_and_bn',\n 'hyper_params.training_hyperparams.greater_metric_to_watch_is_better']"
     },
     "metadata": {},
     "output_type": "display_data"
    }
   ],
   "source": [
    "runs_df = get_runs(filters)\n",
    "remove_hyp(runs_df)"
   ],
   "metadata": {
    "collapsed": false,
    "pycharm": {
     "name": "#%%\n"
    }
   }
  },
  {
   "cell_type": "code",
   "execution_count": 8,
   "outputs": [],
   "source": [
    "projected_runs = runs_df[\n",
    "    selected_cols\n",
    "]\n",
    "# selected_runs = projected_runs[projected_runs['in_params.model.params.backbone'] == 'MiT-B0']\n",
    "selected_runs = projected_runs"
   ],
   "metadata": {
    "collapsed": false,
    "pycharm": {
     "name": "#%%\n"
    }
   }
  },
  {
   "cell_type": "code",
   "execution_count": 9,
   "outputs": [
    {
     "name": "stderr",
     "output_type": "stream",
     "text": [
      "C:\\Users\\pasqu\\AppData\\Local\\Temp\\ipykernel_29512\\4234819445.py:1: SettingWithCopyWarning: \n",
      "A value is trying to be set on a copy of a slice from a DataFrame\n",
      "\n",
      "See the caveats in the documentation: https://pandas.pydata.org/pandas-docs/stable/user_guide/indexing.html#returning-a-view-versus-a-copy\n",
      "  selected_runs.rename(columns=renamings, inplace=True)\n",
      "C:\\Users\\pasqu\\AppData\\Local\\Temp\\ipykernel_29512\\4234819445.py:2: SettingWithCopyWarning: \n",
      "A value is trying to be set on a copy of a slice from a DataFrame\n",
      "\n",
      "See the caveats in the documentation: https://pandas.pydata.org/pandas-docs/stable/user_guide/indexing.html#returning-a-view-versus-a-copy\n",
      "  selected_runs['DropPath'].fillna('conv_sum', inplace=True)\n",
      "C:\\Users\\pasqu\\AppData\\Local\\Temp\\ipykernel_29512\\2999623128.py:34: SettingWithCopyWarning: \n",
      "A value is trying to be set on a copy of a slice from a DataFrame.\n",
      "Try using .loc[row_indexer,col_indexer] = value instead\n",
      "\n",
      "See the caveats in the documentation: https://pandas.pydata.org/pandas-docs/stable/user_guide/indexing.html#returning-a-view-versus-a-copy\n",
      "  df[column] = df[column].replace(values)\n",
      "C:\\Users\\pasqu\\AppData\\Local\\Temp\\ipykernel_29512\\4234819445.py:4: SettingWithCopyWarning: \n",
      "A value is trying to be set on a copy of a slice from a DataFrame.\n",
      "Try using .loc[row_indexer,col_indexer] = value instead\n",
      "\n",
      "See the caveats in the documentation: https://pandas.pydata.org/pandas-docs/stable/user_guide/indexing.html#returning-a-view-versus-a-copy\n",
      "  selected_runs[roundings] = selected_runs[roundings].round(5)\n",
      "C:\\Users\\pasqu\\AppData\\Local\\Temp\\ipykernel_29512\\4234819445.py:5: SettingWithCopyWarning: \n",
      "A value is trying to be set on a copy of a slice from a DataFrame\n",
      "\n",
      "See the caveats in the documentation: https://pandas.pydata.org/pandas-docs/stable/user_guide/indexing.html#returning-a-view-versus-a-copy\n",
      "  selected_runs['Gamma'].fillna(0, inplace=True)\n",
      "C:\\Users\\pasqu\\AppData\\Local\\Temp\\ipykernel_29512\\4234819445.py:10: SettingWithCopyWarning: \n",
      "A value is trying to be set on a copy of a slice from a DataFrame\n",
      "\n",
      "See the caveats in the documentation: https://pandas.pydata.org/pandas-docs/stable/user_guide/indexing.html#returning-a-view-versus-a-copy\n",
      "  best_runs.sort_values(by=['Channels'], key=lambda x: x.apply(lambda k: channels_ordering[k]), inplace=True)\n",
      "C:\\Users\\pasqu\\AppData\\Local\\Temp\\ipykernel_29512\\4234819445.py:11: SettingWithCopyWarning: \n",
      "A value is trying to be set on a copy of a slice from a DataFrame.\n",
      "Try using .loc[row_indexer,col_indexer] = value instead\n",
      "\n",
      "See the caveats in the documentation: https://pandas.pydata.org/pandas-docs/stable/user_guide/indexing.html#returning-a-view-versus-a-copy\n",
      "  best_runs[roundings] = best_runs[roundings].round(3)\n"
     ]
    }
   ],
   "source": [
    "selected_runs.rename(columns=renamings, inplace=True)\n",
    "selected_runs['DropPath'].fillna('conv_sum', inplace=True)\n",
    "rename_values(selected_runs, value_renamings)\n",
    "selected_runs[roundings] = selected_runs[roundings].round(5)\n",
    "selected_runs['Gamma'].fillna(0, inplace=True)\n",
    "selected_runs = selected_runs.applymap(lambda x: ', '.join(x) if isinstance(x, list) else x)\n",
    "\n",
    "idx = selected_runs.groupby(by=['Channels'])['F1'].transform(max) == selected_runs['F1']\n",
    "best_runs = selected_runs[idx]\n",
    "best_runs.sort_values(by=['Channels'], key=lambda x: x.apply(lambda k: channels_ordering[k]), inplace=True)\n",
    "best_runs[roundings] = best_runs[roundings].round(3)\n",
    "selected_runs[roundings] = selected_runs[roundings].round(3)"
   ],
   "metadata": {
    "collapsed": false,
    "pycharm": {
     "name": "#%%\n"
    }
   }
  },
  {
   "cell_type": "code",
   "execution_count": 12,
   "outputs": [
    {
     "data": {
      "text/plain": "         Channels Gamma DropPath     F1  Precision  Recall\n0        R, G, RE   2.0      Yes  0.481      0.658   0.439\n1      R, G, NDVI   2.0      Yes  0.555      0.662   0.519\n2       R, G, NIR   2.0      Yes  0.459      0.615   0.429\n3   R, G, NIR, RE   2.0      Yes  0.417      0.668   0.382\n4        R, G, RE     0      Yes  0.524      0.551   0.726\n5      R, G, NDVI     0      Yes  0.591      0.537   0.901\n6       R, G, NIR     0      Yes  0.517      0.549   0.593\n7   R, G, NIR, RE     0      Yes  0.593      0.581   0.636\n8        R, G, RE   2.0       No  0.465      0.649   0.445\n9      R, G, NDVI   2.0       No  0.599      0.676   0.563\n10      R, G, NIR   2.0       No  0.409      0.643   0.398\n11  R, G, NIR, RE   2.0       No  0.386      0.651   0.365\n12       R, G, RE     0       No  0.533      0.559   0.696\n13     R, G, NDVI     0       No  0.591      0.525   0.917\n14      R, G, NIR     0       No  0.465      0.543   0.597\n15  R, G, NIR, RE     0       No  0.470      0.582   0.618",
      "text/html": "<div>\n<style scoped>\n    .dataframe tbody tr th:only-of-type {\n        vertical-align: middle;\n    }\n\n    .dataframe tbody tr th {\n        vertical-align: top;\n    }\n\n    .dataframe thead th {\n        text-align: right;\n    }\n</style>\n<table border=\"1\" class=\"dataframe\">\n  <thead>\n    <tr style=\"text-align: right;\">\n      <th></th>\n      <th>Channels</th>\n      <th>Gamma</th>\n      <th>DropPath</th>\n      <th>F1</th>\n      <th>Precision</th>\n      <th>Recall</th>\n    </tr>\n  </thead>\n  <tbody>\n    <tr>\n      <th>0</th>\n      <td>R, G, RE</td>\n      <td>2.0</td>\n      <td>Yes</td>\n      <td>0.481</td>\n      <td>0.658</td>\n      <td>0.439</td>\n    </tr>\n    <tr>\n      <th>1</th>\n      <td>R, G, NDVI</td>\n      <td>2.0</td>\n      <td>Yes</td>\n      <td>0.555</td>\n      <td>0.662</td>\n      <td>0.519</td>\n    </tr>\n    <tr>\n      <th>2</th>\n      <td>R, G, NIR</td>\n      <td>2.0</td>\n      <td>Yes</td>\n      <td>0.459</td>\n      <td>0.615</td>\n      <td>0.429</td>\n    </tr>\n    <tr>\n      <th>3</th>\n      <td>R, G, NIR, RE</td>\n      <td>2.0</td>\n      <td>Yes</td>\n      <td>0.417</td>\n      <td>0.668</td>\n      <td>0.382</td>\n    </tr>\n    <tr>\n      <th>4</th>\n      <td>R, G, RE</td>\n      <td>0</td>\n      <td>Yes</td>\n      <td>0.524</td>\n      <td>0.551</td>\n      <td>0.726</td>\n    </tr>\n    <tr>\n      <th>5</th>\n      <td>R, G, NDVI</td>\n      <td>0</td>\n      <td>Yes</td>\n      <td>0.591</td>\n      <td>0.537</td>\n      <td>0.901</td>\n    </tr>\n    <tr>\n      <th>6</th>\n      <td>R, G, NIR</td>\n      <td>0</td>\n      <td>Yes</td>\n      <td>0.517</td>\n      <td>0.549</td>\n      <td>0.593</td>\n    </tr>\n    <tr>\n      <th>7</th>\n      <td>R, G, NIR, RE</td>\n      <td>0</td>\n      <td>Yes</td>\n      <td>0.593</td>\n      <td>0.581</td>\n      <td>0.636</td>\n    </tr>\n    <tr>\n      <th>8</th>\n      <td>R, G, RE</td>\n      <td>2.0</td>\n      <td>No</td>\n      <td>0.465</td>\n      <td>0.649</td>\n      <td>0.445</td>\n    </tr>\n    <tr>\n      <th>9</th>\n      <td>R, G, NDVI</td>\n      <td>2.0</td>\n      <td>No</td>\n      <td>0.599</td>\n      <td>0.676</td>\n      <td>0.563</td>\n    </tr>\n    <tr>\n      <th>10</th>\n      <td>R, G, NIR</td>\n      <td>2.0</td>\n      <td>No</td>\n      <td>0.409</td>\n      <td>0.643</td>\n      <td>0.398</td>\n    </tr>\n    <tr>\n      <th>11</th>\n      <td>R, G, NIR, RE</td>\n      <td>2.0</td>\n      <td>No</td>\n      <td>0.386</td>\n      <td>0.651</td>\n      <td>0.365</td>\n    </tr>\n    <tr>\n      <th>12</th>\n      <td>R, G, RE</td>\n      <td>0</td>\n      <td>No</td>\n      <td>0.533</td>\n      <td>0.559</td>\n      <td>0.696</td>\n    </tr>\n    <tr>\n      <th>13</th>\n      <td>R, G, NDVI</td>\n      <td>0</td>\n      <td>No</td>\n      <td>0.591</td>\n      <td>0.525</td>\n      <td>0.917</td>\n    </tr>\n    <tr>\n      <th>14</th>\n      <td>R, G, NIR</td>\n      <td>0</td>\n      <td>No</td>\n      <td>0.465</td>\n      <td>0.543</td>\n      <td>0.597</td>\n    </tr>\n    <tr>\n      <th>15</th>\n      <td>R, G, NIR, RE</td>\n      <td>0</td>\n      <td>No</td>\n      <td>0.470</td>\n      <td>0.582</td>\n      <td>0.618</td>\n    </tr>\n  </tbody>\n</table>\n</div>"
     },
     "execution_count": 12,
     "metadata": {},
     "output_type": "execute_result"
    }
   ],
   "source": [
    "selected_runs"
   ],
   "metadata": {
    "collapsed": false,
    "pycharm": {
     "name": "#%%\n"
    }
   }
  },
  {
   "cell_type": "code",
   "execution_count": 13,
   "outputs": [],
   "source": [
    "selected_runs.to_csv(\"../../exps/doublelaweed-complete.csv\")"
   ],
   "metadata": {
    "collapsed": false,
    "pycharm": {
     "name": "#%%\n"
    }
   }
  },
  {
   "cell_type": "code",
   "execution_count": 36,
   "outputs": [
    {
     "data": {
      "text/plain": "['hyper_params.arch_params.schema',\n 'hyper_params.arch_params.sync_bn',\n 'hyper_params.arch_params.backbone',\n 'hyper_params.arch_params.fusion_type',\n 'hyper_params.arch_params.in_channels',\n 'hyper_params.arch_params.num_classes',\n 'hyper_params.arch_params.out_channels',\n 'hyper_params.arch_params.main_channels',\n 'hyper_params.arch_params.input_channels',\n 'hyper_params.arch_params.output_channels',\n 'hyper_params.arch_params.side_pretrained',\n 'hyper_params.arch_params.backbone_pretrained',\n 'hyper_params.dataset_params.root',\n 'hyper_params.dataset_params.size',\n 'hyper_params.dataset_params.schema',\n 'hyper_params.dataset_params.s3_link',\n 'hyper_params.dataset_params.channels',\n 'hyper_params.dataset_params.hor_flip',\n 'hyper_params.dataset_params.ver_flip',\n 'hyper_params.dataset_params.crop_size',\n 'hyper_params.dataset_params.batch_size',\n 'hyper_params.dataset_params.dataset_dir',\n 'hyper_params.dataset_params.num_classes',\n 'hyper_params.dataset_params.num_workers',\n 'hyper_params.dataset_params.return_path',\n 'hyper_params.dataset_params.test_folders',\n 'hyper_params.dataset_params.train_folders',\n 'hyper_params.dataset_params.val_batch_size',\n 'hyper_params.dataset_params.test_batch_size',\n 'hyper_params.additional_log_items.multi_gpu',\n 'hyper_params.additional_log_items.initial_LR',\n 'hyper_params.additional_log_items.device_type',\n 'hyper_params.additional_log_items.num_devices',\n 'hyper_params.additional_log_items.installed_packages',\n 'hyper_params.training_hyperparams.ema',\n 'hyper_params.training_hyperparams.loss',\n 'hyper_params.training_hyperparams.seed',\n 'hyper_params.training_hyperparams.schema.if.properties.lr_mode.const',\n 'hyper_params.training_hyperparams.schema.then.required',\n 'hyper_params.training_hyperparams.schema.type',\n 'hyper_params.training_hyperparams.schema.required',\n 'hyper_params.training_hyperparams.schema.properties.initial_lr.type',\n 'hyper_params.training_hyperparams.schema.properties.initial_lr.maximum',\n 'hyper_params.training_hyperparams.schema.properties.initial_lr.exclusiveMinimum',\n 'hyper_params.training_hyperparams.schema.properties.max_epochs.type',\n 'hyper_params.training_hyperparams.schema.properties.max_epochs.minimum',\n 'hyper_params.training_hyperparams.schema.properties.lr_decay_factor.type',\n 'hyper_params.training_hyperparams.schema.properties.lr_decay_factor.maximum',\n 'hyper_params.training_hyperparams.schema.properties.lr_decay_factor.minimum',\n 'hyper_params.training_hyperparams.schema.properties.lr_warmup_epochs.type',\n 'hyper_params.training_hyperparams.schema.properties.lr_warmup_epochs.maximum',\n 'hyper_params.training_hyperparams.schema.properties.lr_warmup_epochs.minimum',\n 'hyper_params.training_hyperparams.lr_mode',\n 'hyper_params.training_hyperparams.optimizer',\n 'hyper_params.training_hyperparams.sg_logger',\n 'hyper_params.training_hyperparams.initial_lr',\n 'hyper_params.training_hyperparams.lr_updates',\n 'hyper_params.training_hyperparams.max_epochs',\n 'hyper_params.training_hyperparams.precise_bn',\n 'hyper_params.training_hyperparams.save_model',\n 'hyper_params.training_hyperparams.silent_mode',\n 'hyper_params.training_hyperparams.warmup_mode',\n 'hyper_params.training_hyperparams.load_opt_params',\n 'hyper_params.training_hyperparams.metric_to_watch',\n 'hyper_params.training_hyperparams.mixed_precision',\n 'hyper_params.training_hyperparams.phase_callbacks',\n 'hyper_params.training_hyperparams.batch_accumulate',\n 'hyper_params.training_hyperparams.lr_warmup_epochs',\n 'hyper_params.training_hyperparams.optimizer_params.weight_decay',\n 'hyper_params.training_hyperparams.sg_logger_params.tags',\n 'hyper_params.training_hyperparams.sg_logger_params.entity',\n 'hyper_params.training_hyperparams.sg_logger_params.project_name',\n 'hyper_params.training_hyperparams.sg_logger_params.save_logs_remote',\n 'hyper_params.training_hyperparams.sg_logger_params.tensorboard_port',\n 'hyper_params.training_hyperparams.sg_logger_params.launch_tensorboard',\n 'hyper_params.training_hyperparams.sg_logger_params.tb_files_user_prompt',\n 'hyper_params.training_hyperparams.sg_logger_params.save_checkpoints_remote',\n 'hyper_params.training_hyperparams.sg_logger_params.save_tensorboard_remote',\n 'hyper_params.training_hyperparams.tensorboard_port',\n 'hyper_params.training_hyperparams.freeze_pretrained',\n 'hyper_params.training_hyperparams.warmup_initial_lr',\n 'hyper_params.training_hyperparams.dataset_statistics',\n 'hyper_params.training_hyperparams.launch_tensorboard',\n 'hyper_params.training_hyperparams.train_metrics_list',\n 'hyper_params.training_hyperparams.valid_metrics_list',\n 'hyper_params.training_hyperparams.average_best_models',\n 'hyper_params.training_hyperparams.run_validation_freq',\n 'hyper_params.training_hyperparams.save_full_train_log',\n 'hyper_params.training_hyperparams.step_lr_update_freq',\n 'hyper_params.training_hyperparams.lr_schedule_function',\n 'hyper_params.training_hyperparams.save_ckpt_epoch_list',\n 'hyper_params.training_hyperparams.tb_files_user_prompt',\n 'hyper_params.training_hyperparams.cosine_final_lr_ratio',\n 'hyper_params.training_hyperparams.precise_bn_batch_size',\n 'hyper_params.training_hyperparams.log_installed_packages',\n 'hyper_params.training_hyperparams.save_tensorboard_to_s3',\n 'hyper_params.training_hyperparams.loss_logging_items_names',\n 'hyper_params.training_hyperparams.zero_weight_decay_on_bias_and_bn',\n 'hyper_params.training_hyperparams.greater_metric_to_watch_is_better']"
     },
     "metadata": {},
     "output_type": "display_data"
    }
   ],
   "source": [
    "filters = {\n",
    "    '$or': [{'group': 'DoubleLaweedPrBatch'}, {'group': 'DoubleLaweedPrDropBatch'},{'group': 'DLPretrainedDrop'}]\n",
    "}\n",
    "selected_cols = [\n",
    "    'in_params.dataset.channels',\n",
    "    'in_params.train_params.loss.params.gamma',\n",
    "    'in_params.model.params.fusion_type',\n",
    "    'in_params.model.name',\n",
    "    'f1',\n",
    "]\n",
    "roundings = ['F1']\n",
    "runs_df = get_runs(filters)\n",
    "remove_hyp(runs_df)"
   ],
   "metadata": {
    "collapsed": false,
    "pycharm": {
     "name": "#%%\n"
    }
   }
  },
  {
   "cell_type": "code",
   "execution_count": 37,
   "outputs": [],
   "source": [
    "projected_runs = runs_df[\n",
    "    selected_cols\n",
    "]\n",
    "selected_runs = projected_runs"
   ],
   "metadata": {
    "collapsed": false,
    "pycharm": {
     "name": "#%%\n"
    }
   }
  },
  {
   "cell_type": "code",
   "execution_count": 38,
   "outputs": [
    {
     "data": {
      "text/plain": "   in_params.dataset.channels in_params.train_params.loss.params.gamma  \\\n0             [R, G, NIR, RE]                                      2.0   \n1                  [R, G, RE]                                      2.0   \n2                [R, G, NDVI]                                      2.0   \n3                 [R, G, NIR]                                      2.0   \n4             [R, G, NIR, RE]                                      NaN   \n5                  [R, G, RE]                                      NaN   \n6                [R, G, NDVI]                                      NaN   \n7                 [R, G, NIR]                                      NaN   \n8                  [R, G, RE]                                      2.0   \n9                [R, G, NDVI]                                      2.0   \n10                [R, G, NIR]                                      2.0   \n11            [R, G, NIR, RE]                                      2.0   \n12                 [R, G, RE]                                      NaN   \n13               [R, G, NDVI]                                      NaN   \n14                [R, G, NIR]                                      NaN   \n15            [R, G, NIR, RE]                                      NaN   \n16                 [R, G, RE]                                      2.0   \n17               [R, G, NDVI]                                      2.0   \n18                [R, G, NIR]                                      2.0   \n19            [R, G, NIR, RE]                                      2.0   \n20                 [R, G, RE]                                      NaN   \n21               [R, G, NDVI]                                      NaN   \n22                [R, G, NIR]                                      NaN   \n23            [R, G, NIR, RE]                                      NaN   \n24            [R, G, NIR, RE]                                      2.0   \n25                 [R, G, RE]                                      2.0   \n26               [R, G, NDVI]                                      2.0   \n27                [R, G, NIR]                                      2.0   \n28            [R, G, NIR, RE]                                      NaN   \n29                 [R, G, RE]                                      NaN   \n30               [R, G, NDVI]                                      NaN   \n31                [R, G, NIR]                                      NaN   \n\n   in_params.model.params.fusion_type in_params.model.name        f1  \n0                       conv_sum_drop          doublelawin  0.405533  \n1                       conv_sum_drop          doublelawin  0.433094  \n2                       conv_sum_drop          doublelawin  0.579506  \n3                       conv_sum_drop          doublelawin  0.481747  \n4                       conv_sum_drop          doublelawin  0.558757  \n5                       conv_sum_drop          doublelawin  0.540953  \n6                       conv_sum_drop          doublelawin  0.594600  \n7                       conv_sum_drop          doublelawin  0.510344  \n8                       conv_sum_drop         doublelaweed  0.481271  \n9                       conv_sum_drop         doublelaweed  0.555112  \n10                      conv_sum_drop         doublelaweed  0.458942  \n11                      conv_sum_drop         doublelaweed  0.417217  \n12                      conv_sum_drop         doublelaweed  0.524405  \n13                      conv_sum_drop         doublelaweed  0.590582  \n14                      conv_sum_drop         doublelaweed  0.516671  \n15                      conv_sum_drop         doublelaweed  0.593412  \n16                                NaN         doublelaweed  0.465071  \n17                                NaN         doublelaweed  0.599053  \n18                                NaN         doublelaweed  0.408610  \n19                                NaN         doublelaweed  0.385545  \n20                                NaN         doublelaweed  0.532997  \n21                                NaN         doublelaweed  0.590763  \n22                                NaN         doublelaweed  0.464843  \n23                                NaN         doublelaweed  0.469760  \n24                                NaN          doublelawin  0.429655  \n25                                NaN          doublelawin  0.458471  \n26                                NaN          doublelawin  0.539588  \n27                                NaN          doublelawin  0.404478  \n28                                NaN          doublelawin  0.559576  \n29                                NaN          doublelawin  0.534969  \n30                                NaN          doublelawin  0.503574  \n31                                NaN          doublelawin  0.480836  ",
      "text/html": "<div>\n<style scoped>\n    .dataframe tbody tr th:only-of-type {\n        vertical-align: middle;\n    }\n\n    .dataframe tbody tr th {\n        vertical-align: top;\n    }\n\n    .dataframe thead th {\n        text-align: right;\n    }\n</style>\n<table border=\"1\" class=\"dataframe\">\n  <thead>\n    <tr style=\"text-align: right;\">\n      <th></th>\n      <th>in_params.dataset.channels</th>\n      <th>in_params.train_params.loss.params.gamma</th>\n      <th>in_params.model.params.fusion_type</th>\n      <th>in_params.model.name</th>\n      <th>f1</th>\n    </tr>\n  </thead>\n  <tbody>\n    <tr>\n      <th>0</th>\n      <td>[R, G, NIR, RE]</td>\n      <td>2.0</td>\n      <td>conv_sum_drop</td>\n      <td>doublelawin</td>\n      <td>0.405533</td>\n    </tr>\n    <tr>\n      <th>1</th>\n      <td>[R, G, RE]</td>\n      <td>2.0</td>\n      <td>conv_sum_drop</td>\n      <td>doublelawin</td>\n      <td>0.433094</td>\n    </tr>\n    <tr>\n      <th>2</th>\n      <td>[R, G, NDVI]</td>\n      <td>2.0</td>\n      <td>conv_sum_drop</td>\n      <td>doublelawin</td>\n      <td>0.579506</td>\n    </tr>\n    <tr>\n      <th>3</th>\n      <td>[R, G, NIR]</td>\n      <td>2.0</td>\n      <td>conv_sum_drop</td>\n      <td>doublelawin</td>\n      <td>0.481747</td>\n    </tr>\n    <tr>\n      <th>4</th>\n      <td>[R, G, NIR, RE]</td>\n      <td>NaN</td>\n      <td>conv_sum_drop</td>\n      <td>doublelawin</td>\n      <td>0.558757</td>\n    </tr>\n    <tr>\n      <th>5</th>\n      <td>[R, G, RE]</td>\n      <td>NaN</td>\n      <td>conv_sum_drop</td>\n      <td>doublelawin</td>\n      <td>0.540953</td>\n    </tr>\n    <tr>\n      <th>6</th>\n      <td>[R, G, NDVI]</td>\n      <td>NaN</td>\n      <td>conv_sum_drop</td>\n      <td>doublelawin</td>\n      <td>0.594600</td>\n    </tr>\n    <tr>\n      <th>7</th>\n      <td>[R, G, NIR]</td>\n      <td>NaN</td>\n      <td>conv_sum_drop</td>\n      <td>doublelawin</td>\n      <td>0.510344</td>\n    </tr>\n    <tr>\n      <th>8</th>\n      <td>[R, G, RE]</td>\n      <td>2.0</td>\n      <td>conv_sum_drop</td>\n      <td>doublelaweed</td>\n      <td>0.481271</td>\n    </tr>\n    <tr>\n      <th>9</th>\n      <td>[R, G, NDVI]</td>\n      <td>2.0</td>\n      <td>conv_sum_drop</td>\n      <td>doublelaweed</td>\n      <td>0.555112</td>\n    </tr>\n    <tr>\n      <th>10</th>\n      <td>[R, G, NIR]</td>\n      <td>2.0</td>\n      <td>conv_sum_drop</td>\n      <td>doublelaweed</td>\n      <td>0.458942</td>\n    </tr>\n    <tr>\n      <th>11</th>\n      <td>[R, G, NIR, RE]</td>\n      <td>2.0</td>\n      <td>conv_sum_drop</td>\n      <td>doublelaweed</td>\n      <td>0.417217</td>\n    </tr>\n    <tr>\n      <th>12</th>\n      <td>[R, G, RE]</td>\n      <td>NaN</td>\n      <td>conv_sum_drop</td>\n      <td>doublelaweed</td>\n      <td>0.524405</td>\n    </tr>\n    <tr>\n      <th>13</th>\n      <td>[R, G, NDVI]</td>\n      <td>NaN</td>\n      <td>conv_sum_drop</td>\n      <td>doublelaweed</td>\n      <td>0.590582</td>\n    </tr>\n    <tr>\n      <th>14</th>\n      <td>[R, G, NIR]</td>\n      <td>NaN</td>\n      <td>conv_sum_drop</td>\n      <td>doublelaweed</td>\n      <td>0.516671</td>\n    </tr>\n    <tr>\n      <th>15</th>\n      <td>[R, G, NIR, RE]</td>\n      <td>NaN</td>\n      <td>conv_sum_drop</td>\n      <td>doublelaweed</td>\n      <td>0.593412</td>\n    </tr>\n    <tr>\n      <th>16</th>\n      <td>[R, G, RE]</td>\n      <td>2.0</td>\n      <td>NaN</td>\n      <td>doublelaweed</td>\n      <td>0.465071</td>\n    </tr>\n    <tr>\n      <th>17</th>\n      <td>[R, G, NDVI]</td>\n      <td>2.0</td>\n      <td>NaN</td>\n      <td>doublelaweed</td>\n      <td>0.599053</td>\n    </tr>\n    <tr>\n      <th>18</th>\n      <td>[R, G, NIR]</td>\n      <td>2.0</td>\n      <td>NaN</td>\n      <td>doublelaweed</td>\n      <td>0.408610</td>\n    </tr>\n    <tr>\n      <th>19</th>\n      <td>[R, G, NIR, RE]</td>\n      <td>2.0</td>\n      <td>NaN</td>\n      <td>doublelaweed</td>\n      <td>0.385545</td>\n    </tr>\n    <tr>\n      <th>20</th>\n      <td>[R, G, RE]</td>\n      <td>NaN</td>\n      <td>NaN</td>\n      <td>doublelaweed</td>\n      <td>0.532997</td>\n    </tr>\n    <tr>\n      <th>21</th>\n      <td>[R, G, NDVI]</td>\n      <td>NaN</td>\n      <td>NaN</td>\n      <td>doublelaweed</td>\n      <td>0.590763</td>\n    </tr>\n    <tr>\n      <th>22</th>\n      <td>[R, G, NIR]</td>\n      <td>NaN</td>\n      <td>NaN</td>\n      <td>doublelaweed</td>\n      <td>0.464843</td>\n    </tr>\n    <tr>\n      <th>23</th>\n      <td>[R, G, NIR, RE]</td>\n      <td>NaN</td>\n      <td>NaN</td>\n      <td>doublelaweed</td>\n      <td>0.469760</td>\n    </tr>\n    <tr>\n      <th>24</th>\n      <td>[R, G, NIR, RE]</td>\n      <td>2.0</td>\n      <td>NaN</td>\n      <td>doublelawin</td>\n      <td>0.429655</td>\n    </tr>\n    <tr>\n      <th>25</th>\n      <td>[R, G, RE]</td>\n      <td>2.0</td>\n      <td>NaN</td>\n      <td>doublelawin</td>\n      <td>0.458471</td>\n    </tr>\n    <tr>\n      <th>26</th>\n      <td>[R, G, NDVI]</td>\n      <td>2.0</td>\n      <td>NaN</td>\n      <td>doublelawin</td>\n      <td>0.539588</td>\n    </tr>\n    <tr>\n      <th>27</th>\n      <td>[R, G, NIR]</td>\n      <td>2.0</td>\n      <td>NaN</td>\n      <td>doublelawin</td>\n      <td>0.404478</td>\n    </tr>\n    <tr>\n      <th>28</th>\n      <td>[R, G, NIR, RE]</td>\n      <td>NaN</td>\n      <td>NaN</td>\n      <td>doublelawin</td>\n      <td>0.559576</td>\n    </tr>\n    <tr>\n      <th>29</th>\n      <td>[R, G, RE]</td>\n      <td>NaN</td>\n      <td>NaN</td>\n      <td>doublelawin</td>\n      <td>0.534969</td>\n    </tr>\n    <tr>\n      <th>30</th>\n      <td>[R, G, NDVI]</td>\n      <td>NaN</td>\n      <td>NaN</td>\n      <td>doublelawin</td>\n      <td>0.503574</td>\n    </tr>\n    <tr>\n      <th>31</th>\n      <td>[R, G, NIR]</td>\n      <td>NaN</td>\n      <td>NaN</td>\n      <td>doublelawin</td>\n      <td>0.480836</td>\n    </tr>\n  </tbody>\n</table>\n</div>"
     },
     "execution_count": 38,
     "metadata": {},
     "output_type": "execute_result"
    }
   ],
   "source": [
    "selected_runs"
   ],
   "metadata": {
    "collapsed": false,
    "pycharm": {
     "name": "#%%\n"
    }
   }
  },
  {
   "cell_type": "code",
   "execution_count": 39,
   "outputs": [
    {
     "name": "stderr",
     "output_type": "stream",
     "text": [
      "C:\\Users\\pasqu\\AppData\\Local\\Temp\\ipykernel_29512\\2955175917.py:1: SettingWithCopyWarning: \n",
      "A value is trying to be set on a copy of a slice from a DataFrame\n",
      "\n",
      "See the caveats in the documentation: https://pandas.pydata.org/pandas-docs/stable/user_guide/indexing.html#returning-a-view-versus-a-copy\n",
      "  selected_runs.rename(columns=renamings, inplace=True)\n",
      "C:\\Users\\pasqu\\AppData\\Local\\Temp\\ipykernel_29512\\2955175917.py:2: SettingWithCopyWarning: \n",
      "A value is trying to be set on a copy of a slice from a DataFrame\n",
      "\n",
      "See the caveats in the documentation: https://pandas.pydata.org/pandas-docs/stable/user_guide/indexing.html#returning-a-view-versus-a-copy\n",
      "  selected_runs['DropPath'].fillna('conv_sum', inplace=True)\n",
      "C:\\Users\\pasqu\\AppData\\Local\\Temp\\ipykernel_29512\\2999623128.py:34: SettingWithCopyWarning: \n",
      "A value is trying to be set on a copy of a slice from a DataFrame.\n",
      "Try using .loc[row_indexer,col_indexer] = value instead\n",
      "\n",
      "See the caveats in the documentation: https://pandas.pydata.org/pandas-docs/stable/user_guide/indexing.html#returning-a-view-versus-a-copy\n",
      "  df[column] = df[column].replace(values)\n",
      "C:\\Users\\pasqu\\AppData\\Local\\Temp\\ipykernel_29512\\2955175917.py:4: SettingWithCopyWarning: \n",
      "A value is trying to be set on a copy of a slice from a DataFrame.\n",
      "Try using .loc[row_indexer,col_indexer] = value instead\n",
      "\n",
      "See the caveats in the documentation: https://pandas.pydata.org/pandas-docs/stable/user_guide/indexing.html#returning-a-view-versus-a-copy\n",
      "  selected_runs[roundings] = selected_runs[roundings].round(5)\n",
      "C:\\Users\\pasqu\\AppData\\Local\\Temp\\ipykernel_29512\\2955175917.py:5: SettingWithCopyWarning: \n",
      "A value is trying to be set on a copy of a slice from a DataFrame\n",
      "\n",
      "See the caveats in the documentation: https://pandas.pydata.org/pandas-docs/stable/user_guide/indexing.html#returning-a-view-versus-a-copy\n",
      "  selected_runs['Gamma'].fillna(0, inplace=True)\n"
     ]
    }
   ],
   "source": [
    "selected_runs.rename(columns=renamings, inplace=True)\n",
    "selected_runs['DropPath'].fillna('conv_sum', inplace=True)\n",
    "rename_values(selected_runs, value_renamings)\n",
    "selected_runs[roundings] = selected_runs[roundings].round(5)\n",
    "selected_runs['Gamma'].fillna(0, inplace=True)\n",
    "selected_runs = selected_runs.applymap(lambda x: ', '.join(x) if isinstance(x, list) else x)\n",
    "\n",
    "selected_runs[roundings] = selected_runs[roundings].round(3)\n",
    "selected_runs.sort_values(by=['Channels'],\n",
    "                          key=lambda x: x.apply(lambda k: channels_ordering[k]), inplace=True)\n",
    "\n"
   ],
   "metadata": {
    "collapsed": false,
    "pycharm": {
     "name": "#%%\n"
    }
   }
  },
  {
   "cell_type": "code",
   "execution_count": 40,
   "outputs": [
    {
     "name": "stderr",
     "output_type": "stream",
     "text": [
      "C:\\Users\\pasqu\\AppData\\Local\\Temp\\ipykernel_29512\\3963619940.py:3: SettingWithCopyWarning: \n",
      "A value is trying to be set on a copy of a slice from a DataFrame\n",
      "\n",
      "See the caveats in the documentation: https://pandas.pydata.org/pandas-docs/stable/user_guide/indexing.html#returning-a-view-versus-a-copy\n",
      "  best_runs.sort_values(by=['Model', 'Channels'], key=lambda x: x.apply(lambda k: channels_ordering[k]), inplace=True)\n",
      "C:\\Users\\pasqu\\AppData\\Local\\Temp\\ipykernel_29512\\3963619940.py:4: SettingWithCopyWarning: \n",
      "A value is trying to be set on a copy of a slice from a DataFrame.\n",
      "Try using .loc[row_indexer,col_indexer] = value instead\n",
      "\n",
      "See the caveats in the documentation: https://pandas.pydata.org/pandas-docs/stable/user_guide/indexing.html#returning-a-view-versus-a-copy\n",
      "  best_runs[roundings] = best_runs[roundings].round(3)\n"
     ]
    },
    {
     "data": {
      "text/plain": "         Channels Gamma DropPath         Model     F1\n28  R, G, NIR, RE     0       No   doublelawin  0.560\n5        R, G, RE     0      Yes   doublelawin  0.541\n7       R, G, NIR     0      Yes   doublelawin  0.510\n6      R, G, NDVI     0      Yes   doublelawin  0.595\n15  R, G, NIR, RE     0      Yes  doublelaweed  0.593\n20       R, G, RE     0       No  doublelaweed  0.533\n14      R, G, NIR     0      Yes  doublelaweed  0.517\n17     R, G, NDVI   2.0       No  doublelaweed  0.599",
      "text/html": "<div>\n<style scoped>\n    .dataframe tbody tr th:only-of-type {\n        vertical-align: middle;\n    }\n\n    .dataframe tbody tr th {\n        vertical-align: top;\n    }\n\n    .dataframe thead th {\n        text-align: right;\n    }\n</style>\n<table border=\"1\" class=\"dataframe\">\n  <thead>\n    <tr style=\"text-align: right;\">\n      <th></th>\n      <th>Channels</th>\n      <th>Gamma</th>\n      <th>DropPath</th>\n      <th>Model</th>\n      <th>F1</th>\n    </tr>\n  </thead>\n  <tbody>\n    <tr>\n      <th>28</th>\n      <td>R, G, NIR, RE</td>\n      <td>0</td>\n      <td>No</td>\n      <td>doublelawin</td>\n      <td>0.560</td>\n    </tr>\n    <tr>\n      <th>5</th>\n      <td>R, G, RE</td>\n      <td>0</td>\n      <td>Yes</td>\n      <td>doublelawin</td>\n      <td>0.541</td>\n    </tr>\n    <tr>\n      <th>7</th>\n      <td>R, G, NIR</td>\n      <td>0</td>\n      <td>Yes</td>\n      <td>doublelawin</td>\n      <td>0.510</td>\n    </tr>\n    <tr>\n      <th>6</th>\n      <td>R, G, NDVI</td>\n      <td>0</td>\n      <td>Yes</td>\n      <td>doublelawin</td>\n      <td>0.595</td>\n    </tr>\n    <tr>\n      <th>15</th>\n      <td>R, G, NIR, RE</td>\n      <td>0</td>\n      <td>Yes</td>\n      <td>doublelaweed</td>\n      <td>0.593</td>\n    </tr>\n    <tr>\n      <th>20</th>\n      <td>R, G, RE</td>\n      <td>0</td>\n      <td>No</td>\n      <td>doublelaweed</td>\n      <td>0.533</td>\n    </tr>\n    <tr>\n      <th>14</th>\n      <td>R, G, NIR</td>\n      <td>0</td>\n      <td>Yes</td>\n      <td>doublelaweed</td>\n      <td>0.517</td>\n    </tr>\n    <tr>\n      <th>17</th>\n      <td>R, G, NDVI</td>\n      <td>2.0</td>\n      <td>No</td>\n      <td>doublelaweed</td>\n      <td>0.599</td>\n    </tr>\n  </tbody>\n</table>\n</div>"
     },
     "execution_count": 40,
     "metadata": {},
     "output_type": "execute_result"
    }
   ],
   "source": [
    "idx = selected_runs.groupby(by=['Channels', 'Model'])['F1'].transform(max) == selected_runs['F1']\n",
    "best_runs = selected_runs[idx]\n",
    "best_runs.sort_values(by=['Model', 'Channels'], key=lambda x: x.apply(lambda k: channels_ordering[k]), inplace=True)\n",
    "best_runs[roundings] = best_runs[roundings].round(3)\n",
    "best_runs"
   ],
   "metadata": {
    "collapsed": false,
    "pycharm": {
     "name": "#%%\n"
    }
   }
  },
  {
   "cell_type": "code",
   "execution_count": 41,
   "outputs": [],
   "source": [
    "compare_runs = best_runs.merge(best_runs, on=['Channels'])"
   ],
   "metadata": {
    "collapsed": false,
    "pycharm": {
     "name": "#%%\n"
    }
   }
  },
  {
   "cell_type": "code",
   "execution_count": 42,
   "outputs": [
    {
     "data": {
      "text/plain": "         Channels Gamma_x DropPath_x       Model_x   F1_x Gamma_y DropPath_y  \\\n0   R, G, NIR, RE       0         No   doublelawin  0.560       0         No   \n1   R, G, NIR, RE       0         No   doublelawin  0.560       0        Yes   \n2   R, G, NIR, RE       0        Yes  doublelaweed  0.593       0         No   \n3   R, G, NIR, RE       0        Yes  doublelaweed  0.593       0        Yes   \n4        R, G, RE       0        Yes   doublelawin  0.541       0        Yes   \n5        R, G, RE       0        Yes   doublelawin  0.541       0         No   \n6        R, G, RE       0         No  doublelaweed  0.533       0        Yes   \n7        R, G, RE       0         No  doublelaweed  0.533       0         No   \n8       R, G, NIR       0        Yes   doublelawin  0.510       0        Yes   \n9       R, G, NIR       0        Yes   doublelawin  0.510       0        Yes   \n10      R, G, NIR       0        Yes  doublelaweed  0.517       0        Yes   \n11      R, G, NIR       0        Yes  doublelaweed  0.517       0        Yes   \n12     R, G, NDVI       0        Yes   doublelawin  0.595       0        Yes   \n13     R, G, NDVI       0        Yes   doublelawin  0.595     2.0         No   \n14     R, G, NDVI     2.0         No  doublelaweed  0.599       0        Yes   \n15     R, G, NDVI     2.0         No  doublelaweed  0.599     2.0         No   \n\n         Model_y   F1_y  \n0    doublelawin  0.560  \n1   doublelaweed  0.593  \n2    doublelawin  0.560  \n3   doublelaweed  0.593  \n4    doublelawin  0.541  \n5   doublelaweed  0.533  \n6    doublelawin  0.541  \n7   doublelaweed  0.533  \n8    doublelawin  0.510  \n9   doublelaweed  0.517  \n10   doublelawin  0.510  \n11  doublelaweed  0.517  \n12   doublelawin  0.595  \n13  doublelaweed  0.599  \n14   doublelawin  0.595  \n15  doublelaweed  0.599  ",
      "text/html": "<div>\n<style scoped>\n    .dataframe tbody tr th:only-of-type {\n        vertical-align: middle;\n    }\n\n    .dataframe tbody tr th {\n        vertical-align: top;\n    }\n\n    .dataframe thead th {\n        text-align: right;\n    }\n</style>\n<table border=\"1\" class=\"dataframe\">\n  <thead>\n    <tr style=\"text-align: right;\">\n      <th></th>\n      <th>Channels</th>\n      <th>Gamma_x</th>\n      <th>DropPath_x</th>\n      <th>Model_x</th>\n      <th>F1_x</th>\n      <th>Gamma_y</th>\n      <th>DropPath_y</th>\n      <th>Model_y</th>\n      <th>F1_y</th>\n    </tr>\n  </thead>\n  <tbody>\n    <tr>\n      <th>0</th>\n      <td>R, G, NIR, RE</td>\n      <td>0</td>\n      <td>No</td>\n      <td>doublelawin</td>\n      <td>0.560</td>\n      <td>0</td>\n      <td>No</td>\n      <td>doublelawin</td>\n      <td>0.560</td>\n    </tr>\n    <tr>\n      <th>1</th>\n      <td>R, G, NIR, RE</td>\n      <td>0</td>\n      <td>No</td>\n      <td>doublelawin</td>\n      <td>0.560</td>\n      <td>0</td>\n      <td>Yes</td>\n      <td>doublelaweed</td>\n      <td>0.593</td>\n    </tr>\n    <tr>\n      <th>2</th>\n      <td>R, G, NIR, RE</td>\n      <td>0</td>\n      <td>Yes</td>\n      <td>doublelaweed</td>\n      <td>0.593</td>\n      <td>0</td>\n      <td>No</td>\n      <td>doublelawin</td>\n      <td>0.560</td>\n    </tr>\n    <tr>\n      <th>3</th>\n      <td>R, G, NIR, RE</td>\n      <td>0</td>\n      <td>Yes</td>\n      <td>doublelaweed</td>\n      <td>0.593</td>\n      <td>0</td>\n      <td>Yes</td>\n      <td>doublelaweed</td>\n      <td>0.593</td>\n    </tr>\n    <tr>\n      <th>4</th>\n      <td>R, G, RE</td>\n      <td>0</td>\n      <td>Yes</td>\n      <td>doublelawin</td>\n      <td>0.541</td>\n      <td>0</td>\n      <td>Yes</td>\n      <td>doublelawin</td>\n      <td>0.541</td>\n    </tr>\n    <tr>\n      <th>5</th>\n      <td>R, G, RE</td>\n      <td>0</td>\n      <td>Yes</td>\n      <td>doublelawin</td>\n      <td>0.541</td>\n      <td>0</td>\n      <td>No</td>\n      <td>doublelaweed</td>\n      <td>0.533</td>\n    </tr>\n    <tr>\n      <th>6</th>\n      <td>R, G, RE</td>\n      <td>0</td>\n      <td>No</td>\n      <td>doublelaweed</td>\n      <td>0.533</td>\n      <td>0</td>\n      <td>Yes</td>\n      <td>doublelawin</td>\n      <td>0.541</td>\n    </tr>\n    <tr>\n      <th>7</th>\n      <td>R, G, RE</td>\n      <td>0</td>\n      <td>No</td>\n      <td>doublelaweed</td>\n      <td>0.533</td>\n      <td>0</td>\n      <td>No</td>\n      <td>doublelaweed</td>\n      <td>0.533</td>\n    </tr>\n    <tr>\n      <th>8</th>\n      <td>R, G, NIR</td>\n      <td>0</td>\n      <td>Yes</td>\n      <td>doublelawin</td>\n      <td>0.510</td>\n      <td>0</td>\n      <td>Yes</td>\n      <td>doublelawin</td>\n      <td>0.510</td>\n    </tr>\n    <tr>\n      <th>9</th>\n      <td>R, G, NIR</td>\n      <td>0</td>\n      <td>Yes</td>\n      <td>doublelawin</td>\n      <td>0.510</td>\n      <td>0</td>\n      <td>Yes</td>\n      <td>doublelaweed</td>\n      <td>0.517</td>\n    </tr>\n    <tr>\n      <th>10</th>\n      <td>R, G, NIR</td>\n      <td>0</td>\n      <td>Yes</td>\n      <td>doublelaweed</td>\n      <td>0.517</td>\n      <td>0</td>\n      <td>Yes</td>\n      <td>doublelawin</td>\n      <td>0.510</td>\n    </tr>\n    <tr>\n      <th>11</th>\n      <td>R, G, NIR</td>\n      <td>0</td>\n      <td>Yes</td>\n      <td>doublelaweed</td>\n      <td>0.517</td>\n      <td>0</td>\n      <td>Yes</td>\n      <td>doublelaweed</td>\n      <td>0.517</td>\n    </tr>\n    <tr>\n      <th>12</th>\n      <td>R, G, NDVI</td>\n      <td>0</td>\n      <td>Yes</td>\n      <td>doublelawin</td>\n      <td>0.595</td>\n      <td>0</td>\n      <td>Yes</td>\n      <td>doublelawin</td>\n      <td>0.595</td>\n    </tr>\n    <tr>\n      <th>13</th>\n      <td>R, G, NDVI</td>\n      <td>0</td>\n      <td>Yes</td>\n      <td>doublelawin</td>\n      <td>0.595</td>\n      <td>2.0</td>\n      <td>No</td>\n      <td>doublelaweed</td>\n      <td>0.599</td>\n    </tr>\n    <tr>\n      <th>14</th>\n      <td>R, G, NDVI</td>\n      <td>2.0</td>\n      <td>No</td>\n      <td>doublelaweed</td>\n      <td>0.599</td>\n      <td>0</td>\n      <td>Yes</td>\n      <td>doublelawin</td>\n      <td>0.595</td>\n    </tr>\n    <tr>\n      <th>15</th>\n      <td>R, G, NDVI</td>\n      <td>2.0</td>\n      <td>No</td>\n      <td>doublelaweed</td>\n      <td>0.599</td>\n      <td>2.0</td>\n      <td>No</td>\n      <td>doublelaweed</td>\n      <td>0.599</td>\n    </tr>\n  </tbody>\n</table>\n</div>"
     },
     "execution_count": 42,
     "metadata": {},
     "output_type": "execute_result"
    }
   ],
   "source": [
    "compare_runs"
   ],
   "metadata": {
    "collapsed": false,
    "pycharm": {
     "name": "#%%\n"
    }
   }
  },
  {
   "cell_type": "code",
   "execution_count": 47,
   "outputs": [
    {
     "data": {
      "text/plain": "         Channels Gamma_x DropPath_x      Model_x   F1_x Gamma_y DropPath_y  \\\n1   R, G, NIR, RE       0         No  doublelawin  0.560       0        Yes   \n5        R, G, RE       0        Yes  doublelawin  0.541       0         No   \n9       R, G, NIR       0        Yes  doublelawin  0.510       0        Yes   \n13     R, G, NDVI       0        Yes  doublelawin  0.595     2.0         No   \n\n         Model_y   F1_y  \n1   doublelaweed  0.593  \n5   doublelaweed  0.533  \n9   doublelaweed  0.517  \n13  doublelaweed  0.599  ",
      "text/html": "<div>\n<style scoped>\n    .dataframe tbody tr th:only-of-type {\n        vertical-align: middle;\n    }\n\n    .dataframe tbody tr th {\n        vertical-align: top;\n    }\n\n    .dataframe thead th {\n        text-align: right;\n    }\n</style>\n<table border=\"1\" class=\"dataframe\">\n  <thead>\n    <tr style=\"text-align: right;\">\n      <th></th>\n      <th>Channels</th>\n      <th>Gamma_x</th>\n      <th>DropPath_x</th>\n      <th>Model_x</th>\n      <th>F1_x</th>\n      <th>Gamma_y</th>\n      <th>DropPath_y</th>\n      <th>Model_y</th>\n      <th>F1_y</th>\n    </tr>\n  </thead>\n  <tbody>\n    <tr>\n      <th>1</th>\n      <td>R, G, NIR, RE</td>\n      <td>0</td>\n      <td>No</td>\n      <td>doublelawin</td>\n      <td>0.560</td>\n      <td>0</td>\n      <td>Yes</td>\n      <td>doublelaweed</td>\n      <td>0.593</td>\n    </tr>\n    <tr>\n      <th>5</th>\n      <td>R, G, RE</td>\n      <td>0</td>\n      <td>Yes</td>\n      <td>doublelawin</td>\n      <td>0.541</td>\n      <td>0</td>\n      <td>No</td>\n      <td>doublelaweed</td>\n      <td>0.533</td>\n    </tr>\n    <tr>\n      <th>9</th>\n      <td>R, G, NIR</td>\n      <td>0</td>\n      <td>Yes</td>\n      <td>doublelawin</td>\n      <td>0.510</td>\n      <td>0</td>\n      <td>Yes</td>\n      <td>doublelaweed</td>\n      <td>0.517</td>\n    </tr>\n    <tr>\n      <th>13</th>\n      <td>R, G, NDVI</td>\n      <td>0</td>\n      <td>Yes</td>\n      <td>doublelawin</td>\n      <td>0.595</td>\n      <td>2.0</td>\n      <td>No</td>\n      <td>doublelaweed</td>\n      <td>0.599</td>\n    </tr>\n  </tbody>\n</table>\n</div>"
     },
     "execution_count": 47,
     "metadata": {},
     "output_type": "execute_result"
    }
   ],
   "source": [
    "compare_runs.drop(compare_runs[compare_runs['Model_x'] == compare_runs['Model_y']].index, inplace=True)\n",
    "compare_runs.drop(compare_runs[compare_runs['Model_x'] == 'doublelaweed'].index, inplace=True)\n",
    "compare_runs"
   ],
   "metadata": {
    "collapsed": false,
    "pycharm": {
     "name": "#%%\n"
    }
   }
  },
  {
   "cell_type": "code",
   "execution_count": 48,
   "outputs": [],
   "source": [
    "compare_runs.to_csv(\"../../exps/doublelaweed.csv\")"
   ],
   "metadata": {
    "collapsed": false,
    "pycharm": {
     "name": "#%%\n"
    }
   }
  },
  {
   "cell_type": "code",
   "execution_count": null,
   "outputs": [],
   "source": [],
   "metadata": {
    "collapsed": false,
    "pycharm": {
     "name": "#%%\n"
    }
   }
  }
 ],
 "metadata": {
  "kernelspec": {
   "display_name": "Python 3",
   "language": "python",
   "name": "python3"
  },
  "language_info": {
   "codemirror_mode": {
    "name": "ipython",
    "version": 2
   },
   "file_extension": ".py",
   "mimetype": "text/x-python",
   "name": "python",
   "nbconvert_exporter": "python",
   "pygments_lexer": "ipython2",
   "version": "2.7.6"
  }
 },
 "nbformat": 4,
 "nbformat_minor": 0
}